{
 "cells": [
  {
   "cell_type": "markdown",
   "id": "b8ffc735",
   "metadata": {},
   "source": [
    "# Проект: Линейные модели в машинном обучении aka Весёлый молочник"
   ]
  },
  {
   "cell_type": "markdown",
   "id": "9f270f1f",
   "metadata": {},
   "source": [
    "## Загрузка данных"
   ]
  },
  {
   "cell_type": "code",
   "execution_count": 1,
   "id": "518c12d8",
   "metadata": {},
   "outputs": [],
   "source": [
    "import pandas as pd\n",
    "import matplotlib.pyplot as plt\n",
    "import numpy as np\n",
    "from scipy import stats as st\n",
    "from math import factorial\n",
    "import math\n",
    "from matplotlib import pyplot\n",
    "from decimal import Decimal\n",
    "import seaborn as sns\n",
    "import scipy.stats as stats\n",
    "from sklearn.preprocessing import StandardScaler\n",
    "from scipy.stats import spearmanr\n",
    "from sklearn.model_selection import train_test_split\n",
    "from sklearn.preprocessing import OneHotEncoder \n",
    "from sklearn.linear_model import LinearRegression\n",
    "from sklearn.metrics import mean_absolute_error\n",
    "from sklearn.metrics import r2_score\n",
    "import random"
   ]
  },
  {
   "cell_type": "code",
   "execution_count": 2,
   "id": "b3341047",
   "metadata": {},
   "outputs": [],
   "source": [
    "SEED = 0xDEAD\n",
    "random.seed(SEED)\n",
    "np.random.seed(SEED)"
   ]
  },
  {
   "cell_type": "code",
   "execution_count": 3,
   "id": "52379940",
   "metadata": {},
   "outputs": [],
   "source": [
    "ferma_main = pd.read_csv('/Users/User/Downloads/ferma_main.csv', sep=';')\n",
    "ferma_dad = pd.read_csv('/Users/User/Downloads/ferma_dad.csv', sep=';')\n",
    "cow_buy = pd.read_csv('/Users/User/Downloads/cow_buy.csv', sep=';')"
   ]
  },
  {
   "cell_type": "code",
   "execution_count": 4,
   "id": "2d2c32af",
   "metadata": {},
   "outputs": [
    {
     "name": "stdout",
     "output_type": "stream",
     "text": [
      "   id  Удой, кг ЭКЕ (Энергетическая кормовая единица)  Сырой протеин, г  \\\n",
      "0   1      5863                                  14,2              1743   \n",
      "1   2      5529                                  12,8              2138   \n",
      "2   3      5810                                    14              1854   \n",
      "3   4      5895                                  12,4              2012   \n",
      "4   5      5302                                  12,8              1675   \n",
      "\n",
      "  СПО (Сахаро-протеиновое соотношение)           Порода Тип пастбища  \\\n",
      "0                                 0,89   Вис Бик Айдиал    Равнинное   \n",
      "1                                 0,89   Вис Бик Айдиал    Равнинные   \n",
      "2                                0,885  РефлешнСоверинг    Холмистое   \n",
      "3                                0,885  РефлешнСоверинг    Холмистое   \n",
      "4                                0,885   Вис Бик Айдиал    Равнинные   \n",
      "\n",
      "  порода папы_быка Жирность,% Белок,% Вкус молока      Возраст  \n",
      "0           Айдиал       3,58   3,076      вкусно  более_2_лет  \n",
      "1          Соверин       3,54   3,079      вкусно  менее_2_лет  \n",
      "2          Соверин       3,59   3,074   не вкусно  более_2_лет  \n",
      "3           Айдиал        3,4   3,075   не вкусно  более_2_лет  \n",
      "4          Соверин       3,73   3,073      вкусно  менее_2_лет  \n",
      "   id  Имя Папы\n",
      "0   1    Буйный\n",
      "1   2  Соловчик\n",
      "2   3     Барин\n",
      "3   4    Буйный\n",
      "4   5     Барин\n",
      "            Порода Тип пастбища порода папы_быка  Имя_папы Текущая_жирность,%  \\\n",
      "0   Вис Бик Айдиал    холмистое           Айдиал  Геркулес               3,58   \n",
      "1   Вис Бик Айдиал    равнинное          Соверин    Буйный               3,54   \n",
      "2  РефлешнСоверинг    равнинное          Соверин     Барин               3,59   \n",
      "3  РефлешнСоверинг    холмистое           Айдиал    Буйный                3,4   \n",
      "4  РефлешнСоверинг    равнинное           Айдиал    Буйный               3,64   \n",
      "\n",
      "  Текущий_уровень_белок,%  \n",
      "0                   3,076  \n",
      "1                   3,081  \n",
      "2                   3,074  \n",
      "3                   3,061  \n",
      "4                   3,074  \n"
     ]
    }
   ],
   "source": [
    "print(ferma_main.head())\n",
    "print(ferma_dad.head())\n",
    "print(cow_buy.head())"
   ]
  },
  {
   "cell_type": "markdown",
   "id": "eaa11197",
   "metadata": {},
   "source": [
    "# Промежуточный вывод\n",
    "\n",
    "   1) Были открыты и просмотрены 3 csv файла, а именно: ferma_main.csv(указаны параметры корма коровы. СПО, порода, тип пастбища, порода папы быка, химические показатели молока коровы, его вкус и возраст), ferma_dad.csv(Имя папы), cow_buy.csv(где указаны порода, тип пастбища, порода папы быка, его имя и текущая жирность молока)\n",
    "   \n",
    "   2) При открытии файла было замечено что данные \"слеплены\" после чего с помощью **``sep=';'``** информация была разделена и всё привидено к читаемому виду"
   ]
  },
  {
   "cell_type": "markdown",
   "id": "d34bbcd3",
   "metadata": {},
   "source": [
    "##  Предобработка данных"
   ]
  },
  {
   "cell_type": "markdown",
   "id": "57fac79e",
   "metadata": {},
   "source": [
    "Проверим тип данных"
   ]
  },
  {
   "cell_type": "code",
   "execution_count": 5,
   "id": "ce7eb1ed",
   "metadata": {},
   "outputs": [
    {
     "name": "stdout",
     "output_type": "stream",
     "text": [
      "<class 'pandas.core.frame.DataFrame'>\n",
      "RangeIndex: 634 entries, 0 to 633\n",
      "Data columns (total 12 columns):\n",
      " #   Column                                 Non-Null Count  Dtype \n",
      "---  ------                                 --------------  ----- \n",
      " 0   id                                     634 non-null    int64 \n",
      " 1   Удой, кг                               634 non-null    int64 \n",
      " 2   ЭКЕ (Энергетическая кормовая единица)  634 non-null    object\n",
      " 3   Сырой протеин, г                       634 non-null    int64 \n",
      " 4   СПО (Сахаро-протеиновое соотношение)   634 non-null    object\n",
      " 5   Порода                                 634 non-null    object\n",
      " 6   Тип пастбища                           634 non-null    object\n",
      " 7   порода папы_быка                       634 non-null    object\n",
      " 8   Жирность,%                             634 non-null    object\n",
      " 9   Белок,%                                634 non-null    object\n",
      " 10  Вкус молока                            634 non-null    object\n",
      " 11  Возраст                                634 non-null    object\n",
      "dtypes: int64(3), object(9)\n",
      "memory usage: 59.6+ KB\n",
      "<class 'pandas.core.frame.DataFrame'>\n",
      "RangeIndex: 629 entries, 0 to 628\n",
      "Data columns (total 2 columns):\n",
      " #   Column    Non-Null Count  Dtype \n",
      "---  ------    --------------  ----- \n",
      " 0   id        629 non-null    int64 \n",
      " 1   Имя Папы  629 non-null    object\n",
      "dtypes: int64(1), object(1)\n",
      "memory usage: 10.0+ KB\n",
      "<class 'pandas.core.frame.DataFrame'>\n",
      "RangeIndex: 20 entries, 0 to 19\n",
      "Data columns (total 6 columns):\n",
      " #   Column                   Non-Null Count  Dtype \n",
      "---  ------                   --------------  ----- \n",
      " 0   Порода                   20 non-null     object\n",
      " 1   Тип пастбища             20 non-null     object\n",
      " 2   порода папы_быка         20 non-null     object\n",
      " 3   Имя_папы                 20 non-null     object\n",
      " 4   Текущая_жирность,%       20 non-null     object\n",
      " 5   Текущий_уровень_белок,%  20 non-null     object\n",
      "dtypes: object(6)\n",
      "memory usage: 1.1+ KB\n"
     ]
    }
   ],
   "source": [
    "ferma_main.info()\n",
    "ferma_dad.info()\n",
    "cow_buy.info()"
   ]
  },
  {
   "cell_type": "markdown",
   "id": "4c456eb7",
   "metadata": {},
   "source": [
    "Заменим тип данных object на float в столбцах: ЭКЕ, СПО, Жирность,%, Белок,%, Текущая_жирность,%, Текущий_уровень_белок,%"
   ]
  },
  {
   "cell_type": "code",
   "execution_count": 6,
   "id": "bd633a21",
   "metadata": {},
   "outputs": [
    {
     "name": "stdout",
     "output_type": "stream",
     "text": [
      "      id  Удой, кг  ЭКЕ (Энергетическая кормовая единица)  Сырой протеин, г  \\\n",
      "0      1      5863                                   14.2              1743   \n",
      "1      2      5529                                   12.8              2138   \n",
      "2      3      5810                                   14.0              1854   \n",
      "3      4      5895                                   12.4              2012   \n",
      "4      5      5302                                   12.8              1675   \n",
      "..   ...       ...                                    ...               ...   \n",
      "629  627      5970                                   14.4              1837   \n",
      "630  627      5970                                   14.4              1837   \n",
      "631  627      5970                                   14.4              1837   \n",
      "632  627      5970                                   14.4              1837   \n",
      "633  627      5970                                   14.4              1837   \n",
      "\n",
      "     СПО (Сахаро-протеиновое соотношение)           Порода Тип пастбища  \\\n",
      "0                                   0.890   Вис Бик Айдиал    Равнинное   \n",
      "1                                   0.890   Вис Бик Айдиал    Равнинные   \n",
      "2                                   0.885  РефлешнСоверинг    Холмистое   \n",
      "3                                   0.885  РефлешнСоверинг    Холмистое   \n",
      "4                                   0.885   Вис Бик Айдиал    Равнинные   \n",
      "..                                    ...              ...          ...   \n",
      "629                                 0.880  РефлешнСоверинг    Холмистое   \n",
      "630                                 0.880  РефлешнСоверинг    Холмистое   \n",
      "631                                 0.880  РефлешнСоверинг    Холмистое   \n",
      "632                                 0.880  РефлешнСоверинг    Холмистое   \n",
      "633                                 0.880  РефлешнСоверинг    Холмистое   \n",
      "\n",
      "    порода папы_быка  Жирность,%  Белок,% Вкус молока      Возраст  \n",
      "0             Айдиал        3.58    3.076      вкусно  более_2_лет  \n",
      "1            Соверин        3.54    3.079      вкусно  менее_2_лет  \n",
      "2            Соверин        3.59    3.074   не вкусно  более_2_лет  \n",
      "3             Айдиал        3.40    3.075   не вкусно  более_2_лет  \n",
      "4            Соверин        3.73    3.073      вкусно  менее_2_лет  \n",
      "..               ...         ...      ...         ...          ...  \n",
      "629          Соверин        3.64    3.075   не вкусно  более_2_лет  \n",
      "630          Соверин        3.64    3.075   не вкусно  более_2_лет  \n",
      "631          Соверин        3.64    3.075   не вкусно  более_2_лет  \n",
      "632          Соверин        3.64    3.075   не вкусно  более_2_лет  \n",
      "633          Соверин        3.64    3.075   не вкусно  более_2_лет  \n",
      "\n",
      "[634 rows x 12 columns]\n",
      "             Порода Тип пастбища порода папы_быка  Имя_папы  \\\n",
      "0    Вис Бик Айдиал    холмистое           Айдиал  Геркулес   \n",
      "1    Вис Бик Айдиал    равнинное          Соверин    Буйный   \n",
      "2   РефлешнСоверинг    равнинное          Соверин     Барин   \n",
      "3   РефлешнСоверинг    холмистое           Айдиал    Буйный   \n",
      "4   РефлешнСоверинг    равнинное           Айдиал    Буйный   \n",
      "5   РефлешнСоверинг    равнинное          Соверин  Геркулес   \n",
      "6    Вис Бик Айдиал    холмистое           Айдиал  Геркулес   \n",
      "7    Вис Бик Айдиал    равнинное          Соверин    Буйный   \n",
      "8   РефлешнСоверинг    равнинное          Соверин     Барин   \n",
      "9   РефлешнСоверинг    холмистое           Айдиал    Буйный   \n",
      "10   Вис Бик Айдиал    холмистое          Соверин  Соловчик   \n",
      "11  РефлешнСоверинг    равнинное          Соверин  Геркулес   \n",
      "12   Вис Бик Айдиал    холмистое           Айдиал  Геркулес   \n",
      "13   Вис Бик Айдиал    холмистое          Соверин     Барин   \n",
      "14  РефлешнСоверинг    равнинное          Соверин     Барин   \n",
      "15  РефлешнСоверинг    холмистое           Айдиал    Буйный   \n",
      "16   Вис Бик Айдиал    холмистое          Соверин  Соловчик   \n",
      "17  РефлешнСоверинг    равнинное          Соверин  Геркулес   \n",
      "18   Вис Бик Айдиал    равнинное          Соверин    Буйный   \n",
      "19  РефлешнСоверинг    равнинное           Айдиал    Буйный   \n",
      "\n",
      "    Текущая_жирность,%  Текущий_уровень_белок,%  \n",
      "0                 3.58                    3.076  \n",
      "1                 3.54                    3.081  \n",
      "2                 3.59                    3.074  \n",
      "3                 3.40                    3.061  \n",
      "4                 3.64                    3.074  \n",
      "5                 3.63                    3.053  \n",
      "6                 3.58                    3.076  \n",
      "7                 3.57                    3.079  \n",
      "8                 3.59                    3.074  \n",
      "9                 3.40                    3.079  \n",
      "10                3.73                    3.055  \n",
      "11                3.73                    3.073  \n",
      "12                3.68                    3.046  \n",
      "13                3.42                    3.075  \n",
      "14                3.59                    3.074  \n",
      "15                3.40                    3.065  \n",
      "16                3.73                    3.079  \n",
      "17                3.77                    3.053  \n",
      "18                3.34                    3.069  \n",
      "19                3.64                    3.074  \n"
     ]
    }
   ],
   "source": [
    "ferma_main[['ЭКЕ (Энергетическая кормовая единица)', 'СПО (Сахаро-протеиновое соотношение)', 'Жирность,%', 'Белок,%']] = ferma_main[['ЭКЕ (Энергетическая кормовая единица)', 'СПО (Сахаро-протеиновое соотношение)', 'Жирность,%', 'Белок,%']].replace(',', '.', regex=True).astype('float')\n",
    "cow_buy[['Текущая_жирность,%', 'Текущий_уровень_белок,%']] = cow_buy[['Текущая_жирность,%', 'Текущий_уровень_белок,%']].replace(',', '.', regex=True).astype('float')\n",
    "print(ferma_main)\n",
    "print(cow_buy)"
   ]
  },
  {
   "cell_type": "code",
   "execution_count": 7,
   "id": "4c27042f",
   "metadata": {},
   "outputs": [
    {
     "name": "stdout",
     "output_type": "stream",
     "text": [
      "<class 'pandas.core.frame.DataFrame'>\n",
      "RangeIndex: 634 entries, 0 to 633\n",
      "Data columns (total 12 columns):\n",
      " #   Column                                 Non-Null Count  Dtype  \n",
      "---  ------                                 --------------  -----  \n",
      " 0   id                                     634 non-null    int64  \n",
      " 1   Удой, кг                               634 non-null    int64  \n",
      " 2   ЭКЕ (Энергетическая кормовая единица)  634 non-null    float64\n",
      " 3   Сырой протеин, г                       634 non-null    int64  \n",
      " 4   СПО (Сахаро-протеиновое соотношение)   634 non-null    float64\n",
      " 5   Порода                                 634 non-null    object \n",
      " 6   Тип пастбища                           634 non-null    object \n",
      " 7   порода папы_быка                       634 non-null    object \n",
      " 8   Жирность,%                             634 non-null    float64\n",
      " 9   Белок,%                                634 non-null    float64\n",
      " 10  Вкус молока                            634 non-null    object \n",
      " 11  Возраст                                634 non-null    object \n",
      "dtypes: float64(4), int64(3), object(5)\n",
      "memory usage: 59.6+ KB\n",
      "<class 'pandas.core.frame.DataFrame'>\n",
      "RangeIndex: 629 entries, 0 to 628\n",
      "Data columns (total 2 columns):\n",
      " #   Column    Non-Null Count  Dtype \n",
      "---  ------    --------------  ----- \n",
      " 0   id        629 non-null    int64 \n",
      " 1   Имя Папы  629 non-null    object\n",
      "dtypes: int64(1), object(1)\n",
      "memory usage: 10.0+ KB\n",
      "<class 'pandas.core.frame.DataFrame'>\n",
      "RangeIndex: 20 entries, 0 to 19\n",
      "Data columns (total 6 columns):\n",
      " #   Column                   Non-Null Count  Dtype  \n",
      "---  ------                   --------------  -----  \n",
      " 0   Порода                   20 non-null     object \n",
      " 1   Тип пастбища             20 non-null     object \n",
      " 2   порода папы_быка         20 non-null     object \n",
      " 3   Имя_папы                 20 non-null     object \n",
      " 4   Текущая_жирность,%       20 non-null     float64\n",
      " 5   Текущий_уровень_белок,%  20 non-null     float64\n",
      "dtypes: float64(2), object(4)\n",
      "memory usage: 1.1+ KB\n"
     ]
    }
   ],
   "source": [
    "ferma_main.info()\n",
    "ferma_dad.info()\n",
    "cow_buy.info()"
   ]
  },
  {
   "cell_type": "code",
   "execution_count": 8,
   "id": "54255786",
   "metadata": {},
   "outputs": [
    {
     "name": "stdout",
     "output_type": "stream",
     "text": [
      "id                                       0\n",
      "Удой, кг                                 0\n",
      "ЭКЕ (Энергетическая кормовая единица)    0\n",
      "Сырой протеин, г                         0\n",
      "СПО (Сахаро-протеиновое соотношение)     0\n",
      "Порода                                   0\n",
      "Тип пастбища                             0\n",
      "порода папы_быка                         0\n",
      "Жирность,%                               0\n",
      "Белок,%                                  0\n",
      "Вкус молока                              0\n",
      "Возраст                                  0\n",
      "dtype: int64\n",
      "id          0\n",
      "Имя Папы    0\n",
      "dtype: int64\n",
      "Порода                     0\n",
      "Тип пастбища               0\n",
      "порода папы_быка           0\n",
      "Имя_папы                   0\n",
      "Текущая_жирность,%         0\n",
      "Текущий_уровень_белок,%    0\n",
      "dtype: int64\n"
     ]
    }
   ],
   "source": [
    "print(ferma_main.isna().sum())\n",
    "print(ferma_dad.isna().sum())\n",
    "print(cow_buy.isna().sum())"
   ]
  },
  {
   "cell_type": "code",
   "execution_count": 9,
   "id": "a05ce7c4",
   "metadata": {},
   "outputs": [
    {
     "name": "stdout",
     "output_type": "stream",
     "text": [
      "id                                       0\n",
      "Удой, кг                                 0\n",
      "ЭКЕ (Энергетическая кормовая единица)    0\n",
      "Сырой протеин, г                         0\n",
      "СПО (Сахаро-протеиновое соотношение)     0\n",
      "Порода                                   0\n",
      "Тип пастбища                             0\n",
      "порода папы_быка                         0\n",
      "Жирность,%                               0\n",
      "Белок,%                                  0\n",
      "Вкус молока                              0\n",
      "Возраст                                  0\n",
      "dtype: int64\n",
      "id          0\n",
      "Имя Папы    0\n",
      "dtype: int64\n",
      "Порода                     0\n",
      "Тип пастбища               0\n",
      "порода папы_быка           0\n",
      "Имя_папы                   0\n",
      "Текущая_жирность,%         0\n",
      "Текущий_уровень_белок,%    0\n",
      "dtype: int64\n"
     ]
    }
   ],
   "source": [
    "print(ferma_main.isnull().sum())\n",
    "print(ferma_dad.isnull().sum())\n",
    "print(cow_buy.isnull().sum())"
   ]
  },
  {
   "cell_type": "markdown",
   "id": "adf80127",
   "metadata": {},
   "source": [
    "Пропусков нет"
   ]
  },
  {
   "cell_type": "code",
   "execution_count": 10,
   "id": "a009f24e",
   "metadata": {},
   "outputs": [
    {
     "name": "stdout",
     "output_type": "stream",
     "text": [
      "5\n",
      "0\n",
      "4\n"
     ]
    }
   ],
   "source": [
    "print(ferma_main.duplicated().sum())\n",
    "print(ferma_dad.duplicated().sum())\n",
    "print(cow_buy.duplicated().sum())"
   ]
  },
  {
   "cell_type": "code",
   "execution_count": 11,
   "id": "481c13d5",
   "metadata": {},
   "outputs": [
    {
     "name": "stdout",
     "output_type": "stream",
     "text": [
      "0\n",
      "0\n",
      "0\n"
     ]
    }
   ],
   "source": [
    "ferma_main = ferma_main.drop_duplicates()\n",
    "cow_buy = cow_buy.drop_duplicates()\n",
    "print(ferma_main.duplicated().sum())\n",
    "print(ferma_dad.duplicated().sum())\n",
    "print(cow_buy.duplicated().sum())"
   ]
  },
  {
   "cell_type": "markdown",
   "id": "7908e6bf",
   "metadata": {},
   "source": [
    "Теперь и дубликатов нет"
   ]
  },
  {
   "cell_type": "markdown",
   "id": "69b00c5b",
   "metadata": {},
   "source": [
    "# Новое"
   ]
  },
  {
   "cell_type": "code",
   "execution_count": 12,
   "id": "00736a45",
   "metadata": {},
   "outputs": [],
   "source": [
    "ferma_main['Тип пастбища'] = ferma_main['Тип пастбища'].replace(['Равнинное', 'Равнинные'], 'Равнинное')\n",
    "ferma_main['порода папы_быка'] = ferma_main['порода папы_быка'].replace(['Айдиалл', 'Айдиал'], 'Айдиал')\n",
    "ferma_main[['ЭКЕ (Энергетическая кормовая единица)', 'СПО (Сахаро-протеиновое соотношение)', 'Жирность,%', 'Белок,%']] = ferma_main[['ЭКЕ (Энергетическая кормовая единица)', 'СПО (Сахаро-протеиновое соотношение)', 'Жирность,%', 'Белок,%']].replace(',', '.', regex=True).astype('float')"
   ]
  },
  {
   "cell_type": "code",
   "execution_count": 13,
   "id": "53f643b5",
   "metadata": {},
   "outputs": [],
   "source": [
    "X = ferma_main.drop(['Жирность,%', 'Белок,%', 'Вкус молока', 'Удой, кг'], axis=1)\n",
    "y = ferma_main['Удой, кг']"
   ]
  },
  {
   "cell_type": "code",
   "execution_count": 14,
   "id": "9f202605",
   "metadata": {},
   "outputs": [],
   "source": [
    "from sklearn.model_selection import train_test_split\n",
    "\n",
    "\n",
    "\n",
    "# разделите данные на тренировочные и тестовые, зафиксируйте random_state\n",
    "X_train, X_test, y_train, y_test = train_test_split(X,\n",
    "                                                    y,\n",
    "                                                    random_state=SEED)"
   ]
  },
  {
   "cell_type": "code",
   "execution_count": 15,
   "id": "171c49bc",
   "metadata": {},
   "outputs": [],
   "source": [
    "from sklearn.preprocessing import OneHotEncoder\n",
    "\n",
    "encoder = OneHotEncoder(sparse = False)\n",
    "cat_col_names = ['Порода', 'Тип пастбища',\t'порода папы_быка',\t'Возраст']\n",
    "# обучите и трансформируйте категориальные признаки из тренировочной выборки\n",
    "# сделайте это одной командой\n",
    "X_train_ohe = encoder.fit_transform(X_train[cat_col_names])\n",
    "X_test_ohe = encoder.transform(X_test[cat_col_names])\n",
    "\n",
    "# получите от кодировщика список новых столбцов и сохраните в новой переменной\n",
    "encoder_col_names = encoder.get_feature_names()\n",
    "\n",
    "# создаём тренировочный и тестовый датафреймы из закодированных и отмасштабированных данных\n",
    "# для данных OHE названия столбцов укажите из переменной encoder_col_names\n",
    "X_train_ohe = pd.DataFrame(X_train_ohe, columns=encoder_col_names)\n",
    "X_test_ohe = pd.DataFrame(X_test_ohe, columns=encoder_col_names)"
   ]
  },
  {
   "cell_type": "code",
   "execution_count": 16,
   "id": "5f3302c2",
   "metadata": {},
   "outputs": [],
   "source": [
    "from sklearn.preprocessing import StandardScaler\n",
    "\n",
    "scaler = StandardScaler()\n",
    "num_col_names = ['ЭКЕ (Энергетическая кормовая единица)', 'Сырой протеин, г', 'СПО (Сахаро-протеиновое соотношение)']\n",
    "X_train_scaled = scaler.fit_transform(X_train[num_col_names])\n",
    "X_test_scaled = scaler.transform(X_test[num_col_names])"
   ]
  },
  {
   "cell_type": "code",
   "execution_count": 17,
   "id": "d5681f20",
   "metadata": {},
   "outputs": [
    {
     "name": "stdout",
     "output_type": "stream",
     "text": [
      "Размерность матрицы обучающей выборки: (471, 8)\n",
      "Размерность вектора целевого признака: (471,)\n",
      "Размерность матрицы тестовой выборки: (158, 8)\n",
      "Размерность вектора целевого признака: (158,)\n"
     ]
    }
   ],
   "source": [
    "X_train_scaled = pd.DataFrame(X_train_scaled, columns=num_col_names)\n",
    "X_test_scaled = pd.DataFrame(X_test_scaled, columns=num_col_names)\n",
    "print(\"Размерность матрицы обучающей выборки:\", X_train.shape)\n",
    "print(\"Размерность вектора целевого признака:\", y_train.shape)\n",
    "print(\"Размерность матрицы тестовой выборки:\", X_test.shape)\n",
    "print(\"Размерность вектора целевого признака:\", y_test.shape)"
   ]
  },
  {
   "cell_type": "code",
   "execution_count": 18,
   "id": "d84b73ce",
   "metadata": {},
   "outputs": [
    {
     "name": "stdout",
     "output_type": "stream",
     "text": [
      "Размерность матрицы обучающей выборки: (471, 11)\n",
      "Размерность вектора обучающей выборки: (471,)\n",
      "Размерность матрицы тестовой выборки: (158, 11)\n",
      "Размерность вектора тестовой выборки: (158,)\n",
      "   x0_Вис Бик Айдиал  x0_РефлешнСоверинг  x1_Равнинное  x1_Холмистое  \\\n",
      "0                0.0                 1.0           1.0           0.0   \n",
      "1                1.0                 0.0           1.0           0.0   \n",
      "2                0.0                 1.0           0.0           1.0   \n",
      "3                1.0                 0.0           0.0           1.0   \n",
      "4                1.0                 0.0           1.0           0.0   \n",
      "\n",
      "   x2_Айдиал  x2_Соверин  x3_более_2_лет  x3_менее_2_лет  \\\n",
      "0        0.0         1.0             1.0             0.0   \n",
      "1        0.0         1.0             1.0             0.0   \n",
      "2        0.0         1.0             1.0             0.0   \n",
      "3        1.0         0.0             1.0             0.0   \n",
      "4        1.0         0.0             1.0             0.0   \n",
      "\n",
      "   ЭКЕ (Энергетическая кормовая единица)  Сырой протеин, г  \\\n",
      "0                               0.812136          0.069735   \n",
      "1                               0.433857          0.336062   \n",
      "2                              -0.095734         -0.468354   \n",
      "3                               0.206889          1.852495   \n",
      "4                              -1.079261          0.140393   \n",
      "\n",
      "   СПО (Сахаро-протеиновое соотношение)  \n",
      "0                              0.844689  \n",
      "1                              0.542143  \n",
      "2                             -0.970590  \n",
      "3                              0.542143  \n",
      "4                             -0.970590  \n"
     ]
    }
   ],
   "source": [
    "# объединение всех преобразованных данных в тренировочный и тестовый датафреймы\n",
    "X_train = pd.concat([X_train_ohe, X_train_scaled], axis=1).reset_index(drop=True)\n",
    "X_test = pd.concat([X_test_ohe, X_test_scaled], axis=1).reset_index(drop=True)\n",
    "print(\"Размерность матрицы обучающей выборки:\", X_train.shape)\n",
    "print(\"Размерность вектора обучающей выборки:\", y_train.shape)\n",
    "print(\"Размерность матрицы тестовой выборки:\", X_test.shape)\n",
    "print(\"Размерность вектора тестовой выборки:\", y_test.shape)\n",
    "# вывести пять первых строк из тренировочного датафрейма\n",
    "print(X_train.head(5))"
   ]
  },
  {
   "cell_type": "code",
   "execution_count": 19,
   "id": "df40b0df",
   "metadata": {},
   "outputs": [
    {
     "data": {
      "text/plain": [
       "LinearRegression()"
      ]
     },
     "execution_count": 19,
     "metadata": {},
     "output_type": "execute_result"
    }
   ],
   "source": [
    "from sklearn.linear_model import LinearRegression\n",
    "\n",
    "model_lr_1 = LinearRegression()\n",
    "model_lr_1.fit(X_train, y_train)\n",
    "model_lr_1"
   ]
  },
  {
   "cell_type": "code",
   "execution_count": 20,
   "id": "1de1c3dd",
   "metadata": {},
   "outputs": [
    {
     "name": "stdout",
     "output_type": "stream",
     "text": [
      "MAE = 369\n"
     ]
    }
   ],
   "source": [
    "from sklearn.metrics import mean_absolute_error\n",
    "\n",
    "predictions = model_lr_1.predict(X_test)\n",
    "mae = mean_absolute_error(y_test, predictions)\n",
    "print(f'MAE = {mae:.0f}')"
   ]
  },
  {
   "cell_type": "code",
   "execution_count": 21,
   "id": "ba2059c4",
   "metadata": {},
   "outputs": [
    {
     "name": "stdout",
     "output_type": "stream",
     "text": [
      "R2 LinearRegression = 0.12917300022050515\n"
     ]
    }
   ],
   "source": [
    "from sklearn.metrics import r2_score\n",
    "\n",
    "# рассчитайте значения R2 для линейной регрессии\n",
    "r2_lr = r2_score(y_test, predictions)\n",
    "\n",
    "# выведите полученное значение R2\n",
    "print(\"R2 LinearRegression =\", r2_lr)"
   ]
  },
  {
   "cell_type": "code",
   "execution_count": 22,
   "id": "b4aab819",
   "metadata": {},
   "outputs": [
    {
     "data": {
      "image/png": "[encoded data removed]",
      "text/plain": [
       "<Figure size 720x360 with 2 Axes>"
      ]
     },
     "metadata": {
      "needs_background": "light"
     },
     "output_type": "display_data"
    }
   ],
   "source": [
    "import matplotlib.pyplot as plt\n",
    "\n",
    "residuals = y_test - predictions\n",
    "\n",
    "# постройте графики по количественным признакам — гистограмму частотности\n",
    "# распределения и диаграмму рассеяния\n",
    "fig, axes = plt.subplots(nrows=1, ncols=2, figsize=(10,5))\n",
    "axes[0].hist(residuals)\n",
    "axes[0].set_title('Гистограмма распределения остатков')\n",
    "axes[0].set_xlabel('Остатки')\n",
    "\n",
    "axes[1].scatter(predictions, residuals)\n",
    "axes[1].set_xlabel('Предсказания модели')\n",
    "axes[1].set_ylabel('Остатки')\n",
    "axes[1].set_title('Анализ дисперсии')\n",
    "plt.show()"
   ]
  },
  {
   "cell_type": "markdown",
   "id": "7604e109",
   "metadata": {},
   "source": [
    "# Подпункт 2 шага 5 \n",
    "Постройте модель линейной регрессии с учётом преобразования признаков, нелинейно связанных с целевым признаком"
   ]
  },
  {
   "cell_type": "code",
   "execution_count": 23,
   "id": "65c12bab",
   "metadata": {},
   "outputs": [
    {
     "data": {
      "text/plain": [
       "<AxesSubplot:title={'center':'Диаграмма рассеяния для величин СПО и удой'}, xlabel='Удой, кг', ylabel='СПО (Сахаро-протеиновое соотношение)'>"
      ]
     },
     "execution_count": 23,
     "metadata": {},
     "output_type": "execute_result"
    },
    {
     "data": {
      "image/png": "[encoded data removed]",
      "text/plain": [
       "<Figure size 432x288 with 1 Axes>"
      ]
     },
     "metadata": {
      "needs_background": "light"
     },
     "output_type": "display_data"
    }
   ],
   "source": [
    "ferma_main[ferma_main['Удой, кг'] < 40000].plot(x='Удой, кг',\n",
    "                y='СПО (Сахаро-протеиновое соотношение)',\n",
    "                kind='scatter',\n",
    "                grid=True,\n",
    "                title = 'Диаграмма рассеяния для величин СПО и удой')"
   ]
  },
  {
   "cell_type": "markdown",
   "id": "4fe0d50d",
   "metadata": {},
   "source": [
    "Граница нелинейности 0,91"
   ]
  },
  {
   "cell_type": "code",
   "execution_count": 24,
   "id": "b089a76f",
   "metadata": {},
   "outputs": [
    {
     "data": {
      "text/html": [
       "<div>\n",
       "<style scoped>\n",
       "    .dataframe tbody tr th:only-of-type {\n",
       "        vertical-align: middle;\n",
       "    }\n",
       "\n",
       "    .dataframe tbody tr th {\n",
       "        vertical-align: top;\n",
       "    }\n",
       "\n",
       "    .dataframe thead th {\n",
       "        text-align: right;\n",
       "    }\n",
       "</style>\n",
       "<table border=\"1\" class=\"dataframe\">\n",
       "  <thead>\n",
       "    <tr style=\"text-align: right;\">\n",
       "      <th></th>\n",
       "      <th>id</th>\n",
       "      <th>Удой, кг</th>\n",
       "      <th>ЭКЕ (Энергетическая кормовая единица)</th>\n",
       "      <th>Сырой протеин, г</th>\n",
       "      <th>СПО (Сахаро-протеиновое соотношение)</th>\n",
       "      <th>Порода</th>\n",
       "      <th>Тип пастбища</th>\n",
       "      <th>порода папы_быка</th>\n",
       "      <th>Жирность,%</th>\n",
       "      <th>Белок,%</th>\n",
       "      <th>Вкус молока</th>\n",
       "      <th>Возраст</th>\n",
       "    </tr>\n",
       "  </thead>\n",
       "  <tbody>\n",
       "    <tr>\n",
       "      <th>0</th>\n",
       "      <td>1</td>\n",
       "      <td>5863</td>\n",
       "      <td>14.2</td>\n",
       "      <td>1743</td>\n",
       "      <td>0.890</td>\n",
       "      <td>Вис Бик Айдиал</td>\n",
       "      <td>Равнинное</td>\n",
       "      <td>Айдиал</td>\n",
       "      <td>3.58</td>\n",
       "      <td>3.076</td>\n",
       "      <td>вкусно</td>\n",
       "      <td>более_2_лет</td>\n",
       "    </tr>\n",
       "    <tr>\n",
       "      <th>1</th>\n",
       "      <td>2</td>\n",
       "      <td>5529</td>\n",
       "      <td>12.8</td>\n",
       "      <td>2138</td>\n",
       "      <td>0.890</td>\n",
       "      <td>Вис Бик Айдиал</td>\n",
       "      <td>Равнинное</td>\n",
       "      <td>Соверин</td>\n",
       "      <td>3.54</td>\n",
       "      <td>3.079</td>\n",
       "      <td>вкусно</td>\n",
       "      <td>менее_2_лет</td>\n",
       "    </tr>\n",
       "    <tr>\n",
       "      <th>2</th>\n",
       "      <td>3</td>\n",
       "      <td>5810</td>\n",
       "      <td>14.0</td>\n",
       "      <td>1854</td>\n",
       "      <td>0.885</td>\n",
       "      <td>РефлешнСоверинг</td>\n",
       "      <td>Холмистое</td>\n",
       "      <td>Соверин</td>\n",
       "      <td>3.59</td>\n",
       "      <td>3.074</td>\n",
       "      <td>не вкусно</td>\n",
       "      <td>более_2_лет</td>\n",
       "    </tr>\n",
       "    <tr>\n",
       "      <th>3</th>\n",
       "      <td>4</td>\n",
       "      <td>5895</td>\n",
       "      <td>12.4</td>\n",
       "      <td>2012</td>\n",
       "      <td>0.885</td>\n",
       "      <td>РефлешнСоверинг</td>\n",
       "      <td>Холмистое</td>\n",
       "      <td>Айдиал</td>\n",
       "      <td>3.40</td>\n",
       "      <td>3.075</td>\n",
       "      <td>не вкусно</td>\n",
       "      <td>более_2_лет</td>\n",
       "    </tr>\n",
       "    <tr>\n",
       "      <th>4</th>\n",
       "      <td>5</td>\n",
       "      <td>5302</td>\n",
       "      <td>12.8</td>\n",
       "      <td>1675</td>\n",
       "      <td>0.885</td>\n",
       "      <td>Вис Бик Айдиал</td>\n",
       "      <td>Равнинное</td>\n",
       "      <td>Соверин</td>\n",
       "      <td>3.73</td>\n",
       "      <td>3.073</td>\n",
       "      <td>вкусно</td>\n",
       "      <td>менее_2_лет</td>\n",
       "    </tr>\n",
       "    <tr>\n",
       "      <th>...</th>\n",
       "      <td>...</td>\n",
       "      <td>...</td>\n",
       "      <td>...</td>\n",
       "      <td>...</td>\n",
       "      <td>...</td>\n",
       "      <td>...</td>\n",
       "      <td>...</td>\n",
       "      <td>...</td>\n",
       "      <td>...</td>\n",
       "      <td>...</td>\n",
       "      <td>...</td>\n",
       "      <td>...</td>\n",
       "    </tr>\n",
       "    <tr>\n",
       "      <th>614</th>\n",
       "      <td>615</td>\n",
       "      <td>5741</td>\n",
       "      <td>12.9</td>\n",
       "      <td>1749</td>\n",
       "      <td>0.880</td>\n",
       "      <td>РефлешнСоверинг</td>\n",
       "      <td>Холмистое</td>\n",
       "      <td>Айдиал</td>\n",
       "      <td>3.44</td>\n",
       "      <td>3.076</td>\n",
       "      <td>вкусно</td>\n",
       "      <td>более_2_лет</td>\n",
       "    </tr>\n",
       "    <tr>\n",
       "      <th>623</th>\n",
       "      <td>624</td>\n",
       "      <td>5928</td>\n",
       "      <td>13.6</td>\n",
       "      <td>1832</td>\n",
       "      <td>0.880</td>\n",
       "      <td>РефлешнСоверинг</td>\n",
       "      <td>Холмистое</td>\n",
       "      <td>Соверин</td>\n",
       "      <td>3.64</td>\n",
       "      <td>3.077</td>\n",
       "      <td>не вкусно</td>\n",
       "      <td>более_2_лет</td>\n",
       "    </tr>\n",
       "    <tr>\n",
       "      <th>625</th>\n",
       "      <td>626</td>\n",
       "      <td>5513</td>\n",
       "      <td>12.9</td>\n",
       "      <td>1700</td>\n",
       "      <td>0.880</td>\n",
       "      <td>РефлешнСоверинг</td>\n",
       "      <td>Равнинное</td>\n",
       "      <td>Соверин</td>\n",
       "      <td>3.64</td>\n",
       "      <td>3.073</td>\n",
       "      <td>вкусно</td>\n",
       "      <td>менее_2_лет</td>\n",
       "    </tr>\n",
       "    <tr>\n",
       "      <th>626</th>\n",
       "      <td>627</td>\n",
       "      <td>5970</td>\n",
       "      <td>14.4</td>\n",
       "      <td>1837</td>\n",
       "      <td>0.880</td>\n",
       "      <td>РефлешнСоверинг</td>\n",
       "      <td>Холмистое</td>\n",
       "      <td>Соверин</td>\n",
       "      <td>3.64</td>\n",
       "      <td>3.075</td>\n",
       "      <td>не вкусно</td>\n",
       "      <td>более_2_лет</td>\n",
       "    </tr>\n",
       "    <tr>\n",
       "      <th>627</th>\n",
       "      <td>628</td>\n",
       "      <td>5746</td>\n",
       "      <td>13.8</td>\n",
       "      <td>1994</td>\n",
       "      <td>0.890</td>\n",
       "      <td>РефлешнСоверинг</td>\n",
       "      <td>Равнинное</td>\n",
       "      <td>Соверин</td>\n",
       "      <td>3.64</td>\n",
       "      <td>3.077</td>\n",
       "      <td>вкусно</td>\n",
       "      <td>более_2_лет</td>\n",
       "    </tr>\n",
       "  </tbody>\n",
       "</table>\n",
       "<p>258 rows × 12 columns</p>\n",
       "</div>"
      ],
      "text/plain": [
       "      id  Удой, кг  ЭКЕ (Энергетическая кормовая единица)  Сырой протеин, г  \\\n",
       "0      1      5863                                   14.2              1743   \n",
       "1      2      5529                                   12.8              2138   \n",
       "2      3      5810                                   14.0              1854   \n",
       "3      4      5895                                   12.4              2012   \n",
       "4      5      5302                                   12.8              1675   \n",
       "..   ...       ...                                    ...               ...   \n",
       "614  615      5741                                   12.9              1749   \n",
       "623  624      5928                                   13.6              1832   \n",
       "625  626      5513                                   12.9              1700   \n",
       "626  627      5970                                   14.4              1837   \n",
       "627  628      5746                                   13.8              1994   \n",
       "\n",
       "     СПО (Сахаро-протеиновое соотношение)           Порода Тип пастбища  \\\n",
       "0                                   0.890   Вис Бик Айдиал    Равнинное   \n",
       "1                                   0.890   Вис Бик Айдиал    Равнинное   \n",
       "2                                   0.885  РефлешнСоверинг    Холмистое   \n",
       "3                                   0.885  РефлешнСоверинг    Холмистое   \n",
       "4                                   0.885   Вис Бик Айдиал    Равнинное   \n",
       "..                                    ...              ...          ...   \n",
       "614                                 0.880  РефлешнСоверинг    Холмистое   \n",
       "623                                 0.880  РефлешнСоверинг    Холмистое   \n",
       "625                                 0.880  РефлешнСоверинг    Равнинное   \n",
       "626                                 0.880  РефлешнСоверинг    Холмистое   \n",
       "627                                 0.890  РефлешнСоверинг    Равнинное   \n",
       "\n",
       "    порода папы_быка  Жирность,%  Белок,% Вкус молока      Возраст  \n",
       "0             Айдиал        3.58    3.076      вкусно  более_2_лет  \n",
       "1            Соверин        3.54    3.079      вкусно  менее_2_лет  \n",
       "2            Соверин        3.59    3.074   не вкусно  более_2_лет  \n",
       "3             Айдиал        3.40    3.075   не вкусно  более_2_лет  \n",
       "4            Соверин        3.73    3.073      вкусно  менее_2_лет  \n",
       "..               ...         ...      ...         ...          ...  \n",
       "614           Айдиал        3.44    3.076      вкусно  более_2_лет  \n",
       "623          Соверин        3.64    3.077   не вкусно  более_2_лет  \n",
       "625          Соверин        3.64    3.073      вкусно  менее_2_лет  \n",
       "626          Соверин        3.64    3.075   не вкусно  более_2_лет  \n",
       "627          Соверин        3.64    3.077      вкусно  более_2_лет  \n",
       "\n",
       "[258 rows x 12 columns]"
      ]
     },
     "execution_count": 24,
     "metadata": {},
     "output_type": "execute_result"
    }
   ],
   "source": [
    "ferma_main[ferma_main['СПО (Сахаро-протеиновое соотношение)'] < 0.91]"
   ]
  },
  {
   "cell_type": "code",
   "execution_count": 25,
   "id": "1eef3ebe",
   "metadata": {},
   "outputs": [
    {
     "data": {
      "text/html": [
       "<div>\n",
       "<style scoped>\n",
       "    .dataframe tbody tr th:only-of-type {\n",
       "        vertical-align: middle;\n",
       "    }\n",
       "\n",
       "    .dataframe tbody tr th {\n",
       "        vertical-align: top;\n",
       "    }\n",
       "\n",
       "    .dataframe thead th {\n",
       "        text-align: right;\n",
       "    }\n",
       "</style>\n",
       "<table border=\"1\" class=\"dataframe\">\n",
       "  <thead>\n",
       "    <tr style=\"text-align: right;\">\n",
       "      <th></th>\n",
       "      <th>id</th>\n",
       "      <th>Удой, кг</th>\n",
       "      <th>ЭКЕ (Энергетическая кормовая единица)</th>\n",
       "      <th>Сырой протеин, г</th>\n",
       "      <th>СПО (Сахаро-протеиновое соотношение)</th>\n",
       "      <th>Порода</th>\n",
       "      <th>Тип пастбища</th>\n",
       "      <th>порода папы_быка</th>\n",
       "      <th>Жирность,%</th>\n",
       "      <th>Белок,%</th>\n",
       "      <th>Вкус молока</th>\n",
       "      <th>Возраст</th>\n",
       "      <th>СПО (Сахаро-протеиновое соотношение)_бинарный</th>\n",
       "    </tr>\n",
       "  </thead>\n",
       "  <tbody>\n",
       "    <tr>\n",
       "      <th>0</th>\n",
       "      <td>1</td>\n",
       "      <td>5863</td>\n",
       "      <td>14.2</td>\n",
       "      <td>1743</td>\n",
       "      <td>0.890</td>\n",
       "      <td>Вис Бик Айдиал</td>\n",
       "      <td>Равнинное</td>\n",
       "      <td>Айдиал</td>\n",
       "      <td>3.58</td>\n",
       "      <td>3.076</td>\n",
       "      <td>вкусно</td>\n",
       "      <td>более_2_лет</td>\n",
       "      <td>0</td>\n",
       "    </tr>\n",
       "    <tr>\n",
       "      <th>1</th>\n",
       "      <td>2</td>\n",
       "      <td>5529</td>\n",
       "      <td>12.8</td>\n",
       "      <td>2138</td>\n",
       "      <td>0.890</td>\n",
       "      <td>Вис Бик Айдиал</td>\n",
       "      <td>Равнинное</td>\n",
       "      <td>Соверин</td>\n",
       "      <td>3.54</td>\n",
       "      <td>3.079</td>\n",
       "      <td>вкусно</td>\n",
       "      <td>менее_2_лет</td>\n",
       "      <td>0</td>\n",
       "    </tr>\n",
       "    <tr>\n",
       "      <th>2</th>\n",
       "      <td>3</td>\n",
       "      <td>5810</td>\n",
       "      <td>14.0</td>\n",
       "      <td>1854</td>\n",
       "      <td>0.885</td>\n",
       "      <td>РефлешнСоверинг</td>\n",
       "      <td>Холмистое</td>\n",
       "      <td>Соверин</td>\n",
       "      <td>3.59</td>\n",
       "      <td>3.074</td>\n",
       "      <td>не вкусно</td>\n",
       "      <td>более_2_лет</td>\n",
       "      <td>0</td>\n",
       "    </tr>\n",
       "    <tr>\n",
       "      <th>3</th>\n",
       "      <td>4</td>\n",
       "      <td>5895</td>\n",
       "      <td>12.4</td>\n",
       "      <td>2012</td>\n",
       "      <td>0.885</td>\n",
       "      <td>РефлешнСоверинг</td>\n",
       "      <td>Холмистое</td>\n",
       "      <td>Айдиал</td>\n",
       "      <td>3.40</td>\n",
       "      <td>3.075</td>\n",
       "      <td>не вкусно</td>\n",
       "      <td>более_2_лет</td>\n",
       "      <td>0</td>\n",
       "    </tr>\n",
       "    <tr>\n",
       "      <th>4</th>\n",
       "      <td>5</td>\n",
       "      <td>5302</td>\n",
       "      <td>12.8</td>\n",
       "      <td>1675</td>\n",
       "      <td>0.885</td>\n",
       "      <td>Вис Бик Айдиал</td>\n",
       "      <td>Равнинное</td>\n",
       "      <td>Соверин</td>\n",
       "      <td>3.73</td>\n",
       "      <td>3.073</td>\n",
       "      <td>вкусно</td>\n",
       "      <td>менее_2_лет</td>\n",
       "      <td>0</td>\n",
       "    </tr>\n",
       "  </tbody>\n",
       "</table>\n",
       "</div>"
      ],
      "text/plain": [
       "   id  Удой, кг  ЭКЕ (Энергетическая кормовая единица)  Сырой протеин, г  \\\n",
       "0   1      5863                                   14.2              1743   \n",
       "1   2      5529                                   12.8              2138   \n",
       "2   3      5810                                   14.0              1854   \n",
       "3   4      5895                                   12.4              2012   \n",
       "4   5      5302                                   12.8              1675   \n",
       "\n",
       "   СПО (Сахаро-протеиновое соотношение)           Порода Тип пастбища  \\\n",
       "0                                 0.890   Вис Бик Айдиал    Равнинное   \n",
       "1                                 0.890   Вис Бик Айдиал    Равнинное   \n",
       "2                                 0.885  РефлешнСоверинг    Холмистое   \n",
       "3                                 0.885  РефлешнСоверинг    Холмистое   \n",
       "4                                 0.885   Вис Бик Айдиал    Равнинное   \n",
       "\n",
       "  порода папы_быка  Жирность,%  Белок,% Вкус молока      Возраст  \\\n",
       "0           Айдиал        3.58    3.076      вкусно  более_2_лет   \n",
       "1          Соверин        3.54    3.079      вкусно  менее_2_лет   \n",
       "2          Соверин        3.59    3.074   не вкусно  более_2_лет   \n",
       "3           Айдиал        3.40    3.075   не вкусно  более_2_лет   \n",
       "4          Соверин        3.73    3.073      вкусно  менее_2_лет   \n",
       "\n",
       "   СПО (Сахаро-протеиновое соотношение)_бинарный  \n",
       "0                                              0  \n",
       "1                                              0  \n",
       "2                                              0  \n",
       "3                                              0  \n",
       "4                                              0  "
      ]
     },
     "execution_count": 25,
     "metadata": {},
     "output_type": "execute_result"
    }
   ],
   "source": [
    "ferma_main['СПО (Сахаро-протеиновое соотношение)_бинарный'] = np.where(ferma_main['СПО (Сахаро-протеиновое соотношение)'] < 0.91, 0, 1)\n",
    "ferma_main.head()"
   ]
  },
  {
   "cell_type": "code",
   "execution_count": 26,
   "id": "fbdefadf",
   "metadata": {},
   "outputs": [],
   "source": [
    "del ferma_main['СПО (Сахаро-протеиновое соотношение)']"
   ]
  },
  {
   "cell_type": "code",
   "execution_count": 27,
   "id": "c797dddb",
   "metadata": {},
   "outputs": [
    {
     "data": {
      "text/html": [
       "<div>\n",
       "<style scoped>\n",
       "    .dataframe tbody tr th:only-of-type {\n",
       "        vertical-align: middle;\n",
       "    }\n",
       "\n",
       "    .dataframe tbody tr th {\n",
       "        vertical-align: top;\n",
       "    }\n",
       "\n",
       "    .dataframe thead th {\n",
       "        text-align: right;\n",
       "    }\n",
       "</style>\n",
       "<table border=\"1\" class=\"dataframe\">\n",
       "  <thead>\n",
       "    <tr style=\"text-align: right;\">\n",
       "      <th></th>\n",
       "      <th>id</th>\n",
       "      <th>Удой, кг</th>\n",
       "      <th>ЭКЕ (Энергетическая кормовая единица)</th>\n",
       "      <th>Сырой протеин, г</th>\n",
       "      <th>Порода</th>\n",
       "      <th>Тип пастбища</th>\n",
       "      <th>порода папы_быка</th>\n",
       "      <th>Жирность,%</th>\n",
       "      <th>Белок,%</th>\n",
       "      <th>Вкус молока</th>\n",
       "      <th>Возраст</th>\n",
       "      <th>СПО (Сахаро-протеиновое соотношение)_бинарный</th>\n",
       "    </tr>\n",
       "  </thead>\n",
       "  <tbody>\n",
       "    <tr>\n",
       "      <th>0</th>\n",
       "      <td>1</td>\n",
       "      <td>5863</td>\n",
       "      <td>14.2</td>\n",
       "      <td>1743</td>\n",
       "      <td>Вис Бик Айдиал</td>\n",
       "      <td>Равнинное</td>\n",
       "      <td>Айдиал</td>\n",
       "      <td>3.58</td>\n",
       "      <td>3.076</td>\n",
       "      <td>вкусно</td>\n",
       "      <td>более_2_лет</td>\n",
       "      <td>0</td>\n",
       "    </tr>\n",
       "    <tr>\n",
       "      <th>1</th>\n",
       "      <td>2</td>\n",
       "      <td>5529</td>\n",
       "      <td>12.8</td>\n",
       "      <td>2138</td>\n",
       "      <td>Вис Бик Айдиал</td>\n",
       "      <td>Равнинное</td>\n",
       "      <td>Соверин</td>\n",
       "      <td>3.54</td>\n",
       "      <td>3.079</td>\n",
       "      <td>вкусно</td>\n",
       "      <td>менее_2_лет</td>\n",
       "      <td>0</td>\n",
       "    </tr>\n",
       "    <tr>\n",
       "      <th>2</th>\n",
       "      <td>3</td>\n",
       "      <td>5810</td>\n",
       "      <td>14.0</td>\n",
       "      <td>1854</td>\n",
       "      <td>РефлешнСоверинг</td>\n",
       "      <td>Холмистое</td>\n",
       "      <td>Соверин</td>\n",
       "      <td>3.59</td>\n",
       "      <td>3.074</td>\n",
       "      <td>не вкусно</td>\n",
       "      <td>более_2_лет</td>\n",
       "      <td>0</td>\n",
       "    </tr>\n",
       "    <tr>\n",
       "      <th>3</th>\n",
       "      <td>4</td>\n",
       "      <td>5895</td>\n",
       "      <td>12.4</td>\n",
       "      <td>2012</td>\n",
       "      <td>РефлешнСоверинг</td>\n",
       "      <td>Холмистое</td>\n",
       "      <td>Айдиал</td>\n",
       "      <td>3.40</td>\n",
       "      <td>3.075</td>\n",
       "      <td>не вкусно</td>\n",
       "      <td>более_2_лет</td>\n",
       "      <td>0</td>\n",
       "    </tr>\n",
       "    <tr>\n",
       "      <th>4</th>\n",
       "      <td>5</td>\n",
       "      <td>5302</td>\n",
       "      <td>12.8</td>\n",
       "      <td>1675</td>\n",
       "      <td>Вис Бик Айдиал</td>\n",
       "      <td>Равнинное</td>\n",
       "      <td>Соверин</td>\n",
       "      <td>3.73</td>\n",
       "      <td>3.073</td>\n",
       "      <td>вкусно</td>\n",
       "      <td>менее_2_лет</td>\n",
       "      <td>0</td>\n",
       "    </tr>\n",
       "  </tbody>\n",
       "</table>\n",
       "</div>"
      ],
      "text/plain": [
       "   id  Удой, кг  ЭКЕ (Энергетическая кормовая единица)  Сырой протеин, г  \\\n",
       "0   1      5863                                   14.2              1743   \n",
       "1   2      5529                                   12.8              2138   \n",
       "2   3      5810                                   14.0              1854   \n",
       "3   4      5895                                   12.4              2012   \n",
       "4   5      5302                                   12.8              1675   \n",
       "\n",
       "            Порода Тип пастбища порода папы_быка  Жирность,%  Белок,%  \\\n",
       "0   Вис Бик Айдиал    Равнинное           Айдиал        3.58    3.076   \n",
       "1   Вис Бик Айдиал    Равнинное          Соверин        3.54    3.079   \n",
       "2  РефлешнСоверинг    Холмистое          Соверин        3.59    3.074   \n",
       "3  РефлешнСоверинг    Холмистое           Айдиал        3.40    3.075   \n",
       "4   Вис Бик Айдиал    Равнинное          Соверин        3.73    3.073   \n",
       "\n",
       "  Вкус молока      Возраст  СПО (Сахаро-протеиновое соотношение)_бинарный  \n",
       "0      вкусно  более_2_лет                                              0  \n",
       "1      вкусно  менее_2_лет                                              0  \n",
       "2   не вкусно  более_2_лет                                              0  \n",
       "3   не вкусно  более_2_лет                                              0  \n",
       "4      вкусно  менее_2_лет                                              0  "
      ]
     },
     "execution_count": 27,
     "metadata": {},
     "output_type": "execute_result"
    }
   ],
   "source": [
    "ferma_main.head()"
   ]
  },
  {
   "cell_type": "markdown",
   "id": "ca0a0260",
   "metadata": {},
   "source": [
    "# Теперь ЭКЕ"
   ]
  },
  {
   "cell_type": "code",
   "execution_count": 28,
   "id": "359ed804",
   "metadata": {},
   "outputs": [
    {
     "data": {
      "text/plain": [
       "<AxesSubplot:title={'center':'Диаграмма рассеяния для величин ЭКЕ и удой'}, xlabel='Удой, кг', ylabel='ЭКЕ (Энергетическая кормовая единица)'>"
      ]
     },
     "execution_count": 28,
     "metadata": {},
     "output_type": "execute_result"
    },
    {
     "data": {
      "image/png": "[encoded data removed]",
      "text/plain": [
       "<Figure size 432x288 with 1 Axes>"
      ]
     },
     "metadata": {
      "needs_background": "light"
     },
     "output_type": "display_data"
    }
   ],
   "source": [
    "ferma_main[ferma_main['Удой, кг'] < 40000].plot(x='Удой, кг',\n",
    "                y='ЭКЕ (Энергетическая кормовая единица)',\n",
    "                kind='scatter',\n",
    "                grid=True,\n",
    "                title = 'Диаграмма рассеяния для величин ЭКЕ и удой')"
   ]
  },
  {
   "cell_type": "markdown",
   "id": "2ddc446c",
   "metadata": {},
   "source": [
    "Граница нелинейности ..."
   ]
  },
  {
   "cell_type": "code",
   "execution_count": null,
   "id": "0ac47b19",
   "metadata": {},
   "outputs": [],
   "source": []
  },
  {
   "cell_type": "code",
   "execution_count": null,
   "id": "8f28f870",
   "metadata": {},
   "outputs": [],
   "source": []
  },
  {
   "cell_type": "code",
   "execution_count": null,
   "id": "868a2c1e",
   "metadata": {},
   "outputs": [],
   "source": []
  },
  {
   "cell_type": "code",
   "execution_count": null,
   "id": "6d27bb9e",
   "metadata": {},
   "outputs": [],
   "source": []
  },
  {
   "cell_type": "code",
   "execution_count": 29,
   "id": "3fc0f0fa",
   "metadata": {},
   "outputs": [],
   "source": [
    "ferma_main['ЭКЕ в квадрате'] = ferma_main['ЭКЕ (Энергетическая кормовая единица)'] **2"
   ]
  },
  {
   "cell_type": "code",
   "execution_count": 30,
   "id": "bbc2bcc7",
   "metadata": {},
   "outputs": [],
   "source": [
    "del ferma_main['ЭКЕ (Энергетическая кормовая единица)']"
   ]
  },
  {
   "cell_type": "code",
   "execution_count": 31,
   "id": "2952be71",
   "metadata": {},
   "outputs": [
    {
     "data": {
      "text/html": [
       "<div>\n",
       "<style scoped>\n",
       "    .dataframe tbody tr th:only-of-type {\n",
       "        vertical-align: middle;\n",
       "    }\n",
       "\n",
       "    .dataframe tbody tr th {\n",
       "        vertical-align: top;\n",
       "    }\n",
       "\n",
       "    .dataframe thead th {\n",
       "        text-align: right;\n",
       "    }\n",
       "</style>\n",
       "<table border=\"1\" class=\"dataframe\">\n",
       "  <thead>\n",
       "    <tr style=\"text-align: right;\">\n",
       "      <th></th>\n",
       "      <th>id</th>\n",
       "      <th>Удой, кг</th>\n",
       "      <th>Сырой протеин, г</th>\n",
       "      <th>Порода</th>\n",
       "      <th>Тип пастбища</th>\n",
       "      <th>порода папы_быка</th>\n",
       "      <th>Жирность,%</th>\n",
       "      <th>Белок,%</th>\n",
       "      <th>Вкус молока</th>\n",
       "      <th>Возраст</th>\n",
       "      <th>СПО (Сахаро-протеиновое соотношение)_бинарный</th>\n",
       "      <th>ЭКЕ в квадрате</th>\n",
       "    </tr>\n",
       "  </thead>\n",
       "  <tbody>\n",
       "    <tr>\n",
       "      <th>0</th>\n",
       "      <td>1</td>\n",
       "      <td>5863</td>\n",
       "      <td>1743</td>\n",
       "      <td>Вис Бик Айдиал</td>\n",
       "      <td>Равнинное</td>\n",
       "      <td>Айдиал</td>\n",
       "      <td>3.58</td>\n",
       "      <td>3.076</td>\n",
       "      <td>вкусно</td>\n",
       "      <td>более_2_лет</td>\n",
       "      <td>0</td>\n",
       "      <td>201.64</td>\n",
       "    </tr>\n",
       "    <tr>\n",
       "      <th>1</th>\n",
       "      <td>2</td>\n",
       "      <td>5529</td>\n",
       "      <td>2138</td>\n",
       "      <td>Вис Бик Айдиал</td>\n",
       "      <td>Равнинное</td>\n",
       "      <td>Соверин</td>\n",
       "      <td>3.54</td>\n",
       "      <td>3.079</td>\n",
       "      <td>вкусно</td>\n",
       "      <td>менее_2_лет</td>\n",
       "      <td>0</td>\n",
       "      <td>163.84</td>\n",
       "    </tr>\n",
       "    <tr>\n",
       "      <th>2</th>\n",
       "      <td>3</td>\n",
       "      <td>5810</td>\n",
       "      <td>1854</td>\n",
       "      <td>РефлешнСоверинг</td>\n",
       "      <td>Холмистое</td>\n",
       "      <td>Соверин</td>\n",
       "      <td>3.59</td>\n",
       "      <td>3.074</td>\n",
       "      <td>не вкусно</td>\n",
       "      <td>более_2_лет</td>\n",
       "      <td>0</td>\n",
       "      <td>196.00</td>\n",
       "    </tr>\n",
       "    <tr>\n",
       "      <th>3</th>\n",
       "      <td>4</td>\n",
       "      <td>5895</td>\n",
       "      <td>2012</td>\n",
       "      <td>РефлешнСоверинг</td>\n",
       "      <td>Холмистое</td>\n",
       "      <td>Айдиал</td>\n",
       "      <td>3.40</td>\n",
       "      <td>3.075</td>\n",
       "      <td>не вкусно</td>\n",
       "      <td>более_2_лет</td>\n",
       "      <td>0</td>\n",
       "      <td>153.76</td>\n",
       "    </tr>\n",
       "    <tr>\n",
       "      <th>4</th>\n",
       "      <td>5</td>\n",
       "      <td>5302</td>\n",
       "      <td>1675</td>\n",
       "      <td>Вис Бик Айдиал</td>\n",
       "      <td>Равнинное</td>\n",
       "      <td>Соверин</td>\n",
       "      <td>3.73</td>\n",
       "      <td>3.073</td>\n",
       "      <td>вкусно</td>\n",
       "      <td>менее_2_лет</td>\n",
       "      <td>0</td>\n",
       "      <td>163.84</td>\n",
       "    </tr>\n",
       "  </tbody>\n",
       "</table>\n",
       "</div>"
      ],
      "text/plain": [
       "   id  Удой, кг  Сырой протеин, г           Порода Тип пастбища  \\\n",
       "0   1      5863              1743   Вис Бик Айдиал    Равнинное   \n",
       "1   2      5529              2138   Вис Бик Айдиал    Равнинное   \n",
       "2   3      5810              1854  РефлешнСоверинг    Холмистое   \n",
       "3   4      5895              2012  РефлешнСоверинг    Холмистое   \n",
       "4   5      5302              1675   Вис Бик Айдиал    Равнинное   \n",
       "\n",
       "  порода папы_быка  Жирность,%  Белок,% Вкус молока      Возраст  \\\n",
       "0           Айдиал        3.58    3.076      вкусно  более_2_лет   \n",
       "1          Соверин        3.54    3.079      вкусно  менее_2_лет   \n",
       "2          Соверин        3.59    3.074   не вкусно  более_2_лет   \n",
       "3           Айдиал        3.40    3.075   не вкусно  более_2_лет   \n",
       "4          Соверин        3.73    3.073      вкусно  менее_2_лет   \n",
       "\n",
       "   СПО (Сахаро-протеиновое соотношение)_бинарный  ЭКЕ в квадрате  \n",
       "0                                              0          201.64  \n",
       "1                                              0          163.84  \n",
       "2                                              0          196.00  \n",
       "3                                              0          153.76  \n",
       "4                                              0          163.84  "
      ]
     },
     "execution_count": 31,
     "metadata": {},
     "output_type": "execute_result"
    }
   ],
   "source": [
    "ferma_main.head()"
   ]
  },
  {
   "cell_type": "code",
   "execution_count": null,
   "id": "4320ecd4",
   "metadata": {},
   "outputs": [],
   "source": []
  },
  {
   "cell_type": "code",
   "execution_count": 32,
   "id": "7d028314",
   "metadata": {},
   "outputs": [],
   "source": [
    "RANDOM_STATE = 42\n",
    "\n",
    "# считываем CSV-файл в датафрейм pandas\n",
    "# выделяем в отдельные переменные целевой признак и входные признак\n",
    "X = ferma_main.drop(['Жирность,%', 'Белок,%', 'Вкус молока', 'Удой, кг'], axis=1)\n",
    "y = ferma_main['Удой, кг']"
   ]
  },
  {
   "cell_type": "code",
   "execution_count": null,
   "id": "0613447c",
   "metadata": {},
   "outputs": [],
   "source": []
  },
  {
   "cell_type": "code",
   "execution_count": 33,
   "id": "322bf63b",
   "metadata": {},
   "outputs": [],
   "source": [
    "from sklearn.model_selection import train_test_split\n",
    "\n",
    "\n",
    "\n",
    "# разделите данные на тренировочные и тестовые, зафиксируйте random_state\n",
    "X_train, X_test, y_train, y_test = train_test_split(X,\n",
    "                                                    y,\n",
    "                                                    random_state=SEED)"
   ]
  },
  {
   "cell_type": "code",
   "execution_count": 34,
   "id": "2c147f6e",
   "metadata": {},
   "outputs": [
    {
     "data": {
      "text/html": [
       "<div>\n",
       "<style scoped>\n",
       "    .dataframe tbody tr th:only-of-type {\n",
       "        vertical-align: middle;\n",
       "    }\n",
       "\n",
       "    .dataframe tbody tr th {\n",
       "        vertical-align: top;\n",
       "    }\n",
       "\n",
       "    .dataframe thead th {\n",
       "        text-align: right;\n",
       "    }\n",
       "</style>\n",
       "<table border=\"1\" class=\"dataframe\">\n",
       "  <thead>\n",
       "    <tr style=\"text-align: right;\">\n",
       "      <th></th>\n",
       "      <th>id</th>\n",
       "      <th>Сырой протеин, г</th>\n",
       "      <th>Порода</th>\n",
       "      <th>Тип пастбища</th>\n",
       "      <th>порода папы_быка</th>\n",
       "      <th>Возраст</th>\n",
       "      <th>СПО (Сахаро-протеиновое соотношение)_бинарный</th>\n",
       "      <th>ЭКЕ в квадрате</th>\n",
       "    </tr>\n",
       "  </thead>\n",
       "  <tbody>\n",
       "    <tr>\n",
       "      <th>570</th>\n",
       "      <td>571</td>\n",
       "      <td>1936</td>\n",
       "      <td>РефлешнСоверинг</td>\n",
       "      <td>Равнинное</td>\n",
       "      <td>Соверин</td>\n",
       "      <td>более_2_лет</td>\n",
       "      <td>1</td>\n",
       "      <td>243.36</td>\n",
       "    </tr>\n",
       "    <tr>\n",
       "      <th>97</th>\n",
       "      <td>98</td>\n",
       "      <td>1985</td>\n",
       "      <td>Вис Бик Айдиал</td>\n",
       "      <td>Равнинное</td>\n",
       "      <td>Соверин</td>\n",
       "      <td>более_2_лет</td>\n",
       "      <td>1</td>\n",
       "      <td>228.01</td>\n",
       "    </tr>\n",
       "    <tr>\n",
       "      <th>531</th>\n",
       "      <td>532</td>\n",
       "      <td>1837</td>\n",
       "      <td>РефлешнСоверинг</td>\n",
       "      <td>Холмистое</td>\n",
       "      <td>Соверин</td>\n",
       "      <td>более_2_лет</td>\n",
       "      <td>0</td>\n",
       "      <td>207.36</td>\n",
       "    </tr>\n",
       "    <tr>\n",
       "      <th>58</th>\n",
       "      <td>59</td>\n",
       "      <td>2264</td>\n",
       "      <td>Вис Бик Айдиал</td>\n",
       "      <td>Холмистое</td>\n",
       "      <td>Айдиал</td>\n",
       "      <td>более_2_лет</td>\n",
       "      <td>1</td>\n",
       "      <td>219.04</td>\n",
       "    </tr>\n",
       "    <tr>\n",
       "      <th>436</th>\n",
       "      <td>437</td>\n",
       "      <td>1949</td>\n",
       "      <td>Вис Бик Айдиал</td>\n",
       "      <td>Равнинное</td>\n",
       "      <td>Айдиал</td>\n",
       "      <td>более_2_лет</td>\n",
       "      <td>0</td>\n",
       "      <td>171.61</td>\n",
       "    </tr>\n",
       "    <tr>\n",
       "      <th>...</th>\n",
       "      <td>...</td>\n",
       "      <td>...</td>\n",
       "      <td>...</td>\n",
       "      <td>...</td>\n",
       "      <td>...</td>\n",
       "      <td>...</td>\n",
       "      <td>...</td>\n",
       "      <td>...</td>\n",
       "    </tr>\n",
       "    <tr>\n",
       "      <th>627</th>\n",
       "      <td>628</td>\n",
       "      <td>1994</td>\n",
       "      <td>РефлешнСоверинг</td>\n",
       "      <td>Равнинное</td>\n",
       "      <td>Соверин</td>\n",
       "      <td>более_2_лет</td>\n",
       "      <td>0</td>\n",
       "      <td>190.44</td>\n",
       "    </tr>\n",
       "    <tr>\n",
       "      <th>172</th>\n",
       "      <td>173</td>\n",
       "      <td>1710</td>\n",
       "      <td>Вис Бик Айдиал</td>\n",
       "      <td>Равнинное</td>\n",
       "      <td>Соверин</td>\n",
       "      <td>менее_2_лет</td>\n",
       "      <td>0</td>\n",
       "      <td>153.76</td>\n",
       "    </tr>\n",
       "    <tr>\n",
       "      <th>362</th>\n",
       "      <td>363</td>\n",
       "      <td>2041</td>\n",
       "      <td>Вис Бик Айдиал</td>\n",
       "      <td>Холмистое</td>\n",
       "      <td>Айдиал</td>\n",
       "      <td>более_2_лет</td>\n",
       "      <td>1</td>\n",
       "      <td>182.25</td>\n",
       "    </tr>\n",
       "    <tr>\n",
       "      <th>266</th>\n",
       "      <td>267</td>\n",
       "      <td>1717</td>\n",
       "      <td>РефлешнСоверинг</td>\n",
       "      <td>Холмистое</td>\n",
       "      <td>Айдиал</td>\n",
       "      <td>более_2_лет</td>\n",
       "      <td>1</td>\n",
       "      <td>237.16</td>\n",
       "    </tr>\n",
       "    <tr>\n",
       "      <th>465</th>\n",
       "      <td>466</td>\n",
       "      <td>2146</td>\n",
       "      <td>РефлешнСоверинг</td>\n",
       "      <td>Холмистое</td>\n",
       "      <td>Айдиал</td>\n",
       "      <td>более_2_лет</td>\n",
       "      <td>1</td>\n",
       "      <td>265.69</td>\n",
       "    </tr>\n",
       "  </tbody>\n",
       "</table>\n",
       "<p>471 rows × 8 columns</p>\n",
       "</div>"
      ],
      "text/plain": [
       "      id  Сырой протеин, г           Порода Тип пастбища порода папы_быка  \\\n",
       "570  571              1936  РефлешнСоверинг    Равнинное          Соверин   \n",
       "97    98              1985   Вис Бик Айдиал    Равнинное          Соверин   \n",
       "531  532              1837  РефлешнСоверинг    Холмистое          Соверин   \n",
       "58    59              2264   Вис Бик Айдиал    Холмистое           Айдиал   \n",
       "436  437              1949   Вис Бик Айдиал    Равнинное           Айдиал   \n",
       "..   ...               ...              ...          ...              ...   \n",
       "627  628              1994  РефлешнСоверинг    Равнинное          Соверин   \n",
       "172  173              1710   Вис Бик Айдиал    Равнинное          Соверин   \n",
       "362  363              2041   Вис Бик Айдиал    Холмистое           Айдиал   \n",
       "266  267              1717  РефлешнСоверинг    Холмистое           Айдиал   \n",
       "465  466              2146  РефлешнСоверинг    Холмистое           Айдиал   \n",
       "\n",
       "         Возраст  СПО (Сахаро-протеиновое соотношение)_бинарный  \\\n",
       "570  более_2_лет                                              1   \n",
       "97   более_2_лет                                              1   \n",
       "531  более_2_лет                                              0   \n",
       "58   более_2_лет                                              1   \n",
       "436  более_2_лет                                              0   \n",
       "..           ...                                            ...   \n",
       "627  более_2_лет                                              0   \n",
       "172  менее_2_лет                                              0   \n",
       "362  более_2_лет                                              1   \n",
       "266  более_2_лет                                              1   \n",
       "465  более_2_лет                                              1   \n",
       "\n",
       "     ЭКЕ в квадрате  \n",
       "570          243.36  \n",
       "97           228.01  \n",
       "531          207.36  \n",
       "58           219.04  \n",
       "436          171.61  \n",
       "..              ...  \n",
       "627          190.44  \n",
       "172          153.76  \n",
       "362          182.25  \n",
       "266          237.16  \n",
       "465          265.69  \n",
       "\n",
       "[471 rows x 8 columns]"
      ]
     },
     "execution_count": 34,
     "metadata": {},
     "output_type": "execute_result"
    }
   ],
   "source": [
    "X_train"
   ]
  },
  {
   "cell_type": "code",
   "execution_count": 35,
   "id": "a0e7fbc2",
   "metadata": {},
   "outputs": [],
   "source": [
    "from sklearn.preprocessing import OneHotEncoder\n",
    "\n",
    "encoder = OneHotEncoder(sparse = False)\n",
    "cat_col_names = ['Порода', 'Тип пастбища',\t'порода папы_быка',\t'Возраст']\n",
    "# обучите и трансформируйте категориальные признаки из тренировочной выборки\n",
    "# сделайте это одной командой\n",
    "X_train_ohe = encoder.fit_transform(X_train[cat_col_names])\n",
    "X_test_ohe = encoder.transform(X_test[cat_col_names])\n",
    "\n",
    "# получите от кодировщика список новых столбцов и сохраните в новой переменной\n",
    "encoder_col_names = encoder.get_feature_names()\n",
    "\n",
    "# создаём тренировочный и тестовый датафреймы из закодированных и отмасштабированных данных\n",
    "# для данных OHE названия столбцов укажите из переменной encoder_col_names\n",
    "X_train_ohe = pd.DataFrame(X_train_ohe, columns=encoder_col_names)\n",
    "X_test_ohe = pd.DataFrame(X_test_ohe, columns=encoder_col_names)"
   ]
  },
  {
   "cell_type": "code",
   "execution_count": 36,
   "id": "882a2658",
   "metadata": {},
   "outputs": [],
   "source": [
    "from sklearn.preprocessing import StandardScaler\n",
    "\n",
    "scaler = StandardScaler()\n",
    "num_col_names = ['ЭКЕ в квадрате', 'Сырой протеин, г', 'СПО (Сахаро-протеиновое соотношение)_бинарный']\n",
    "X_train_scaled = scaler.fit_transform(X_train[num_col_names])\n",
    "X_test_scaled = scaler.transform(X_test[num_col_names])"
   ]
  },
  {
   "cell_type": "code",
   "execution_count": 37,
   "id": "17314f81",
   "metadata": {},
   "outputs": [
    {
     "name": "stdout",
     "output_type": "stream",
     "text": [
      "Размерность матрицы обучающей выборки: (471, 8)\n",
      "Размерность вектора целевого признака: (471,)\n",
      "Размерность матрицы тестовой выборки: (158, 8)\n",
      "Размерность вектора целевого признака: (158,)\n"
     ]
    }
   ],
   "source": [
    "X_train_scaled = pd.DataFrame(X_train_scaled, columns=num_col_names)\n",
    "X_test_scaled = pd.DataFrame(X_test_scaled, columns=num_col_names)\n",
    "print(\"Размерность матрицы обучающей выборки:\", X_train.shape)\n",
    "print(\"Размерность вектора целевого признака:\", y_train.shape)\n",
    "print(\"Размерность матрицы тестовой выборки:\", X_test.shape)\n",
    "print(\"Размерность вектора целевого признака:\", y_test.shape)"
   ]
  },
  {
   "cell_type": "code",
   "execution_count": 38,
   "id": "2badda72",
   "metadata": {},
   "outputs": [
    {
     "name": "stdout",
     "output_type": "stream",
     "text": [
      "Размерность матрицы обучающей выборки: (471, 11)\n",
      "Размерность вектора обучающей выборки: (471,)\n",
      "Размерность матрицы тестовой выборки: (158, 11)\n",
      "Размерность вектора тестовой выборки: (158,)\n",
      "   x0_Вис Бик Айдиал  x0_РефлешнСоверинг  x1_Равнинное  x1_Холмистое  \\\n",
      "0                0.0                 1.0           1.0           0.0   \n",
      "1                1.0                 0.0           1.0           0.0   \n",
      "2                0.0                 1.0           0.0           1.0   \n",
      "3                1.0                 0.0           0.0           1.0   \n",
      "4                1.0                 0.0           1.0           0.0   \n",
      "\n",
      "   x2_Айдиал  x2_Соверин  x3_более_2_лет  x3_менее_2_лет  ЭКЕ в квадрате  \\\n",
      "0        0.0         1.0             1.0             0.0        0.807187   \n",
      "1        0.0         1.0             1.0             0.0        0.402176   \n",
      "2        0.0         1.0             1.0             0.0       -0.142675   \n",
      "3        1.0         0.0             1.0             0.0        0.165502   \n",
      "4        1.0         0.0             1.0             0.0       -1.085942   \n",
      "\n",
      "   Сырой протеин, г  СПО (Сахаро-протеиновое соотношение)_бинарный  \n",
      "0          0.069735                                       0.851631  \n",
      "1          0.336062                                       0.851631  \n",
      "2         -0.468354                                      -1.174218  \n",
      "3          1.852495                                       0.851631  \n",
      "4          0.140393                                      -1.174218  \n"
     ]
    }
   ],
   "source": [
    "# объединение всех преобразованных данных в тренировочный и тестовый датафреймы\n",
    "X_train = pd.concat([X_train_ohe, X_train_scaled], axis=1).reset_index(drop=True)\n",
    "X_test = pd.concat([X_test_ohe, X_test_scaled], axis=1).reset_index(drop=True)\n",
    "print(\"Размерность матрицы обучающей выборки:\", X_train.shape)\n",
    "print(\"Размерность вектора обучающей выборки:\", y_train.shape)\n",
    "print(\"Размерность матрицы тестовой выборки:\", X_test.shape)\n",
    "print(\"Размерность вектора тестовой выборки:\", y_test.shape)\n",
    "# вывести пять первых строк из тренировочного датафрейма\n",
    "print(X_train.head(5))"
   ]
  },
  {
   "cell_type": "code",
   "execution_count": null,
   "id": "63ba3ae4",
   "metadata": {},
   "outputs": [],
   "source": []
  },
  {
   "cell_type": "code",
   "execution_count": 39,
   "id": "e2c66aa6",
   "metadata": {},
   "outputs": [
    {
     "data": {
      "text/plain": [
       "LinearRegression()"
      ]
     },
     "execution_count": 39,
     "metadata": {},
     "output_type": "execute_result"
    }
   ],
   "source": [
    "from sklearn.linear_model import LinearRegression\n",
    "\n",
    "model_lr_2 = LinearRegression()\n",
    "model_lr_2.fit(X_train, y_train)\n",
    "model_lr_2"
   ]
  },
  {
   "cell_type": "code",
   "execution_count": 40,
   "id": "1eababf9",
   "metadata": {},
   "outputs": [
    {
     "name": "stdout",
     "output_type": "stream",
     "text": [
      "MAE номер 2 = 355\n"
     ]
    }
   ],
   "source": [
    "from sklearn.metrics import mean_absolute_error\n",
    "\n",
    "predictions = model_lr_2.predict(X_test)\n",
    "mae = mean_absolute_error(y_test, predictions)\n",
    "print(f'MAE номер 2 = {mae:.0f}')"
   ]
  },
  {
   "cell_type": "code",
   "execution_count": 41,
   "id": "9ad010b8",
   "metadata": {},
   "outputs": [
    {
     "name": "stdout",
     "output_type": "stream",
     "text": [
      "R2 LinearRegression номер 2 = 0.13441783888056857\n"
     ]
    }
   ],
   "source": [
    "from sklearn.metrics import r2_score\n",
    "\n",
    "# рассчитайте значения R2 для линейной регрессии\n",
    "r2_lr_2 = r2_score(y_test, predictions)\n",
    "\n",
    "# выведите полученное значение R2\n",
    "print(\"R2 LinearRegression номер 2 =\", r2_lr_2)"
   ]
  },
  {
   "cell_type": "code",
   "execution_count": 42,
   "id": "67550f6f",
   "metadata": {},
   "outputs": [
    {
     "data": {
      "image/png": "[encoded data removed]",
      "text/plain": [
       "<Figure size 720x360 with 2 Axes>"
      ]
     },
     "metadata": {
      "needs_background": "light"
     },
     "output_type": "display_data"
    }
   ],
   "source": [
    "import matplotlib.pyplot as plt\n",
    "\n",
    "residuals = y_test - predictions\n",
    "\n",
    "# постройте графики по количественным признакам — гистограмму частотности\n",
    "# распределения и диаграмму рассеяния\n",
    "fig, axes = plt.subplots(nrows=1, ncols=2, figsize=(10,5))\n",
    "axes[0].hist(residuals)\n",
    "axes[0].set_title('Гистограмма распределения остатков')\n",
    "axes[0].set_xlabel('Остатки')\n",
    "\n",
    "axes[1].scatter(predictions, residuals)\n",
    "axes[1].set_xlabel('Предсказания модели')\n",
    "axes[1].set_ylabel('Остатки')\n",
    "axes[1].set_title('Анализ дисперсии')\n",
    "plt.show()"
   ]
  },
  {
   "cell_type": "code",
   "execution_count": 43,
   "id": "17f64b80",
   "metadata": {},
   "outputs": [],
   "source": [
    "#ferma_main[ferma_main['Удой, кг'] < 40000].plot(x='Удой, кг',\n",
    "                #y='ЭКЕ (Энергетическая кормовая единица)',\n",
    "                #kind='scatter',\n",
    "                #grid=True,\n",
    "                #title = 'Диаграмма рассеяния для величин ЭКЕ и удой')"
   ]
  },
  {
   "cell_type": "markdown",
   "id": "c5df1cf3",
   "metadata": {},
   "source": [
    "# 3-ий подпункт"
   ]
  },
  {
   "cell_type": "code",
   "execution_count": 58,
   "id": "05172a90",
   "metadata": {},
   "outputs": [],
   "source": [
    "new_ferma_main = pd.merge(ferma_main, ferma_dad, on='id', how='left')"
   ]
  },
  {
   "cell_type": "code",
   "execution_count": 59,
   "id": "166afa04",
   "metadata": {},
   "outputs": [
    {
     "data": {
      "text/html": [
       "<div>\n",
       "<style scoped>\n",
       "    .dataframe tbody tr th:only-of-type {\n",
       "        vertical-align: middle;\n",
       "    }\n",
       "\n",
       "    .dataframe tbody tr th {\n",
       "        vertical-align: top;\n",
       "    }\n",
       "\n",
       "    .dataframe thead th {\n",
       "        text-align: right;\n",
       "    }\n",
       "</style>\n",
       "<table border=\"1\" class=\"dataframe\">\n",
       "  <thead>\n",
       "    <tr style=\"text-align: right;\">\n",
       "      <th></th>\n",
       "      <th>id</th>\n",
       "      <th>Удой, кг</th>\n",
       "      <th>Сырой протеин, г</th>\n",
       "      <th>Порода</th>\n",
       "      <th>Тип пастбища</th>\n",
       "      <th>порода папы_быка</th>\n",
       "      <th>Жирность,%</th>\n",
       "      <th>Белок,%</th>\n",
       "      <th>Вкус молока</th>\n",
       "      <th>Возраст</th>\n",
       "      <th>СПО (Сахаро-протеиновое соотношение)_бинарный</th>\n",
       "      <th>ЭКЕ в квадрате</th>\n",
       "      <th>Имя Папы</th>\n",
       "    </tr>\n",
       "  </thead>\n",
       "  <tbody>\n",
       "    <tr>\n",
       "      <th>0</th>\n",
       "      <td>1</td>\n",
       "      <td>5863</td>\n",
       "      <td>1743</td>\n",
       "      <td>Вис Бик Айдиал</td>\n",
       "      <td>Равнинное</td>\n",
       "      <td>Айдиал</td>\n",
       "      <td>3.58</td>\n",
       "      <td>3.076</td>\n",
       "      <td>вкусно</td>\n",
       "      <td>более_2_лет</td>\n",
       "      <td>0</td>\n",
       "      <td>201.64</td>\n",
       "      <td>Буйный</td>\n",
       "    </tr>\n",
       "    <tr>\n",
       "      <th>1</th>\n",
       "      <td>2</td>\n",
       "      <td>5529</td>\n",
       "      <td>2138</td>\n",
       "      <td>Вис Бик Айдиал</td>\n",
       "      <td>Равнинное</td>\n",
       "      <td>Соверин</td>\n",
       "      <td>3.54</td>\n",
       "      <td>3.079</td>\n",
       "      <td>вкусно</td>\n",
       "      <td>менее_2_лет</td>\n",
       "      <td>0</td>\n",
       "      <td>163.84</td>\n",
       "      <td>Соловчик</td>\n",
       "    </tr>\n",
       "    <tr>\n",
       "      <th>2</th>\n",
       "      <td>3</td>\n",
       "      <td>5810</td>\n",
       "      <td>1854</td>\n",
       "      <td>РефлешнСоверинг</td>\n",
       "      <td>Холмистое</td>\n",
       "      <td>Соверин</td>\n",
       "      <td>3.59</td>\n",
       "      <td>3.074</td>\n",
       "      <td>не вкусно</td>\n",
       "      <td>более_2_лет</td>\n",
       "      <td>0</td>\n",
       "      <td>196.00</td>\n",
       "      <td>Барин</td>\n",
       "    </tr>\n",
       "    <tr>\n",
       "      <th>3</th>\n",
       "      <td>4</td>\n",
       "      <td>5895</td>\n",
       "      <td>2012</td>\n",
       "      <td>РефлешнСоверинг</td>\n",
       "      <td>Холмистое</td>\n",
       "      <td>Айдиал</td>\n",
       "      <td>3.40</td>\n",
       "      <td>3.075</td>\n",
       "      <td>не вкусно</td>\n",
       "      <td>более_2_лет</td>\n",
       "      <td>0</td>\n",
       "      <td>153.76</td>\n",
       "      <td>Буйный</td>\n",
       "    </tr>\n",
       "    <tr>\n",
       "      <th>4</th>\n",
       "      <td>5</td>\n",
       "      <td>5302</td>\n",
       "      <td>1675</td>\n",
       "      <td>Вис Бик Айдиал</td>\n",
       "      <td>Равнинное</td>\n",
       "      <td>Соверин</td>\n",
       "      <td>3.73</td>\n",
       "      <td>3.073</td>\n",
       "      <td>вкусно</td>\n",
       "      <td>менее_2_лет</td>\n",
       "      <td>0</td>\n",
       "      <td>163.84</td>\n",
       "      <td>Барин</td>\n",
       "    </tr>\n",
       "    <tr>\n",
       "      <th>...</th>\n",
       "      <td>...</td>\n",
       "      <td>...</td>\n",
       "      <td>...</td>\n",
       "      <td>...</td>\n",
       "      <td>...</td>\n",
       "      <td>...</td>\n",
       "      <td>...</td>\n",
       "      <td>...</td>\n",
       "      <td>...</td>\n",
       "      <td>...</td>\n",
       "      <td>...</td>\n",
       "      <td>...</td>\n",
       "      <td>...</td>\n",
       "    </tr>\n",
       "    <tr>\n",
       "      <th>624</th>\n",
       "      <td>625</td>\n",
       "      <td>6812</td>\n",
       "      <td>1964</td>\n",
       "      <td>РефлешнСоверинг</td>\n",
       "      <td>Равнинное</td>\n",
       "      <td>Айдиал</td>\n",
       "      <td>3.74</td>\n",
       "      <td>3.075</td>\n",
       "      <td>не вкусно</td>\n",
       "      <td>более_2_лет</td>\n",
       "      <td>1</td>\n",
       "      <td>237.16</td>\n",
       "      <td>Буйный</td>\n",
       "    </tr>\n",
       "    <tr>\n",
       "      <th>625</th>\n",
       "      <td>626</td>\n",
       "      <td>5513</td>\n",
       "      <td>1700</td>\n",
       "      <td>РефлешнСоверинг</td>\n",
       "      <td>Равнинное</td>\n",
       "      <td>Соверин</td>\n",
       "      <td>3.64</td>\n",
       "      <td>3.073</td>\n",
       "      <td>вкусно</td>\n",
       "      <td>менее_2_лет</td>\n",
       "      <td>0</td>\n",
       "      <td>166.41</td>\n",
       "      <td>Барин</td>\n",
       "    </tr>\n",
       "    <tr>\n",
       "      <th>626</th>\n",
       "      <td>627</td>\n",
       "      <td>5970</td>\n",
       "      <td>1837</td>\n",
       "      <td>РефлешнСоверинг</td>\n",
       "      <td>Холмистое</td>\n",
       "      <td>Соверин</td>\n",
       "      <td>3.64</td>\n",
       "      <td>3.075</td>\n",
       "      <td>не вкусно</td>\n",
       "      <td>более_2_лет</td>\n",
       "      <td>0</td>\n",
       "      <td>207.36</td>\n",
       "      <td>Барин</td>\n",
       "    </tr>\n",
       "    <tr>\n",
       "      <th>627</th>\n",
       "      <td>628</td>\n",
       "      <td>5746</td>\n",
       "      <td>1994</td>\n",
       "      <td>РефлешнСоверинг</td>\n",
       "      <td>Равнинное</td>\n",
       "      <td>Соверин</td>\n",
       "      <td>3.64</td>\n",
       "      <td>3.077</td>\n",
       "      <td>вкусно</td>\n",
       "      <td>более_2_лет</td>\n",
       "      <td>0</td>\n",
       "      <td>190.44</td>\n",
       "      <td>Барин</td>\n",
       "    </tr>\n",
       "    <tr>\n",
       "      <th>628</th>\n",
       "      <td>629</td>\n",
       "      <td>6503</td>\n",
       "      <td>2283</td>\n",
       "      <td>Вис Бик Айдиал</td>\n",
       "      <td>Холмистое</td>\n",
       "      <td>Соверин</td>\n",
       "      <td>3.71</td>\n",
       "      <td>3.076</td>\n",
       "      <td>вкусно</td>\n",
       "      <td>более_2_лет</td>\n",
       "      <td>1</td>\n",
       "      <td>262.44</td>\n",
       "      <td>Соловчик</td>\n",
       "    </tr>\n",
       "  </tbody>\n",
       "</table>\n",
       "<p>629 rows × 13 columns</p>\n",
       "</div>"
      ],
      "text/plain": [
       "      id  Удой, кг  Сырой протеин, г           Порода Тип пастбища  \\\n",
       "0      1      5863              1743   Вис Бик Айдиал    Равнинное   \n",
       "1      2      5529              2138   Вис Бик Айдиал    Равнинное   \n",
       "2      3      5810              1854  РефлешнСоверинг    Холмистое   \n",
       "3      4      5895              2012  РефлешнСоверинг    Холмистое   \n",
       "4      5      5302              1675   Вис Бик Айдиал    Равнинное   \n",
       "..   ...       ...               ...              ...          ...   \n",
       "624  625      6812              1964  РефлешнСоверинг    Равнинное   \n",
       "625  626      5513              1700  РефлешнСоверинг    Равнинное   \n",
       "626  627      5970              1837  РефлешнСоверинг    Холмистое   \n",
       "627  628      5746              1994  РефлешнСоверинг    Равнинное   \n",
       "628  629      6503              2283   Вис Бик Айдиал    Холмистое   \n",
       "\n",
       "    порода папы_быка  Жирность,%  Белок,% Вкус молока      Возраст  \\\n",
       "0             Айдиал        3.58    3.076      вкусно  более_2_лет   \n",
       "1            Соверин        3.54    3.079      вкусно  менее_2_лет   \n",
       "2            Соверин        3.59    3.074   не вкусно  более_2_лет   \n",
       "3             Айдиал        3.40    3.075   не вкусно  более_2_лет   \n",
       "4            Соверин        3.73    3.073      вкусно  менее_2_лет   \n",
       "..               ...         ...      ...         ...          ...   \n",
       "624           Айдиал        3.74    3.075   не вкусно  более_2_лет   \n",
       "625          Соверин        3.64    3.073      вкусно  менее_2_лет   \n",
       "626          Соверин        3.64    3.075   не вкусно  более_2_лет   \n",
       "627          Соверин        3.64    3.077      вкусно  более_2_лет   \n",
       "628          Соверин        3.71    3.076      вкусно  более_2_лет   \n",
       "\n",
       "     СПО (Сахаро-протеиновое соотношение)_бинарный  ЭКЕ в квадрате  Имя Папы  \n",
       "0                                                0          201.64    Буйный  \n",
       "1                                                0          163.84  Соловчик  \n",
       "2                                                0          196.00     Барин  \n",
       "3                                                0          153.76    Буйный  \n",
       "4                                                0          163.84     Барин  \n",
       "..                                             ...             ...       ...  \n",
       "624                                              1          237.16    Буйный  \n",
       "625                                              0          166.41     Барин  \n",
       "626                                              0          207.36     Барин  \n",
       "627                                              0          190.44     Барин  \n",
       "628                                              1          262.44  Соловчик  \n",
       "\n",
       "[629 rows x 13 columns]"
      ]
     },
     "execution_count": 59,
     "metadata": {},
     "output_type": "execute_result"
    }
   ],
   "source": [
    "new_ferma_main"
   ]
  },
  {
   "cell_type": "code",
   "execution_count": 60,
   "id": "41d98f5e",
   "metadata": {},
   "outputs": [],
   "source": [
    "RANDOM_STATE = 42\n",
    "\n",
    "# считываем CSV-файл в датафрейм pandas\n",
    "# выделяем в отдельные переменные целевой признак и входные признак\n",
    "X = new_ferma_main.drop(['Жирность,%', 'Белок,%', 'Вкус молока', 'Удой, кг'], axis=1)\n",
    "y = new_ferma_main['Удой, кг']"
   ]
  },
  {
   "cell_type": "code",
   "execution_count": 61,
   "id": "ac1184f5",
   "metadata": {},
   "outputs": [],
   "source": [
    "from sklearn.model_selection import train_test_split\n",
    "\n",
    "\n",
    "\n",
    "# разделите данные на тренировочные и тестовые, зафиксируйте random_state\n",
    "X_train, X_test, y_train, y_test = train_test_split(X,\n",
    "                                                    y,\n",
    "                                                    random_state=SEED)"
   ]
  },
  {
   "cell_type": "code",
   "execution_count": 62,
   "id": "5dcc8ea8",
   "metadata": {},
   "outputs": [],
   "source": [
    "from sklearn.preprocessing import OneHotEncoder\n",
    "\n",
    "encoder = OneHotEncoder(sparse = False)\n",
    "cat_col_names = ['Порода', 'Тип пастбища', 'порода папы_быка', 'Возраст', 'Имя Папы']\n",
    "# обучите и трансформируйте категориальные признаки из тренировочной выборки\n",
    "# сделайте это одной командой\n",
    "X_train_ohe = encoder.fit_transform(X_train[cat_col_names])\n",
    "X_test_ohe = encoder.transform(X_test[cat_col_names])\n",
    "\n",
    "# получите от кодировщика список новых столбцов и сохраните в новой переменной\n",
    "encoder_col_names = encoder.get_feature_names()\n",
    "\n",
    "# создаём тренировочный и тестовый датафреймы из закодированных и отмасштабированных данных\n",
    "# для данных OHE названия столбцов укажите из переменной encoder_col_names\n",
    "X_train_ohe = pd.DataFrame(X_train_ohe, columns=encoder_col_names)\n",
    "X_test_ohe = pd.DataFrame(X_test_ohe, columns=encoder_col_names)"
   ]
  },
  {
   "cell_type": "code",
   "execution_count": 63,
   "id": "da89a62c",
   "metadata": {},
   "outputs": [],
   "source": [
    "from sklearn.preprocessing import StandardScaler\n",
    "\n",
    "scaler = StandardScaler()\n",
    "num_col_names = ['ЭКЕ в квадрате', 'Сырой протеин, г', 'СПО (Сахаро-протеиновое соотношение)_бинарный']\n",
    "X_train_scaled = scaler.fit_transform(X_train[num_col_names])\n",
    "X_test_scaled = scaler.transform(X_test[num_col_names])"
   ]
  },
  {
   "cell_type": "code",
   "execution_count": 64,
   "id": "56be4446",
   "metadata": {},
   "outputs": [
    {
     "name": "stdout",
     "output_type": "stream",
     "text": [
      "Размерность матрицы обучающей выборки: (471, 9)\n",
      "Размерность вектора целевого признака: (471,)\n",
      "Размерность матрицы тестовой выборки: (158, 9)\n",
      "Размерность вектора целевого признака: (158,)\n"
     ]
    }
   ],
   "source": [
    "X_train_scaled = pd.DataFrame(X_train_scaled, columns=num_col_names)\n",
    "X_test_scaled = pd.DataFrame(X_test_scaled, columns=num_col_names)\n",
    "print(\"Размерность матрицы обучающей выборки:\", X_train.shape)\n",
    "print(\"Размерность вектора целевого признака:\", y_train.shape)\n",
    "print(\"Размерность матрицы тестовой выборки:\", X_test.shape)\n",
    "print(\"Размерность вектора целевого признака:\", y_test.shape)"
   ]
  },
  {
   "cell_type": "code",
   "execution_count": 65,
   "id": "d8504e94",
   "metadata": {},
   "outputs": [
    {
     "name": "stdout",
     "output_type": "stream",
     "text": [
      "Размерность матрицы обучающей выборки: (471, 15)\n",
      "Размерность вектора обучающей выборки: (471,)\n",
      "Размерность матрицы тестовой выборки: (158, 15)\n",
      "Размерность вектора тестовой выборки: (158,)\n",
      "   x0_Вис Бик Айдиал  x0_РефлешнСоверинг  x1_Равнинное  x1_Холмистое  \\\n",
      "0                0.0                 1.0           1.0           0.0   \n",
      "1                1.0                 0.0           1.0           0.0   \n",
      "2                0.0                 1.0           0.0           1.0   \n",
      "3                1.0                 0.0           0.0           1.0   \n",
      "4                1.0                 0.0           1.0           0.0   \n",
      "\n",
      "   x2_Айдиал  x2_Соверин  x3_более_2_лет  x3_менее_2_лет  x4_Барин  x4_Буйный  \\\n",
      "0        0.0         1.0             1.0             0.0       1.0        0.0   \n",
      "1        0.0         1.0             1.0             0.0       1.0        0.0   \n",
      "2        0.0         1.0             1.0             0.0       1.0        0.0   \n",
      "3        1.0         0.0             1.0             0.0       0.0        1.0   \n",
      "4        1.0         0.0             1.0             0.0       0.0        1.0   \n",
      "\n",
      "   x4_Геркулес  x4_Соловчик  ЭКЕ в квадрате  Сырой протеин, г  \\\n",
      "0          0.0          0.0        0.807187          0.069735   \n",
      "1          0.0          0.0        0.402176          0.336062   \n",
      "2          0.0          0.0       -0.142675         -0.468354   \n",
      "3          0.0          0.0        0.165502          1.852495   \n",
      "4          0.0          0.0       -1.085942          0.140393   \n",
      "\n",
      "   СПО (Сахаро-протеиновое соотношение)_бинарный  \n",
      "0                                       0.851631  \n",
      "1                                       0.851631  \n",
      "2                                      -1.174218  \n",
      "3                                       0.851631  \n",
      "4                                      -1.174218  \n"
     ]
    }
   ],
   "source": [
    "# объединение всех преобразованных данных в тренировочный и тестовый датафреймы\n",
    "X_train = pd.concat([X_train_ohe, X_train_scaled], axis=1).reset_index(drop=True)\n",
    "X_test = pd.concat([X_test_ohe, X_test_scaled], axis=1).reset_index(drop=True)\n",
    "print(\"Размерность матрицы обучающей выборки:\", X_train.shape)\n",
    "print(\"Размерность вектора обучающей выборки:\", y_train.shape)\n",
    "print(\"Размерность матрицы тестовой выборки:\", X_test.shape)\n",
    "print(\"Размерность вектора тестовой выборки:\", y_test.shape)\n",
    "# вывести пять первых строк из тренировочного датафрейма\n",
    "print(X_train.head(5))"
   ]
  },
  {
   "cell_type": "code",
   "execution_count": 66,
   "id": "ee5c104c",
   "metadata": {},
   "outputs": [
    {
     "data": {
      "text/plain": [
       "LinearRegression()"
      ]
     },
     "execution_count": 66,
     "metadata": {},
     "output_type": "execute_result"
    }
   ],
   "source": [
    "from sklearn.linear_model import LinearRegression\n",
    "\n",
    "model_lr_3 = LinearRegression()\n",
    "model_lr_3.fit(X_train, y_train)\n",
    "model_lr_3"
   ]
  },
  {
   "cell_type": "code",
   "execution_count": 67,
   "id": "13a84c9d",
   "metadata": {},
   "outputs": [
    {
     "name": "stdout",
     "output_type": "stream",
     "text": [
      "MAE номер 3 = 347\n"
     ]
    }
   ],
   "source": [
    "from sklearn.metrics import mean_absolute_error\n",
    "\n",
    "predictions = model_lr_3.predict(X_test)\n",
    "mae = mean_absolute_error(y_test, predictions)\n",
    "print(f'MAE номер 3 = {mae:.0f}')"
   ]
  },
  {
   "cell_type": "code",
   "execution_count": 68,
   "id": "8ae07207",
   "metadata": {},
   "outputs": [
    {
     "name": "stdout",
     "output_type": "stream",
     "text": [
      "R2 LinearRegression номер 3 = 0.16363580198272742\n"
     ]
    }
   ],
   "source": [
    "from sklearn.metrics import r2_score\n",
    "\n",
    "# рассчитайте значения R2 для линейной регрессии\n",
    "r2_lr_3 = r2_score(y_test, predictions)\n",
    "\n",
    "# выведите полученное значение R2\n",
    "print(\"R2 LinearRegression номер 3 =\", r2_lr_3)"
   ]
  },
  {
   "cell_type": "code",
   "execution_count": 69,
   "id": "04aef8f4",
   "metadata": {},
   "outputs": [
    {
     "data": {
      "image/png": "[encoded data removed]",
      "text/plain": [
       "<Figure size 720x360 with 2 Axes>"
      ]
     },
     "metadata": {
      "needs_background": "light"
     },
     "output_type": "display_data"
    }
   ],
   "source": [
    "import matplotlib.pyplot as plt\n",
    "\n",
    "residuals = y_test - predictions\n",
    "\n",
    "# постройте графики по количественным признакам — гистограмму частотности\n",
    "# распределения и диаграмму рассеяния\n",
    "fig, axes = plt.subplots(nrows=1, ncols=2, figsize=(10,5))\n",
    "axes[0].hist(residuals)\n",
    "axes[0].set_title('Гистограмма распределения остатков')\n",
    "axes[0].set_xlabel('Остатки')\n",
    "\n",
    "axes[1].scatter(predictions, residuals)\n",
    "axes[1].set_xlabel('Предсказания модели')\n",
    "axes[1].set_ylabel('Остатки')\n",
    "axes[1].set_title('Анализ дисперсии')\n",
    "plt.show()"
   ]
  },
  {
   "cell_type": "code",
   "execution_count": null,
   "id": "bdedd6e2",
   "metadata": {},
   "outputs": [],
   "source": []
  },
  {
   "cell_type": "code",
   "execution_count": null,
   "id": "b364f5cc",
   "metadata": {},
   "outputs": [],
   "source": []
  },
  {
   "cell_type": "code",
   "execution_count": null,
   "id": "2bcd04e5",
   "metadata": {},
   "outputs": [],
   "source": []
  },
  {
   "cell_type": "code",
   "execution_count": null,
   "id": "71315da3",
   "metadata": {},
   "outputs": [],
   "source": []
  },
  {
   "cell_type": "code",
   "execution_count": null,
   "id": "e9d87db2",
   "metadata": {},
   "outputs": [],
   "source": []
  },
  {
   "cell_type": "code",
   "execution_count": null,
   "id": "08d7743a",
   "metadata": {},
   "outputs": [],
   "source": []
  },
  {
   "cell_type": "code",
   "execution_count": null,
   "id": "6e389f57",
   "metadata": {},
   "outputs": [],
   "source": []
  },
  {
   "cell_type": "code",
   "execution_count": null,
   "id": "c7aa38cf",
   "metadata": {},
   "outputs": [],
   "source": []
  },
  {
   "cell_type": "markdown",
   "id": "6e4b9988",
   "metadata": {},
   "source": [
    "# Промежуточный выводы\n",
    "\n",
    "Была проверка на дубликаты и пропуски, больше их нет. Где необходимо были заменен тип данных на float"
   ]
  },
  {
   "cell_type": "markdown",
   "id": "7ce171a6",
   "metadata": {},
   "source": [
    "## Исследовательский анализ данных"
   ]
  },
  {
   "cell_type": "markdown",
   "id": "ad2fe993",
   "metadata": {},
   "source": [
    "Изучим данные удоя у текущего стада"
   ]
  },
  {
   "cell_type": "code",
   "execution_count": null,
   "id": "945b1de6",
   "metadata": {},
   "outputs": [],
   "source": [
    "ferma_main['Удой, кг'].describe()"
   ]
  },
  {
   "cell_type": "code",
   "execution_count": null,
   "id": "7ab787b1",
   "metadata": {},
   "outputs": [],
   "source": [
    "ferma_main['Удой, кг'].hist(bins=20)\n",
    "plt.xlabel('Удой в кг', rotation=45)\n",
    "plt.ylabel('Количество коров')\n",
    "plt.title('Распределение удоя')\n",
    "plt.xticks(rotation=45)\n",
    "plt.show()\n",
    "ferma_main.query('`Удой, кг` >= 5000 and `Удой, кг` <= 8000')['Удой, кг'].hist(bins = 20)\n",
    "plt.xlabel('Удой в кг', rotation=45)\n",
    "plt.ylabel('Количество коров')\n",
    "plt.title('Распределение удоя')\n",
    "plt.xticks(rotation=45)\n",
    "plt.show()"
   ]
  },
  {
   "cell_type": "markdown",
   "id": "d2a7b112",
   "metadata": {},
   "source": [
    "Как можно увидеть в изначальных данных есть один **ОГРОМНЫЙ** выброс в 45000, распределение надоя без него выглядит гораздо приятнее"
   ]
  },
  {
   "cell_type": "markdown",
   "id": "901ce1d0",
   "metadata": {},
   "source": [
    "Уберем его"
   ]
  },
  {
   "cell_type": "code",
   "execution_count": null,
   "id": "7e01fa5c",
   "metadata": {},
   "outputs": [],
   "source": [
    "Q1 = ferma_main['Удой, кг'].quantile(0.25) # 25-й процентиль\n",
    "Q3 = ferma_main['Удой, кг'].quantile(0.75) # 75-й процентиль\n",
    "IQR = Q3 - Q1 # Межквартильный размах\n",
    "\n",
    "lower_bound = Q1 - 1.5 * IQR\n",
    "upper_bound = Q3 + 1.5 * IQR\n",
    "\n",
    "# Нахождение выбросов\n",
    "outliers = ferma_main[(ferma_main['Удой, кг'] < lower_bound) | (ferma_main['Удой, кг'] > upper_bound)]\n",
    "\n",
    "# Удаление выбросов из датафрейма\n",
    "ferma_main = ferma_main[~ferma_main['Удой, кг'].isin(outliers['Удой, кг'])]\n",
    "\n",
    "# Вывод обновленного датафрейма\n",
    "print(ferma_main)"
   ]
  },
  {
   "cell_type": "code",
   "execution_count": null,
   "id": "15261ece",
   "metadata": {},
   "outputs": [],
   "source": [
    "ferma_main['Удой, кг'].describe()"
   ]
  },
  {
   "cell_type": "markdown",
   "id": "12af968b",
   "metadata": {},
   "source": [
    "Ура-ура его больше нет"
   ]
  },
  {
   "cell_type": "markdown",
   "id": "b3c553b6",
   "metadata": {},
   "source": [
    "ЭКЕ (Энергетическая кормовая единица)"
   ]
  },
  {
   "cell_type": "code",
   "execution_count": null,
   "id": "a3181b8b",
   "metadata": {},
   "outputs": [],
   "source": [
    "ferma_main['ЭКЕ (Энергетическая кормовая единица)'].describe()"
   ]
  },
  {
   "cell_type": "code",
   "execution_count": null,
   "id": "d9a87d5f",
   "metadata": {},
   "outputs": [],
   "source": [
    "ferma_main['ЭКЕ (Энергетическая кормовая единица)'].hist(bins=10)\n",
    "plt.xlabel('ЭКЕ', rotation=45)\n",
    "plt.ylabel('Количество коров')\n",
    "plt.title('ЭКЕ (Энергетическая кормовая единица)')\n",
    "plt.xticks(rotation=45)\n",
    "plt.show()\n",
    "ferma_main.query('`ЭКЕ (Энергетическая кормовая единица)` >= 10 and `ЭКЕ (Энергетическая кормовая единица)` <= 17')['ЭКЕ (Энергетическая кормовая единица)'].hist(bins = 10)\n",
    "plt.xlabel('ЭКЕ', rotation=45)\n",
    "plt.ylabel('Количество коров')\n",
    "plt.title('ЭКЕ (Энергетическая кормовая единица)')\n",
    "plt.xticks(rotation=45)\n",
    "plt.show()"
   ]
  },
  {
   "cell_type": "markdown",
   "id": "f29c91c8",
   "metadata": {},
   "source": [
    "Наиболее частое ЭКЕ 14,5 - 15,5"
   ]
  },
  {
   "cell_type": "markdown",
   "id": "f47b20f6",
   "metadata": {},
   "source": [
    "Проверим Сырой протеин, г"
   ]
  },
  {
   "cell_type": "code",
   "execution_count": null,
   "id": "9d7dc854",
   "metadata": {},
   "outputs": [],
   "source": [
    "ferma_main['Сырой протеин, г'].describe()"
   ]
  },
  {
   "cell_type": "code",
   "execution_count": null,
   "id": "f7b543d6",
   "metadata": {},
   "outputs": [],
   "source": [
    "ferma_main['Сырой протеин, г'].hist(bins=10)\n",
    "plt.xlabel('граммы', rotation=45)\n",
    "plt.ylabel('Количество коров')\n",
    "plt.title('Сырой протеин, г')\n",
    "plt.xticks(rotation=45)\n",
    "plt.show()\n",
    "ferma_main.query('`Сырой протеин, г` >= 1600 and `Сырой протеин, г` <= 2300')['Сырой протеин, г'].hist(bins = 10)\n",
    "plt.xlabel('граммы', rotation=45)\n",
    "plt.ylabel('Количество коров')\n",
    "plt.title('Сырой протеин, г')\n",
    "plt.xticks(rotation=45)\n",
    "plt.show()"
   ]
  },
  {
   "cell_type": "markdown",
   "id": "62c5f100",
   "metadata": {},
   "source": [
    "Видим что выбросов нету, а наиболее часто значение встречается от 1660 до 1850г"
   ]
  },
  {
   "cell_type": "markdown",
   "id": "9c74d8bc",
   "metadata": {},
   "source": [
    "Проверим СПО (Сахаро-протеиновое соотношение)"
   ]
  },
  {
   "cell_type": "code",
   "execution_count": null,
   "id": "051391a7",
   "metadata": {},
   "outputs": [],
   "source": [
    "ferma_main['СПО (Сахаро-протеиновое соотношение)'].describe()"
   ]
  },
  {
   "cell_type": "code",
   "execution_count": null,
   "id": "bf1d734d",
   "metadata": {},
   "outputs": [],
   "source": [
    "ferma_main['СПО (Сахаро-протеиновое соотношение)'].hist(bins=20)\n",
    "plt.xlabel('СПО', rotation=45)\n",
    "plt.ylabel('Количество коров')\n",
    "plt.title('СПО (Сахаро-протеиновое соотношение)')\n",
    "plt.xticks(rotation=45)\n",
    "plt.show()\n",
    "ferma_main.query('`СПО (Сахаро-протеиновое соотношение)` >= 0.84 and `СПО (Сахаро-протеиновое соотношение)` <= 1')['СПО (Сахаро-протеиновое соотношение)'].hist(bins = 20)\n",
    "plt.xlabel('СПО', rotation=45)\n",
    "plt.ylabel('Количество коров')\n",
    "plt.title('СПО (Сахаро-протеиновое соотношение)')\n",
    "plt.xticks(rotation=45)\n",
    "plt.show()"
   ]
  },
  {
   "cell_type": "markdown",
   "id": "404a0beb",
   "metadata": {},
   "source": [
    "Выбросов нету, наиболее частое значение 0.94"
   ]
  },
  {
   "cell_type": "markdown",
   "id": "3cfa1d1d",
   "metadata": {},
   "source": [
    "Проверим Жирность в %"
   ]
  },
  {
   "cell_type": "code",
   "execution_count": null,
   "id": "de26cba3",
   "metadata": {},
   "outputs": [],
   "source": [
    "ferma_main['Жирность,%'].describe()"
   ]
  },
  {
   "cell_type": "code",
   "execution_count": null,
   "id": "c760d363",
   "metadata": {},
   "outputs": [],
   "source": [
    "ferma_main['Жирность,%'].hist(bins=20)\n",
    "plt.xlabel('%', rotation=45)\n",
    "plt.ylabel('Количество коров')\n",
    "plt.title('Жирность в %')\n",
    "plt.xticks(rotation=45)\n",
    "plt.show()\n",
    "ferma_main.query('`Жирность,%` >= 2.5 and `Жирность,%` <= 4')['Жирность,%'].hist(bins = 20)\n",
    "plt.xlabel('%', rotation=45)\n",
    "plt.ylabel('Количество коров')\n",
    "plt.title('Жирность в %')\n",
    "plt.xticks(rotation=45)\n",
    "plt.show()"
   ]
  },
  {
   "cell_type": "markdown",
   "id": "58ac9119",
   "metadata": {},
   "source": [
    "Наиболее часто жирность состовляет 3.75%"
   ]
  },
  {
   "cell_type": "markdown",
   "id": "4e1340fb",
   "metadata": {},
   "source": [
    "Теперь проверим Белок в %"
   ]
  },
  {
   "cell_type": "code",
   "execution_count": null,
   "id": "3db1f512",
   "metadata": {},
   "outputs": [],
   "source": [
    "ferma_main['Белок,%'].describe()"
   ]
  },
  {
   "cell_type": "code",
   "execution_count": null,
   "id": "5a4f423d",
   "metadata": {},
   "outputs": [],
   "source": [
    "plt.ylim(3, 3.2)\n",
    "ferma_main.boxplot('Белок,%')\n",
    "plt.show()"
   ]
  },
  {
   "cell_type": "code",
   "execution_count": null,
   "id": "b787a0f5",
   "metadata": {},
   "outputs": [],
   "source": [
    "ferma_main['Белок,%'].hist(bins=30)\n",
    "plt.xlabel('%', rotation=45)\n",
    "plt.ylabel('Количество коров')\n",
    "plt.title('Белок в %')\n",
    "plt.xticks(rotation=45)\n",
    "plt.show()\n",
    "ferma_main.query('`Белок,%` >= 3 and `Белок,%` <= 3.2')['Белок,%'].hist(bins = 30)\n",
    "plt.xlabel('%', rotation=45)\n",
    "plt.ylabel('Количество коров')\n",
    "plt.title('Белок в %')\n",
    "plt.xticks(rotation=45)\n",
    "plt.show()"
   ]
  },
  {
   "cell_type": "markdown",
   "id": "80dbd752",
   "metadata": {},
   "source": [
    "Наиболее часто встречающееся значение 3.076%"
   ]
  },
  {
   "cell_type": "markdown",
   "id": "3e584f6d",
   "metadata": {},
   "source": [
    "Теперь проверим породу "
   ]
  },
  {
   "cell_type": "code",
   "execution_count": null,
   "id": "ea3abecd",
   "metadata": {},
   "outputs": [],
   "source": [
    "ferma_main['Порода'].value_counts().plot(kind='pie', autopct='%1.1f%%')\n",
    "plt.show()"
   ]
  },
  {
   "cell_type": "markdown",
   "id": "44398519",
   "metadata": {},
   "source": [
    "Почти 60% стада это порода Вис Бик Айдал, а всё потому что: 1)Вис Бик Айдиалы являются крупными животными, с взрослыми самцами, достигающими веса около 1200-1400 килограммов. Рефлешн Соверинги имеют более средний размер и вес, с взрослыми самцами, достигающими веса около 900-1000 килограммов.\n",
    "\n",
    "2) Мышечная масса: Обе породы имеют хорошо развитые мышцы, но Вис Бик Айдиалы обычно имеют более выпуклую и широкую спину, что делает их идеальными для производства высококачественного мяса.\n",
    "\n",
    "3) Адаптивность: Обе породы обладают хорошей адаптивностью к различным климатическим условиям. Однако, Рефлешн Соверинги изначально происходят из холодных регионов и могут иметь более высокую степень адаптивности к холодным погодным условиям."
   ]
  },
  {
   "cell_type": "markdown",
   "id": "d79f3377",
   "metadata": {},
   "source": [
    "Теперь проверим на каких пастбищах чаще выгуливаются"
   ]
  },
  {
   "cell_type": "code",
   "execution_count": null,
   "id": "e27352d9",
   "metadata": {},
   "outputs": [],
   "source": [
    "ferma_main['Тип пастбища'].value_counts().plot(kind='pie', autopct='%1.1f%%')\n",
    "plt.show()"
   ]
  },
  {
   "cell_type": "markdown",
   "id": "7ade18b3",
   "metadata": {},
   "source": [
    "Равнинное и Равнинные,наверное, одно и то же. Объединим"
   ]
  },
  {
   "cell_type": "code",
   "execution_count": null,
   "id": "dff933e2",
   "metadata": {},
   "outputs": [],
   "source": [
    "ferma_main['Тип пастбища'] = ferma_main['Тип пастбища'].replace(['Равнинное', 'Равнинные'], 'Равнинное')\n",
    "ferma_main['Тип пастбища'].value_counts().plot(kind='pie', autopct='%1.1f%%')\n",
    "plt.show()"
   ]
  },
  {
   "cell_type": "markdown",
   "id": "49eee343",
   "metadata": {},
   "source": [
    "Чаще выгуливаются на холмах"
   ]
  },
  {
   "cell_type": "markdown",
   "id": "94168b60",
   "metadata": {},
   "source": [
    "Теперь проверим породу папы быка"
   ]
  },
  {
   "cell_type": "code",
   "execution_count": null,
   "id": "ba9a2a6b",
   "metadata": {},
   "outputs": [],
   "source": [
    "ferma_main['порода папы_быка'].value_counts().plot(kind='pie', autopct='%1.1f%%')\n",
    "plt.show()"
   ]
  },
  {
   "cell_type": "markdown",
   "id": "f9f409a8",
   "metadata": {},
   "source": [
    "Внезапно обнаружилась очепятка есть АйдиаЛЛ и АйдиаЛ, наверное их надо объединить в группу"
   ]
  },
  {
   "cell_type": "code",
   "execution_count": null,
   "id": "0c8c263d",
   "metadata": {},
   "outputs": [],
   "source": [
    "ferma_main['порода папы_быка'] = ferma_main['порода папы_быка'].replace(['Айдиалл', 'Айдиал'], 'Айдиалл')\n",
    "ferma_main['порода папы_быка'].value_counts().plot(kind='pie', autopct='%1.1f%%')\n",
    "plt.show()"
   ]
  },
  {
   "cell_type": "markdown",
   "id": "84052c57",
   "metadata": {},
   "source": [
    "Теперь Соверин не лидирует вовсе, но соотношение практически разное"
   ]
  },
  {
   "cell_type": "markdown",
   "id": "f06a0400",
   "metadata": {},
   "source": [
    "Теперь самое важное, что же по вкусу?"
   ]
  },
  {
   "cell_type": "code",
   "execution_count": null,
   "id": "9d887d49",
   "metadata": {},
   "outputs": [],
   "source": [
    "ferma_main['Вкус молока'].value_counts().plot(kind='pie', autopct='%1.1f%%')\n",
    "plt.show()"
   ]
  },
  {
   "cell_type": "markdown",
   "id": "65d0dd09",
   "metadata": {},
   "source": [
    "Хм....60% ответило вкусно, хотелось бы больше, может это молочный хэйтеры или веганы со своим латте на кокосовомм молоке подъехали?"
   ]
  },
  {
   "cell_type": "markdown",
   "id": "cd58589a",
   "metadata": {},
   "source": [
    "Теперь посмотрим на возраст"
   ]
  },
  {
   "cell_type": "code",
   "execution_count": null,
   "id": "ee76d3fd",
   "metadata": {},
   "outputs": [],
   "source": [
    "ferma_main['Возраст'].value_counts().plot(kind='pie', autopct='%1.1f%%')\n",
    "plt.show()"
   ]
  },
  {
   "cell_type": "markdown",
   "id": "a602f9b3",
   "metadata": {},
   "source": [
    "Подавляющее большинство это 2+ года. Связано с тем что у нас компания связана с молоком, а не мясом. Их задача максимально долго \"выжимать\" корову до конца. Поэтому взрослых и больше. Будь это мясное хозяйство соотношение было бы противоположным"
   ]
  },
  {
   "cell_type": "markdown",
   "id": "442b4a40",
   "metadata": {},
   "source": [
    "Посмотрим на самого популярного быка осеменителя"
   ]
  },
  {
   "cell_type": "code",
   "execution_count": null,
   "id": "58fd1bb6",
   "metadata": {
    "scrolled": true
   },
   "outputs": [],
   "source": [
    "ferma_dad['Имя Папы'].value_counts().plot(kind='pie', autopct='%1.1f%%')\n",
    "plt.show()"
   ]
  },
  {
   "cell_type": "markdown",
   "id": "cb3c7b09",
   "metadata": {},
   "source": [
    "Буйный и Барин, вот это компания. А вместе они страшная сила"
   ]
  },
  {
   "cell_type": "markdown",
   "id": "f30abedb",
   "metadata": {},
   "source": [
    "Теперь посмотрим на данные о коровах «ЭкоФермы», которых фермер хочет изучить перед покупкой"
   ]
  },
  {
   "cell_type": "code",
   "execution_count": null,
   "id": "43c7db02",
   "metadata": {},
   "outputs": [],
   "source": [
    "cow_buy['Текущая_жирность,%'].describe()"
   ]
  },
  {
   "cell_type": "code",
   "execution_count": null,
   "id": "6c320fb1",
   "metadata": {},
   "outputs": [],
   "source": [
    "plt.ylim(3, 3.8)\n",
    "cow_buy.boxplot('Текущая_жирность,%')\n",
    "plt.show() "
   ]
  },
  {
   "cell_type": "markdown",
   "id": "d402709a",
   "metadata": {},
   "source": [
    "Выбросов нету"
   ]
  },
  {
   "cell_type": "code",
   "execution_count": null,
   "id": "75d2c00d",
   "metadata": {},
   "outputs": [],
   "source": [
    "cow_buy['Текущая_жирность,%'].hist(bins=30)\n",
    "plt.xlabel('%', rotation=45)\n",
    "plt.ylabel('Количество коров')\n",
    "plt.title('Жирность в %')\n",
    "plt.xticks(rotation=45)\n",
    "plt.show()"
   ]
  },
  {
   "cell_type": "markdown",
   "id": "a7b599db",
   "metadata": {},
   "source": [
    "Наиболее частая жирность молока у сторонней фермы это 3.4% и 3.75"
   ]
  },
  {
   "cell_type": "markdown",
   "id": "ba8513cd",
   "metadata": {},
   "source": [
    "Теперь рассмотрим процент белка в молоке"
   ]
  },
  {
   "cell_type": "code",
   "execution_count": null,
   "id": "611a4c5c",
   "metadata": {},
   "outputs": [],
   "source": [
    "cow_buy['Текущий_уровень_белок,%'].describe()"
   ]
  },
  {
   "cell_type": "code",
   "execution_count": null,
   "id": "b48808cc",
   "metadata": {},
   "outputs": [],
   "source": [
    "plt.ylim(3, 3.1)\n",
    "cow_buy.boxplot('Текущий_уровень_белок,%')\n",
    "plt.show() "
   ]
  },
  {
   "cell_type": "markdown",
   "id": "42701e99",
   "metadata": {},
   "source": [
    "Выбросов нету"
   ]
  },
  {
   "cell_type": "code",
   "execution_count": null,
   "id": "f99d95b9",
   "metadata": {},
   "outputs": [],
   "source": [
    "cow_buy['Текущий_уровень_белок,%'].hist(bins=10)\n",
    "plt.xlabel('%', rotation=45)\n",
    "plt.ylabel('Количество коров')\n",
    "plt.title('Белок в %')\n",
    "plt.xticks(rotation=45)\n",
    "plt.show()"
   ]
  },
  {
   "cell_type": "markdown",
   "id": "e16f4dad",
   "metadata": {},
   "source": [
    "Чаще всего это значение достигает 3.075-3.08%"
   ]
  },
  {
   "cell_type": "markdown",
   "id": "1bd06514",
   "metadata": {},
   "source": [
    "Теперь посмотрим какая порода чаще в месте предполагаемой закупки"
   ]
  },
  {
   "cell_type": "code",
   "execution_count": null,
   "id": "bcd303a4",
   "metadata": {},
   "outputs": [],
   "source": [
    "cow_buy['Порода'].value_counts().plot(kind='pie', autopct='%1.1f%%')\n",
    "plt.show()"
   ]
  },
  {
   "cell_type": "markdown",
   "id": "694db321",
   "metadata": {},
   "source": [
    "Этих пород равное количество"
   ]
  },
  {
   "cell_type": "markdown",
   "id": "1542ddba",
   "metadata": {},
   "source": [
    "Теперь посмотрим тип пастбища"
   ]
  },
  {
   "cell_type": "code",
   "execution_count": null,
   "id": "bbff83c7",
   "metadata": {},
   "outputs": [],
   "source": [
    "cow_buy['Тип пастбища'].value_counts().plot(kind='pie', autopct='%1.1f%%')\n",
    "plt.show()"
   ]
  },
  {
   "cell_type": "markdown",
   "id": "0a792e63",
   "metadata": {},
   "source": [
    "Одинаковое количество"
   ]
  },
  {
   "cell_type": "markdown",
   "id": "1dcb7880",
   "metadata": {},
   "source": [
    "Рассмотрим породу папы быка"
   ]
  },
  {
   "cell_type": "code",
   "execution_count": null,
   "id": "4078f73a",
   "metadata": {},
   "outputs": [],
   "source": [
    "cow_buy['порода папы_быка'].value_counts().plot(kind='pie', autopct='%1.1f%%')\n",
    "plt.show()"
   ]
  },
  {
   "cell_type": "markdown",
   "id": "f287a509",
   "metadata": {},
   "source": [
    "Наиболее часто это Соверин"
   ]
  },
  {
   "cell_type": "markdown",
   "id": "87da96a6",
   "metadata": {},
   "source": [
    "Рассмотрим наиболее частое имя счатливого отца"
   ]
  },
  {
   "cell_type": "code",
   "execution_count": null,
   "id": "83453af3",
   "metadata": {},
   "outputs": [],
   "source": [
    "cow_buy['Имя_папы'].value_counts().plot(kind='pie', autopct='%1.1f%%')\n",
    "plt.show()"
   ]
  },
  {
   "cell_type": "markdown",
   "id": "b557ca7a",
   "metadata": {},
   "source": [
    "Наиболее часто это Буйный"
   ]
  },
  {
   "cell_type": "markdown",
   "id": "818fc9e0",
   "metadata": {},
   "source": [
    "# Промежуточный вывод\n",
    "\n",
    "Проведен статистический анализ всех признаков и построены разные графики для категориальных и количественных признаков. Вот некоторые факты о нашем стаде: Чаще всего встречается возраст 2+ года, порода Вис Бик Айдиал больше, а гуляют чаще по холмистой местности. В ходе работы выбросов не было замечено.\n",
    "\n",
    "Также стоит уточнить что была найдена опечатка связанная с породой, а именно АйдиаЛЛ и АйдиаЛ, были заменены на АйдиаЛЛ"
   ]
  },
  {
   "cell_type": "markdown",
   "id": "4e81e621",
   "metadata": {},
   "source": [
    "## Корреляционный анализ"
   ]
  },
  {
   "cell_type": "markdown",
   "id": "4dbc6f6c",
   "metadata": {},
   "source": [
    "Изучим взаимосвязь между целевым и входными признаками. Целевых признаков у нас 2: удой и вкус молока."
   ]
  },
  {
   "cell_type": "markdown",
   "id": "080e9eb0",
   "metadata": {},
   "source": [
    "Проверяем на нормальность распредение данный удоя"
   ]
  },
  {
   "cell_type": "code",
   "execution_count": null,
   "id": "5777dd89",
   "metadata": {},
   "outputs": [],
   "source": [
    "ferma_main['Удой, кг'].hist(bins = 20)\n",
    "plt.xlabel('Удой в кг', rotation=45)\n",
    "plt.ylabel('Количество коров')\n",
    "plt.title('Распределение удоя')\n",
    "plt.xticks(rotation=45)\n",
    "plt.show()\n",
    "data_y = ferma_main['Удой, кг']\n",
    "\n",
    "# Построение QQ-графика\n",
    "stats.probplot(data_y, dist='norm', plot=plt)\n",
    "plt.xlabel('Теоретические квантили')\n",
    "plt.ylabel('Удой в кг')\n",
    "plt.title('QQ-график удоя')\n",
    "plt.show()"
   ]
  },
  {
   "cell_type": "code",
   "execution_count": null,
   "id": "c64a629f",
   "metadata": {},
   "outputs": [],
   "source": [
    "shapiro_test = stats.shapiro(ferma_main['Удой, кг'])\n",
    "\n",
    "\n",
    "print(\"Статистика теста Шапиро:\", shapiro_test.statistic)\n",
    "print(\"p-значение Шапиро:\", shapiro_test.pvalue)"
   ]
  },
  {
   "cell_type": "markdown",
   "id": "533ae1da",
   "metadata": {},
   "source": [
    "Распределение не является нормальным.\n",
    "Но посоветовавшись с наставником он сказал: Ваша выборка не соответствует критериям нормального распределения согласно проведенному тесту. Однако, так как Q-Q график показывает распределение, близкое к нормальному, то при условии что выборка достаточно большая, можно использовать методы, основанные на нормальном распределении.\n",
    "\n",
    "У вас также в выборке нет сильной асимметрии или выбросов, что не позволило бы использовать эти методы.\n",
    "\n",
    "Попробую использовать как нормальное распределение"
   ]
  },
  {
   "cell_type": "markdown",
   "id": "455732b5",
   "metadata": {},
   "source": [
    "Теперь рассмотрим распределение ЭКЕ"
   ]
  },
  {
   "cell_type": "code",
   "execution_count": null,
   "id": "e3be3fec",
   "metadata": {
    "scrolled": true
   },
   "outputs": [],
   "source": [
    "ferma_main['ЭКЕ (Энергетическая кормовая единица)'].hist(bins = 20)\n",
    "plt.xlabel('ЭКЕ', rotation=45)\n",
    "plt.ylabel('Количество коров')\n",
    "plt.title('Энергетическая кормовая единица')\n",
    "plt.xticks(rotation=45)\n",
    "plt.show()\n",
    "data = ferma_main['ЭКЕ (Энергетическая кормовая единица)']\n",
    "\n",
    "# Построение QQ-графика\n",
    "stats.probplot(data, dist='norm', plot=plt)\n",
    "plt.xlabel('Теоретические квантили')\n",
    "plt.ylabel('Удой в кг')\n",
    "plt.title('QQ-график удоя')\n",
    "plt.show()"
   ]
  },
  {
   "cell_type": "code",
   "execution_count": null,
   "id": "743784a7",
   "metadata": {},
   "outputs": [],
   "source": [
    "shapiro_test = stats.shapiro(ferma_main['ЭКЕ (Энергетическая кормовая единица)'])\n",
    "\n",
    "\n",
    "print(\"Статистика теста Шапиро:\", shapiro_test.statistic)\n",
    "print(\"p-значение Шапиро:\", shapiro_test.pvalue)"
   ]
  },
  {
   "cell_type": "markdown",
   "id": "8fbe6628",
   "metadata": {},
   "source": [
    "Распределение ненормальное, но попробую испоользовать как нормальное т.к нет большого количества выбросов и график Q-Q нормальный"
   ]
  },
  {
   "cell_type": "markdown",
   "id": "fedb55b7",
   "metadata": {},
   "source": [
    "Рассмотрим распределение сырого протеина"
   ]
  },
  {
   "cell_type": "code",
   "execution_count": null,
   "id": "2095397d",
   "metadata": {
    "scrolled": true
   },
   "outputs": [],
   "source": [
    "ferma_main['Сырой протеин, г'].hist(bins = 20)\n",
    "plt.xlabel('Сырой протеин, г', rotation=45)\n",
    "plt.ylabel('Количество коров')\n",
    "plt.title('Сырой протеин, г')\n",
    "plt.xticks(rotation=45)\n",
    "plt.show()\n",
    "data = ferma_main['Сырой протеин, г']\n",
    "\n",
    "# Построение QQ-графика\n",
    "stats.probplot(data, dist='norm', plot=plt)\n",
    "plt.xlabel('Теоретические квантили')\n",
    "plt.ylabel('Сырой протеин в граммах')\n",
    "plt.title('QQ-график сырого протеина в граммах')\n",
    "plt.show()"
   ]
  },
  {
   "cell_type": "markdown",
   "id": "c2244277",
   "metadata": {},
   "source": [
    "Тут не всё так очевидно, проведем тест Шапиро-Уилка и Колмогорова-Смирнова"
   ]
  },
  {
   "cell_type": "code",
   "execution_count": null,
   "id": "6fe71c7b",
   "metadata": {},
   "outputs": [],
   "source": [
    "shapiro_test = stats.shapiro(ferma_main['Сырой протеин, г'])\n",
    "\n",
    "\n",
    "print(\"Статистика теста Шапиро:\", shapiro_test.statistic)\n",
    "print(\"p-значение Шапиро:\", shapiro_test.pvalue)"
   ]
  },
  {
   "cell_type": "markdown",
   "id": "e8b8c708",
   "metadata": {},
   "source": [
    "р значение меньше 0.05 значит распределение ненормальное, но буду использовать как нормальное основываясь на графике Q-Q"
   ]
  },
  {
   "cell_type": "markdown",
   "id": "ee6a2b79",
   "metadata": {},
   "source": [
    "Рассмотрим нормальность СПО"
   ]
  },
  {
   "cell_type": "code",
   "execution_count": null,
   "id": "7c5d787b",
   "metadata": {},
   "outputs": [],
   "source": [
    "ferma_main['СПО (Сахаро-протеиновое соотношение)'].hist(bins = 20)\n",
    "plt.xlabel('%', rotation=45)\n",
    "plt.ylabel('Количество коров')\n",
    "plt.title('СПО')\n",
    "plt.xticks(rotation=45)\n",
    "plt.show()\n",
    "data = ferma_main['СПО (Сахаро-протеиновое соотношение)']\n",
    "\n",
    "# Построение QQ-графика\n",
    "stats.probplot(data, dist='norm', plot=plt)\n",
    "plt.xlabel('Теоретические квантили')\n",
    "plt.ylabel('СПО')\n",
    "plt.title('QQ-график СПО')\n",
    "plt.show() \n",
    "shapiro_test = stats.shapiro(ferma_main['СПО (Сахаро-протеиновое соотношение)'])\n",
    "\n",
    "\n",
    "print(\"Статистика теста Шапиро:\", shapiro_test.statistic)\n",
    "print(\"p-значение Шапиро:\", shapiro_test.pvalue)"
   ]
  },
  {
   "cell_type": "markdown",
   "id": "5139796e",
   "metadata": {},
   "source": [
    "Распределение ненормальное"
   ]
  },
  {
   "cell_type": "markdown",
   "id": "f7cc8191",
   "metadata": {},
   "source": [
    "Рассмотрим нормальность распределения жирности в %"
   ]
  },
  {
   "cell_type": "code",
   "execution_count": null,
   "id": "78c5f8ac",
   "metadata": {},
   "outputs": [],
   "source": [
    "ferma_main['Жирность,%'].hist(bins = 20)\n",
    "plt.xlabel('%', rotation=45)\n",
    "plt.ylabel('Количество коров')\n",
    "plt.title('Жирность,%')\n",
    "plt.xticks(rotation=45)\n",
    "plt.show()\n",
    "data = ferma_main['Жирность,%']\n",
    "\n",
    "# Построение QQ-графика\n",
    "stats.probplot(data, dist='norm', plot=plt)\n",
    "plt.xlabel('Теоретические квантили')\n",
    "plt.ylabel('Жирность,%')\n",
    "plt.title('QQ-график жирности в %')\n",
    "plt.show() "
   ]
  },
  {
   "cell_type": "markdown",
   "id": "a895ee29",
   "metadata": {},
   "source": [
    "Похоже что распределение несовсем нормальное..."
   ]
  },
  {
   "cell_type": "code",
   "execution_count": null,
   "id": "26c8a5a9",
   "metadata": {},
   "outputs": [],
   "source": [
    "shapiro_test = stats.shapiro(ferma_main['Жирность,%'])\n",
    "\n",
    "\n",
    "print(\"Статистика теста Шапиро:\", shapiro_test.statistic)\n",
    "print(\"p-значение Шапиро:\", shapiro_test.pvalue)"
   ]
  },
  {
   "cell_type": "markdown",
   "id": "88194198",
   "metadata": {},
   "source": [
    "Распределение ненормальное"
   ]
  },
  {
   "cell_type": "markdown",
   "id": "e07e1d70",
   "metadata": {},
   "source": [
    "Рассмотрим нормальность распределения белка в %"
   ]
  },
  {
   "cell_type": "code",
   "execution_count": null,
   "id": "10d0ecc0",
   "metadata": {},
   "outputs": [],
   "source": [
    "ferma_main['Белок,%'].hist(bins = 20)\n",
    "plt.xlabel('%', rotation=45)\n",
    "plt.ylabel('Количество коров')\n",
    "plt.title('Белок,%')\n",
    "plt.xticks(rotation=45)\n",
    "plt.show()\n",
    "data = ferma_main['Белок,%']\n",
    "\n",
    "# Построение QQ-графика\n",
    "stats.probplot(data, dist='norm', plot=plt)\n",
    "plt.xlabel('Теоретические квантили')\n",
    "plt.ylabel('Белок,%')\n",
    "plt.title('QQ-график белка в %')\n",
    "plt.show()\n",
    "shapiro_test = stats.shapiro(ferma_main['Белок,%'])\n",
    "\n",
    "\n",
    "print(\"Статистика теста Шапиро:\", shapiro_test.statistic)\n",
    "print(\"p-значение Шапиро:\", shapiro_test.pvalue)"
   ]
  },
  {
   "cell_type": "markdown",
   "id": "4817b5b9",
   "metadata": {},
   "source": [
    "Всё неоднозначно, статистика теста близка к 1 но значение малое, скорее всего это нормальное распределение с небольшими отклонениями"
   ]
  },
  {
   "cell_type": "markdown",
   "id": "c93e0de7",
   "metadata": {},
   "source": [
    "Рассмотрим данные из датасета cow_buy Текущая_жирность,%       20 non-null     float64\n",
    " 5   Текущий_уровень_белок,%"
   ]
  },
  {
   "cell_type": "markdown",
   "id": "a7b1a055",
   "metadata": {},
   "source": [
    "Рассмотрим текущую жирность в %"
   ]
  },
  {
   "cell_type": "code",
   "execution_count": null,
   "id": "28a766bf",
   "metadata": {},
   "outputs": [],
   "source": [
    "cow_buy['Текущая_жирность,%'].hist(bins = 20)\n",
    "plt.xlabel('%', rotation=45)\n",
    "plt.ylabel('Количество коров')\n",
    "plt.title('Текущая жирность в %')\n",
    "plt.xticks(rotation=45)\n",
    "plt.show()\n",
    "data = cow_buy['Текущая_жирность,%']\n",
    "\n",
    "# Построение QQ-графика\n",
    "stats.probplot(data, dist='norm', plot=plt)\n",
    "plt.xlabel('Теоретические квантили')\n",
    "plt.ylabel('жирность,%')\n",
    "plt.title('QQ-график текущей жирности в %')\n",
    "plt.show()\n",
    "shapiro_test = stats.shapiro(cow_buy['Текущая_жирность,%'])\n",
    "\n",
    "\n",
    "print(\"Статистика теста Шапиро:\", shapiro_test.statistic)\n",
    "print(\"p-значение Шапиро:\", shapiro_test.pvalue)"
   ]
  },
  {
   "cell_type": "markdown",
   "id": "5beb2d59",
   "metadata": {},
   "source": [
    "По данным теста и графика значение можно назвать нормальным"
   ]
  },
  {
   "cell_type": "markdown",
   "id": "6b18d643",
   "metadata": {},
   "source": [
    "Рассмотрим текущий уровень белка в %"
   ]
  },
  {
   "cell_type": "code",
   "execution_count": null,
   "id": "ee5ba3b9",
   "metadata": {},
   "outputs": [],
   "source": [
    "cow_buy['Текущий_уровень_белок,%'].hist(bins = 20)\n",
    "plt.xlabel('%', rotation=45)\n",
    "plt.ylabel('Количество коров')\n",
    "plt.title('Текущий уровень белка в %')\n",
    "plt.xticks(rotation=45)\n",
    "plt.show()\n",
    "data = cow_buy['Текущий_уровень_белок,%']\n",
    "\n",
    "# Построение QQ-графика\n",
    "stats.probplot(data, dist='norm', plot=plt)\n",
    "plt.xlabel('Теоретические квантили')\n",
    "plt.ylabel('уровень белка в %')\n",
    "plt.title('QQ-график текущеи уровень белка в %')\n",
    "plt.show()\n",
    "shapiro_test = stats.shapiro(cow_buy['Текущий_уровень_белок,%'])\n",
    "\n",
    "\n",
    "print(\"Статистика теста Шапиро:\", shapiro_test.statistic)\n",
    "print(\"p-значение Шапиро:\", shapiro_test.pvalue)"
   ]
  },
  {
   "cell_type": "markdown",
   "id": "4a75f34a",
   "metadata": {},
   "source": [
    "Из-за р значения данное распределение не является нормальным"
   ]
  },
  {
   "cell_type": "markdown",
   "id": "94743d06",
   "metadata": {},
   "source": [
    "Мы выяснили какие данные нормально распределены а какие нет, теперь начнём строить графики корреляции"
   ]
  },
  {
   "cell_type": "markdown",
   "id": "2e1a3cf8",
   "metadata": {},
   "source": [
    "### Корелляция по удою"
   ]
  },
  {
   "cell_type": "markdown",
   "id": "150835df",
   "metadata": {},
   "source": [
    "Корелляция между удоем и ЭКЕ "
   ]
  },
  {
   "cell_type": "code",
   "execution_count": null,
   "id": "afae41bd",
   "metadata": {},
   "outputs": [],
   "source": [
    "ferma_main.plot(x='Удой, кг', y='ЭКЕ (Энергетическая кормовая единица)', kind='scatter', alpha=0.5, grid = True)\n",
    "plt.title('Корелляция между удоем и ЭКЕ')\n",
    "plt.xticks(rotation=45)\n",
    "plt.show()\n",
    "cor = ferma_main['Удой, кг'].corr(ferma_main['ЭКЕ (Энергетическая кормовая единица)'])\n",
    "correlation, p_value = stats.pearsonr(ferma_main['Удой, кг'], ferma_main['ЭКЕ (Энергетическая кормовая единица)'])\n",
    "\n",
    "# Выводим результаты корреляции\n",
    "print(\"Коэффициент корреляции Пирсона:\", correlation)\n",
    "print(\"p-значение:\", p_value)\n",
    "print(\"Коэффициент корреляции без учета коэф.Пирсона:\", cor)\n"
   ]
  },
  {
   "cell_type": "markdown",
   "id": "3739cc1c",
   "metadata": {},
   "source": [
    "Корелляция сильная"
   ]
  },
  {
   "cell_type": "markdown",
   "id": "f652baa2",
   "metadata": {},
   "source": [
    "Рассмотрим корелляцию с сырым протеином"
   ]
  },
  {
   "cell_type": "code",
   "execution_count": null,
   "id": "201779e9",
   "metadata": {},
   "outputs": [],
   "source": [
    "ferma_main.plot(x='Удой, кг', y='Сырой протеин, г', kind='scatter', alpha=0.5, grid = True)\n",
    "plt.title('Корелляция между удоем и сырым протеином')\n",
    "plt.xticks(rotation=45)\n",
    "plt.show()\n",
    "cor = ferma_main['Удой, кг'].corr(ferma_main['Сырой протеин, г'])\n",
    "correlation, p_value = stats.pearsonr(ferma_main['Удой, кг'], ferma_main['Сырой протеин, г'])\n",
    "\n",
    "# Выводим результаты корреляции\n",
    "print(\"Коэффициент корреляции Пирсона:\", correlation)\n",
    "print(\"p-значение:\", p_value)\n",
    "print(\"Коэффициент корреляции без учета коэф.Пирсона:\", cor)\n"
   ]
  },
  {
   "cell_type": "markdown",
   "id": "e1893c1d",
   "metadata": {},
   "source": [
    "Корелляция слабая"
   ]
  },
  {
   "cell_type": "markdown",
   "id": "beaab23d",
   "metadata": {},
   "source": [
    "Проверим корелляцию с СПО"
   ]
  },
  {
   "cell_type": "code",
   "execution_count": null,
   "id": "951ef469",
   "metadata": {},
   "outputs": [],
   "source": [
    "ferma_main.plot(x='Удой, кг', y='СПО (Сахаро-протеиновое соотношение)', kind='scatter', alpha=0.5, grid=True)\n",
    "plt.title('Корелляция между удоем и СПО')\n",
    "plt.xticks(rotation=45)\n",
    "plt.show()\n",
    "\n",
    "cor = ferma_main['Удой, кг'].corr(ferma_main['СПО (Сахаро-протеиновое соотношение)'])\n",
    "correlation, p_value = stats.spearmanr(ferma_main['Удой, кг'], ferma_main['СПО (Сахаро-протеиновое соотношение)'])\n",
    "\n",
    "# Выводим результаты корреляции\n",
    "print(\"Коэффициент корреляции Спирмена:\", correlation)\n",
    "print(\"p-значение:\", p_value)"
   ]
  },
  {
   "cell_type": "markdown",
   "id": "d93ab77a",
   "metadata": {},
   "source": [
    "Корелляция сильная"
   ]
  },
  {
   "cell_type": "markdown",
   "id": "557e617b",
   "metadata": {},
   "source": [
    "Посмотрим зависимость с породой"
   ]
  },
  {
   "cell_type": "code",
   "execution_count": null,
   "id": "af90be92",
   "metadata": {},
   "outputs": [],
   "source": [
    "ferma_main['Порода'] = ferma_main['Порода'].astype('category').cat.codes\n",
    "# Стандартизация числового признака\n",
    "scaler = StandardScaler()\n",
    "ferma_main['Порода'] = scaler.fit_transform(ferma_main['Порода'].values.reshape(-1, 1))\n",
    "ferma_main['Удой, кг'] = scaler.fit_transform(ferma_main['Удой, кг'].values.reshape(-1, 1))\n",
    "# Построение scatter plot\n",
    "sns.scatterplot(data=ferma_main, x='Удой, кг', y='Порода', hue=ferma_main['Порода'], legend='full', alpha=0.5)\n",
    "plt.grid(True)\n",
    "\n",
    "# Вычисление корреляции Пирсона\n",
    "corr_pearson = ferma_main['Удой, кг'].corr(ferma_main['Порода'])\n",
    "\n",
    "# Вычисление корреляции Спирмена\n",
    "corr_spearman, _ = spearmanr(ferma_main['Удой, кг'], ferma_main['Порода'])\n",
    "\n",
    "# Вывод значений корреляций\n",
    "print('Корреляция Пирсона:', corr_pearson)\n",
    "print('Корреляция Спирмена:', corr_spearman)"
   ]
  },
  {
   "cell_type": "markdown",
   "id": "6e8dad05",
   "metadata": {},
   "source": [
    "Проверим с типом пастбища"
   ]
  },
  {
   "cell_type": "code",
   "execution_count": null,
   "id": "be96461a",
   "metadata": {},
   "outputs": [],
   "source": [
    "ferma_main['Тип пастбища'] = ferma_main['Тип пастбища'].astype('category').cat.codes\n",
    "# Стандартизация числового признака\n",
    "scaler = StandardScaler()\n",
    "ferma_main['Тип пастбища'] = scaler.fit_transform(ferma_main['Тип пастбища'].values.reshape(-1, 1))\n",
    "ferma_main['Удой, кг'] = scaler.fit_transform(ferma_main['Удой, кг'].values.reshape(-1, 1))\n",
    "# Построение scatter plot\n",
    "sns.scatterplot(data=ferma_main, x='Удой, кг', y='Тип пастбища', hue=ferma_main['Тип пастбища'], alpha=0.5)\n",
    "plt.grid(True)\n",
    "\n",
    "# Вычисление корреляции Пирсона\n",
    "corr_pearson = ferma_main['Удой, кг'].corr(ferma_main['Тип пастбища'])\n",
    "\n",
    "# Вычисление корреляции Спирмена\n",
    "corr_spearman, _ = spearmanr(ferma_main['Удой, кг'], ferma_main['Тип пастбища'])\n",
    "\n",
    "# Вывод значений корреляций\n",
    "print('Корреляция Пирсона:', corr_pearson)\n",
    "print('Корреляция Спирмена:', corr_spearman)"
   ]
  },
  {
   "cell_type": "markdown",
   "id": "37e9c753",
   "metadata": {},
   "source": [
    "Теперь проверим по породе папы быка"
   ]
  },
  {
   "cell_type": "code",
   "execution_count": null,
   "id": "7df1d397",
   "metadata": {},
   "outputs": [],
   "source": [
    "ferma_main['порода папы_быка'] = ferma_main['порода папы_быка'].astype('category').cat.codes\n",
    "# Стандартизация числового признака\n",
    "scaler = StandardScaler()\n",
    "ferma_main['порода папы_быка'] = scaler.fit_transform(ferma_main['порода папы_быка'].values.reshape(-1, 1))\n",
    "ferma_main['Удой, кг'] = scaler.fit_transform(ferma_main['Удой, кг'].values.reshape(-1, 1))\n",
    "# Построение scatter plot\n",
    "sns.scatterplot(data=ferma_main, x='Удой, кг', y='порода папы_быка', alpha=0.5)\n",
    "plt.grid(True)\n",
    "\n",
    "# Вычисление корреляции Пирсона\n",
    "corr_pearson = ferma_main['Удой, кг'].corr(ferma_main['порода папы_быка'])\n",
    "\n",
    "# Вычисление корреляции Спирмена\n",
    "corr_spearman, _ = spearmanr(ferma_main['Удой, кг'], ferma_main['порода папы_быка'])\n",
    "\n",
    "# Вывод значений корреляций\n",
    "print('Корреляция Пирсона:', corr_pearson)\n",
    "print('Корреляция Спирмена:', corr_spearman)"
   ]
  },
  {
   "cell_type": "markdown",
   "id": "347d6061",
   "metadata": {},
   "source": [
    "Корелляция сильная"
   ]
  },
  {
   "cell_type": "markdown",
   "id": "06910a74",
   "metadata": {},
   "source": [
    "Теперь проверим связь с жирностью в % "
   ]
  },
  {
   "cell_type": "code",
   "execution_count": null,
   "id": "cee7273c",
   "metadata": {},
   "outputs": [],
   "source": [
    "ferma_main.plot(x='Удой, кг', y='Жирность,%', kind='scatter', alpha=0.5, grid=True)\n",
    "plt.title('Корреляция между удоем и жирностью в %')\n",
    "plt.xticks(rotation=45)\n",
    "plt.show()\n",
    "\n",
    "\n",
    "correlation, p_value = stats.pearsonr(ferma_main['Удой, кг'], ferma_main['Жирность,%'])\n",
    "\n",
    "# Выводим результаты корреляции\n",
    "\n",
    "print(\"Коэффициент корреляции Пирсона:\", correlation)\n",
    "print(\"p-значение:\", p_value)"
   ]
  },
  {
   "cell_type": "markdown",
   "id": "56cd7065",
   "metadata": {},
   "source": [
    "Корелляция сильная"
   ]
  },
  {
   "cell_type": "markdown",
   "id": "1344fa82",
   "metadata": {},
   "source": [
    "Сравним с белком в %"
   ]
  },
  {
   "cell_type": "code",
   "execution_count": null,
   "id": "6d823add",
   "metadata": {},
   "outputs": [],
   "source": [
    "ferma_main.plot(x='Удой, кг', y='Белок,%', kind='scatter', alpha=0.5, grid=True)\n",
    "plt.title('Корреляция между удоем и белком в %')\n",
    "plt.xticks(rotation=45)\n",
    "plt.show()\n",
    "\n",
    "\n",
    "correlation, p_value = stats.spearmanr(ferma_main['Удой, кг'], ferma_main['Белок,%'])\n",
    "\n",
    "# Выводим результаты корреляции\n",
    "\n",
    "print(\"Коэффициент корреляции Спирмена:\", correlation)\n",
    "print(\"p-значение:\", p_value)"
   ]
  },
  {
   "cell_type": "markdown",
   "id": "0c827005",
   "metadata": {},
   "source": [
    "Корелляции нет"
   ]
  },
  {
   "cell_type": "markdown",
   "id": "89e2b51b",
   "metadata": {},
   "source": [
    "Проверим корелляцию с вкусом молока"
   ]
  },
  {
   "cell_type": "code",
   "execution_count": null,
   "id": "73f99a4c",
   "metadata": {},
   "outputs": [],
   "source": [
    "ferma_main['Вкус молока'] = ferma_main['Вкус молока'].astype('category').cat.codes\n",
    "\n",
    "# Стандартизация числовых признаков\n",
    "scaler = StandardScaler()\n",
    "ferma_main['Вкус молока'] = scaler.fit_transform(ferma_main['Вкус молока'].values.reshape(-1, 1))\n",
    "ferma_main['Удой, кг'] = scaler.fit_transform(ferma_main['Удой, кг'].values.reshape(-1, 1))\n",
    "\n",
    "# Построение scatter plot с hue\n",
    "sns.scatterplot(data=ferma_main, x='Удой, кг', y='Вкус молока', hue=ferma_main['Вкус молока'], legend='full', alpha=0.5)\n",
    "plt.grid(True)\n",
    "\n",
    "# Вычисление корреляции Пирсона\n",
    "corr_pearson = ferma_main['Удой, кг'].corr(ferma_main['Вкус молока'])\n",
    "\n",
    "# Вычисление корреляции Спирмена\n",
    "corr_spearman, _ = spearmanr(ferma_main['Удой, кг'], ferma_main['Вкус молока'])\n",
    "\n",
    "# Вывод значений корреляций\n",
    "print('Корреляция Пирсона:', corr_pearson)\n",
    "print('Корреляция Спирмена:', corr_spearman)"
   ]
  },
  {
   "cell_type": "code",
   "execution_count": null,
   "id": "8cec1889",
   "metadata": {},
   "outputs": [],
   "source": [
    "print(ferma_main['Вкус молока'].dtypes)"
   ]
  },
  {
   "cell_type": "code",
   "execution_count": null,
   "id": "a4261913",
   "metadata": {},
   "outputs": [],
   "source": [
    "print(ferma_main['Вкус молока'].head())"
   ]
  },
  {
   "cell_type": "markdown",
   "id": "35b5eab8",
   "metadata": {},
   "source": [
    "Корелляция очень слабая, даже отрицательная"
   ]
  },
  {
   "cell_type": "markdown",
   "id": "0d934851",
   "metadata": {},
   "source": [
    "Сравним с возрастом "
   ]
  },
  {
   "cell_type": "code",
   "execution_count": null,
   "id": "1464a7f4",
   "metadata": {},
   "outputs": [],
   "source": [
    "ferma_main['Возраст'] = ferma_main['Возраст'].astype('category').cat.codes\n",
    "# Стандартизация числового признака\n",
    "scaler = StandardScaler()\n",
    "ferma_main['Возраст'] = scaler.fit_transform(ferma_main['Возраст'].values.reshape(-1, 1))\n",
    "ferma_main['Удой, кг'] = scaler.fit_transform(ferma_main['Удой, кг'].values.reshape(-1, 1))\n",
    "# Построение scatter plot\n",
    "sns.scatterplot(data=ferma_main, x='Удой, кг', y='Возраст', hue=ferma_main['Возраст'], legend='full',  alpha=0.5)\n",
    "plt.grid(True)\n",
    "\n",
    "# Вычисление корреляции Пирсона\n",
    "corr_pearson = ferma_main['Удой, кг'].corr(ferma_main['Возраст'])\n",
    "\n",
    "# Вычисление корреляции Спирмена\n",
    "corr_spearman, _ = spearmanr(ferma_main['Удой, кг'], ferma_main['Возраст'])\n",
    "\n",
    "# Вывод значений корреляций\n",
    "print('Корреляция Пирсона:', corr_pearson)\n",
    "print('Корреляция Спирмена:', corr_spearman)"
   ]
  },
  {
   "cell_type": "markdown",
   "id": "a9fda6f6",
   "metadata": {},
   "source": [
    "Корелляция сильная и отрицательная"
   ]
  },
  {
   "cell_type": "markdown",
   "id": "cc46e9d6",
   "metadata": {},
   "source": [
    "Так же можно применить такой метод"
   ]
  },
  {
   "cell_type": "code",
   "execution_count": null,
   "id": "4b04afea",
   "metadata": {},
   "outputs": [],
   "source": [
    "column_to_compare = 'Удой, кг'\n",
    "\n",
    "# Создание матрицы корреляции\n",
    "corr_matrix = ferma_main.corr()\n",
    "\n",
    "# Создание подматрицы, сравнивающей выбранный столбец с остальными\n",
    "subset_corr_matrix = corr_matrix[['Удой, кг']]\n",
    "\n",
    "# Визуализация матрицы корреляции в виде тепловой карты\n",
    "plt.figure(figsize=(10, 8))\n",
    "sns.heatmap(subset_corr_matrix, annot=True, cmap=\"YlGnBu\")\n",
    "plt.title('Матрица корреляции сравнивающая датасет с ' + column_to_compare)\n",
    "plt.show()"
   ]
  },
  {
   "cell_type": "markdown",
   "id": "858aa682",
   "metadata": {},
   "source": [
    "Тут сразу видна мультиколлинеарная зависимость с породой, вкусом молока и возрастом"
   ]
  },
  {
   "cell_type": "markdown",
   "id": "62733588",
   "metadata": {},
   "source": [
    "Скучно и в цифровом виде можно отразить вот так"
   ]
  },
  {
   "cell_type": "code",
   "execution_count": null,
   "id": "bae2dc8c",
   "metadata": {},
   "outputs": [],
   "source": [
    "corr_matrix = ferma_main.corr()\n",
    "print(corr_matrix)"
   ]
  },
  {
   "cell_type": "markdown",
   "id": "94ceb272",
   "metadata": {},
   "source": [
    "### Корелляция по вкусу молока"
   ]
  },
  {
   "cell_type": "code",
   "execution_count": null,
   "id": "008af3e4",
   "metadata": {},
   "outputs": [],
   "source": [
    "column_to_compare = 'Вкус молока'\n",
    "\n",
    "# Создание матрицы корреляции\n",
    "corr_matrix = ferma_main.corr()\n",
    "\n",
    "# Создание подматрицы, сравнивающей выбранный столбец с остальными\n",
    "subset_corr_matrix = corr_matrix[['Вкус молока']]\n",
    "\n",
    "# Визуализация матрицы корреляции в виде тепловой карты\n",
    "plt.figure(figsize=(10, 8))\n",
    "sns.heatmap(subset_corr_matrix, annot=True, cmap=\"YlGnBu\")\n",
    "plt.title('Матрица корреляции сравнивающая датасет с ' + column_to_compare)\n",
    "plt.show()"
   ]
  },
  {
   "cell_type": "markdown",
   "id": "96a441fe",
   "metadata": {},
   "source": [
    "Видна мультиколлинеарная зависимость с Удоем в кг, вкусом молока, породой"
   ]
  },
  {
   "cell_type": "markdown",
   "id": "b8e9317e",
   "metadata": {},
   "source": [
    "# Промежуточные выводы"
   ]
  },
  {
   "cell_type": "code",
   "execution_count": null,
   "id": "c10e425e",
   "metadata": {},
   "outputs": [],
   "source": []
  },
  {
   "cell_type": "code",
   "execution_count": null,
   "id": "77ebce11",
   "metadata": {},
   "outputs": [],
   "source": []
  },
  {
   "cell_type": "code",
   "execution_count": null,
   "id": "906f7152",
   "metadata": {},
   "outputs": [],
   "source": []
  },
  {
   "cell_type": "code",
   "execution_count": null,
   "id": "11210752",
   "metadata": {},
   "outputs": [],
   "source": []
  },
  {
   "cell_type": "code",
   "execution_count": null,
   "id": "f6b8c519",
   "metadata": {},
   "outputs": [],
   "source": []
  },
  {
   "cell_type": "code",
   "execution_count": null,
   "id": "b033241d",
   "metadata": {},
   "outputs": [],
   "source": []
  },
  {
   "cell_type": "code",
   "execution_count": null,
   "id": "54a9e3d3",
   "metadata": {},
   "outputs": [],
   "source": []
  },
  {
   "cell_type": "code",
   "execution_count": null,
   "id": "6e196c31",
   "metadata": {},
   "outputs": [],
   "source": []
  },
  {
   "cell_type": "code",
   "execution_count": null,
   "id": "9cc9e961",
   "metadata": {},
   "outputs": [],
   "source": []
  },
  {
   "cell_type": "code",
   "execution_count": null,
   "id": "71b01f44",
   "metadata": {},
   "outputs": [],
   "source": []
  },
  {
   "cell_type": "code",
   "execution_count": null,
   "id": "60ab5501",
   "metadata": {},
   "outputs": [],
   "source": []
  },
  {
   "cell_type": "code",
   "execution_count": null,
   "id": "3eff8cdf",
   "metadata": {},
   "outputs": [],
   "source": []
  },
  {
   "cell_type": "code",
   "execution_count": null,
   "id": "15740a46",
   "metadata": {},
   "outputs": [],
   "source": []
  },
  {
   "cell_type": "code",
   "execution_count": null,
   "id": "fba617cc",
   "metadata": {},
   "outputs": [],
   "source": []
  },
  {
   "cell_type": "code",
   "execution_count": null,
   "id": "66ecbeb1",
   "metadata": {},
   "outputs": [],
   "source": []
  },
  {
   "cell_type": "code",
   "execution_count": null,
   "id": "57330d4f",
   "metadata": {},
   "outputs": [],
   "source": []
  },
  {
   "cell_type": "code",
   "execution_count": null,
   "id": "763d6b5c",
   "metadata": {},
   "outputs": [],
   "source": []
  },
  {
   "cell_type": "code",
   "execution_count": null,
   "id": "d96960f4",
   "metadata": {},
   "outputs": [],
   "source": []
  },
  {
   "cell_type": "code",
   "execution_count": null,
   "id": "2f121fe8",
   "metadata": {},
   "outputs": [],
   "source": []
  },
  {
   "cell_type": "code",
   "execution_count": null,
   "id": "94e50ea4",
   "metadata": {},
   "outputs": [],
   "source": []
  },
  {
   "cell_type": "code",
   "execution_count": null,
   "id": "174540b1",
   "metadata": {},
   "outputs": [],
   "source": []
  },
  {
   "cell_type": "markdown",
   "id": "b1a0869f",
   "metadata": {},
   "source": [
    "## Обучение модели линейной регрессии"
   ]
  },
  {
   "cell_type": "markdown",
   "id": "5e042e78",
   "metadata": {},
   "source": [
    "Для начала нам необходимо выбрать признаки которые будут подходить для модели (используем в качестве целевого признак Удой). Я возьму ЭКЕ, СПО, сырой протеин в корме. Также попробуем взять породу коров и породу папы быка, может быть связано качество молока с генетическим фактором. А параметры корма берем по причине того что питание напрямую будет влиять на исходный продукт, так сказать shit in, shit out"
   ]
  },
  {
   "cell_type": "markdown",
   "id": "1b2c1eff",
   "metadata": {},
   "source": [
    "Разделим выборку"
   ]
  },
  {
   "cell_type": "code",
   "execution_count": null,
   "id": "487f84d4",
   "metadata": {},
   "outputs": [],
   "source": [
    "RANDOM_STATE = 42\n",
    "\n",
    "# считываем CSV-файл в датафрейм pandas\n",
    "# выделяем в отдельные переменные целевой признак и входные признак\n",
    "X = ferma_main.drop(['Жирность,%', 'Белок,%', 'Вкус молока', 'Удой, кг'], axis=1)\n",
    "y = ferma_main['Удой, кг']\n",
    "\n",
    "# разделите данные на тренировочные и тестовые, зафиксируйте random_state\n",
    "X_train, X_test, y_train, y_test = train_test_split(X, y, random_state=SEED)"
   ]
  },
  {
   "cell_type": "code",
   "execution_count": null,
   "id": "8231b56b",
   "metadata": {},
   "outputs": [],
   "source": [
    "print(\"Размерность матрицы обучающей выборки:\", X_train.shape)\n",
    "print(\"Размерность вектора обучающей выборки:\", y_train.shape)\n",
    "print(\"Размерность матрицы тестовой выборки:\", X_test.shape)\n",
    "print(\"Размерность вектора тестовой выборки:\", y_test.shape)\n",
    "print(X_train.head(5))"
   ]
  },
  {
   "cell_type": "code",
   "execution_count": null,
   "id": "29531822",
   "metadata": {},
   "outputs": [],
   "source": [
    "#cat_col_names = ['Порода', 'порода папы_быка']\n",
    "\n",
    "# применяем метод pd.get_dummies() для кодирования категориальных признаков\n",
    "#X_train_ohe = pd.get_dummies(X_train[cat_col_names], drop_first=False)\n",
    "#X_test_ohe = pd.get_dummies(X_test[cat_col_names], drop_first=False)\n",
    "\n",
    "# объединяем закодированные данные с исходными датафреймами\n",
    "#X_train_ohe = pd.concat([X_train, X_train_ohe], axis=1)\n",
    "#X_test_ohe = pd.concat([X_test, X_test_ohe], axis=1)"
   ]
  },
  {
   "cell_type": "code",
   "execution_count": null,
   "id": "798341a3",
   "metadata": {},
   "outputs": [],
   "source": [
    "encoder = OneHotEncoder(sparse = False)\n",
    "cat_col_names = ['Порода', 'Тип пастбища','порода папы_быка','Возраст']\n",
    "# обучите и трансформируйте категориальные признаки из тренировочной выборки\n",
    "# сделайте это одной командой\n",
    "X_train_ohe = encoder.fit_transform(X_train[cat_col_names])\n",
    "X_test_ohe = encoder.transform(X_test[cat_col_names])\n",
    "\n",
    "# получите от кодировщика список новых столбцов и сохраните в новой переменной\n",
    "encoder_col_names = encoder.get_feature_names()\n",
    "\n",
    "# создаём тренировочный и тестовый датафреймы из закодированных и отмасштабированных данных\n",
    "# для данных OHE названия столбцов укажите из переменной encoder_col_names\n",
    "X_train_ohe = pd.DataFrame(X_train_ohe, columns=encoder_col_names)\n",
    "X_test_ohe = pd.DataFrame(X_test_ohe, columns=encoder_col_names)"
   ]
  },
  {
   "cell_type": "code",
   "execution_count": null,
   "id": "6860c1f6",
   "metadata": {},
   "outputs": [],
   "source": [
    "print(\"Размерность матрицы обучающей выборки:\", X_train.shape)\n",
    "print(\"Размерность вектора обучающей выборки:\", y_train.shape)\n",
    "print(\"Размерность матрицы тестовой выборки:\", X_test.shape)\n",
    "print(\"Размерность вектора тестовой выборки:\", y_test.shape)\n",
    "print(X_train.head(5))"
   ]
  },
  {
   "cell_type": "markdown",
   "id": "c9ad2a54",
   "metadata": {},
   "source": [
    "# У меня почему-то получаются значения для выборок  471 и 157, а колабе 475 и 159 и МАЕ = 0, а R = 0,82"
   ]
  },
  {
   "cell_type": "code",
   "execution_count": null,
   "id": "5ab871c6",
   "metadata": {},
   "outputs": [],
   "source": [
    "scaler = StandardScaler()\n",
    "num_col_names = ['ЭКЕ (Энергетическая кормовая единица)', 'Сырой протеин, г', 'СПО (Сахаро-протеиновое соотношение)']\n",
    "X_train_scaled = scaler.fit_transform(X_train[num_col_names])\n",
    "X_test_scaled = scaler.transform(X_test[num_col_names])\n",
    "print(\"Размерность матрицы обучающей выборки:\", X_train.shape)\n",
    "print(\"Размерность вектора обучающей выборки:\", y_train.shape)\n",
    "print(\"Размерность матрицы тестовой выборки:\", X_test.shape)\n",
    "print(\"Размерность вектора тестовой выборки:\", y_test.shape)\n",
    "X_train_ohe.shape, X_test_ohe.shape\n"
   ]
  },
  {
   "cell_type": "code",
   "execution_count": null,
   "id": "0bbb021d",
   "metadata": {},
   "outputs": [],
   "source": [
    "X_train_scaled = pd.DataFrame(X_train_scaled, columns=num_col_names)\n",
    "X_test_scaled = pd.DataFrame(X_test_scaled, columns=num_col_names)\n",
    "print(\"Размерность матрицы обучающей выборки:\", X_train.shape)\n",
    "print(\"Размерность вектора обучающей выборки:\", y_train.shape)\n",
    "print(\"Размерность матрицы тестовой выборки:\", X_test.shape)\n",
    "print(\"Размерность вектора тестовой выборки:\", y_test.shape)"
   ]
  },
  {
   "cell_type": "code",
   "execution_count": null,
   "id": "5da50d4c",
   "metadata": {},
   "outputs": [],
   "source": [
    "X_train = pd.concat([X_train_ohe, X_train_scaled], axis=1).reset_index(drop=True)\n",
    "X_test = pd.concat([X_test_ohe, X_test_scaled], axis=1).reset_index(drop=True)"
   ]
  },
  {
   "cell_type": "code",
   "execution_count": null,
   "id": "da2025c2",
   "metadata": {},
   "outputs": [],
   "source": [
    "print(X_train.head(5))\n",
    "print(\"Размерность матрицы обучающей выборки:\", X_train.shape)\n",
    "print(\"Размерность вектора обучающей выборки:\", y_train.shape)\n",
    "print(\"Размерность матрицы тестовой выборки:\", X_test.shape)\n",
    "print(\"Размерность вектора тестовой выборки:\", y_test.shape)"
   ]
  },
  {
   "cell_type": "code",
   "execution_count": null,
   "id": "27f9593a",
   "metadata": {},
   "outputs": [],
   "source": [
    "# объединение всех преобразованных данных в тренировочный и тестовый датафреймы\n",
    "#X_train = pd.concat([X_train_ohe, X_train_scaled], axis=1).reset_index(drop=True)\n",
    "#X_test = pd.concat([X_test_ohe, X_test_scaled], axis=1).reset_index(drop=True)\n",
    "print(\"Размерность матрицы обучающей выборки:\", X_train.shape)\n",
    "print(\"Размерность вектора обучающей выборки:\", y_train.shape)\n",
    "print(\"Размерность матрицы тестовой выборки:\", X_test.shape)\n",
    "print(\"Размерность вектора тестовой выборки:\", y_test.shape)\n",
    "# вывести пять первых строк из тренировочного датафрейма\n",
    "print(X_train.head(5))"
   ]
  },
  {
   "cell_type": "code",
   "execution_count": null,
   "id": "bcc3379b",
   "metadata": {},
   "outputs": [],
   "source": [
    "print(\"Размерность матрицы обучающей выборки:\", X_train.shape)\n",
    "print(\"Размерность вектора обучающей выборки:\", y_train.shape)\n",
    "print(\"Размерность матрицы тестовой выборки:\", X_test.shape)\n",
    "print(\"Размерность вектора тестовой выборки:\", y_test.shape)"
   ]
  },
  {
   "cell_type": "code",
   "execution_count": null,
   "id": "d08e5f33",
   "metadata": {},
   "outputs": [],
   "source": [
    "#X_train = X_train.dropna()\n",
    "#y_train = y_train.dropna()\n",
    "#X_test = X_test.dropna()\n",
    "#y_test = y_test.dropna()\n",
    "#X_train = X_train.fillna(0)\n",
    "#X_test = X_test.fillna(0)"
   ]
  },
  {
   "cell_type": "code",
   "execution_count": null,
   "id": "03671a13",
   "metadata": {},
   "outputs": [],
   "source": [
    "print(X_train.head(5))"
   ]
  },
  {
   "cell_type": "code",
   "execution_count": null,
   "id": "2d09c3ad",
   "metadata": {},
   "outputs": [],
   "source": [
    "fig, axes = plt.subplots(nrows=1, ncols=2, figsize=(20,8))\n",
    "\n",
    "X_train[num_col_names].plot(kind='hist', bins=10, ax=axes[0])\n",
    "axes[0].set_title('Гистограмма распределения')\n",
    "X_train[num_col_names].plot(kind='box',   ax=axes[1], rot=45)\n",
    "axes[1].set_title('Разброс значений признаков')\n",
    "plt.show()"
   ]
  },
  {
   "cell_type": "code",
   "execution_count": null,
   "id": "9026992d",
   "metadata": {},
   "outputs": [],
   "source": [
    "print(\"Размерность матрицы обучающей выборки:\", X_train.shape)\n",
    "print(\"Размерность вектора обучающей выборки:\", y_train.shape)\n",
    "print(\"Размерность матрицы тестовой выборки:\", X_test.shape)\n",
    "print(\"Размерность вектора тестовой выборки:\", y_test.shape)"
   ]
  },
  {
   "cell_type": "code",
   "execution_count": null,
   "id": "0ccded0a",
   "metadata": {},
   "outputs": [],
   "source": [
    "model_lr = LinearRegression()\n",
    "model_lr.fit(X_train, y_train)\n",
    "predictions = model_lr.predict(X_test)\n",
    "mae = mean_absolute_error(y_test, predictions)\n",
    "print(f'MAE = {mae:.0f}')"
   ]
  },
  {
   "cell_type": "code",
   "execution_count": null,
   "id": "4ebc89a1",
   "metadata": {},
   "outputs": [],
   "source": [
    "X_train"
   ]
  },
  {
   "cell_type": "code",
   "execution_count": null,
   "id": "2600c5a3",
   "metadata": {},
   "outputs": [],
   "source": [
    "y_train"
   ]
  },
  {
   "cell_type": "code",
   "execution_count": null,
   "id": "41458f17",
   "metadata": {},
   "outputs": [],
   "source": [
    "y_test"
   ]
  },
  {
   "cell_type": "code",
   "execution_count": null,
   "id": "292cf3ea",
   "metadata": {},
   "outputs": [],
   "source": [
    "X_test"
   ]
  },
  {
   "cell_type": "code",
   "execution_count": null,
   "id": "a290e5c4",
   "metadata": {},
   "outputs": [],
   "source": [
    "predictions"
   ]
  },
  {
   "cell_type": "code",
   "execution_count": null,
   "id": "5fba4f7c",
   "metadata": {},
   "outputs": [],
   "source": [
    "# обучаем модель линейной регрессии и получаем предсказания\n",
    "model_lr  = LinearRegression()\n",
    "model_lr.fit(X_train, y_train)\n",
    "predictions = model_lr.predict(X_test)\n",
    "\n",
    "# рассчитайте значения R2 для линейной регрессии\n",
    "r2_lr = r2_score(y_test, predictions)\n",
    "\n",
    "# выведите полученное значение R2\n",
    "print(\"R2 LinearRegression =\", r2_lr)"
   ]
  },
  {
   "cell_type": "markdown",
   "id": "09d68af1",
   "metadata": {},
   "source": [
    "Проведем анализ остатков"
   ]
  },
  {
   "cell_type": "code",
   "execution_count": null,
   "id": "bac05672",
   "metadata": {
    "scrolled": true
   },
   "outputs": [],
   "source": [
    "residuals = y_test - predictions\n",
    "\n",
    "# постройте графики по количественным признакам — гистограмму частотности \n",
    "# распределения и диаграмму рассеяния\n",
    "fig, axes = plt.subplots(nrows=1, ncols=2, figsize=(10,5))\n",
    "axes[0].hist(residuals)\n",
    "axes[0].set_title('Гистограмма распределения остатков')\n",
    "axes[0].set_xlabel('Остатки')\n",
    "\n",
    "axes[1].scatter(predictions, residuals)\n",
    "axes[1].set_xlabel('Предсказания модели')\n",
    "axes[1].set_ylabel('Остатки')\n",
    "axes[1].set_title('Анализ дисперсии')\n",
    "plt.show()"
   ]
  },
  {
   "cell_type": "code",
   "execution_count": null,
   "id": "cd83023e",
   "metadata": {},
   "outputs": [],
   "source": [
    "encoder = OneHotEncoder(sparse = False) \n",
    "cat_col_names = ['СПО (Сахаро-протеиновое соотношение)']\n",
    "# обучите и трансформируйте категориальные признаки из тренировочной выборки \n",
    "# сделайте это одной командой\n",
    "X_train_ohe = encoder.fit_transform(X_train[cat_col_names])\n",
    "X_test_ohe = encoder.transform(X_test[cat_col_names])\n",
    "\n",
    "# получите от кодировщика список новых столбцов и сохраните в новой переменной \n",
    "encoder_col_names = encoder.get_feature_names()\n",
    "\n",
    "# создаём тренировочный и тестовый датафреймы из закодированных и отмасштабированных данных\n",
    "# для данных OHE названия столбцов укажите из переменной encoder_col_names\n",
    "\n",
    "X_train_ohe = pd.DataFrame(X_train_ohe, columns=encoder_col_names)\n",
    "X_test_ohe = pd.DataFrame(X_test_ohe, columns=encoder_col_names)"
   ]
  },
  {
   "cell_type": "markdown",
   "id": "692c9bfe",
   "metadata": {},
   "source": [
    "Найдем границу нелинейности"
   ]
  },
  {
   "cell_type": "code",
   "execution_count": null,
   "id": "aef27d9e",
   "metadata": {},
   "outputs": [],
   "source": [
    "ferma_main[ferma_main['Удой, кг'] < 40000].plot(x='Удой, кг',\n",
    "                y='СПО (Сахаро-протеиновое соотношение)',\n",
    "                kind='scatter',\n",
    "                grid=True,\n",
    "                title = 'Диаграмма рассеяния для величин СПО и удой')"
   ]
  },
  {
   "cell_type": "markdown",
   "id": "458459c4",
   "metadata": {},
   "source": [
    "Получается 0,91"
   ]
  },
  {
   "cell_type": "code",
   "execution_count": null,
   "id": "c6e01f34",
   "metadata": {},
   "outputs": [],
   "source": [
    "ferma_main[ferma_main['СПО (Сахаро-протеиновое соотношение)'] < 0.91]"
   ]
  },
  {
   "cell_type": "code",
   "execution_count": null,
   "id": "8fbef5c6",
   "metadata": {},
   "outputs": [],
   "source": [
    "model_lr_2 = LinearRegression()\n",
    "model_lr_2.fit(X_train, y_train)\n",
    "model_lr_2"
   ]
  },
  {
   "cell_type": "code",
   "execution_count": null,
   "id": "21a50bf7",
   "metadata": {},
   "outputs": [],
   "source": []
  },
  {
   "cell_type": "code",
   "execution_count": null,
   "id": "098e4c63",
   "metadata": {},
   "outputs": [],
   "source": []
  },
  {
   "cell_type": "code",
   "execution_count": null,
   "id": "8509929e",
   "metadata": {},
   "outputs": [],
   "source": []
  },
  {
   "cell_type": "code",
   "execution_count": null,
   "id": "557e6d4e",
   "metadata": {},
   "outputs": [],
   "source": []
  },
  {
   "cell_type": "markdown",
   "id": "a090a140",
   "metadata": {},
   "source": [
    "# Что-то непонятное и врядли правильное"
   ]
  },
  {
   "cell_type": "code",
   "execution_count": null,
   "id": "30fbe445",
   "metadata": {},
   "outputs": [],
   "source": [
    "scaler = StandardScaler()\n",
    "num_col_names = ['ЭКЕ (Энергетическая кормовая единица)', 'Сырой протеин, г']\n",
    "X_train_scaled = scaler.fit_transform(X_train[num_col_names])\n",
    "X_test_scaled = scaler.transform(X_test[num_col_names])"
   ]
  },
  {
   "cell_type": "code",
   "execution_count": null,
   "id": "05f49d78",
   "metadata": {},
   "outputs": [],
   "source": [
    "X_train_scaled = pd.DataFrame(X_train_scaled, columns=num_col_names)\n",
    "X_test_scaled = pd.DataFrame(X_test_scaled, columns=num_col_names)"
   ]
  },
  {
   "cell_type": "code",
   "execution_count": null,
   "id": "837b40ac",
   "metadata": {},
   "outputs": [],
   "source": [
    "X_train = pd.concat([X_train_ohe, X_train_scaled], axis=1)\n",
    "X_test = pd.concat([X_test_ohe, X_test_scaled], axis=1)"
   ]
  },
  {
   "cell_type": "code",
   "execution_count": null,
   "id": "b1825af6",
   "metadata": {},
   "outputs": [],
   "source": [
    "fig, axes = plt.subplots(nrows=1, ncols=2, figsize=(20,8))\n",
    "\n",
    "X_train[num_col_names].plot(kind='hist', bins=10, ax=axes[0])\n",
    "axes[0].set_title('Гистограмма распределения')\n",
    "X_train[num_col_names].plot(kind='box',   ax=axes[1], rot=45)\n",
    "axes[1].set_title('Разброс значений признаков')\n",
    "plt.show()"
   ]
  },
  {
   "cell_type": "code",
   "execution_count": null,
   "id": "63dd68cf",
   "metadata": {},
   "outputs": [],
   "source": [
    "model_lr = LinearRegression()\n",
    "model_lr.fit(X_train, y_train)\n",
    "predictions = model_lr.predict(X_test)\n",
    "mae = mean_absolute_error(y_test, predictions)\n",
    "print(f'MAE = {mae:.0f}')"
   ]
  },
  {
   "cell_type": "code",
   "execution_count": null,
   "id": "2994c7a0",
   "metadata": {},
   "outputs": [],
   "source": [
    "# обучаем модель линейной регрессии и получаем предсказания\n",
    "model_lr  = LinearRegression()\n",
    "model_lr.fit(X_train, y_train)\n",
    "predictions = model_lr.predict(X_test)\n",
    "\n",
    "# рассчитайте значения R2 для линейной регрессии\n",
    "r2_lr = r2_score(y_test, predictions)\n",
    "\n",
    "# выведите полученное значение R2\n",
    "print(\"R2 LinearRegression =\", r2_lr)"
   ]
  },
  {
   "cell_type": "markdown",
   "id": "0b2dcdf0",
   "metadata": {},
   "source": [
    "Анализ остатков"
   ]
  },
  {
   "cell_type": "code",
   "execution_count": null,
   "id": "de72e1a4",
   "metadata": {},
   "outputs": [],
   "source": [
    "residuals = y_test - predictions\n",
    "\n",
    "# постройте графики по количественным признакам — гистограмму частотности \n",
    "# распределения и диаграмму рассеяния\n",
    "fig, axes = plt.subplots(nrows=1, ncols=2, figsize=(10,5))\n",
    "axes[0].hist(residuals)\n",
    "axes[0].set_title('Гистограмма распределения остатков')\n",
    "axes[0].set_xlabel('Остатки')\n",
    "\n",
    "axes[1].scatter(predictions, residuals)\n",
    "axes[1].set_xlabel('Предсказания модели')\n",
    "axes[1].set_ylabel('Остатки')\n",
    "axes[1].set_title('Анализ дисперсии')\n",
    "plt.show()"
   ]
  },
  {
   "cell_type": "markdown",
   "id": "831dfb29",
   "metadata": {},
   "source": [
    "**Сделай то же самое по образу и подобию с ЭКЕ**"
   ]
  },
  {
   "cell_type": "code",
   "execution_count": null,
   "id": "78b5d7f6",
   "metadata": {},
   "outputs": [],
   "source": [
    "encoder = OneHotEncoder(sparse = False) \n",
    "cat_col_names = ['ЭКЕ (Энергетическая кормовая единица)']\n",
    "# обучите и трансформируйте категориальные признаки из тренировочной выборки \n",
    "# сделайте это одной командой\n",
    "X_train_ohe = encoder.fit_transform(X_train[cat_col_names])\n",
    "X_test_ohe = encoder.transform(X_test[cat_col_names])\n",
    "\n",
    "# получите от кодировщика список новых столбцов и сохраните в новой переменной \n",
    "encoder_col_names = encoder.get_feature_names()\n",
    "\n",
    "# создаём тренировочный и тестовый датафреймы из закодированных и отмасштабированных данных\n",
    "# для данных OHE названия столбцов укажите из переменной encoder_col_names\n",
    "\n",
    "X_train_ohe = pd.DataFrame(X_train_ohe, columns=encoder_col_names)\n",
    "X_test_ohe = pd.DataFrame(X_test_ohe, columns=encoder_col_names)"
   ]
  },
  {
   "cell_type": "code",
   "execution_count": null,
   "id": "4f8971c8",
   "metadata": {},
   "outputs": [],
   "source": [
    "scaler = StandardScaler()\n",
    "num_col_names = ['СПО (Сахаро-протеиновое соотношение)', 'Сырой протеин, г']\n",
    "X_train_scaled = scaler.fit_transform(X_train[num_col_names])\n",
    "X_test_scaled = scaler.transform(X_test[num_col_names])"
   ]
  },
  {
   "cell_type": "code",
   "execution_count": null,
   "id": "5c43cd37",
   "metadata": {},
   "outputs": [],
   "source": [
    "X_train_scaled = pd.DataFrame(X_train_scaled, columns=num_col_names)\n",
    "X_test_scaled = pd.DataFrame(X_test_scaled, columns=num_col_names)"
   ]
  },
  {
   "cell_type": "code",
   "execution_count": null,
   "id": "39ec8875",
   "metadata": {},
   "outputs": [],
   "source": [
    "X_train = pd.concat([X_train_ohe, X_train_scaled], axis=1)\n",
    "X_test = pd.concat([X_test_ohe, X_test_scaled], axis=1)"
   ]
  },
  {
   "cell_type": "code",
   "execution_count": null,
   "id": "654a4142",
   "metadata": {},
   "outputs": [],
   "source": [
    "fig, axes = plt.subplots(nrows=1, ncols=2, figsize=(20,8))\n",
    "\n",
    "X_train[num_col_names].plot(kind='hist', bins=10, ax=axes[0])\n",
    "axes[0].set_title('Гистограмма распределения')\n",
    "X_train[num_col_names].plot(kind='box',   ax=axes[1], rot=45)\n",
    "axes[1].set_title('Разброс значений признаков')\n",
    "plt.show()"
   ]
  },
  {
   "cell_type": "code",
   "execution_count": null,
   "id": "90a7f44f",
   "metadata": {},
   "outputs": [],
   "source": [
    "model_lr = LinearRegression()\n",
    "model_lr.fit(X_train, y_train)\n",
    "predictions = model_lr.predict(X_test)\n",
    "mae = mean_absolute_error(y_test, predictions)\n",
    "print(f'MAE = {mae:.0f}')"
   ]
  },
  {
   "cell_type": "code",
   "execution_count": null,
   "id": "f5a7ea63",
   "metadata": {},
   "outputs": [],
   "source": [
    "# обучаем модель линейной регрессии и получаем предсказания\n",
    "model_lr  = LinearRegression()\n",
    "model_lr.fit(X_train, y_train)\n",
    "predictions = model_lr.predict(X_test)\n",
    "\n",
    "# рассчитайте значения R2 для линейной регрессии\n",
    "r2_lr = r2_score(y_test, predictions)\n",
    "\n",
    "# выведите полученное значение R2\n",
    "print(\"R2 LinearRegression =\", r2_lr)"
   ]
  },
  {
   "cell_type": "code",
   "execution_count": null,
   "id": "8d5cc068",
   "metadata": {},
   "outputs": [],
   "source": [
    "residuals = y_test - predictions\n",
    "\n",
    "# постройте графики по количественным признакам — гистограмму частотности \n",
    "# распределения и диаграмму рассеяния\n",
    "fig, axes = plt.subplots(nrows=1, ncols=2, figsize=(10,5))\n",
    "axes[0].hist(residuals)\n",
    "axes[0].set_title('Гистограмма распределения остатков')\n",
    "axes[0].set_xlabel('Остатки')\n",
    "\n",
    "axes[1].scatter(predictions, residuals)\n",
    "axes[1].set_xlabel('Предсказания модели')\n",
    "axes[1].set_ylabel('Остатки')\n",
    "axes[1].set_title('Анализ дисперсии')\n",
    "plt.show()"
   ]
  },
  {
   "cell_type": "code",
   "execution_count": null,
   "id": "5a5aaa2d",
   "metadata": {},
   "outputs": [],
   "source": []
  },
  {
   "cell_type": "code",
   "execution_count": null,
   "id": "64a2fc8c",
   "metadata": {},
   "outputs": [],
   "source": []
  },
  {
   "cell_type": "code",
   "execution_count": null,
   "id": "2497f23e",
   "metadata": {},
   "outputs": [],
   "source": []
  },
  {
   "cell_type": "code",
   "execution_count": null,
   "id": "3cd45f7c",
   "metadata": {},
   "outputs": [],
   "source": []
  },
  {
   "cell_type": "code",
   "execution_count": null,
   "id": "e3350f1c",
   "metadata": {},
   "outputs": [],
   "source": []
  },
  {
   "cell_type": "code",
   "execution_count": null,
   "id": "1363c2d1",
   "metadata": {},
   "outputs": [],
   "source": []
  },
  {
   "cell_type": "code",
   "execution_count": null,
   "id": "ef459a78",
   "metadata": {},
   "outputs": [],
   "source": []
  },
  {
   "cell_type": "code",
   "execution_count": null,
   "id": "fc146e83",
   "metadata": {},
   "outputs": [],
   "source": []
  },
  {
   "cell_type": "code",
   "execution_count": null,
   "id": "c4f12f76",
   "metadata": {},
   "outputs": [],
   "source": [
    "# стандартизация числовых признаков\n",
    "scaler = StandardScaler()\n",
    "num_col_names = ['ЭКЕ (Энергетическая кормовая единица)', 'Сырой протеин, г', 'СПО (Сахаро-протеиновое соотношение)']\n",
    "\n",
    "X_train[num_col_names] = scaler.fit_transform(X_train[num_col_names].copy())\n",
    "X_test[num_col_names] = scaler.transform(X_test[num_col_names].copy())\n",
    "X_train_scaled = pd.DataFrame(X_train[num_col_names].copy(), columns=num_col_names)\n",
    "X_test_scaled = pd.DataFrame(X_test[num_col_names].copy(), columns=num_col_names)\n",
    "\n",
    "\n",
    "\n",
    "\n",
    "\n",
    "\n",
    "\n",
    "X_train_scaled = scaler.fit_transform(X_train[num_col_names])\n",
    "X_test_scaled = scaler.transform(X_test[num_col_names])\n",
    "\n",
    "X_train_scaled = pd.DataFrame(X_train_scaled, columns=num_col_names)\n",
    "X_test_scaled = pd.DataFrame(X_test_scaled, columns=num_col_names)\n",
    "\n",
    "X_train = pd.concat([X_train_ohe, X_train_scaled], axis=1)\n",
    "X_test = pd.concat([X_test_ohe, X_test_scaled], axis=1)"
   ]
  },
  {
   "cell_type": "code",
   "execution_count": null,
   "id": "3304d47b",
   "metadata": {},
   "outputs": [],
   "source": [
    "# 73 cтрочка\n",
    "encoder = OneHotEncoder(sparse = False) \n",
    "cat_col_names = ['Порода', 'порода папы_быка']\n",
    "# обучите и трансформируйте категориальные признаки из тренировочной выборки \n",
    "# сделайте это одной командой\n",
    "X_train_ohe = encoder.fit_transform(X_train[cat_col_names])\n",
    "X_test_ohe = encoder.transform(X_test[cat_col_names])\n",
    "\n",
    "# получите от кодировщика список новых столбцов и сохраните в новой переменной \n",
    "encoder_col_names = encoder.get_feature_names()\n",
    "\n",
    "# создаём тренировочный и тестовый датафреймы из закодированных и отмасштабированных данных\n",
    "# для данных OHE названия столбцов укажите из переменной encoder_col_names\n",
    "\n",
    "X_train_ohe = pd.DataFrame(X_train_ohe, columns=encoder_col_names)\n",
    "X_test_ohe = pd.DataFrame(X_test_ohe, columns=encoder_col_names)"
   ]
  },
  {
   "cell_type": "markdown",
   "id": "3f38e842",
   "metadata": {},
   "source": [
    "## Обучение модели логистической регрессии"
   ]
  },
  {
   "cell_type": "code",
   "execution_count": null,
   "id": "0b600ca9",
   "metadata": {},
   "outputs": [],
   "source": []
  },
  {
   "cell_type": "markdown",
   "id": "bfad7482",
   "metadata": {},
   "source": [
    "## Итоговые выводы"
   ]
  },
  {
   "cell_type": "code",
   "execution_count": null,
   "id": "a081f0a7",
   "metadata": {},
   "outputs": [],
   "source": []
  },
  {
   "cell_type": "code",
   "execution_count": null,
   "id": "105bbc1f",
   "metadata": {},
   "outputs": [],
   "source": []
  }
 ],
 "metadata": {
  "ExecuteTimeLog": [
   {
    "duration": 1324,
    "start_time": "2023-09-25T13:09:13.376Z"
   },
   {
    "duration": 203,
    "start_time": "2023-09-25T13:11:59.868Z"
   },
   {
    "duration": 11,
    "start_time": "2023-09-25T13:12:48.091Z"
   },
   {
    "duration": 1072,
    "start_time": "2023-09-25T13:22:05.379Z"
   },
   {
    "duration": 53,
    "start_time": "2023-09-25T13:22:06.453Z"
   },
   {
    "duration": 92,
    "start_time": "2023-09-25T13:22:06.508Z"
   },
   {
    "duration": 10,
    "start_time": "2023-09-25T13:25:08.868Z"
   },
   {
    "duration": 3,
    "start_time": "2023-09-25T13:28:12.524Z"
   },
   {
    "duration": 183,
    "start_time": "2023-09-25T13:28:12.528Z"
   },
   {
    "duration": 12,
    "start_time": "2023-09-25T13:28:22.909Z"
   },
   {
    "duration": 1103,
    "start_time": "2023-09-25T13:33:03.490Z"
   },
   {
    "duration": 59,
    "start_time": "2023-09-25T13:33:04.595Z"
   },
   {
    "duration": 12,
    "start_time": "2023-09-25T13:33:04.655Z"
   },
   {
    "duration": 29,
    "start_time": "2023-09-25T13:37:44.224Z"
   },
   {
    "duration": 11,
    "start_time": "2023-09-25T13:38:08.863Z"
   },
   {
    "duration": 1126,
    "start_time": "2023-09-25T13:39:28.422Z"
   },
   {
    "duration": 70,
    "start_time": "2023-09-25T13:39:29.550Z"
   },
   {
    "duration": 11,
    "start_time": "2023-09-25T13:39:29.622Z"
   },
   {
    "duration": 1125,
    "start_time": "2023-09-25T13:41:28.747Z"
   },
   {
    "duration": 67,
    "start_time": "2023-09-25T13:41:29.874Z"
   },
   {
    "duration": 9,
    "start_time": "2023-09-25T13:41:29.942Z"
   },
   {
    "duration": 1085,
    "start_time": "2023-09-25T13:44:13.511Z"
   },
   {
    "duration": 57,
    "start_time": "2023-09-25T13:44:14.597Z"
   },
   {
    "duration": 14,
    "start_time": "2023-09-25T13:44:14.656Z"
   },
   {
    "duration": 994,
    "start_time": "2023-09-25T13:53:34.568Z"
   },
   {
    "duration": 55,
    "start_time": "2023-09-25T13:53:35.564Z"
   },
   {
    "duration": 14,
    "start_time": "2023-09-25T13:53:35.621Z"
   },
   {
    "duration": 65,
    "start_time": "2023-09-25T13:53:35.637Z"
   },
   {
    "duration": 97,
    "start_time": "2023-09-25T14:06:47.565Z"
   },
   {
    "duration": 7,
    "start_time": "2023-09-25T14:09:07.728Z"
   },
   {
    "duration": 8,
    "start_time": "2023-09-25T14:10:04.032Z"
   },
   {
    "duration": 1190,
    "start_time": "2023-09-25T14:22:35.892Z"
   },
   {
    "duration": 56,
    "start_time": "2023-09-25T14:22:37.084Z"
   },
   {
    "duration": 13,
    "start_time": "2023-09-25T14:22:37.142Z"
   },
   {
    "duration": 43,
    "start_time": "2023-09-25T14:22:37.157Z"
   },
   {
    "duration": 11,
    "start_time": "2023-09-25T14:22:37.201Z"
   },
   {
    "duration": 12,
    "start_time": "2023-09-25T14:22:37.213Z"
   },
   {
    "duration": 21,
    "start_time": "2023-09-25T14:22:37.227Z"
   },
   {
    "duration": 1090,
    "start_time": "2023-09-25T14:37:50.913Z"
   },
   {
    "duration": 66,
    "start_time": "2023-09-25T14:37:52.005Z"
   },
   {
    "duration": 32,
    "start_time": "2023-09-25T14:37:52.073Z"
   },
   {
    "duration": 74,
    "start_time": "2023-09-25T14:37:52.107Z"
   },
   {
    "duration": 1764,
    "start_time": "2023-09-25T14:37:52.182Z"
   },
   {
    "duration": 0,
    "start_time": "2023-09-25T14:37:53.949Z"
   },
   {
    "duration": 0,
    "start_time": "2023-09-25T14:37:53.950Z"
   },
   {
    "duration": 0,
    "start_time": "2023-09-25T14:37:53.952Z"
   },
   {
    "duration": 1098,
    "start_time": "2023-09-25T14:40:00.087Z"
   },
   {
    "duration": 66,
    "start_time": "2023-09-25T14:40:01.187Z"
   },
   {
    "duration": 18,
    "start_time": "2023-09-25T14:40:01.255Z"
   },
   {
    "duration": 82,
    "start_time": "2023-09-25T14:40:01.275Z"
   },
   {
    "duration": 131,
    "start_time": "2023-09-25T14:40:01.359Z"
   },
   {
    "duration": 0,
    "start_time": "2023-09-25T14:40:01.492Z"
   },
   {
    "duration": 0,
    "start_time": "2023-09-25T14:40:01.493Z"
   },
   {
    "duration": 0,
    "start_time": "2023-09-25T14:40:01.494Z"
   },
   {
    "duration": 1019,
    "start_time": "2023-09-25T14:40:32.853Z"
   },
   {
    "duration": 66,
    "start_time": "2023-09-25T14:40:33.874Z"
   },
   {
    "duration": 38,
    "start_time": "2023-09-25T14:40:33.941Z"
   },
   {
    "duration": 138,
    "start_time": "2023-09-25T14:40:33.981Z"
   },
   {
    "duration": 64,
    "start_time": "2023-09-25T14:40:34.127Z"
   },
   {
    "duration": 0,
    "start_time": "2023-09-25T14:40:34.193Z"
   },
   {
    "duration": 0,
    "start_time": "2023-09-25T14:40:34.193Z"
   },
   {
    "duration": 0,
    "start_time": "2023-09-25T14:40:34.195Z"
   },
   {
    "duration": 12,
    "start_time": "2023-09-25T14:41:11.281Z"
   },
   {
    "duration": 14,
    "start_time": "2023-09-25T14:41:29.779Z"
   },
   {
    "duration": 16,
    "start_time": "2023-09-25T14:41:49.008Z"
   },
   {
    "duration": 8,
    "start_time": "2023-09-25T14:48:28.274Z"
   },
   {
    "duration": 981,
    "start_time": "2023-09-25T14:48:36.073Z"
   },
   {
    "duration": 55,
    "start_time": "2023-09-25T14:48:37.057Z"
   },
   {
    "duration": 12,
    "start_time": "2023-09-25T14:48:37.126Z"
   },
   {
    "duration": 26,
    "start_time": "2023-09-25T14:48:37.140Z"
   },
   {
    "duration": 96,
    "start_time": "2023-09-25T14:48:37.168Z"
   },
   {
    "duration": 0,
    "start_time": "2023-09-25T14:48:37.265Z"
   },
   {
    "duration": 0,
    "start_time": "2023-09-25T14:48:37.267Z"
   },
   {
    "duration": 0,
    "start_time": "2023-09-25T14:48:37.268Z"
   },
   {
    "duration": 0,
    "start_time": "2023-09-25T14:48:37.269Z"
   },
   {
    "duration": 1039,
    "start_time": "2023-09-25T14:49:56.149Z"
   },
   {
    "duration": 64,
    "start_time": "2023-09-25T14:49:57.190Z"
   },
   {
    "duration": 45,
    "start_time": "2023-09-25T14:49:57.255Z"
   },
   {
    "duration": 53,
    "start_time": "2023-09-25T14:49:57.302Z"
   },
   {
    "duration": 20,
    "start_time": "2023-09-25T14:49:57.357Z"
   },
   {
    "duration": 42,
    "start_time": "2023-09-25T14:49:57.379Z"
   },
   {
    "duration": 18,
    "start_time": "2023-09-25T14:49:57.425Z"
   },
   {
    "duration": 33,
    "start_time": "2023-09-25T14:49:57.445Z"
   },
   {
    "duration": 1881,
    "start_time": "2023-09-25T14:51:52.253Z"
   },
   {
    "duration": 1165,
    "start_time": "2023-09-25T14:53:04.272Z"
   },
   {
    "duration": 55,
    "start_time": "2023-09-25T14:53:05.439Z"
   },
   {
    "duration": 85,
    "start_time": "2023-09-25T14:53:05.496Z"
   },
   {
    "duration": 67,
    "start_time": "2023-09-25T14:53:05.583Z"
   },
   {
    "duration": 86,
    "start_time": "2023-09-25T14:53:05.652Z"
   },
   {
    "duration": 0,
    "start_time": "2023-09-25T14:53:05.740Z"
   },
   {
    "duration": 0,
    "start_time": "2023-09-25T14:53:05.741Z"
   },
   {
    "duration": 0,
    "start_time": "2023-09-25T14:53:05.742Z"
   },
   {
    "duration": 1476,
    "start_time": "2023-09-25T14:53:43.082Z"
   },
   {
    "duration": 12,
    "start_time": "2023-09-25T14:54:55.588Z"
   },
   {
    "duration": 14,
    "start_time": "2023-09-25T14:56:24.175Z"
   },
   {
    "duration": 21,
    "start_time": "2023-09-25T14:58:03.716Z"
   },
   {
    "duration": 18,
    "start_time": "2023-09-25T14:59:35.570Z"
   },
   {
    "duration": 23,
    "start_time": "2023-09-25T15:00:39.182Z"
   },
   {
    "duration": 1197,
    "start_time": "2023-09-25T15:01:33.601Z"
   },
   {
    "duration": 67,
    "start_time": "2023-09-25T15:01:34.801Z"
   },
   {
    "duration": 14,
    "start_time": "2023-09-25T15:01:34.870Z"
   },
   {
    "duration": 35,
    "start_time": "2023-09-25T15:01:34.887Z"
   },
   {
    "duration": 25,
    "start_time": "2023-09-25T15:01:34.927Z"
   },
   {
    "duration": 26,
    "start_time": "2023-09-25T15:01:34.954Z"
   },
   {
    "duration": 9,
    "start_time": "2023-09-25T15:01:34.981Z"
   },
   {
    "duration": 28,
    "start_time": "2023-09-25T15:01:34.991Z"
   },
   {
    "duration": 32,
    "start_time": "2023-09-25T15:01:35.021Z"
   },
   {
    "duration": 1635,
    "start_time": "2023-09-25T15:49:07.278Z"
   },
   {
    "duration": 1552,
    "start_time": "2023-09-25T15:49:26.816Z"
   },
   {
    "duration": 11,
    "start_time": "2023-09-25T15:50:37.895Z"
   },
   {
    "duration": 1043,
    "start_time": "2023-09-25T15:53:20.017Z"
   },
   {
    "duration": 55,
    "start_time": "2023-09-25T15:53:21.062Z"
   },
   {
    "duration": 12,
    "start_time": "2023-09-25T15:53:21.119Z"
   },
   {
    "duration": 44,
    "start_time": "2023-09-25T15:53:21.133Z"
   },
   {
    "duration": 96,
    "start_time": "2023-09-25T15:53:21.178Z"
   },
   {
    "duration": 0,
    "start_time": "2023-09-25T15:53:21.276Z"
   },
   {
    "duration": 0,
    "start_time": "2023-09-25T15:53:21.277Z"
   },
   {
    "duration": 0,
    "start_time": "2023-09-25T15:53:21.278Z"
   },
   {
    "duration": 0,
    "start_time": "2023-09-25T15:53:21.279Z"
   },
   {
    "duration": 0,
    "start_time": "2023-09-25T15:53:21.280Z"
   },
   {
    "duration": 1147,
    "start_time": "2023-09-25T15:54:31.292Z"
   },
   {
    "duration": 54,
    "start_time": "2023-09-25T15:54:32.441Z"
   },
   {
    "duration": 12,
    "start_time": "2023-09-25T15:54:32.497Z"
   },
   {
    "duration": 42,
    "start_time": "2023-09-25T15:54:32.511Z"
   },
   {
    "duration": 71,
    "start_time": "2023-09-25T15:54:32.554Z"
   },
   {
    "duration": 42,
    "start_time": "2023-09-25T15:54:32.627Z"
   },
   {
    "duration": 13,
    "start_time": "2023-09-25T15:54:32.671Z"
   },
   {
    "duration": 41,
    "start_time": "2023-09-25T15:54:32.685Z"
   },
   {
    "duration": 26,
    "start_time": "2023-09-25T15:54:32.728Z"
   },
   {
    "duration": 1704,
    "start_time": "2023-09-25T15:54:32.757Z"
   },
   {
    "duration": 1432,
    "start_time": "2023-09-25T15:55:12.042Z"
   },
   {
    "duration": 53,
    "start_time": "2023-09-25T15:55:13.476Z"
   },
   {
    "duration": 11,
    "start_time": "2023-09-25T15:55:13.531Z"
   },
   {
    "duration": 28,
    "start_time": "2023-09-25T15:55:13.544Z"
   },
   {
    "duration": 34,
    "start_time": "2023-09-25T15:55:13.574Z"
   },
   {
    "duration": 52,
    "start_time": "2023-09-25T15:55:13.610Z"
   },
   {
    "duration": 8,
    "start_time": "2023-09-25T15:55:13.664Z"
   },
   {
    "duration": 7,
    "start_time": "2023-09-25T15:55:13.673Z"
   },
   {
    "duration": 12,
    "start_time": "2023-09-25T15:55:13.682Z"
   },
   {
    "duration": 8,
    "start_time": "2023-09-25T15:55:13.697Z"
   },
   {
    "duration": 114,
    "start_time": "2023-09-25T15:58:05.345Z"
   },
   {
    "duration": 108,
    "start_time": "2023-09-25T16:01:53.287Z"
   },
   {
    "duration": 113,
    "start_time": "2023-09-25T16:02:21.041Z"
   },
   {
    "duration": 97,
    "start_time": "2023-09-25T16:02:32.137Z"
   },
   {
    "duration": 100,
    "start_time": "2023-09-25T16:02:44.517Z"
   },
   {
    "duration": 99,
    "start_time": "2023-09-25T16:02:52.785Z"
   },
   {
    "duration": 90,
    "start_time": "2023-09-25T16:03:13.467Z"
   },
   {
    "duration": 97,
    "start_time": "2023-09-25T16:03:47.397Z"
   },
   {
    "duration": 180,
    "start_time": "2023-09-25T16:04:28.272Z"
   },
   {
    "duration": 90,
    "start_time": "2023-09-25T16:04:50.627Z"
   },
   {
    "duration": 324,
    "start_time": "2023-09-25T16:05:37.900Z"
   },
   {
    "duration": 135,
    "start_time": "2023-09-25T16:05:49.460Z"
   },
   {
    "duration": 1314,
    "start_time": "2023-09-25T16:06:03.987Z"
   },
   {
    "duration": 240,
    "start_time": "2023-09-25T16:07:09.941Z"
   },
   {
    "duration": 262,
    "start_time": "2023-09-25T16:07:34.796Z"
   },
   {
    "duration": 350,
    "start_time": "2023-09-25T16:08:54.137Z"
   },
   {
    "duration": 401,
    "start_time": "2023-09-25T16:09:10.015Z"
   },
   {
    "duration": 382,
    "start_time": "2023-09-25T16:11:11.743Z"
   },
   {
    "duration": 476,
    "start_time": "2023-09-25T16:11:36.620Z"
   },
   {
    "duration": 435,
    "start_time": "2023-09-25T16:11:48.537Z"
   },
   {
    "duration": 509,
    "start_time": "2023-09-25T16:11:57.450Z"
   },
   {
    "duration": 379,
    "start_time": "2023-09-25T16:12:05.721Z"
   },
   {
    "duration": 392,
    "start_time": "2023-09-25T16:12:18.425Z"
   },
   {
    "duration": 286,
    "start_time": "2023-09-25T16:12:32.922Z"
   },
   {
    "duration": 402,
    "start_time": "2023-09-25T16:13:54.815Z"
   },
   {
    "duration": 44,
    "start_time": "2023-09-26T12:53:46.785Z"
   },
   {
    "duration": 1408,
    "start_time": "2023-09-26T12:53:53.084Z"
   },
   {
    "duration": 211,
    "start_time": "2023-09-26T12:53:54.494Z"
   },
   {
    "duration": 13,
    "start_time": "2023-09-26T12:53:54.706Z"
   },
   {
    "duration": 26,
    "start_time": "2023-09-26T12:53:54.721Z"
   },
   {
    "duration": 82,
    "start_time": "2023-09-26T12:53:54.750Z"
   },
   {
    "duration": 46,
    "start_time": "2023-09-26T12:53:54.834Z"
   },
   {
    "duration": 10,
    "start_time": "2023-09-26T12:53:54.883Z"
   },
   {
    "duration": 30,
    "start_time": "2023-09-26T12:53:54.895Z"
   },
   {
    "duration": 15,
    "start_time": "2023-09-26T12:53:54.927Z"
   },
   {
    "duration": 34,
    "start_time": "2023-09-26T12:53:54.944Z"
   },
   {
    "duration": 344,
    "start_time": "2023-09-26T12:53:54.980Z"
   },
   {
    "duration": 9,
    "start_time": "2023-09-26T12:53:55.325Z"
   },
   {
    "duration": 295,
    "start_time": "2023-09-26T12:54:51.411Z"
   },
   {
    "duration": 1129,
    "start_time": "2023-09-26T12:58:59.978Z"
   },
   {
    "duration": 74,
    "start_time": "2023-09-26T12:59:01.109Z"
   },
   {
    "duration": 126,
    "start_time": "2023-09-26T12:59:01.184Z"
   },
   {
    "duration": 98,
    "start_time": "2023-09-26T12:59:01.311Z"
   },
   {
    "duration": 87,
    "start_time": "2023-09-26T12:59:01.411Z"
   },
   {
    "duration": 84,
    "start_time": "2023-09-26T12:59:01.500Z"
   },
   {
    "duration": 178,
    "start_time": "2023-09-26T12:59:01.586Z"
   },
   {
    "duration": 72,
    "start_time": "2023-09-26T12:59:01.765Z"
   },
   {
    "duration": 66,
    "start_time": "2023-09-26T12:59:01.838Z"
   },
   {
    "duration": 64,
    "start_time": "2023-09-26T12:59:01.905Z"
   },
   {
    "duration": 360,
    "start_time": "2023-09-26T12:59:01.971Z"
   },
   {
    "duration": 21,
    "start_time": "2023-09-26T12:59:02.333Z"
   },
   {
    "duration": 330,
    "start_time": "2023-09-26T12:59:02.360Z"
   },
   {
    "duration": 278,
    "start_time": "2023-09-26T12:59:42.246Z"
   },
   {
    "duration": 1101,
    "start_time": "2023-09-26T13:03:26.212Z"
   },
   {
    "duration": 68,
    "start_time": "2023-09-26T13:03:27.315Z"
   },
   {
    "duration": 13,
    "start_time": "2023-09-26T13:03:27.386Z"
   },
   {
    "duration": 21,
    "start_time": "2023-09-26T13:03:27.402Z"
   },
   {
    "duration": 39,
    "start_time": "2023-09-26T13:03:27.425Z"
   },
   {
    "duration": 22,
    "start_time": "2023-09-26T13:03:27.467Z"
   },
   {
    "duration": 33,
    "start_time": "2023-09-26T13:03:27.491Z"
   },
   {
    "duration": 10,
    "start_time": "2023-09-26T13:03:27.526Z"
   },
   {
    "duration": 36,
    "start_time": "2023-09-26T13:03:27.538Z"
   },
   {
    "duration": 9,
    "start_time": "2023-09-26T13:03:27.577Z"
   },
   {
    "duration": 334,
    "start_time": "2023-09-26T13:03:27.588Z"
   },
   {
    "duration": 7,
    "start_time": "2023-09-26T13:03:27.924Z"
   },
   {
    "duration": 293,
    "start_time": "2023-09-26T13:03:27.933Z"
   },
   {
    "duration": 7,
    "start_time": "2023-09-26T13:03:28.228Z"
   },
   {
    "duration": 297,
    "start_time": "2023-09-26T13:03:28.237Z"
   },
   {
    "duration": 1096,
    "start_time": "2023-09-26T13:04:20.894Z"
   },
   {
    "duration": 71,
    "start_time": "2023-09-26T13:04:21.992Z"
   },
   {
    "duration": 13,
    "start_time": "2023-09-26T13:04:22.065Z"
   },
   {
    "duration": 42,
    "start_time": "2023-09-26T13:04:22.080Z"
   },
   {
    "duration": 32,
    "start_time": "2023-09-26T13:04:22.124Z"
   },
   {
    "duration": 35,
    "start_time": "2023-09-26T13:04:22.157Z"
   },
   {
    "duration": 18,
    "start_time": "2023-09-26T13:04:22.194Z"
   },
   {
    "duration": 31,
    "start_time": "2023-09-26T13:04:22.214Z"
   },
   {
    "duration": 35,
    "start_time": "2023-09-26T13:04:22.247Z"
   },
   {
    "duration": 26,
    "start_time": "2023-09-26T13:04:22.284Z"
   },
   {
    "duration": 367,
    "start_time": "2023-09-26T13:04:22.312Z"
   },
   {
    "duration": 8,
    "start_time": "2023-09-26T13:04:22.681Z"
   },
   {
    "duration": 292,
    "start_time": "2023-09-26T13:04:22.690Z"
   },
   {
    "duration": 10,
    "start_time": "2023-09-26T13:04:22.983Z"
   },
   {
    "duration": 297,
    "start_time": "2023-09-26T13:04:22.995Z"
   },
   {
    "duration": 320,
    "start_time": "2023-09-26T13:04:46.995Z"
   },
   {
    "duration": 359,
    "start_time": "2023-09-26T13:05:03.477Z"
   },
   {
    "duration": 10,
    "start_time": "2023-09-26T13:06:52.453Z"
   },
   {
    "duration": 285,
    "start_time": "2023-09-26T13:08:11.110Z"
   },
   {
    "duration": 321,
    "start_time": "2023-09-26T13:09:08.191Z"
   },
   {
    "duration": 9,
    "start_time": "2023-09-26T13:12:07.229Z"
   },
   {
    "duration": 376,
    "start_time": "2023-09-26T13:13:56.373Z"
   },
   {
    "duration": 10,
    "start_time": "2023-09-26T13:15:51.829Z"
   },
   {
    "duration": 283,
    "start_time": "2023-09-26T13:16:59.937Z"
   },
   {
    "duration": 278,
    "start_time": "2023-09-26T13:17:25.169Z"
   },
   {
    "duration": 186,
    "start_time": "2023-09-26T13:18:42.803Z"
   },
   {
    "duration": 336,
    "start_time": "2023-09-26T13:19:40.965Z"
   },
   {
    "duration": 466,
    "start_time": "2023-09-26T13:20:06.077Z"
   },
   {
    "duration": 342,
    "start_time": "2023-09-26T13:22:06.848Z"
   },
   {
    "duration": 93,
    "start_time": "2023-09-26T13:25:15.873Z"
   },
   {
    "duration": 112,
    "start_time": "2023-09-26T13:27:41.236Z"
   },
   {
    "duration": 83,
    "start_time": "2023-09-26T13:32:07.220Z"
   },
   {
    "duration": 92,
    "start_time": "2023-09-26T13:34:30.437Z"
   },
   {
    "duration": 168,
    "start_time": "2023-09-26T13:40:02.695Z"
   },
   {
    "duration": 67,
    "start_time": "2023-09-26T13:41:43.270Z"
   },
   {
    "duration": 87,
    "start_time": "2023-09-26T13:43:33.178Z"
   },
   {
    "duration": 103,
    "start_time": "2023-09-26T13:46:56.540Z"
   },
   {
    "duration": 1870,
    "start_time": "2023-09-26T13:51:31.439Z"
   },
   {
    "duration": 1179,
    "start_time": "2023-09-26T13:52:18.030Z"
   },
   {
    "duration": 69,
    "start_time": "2023-09-26T13:52:19.211Z"
   },
   {
    "duration": 12,
    "start_time": "2023-09-26T13:52:19.282Z"
   },
   {
    "duration": 60,
    "start_time": "2023-09-26T13:52:19.296Z"
   },
   {
    "duration": 68,
    "start_time": "2023-09-26T13:52:19.358Z"
   },
   {
    "duration": 128,
    "start_time": "2023-09-26T13:52:19.429Z"
   },
   {
    "duration": 40,
    "start_time": "2023-09-26T13:52:19.559Z"
   },
   {
    "duration": 38,
    "start_time": "2023-09-26T13:52:19.600Z"
   },
   {
    "duration": 62,
    "start_time": "2023-09-26T13:52:19.640Z"
   },
   {
    "duration": 68,
    "start_time": "2023-09-26T13:52:19.704Z"
   },
   {
    "duration": 401,
    "start_time": "2023-09-26T13:52:19.773Z"
   },
   {
    "duration": 9,
    "start_time": "2023-09-26T13:52:20.175Z"
   },
   {
    "duration": 311,
    "start_time": "2023-09-26T13:52:20.186Z"
   },
   {
    "duration": 9,
    "start_time": "2023-09-26T13:52:20.499Z"
   },
   {
    "duration": 343,
    "start_time": "2023-09-26T13:52:20.509Z"
   },
   {
    "duration": 11,
    "start_time": "2023-09-26T13:52:20.854Z"
   },
   {
    "duration": 345,
    "start_time": "2023-09-26T13:52:20.866Z"
   },
   {
    "duration": 7,
    "start_time": "2023-09-26T13:52:21.213Z"
   },
   {
    "duration": 453,
    "start_time": "2023-09-26T13:52:21.222Z"
   },
   {
    "duration": 9,
    "start_time": "2023-09-26T13:52:21.677Z"
   },
   {
    "duration": 131,
    "start_time": "2023-09-26T13:52:21.687Z"
   },
   {
    "duration": 368,
    "start_time": "2023-09-26T13:52:21.820Z"
   },
   {
    "duration": 82,
    "start_time": "2023-09-26T13:52:22.190Z"
   },
   {
    "duration": 80,
    "start_time": "2023-09-26T13:52:22.274Z"
   },
   {
    "duration": 82,
    "start_time": "2023-09-26T13:52:22.355Z"
   },
   {
    "duration": 88,
    "start_time": "2023-09-26T13:52:22.450Z"
   },
   {
    "duration": 82,
    "start_time": "2023-09-26T13:52:22.539Z"
   },
   {
    "duration": 90,
    "start_time": "2023-09-26T13:52:22.623Z"
   },
   {
    "duration": 94,
    "start_time": "2023-09-26T13:52:22.714Z"
   },
   {
    "duration": 8,
    "start_time": "2023-09-26T13:52:22.810Z"
   },
   {
    "duration": 256,
    "start_time": "2023-09-26T13:52:22.819Z"
   },
   {
    "duration": 1224,
    "start_time": "2023-09-26T13:53:32.913Z"
   },
   {
    "duration": 74,
    "start_time": "2023-09-26T13:53:34.139Z"
   },
   {
    "duration": 12,
    "start_time": "2023-09-26T13:53:34.215Z"
   },
   {
    "duration": 25,
    "start_time": "2023-09-26T13:53:34.230Z"
   },
   {
    "duration": 46,
    "start_time": "2023-09-26T13:53:34.257Z"
   },
   {
    "duration": 48,
    "start_time": "2023-09-26T13:53:34.306Z"
   },
   {
    "duration": 22,
    "start_time": "2023-09-26T13:53:34.356Z"
   },
   {
    "duration": 10,
    "start_time": "2023-09-26T13:53:34.380Z"
   },
   {
    "duration": 40,
    "start_time": "2023-09-26T13:53:34.392Z"
   },
   {
    "duration": 35,
    "start_time": "2023-09-26T13:53:34.436Z"
   },
   {
    "duration": 421,
    "start_time": "2023-09-26T13:53:34.475Z"
   },
   {
    "duration": 7,
    "start_time": "2023-09-26T13:53:34.899Z"
   },
   {
    "duration": 310,
    "start_time": "2023-09-26T13:53:34.908Z"
   },
   {
    "duration": 7,
    "start_time": "2023-09-26T13:53:35.220Z"
   },
   {
    "duration": 368,
    "start_time": "2023-09-26T13:53:35.229Z"
   },
   {
    "duration": 8,
    "start_time": "2023-09-26T13:53:35.598Z"
   },
   {
    "duration": 369,
    "start_time": "2023-09-26T13:53:35.608Z"
   },
   {
    "duration": 13,
    "start_time": "2023-09-26T13:53:35.981Z"
   },
   {
    "duration": 579,
    "start_time": "2023-09-26T13:53:35.996Z"
   },
   {
    "duration": 9,
    "start_time": "2023-09-26T13:53:36.577Z"
   },
   {
    "duration": 113,
    "start_time": "2023-09-26T13:53:36.587Z"
   },
   {
    "duration": 343,
    "start_time": "2023-09-26T13:53:36.702Z"
   },
   {
    "duration": 76,
    "start_time": "2023-09-26T13:53:37.050Z"
   },
   {
    "duration": 89,
    "start_time": "2023-09-26T13:53:37.127Z"
   },
   {
    "duration": 91,
    "start_time": "2023-09-26T13:53:37.218Z"
   },
   {
    "duration": 88,
    "start_time": "2023-09-26T13:53:37.311Z"
   },
   {
    "duration": 89,
    "start_time": "2023-09-26T13:53:37.400Z"
   },
   {
    "duration": 95,
    "start_time": "2023-09-26T13:53:37.493Z"
   },
   {
    "duration": 106,
    "start_time": "2023-09-26T13:53:37.590Z"
   },
   {
    "duration": 8,
    "start_time": "2023-09-26T13:53:37.697Z"
   },
   {
    "duration": 205,
    "start_time": "2023-09-26T13:53:37.707Z"
   },
   {
    "duration": 196,
    "start_time": "2023-09-26T13:54:45.705Z"
   },
   {
    "duration": 1156,
    "start_time": "2023-09-26T13:55:22.981Z"
   },
   {
    "duration": 70,
    "start_time": "2023-09-26T13:55:24.139Z"
   },
   {
    "duration": 12,
    "start_time": "2023-09-26T13:55:24.211Z"
   },
   {
    "duration": 56,
    "start_time": "2023-09-26T13:55:24.225Z"
   },
   {
    "duration": 23,
    "start_time": "2023-09-26T13:55:24.283Z"
   },
   {
    "duration": 68,
    "start_time": "2023-09-26T13:55:24.308Z"
   },
   {
    "duration": 18,
    "start_time": "2023-09-26T13:55:24.378Z"
   },
   {
    "duration": 32,
    "start_time": "2023-09-26T13:55:24.398Z"
   },
   {
    "duration": 25,
    "start_time": "2023-09-26T13:55:24.432Z"
   },
   {
    "duration": 25,
    "start_time": "2023-09-26T13:55:24.459Z"
   },
   {
    "duration": 358,
    "start_time": "2023-09-26T13:55:24.486Z"
   },
   {
    "duration": 11,
    "start_time": "2023-09-26T13:55:24.846Z"
   },
   {
    "duration": 302,
    "start_time": "2023-09-26T13:55:24.859Z"
   },
   {
    "duration": 9,
    "start_time": "2023-09-26T13:55:25.163Z"
   },
   {
    "duration": 313,
    "start_time": "2023-09-26T13:55:25.173Z"
   },
   {
    "duration": 8,
    "start_time": "2023-09-26T13:55:25.487Z"
   },
   {
    "duration": 354,
    "start_time": "2023-09-26T13:55:25.496Z"
   },
   {
    "duration": 15,
    "start_time": "2023-09-26T13:55:25.856Z"
   },
   {
    "duration": 533,
    "start_time": "2023-09-26T13:55:25.875Z"
   },
   {
    "duration": 8,
    "start_time": "2023-09-26T13:55:26.410Z"
   },
   {
    "duration": 158,
    "start_time": "2023-09-26T13:55:26.420Z"
   },
   {
    "duration": 338,
    "start_time": "2023-09-26T13:55:26.583Z"
   },
   {
    "duration": 108,
    "start_time": "2023-09-26T13:55:26.923Z"
   },
   {
    "duration": 103,
    "start_time": "2023-09-26T13:55:27.033Z"
   },
   {
    "duration": 98,
    "start_time": "2023-09-26T13:55:27.137Z"
   },
   {
    "duration": 93,
    "start_time": "2023-09-26T13:55:27.237Z"
   },
   {
    "duration": 81,
    "start_time": "2023-09-26T13:55:27.332Z"
   },
   {
    "duration": 93,
    "start_time": "2023-09-26T13:55:27.415Z"
   },
   {
    "duration": 95,
    "start_time": "2023-09-26T13:55:27.509Z"
   },
   {
    "duration": 8,
    "start_time": "2023-09-26T13:55:27.606Z"
   },
   {
    "duration": 255,
    "start_time": "2023-09-26T13:55:27.615Z"
   },
   {
    "duration": 182,
    "start_time": "2023-09-26T13:55:27.879Z"
   },
   {
    "duration": 192,
    "start_time": "2023-09-26T13:56:34.470Z"
   },
   {
    "duration": 1308,
    "start_time": "2023-09-26T13:58:17.983Z"
   },
   {
    "duration": 70,
    "start_time": "2023-09-26T13:58:19.295Z"
   },
   {
    "duration": 17,
    "start_time": "2023-09-26T13:58:19.369Z"
   },
   {
    "duration": 50,
    "start_time": "2023-09-26T13:58:19.388Z"
   },
   {
    "duration": 42,
    "start_time": "2023-09-26T13:58:19.440Z"
   },
   {
    "duration": 71,
    "start_time": "2023-09-26T13:58:19.485Z"
   },
   {
    "duration": 18,
    "start_time": "2023-09-26T13:58:19.557Z"
   },
   {
    "duration": 31,
    "start_time": "2023-09-26T13:58:19.577Z"
   },
   {
    "duration": 35,
    "start_time": "2023-09-26T13:58:19.610Z"
   },
   {
    "duration": 40,
    "start_time": "2023-09-26T13:58:19.647Z"
   },
   {
    "duration": 363,
    "start_time": "2023-09-26T13:58:19.689Z"
   },
   {
    "duration": 29,
    "start_time": "2023-09-26T13:58:20.055Z"
   },
   {
    "duration": 295,
    "start_time": "2023-09-26T13:58:20.089Z"
   },
   {
    "duration": 7,
    "start_time": "2023-09-26T13:58:20.389Z"
   },
   {
    "duration": 312,
    "start_time": "2023-09-26T13:58:20.397Z"
   },
   {
    "duration": 8,
    "start_time": "2023-09-26T13:58:20.710Z"
   },
   {
    "duration": 370,
    "start_time": "2023-09-26T13:58:20.719Z"
   },
   {
    "duration": 8,
    "start_time": "2023-09-26T13:58:21.091Z"
   },
   {
    "duration": 439,
    "start_time": "2023-09-26T13:58:21.100Z"
   },
   {
    "duration": 30,
    "start_time": "2023-09-26T13:58:21.541Z"
   },
   {
    "duration": 175,
    "start_time": "2023-09-26T13:58:21.573Z"
   },
   {
    "duration": 356,
    "start_time": "2023-09-26T13:58:21.749Z"
   },
   {
    "duration": 84,
    "start_time": "2023-09-26T13:58:22.107Z"
   },
   {
    "duration": 90,
    "start_time": "2023-09-26T13:58:22.193Z"
   },
   {
    "duration": 88,
    "start_time": "2023-09-26T13:58:22.286Z"
   },
   {
    "duration": 95,
    "start_time": "2023-09-26T13:58:22.375Z"
   },
   {
    "duration": 68,
    "start_time": "2023-09-26T13:58:22.480Z"
   },
   {
    "duration": 81,
    "start_time": "2023-09-26T13:58:22.552Z"
   },
   {
    "duration": 96,
    "start_time": "2023-09-26T13:58:22.635Z"
   },
   {
    "duration": 8,
    "start_time": "2023-09-26T13:58:22.732Z"
   },
   {
    "duration": 188,
    "start_time": "2023-09-26T13:58:22.741Z"
   },
   {
    "duration": 164,
    "start_time": "2023-09-26T13:58:22.931Z"
   },
   {
    "duration": 7,
    "start_time": "2023-09-26T13:58:23.097Z"
   },
   {
    "duration": 120,
    "start_time": "2023-09-26T13:58:23.105Z"
   },
   {
    "duration": 1120,
    "start_time": "2023-09-26T13:59:03.663Z"
   },
   {
    "duration": 94,
    "start_time": "2023-09-26T13:59:04.785Z"
   },
   {
    "duration": 13,
    "start_time": "2023-09-26T13:59:04.881Z"
   },
   {
    "duration": 60,
    "start_time": "2023-09-26T13:59:04.896Z"
   },
   {
    "duration": 34,
    "start_time": "2023-09-26T13:59:04.958Z"
   },
   {
    "duration": 29,
    "start_time": "2023-09-26T13:59:04.994Z"
   },
   {
    "duration": 29,
    "start_time": "2023-09-26T13:59:05.025Z"
   },
   {
    "duration": 31,
    "start_time": "2023-09-26T13:59:05.062Z"
   },
   {
    "duration": 12,
    "start_time": "2023-09-26T13:59:05.095Z"
   },
   {
    "duration": 8,
    "start_time": "2023-09-26T13:59:05.109Z"
   },
   {
    "duration": 359,
    "start_time": "2023-09-26T13:59:05.119Z"
   },
   {
    "duration": 10,
    "start_time": "2023-09-26T13:59:05.479Z"
   },
   {
    "duration": 296,
    "start_time": "2023-09-26T13:59:05.491Z"
   },
   {
    "duration": 8,
    "start_time": "2023-09-26T13:59:05.789Z"
   },
   {
    "duration": 358,
    "start_time": "2023-09-26T13:59:05.799Z"
   },
   {
    "duration": 11,
    "start_time": "2023-09-26T13:59:06.161Z"
   },
   {
    "duration": 413,
    "start_time": "2023-09-26T13:59:06.176Z"
   },
   {
    "duration": 8,
    "start_time": "2023-09-26T13:59:06.590Z"
   },
   {
    "duration": 421,
    "start_time": "2023-09-26T13:59:06.599Z"
   },
   {
    "duration": 8,
    "start_time": "2023-09-26T13:59:07.021Z"
   },
   {
    "duration": 138,
    "start_time": "2023-09-26T13:59:07.031Z"
   },
   {
    "duration": 331,
    "start_time": "2023-09-26T13:59:07.171Z"
   },
   {
    "duration": 82,
    "start_time": "2023-09-26T13:59:07.503Z"
   },
   {
    "duration": 100,
    "start_time": "2023-09-26T13:59:07.587Z"
   },
   {
    "duration": 95,
    "start_time": "2023-09-26T13:59:07.689Z"
   },
   {
    "duration": 95,
    "start_time": "2023-09-26T13:59:07.786Z"
   },
   {
    "duration": 80,
    "start_time": "2023-09-26T13:59:07.883Z"
   },
   {
    "duration": 73,
    "start_time": "2023-09-26T13:59:07.971Z"
   },
   {
    "duration": 89,
    "start_time": "2023-09-26T13:59:08.045Z"
   },
   {
    "duration": 8,
    "start_time": "2023-09-26T13:59:08.135Z"
   },
   {
    "duration": 186,
    "start_time": "2023-09-26T13:59:08.153Z"
   },
   {
    "duration": 172,
    "start_time": "2023-09-26T13:59:08.341Z"
   },
   {
    "duration": 7,
    "start_time": "2023-09-26T13:59:08.515Z"
   },
   {
    "duration": 145,
    "start_time": "2023-09-26T13:59:08.523Z"
   },
   {
    "duration": 1151,
    "start_time": "2023-09-26T14:06:40.676Z"
   },
   {
    "duration": 66,
    "start_time": "2023-09-26T14:06:41.829Z"
   },
   {
    "duration": 14,
    "start_time": "2023-09-26T14:06:41.899Z"
   },
   {
    "duration": 27,
    "start_time": "2023-09-26T14:06:41.915Z"
   },
   {
    "duration": 30,
    "start_time": "2023-09-26T14:06:41.943Z"
   },
   {
    "duration": 45,
    "start_time": "2023-09-26T14:06:41.975Z"
   },
   {
    "duration": 12,
    "start_time": "2023-09-26T14:06:42.022Z"
   },
   {
    "duration": 38,
    "start_time": "2023-09-26T14:06:42.035Z"
   },
   {
    "duration": 38,
    "start_time": "2023-09-26T14:06:42.075Z"
   },
   {
    "duration": 9,
    "start_time": "2023-09-26T14:06:42.116Z"
   },
   {
    "duration": 370,
    "start_time": "2023-09-26T14:06:42.126Z"
   },
   {
    "duration": 10,
    "start_time": "2023-09-26T14:06:42.498Z"
   },
   {
    "duration": 306,
    "start_time": "2023-09-26T14:06:42.509Z"
   },
   {
    "duration": 8,
    "start_time": "2023-09-26T14:06:42.816Z"
   },
   {
    "duration": 306,
    "start_time": "2023-09-26T14:06:42.826Z"
   },
   {
    "duration": 16,
    "start_time": "2023-09-26T14:06:43.134Z"
   },
   {
    "duration": 340,
    "start_time": "2023-09-26T14:06:43.154Z"
   },
   {
    "duration": 9,
    "start_time": "2023-09-26T14:06:43.496Z"
   },
   {
    "duration": 435,
    "start_time": "2023-09-26T14:06:43.507Z"
   },
   {
    "duration": 32,
    "start_time": "2023-09-26T14:06:43.944Z"
   },
   {
    "duration": 127,
    "start_time": "2023-09-26T14:06:43.978Z"
   },
   {
    "duration": 364,
    "start_time": "2023-09-26T14:06:44.107Z"
   },
   {
    "duration": 81,
    "start_time": "2023-09-26T14:06:44.473Z"
   },
   {
    "duration": 84,
    "start_time": "2023-09-26T14:06:44.556Z"
   },
   {
    "duration": 92,
    "start_time": "2023-09-26T14:06:44.642Z"
   },
   {
    "duration": 87,
    "start_time": "2023-09-26T14:06:44.736Z"
   },
   {
    "duration": 82,
    "start_time": "2023-09-26T14:06:44.825Z"
   },
   {
    "duration": 96,
    "start_time": "2023-09-26T14:06:44.910Z"
   },
   {
    "duration": 103,
    "start_time": "2023-09-26T14:06:45.008Z"
   },
   {
    "duration": 8,
    "start_time": "2023-09-26T14:06:45.112Z"
   },
   {
    "duration": 197,
    "start_time": "2023-09-26T14:06:45.122Z"
   },
   {
    "duration": 163,
    "start_time": "2023-09-26T14:06:45.321Z"
   },
   {
    "duration": 8,
    "start_time": "2023-09-26T14:06:45.486Z"
   },
   {
    "duration": 112,
    "start_time": "2023-09-26T14:06:45.496Z"
   },
   {
    "duration": 185,
    "start_time": "2023-09-26T14:06:45.610Z"
   },
   {
    "duration": 84,
    "start_time": "2023-09-26T14:06:45.796Z"
   },
   {
    "duration": 82,
    "start_time": "2023-09-26T14:06:45.881Z"
   },
   {
    "duration": 77,
    "start_time": "2023-09-26T14:06:45.964Z"
   },
   {
    "duration": 88,
    "start_time": "2023-09-26T14:06:46.052Z"
   },
   {
    "duration": 122,
    "start_time": "2023-09-26T14:06:46.142Z"
   },
   {
    "duration": 7,
    "start_time": "2023-09-26T14:07:58.955Z"
   },
   {
    "duration": 114,
    "start_time": "2023-09-26T14:07:58.968Z"
   },
   {
    "duration": 16,
    "start_time": "2023-09-26T14:07:59.084Z"
   },
   {
    "duration": 35,
    "start_time": "2023-09-26T14:07:59.102Z"
   },
   {
    "duration": 47,
    "start_time": "2023-09-26T14:07:59.138Z"
   },
   {
    "duration": 29,
    "start_time": "2023-09-26T14:07:59.187Z"
   },
   {
    "duration": 9,
    "start_time": "2023-09-26T14:07:59.218Z"
   },
   {
    "duration": 13,
    "start_time": "2023-09-26T14:07:59.228Z"
   },
   {
    "duration": 23,
    "start_time": "2023-09-26T14:07:59.242Z"
   },
   {
    "duration": 10,
    "start_time": "2023-09-26T14:07:59.266Z"
   },
   {
    "duration": 362,
    "start_time": "2023-09-26T14:07:59.278Z"
   },
   {
    "duration": 23,
    "start_time": "2023-09-26T14:07:59.642Z"
   },
   {
    "duration": 451,
    "start_time": "2023-09-26T14:07:59.666Z"
   },
   {
    "duration": 9,
    "start_time": "2023-09-26T14:08:00.119Z"
   },
   {
    "duration": 342,
    "start_time": "2023-09-26T14:08:00.129Z"
   },
   {
    "duration": 9,
    "start_time": "2023-09-26T14:08:00.473Z"
   },
   {
    "duration": 361,
    "start_time": "2023-09-26T14:08:00.484Z"
   },
   {
    "duration": 19,
    "start_time": "2023-09-26T14:08:00.849Z"
   },
   {
    "duration": 441,
    "start_time": "2023-09-26T14:08:00.870Z"
   },
   {
    "duration": 8,
    "start_time": "2023-09-26T14:08:01.313Z"
   },
   {
    "duration": 170,
    "start_time": "2023-09-26T14:08:01.323Z"
   },
   {
    "duration": 358,
    "start_time": "2023-09-26T14:08:01.495Z"
   },
   {
    "duration": 84,
    "start_time": "2023-09-26T14:08:01.855Z"
   },
   {
    "duration": 206,
    "start_time": "2023-09-26T14:08:01.941Z"
   },
   {
    "duration": 119,
    "start_time": "2023-09-26T14:08:02.149Z"
   },
   {
    "duration": 114,
    "start_time": "2023-09-26T14:08:02.271Z"
   },
   {
    "duration": 99,
    "start_time": "2023-09-26T14:08:02.387Z"
   },
   {
    "duration": 93,
    "start_time": "2023-09-26T14:08:02.488Z"
   },
   {
    "duration": 122,
    "start_time": "2023-09-26T14:08:02.582Z"
   },
   {
    "duration": 8,
    "start_time": "2023-09-26T14:08:02.706Z"
   },
   {
    "duration": 147,
    "start_time": "2023-09-26T14:08:02.716Z"
   },
   {
    "duration": 158,
    "start_time": "2023-09-26T14:08:02.866Z"
   },
   {
    "duration": 8,
    "start_time": "2023-09-26T14:08:03.026Z"
   },
   {
    "duration": 123,
    "start_time": "2023-09-26T14:08:03.036Z"
   },
   {
    "duration": 163,
    "start_time": "2023-09-26T14:08:03.162Z"
   },
   {
    "duration": 85,
    "start_time": "2023-09-26T14:08:03.326Z"
   },
   {
    "duration": 77,
    "start_time": "2023-09-26T14:08:03.412Z"
   },
   {
    "duration": 175,
    "start_time": "2023-09-26T14:08:03.491Z"
   },
   {
    "duration": 108,
    "start_time": "2023-09-26T14:08:03.669Z"
   },
   {
    "duration": 171,
    "start_time": "2023-09-26T14:08:28.595Z"
   },
   {
    "duration": 92,
    "start_time": "2023-09-26T16:46:42.912Z"
   },
   {
    "duration": 93,
    "start_time": "2023-09-26T16:46:56.499Z"
   },
   {
    "duration": 1398,
    "start_time": "2023-09-26T16:47:38.337Z"
   },
   {
    "duration": 171,
    "start_time": "2023-09-26T16:47:39.737Z"
   },
   {
    "duration": 15,
    "start_time": "2023-09-26T16:47:39.910Z"
   },
   {
    "duration": 103,
    "start_time": "2023-09-26T16:47:39.927Z"
   },
   {
    "duration": 246,
    "start_time": "2023-09-26T16:47:40.032Z"
   },
   {
    "duration": 98,
    "start_time": "2023-09-26T16:47:40.280Z"
   },
   {
    "duration": 73,
    "start_time": "2023-09-26T16:47:40.380Z"
   },
   {
    "duration": 110,
    "start_time": "2023-09-26T16:47:40.455Z"
   },
   {
    "duration": 55,
    "start_time": "2023-09-26T16:47:40.567Z"
   },
   {
    "duration": 10,
    "start_time": "2023-09-26T16:47:40.626Z"
   },
   {
    "duration": 427,
    "start_time": "2023-09-26T16:47:40.638Z"
   },
   {
    "duration": 9,
    "start_time": "2023-09-26T16:47:41.067Z"
   },
   {
    "duration": 306,
    "start_time": "2023-09-26T16:47:41.078Z"
   },
   {
    "duration": 9,
    "start_time": "2023-09-26T16:47:41.386Z"
   },
   {
    "duration": 407,
    "start_time": "2023-09-26T16:47:41.397Z"
   },
   {
    "duration": 8,
    "start_time": "2023-09-26T16:47:41.806Z"
   },
   {
    "duration": 474,
    "start_time": "2023-09-26T16:47:41.815Z"
   },
   {
    "duration": 8,
    "start_time": "2023-09-26T16:47:42.291Z"
   },
   {
    "duration": 464,
    "start_time": "2023-09-26T16:47:42.301Z"
   },
   {
    "duration": 8,
    "start_time": "2023-09-26T16:47:42.767Z"
   },
   {
    "duration": 150,
    "start_time": "2023-09-26T16:47:42.777Z"
   },
   {
    "duration": 358,
    "start_time": "2023-09-26T16:47:42.929Z"
   },
   {
    "duration": 94,
    "start_time": "2023-09-26T16:47:43.289Z"
   },
   {
    "duration": 205,
    "start_time": "2023-09-26T16:47:43.384Z"
   },
   {
    "duration": 82,
    "start_time": "2023-09-26T16:47:43.591Z"
   },
   {
    "duration": 88,
    "start_time": "2023-09-26T16:47:43.676Z"
   },
   {
    "duration": 74,
    "start_time": "2023-09-26T16:47:43.765Z"
   },
   {
    "duration": 89,
    "start_time": "2023-09-26T16:47:43.842Z"
   },
   {
    "duration": 166,
    "start_time": "2023-09-26T16:47:43.932Z"
   },
   {
    "duration": 8,
    "start_time": "2023-09-26T16:47:44.099Z"
   },
   {
    "duration": 222,
    "start_time": "2023-09-26T16:47:44.124Z"
   },
   {
    "duration": 198,
    "start_time": "2023-09-26T16:47:44.348Z"
   },
   {
    "duration": 8,
    "start_time": "2023-09-26T16:47:44.548Z"
   },
   {
    "duration": 116,
    "start_time": "2023-09-26T16:47:44.557Z"
   },
   {
    "duration": 159,
    "start_time": "2023-09-26T16:47:44.675Z"
   },
   {
    "duration": 69,
    "start_time": "2023-09-26T16:47:44.836Z"
   },
   {
    "duration": 82,
    "start_time": "2023-09-26T16:47:44.907Z"
   },
   {
    "duration": 81,
    "start_time": "2023-09-26T16:47:44.990Z"
   },
   {
    "duration": 131,
    "start_time": "2023-09-26T16:47:45.073Z"
   },
   {
    "duration": 231,
    "start_time": "2023-09-26T16:47:45.205Z"
   },
   {
    "duration": 118,
    "start_time": "2023-09-26T16:52:55.670Z"
   },
   {
    "duration": 120,
    "start_time": "2023-09-26T16:53:26.229Z"
   },
   {
    "duration": 249,
    "start_time": "2023-09-26T16:53:50.642Z"
   },
   {
    "duration": 2223,
    "start_time": "2023-09-26T16:55:47.787Z"
   },
   {
    "duration": 2641,
    "start_time": "2023-09-26T16:56:01.619Z"
   },
   {
    "duration": 17897,
    "start_time": "2023-09-26T16:56:26.496Z"
   },
   {
    "duration": 1233,
    "start_time": "2023-09-26T17:00:22.017Z"
   },
   {
    "duration": 56,
    "start_time": "2023-09-26T17:00:23.252Z"
   },
   {
    "duration": 12,
    "start_time": "2023-09-26T17:00:23.310Z"
   },
   {
    "duration": 27,
    "start_time": "2023-09-26T17:00:23.324Z"
   },
   {
    "duration": 333,
    "start_time": "2023-09-26T17:00:23.491Z"
   },
   {
    "duration": 9,
    "start_time": "2023-09-26T17:00:23.825Z"
   },
   {
    "duration": 279,
    "start_time": "2023-09-26T17:00:23.835Z"
   },
   {
    "duration": 14,
    "start_time": "2023-09-26T17:00:24.118Z"
   },
   {
    "duration": 306,
    "start_time": "2023-09-26T17:00:24.134Z"
   },
   {
    "duration": 7,
    "start_time": "2023-09-26T17:00:24.442Z"
   },
   {
    "duration": 330,
    "start_time": "2023-09-26T17:00:24.451Z"
   },
   {
    "duration": 8,
    "start_time": "2023-09-26T17:00:24.782Z"
   },
   {
    "duration": 403,
    "start_time": "2023-09-26T17:00:24.792Z"
   },
   {
    "duration": 7,
    "start_time": "2023-09-26T17:00:25.197Z"
   },
   {
    "duration": 125,
    "start_time": "2023-09-26T17:00:25.205Z"
   },
   {
    "duration": 338,
    "start_time": "2023-09-26T17:00:25.332Z"
   },
   {
    "duration": 76,
    "start_time": "2023-09-26T17:00:25.672Z"
   },
   {
    "duration": 88,
    "start_time": "2023-09-26T17:00:25.750Z"
   },
   {
    "duration": 99,
    "start_time": "2023-09-26T17:00:25.839Z"
   },
   {
    "duration": 98,
    "start_time": "2023-09-26T17:00:25.940Z"
   },
   {
    "duration": 93,
    "start_time": "2023-09-26T17:00:26.040Z"
   },
   {
    "duration": 75,
    "start_time": "2023-09-26T17:00:26.135Z"
   },
   {
    "duration": 165,
    "start_time": "2023-09-26T17:00:26.224Z"
   },
   {
    "duration": 7,
    "start_time": "2023-09-26T17:00:26.391Z"
   },
   {
    "duration": 183,
    "start_time": "2023-09-26T17:00:26.400Z"
   },
   {
    "duration": 147,
    "start_time": "2023-09-26T17:00:26.585Z"
   },
   {
    "duration": 7,
    "start_time": "2023-09-26T17:00:26.734Z"
   },
   {
    "duration": 99,
    "start_time": "2023-09-26T17:00:26.743Z"
   },
   {
    "duration": 159,
    "start_time": "2023-09-26T17:00:26.844Z"
   },
   {
    "duration": 70,
    "start_time": "2023-09-26T17:00:27.004Z"
   },
   {
    "duration": 70,
    "start_time": "2023-09-26T17:00:27.075Z"
   },
   {
    "duration": 78,
    "start_time": "2023-09-26T17:00:27.147Z"
   },
   {
    "duration": 85,
    "start_time": "2023-09-26T17:00:27.227Z"
   },
   {
    "duration": 2553,
    "start_time": "2023-09-26T17:00:27.323Z"
   },
   {
    "duration": 209,
    "start_time": "2023-09-26T17:03:40.264Z"
   },
   {
    "duration": 147,
    "start_time": "2023-09-26T17:06:11.085Z"
   },
   {
    "duration": 1362,
    "start_time": "2023-09-26T17:07:00.133Z"
   },
   {
    "duration": 58,
    "start_time": "2023-09-26T17:07:01.497Z"
   },
   {
    "duration": 242,
    "start_time": "2023-09-26T17:07:01.557Z"
   },
   {
    "duration": 149,
    "start_time": "2023-09-26T17:07:01.802Z"
   },
   {
    "duration": 68,
    "start_time": "2023-09-26T17:07:01.954Z"
   },
   {
    "duration": 71,
    "start_time": "2023-09-26T17:07:02.024Z"
   },
   {
    "duration": 30,
    "start_time": "2023-09-26T17:07:02.098Z"
   },
   {
    "duration": 28,
    "start_time": "2023-09-26T17:07:02.130Z"
   },
   {
    "duration": 51,
    "start_time": "2023-09-26T17:07:02.160Z"
   },
   {
    "duration": 145,
    "start_time": "2023-09-26T17:07:02.215Z"
   },
   {
    "duration": 514,
    "start_time": "2023-09-26T17:07:02.362Z"
   },
   {
    "duration": 72,
    "start_time": "2023-09-26T17:07:02.878Z"
   },
   {
    "duration": 586,
    "start_time": "2023-09-26T17:07:02.952Z"
   },
   {
    "duration": 8,
    "start_time": "2023-09-26T17:07:03.539Z"
   },
   {
    "duration": 544,
    "start_time": "2023-09-26T17:07:03.548Z"
   },
   {
    "duration": 340,
    "start_time": "2023-09-26T17:07:04.093Z"
   },
   {
    "duration": 342,
    "start_time": "2023-09-26T17:07:04.435Z"
   },
   {
    "duration": 8,
    "start_time": "2023-09-26T17:07:04.779Z"
   },
   {
    "duration": 451,
    "start_time": "2023-09-26T17:07:04.789Z"
   },
   {
    "duration": 7,
    "start_time": "2023-09-26T17:07:05.242Z"
   },
   {
    "duration": 340,
    "start_time": "2023-09-26T17:07:05.251Z"
   },
   {
    "duration": 326,
    "start_time": "2023-09-26T17:07:05.593Z"
   },
   {
    "duration": 69,
    "start_time": "2023-09-26T17:07:05.924Z"
   },
   {
    "duration": 223,
    "start_time": "2023-09-26T17:07:05.995Z"
   },
   {
    "duration": 232,
    "start_time": "2023-09-26T17:07:06.224Z"
   },
   {
    "duration": 302,
    "start_time": "2023-09-26T17:07:06.458Z"
   },
   {
    "duration": 117,
    "start_time": "2023-09-26T17:07:06.762Z"
   },
   {
    "duration": 127,
    "start_time": "2023-09-26T17:07:06.882Z"
   },
   {
    "duration": 180,
    "start_time": "2023-09-26T17:07:07.011Z"
   },
   {
    "duration": 121,
    "start_time": "2023-09-26T17:07:07.193Z"
   },
   {
    "duration": 215,
    "start_time": "2023-09-26T17:07:07.316Z"
   },
   {
    "duration": 153,
    "start_time": "2023-09-26T17:07:07.532Z"
   },
   {
    "duration": 8,
    "start_time": "2023-09-26T17:07:07.686Z"
   },
   {
    "duration": 207,
    "start_time": "2023-09-26T17:07:07.696Z"
   },
   {
    "duration": 162,
    "start_time": "2023-09-26T17:07:07.904Z"
   },
   {
    "duration": 75,
    "start_time": "2023-09-26T17:07:08.067Z"
   },
   {
    "duration": 66,
    "start_time": "2023-09-26T17:07:08.143Z"
   },
   {
    "duration": 71,
    "start_time": "2023-09-26T17:07:08.223Z"
   },
   {
    "duration": 97,
    "start_time": "2023-09-26T17:07:08.295Z"
   },
   {
    "duration": 174,
    "start_time": "2023-09-26T17:07:08.394Z"
   },
   {
    "duration": 96,
    "start_time": "2023-09-26T17:09:56.232Z"
   },
   {
    "duration": 1165,
    "start_time": "2023-09-26T17:10:33.875Z"
   },
   {
    "duration": 57,
    "start_time": "2023-09-26T17:10:35.042Z"
   },
   {
    "duration": 14,
    "start_time": "2023-09-26T17:10:35.100Z"
   },
   {
    "duration": 72,
    "start_time": "2023-09-26T17:10:35.223Z"
   },
   {
    "duration": 48,
    "start_time": "2023-09-26T17:10:35.297Z"
   },
   {
    "duration": 29,
    "start_time": "2023-09-26T17:10:35.347Z"
   },
   {
    "duration": 51,
    "start_time": "2023-09-26T17:10:35.377Z"
   },
   {
    "duration": 20,
    "start_time": "2023-09-26T17:10:35.431Z"
   },
   {
    "duration": 382,
    "start_time": "2023-09-26T17:10:35.452Z"
   },
   {
    "duration": 10,
    "start_time": "2023-09-26T17:10:35.837Z"
   },
   {
    "duration": 335,
    "start_time": "2023-09-26T17:10:35.849Z"
   },
   {
    "duration": 9,
    "start_time": "2023-09-26T17:10:36.186Z"
   },
   {
    "duration": 286,
    "start_time": "2023-09-26T17:10:36.197Z"
   },
   {
    "duration": 8,
    "start_time": "2023-09-26T17:10:36.485Z"
   },
   {
    "duration": 330,
    "start_time": "2023-09-26T17:10:36.494Z"
   },
   {
    "duration": 7,
    "start_time": "2023-09-26T17:10:36.826Z"
   },
   {
    "duration": 397,
    "start_time": "2023-09-26T17:10:36.835Z"
   },
   {
    "duration": 7,
    "start_time": "2023-09-26T17:10:37.234Z"
   },
   {
    "duration": 118,
    "start_time": "2023-09-26T17:10:37.243Z"
   },
   {
    "duration": 342,
    "start_time": "2023-09-26T17:10:37.363Z"
   },
   {
    "duration": 77,
    "start_time": "2023-09-26T17:10:37.707Z"
   },
   {
    "duration": 89,
    "start_time": "2023-09-26T17:10:37.786Z"
   },
   {
    "duration": 86,
    "start_time": "2023-09-26T17:10:37.877Z"
   },
   {
    "duration": 82,
    "start_time": "2023-09-26T17:10:37.964Z"
   },
   {
    "duration": 78,
    "start_time": "2023-09-26T17:10:38.047Z"
   },
   {
    "duration": 74,
    "start_time": "2023-09-26T17:10:38.129Z"
   },
   {
    "duration": 182,
    "start_time": "2023-09-26T17:10:38.204Z"
   },
   {
    "duration": 8,
    "start_time": "2023-09-26T17:10:38.387Z"
   },
   {
    "duration": 144,
    "start_time": "2023-09-26T17:10:38.397Z"
   },
   {
    "duration": 153,
    "start_time": "2023-09-26T17:10:38.542Z"
   },
   {
    "duration": 7,
    "start_time": "2023-09-26T17:10:38.697Z"
   },
   {
    "duration": 112,
    "start_time": "2023-09-26T17:10:38.706Z"
   },
   {
    "duration": 166,
    "start_time": "2023-09-26T17:10:38.824Z"
   },
   {
    "duration": 69,
    "start_time": "2023-09-26T17:10:38.992Z"
   },
   {
    "duration": 140,
    "start_time": "2023-09-26T17:10:39.063Z"
   },
   {
    "duration": 89,
    "start_time": "2023-09-26T17:10:39.204Z"
   },
   {
    "duration": 97,
    "start_time": "2023-09-26T17:10:39.295Z"
   },
   {
    "duration": 162,
    "start_time": "2023-09-26T17:10:39.394Z"
   },
   {
    "duration": 179,
    "start_time": "2023-09-26T17:10:39.558Z"
   },
   {
    "duration": 231,
    "start_time": "2023-09-26T17:12:26.413Z"
   },
   {
    "duration": 188,
    "start_time": "2023-09-26T17:12:36.038Z"
   },
   {
    "duration": 1179,
    "start_time": "2023-09-26T17:16:22.745Z"
   },
   {
    "duration": 55,
    "start_time": "2023-09-26T17:16:23.925Z"
   },
   {
    "duration": 13,
    "start_time": "2023-09-26T17:16:23.983Z"
   },
   {
    "duration": 26,
    "start_time": "2023-09-26T17:16:23.998Z"
   },
   {
    "duration": 24,
    "start_time": "2023-09-26T17:16:24.026Z"
   },
   {
    "duration": 24,
    "start_time": "2023-09-26T17:16:24.051Z"
   },
   {
    "duration": 9,
    "start_time": "2023-09-26T17:16:24.076Z"
   },
   {
    "duration": 29,
    "start_time": "2023-09-26T17:16:24.087Z"
   },
   {
    "duration": 18,
    "start_time": "2023-09-26T17:16:24.117Z"
   },
   {
    "duration": 10,
    "start_time": "2023-09-26T17:16:24.136Z"
   },
   {
    "duration": 365,
    "start_time": "2023-09-26T17:16:24.148Z"
   },
   {
    "duration": 13,
    "start_time": "2023-09-26T17:16:24.515Z"
   },
   {
    "duration": 323,
    "start_time": "2023-09-26T17:16:24.529Z"
   },
   {
    "duration": 8,
    "start_time": "2023-09-26T17:16:24.855Z"
   },
   {
    "duration": 302,
    "start_time": "2023-09-26T17:16:24.865Z"
   },
   {
    "duration": 9,
    "start_time": "2023-09-26T17:16:25.169Z"
   },
   {
    "duration": 335,
    "start_time": "2023-09-26T17:16:25.180Z"
   },
   {
    "duration": 12,
    "start_time": "2023-09-26T17:16:25.517Z"
   },
   {
    "duration": 482,
    "start_time": "2023-09-26T17:16:25.531Z"
   },
   {
    "duration": 15,
    "start_time": "2023-09-26T17:16:26.015Z"
   },
   {
    "duration": 166,
    "start_time": "2023-09-26T17:16:26.032Z"
   },
   {
    "duration": 349,
    "start_time": "2023-09-26T17:16:26.199Z"
   },
   {
    "duration": 86,
    "start_time": "2023-09-26T17:16:26.550Z"
   },
   {
    "duration": 88,
    "start_time": "2023-09-26T17:16:26.638Z"
   },
   {
    "duration": 155,
    "start_time": "2023-09-26T17:16:26.728Z"
   },
   {
    "duration": 89,
    "start_time": "2023-09-26T17:16:26.885Z"
   },
   {
    "duration": 76,
    "start_time": "2023-09-26T17:16:26.976Z"
   },
   {
    "duration": 92,
    "start_time": "2023-09-26T17:16:27.054Z"
   },
   {
    "duration": 177,
    "start_time": "2023-09-26T17:16:27.148Z"
   },
   {
    "duration": 8,
    "start_time": "2023-09-26T17:16:27.327Z"
   },
   {
    "duration": 125,
    "start_time": "2023-09-26T17:16:27.337Z"
   },
   {
    "duration": 144,
    "start_time": "2023-09-26T17:16:27.464Z"
   },
   {
    "duration": 15,
    "start_time": "2023-09-26T17:16:27.610Z"
   },
   {
    "duration": 109,
    "start_time": "2023-09-26T17:16:27.626Z"
   },
   {
    "duration": 152,
    "start_time": "2023-09-26T17:16:27.737Z"
   },
   {
    "duration": 71,
    "start_time": "2023-09-26T17:16:27.891Z"
   },
   {
    "duration": 75,
    "start_time": "2023-09-26T17:16:27.963Z"
   },
   {
    "duration": 68,
    "start_time": "2023-09-26T17:16:28.040Z"
   },
   {
    "duration": 124,
    "start_time": "2023-09-26T17:16:28.123Z"
   },
   {
    "duration": 290,
    "start_time": "2023-09-26T17:16:28.249Z"
   },
   {
    "duration": 0,
    "start_time": "2023-09-26T17:16:28.541Z"
   },
   {
    "duration": 1147,
    "start_time": "2023-09-26T17:16:54.497Z"
   },
   {
    "duration": 56,
    "start_time": "2023-09-26T17:16:55.646Z"
   },
   {
    "duration": 14,
    "start_time": "2023-09-26T17:16:55.704Z"
   },
   {
    "duration": 88,
    "start_time": "2023-09-26T17:16:55.721Z"
   },
   {
    "duration": 43,
    "start_time": "2023-09-26T17:16:55.811Z"
   },
   {
    "duration": 53,
    "start_time": "2023-09-26T17:16:55.856Z"
   },
   {
    "duration": 18,
    "start_time": "2023-09-26T17:16:55.910Z"
   },
   {
    "duration": 26,
    "start_time": "2023-09-26T17:16:55.930Z"
   },
   {
    "duration": 25,
    "start_time": "2023-09-26T17:16:55.958Z"
   },
   {
    "duration": 36,
    "start_time": "2023-09-26T17:16:55.987Z"
   },
   {
    "duration": 379,
    "start_time": "2023-09-26T17:16:56.024Z"
   },
   {
    "duration": 19,
    "start_time": "2023-09-26T17:16:56.405Z"
   },
   {
    "duration": 301,
    "start_time": "2023-09-26T17:16:56.426Z"
   },
   {
    "duration": 8,
    "start_time": "2023-09-26T17:16:56.729Z"
   },
   {
    "duration": 375,
    "start_time": "2023-09-26T17:16:56.739Z"
   },
   {
    "duration": 14,
    "start_time": "2023-09-26T17:16:57.116Z"
   },
   {
    "duration": 344,
    "start_time": "2023-09-26T17:16:57.132Z"
   },
   {
    "duration": 9,
    "start_time": "2023-09-26T17:16:57.478Z"
   },
   {
    "duration": 445,
    "start_time": "2023-09-26T17:16:57.488Z"
   },
   {
    "duration": 8,
    "start_time": "2023-09-26T17:16:57.935Z"
   },
   {
    "duration": 109,
    "start_time": "2023-09-26T17:16:57.945Z"
   },
   {
    "duration": 356,
    "start_time": "2023-09-26T17:16:58.056Z"
   },
   {
    "duration": 87,
    "start_time": "2023-09-26T17:16:58.414Z"
   },
   {
    "duration": 89,
    "start_time": "2023-09-26T17:16:58.503Z"
   },
   {
    "duration": 90,
    "start_time": "2023-09-26T17:16:58.593Z"
   },
   {
    "duration": 83,
    "start_time": "2023-09-26T17:16:58.685Z"
   },
   {
    "duration": 75,
    "start_time": "2023-09-26T17:16:58.770Z"
   },
   {
    "duration": 99,
    "start_time": "2023-09-26T17:16:58.848Z"
   },
   {
    "duration": 189,
    "start_time": "2023-09-26T17:16:58.948Z"
   },
   {
    "duration": 9,
    "start_time": "2023-09-26T17:16:59.138Z"
   },
   {
    "duration": 137,
    "start_time": "2023-09-26T17:16:59.149Z"
   },
   {
    "duration": 165,
    "start_time": "2023-09-26T17:16:59.288Z"
   },
   {
    "duration": 8,
    "start_time": "2023-09-26T17:16:59.455Z"
   },
   {
    "duration": 109,
    "start_time": "2023-09-26T17:16:59.465Z"
   },
   {
    "duration": 170,
    "start_time": "2023-09-26T17:16:59.576Z"
   },
   {
    "duration": 78,
    "start_time": "2023-09-26T17:16:59.749Z"
   },
   {
    "duration": 66,
    "start_time": "2023-09-26T17:16:59.829Z"
   },
   {
    "duration": 86,
    "start_time": "2023-09-26T17:16:59.897Z"
   },
   {
    "duration": 96,
    "start_time": "2023-09-26T17:16:59.985Z"
   },
   {
    "duration": 368,
    "start_time": "2023-09-26T17:17:00.083Z"
   },
   {
    "duration": 258,
    "start_time": "2023-09-26T17:17:00.453Z"
   },
   {
    "duration": 158,
    "start_time": "2023-09-26T17:30:17.506Z"
   },
   {
    "duration": 1522,
    "start_time": "2023-09-27T12:23:26.027Z"
   },
   {
    "duration": 202,
    "start_time": "2023-09-27T12:23:27.551Z"
   },
   {
    "duration": 20,
    "start_time": "2023-09-27T12:23:27.755Z"
   },
   {
    "duration": 27,
    "start_time": "2023-09-27T12:23:27.778Z"
   },
   {
    "duration": 49,
    "start_time": "2023-09-27T12:23:27.808Z"
   },
   {
    "duration": 31,
    "start_time": "2023-09-27T12:23:27.859Z"
   },
   {
    "duration": 14,
    "start_time": "2023-09-27T12:23:27.892Z"
   },
   {
    "duration": 17,
    "start_time": "2023-09-27T12:23:27.908Z"
   },
   {
    "duration": 33,
    "start_time": "2023-09-27T12:23:27.927Z"
   },
   {
    "duration": 11,
    "start_time": "2023-09-27T12:23:27.962Z"
   },
   {
    "duration": 432,
    "start_time": "2023-09-27T12:23:27.976Z"
   },
   {
    "duration": 11,
    "start_time": "2023-09-27T12:23:28.410Z"
   },
   {
    "duration": 336,
    "start_time": "2023-09-27T12:23:28.422Z"
   },
   {
    "duration": 10,
    "start_time": "2023-09-27T12:23:28.762Z"
   },
   {
    "duration": 439,
    "start_time": "2023-09-27T12:23:28.774Z"
   },
   {
    "duration": 11,
    "start_time": "2023-09-27T12:23:29.215Z"
   },
   {
    "duration": 432,
    "start_time": "2023-09-27T12:23:29.228Z"
   },
   {
    "duration": 9,
    "start_time": "2023-09-27T12:23:29.662Z"
   },
   {
    "duration": 539,
    "start_time": "2023-09-27T12:23:29.673Z"
   },
   {
    "duration": 10,
    "start_time": "2023-09-27T12:23:30.214Z"
   },
   {
    "duration": 186,
    "start_time": "2023-09-27T12:23:30.226Z"
   },
   {
    "duration": 376,
    "start_time": "2023-09-27T12:23:30.414Z"
   },
   {
    "duration": 107,
    "start_time": "2023-09-27T12:23:30.791Z"
   },
   {
    "duration": 138,
    "start_time": "2023-09-27T12:23:30.900Z"
   },
   {
    "duration": 93,
    "start_time": "2023-09-27T12:23:31.040Z"
   },
   {
    "duration": 94,
    "start_time": "2023-09-27T12:23:31.135Z"
   },
   {
    "duration": 91,
    "start_time": "2023-09-27T12:23:31.231Z"
   },
   {
    "duration": 101,
    "start_time": "2023-09-27T12:23:31.324Z"
   },
   {
    "duration": 205,
    "start_time": "2023-09-27T12:23:31.427Z"
   },
   {
    "duration": 20,
    "start_time": "2023-09-27T12:23:31.635Z"
   },
   {
    "duration": 145,
    "start_time": "2023-09-27T12:23:31.658Z"
   },
   {
    "duration": 195,
    "start_time": "2023-09-27T12:23:31.806Z"
   },
   {
    "duration": 10,
    "start_time": "2023-09-27T12:23:32.003Z"
   },
   {
    "duration": 169,
    "start_time": "2023-09-27T12:23:32.015Z"
   },
   {
    "duration": 209,
    "start_time": "2023-09-27T12:23:32.186Z"
   },
   {
    "duration": 96,
    "start_time": "2023-09-27T12:23:32.397Z"
   },
   {
    "duration": 85,
    "start_time": "2023-09-27T12:23:32.495Z"
   },
   {
    "duration": 82,
    "start_time": "2023-09-27T12:23:32.582Z"
   },
   {
    "duration": 109,
    "start_time": "2023-09-27T12:23:32.666Z"
   },
   {
    "duration": 361,
    "start_time": "2023-09-27T12:23:32.778Z"
   },
   {
    "duration": 315,
    "start_time": "2023-09-27T12:23:33.144Z"
   },
   {
    "duration": 11,
    "start_time": "2023-09-27T12:28:24.577Z"
   },
   {
    "duration": 1362,
    "start_time": "2023-09-27T12:29:44.723Z"
   },
   {
    "duration": 60,
    "start_time": "2023-09-27T12:29:46.086Z"
   },
   {
    "duration": 18,
    "start_time": "2023-09-27T12:29:46.148Z"
   },
   {
    "duration": 38,
    "start_time": "2023-09-27T12:29:46.170Z"
   },
   {
    "duration": 35,
    "start_time": "2023-09-27T12:29:46.212Z"
   },
   {
    "duration": 44,
    "start_time": "2023-09-27T12:29:46.249Z"
   },
   {
    "duration": 23,
    "start_time": "2023-09-27T12:29:46.294Z"
   },
   {
    "duration": 12,
    "start_time": "2023-09-27T12:29:46.320Z"
   },
   {
    "duration": 27,
    "start_time": "2023-09-27T12:29:46.335Z"
   },
   {
    "duration": 17,
    "start_time": "2023-09-27T12:29:46.364Z"
   },
   {
    "duration": 457,
    "start_time": "2023-09-27T12:29:46.384Z"
   },
   {
    "duration": 20,
    "start_time": "2023-09-27T12:29:46.844Z"
   },
   {
    "duration": 366,
    "start_time": "2023-09-27T12:29:46.865Z"
   },
   {
    "duration": 9,
    "start_time": "2023-09-27T12:29:47.234Z"
   },
   {
    "duration": 354,
    "start_time": "2023-09-27T12:29:47.245Z"
   },
   {
    "duration": 9,
    "start_time": "2023-09-27T12:29:47.601Z"
   },
   {
    "duration": 481,
    "start_time": "2023-09-27T12:29:47.612Z"
   },
   {
    "duration": 10,
    "start_time": "2023-09-27T12:29:48.094Z"
   },
   {
    "duration": 477,
    "start_time": "2023-09-27T12:29:48.105Z"
   },
   {
    "duration": 10,
    "start_time": "2023-09-27T12:29:48.584Z"
   },
   {
    "duration": 192,
    "start_time": "2023-09-27T12:29:48.595Z"
   },
   {
    "duration": 458,
    "start_time": "2023-09-27T12:29:48.789Z"
   },
   {
    "duration": 84,
    "start_time": "2023-09-27T12:29:49.250Z"
   },
   {
    "duration": 119,
    "start_time": "2023-09-27T12:29:49.337Z"
   },
   {
    "duration": 98,
    "start_time": "2023-09-27T12:29:49.459Z"
   },
   {
    "duration": 102,
    "start_time": "2023-09-27T12:29:49.559Z"
   },
   {
    "duration": 77,
    "start_time": "2023-09-27T12:29:49.663Z"
   },
   {
    "duration": 103,
    "start_time": "2023-09-27T12:29:49.756Z"
   },
   {
    "duration": 229,
    "start_time": "2023-09-27T12:29:49.862Z"
   },
   {
    "duration": 8,
    "start_time": "2023-09-27T12:29:50.092Z"
   },
   {
    "duration": 138,
    "start_time": "2023-09-27T12:29:50.102Z"
   },
   {
    "duration": 208,
    "start_time": "2023-09-27T12:29:50.241Z"
   },
   {
    "duration": 12,
    "start_time": "2023-09-27T12:29:50.451Z"
   },
   {
    "duration": 135,
    "start_time": "2023-09-27T12:29:50.466Z"
   },
   {
    "duration": 204,
    "start_time": "2023-09-27T12:29:50.602Z"
   },
   {
    "duration": 101,
    "start_time": "2023-09-27T12:29:50.808Z"
   },
   {
    "duration": 111,
    "start_time": "2023-09-27T12:29:50.910Z"
   },
   {
    "duration": 101,
    "start_time": "2023-09-27T12:29:51.023Z"
   },
   {
    "duration": 108,
    "start_time": "2023-09-27T12:29:51.126Z"
   },
   {
    "duration": 373,
    "start_time": "2023-09-27T12:29:51.236Z"
   },
   {
    "duration": 5,
    "start_time": "2023-09-27T12:29:51.612Z"
   },
   {
    "duration": 327,
    "start_time": "2023-09-27T12:29:51.618Z"
   },
   {
    "duration": 338,
    "start_time": "2023-09-27T12:34:05.060Z"
   },
   {
    "duration": 426,
    "start_time": "2023-09-27T12:34:28.737Z"
   },
   {
    "duration": 339,
    "start_time": "2023-09-27T12:34:47.381Z"
   },
   {
    "duration": 185,
    "start_time": "2023-09-27T12:37:46.430Z"
   },
   {
    "duration": 196,
    "start_time": "2023-09-27T12:38:54.607Z"
   },
   {
    "duration": 204,
    "start_time": "2023-09-27T12:39:32.090Z"
   },
   {
    "duration": 221,
    "start_time": "2023-09-27T12:39:42.737Z"
   },
   {
    "duration": 448,
    "start_time": "2023-09-27T12:43:54.756Z"
   },
   {
    "duration": 1421,
    "start_time": "2023-09-27T12:47:04.425Z"
   },
   {
    "duration": 63,
    "start_time": "2023-09-27T12:47:05.848Z"
   },
   {
    "duration": 14,
    "start_time": "2023-09-27T12:47:05.913Z"
   },
   {
    "duration": 30,
    "start_time": "2023-09-27T12:47:05.929Z"
   },
   {
    "duration": 40,
    "start_time": "2023-09-27T12:47:05.962Z"
   },
   {
    "duration": 52,
    "start_time": "2023-09-27T12:47:06.004Z"
   },
   {
    "duration": 20,
    "start_time": "2023-09-27T12:47:06.059Z"
   },
   {
    "duration": 29,
    "start_time": "2023-09-27T12:47:06.082Z"
   },
   {
    "duration": 48,
    "start_time": "2023-09-27T12:47:06.113Z"
   },
   {
    "duration": 19,
    "start_time": "2023-09-27T12:47:06.166Z"
   },
   {
    "duration": 430,
    "start_time": "2023-09-27T12:47:06.187Z"
   },
   {
    "duration": 8,
    "start_time": "2023-09-27T12:47:06.619Z"
   },
   {
    "duration": 343,
    "start_time": "2023-09-27T12:47:06.629Z"
   },
   {
    "duration": 11,
    "start_time": "2023-09-27T12:47:06.974Z"
   },
   {
    "duration": 355,
    "start_time": "2023-09-27T12:47:06.986Z"
   },
   {
    "duration": 15,
    "start_time": "2023-09-27T12:47:07.343Z"
   },
   {
    "duration": 363,
    "start_time": "2023-09-27T12:47:07.361Z"
   },
   {
    "duration": 10,
    "start_time": "2023-09-27T12:47:07.725Z"
   },
   {
    "duration": 543,
    "start_time": "2023-09-27T12:47:07.737Z"
   },
   {
    "duration": 16,
    "start_time": "2023-09-27T12:47:08.283Z"
   },
   {
    "duration": 156,
    "start_time": "2023-09-27T12:47:08.304Z"
   },
   {
    "duration": 463,
    "start_time": "2023-09-27T12:47:08.464Z"
   },
   {
    "duration": 123,
    "start_time": "2023-09-27T12:47:08.929Z"
   },
   {
    "duration": 134,
    "start_time": "2023-09-27T12:47:09.054Z"
   },
   {
    "duration": 112,
    "start_time": "2023-09-27T12:47:09.192Z"
   },
   {
    "duration": 89,
    "start_time": "2023-09-27T12:47:09.306Z"
   },
   {
    "duration": 99,
    "start_time": "2023-09-27T12:47:09.396Z"
   },
   {
    "duration": 117,
    "start_time": "2023-09-27T12:47:09.499Z"
   },
   {
    "duration": 198,
    "start_time": "2023-09-27T12:47:09.618Z"
   },
   {
    "duration": 8,
    "start_time": "2023-09-27T12:47:09.818Z"
   },
   {
    "duration": 136,
    "start_time": "2023-09-27T12:47:09.828Z"
   },
   {
    "duration": 190,
    "start_time": "2023-09-27T12:47:09.967Z"
   },
   {
    "duration": 11,
    "start_time": "2023-09-27T12:47:10.159Z"
   },
   {
    "duration": 135,
    "start_time": "2023-09-27T12:47:10.173Z"
   },
   {
    "duration": 195,
    "start_time": "2023-09-27T12:47:10.309Z"
   },
   {
    "duration": 101,
    "start_time": "2023-09-27T12:47:10.506Z"
   },
   {
    "duration": 95,
    "start_time": "2023-09-27T12:47:10.609Z"
   },
   {
    "duration": 99,
    "start_time": "2023-09-27T12:47:10.706Z"
   },
   {
    "duration": 112,
    "start_time": "2023-09-27T12:47:10.808Z"
   },
   {
    "duration": 371,
    "start_time": "2023-09-27T12:47:10.921Z"
   },
   {
    "duration": 433,
    "start_time": "2023-09-27T12:47:11.294Z"
   },
   {
    "duration": 362,
    "start_time": "2023-09-27T12:47:11.729Z"
   },
   {
    "duration": 5,
    "start_time": "2023-09-27T12:47:12.092Z"
   },
   {
    "duration": 265,
    "start_time": "2023-09-27T12:47:12.099Z"
   },
   {
    "duration": 1391,
    "start_time": "2023-09-27T12:52:12.338Z"
   },
   {
    "duration": 67,
    "start_time": "2023-09-27T12:52:13.732Z"
   },
   {
    "duration": 17,
    "start_time": "2023-09-27T12:52:13.801Z"
   },
   {
    "duration": 31,
    "start_time": "2023-09-27T12:52:13.821Z"
   },
   {
    "duration": 30,
    "start_time": "2023-09-27T12:52:13.854Z"
   },
   {
    "duration": 29,
    "start_time": "2023-09-27T12:52:13.886Z"
   },
   {
    "duration": 42,
    "start_time": "2023-09-27T12:52:13.917Z"
   },
   {
    "duration": 15,
    "start_time": "2023-09-27T12:52:13.962Z"
   },
   {
    "duration": 18,
    "start_time": "2023-09-27T12:52:13.979Z"
   },
   {
    "duration": 19,
    "start_time": "2023-09-27T12:52:14.001Z"
   },
   {
    "duration": 479,
    "start_time": "2023-09-27T12:52:14.022Z"
   },
   {
    "duration": 10,
    "start_time": "2023-09-27T12:52:14.502Z"
   },
   {
    "duration": 384,
    "start_time": "2023-09-27T12:52:14.514Z"
   },
   {
    "duration": 10,
    "start_time": "2023-09-27T12:52:14.900Z"
   },
   {
    "duration": 354,
    "start_time": "2023-09-27T12:52:14.911Z"
   },
   {
    "duration": 13,
    "start_time": "2023-09-27T12:52:15.269Z"
   },
   {
    "duration": 423,
    "start_time": "2023-09-27T12:52:15.284Z"
   },
   {
    "duration": 9,
    "start_time": "2023-09-27T12:52:15.709Z"
   },
   {
    "duration": 560,
    "start_time": "2023-09-27T12:52:15.720Z"
   },
   {
    "duration": 10,
    "start_time": "2023-09-27T12:52:16.283Z"
   },
   {
    "duration": 155,
    "start_time": "2023-09-27T12:52:16.295Z"
   },
   {
    "duration": 432,
    "start_time": "2023-09-27T12:52:16.456Z"
   },
   {
    "duration": 101,
    "start_time": "2023-09-27T12:52:16.889Z"
   },
   {
    "duration": 121,
    "start_time": "2023-09-27T12:52:16.992Z"
   },
   {
    "duration": 109,
    "start_time": "2023-09-27T12:52:17.115Z"
   },
   {
    "duration": 104,
    "start_time": "2023-09-27T12:52:17.226Z"
   },
   {
    "duration": 111,
    "start_time": "2023-09-27T12:52:17.333Z"
   },
   {
    "duration": 124,
    "start_time": "2023-09-27T12:52:17.458Z"
   },
   {
    "duration": 228,
    "start_time": "2023-09-27T12:52:17.585Z"
   },
   {
    "duration": 9,
    "start_time": "2023-09-27T12:52:17.816Z"
   },
   {
    "duration": 168,
    "start_time": "2023-09-27T12:52:17.827Z"
   },
   {
    "duration": 212,
    "start_time": "2023-09-27T12:52:17.998Z"
   },
   {
    "duration": 8,
    "start_time": "2023-09-27T12:52:18.212Z"
   },
   {
    "duration": 138,
    "start_time": "2023-09-27T12:52:18.222Z"
   },
   {
    "duration": 213,
    "start_time": "2023-09-27T12:52:18.364Z"
   },
   {
    "duration": 96,
    "start_time": "2023-09-27T12:52:18.580Z"
   },
   {
    "duration": 95,
    "start_time": "2023-09-27T12:52:18.678Z"
   },
   {
    "duration": 124,
    "start_time": "2023-09-27T12:52:18.776Z"
   },
   {
    "duration": 133,
    "start_time": "2023-09-27T12:52:18.902Z"
   },
   {
    "duration": 399,
    "start_time": "2023-09-27T12:52:19.038Z"
   },
   {
    "duration": 451,
    "start_time": "2023-09-27T12:52:19.438Z"
   },
   {
    "duration": 368,
    "start_time": "2023-09-27T12:52:19.891Z"
   },
   {
    "duration": 6,
    "start_time": "2023-09-27T12:52:20.261Z"
   },
   {
    "duration": 363,
    "start_time": "2023-09-27T12:52:20.269Z"
   },
   {
    "duration": 248,
    "start_time": "2023-09-27T12:52:20.634Z"
   },
   {
    "duration": 5,
    "start_time": "2023-09-27T12:53:21.023Z"
   },
   {
    "duration": 8,
    "start_time": "2023-09-27T12:58:46.162Z"
   },
   {
    "duration": 1414,
    "start_time": "2023-09-27T12:59:42.695Z"
   },
   {
    "duration": 62,
    "start_time": "2023-09-27T12:59:44.112Z"
   },
   {
    "duration": 17,
    "start_time": "2023-09-27T12:59:44.176Z"
   },
   {
    "duration": 34,
    "start_time": "2023-09-27T12:59:44.195Z"
   },
   {
    "duration": 37,
    "start_time": "2023-09-27T12:59:44.231Z"
   },
   {
    "duration": 47,
    "start_time": "2023-09-27T12:59:44.270Z"
   },
   {
    "duration": 22,
    "start_time": "2023-09-27T12:59:44.319Z"
   },
   {
    "duration": 53,
    "start_time": "2023-09-27T12:59:44.343Z"
   },
   {
    "duration": 28,
    "start_time": "2023-09-27T12:59:44.398Z"
   },
   {
    "duration": 20,
    "start_time": "2023-09-27T12:59:44.429Z"
   },
   {
    "duration": 471,
    "start_time": "2023-09-27T12:59:44.451Z"
   },
   {
    "duration": 10,
    "start_time": "2023-09-27T12:59:44.923Z"
   },
   {
    "duration": 333,
    "start_time": "2023-09-27T12:59:44.934Z"
   },
   {
    "duration": 12,
    "start_time": "2023-09-27T12:59:45.270Z"
   },
   {
    "duration": 368,
    "start_time": "2023-09-27T12:59:45.284Z"
   },
   {
    "duration": 19,
    "start_time": "2023-09-27T12:59:45.656Z"
   },
   {
    "duration": 426,
    "start_time": "2023-09-27T12:59:45.681Z"
   },
   {
    "duration": 9,
    "start_time": "2023-09-27T12:59:46.109Z"
   },
   {
    "duration": 519,
    "start_time": "2023-09-27T12:59:46.120Z"
   },
   {
    "duration": 21,
    "start_time": "2023-09-27T12:59:46.641Z"
   },
   {
    "duration": 133,
    "start_time": "2023-09-27T12:59:46.665Z"
   },
   {
    "duration": 416,
    "start_time": "2023-09-27T12:59:46.800Z"
   },
   {
    "duration": 94,
    "start_time": "2023-09-27T12:59:47.218Z"
   },
   {
    "duration": 101,
    "start_time": "2023-09-27T12:59:47.314Z"
   },
   {
    "duration": 98,
    "start_time": "2023-09-27T12:59:47.417Z"
   },
   {
    "duration": 102,
    "start_time": "2023-09-27T12:59:47.517Z"
   },
   {
    "duration": 98,
    "start_time": "2023-09-27T12:59:47.621Z"
   },
   {
    "duration": 109,
    "start_time": "2023-09-27T12:59:47.722Z"
   },
   {
    "duration": 245,
    "start_time": "2023-09-27T12:59:47.833Z"
   },
   {
    "duration": 11,
    "start_time": "2023-09-27T12:59:48.080Z"
   },
   {
    "duration": 150,
    "start_time": "2023-09-27T12:59:48.093Z"
   },
   {
    "duration": 175,
    "start_time": "2023-09-27T12:59:48.245Z"
   },
   {
    "duration": 10,
    "start_time": "2023-09-27T12:59:48.421Z"
   },
   {
    "duration": 146,
    "start_time": "2023-09-27T12:59:48.433Z"
   },
   {
    "duration": 189,
    "start_time": "2023-09-27T12:59:48.582Z"
   },
   {
    "duration": 103,
    "start_time": "2023-09-27T12:59:48.775Z"
   },
   {
    "duration": 107,
    "start_time": "2023-09-27T12:59:48.880Z"
   },
   {
    "duration": 125,
    "start_time": "2023-09-27T12:59:48.990Z"
   },
   {
    "duration": 143,
    "start_time": "2023-09-27T12:59:49.117Z"
   },
   {
    "duration": 354,
    "start_time": "2023-09-27T12:59:49.263Z"
   },
   {
    "duration": 8,
    "start_time": "2023-09-27T12:59:49.618Z"
   },
   {
    "duration": 450,
    "start_time": "2023-09-27T12:59:49.628Z"
   },
   {
    "duration": 332,
    "start_time": "2023-09-27T12:59:50.080Z"
   },
   {
    "duration": 5,
    "start_time": "2023-09-27T12:59:50.414Z"
   },
   {
    "duration": 338,
    "start_time": "2023-09-27T12:59:50.421Z"
   },
   {
    "duration": 9,
    "start_time": "2023-09-27T12:59:50.761Z"
   },
   {
    "duration": 232,
    "start_time": "2023-09-27T12:59:50.772Z"
   },
   {
    "duration": 8,
    "start_time": "2023-09-27T13:04:44.084Z"
   },
   {
    "duration": 1252,
    "start_time": "2023-09-27T13:14:00.770Z"
   },
   {
    "duration": 62,
    "start_time": "2023-09-27T13:14:02.024Z"
   },
   {
    "duration": 23,
    "start_time": "2023-09-27T13:14:02.088Z"
   },
   {
    "duration": 31,
    "start_time": "2023-09-27T13:14:02.113Z"
   },
   {
    "duration": 82,
    "start_time": "2023-09-27T13:14:02.147Z"
   },
   {
    "duration": 49,
    "start_time": "2023-09-27T13:14:02.231Z"
   },
   {
    "duration": 15,
    "start_time": "2023-09-27T13:14:02.282Z"
   },
   {
    "duration": 33,
    "start_time": "2023-09-27T13:14:02.299Z"
   },
   {
    "duration": 24,
    "start_time": "2023-09-27T13:14:02.334Z"
   },
   {
    "duration": 11,
    "start_time": "2023-09-27T13:14:02.360Z"
   },
   {
    "duration": 406,
    "start_time": "2023-09-27T13:14:02.373Z"
   },
   {
    "duration": 9,
    "start_time": "2023-09-27T13:14:02.782Z"
   },
   {
    "duration": 345,
    "start_time": "2023-09-27T13:14:02.793Z"
   },
   {
    "duration": 16,
    "start_time": "2023-09-27T13:14:03.141Z"
   },
   {
    "duration": 321,
    "start_time": "2023-09-27T13:14:03.159Z"
   },
   {
    "duration": 10,
    "start_time": "2023-09-27T13:14:03.482Z"
   },
   {
    "duration": 379,
    "start_time": "2023-09-27T13:14:03.493Z"
   },
   {
    "duration": 9,
    "start_time": "2023-09-27T13:14:03.874Z"
   },
   {
    "duration": 483,
    "start_time": "2023-09-27T13:14:03.885Z"
   },
   {
    "duration": 9,
    "start_time": "2023-09-27T13:14:04.369Z"
   },
   {
    "duration": 134,
    "start_time": "2023-09-27T13:14:04.380Z"
   },
   {
    "duration": 389,
    "start_time": "2023-09-27T13:14:04.516Z"
   },
   {
    "duration": 97,
    "start_time": "2023-09-27T13:14:04.906Z"
   },
   {
    "duration": 105,
    "start_time": "2023-09-27T13:14:05.005Z"
   },
   {
    "duration": 102,
    "start_time": "2023-09-27T13:14:05.112Z"
   },
   {
    "duration": 92,
    "start_time": "2023-09-27T13:14:05.216Z"
   },
   {
    "duration": 87,
    "start_time": "2023-09-27T13:14:05.310Z"
   },
   {
    "duration": 97,
    "start_time": "2023-09-27T13:14:05.399Z"
   },
   {
    "duration": 210,
    "start_time": "2023-09-27T13:14:05.498Z"
   },
   {
    "duration": 10,
    "start_time": "2023-09-27T13:14:05.710Z"
   },
   {
    "duration": 141,
    "start_time": "2023-09-27T13:14:05.722Z"
   },
   {
    "duration": 182,
    "start_time": "2023-09-27T13:14:05.865Z"
   },
   {
    "duration": 14,
    "start_time": "2023-09-27T13:14:06.049Z"
   },
   {
    "duration": 137,
    "start_time": "2023-09-27T13:14:06.066Z"
   },
   {
    "duration": 184,
    "start_time": "2023-09-27T13:14:06.205Z"
   },
   {
    "duration": 88,
    "start_time": "2023-09-27T13:14:06.392Z"
   },
   {
    "duration": 97,
    "start_time": "2023-09-27T13:14:06.483Z"
   },
   {
    "duration": 96,
    "start_time": "2023-09-27T13:14:06.582Z"
   },
   {
    "duration": 113,
    "start_time": "2023-09-27T13:14:06.679Z"
   },
   {
    "duration": 348,
    "start_time": "2023-09-27T13:14:06.794Z"
   },
   {
    "duration": 9,
    "start_time": "2023-09-27T13:14:07.156Z"
   },
   {
    "duration": 433,
    "start_time": "2023-09-27T13:14:07.167Z"
   },
   {
    "duration": 5,
    "start_time": "2023-09-27T13:14:07.602Z"
   },
   {
    "duration": 327,
    "start_time": "2023-09-27T13:14:07.609Z"
   },
   {
    "duration": 5,
    "start_time": "2023-09-27T13:14:07.938Z"
   },
   {
    "duration": 363,
    "start_time": "2023-09-27T13:14:07.944Z"
   },
   {
    "duration": 6,
    "start_time": "2023-09-27T13:14:08.309Z"
   },
   {
    "duration": 331,
    "start_time": "2023-09-27T13:14:08.317Z"
   },
   {
    "duration": 216,
    "start_time": "2023-09-27T13:14:08.657Z"
   },
   {
    "duration": 295,
    "start_time": "2023-09-27T13:28:56.313Z"
   },
   {
    "duration": 1329,
    "start_time": "2023-09-27T13:33:22.614Z"
   },
   {
    "duration": 61,
    "start_time": "2023-09-27T13:33:23.946Z"
   },
   {
    "duration": 24,
    "start_time": "2023-09-27T13:33:24.009Z"
   },
   {
    "duration": 41,
    "start_time": "2023-09-27T13:33:24.035Z"
   },
   {
    "duration": 40,
    "start_time": "2023-09-27T13:33:24.078Z"
   },
   {
    "duration": 46,
    "start_time": "2023-09-27T13:33:24.121Z"
   },
   {
    "duration": 32,
    "start_time": "2023-09-27T13:33:24.169Z"
   },
   {
    "duration": 38,
    "start_time": "2023-09-27T13:33:24.203Z"
   },
   {
    "duration": 27,
    "start_time": "2023-09-27T13:33:24.243Z"
   },
   {
    "duration": 24,
    "start_time": "2023-09-27T13:33:24.272Z"
   },
   {
    "duration": 398,
    "start_time": "2023-09-27T13:33:24.297Z"
   },
   {
    "duration": 10,
    "start_time": "2023-09-27T13:33:24.697Z"
   },
   {
    "duration": 342,
    "start_time": "2023-09-27T13:33:24.708Z"
   },
   {
    "duration": 10,
    "start_time": "2023-09-27T13:33:25.055Z"
   },
   {
    "duration": 338,
    "start_time": "2023-09-27T13:33:25.066Z"
   },
   {
    "duration": 9,
    "start_time": "2023-09-27T13:33:25.406Z"
   },
   {
    "duration": 389,
    "start_time": "2023-09-27T13:33:25.417Z"
   },
   {
    "duration": 9,
    "start_time": "2023-09-27T13:33:25.807Z"
   },
   {
    "duration": 483,
    "start_time": "2023-09-27T13:33:25.818Z"
   },
   {
    "duration": 9,
    "start_time": "2023-09-27T13:33:26.303Z"
   },
   {
    "duration": 132,
    "start_time": "2023-09-27T13:33:26.313Z"
   },
   {
    "duration": 379,
    "start_time": "2023-09-27T13:33:26.447Z"
   },
   {
    "duration": 137,
    "start_time": "2023-09-27T13:33:26.829Z"
   },
   {
    "duration": 113,
    "start_time": "2023-09-27T13:33:26.969Z"
   },
   {
    "duration": 116,
    "start_time": "2023-09-27T13:33:27.084Z"
   },
   {
    "duration": 105,
    "start_time": "2023-09-27T13:33:27.202Z"
   },
   {
    "duration": 92,
    "start_time": "2023-09-27T13:33:27.309Z"
   },
   {
    "duration": 146,
    "start_time": "2023-09-27T13:33:27.403Z"
   },
   {
    "duration": 197,
    "start_time": "2023-09-27T13:33:27.551Z"
   },
   {
    "duration": 9,
    "start_time": "2023-09-27T13:33:27.756Z"
   },
   {
    "duration": 140,
    "start_time": "2023-09-27T13:33:27.767Z"
   },
   {
    "duration": 204,
    "start_time": "2023-09-27T13:33:27.909Z"
   },
   {
    "duration": 9,
    "start_time": "2023-09-27T13:33:28.115Z"
   },
   {
    "duration": 116,
    "start_time": "2023-09-27T13:33:28.125Z"
   },
   {
    "duration": 177,
    "start_time": "2023-09-27T13:33:28.243Z"
   },
   {
    "duration": 93,
    "start_time": "2023-09-27T13:33:28.422Z"
   },
   {
    "duration": 95,
    "start_time": "2023-09-27T13:33:28.516Z"
   },
   {
    "duration": 87,
    "start_time": "2023-09-27T13:33:28.613Z"
   },
   {
    "duration": 119,
    "start_time": "2023-09-27T13:33:28.702Z"
   },
   {
    "duration": 391,
    "start_time": "2023-09-27T13:33:28.824Z"
   },
   {
    "duration": 9,
    "start_time": "2023-09-27T13:33:29.220Z"
   },
   {
    "duration": 447,
    "start_time": "2023-09-27T13:33:29.231Z"
   },
   {
    "duration": 5,
    "start_time": "2023-09-27T13:33:29.679Z"
   },
   {
    "duration": 325,
    "start_time": "2023-09-27T13:33:29.686Z"
   },
   {
    "duration": 6,
    "start_time": "2023-09-27T13:33:30.013Z"
   },
   {
    "duration": 396,
    "start_time": "2023-09-27T13:33:30.021Z"
   },
   {
    "duration": 5,
    "start_time": "2023-09-27T13:33:30.419Z"
   },
   {
    "duration": 510,
    "start_time": "2023-09-27T13:33:30.425Z"
   },
   {
    "duration": 324,
    "start_time": "2023-09-27T13:33:30.937Z"
   },
   {
    "duration": 448,
    "start_time": "2023-09-27T13:33:31.263Z"
   },
   {
    "duration": 191,
    "start_time": "2023-09-27T13:33:31.713Z"
   },
   {
    "duration": 240,
    "start_time": "2023-09-27T13:40:35.962Z"
   },
   {
    "duration": 1336,
    "start_time": "2023-09-27T13:41:19.388Z"
   },
   {
    "duration": 62,
    "start_time": "2023-09-27T13:41:20.726Z"
   },
   {
    "duration": 15,
    "start_time": "2023-09-27T13:41:20.789Z"
   },
   {
    "duration": 30,
    "start_time": "2023-09-27T13:41:20.806Z"
   },
   {
    "duration": 26,
    "start_time": "2023-09-27T13:41:20.839Z"
   },
   {
    "duration": 30,
    "start_time": "2023-09-27T13:41:20.867Z"
   },
   {
    "duration": 10,
    "start_time": "2023-09-27T13:41:20.900Z"
   },
   {
    "duration": 8,
    "start_time": "2023-09-27T13:41:20.912Z"
   },
   {
    "duration": 395,
    "start_time": "2023-09-27T13:41:20.982Z"
   },
   {
    "duration": 9,
    "start_time": "2023-09-27T13:41:21.379Z"
   },
   {
    "duration": 316,
    "start_time": "2023-09-27T13:41:21.389Z"
   },
   {
    "duration": 9,
    "start_time": "2023-09-27T13:41:21.708Z"
   },
   {
    "duration": 322,
    "start_time": "2023-09-27T13:41:21.718Z"
   },
   {
    "duration": 16,
    "start_time": "2023-09-27T13:41:22.041Z"
   },
   {
    "duration": 364,
    "start_time": "2023-09-27T13:41:22.060Z"
   },
   {
    "duration": 9,
    "start_time": "2023-09-27T13:41:22.426Z"
   },
   {
    "duration": 520,
    "start_time": "2023-09-27T13:41:22.437Z"
   },
   {
    "duration": 9,
    "start_time": "2023-09-27T13:41:22.960Z"
   },
   {
    "duration": 147,
    "start_time": "2023-09-27T13:41:22.971Z"
   },
   {
    "duration": 380,
    "start_time": "2023-09-27T13:41:23.120Z"
   },
   {
    "duration": 93,
    "start_time": "2023-09-27T13:41:23.501Z"
   },
   {
    "duration": 113,
    "start_time": "2023-09-27T13:41:23.596Z"
   },
   {
    "duration": 112,
    "start_time": "2023-09-27T13:41:23.712Z"
   },
   {
    "duration": 94,
    "start_time": "2023-09-27T13:41:23.826Z"
   },
   {
    "duration": 99,
    "start_time": "2023-09-27T13:41:23.922Z"
   },
   {
    "duration": 97,
    "start_time": "2023-09-27T13:41:24.022Z"
   },
   {
    "duration": 215,
    "start_time": "2023-09-27T13:41:24.121Z"
   },
   {
    "duration": 19,
    "start_time": "2023-09-27T13:41:24.338Z"
   },
   {
    "duration": 122,
    "start_time": "2023-09-27T13:41:24.359Z"
   },
   {
    "duration": 178,
    "start_time": "2023-09-27T13:41:24.482Z"
   },
   {
    "duration": 9,
    "start_time": "2023-09-27T13:41:24.662Z"
   },
   {
    "duration": 185,
    "start_time": "2023-09-27T13:41:24.673Z"
   },
   {
    "duration": 194,
    "start_time": "2023-09-27T13:41:24.860Z"
   },
   {
    "duration": 77,
    "start_time": "2023-09-27T13:41:25.056Z"
   },
   {
    "duration": 88,
    "start_time": "2023-09-27T13:41:25.135Z"
   },
   {
    "duration": 99,
    "start_time": "2023-09-27T13:41:25.225Z"
   },
   {
    "duration": 105,
    "start_time": "2023-09-27T13:41:25.326Z"
   },
   {
    "duration": 327,
    "start_time": "2023-09-27T13:41:25.432Z"
   },
   {
    "duration": 10,
    "start_time": "2023-09-27T13:41:25.763Z"
   },
   {
    "duration": 644,
    "start_time": "2023-09-27T13:41:25.775Z"
   },
   {
    "duration": 7,
    "start_time": "2023-09-27T13:41:26.421Z"
   },
   {
    "duration": 324,
    "start_time": "2023-09-27T13:41:26.429Z"
   },
   {
    "duration": 5,
    "start_time": "2023-09-27T13:41:26.756Z"
   },
   {
    "duration": 359,
    "start_time": "2023-09-27T13:41:26.763Z"
   },
   {
    "duration": 4,
    "start_time": "2023-09-27T13:41:27.124Z"
   },
   {
    "duration": 345,
    "start_time": "2023-09-27T13:41:27.129Z"
   },
   {
    "duration": 315,
    "start_time": "2023-09-27T13:41:27.476Z"
   },
   {
    "duration": 456,
    "start_time": "2023-09-27T13:41:27.793Z"
   },
   {
    "duration": 185,
    "start_time": "2023-09-27T13:41:28.256Z"
   },
   {
    "duration": 254,
    "start_time": "2023-09-27T13:41:28.443Z"
   },
   {
    "duration": 0,
    "start_time": "2023-09-27T13:41:28.699Z"
   },
   {
    "duration": 0,
    "start_time": "2023-09-27T13:42:39.960Z"
   },
   {
    "duration": 0,
    "start_time": "2023-09-27T13:42:39.961Z"
   },
   {
    "duration": 0,
    "start_time": "2023-09-27T13:42:39.962Z"
   },
   {
    "duration": 0,
    "start_time": "2023-09-27T13:42:39.964Z"
   },
   {
    "duration": 0,
    "start_time": "2023-09-27T13:42:39.966Z"
   },
   {
    "duration": 0,
    "start_time": "2023-09-27T13:42:39.967Z"
   },
   {
    "duration": 0,
    "start_time": "2023-09-27T13:42:39.969Z"
   },
   {
    "duration": 0,
    "start_time": "2023-09-27T13:42:39.970Z"
   },
   {
    "duration": 0,
    "start_time": "2023-09-27T13:42:39.972Z"
   },
   {
    "duration": 0,
    "start_time": "2023-09-27T13:42:39.973Z"
   },
   {
    "duration": 0,
    "start_time": "2023-09-27T13:42:39.975Z"
   },
   {
    "duration": 0,
    "start_time": "2023-09-27T13:42:39.977Z"
   },
   {
    "duration": 0,
    "start_time": "2023-09-27T13:42:39.978Z"
   },
   {
    "duration": 0,
    "start_time": "2023-09-27T13:42:39.980Z"
   },
   {
    "duration": 0,
    "start_time": "2023-09-27T13:42:39.981Z"
   },
   {
    "duration": 0,
    "start_time": "2023-09-27T13:42:39.983Z"
   },
   {
    "duration": 0,
    "start_time": "2023-09-27T13:42:39.984Z"
   },
   {
    "duration": 0,
    "start_time": "2023-09-27T13:42:39.986Z"
   },
   {
    "duration": 0,
    "start_time": "2023-09-27T13:42:39.987Z"
   },
   {
    "duration": 0,
    "start_time": "2023-09-27T13:42:39.989Z"
   },
   {
    "duration": 0,
    "start_time": "2023-09-27T13:42:39.991Z"
   },
   {
    "duration": 0,
    "start_time": "2023-09-27T13:42:39.992Z"
   },
   {
    "duration": 0,
    "start_time": "2023-09-27T13:42:39.993Z"
   },
   {
    "duration": 0,
    "start_time": "2023-09-27T13:42:39.994Z"
   },
   {
    "duration": 0,
    "start_time": "2023-09-27T13:42:39.995Z"
   },
   {
    "duration": 0,
    "start_time": "2023-09-27T13:42:40.057Z"
   },
   {
    "duration": 0,
    "start_time": "2023-09-27T13:42:40.058Z"
   },
   {
    "duration": 0,
    "start_time": "2023-09-27T13:42:40.060Z"
   },
   {
    "duration": 0,
    "start_time": "2023-09-27T13:42:40.061Z"
   },
   {
    "duration": 0,
    "start_time": "2023-09-27T13:42:40.062Z"
   },
   {
    "duration": 0,
    "start_time": "2023-09-27T13:42:40.063Z"
   },
   {
    "duration": 0,
    "start_time": "2023-09-27T13:42:40.064Z"
   },
   {
    "duration": 0,
    "start_time": "2023-09-27T13:42:40.065Z"
   },
   {
    "duration": 0,
    "start_time": "2023-09-27T13:42:40.067Z"
   },
   {
    "duration": 0,
    "start_time": "2023-09-27T13:42:40.068Z"
   },
   {
    "duration": 0,
    "start_time": "2023-09-27T13:42:40.069Z"
   },
   {
    "duration": 0,
    "start_time": "2023-09-27T13:42:40.070Z"
   },
   {
    "duration": 0,
    "start_time": "2023-09-27T13:42:40.071Z"
   },
   {
    "duration": 0,
    "start_time": "2023-09-27T13:42:40.072Z"
   },
   {
    "duration": 0,
    "start_time": "2023-09-27T13:42:40.074Z"
   },
   {
    "duration": 0,
    "start_time": "2023-09-27T13:42:40.075Z"
   },
   {
    "duration": 0,
    "start_time": "2023-09-27T13:42:40.076Z"
   },
   {
    "duration": 0,
    "start_time": "2023-09-27T13:42:40.078Z"
   },
   {
    "duration": 0,
    "start_time": "2023-09-27T13:42:40.079Z"
   },
   {
    "duration": 0,
    "start_time": "2023-09-27T13:42:40.080Z"
   },
   {
    "duration": 0,
    "start_time": "2023-09-27T13:42:40.081Z"
   },
   {
    "duration": 0,
    "start_time": "2023-09-27T13:42:40.082Z"
   },
   {
    "duration": 0,
    "start_time": "2023-09-27T13:42:40.083Z"
   },
   {
    "duration": 0,
    "start_time": "2023-09-27T13:42:40.084Z"
   },
   {
    "duration": 0,
    "start_time": "2023-09-27T13:42:40.084Z"
   },
   {
    "duration": 0,
    "start_time": "2023-09-27T13:42:40.085Z"
   },
   {
    "duration": 0,
    "start_time": "2023-09-27T13:42:40.086Z"
   },
   {
    "duration": 0,
    "start_time": "2023-09-27T13:42:40.087Z"
   },
   {
    "duration": 1322,
    "start_time": "2023-09-27T13:43:08.077Z"
   },
   {
    "duration": 63,
    "start_time": "2023-09-27T13:43:09.401Z"
   },
   {
    "duration": 15,
    "start_time": "2023-09-27T13:43:09.466Z"
   },
   {
    "duration": 44,
    "start_time": "2023-09-27T13:43:09.483Z"
   },
   {
    "duration": 32,
    "start_time": "2023-09-27T13:43:09.529Z"
   },
   {
    "duration": 26,
    "start_time": "2023-09-27T13:43:09.562Z"
   },
   {
    "duration": 10,
    "start_time": "2023-09-27T13:43:09.589Z"
   },
   {
    "duration": 16,
    "start_time": "2023-09-27T13:43:09.600Z"
   },
   {
    "duration": 40,
    "start_time": "2023-09-27T13:43:09.618Z"
   },
   {
    "duration": 11,
    "start_time": "2023-09-27T13:43:09.660Z"
   },
   {
    "duration": 392,
    "start_time": "2023-09-27T13:43:09.673Z"
   },
   {
    "duration": 11,
    "start_time": "2023-09-27T13:43:10.067Z"
   },
   {
    "duration": 317,
    "start_time": "2023-09-27T13:43:10.080Z"
   },
   {
    "duration": 9,
    "start_time": "2023-09-27T13:43:10.399Z"
   },
   {
    "duration": 335,
    "start_time": "2023-09-27T13:43:10.411Z"
   },
   {
    "duration": 11,
    "start_time": "2023-09-27T13:43:10.757Z"
   },
   {
    "duration": 377,
    "start_time": "2023-09-27T13:43:10.770Z"
   },
   {
    "duration": 10,
    "start_time": "2023-09-27T13:43:11.156Z"
   },
   {
    "duration": 477,
    "start_time": "2023-09-27T13:43:11.168Z"
   },
   {
    "duration": 17,
    "start_time": "2023-09-27T13:43:11.647Z"
   },
   {
    "duration": 131,
    "start_time": "2023-09-27T13:43:11.666Z"
   },
   {
    "duration": 382,
    "start_time": "2023-09-27T13:43:11.799Z"
   },
   {
    "duration": 94,
    "start_time": "2023-09-27T13:43:12.184Z"
   },
   {
    "duration": 107,
    "start_time": "2023-09-27T13:43:12.280Z"
   },
   {
    "duration": 109,
    "start_time": "2023-09-27T13:43:12.390Z"
   },
   {
    "duration": 91,
    "start_time": "2023-09-27T13:43:12.502Z"
   },
   {
    "duration": 91,
    "start_time": "2023-09-27T13:43:12.595Z"
   },
   {
    "duration": 98,
    "start_time": "2023-09-27T13:43:12.692Z"
   },
   {
    "duration": 223,
    "start_time": "2023-09-27T13:43:12.792Z"
   },
   {
    "duration": 8,
    "start_time": "2023-09-27T13:43:13.017Z"
   },
   {
    "duration": 139,
    "start_time": "2023-09-27T13:43:13.026Z"
   },
   {
    "duration": 168,
    "start_time": "2023-09-27T13:43:13.166Z"
   },
   {
    "duration": 20,
    "start_time": "2023-09-27T13:43:13.336Z"
   },
   {
    "duration": 114,
    "start_time": "2023-09-27T13:43:13.358Z"
   },
   {
    "duration": 184,
    "start_time": "2023-09-27T13:43:13.474Z"
   },
   {
    "duration": 75,
    "start_time": "2023-09-27T13:43:13.661Z"
   },
   {
    "duration": 86,
    "start_time": "2023-09-27T13:43:13.739Z"
   },
   {
    "duration": 99,
    "start_time": "2023-09-27T13:43:13.827Z"
   },
   {
    "duration": 109,
    "start_time": "2023-09-27T13:43:13.929Z"
   },
   {
    "duration": 325,
    "start_time": "2023-09-27T13:43:14.040Z"
   },
   {
    "duration": 9,
    "start_time": "2023-09-27T13:43:14.367Z"
   },
   {
    "duration": 631,
    "start_time": "2023-09-27T13:43:14.379Z"
   },
   {
    "duration": 6,
    "start_time": "2023-09-27T13:43:15.012Z"
   },
   {
    "duration": 410,
    "start_time": "2023-09-27T13:43:15.020Z"
   },
   {
    "duration": 5,
    "start_time": "2023-09-27T13:43:15.433Z"
   },
   {
    "duration": 331,
    "start_time": "2023-09-27T13:43:15.440Z"
   },
   {
    "duration": 6,
    "start_time": "2023-09-27T13:43:15.773Z"
   },
   {
    "duration": 322,
    "start_time": "2023-09-27T13:43:15.781Z"
   },
   {
    "duration": 303,
    "start_time": "2023-09-27T13:43:16.105Z"
   },
   {
    "duration": 435,
    "start_time": "2023-09-27T13:43:16.409Z"
   },
   {
    "duration": 206,
    "start_time": "2023-09-27T13:43:16.845Z"
   },
   {
    "duration": 242,
    "start_time": "2023-09-27T13:43:17.057Z"
   },
   {
    "duration": 0,
    "start_time": "2023-09-27T13:43:17.301Z"
   },
   {
    "duration": 184,
    "start_time": "2023-09-27T13:48:06.153Z"
   },
   {
    "duration": 1368,
    "start_time": "2023-09-27T14:04:06.974Z"
   },
   {
    "duration": 62,
    "start_time": "2023-09-27T14:04:08.345Z"
   },
   {
    "duration": 15,
    "start_time": "2023-09-27T14:04:08.408Z"
   },
   {
    "duration": 71,
    "start_time": "2023-09-27T14:04:08.425Z"
   },
   {
    "duration": 123,
    "start_time": "2023-09-27T14:04:08.512Z"
   },
   {
    "duration": 108,
    "start_time": "2023-09-27T14:04:08.637Z"
   },
   {
    "duration": 44,
    "start_time": "2023-09-27T14:04:08.747Z"
   },
   {
    "duration": 34,
    "start_time": "2023-09-27T14:04:08.794Z"
   },
   {
    "duration": 45,
    "start_time": "2023-09-27T14:04:08.830Z"
   },
   {
    "duration": 63,
    "start_time": "2023-09-27T14:04:08.879Z"
   },
   {
    "duration": 504,
    "start_time": "2023-09-27T14:04:08.945Z"
   },
   {
    "duration": 20,
    "start_time": "2023-09-27T14:04:09.459Z"
   },
   {
    "duration": 363,
    "start_time": "2023-09-27T14:04:09.482Z"
   },
   {
    "duration": 18,
    "start_time": "2023-09-27T14:04:09.849Z"
   },
   {
    "duration": 359,
    "start_time": "2023-09-27T14:04:09.870Z"
   },
   {
    "duration": 10,
    "start_time": "2023-09-27T14:04:10.231Z"
   },
   {
    "duration": 392,
    "start_time": "2023-09-27T14:04:10.243Z"
   },
   {
    "duration": 23,
    "start_time": "2023-09-27T14:04:10.637Z"
   },
   {
    "duration": 479,
    "start_time": "2023-09-27T14:04:10.662Z"
   },
   {
    "duration": 21,
    "start_time": "2023-09-27T14:04:11.144Z"
   },
   {
    "duration": 152,
    "start_time": "2023-09-27T14:04:11.168Z"
   },
   {
    "duration": 421,
    "start_time": "2023-09-27T14:04:11.322Z"
   },
   {
    "duration": 90,
    "start_time": "2023-09-27T14:04:11.756Z"
   },
   {
    "duration": 126,
    "start_time": "2023-09-27T14:04:11.857Z"
   },
   {
    "duration": 111,
    "start_time": "2023-09-27T14:04:11.985Z"
   },
   {
    "duration": 107,
    "start_time": "2023-09-27T14:04:12.098Z"
   },
   {
    "duration": 105,
    "start_time": "2023-09-27T14:04:12.208Z"
   },
   {
    "duration": 108,
    "start_time": "2023-09-27T14:04:12.315Z"
   },
   {
    "duration": 213,
    "start_time": "2023-09-27T14:04:12.425Z"
   },
   {
    "duration": 29,
    "start_time": "2023-09-27T14:04:12.640Z"
   },
   {
    "duration": 143,
    "start_time": "2023-09-27T14:04:12.672Z"
   },
   {
    "duration": 202,
    "start_time": "2023-09-27T14:04:12.817Z"
   },
   {
    "duration": 8,
    "start_time": "2023-09-27T14:04:13.020Z"
   },
   {
    "duration": 124,
    "start_time": "2023-09-27T14:04:13.030Z"
   },
   {
    "duration": 188,
    "start_time": "2023-09-27T14:04:13.155Z"
   },
   {
    "duration": 90,
    "start_time": "2023-09-27T14:04:13.345Z"
   },
   {
    "duration": 94,
    "start_time": "2023-09-27T14:04:13.438Z"
   },
   {
    "duration": 102,
    "start_time": "2023-09-27T14:04:13.535Z"
   },
   {
    "duration": 146,
    "start_time": "2023-09-27T14:04:13.639Z"
   },
   {
    "duration": 352,
    "start_time": "2023-09-27T14:04:13.787Z"
   },
   {
    "duration": 17,
    "start_time": "2023-09-27T14:04:14.143Z"
   },
   {
    "duration": 462,
    "start_time": "2023-09-27T14:04:14.161Z"
   },
   {
    "duration": 5,
    "start_time": "2023-09-27T14:04:14.625Z"
   },
   {
    "duration": 332,
    "start_time": "2023-09-27T14:04:14.631Z"
   },
   {
    "duration": 5,
    "start_time": "2023-09-27T14:04:14.966Z"
   },
   {
    "duration": 88,
    "start_time": "2023-09-27T14:04:14.974Z"
   },
   {
    "duration": 0,
    "start_time": "2023-09-27T14:04:15.065Z"
   },
   {
    "duration": 0,
    "start_time": "2023-09-27T14:04:15.067Z"
   },
   {
    "duration": 0,
    "start_time": "2023-09-27T14:04:15.068Z"
   },
   {
    "duration": 0,
    "start_time": "2023-09-27T14:04:15.070Z"
   },
   {
    "duration": 0,
    "start_time": "2023-09-27T14:04:15.071Z"
   },
   {
    "duration": 0,
    "start_time": "2023-09-27T14:04:15.073Z"
   },
   {
    "duration": 0,
    "start_time": "2023-09-27T14:04:15.074Z"
   },
   {
    "duration": 0,
    "start_time": "2023-09-27T14:04:15.076Z"
   },
   {
    "duration": 1445,
    "start_time": "2023-09-27T14:05:47.549Z"
   },
   {
    "duration": 83,
    "start_time": "2023-09-27T14:05:48.997Z"
   },
   {
    "duration": 18,
    "start_time": "2023-09-27T14:05:49.083Z"
   },
   {
    "duration": 37,
    "start_time": "2023-09-27T14:05:49.104Z"
   },
   {
    "duration": 36,
    "start_time": "2023-09-27T14:05:49.144Z"
   },
   {
    "duration": 37,
    "start_time": "2023-09-27T14:05:49.182Z"
   },
   {
    "duration": 43,
    "start_time": "2023-09-27T14:05:49.222Z"
   },
   {
    "duration": 36,
    "start_time": "2023-09-27T14:05:49.268Z"
   },
   {
    "duration": 16,
    "start_time": "2023-09-27T14:05:49.306Z"
   },
   {
    "duration": 11,
    "start_time": "2023-09-27T14:05:49.324Z"
   },
   {
    "duration": 446,
    "start_time": "2023-09-27T14:05:49.337Z"
   },
   {
    "duration": 9,
    "start_time": "2023-09-27T14:05:49.785Z"
   },
   {
    "duration": 330,
    "start_time": "2023-09-27T14:05:49.796Z"
   },
   {
    "duration": 9,
    "start_time": "2023-09-27T14:05:50.127Z"
   },
   {
    "duration": 335,
    "start_time": "2023-09-27T14:05:50.137Z"
   },
   {
    "duration": 9,
    "start_time": "2023-09-27T14:05:50.474Z"
   },
   {
    "duration": 427,
    "start_time": "2023-09-27T14:05:50.485Z"
   },
   {
    "duration": 9,
    "start_time": "2023-09-27T14:05:50.914Z"
   },
   {
    "duration": 562,
    "start_time": "2023-09-27T14:05:50.925Z"
   },
   {
    "duration": 10,
    "start_time": "2023-09-27T14:05:51.490Z"
   },
   {
    "duration": 144,
    "start_time": "2023-09-27T14:05:51.502Z"
   },
   {
    "duration": 402,
    "start_time": "2023-09-27T14:05:51.648Z"
   },
   {
    "duration": 83,
    "start_time": "2023-09-27T14:05:52.057Z"
   },
   {
    "duration": 102,
    "start_time": "2023-09-27T14:05:52.158Z"
   },
   {
    "duration": 113,
    "start_time": "2023-09-27T14:05:52.261Z"
   },
   {
    "duration": 106,
    "start_time": "2023-09-27T14:05:52.376Z"
   },
   {
    "duration": 91,
    "start_time": "2023-09-27T14:05:52.485Z"
   },
   {
    "duration": 96,
    "start_time": "2023-09-27T14:05:52.581Z"
   },
   {
    "duration": 210,
    "start_time": "2023-09-27T14:05:52.679Z"
   },
   {
    "duration": 8,
    "start_time": "2023-09-27T14:05:52.891Z"
   },
   {
    "duration": 134,
    "start_time": "2023-09-27T14:05:52.900Z"
   },
   {
    "duration": 192,
    "start_time": "2023-09-27T14:05:53.037Z"
   },
   {
    "duration": 9,
    "start_time": "2023-09-27T14:05:53.231Z"
   },
   {
    "duration": 141,
    "start_time": "2023-09-27T14:05:53.242Z"
   },
   {
    "duration": 199,
    "start_time": "2023-09-27T14:05:53.385Z"
   },
   {
    "duration": 100,
    "start_time": "2023-09-27T14:05:53.586Z"
   },
   {
    "duration": 86,
    "start_time": "2023-09-27T14:05:53.688Z"
   },
   {
    "duration": 91,
    "start_time": "2023-09-27T14:05:53.776Z"
   },
   {
    "duration": 120,
    "start_time": "2023-09-27T14:05:53.870Z"
   },
   {
    "duration": 365,
    "start_time": "2023-09-27T14:05:53.992Z"
   },
   {
    "duration": 14,
    "start_time": "2023-09-27T14:05:54.360Z"
   },
   {
    "duration": 467,
    "start_time": "2023-09-27T14:05:54.378Z"
   },
   {
    "duration": 17,
    "start_time": "2023-09-27T14:05:54.847Z"
   },
   {
    "duration": 334,
    "start_time": "2023-09-27T14:05:54.867Z"
   },
   {
    "duration": 6,
    "start_time": "2023-09-27T14:05:55.203Z"
   },
   {
    "duration": 388,
    "start_time": "2023-09-27T14:05:55.211Z"
   },
   {
    "duration": 334,
    "start_time": "2023-09-27T14:05:55.601Z"
   },
   {
    "duration": 5,
    "start_time": "2023-09-27T14:05:55.937Z"
   },
   {
    "duration": 373,
    "start_time": "2023-09-27T14:05:55.959Z"
   },
   {
    "duration": 473,
    "start_time": "2023-09-27T14:05:56.334Z"
   },
   {
    "duration": 365,
    "start_time": "2023-09-27T14:05:56.809Z"
   },
   {
    "duration": 213,
    "start_time": "2023-09-27T14:05:57.176Z"
   },
   {
    "duration": 220,
    "start_time": "2023-09-27T14:05:57.391Z"
   },
   {
    "duration": 211,
    "start_time": "2023-09-27T14:05:57.613Z"
   },
   {
    "duration": 1430,
    "start_time": "2023-09-27T14:10:48.049Z"
   },
   {
    "duration": 63,
    "start_time": "2023-09-27T14:10:49.481Z"
   },
   {
    "duration": 17,
    "start_time": "2023-09-27T14:10:49.546Z"
   },
   {
    "duration": 41,
    "start_time": "2023-09-27T14:10:49.566Z"
   },
   {
    "duration": 32,
    "start_time": "2023-09-27T14:10:49.609Z"
   },
   {
    "duration": 51,
    "start_time": "2023-09-27T14:10:49.642Z"
   },
   {
    "duration": 57,
    "start_time": "2023-09-27T14:10:49.694Z"
   },
   {
    "duration": 20,
    "start_time": "2023-09-27T14:10:49.753Z"
   },
   {
    "duration": 34,
    "start_time": "2023-09-27T14:10:49.776Z"
   },
   {
    "duration": 11,
    "start_time": "2023-09-27T14:10:49.812Z"
   },
   {
    "duration": 408,
    "start_time": "2023-09-27T14:10:49.825Z"
   },
   {
    "duration": 8,
    "start_time": "2023-09-27T14:10:50.235Z"
   },
   {
    "duration": 338,
    "start_time": "2023-09-27T14:10:50.257Z"
   },
   {
    "duration": 10,
    "start_time": "2023-09-27T14:10:50.600Z"
   },
   {
    "duration": 389,
    "start_time": "2023-09-27T14:10:50.611Z"
   },
   {
    "duration": 10,
    "start_time": "2023-09-27T14:10:51.002Z"
   },
   {
    "duration": 406,
    "start_time": "2023-09-27T14:10:51.014Z"
   },
   {
    "duration": 10,
    "start_time": "2023-09-27T14:10:51.421Z"
   },
   {
    "duration": 595,
    "start_time": "2023-09-27T14:10:51.433Z"
   },
   {
    "duration": 9,
    "start_time": "2023-09-27T14:10:52.030Z"
   },
   {
    "duration": 144,
    "start_time": "2023-09-27T14:10:52.057Z"
   },
   {
    "duration": 427,
    "start_time": "2023-09-27T14:10:52.202Z"
   },
   {
    "duration": 114,
    "start_time": "2023-09-27T14:10:52.632Z"
   },
   {
    "duration": 134,
    "start_time": "2023-09-27T14:10:52.747Z"
   },
   {
    "duration": 105,
    "start_time": "2023-09-27T14:10:52.886Z"
   },
   {
    "duration": 105,
    "start_time": "2023-09-27T14:10:52.993Z"
   },
   {
    "duration": 103,
    "start_time": "2023-09-27T14:10:53.100Z"
   },
   {
    "duration": 98,
    "start_time": "2023-09-27T14:10:53.205Z"
   },
   {
    "duration": 234,
    "start_time": "2023-09-27T14:10:53.305Z"
   },
   {
    "duration": 26,
    "start_time": "2023-09-27T14:10:53.541Z"
   },
   {
    "duration": 146,
    "start_time": "2023-09-27T14:10:53.571Z"
   },
   {
    "duration": 205,
    "start_time": "2023-09-27T14:10:53.718Z"
   },
   {
    "duration": 9,
    "start_time": "2023-09-27T14:10:53.925Z"
   },
   {
    "duration": 135,
    "start_time": "2023-09-27T14:10:53.936Z"
   },
   {
    "duration": 208,
    "start_time": "2023-09-27T14:10:54.073Z"
   },
   {
    "duration": 97,
    "start_time": "2023-09-27T14:10:54.283Z"
   },
   {
    "duration": 92,
    "start_time": "2023-09-27T14:10:54.382Z"
   },
   {
    "duration": 107,
    "start_time": "2023-09-27T14:10:54.477Z"
   },
   {
    "duration": 121,
    "start_time": "2023-09-27T14:10:54.586Z"
   },
   {
    "duration": 358,
    "start_time": "2023-09-27T14:10:54.709Z"
   },
   {
    "duration": 14,
    "start_time": "2023-09-27T14:10:55.075Z"
   },
   {
    "duration": 452,
    "start_time": "2023-09-27T14:10:55.091Z"
   },
   {
    "duration": 15,
    "start_time": "2023-09-27T14:10:55.545Z"
   },
   {
    "duration": 339,
    "start_time": "2023-09-27T14:10:55.562Z"
   },
   {
    "duration": 5,
    "start_time": "2023-09-27T14:10:55.903Z"
   },
   {
    "duration": 340,
    "start_time": "2023-09-27T14:10:55.910Z"
   },
   {
    "duration": 374,
    "start_time": "2023-09-27T14:10:56.258Z"
   },
   {
    "duration": 5,
    "start_time": "2023-09-27T14:10:56.634Z"
   },
   {
    "duration": 385,
    "start_time": "2023-09-27T14:10:56.641Z"
   },
   {
    "duration": 430,
    "start_time": "2023-09-27T14:10:57.028Z"
   },
   {
    "duration": 348,
    "start_time": "2023-09-27T14:10:57.460Z"
   },
   {
    "duration": 198,
    "start_time": "2023-09-27T14:10:57.809Z"
   },
   {
    "duration": 232,
    "start_time": "2023-09-27T14:10:58.008Z"
   },
   {
    "duration": 88,
    "start_time": "2023-09-27T14:10:58.242Z"
   },
   {
    "duration": 90,
    "start_time": "2023-09-27T14:11:42.801Z"
   },
   {
    "duration": 228,
    "start_time": "2023-09-27T14:13:23.761Z"
   },
   {
    "duration": 665,
    "start_time": "2023-09-27T14:22:24.497Z"
   },
   {
    "duration": 189,
    "start_time": "2023-09-27T14:22:56.763Z"
   },
   {
    "duration": 210,
    "start_time": "2023-09-27T14:26:37.713Z"
   },
   {
    "duration": 154,
    "start_time": "2023-09-27T14:28:26.496Z"
   },
   {
    "duration": 419,
    "start_time": "2023-09-27T14:31:47.437Z"
   },
   {
    "duration": 119,
    "start_time": "2023-09-27T14:32:28.465Z"
   },
   {
    "duration": 43,
    "start_time": "2023-09-27T14:35:25.889Z"
   },
   {
    "duration": 1359,
    "start_time": "2023-09-27T14:38:28.090Z"
   },
   {
    "duration": 61,
    "start_time": "2023-09-27T14:38:29.451Z"
   },
   {
    "duration": 22,
    "start_time": "2023-09-27T14:38:29.513Z"
   },
   {
    "duration": 41,
    "start_time": "2023-09-27T14:38:29.537Z"
   },
   {
    "duration": 29,
    "start_time": "2023-09-27T14:38:29.580Z"
   },
   {
    "duration": 49,
    "start_time": "2023-09-27T14:38:29.610Z"
   },
   {
    "duration": 12,
    "start_time": "2023-09-27T14:38:29.664Z"
   },
   {
    "duration": 10,
    "start_time": "2023-09-27T14:38:29.678Z"
   },
   {
    "duration": 15,
    "start_time": "2023-09-27T14:38:29.691Z"
   },
   {
    "duration": 10,
    "start_time": "2023-09-27T14:38:29.709Z"
   },
   {
    "duration": 427,
    "start_time": "2023-09-27T14:38:29.721Z"
   },
   {
    "duration": 10,
    "start_time": "2023-09-27T14:38:30.157Z"
   },
   {
    "duration": 419,
    "start_time": "2023-09-27T14:38:30.169Z"
   },
   {
    "duration": 12,
    "start_time": "2023-09-27T14:38:30.592Z"
   },
   {
    "duration": 399,
    "start_time": "2023-09-27T14:38:30.606Z"
   },
   {
    "duration": 9,
    "start_time": "2023-09-27T14:38:31.008Z"
   },
   {
    "duration": 417,
    "start_time": "2023-09-27T14:38:31.018Z"
   },
   {
    "duration": 20,
    "start_time": "2023-09-27T14:38:31.437Z"
   },
   {
    "duration": 475,
    "start_time": "2023-09-27T14:38:31.459Z"
   },
   {
    "duration": 9,
    "start_time": "2023-09-27T14:38:31.936Z"
   },
   {
    "duration": 133,
    "start_time": "2023-09-27T14:38:31.957Z"
   },
   {
    "duration": 398,
    "start_time": "2023-09-27T14:38:32.092Z"
   },
   {
    "duration": 97,
    "start_time": "2023-09-27T14:38:32.492Z"
   },
   {
    "duration": 108,
    "start_time": "2023-09-27T14:38:32.591Z"
   },
   {
    "duration": 101,
    "start_time": "2023-09-27T14:38:32.701Z"
   },
   {
    "duration": 110,
    "start_time": "2023-09-27T14:38:32.805Z"
   },
   {
    "duration": 98,
    "start_time": "2023-09-27T14:38:32.918Z"
   },
   {
    "duration": 105,
    "start_time": "2023-09-27T14:38:33.018Z"
   },
   {
    "duration": 220,
    "start_time": "2023-09-27T14:38:33.126Z"
   },
   {
    "duration": 14,
    "start_time": "2023-09-27T14:38:33.348Z"
   },
   {
    "duration": 136,
    "start_time": "2023-09-27T14:38:33.363Z"
   },
   {
    "duration": 168,
    "start_time": "2023-09-27T14:38:33.501Z"
   },
   {
    "duration": 10,
    "start_time": "2023-09-27T14:38:33.672Z"
   },
   {
    "duration": 148,
    "start_time": "2023-09-27T14:38:33.684Z"
   },
   {
    "duration": 187,
    "start_time": "2023-09-27T14:38:33.834Z"
   },
   {
    "duration": 130,
    "start_time": "2023-09-27T14:38:34.023Z"
   },
   {
    "duration": 73,
    "start_time": "2023-09-27T14:38:34.156Z"
   },
   {
    "duration": 92,
    "start_time": "2023-09-27T14:38:34.231Z"
   },
   {
    "duration": 112,
    "start_time": "2023-09-27T14:38:34.325Z"
   },
   {
    "duration": 324,
    "start_time": "2023-09-27T14:38:34.439Z"
   },
   {
    "duration": 9,
    "start_time": "2023-09-27T14:38:34.768Z"
   },
   {
    "duration": 433,
    "start_time": "2023-09-27T14:38:34.779Z"
   },
   {
    "duration": 6,
    "start_time": "2023-09-27T14:38:35.214Z"
   },
   {
    "duration": 325,
    "start_time": "2023-09-27T14:38:35.222Z"
   },
   {
    "duration": 10,
    "start_time": "2023-09-27T14:38:35.549Z"
   },
   {
    "duration": 332,
    "start_time": "2023-09-27T14:38:35.561Z"
   },
   {
    "duration": 335,
    "start_time": "2023-09-27T14:38:35.895Z"
   },
   {
    "duration": 4,
    "start_time": "2023-09-27T14:38:36.232Z"
   },
   {
    "duration": 353,
    "start_time": "2023-09-27T14:38:36.238Z"
   },
   {
    "duration": 468,
    "start_time": "2023-09-27T14:38:36.593Z"
   },
   {
    "duration": 314,
    "start_time": "2023-09-27T14:38:37.063Z"
   },
   {
    "duration": 134,
    "start_time": "2023-09-27T14:38:37.379Z"
   },
   {
    "duration": 0,
    "start_time": "2023-09-27T14:38:37.515Z"
   },
   {
    "duration": 0,
    "start_time": "2023-09-27T14:38:37.517Z"
   },
   {
    "duration": 0,
    "start_time": "2023-09-27T14:38:37.518Z"
   },
   {
    "duration": 33,
    "start_time": "2023-09-27T14:44:11.142Z"
   },
   {
    "duration": 15,
    "start_time": "2023-09-27T14:48:06.387Z"
   },
   {
    "duration": 44,
    "start_time": "2023-09-27T14:49:51.418Z"
   },
   {
    "duration": 33,
    "start_time": "2023-09-27T14:50:48.269Z"
   },
   {
    "duration": 13,
    "start_time": "2023-09-27T14:51:16.548Z"
   },
   {
    "duration": 92,
    "start_time": "2023-09-27T14:51:33.431Z"
   },
   {
    "duration": 32,
    "start_time": "2023-09-27T14:52:20.990Z"
   },
   {
    "duration": 21,
    "start_time": "2023-09-27T14:59:48.404Z"
   },
   {
    "duration": 10,
    "start_time": "2023-09-27T15:00:06.476Z"
   },
   {
    "duration": 331,
    "start_time": "2023-09-27T15:01:51.478Z"
   },
   {
    "duration": 7,
    "start_time": "2023-09-27T15:02:17.419Z"
   },
   {
    "duration": 192,
    "start_time": "2023-09-27T15:04:40.588Z"
   },
   {
    "duration": 1396,
    "start_time": "2023-09-27T15:05:25.430Z"
   },
   {
    "duration": 61,
    "start_time": "2023-09-27T15:05:26.829Z"
   },
   {
    "duration": 14,
    "start_time": "2023-09-27T15:05:26.892Z"
   },
   {
    "duration": 37,
    "start_time": "2023-09-27T15:05:26.909Z"
   },
   {
    "duration": 43,
    "start_time": "2023-09-27T15:05:26.949Z"
   },
   {
    "duration": 39,
    "start_time": "2023-09-27T15:05:26.995Z"
   },
   {
    "duration": 30,
    "start_time": "2023-09-27T15:05:27.036Z"
   },
   {
    "duration": 9,
    "start_time": "2023-09-27T15:05:27.067Z"
   },
   {
    "duration": 14,
    "start_time": "2023-09-27T15:05:27.078Z"
   },
   {
    "duration": 11,
    "start_time": "2023-09-27T15:05:27.093Z"
   },
   {
    "duration": 433,
    "start_time": "2023-09-27T15:05:27.106Z"
   },
   {
    "duration": 25,
    "start_time": "2023-09-27T15:05:27.541Z"
   },
   {
    "duration": 16,
    "start_time": "2023-09-27T15:05:27.568Z"
   },
   {
    "duration": 10,
    "start_time": "2023-09-27T15:05:27.588Z"
   },
   {
    "duration": 346,
    "start_time": "2023-09-27T15:05:27.599Z"
   },
   {
    "duration": 15,
    "start_time": "2023-09-27T15:05:27.947Z"
   },
   {
    "duration": 348,
    "start_time": "2023-09-27T15:05:27.964Z"
   },
   {
    "duration": 10,
    "start_time": "2023-09-27T15:05:28.314Z"
   },
   {
    "duration": 382,
    "start_time": "2023-09-27T15:05:28.326Z"
   },
   {
    "duration": 9,
    "start_time": "2023-09-27T15:05:28.710Z"
   },
   {
    "duration": 604,
    "start_time": "2023-09-27T15:05:28.721Z"
   },
   {
    "duration": 11,
    "start_time": "2023-09-27T15:05:29.327Z"
   },
   {
    "duration": 134,
    "start_time": "2023-09-27T15:05:29.340Z"
   },
   {
    "duration": 380,
    "start_time": "2023-09-27T15:05:29.476Z"
   },
   {
    "duration": 84,
    "start_time": "2023-09-27T15:05:29.858Z"
   },
   {
    "duration": 100,
    "start_time": "2023-09-27T15:05:29.943Z"
   },
   {
    "duration": 94,
    "start_time": "2023-09-27T15:05:30.045Z"
   },
   {
    "duration": 98,
    "start_time": "2023-09-27T15:05:30.158Z"
   },
   {
    "duration": 83,
    "start_time": "2023-09-27T15:05:30.259Z"
   },
   {
    "duration": 109,
    "start_time": "2023-09-27T15:05:30.357Z"
   },
   {
    "duration": 216,
    "start_time": "2023-09-27T15:05:30.469Z"
   },
   {
    "duration": 10,
    "start_time": "2023-09-27T15:05:30.688Z"
   },
   {
    "duration": 153,
    "start_time": "2023-09-27T15:05:30.700Z"
   },
   {
    "duration": 186,
    "start_time": "2023-09-27T15:05:30.855Z"
   },
   {
    "duration": 54,
    "start_time": "2023-09-27T15:05:31.043Z"
   },
   {
    "duration": 209,
    "start_time": "2023-09-27T15:05:31.100Z"
   },
   {
    "duration": 184,
    "start_time": "2023-09-27T15:05:31.311Z"
   },
   {
    "duration": 88,
    "start_time": "2023-09-27T15:05:31.498Z"
   },
   {
    "duration": 92,
    "start_time": "2023-09-27T15:05:31.588Z"
   },
   {
    "duration": 97,
    "start_time": "2023-09-27T15:05:31.682Z"
   },
   {
    "duration": 116,
    "start_time": "2023-09-27T15:05:31.784Z"
   },
   {
    "duration": 341,
    "start_time": "2023-09-27T15:05:31.901Z"
   },
   {
    "duration": 15,
    "start_time": "2023-09-27T15:05:32.244Z"
   },
   {
    "duration": 449,
    "start_time": "2023-09-27T15:05:32.261Z"
   },
   {
    "duration": 5,
    "start_time": "2023-09-27T15:05:32.712Z"
   },
   {
    "duration": 344,
    "start_time": "2023-09-27T15:05:32.719Z"
   },
   {
    "duration": 5,
    "start_time": "2023-09-27T15:05:33.066Z"
   },
   {
    "duration": 348,
    "start_time": "2023-09-27T15:05:33.073Z"
   },
   {
    "duration": 341,
    "start_time": "2023-09-27T15:05:33.423Z"
   },
   {
    "duration": 5,
    "start_time": "2023-09-27T15:05:33.766Z"
   },
   {
    "duration": 339,
    "start_time": "2023-09-27T15:05:33.774Z"
   },
   {
    "duration": 430,
    "start_time": "2023-09-27T15:05:34.116Z"
   },
   {
    "duration": 334,
    "start_time": "2023-09-27T15:05:34.556Z"
   },
   {
    "duration": 219,
    "start_time": "2023-09-27T15:05:34.892Z"
   },
   {
    "duration": 205,
    "start_time": "2023-09-27T15:05:35.113Z"
   },
   {
    "duration": 202,
    "start_time": "2023-09-27T15:05:35.320Z"
   },
   {
    "duration": 176,
    "start_time": "2023-09-27T15:05:35.524Z"
   },
   {
    "duration": 172,
    "start_time": "2023-09-27T15:07:46.292Z"
   },
   {
    "duration": 1421,
    "start_time": "2023-09-27T15:38:19.022Z"
   },
   {
    "duration": 67,
    "start_time": "2023-09-27T15:38:20.446Z"
   },
   {
    "duration": 14,
    "start_time": "2023-09-27T15:38:20.515Z"
   },
   {
    "duration": 74,
    "start_time": "2023-09-27T15:38:20.531Z"
   },
   {
    "duration": 42,
    "start_time": "2023-09-27T15:38:20.607Z"
   },
   {
    "duration": 38,
    "start_time": "2023-09-27T15:38:20.652Z"
   },
   {
    "duration": 12,
    "start_time": "2023-09-27T15:38:20.692Z"
   },
   {
    "duration": 39,
    "start_time": "2023-09-27T15:38:20.706Z"
   },
   {
    "duration": 37,
    "start_time": "2023-09-27T15:38:20.747Z"
   },
   {
    "duration": 12,
    "start_time": "2023-09-27T15:38:20.786Z"
   },
   {
    "duration": 478,
    "start_time": "2023-09-27T15:38:20.800Z"
   },
   {
    "duration": 22,
    "start_time": "2023-09-27T15:38:21.281Z"
   },
   {
    "duration": 9,
    "start_time": "2023-09-27T15:38:21.305Z"
   },
   {
    "duration": 20,
    "start_time": "2023-09-27T15:38:21.318Z"
   },
   {
    "duration": 370,
    "start_time": "2023-09-27T15:38:21.359Z"
   },
   {
    "duration": 8,
    "start_time": "2023-09-27T15:38:21.731Z"
   },
   {
    "duration": 372,
    "start_time": "2023-09-27T15:38:21.741Z"
   },
   {
    "duration": 8,
    "start_time": "2023-09-27T15:38:22.115Z"
   },
   {
    "duration": 414,
    "start_time": "2023-09-27T15:38:22.125Z"
   },
   {
    "duration": 22,
    "start_time": "2023-09-27T15:38:22.541Z"
   },
   {
    "duration": 496,
    "start_time": "2023-09-27T15:38:22.566Z"
   },
   {
    "duration": 14,
    "start_time": "2023-09-27T15:38:23.064Z"
   },
   {
    "duration": 143,
    "start_time": "2023-09-27T15:38:23.080Z"
   },
   {
    "duration": 397,
    "start_time": "2023-09-27T15:38:23.225Z"
   },
   {
    "duration": 96,
    "start_time": "2023-09-27T15:38:23.624Z"
   },
   {
    "duration": 111,
    "start_time": "2023-09-27T15:38:23.722Z"
   },
   {
    "duration": 106,
    "start_time": "2023-09-27T15:38:23.835Z"
   },
   {
    "duration": 103,
    "start_time": "2023-09-27T15:38:23.943Z"
   },
   {
    "duration": 106,
    "start_time": "2023-09-27T15:38:24.055Z"
   },
   {
    "duration": 99,
    "start_time": "2023-09-27T15:38:24.164Z"
   },
   {
    "duration": 225,
    "start_time": "2023-09-27T15:38:24.265Z"
   },
   {
    "duration": 8,
    "start_time": "2023-09-27T15:38:24.492Z"
   },
   {
    "duration": 135,
    "start_time": "2023-09-27T15:38:24.502Z"
   },
   {
    "duration": 197,
    "start_time": "2023-09-27T15:38:24.639Z"
   },
   {
    "duration": 20,
    "start_time": "2023-09-27T15:38:24.838Z"
   },
   {
    "duration": 132,
    "start_time": "2023-09-27T15:38:24.861Z"
   },
   {
    "duration": 194,
    "start_time": "2023-09-27T15:38:24.995Z"
   },
   {
    "duration": 92,
    "start_time": "2023-09-27T15:38:25.191Z"
   },
   {
    "duration": 102,
    "start_time": "2023-09-27T15:38:25.286Z"
   },
   {
    "duration": 92,
    "start_time": "2023-09-27T15:38:25.390Z"
   },
   {
    "duration": 124,
    "start_time": "2023-09-27T15:38:25.489Z"
   },
   {
    "duration": 346,
    "start_time": "2023-09-27T15:38:25.615Z"
   },
   {
    "duration": 6,
    "start_time": "2023-09-27T15:38:25.965Z"
   },
   {
    "duration": 450,
    "start_time": "2023-09-27T15:38:25.974Z"
   },
   {
    "duration": 5,
    "start_time": "2023-09-27T15:38:26.426Z"
   },
   {
    "duration": 347,
    "start_time": "2023-09-27T15:38:26.432Z"
   },
   {
    "duration": 5,
    "start_time": "2023-09-27T15:38:26.783Z"
   },
   {
    "duration": 354,
    "start_time": "2023-09-27T15:38:26.790Z"
   },
   {
    "duration": 357,
    "start_time": "2023-09-27T15:38:27.146Z"
   },
   {
    "duration": 5,
    "start_time": "2023-09-27T15:38:27.505Z"
   },
   {
    "duration": 382,
    "start_time": "2023-09-27T15:38:27.511Z"
   },
   {
    "duration": 493,
    "start_time": "2023-09-27T15:38:27.895Z"
   },
   {
    "duration": 383,
    "start_time": "2023-09-27T15:38:28.390Z"
   },
   {
    "duration": 257,
    "start_time": "2023-09-27T15:38:28.775Z"
   },
   {
    "duration": 263,
    "start_time": "2023-09-27T15:38:29.034Z"
   },
   {
    "duration": 208,
    "start_time": "2023-09-27T15:38:29.298Z"
   },
   {
    "duration": 171,
    "start_time": "2023-09-27T15:38:29.507Z"
   },
   {
    "duration": 197,
    "start_time": "2023-09-27T15:38:29.681Z"
   },
   {
    "duration": 177,
    "start_time": "2023-09-27T15:38:29.880Z"
   },
   {
    "duration": 234,
    "start_time": "2023-09-27T15:41:19.023Z"
   },
   {
    "duration": 196,
    "start_time": "2023-09-27T15:41:40.249Z"
   },
   {
    "duration": 307,
    "start_time": "2023-09-27T15:45:07.286Z"
   },
   {
    "duration": 179,
    "start_time": "2023-09-27T15:46:55.620Z"
   },
   {
    "duration": 259,
    "start_time": "2023-09-27T15:48:19.005Z"
   },
   {
    "duration": 192,
    "start_time": "2023-09-27T15:52:10.493Z"
   },
   {
    "duration": 81,
    "start_time": "2023-09-27T15:58:17.177Z"
   },
   {
    "duration": 114,
    "start_time": "2023-09-27T15:58:37.052Z"
   },
   {
    "duration": 91,
    "start_time": "2023-09-27T15:58:59.185Z"
   },
   {
    "duration": 1386,
    "start_time": "2023-09-27T15:59:10.824Z"
   },
   {
    "duration": 66,
    "start_time": "2023-09-27T15:59:12.212Z"
   },
   {
    "duration": 15,
    "start_time": "2023-09-27T15:59:12.281Z"
   },
   {
    "duration": 48,
    "start_time": "2023-09-27T15:59:12.299Z"
   },
   {
    "duration": 42,
    "start_time": "2023-09-27T15:59:12.350Z"
   },
   {
    "duration": 37,
    "start_time": "2023-09-27T15:59:12.394Z"
   },
   {
    "duration": 24,
    "start_time": "2023-09-27T15:59:12.433Z"
   },
   {
    "duration": 23,
    "start_time": "2023-09-27T15:59:12.460Z"
   },
   {
    "duration": 43,
    "start_time": "2023-09-27T15:59:12.485Z"
   },
   {
    "duration": 15,
    "start_time": "2023-09-27T15:59:12.530Z"
   },
   {
    "duration": 449,
    "start_time": "2023-09-27T15:59:12.546Z"
   },
   {
    "duration": 17,
    "start_time": "2023-09-27T15:59:12.997Z"
   },
   {
    "duration": 44,
    "start_time": "2023-09-27T15:59:13.016Z"
   },
   {
    "duration": 35,
    "start_time": "2023-09-27T15:59:13.066Z"
   },
   {
    "duration": 382,
    "start_time": "2023-09-27T15:59:13.103Z"
   },
   {
    "duration": 9,
    "start_time": "2023-09-27T15:59:13.487Z"
   },
   {
    "duration": 369,
    "start_time": "2023-09-27T15:59:13.498Z"
   },
   {
    "duration": 12,
    "start_time": "2023-09-27T15:59:13.870Z"
   },
   {
    "duration": 426,
    "start_time": "2023-09-27T15:59:13.885Z"
   },
   {
    "duration": 9,
    "start_time": "2023-09-27T15:59:14.313Z"
   },
   {
    "duration": 565,
    "start_time": "2023-09-27T15:59:14.323Z"
   },
   {
    "duration": 9,
    "start_time": "2023-09-27T15:59:14.891Z"
   },
   {
    "duration": 159,
    "start_time": "2023-09-27T15:59:14.901Z"
   },
   {
    "duration": 435,
    "start_time": "2023-09-27T15:59:15.062Z"
   },
   {
    "duration": 100,
    "start_time": "2023-09-27T15:59:15.499Z"
   },
   {
    "duration": 113,
    "start_time": "2023-09-27T15:59:15.601Z"
   },
   {
    "duration": 109,
    "start_time": "2023-09-27T15:59:15.717Z"
   },
   {
    "duration": 117,
    "start_time": "2023-09-27T15:59:15.827Z"
   },
   {
    "duration": 99,
    "start_time": "2023-09-27T15:59:15.945Z"
   },
   {
    "duration": 91,
    "start_time": "2023-09-27T15:59:16.046Z"
   },
   {
    "duration": 216,
    "start_time": "2023-09-27T15:59:16.140Z"
   },
   {
    "duration": 109,
    "start_time": "2023-09-27T15:59:16.358Z"
   },
   {
    "duration": 17,
    "start_time": "2023-09-27T15:59:16.470Z"
   },
   {
    "duration": 132,
    "start_time": "2023-09-27T15:59:16.489Z"
   },
   {
    "duration": 188,
    "start_time": "2023-09-27T15:59:16.624Z"
   },
   {
    "duration": 12,
    "start_time": "2023-09-27T15:59:16.814Z"
   },
   {
    "duration": 152,
    "start_time": "2023-09-27T15:59:16.828Z"
   },
   {
    "duration": 234,
    "start_time": "2023-09-27T15:59:16.984Z"
   },
   {
    "duration": 102,
    "start_time": "2023-09-27T15:59:17.221Z"
   },
   {
    "duration": 95,
    "start_time": "2023-09-27T15:59:17.326Z"
   },
   {
    "duration": 109,
    "start_time": "2023-09-27T15:59:17.425Z"
   },
   {
    "duration": 128,
    "start_time": "2023-09-27T15:59:17.537Z"
   },
   {
    "duration": 335,
    "start_time": "2023-09-27T15:59:17.667Z"
   },
   {
    "duration": 6,
    "start_time": "2023-09-27T15:59:18.005Z"
   },
   {
    "duration": 511,
    "start_time": "2023-09-27T15:59:18.012Z"
   },
   {
    "duration": 5,
    "start_time": "2023-09-27T15:59:18.525Z"
   },
   {
    "duration": 370,
    "start_time": "2023-09-27T15:59:18.532Z"
   },
   {
    "duration": 9,
    "start_time": "2023-09-27T15:59:18.904Z"
   },
   {
    "duration": 448,
    "start_time": "2023-09-27T15:59:18.916Z"
   },
   {
    "duration": 349,
    "start_time": "2023-09-27T15:59:19.366Z"
   },
   {
    "duration": 6,
    "start_time": "2023-09-27T15:59:19.717Z"
   },
   {
    "duration": 397,
    "start_time": "2023-09-27T15:59:19.725Z"
   },
   {
    "duration": 467,
    "start_time": "2023-09-27T15:59:20.124Z"
   },
   {
    "duration": 343,
    "start_time": "2023-09-27T15:59:20.593Z"
   },
   {
    "duration": 220,
    "start_time": "2023-09-27T15:59:20.937Z"
   },
   {
    "duration": 227,
    "start_time": "2023-09-27T15:59:21.161Z"
   },
   {
    "duration": 221,
    "start_time": "2023-09-27T15:59:21.390Z"
   },
   {
    "duration": 186,
    "start_time": "2023-09-27T15:59:21.612Z"
   },
   {
    "duration": 193,
    "start_time": "2023-09-27T15:59:21.800Z"
   },
   {
    "duration": 187,
    "start_time": "2023-09-27T15:59:21.996Z"
   },
   {
    "duration": 222,
    "start_time": "2023-09-27T15:59:22.185Z"
   },
   {
    "duration": 229,
    "start_time": "2023-09-27T15:59:22.409Z"
   },
   {
    "duration": 288,
    "start_time": "2023-09-27T15:59:22.640Z"
   },
   {
    "duration": 181,
    "start_time": "2023-09-27T15:59:22.930Z"
   },
   {
    "duration": 1648,
    "start_time": "2023-09-27T16:17:00.333Z"
   },
   {
    "duration": 63,
    "start_time": "2023-09-27T16:17:01.984Z"
   },
   {
    "duration": 21,
    "start_time": "2023-09-27T16:17:02.049Z"
   },
   {
    "duration": 65,
    "start_time": "2023-09-27T16:17:02.072Z"
   },
   {
    "duration": 196,
    "start_time": "2023-09-27T16:17:02.138Z"
   },
   {
    "duration": 103,
    "start_time": "2023-09-27T16:17:02.336Z"
   },
   {
    "duration": 62,
    "start_time": "2023-09-27T16:17:02.442Z"
   },
   {
    "duration": 122,
    "start_time": "2023-09-27T16:17:02.506Z"
   },
   {
    "duration": 22,
    "start_time": "2023-09-27T16:17:02.631Z"
   },
   {
    "duration": 49,
    "start_time": "2023-09-27T16:17:02.658Z"
   },
   {
    "duration": 463,
    "start_time": "2023-09-27T16:17:02.710Z"
   },
   {
    "duration": 21,
    "start_time": "2023-09-27T16:17:03.175Z"
   },
   {
    "duration": 59,
    "start_time": "2023-09-27T16:17:03.199Z"
   },
   {
    "duration": 161,
    "start_time": "2023-09-27T16:17:03.261Z"
   },
   {
    "duration": 355,
    "start_time": "2023-09-27T16:17:03.425Z"
   },
   {
    "duration": 9,
    "start_time": "2023-09-27T16:17:03.782Z"
   },
   {
    "duration": 681,
    "start_time": "2023-09-27T16:17:03.793Z"
   },
   {
    "duration": 11,
    "start_time": "2023-09-27T16:17:04.476Z"
   },
   {
    "duration": 413,
    "start_time": "2023-09-27T16:17:04.490Z"
   },
   {
    "duration": 10,
    "start_time": "2023-09-27T16:17:04.905Z"
   },
   {
    "duration": 393,
    "start_time": "2023-09-27T16:17:04.917Z"
   },
   {
    "duration": 10,
    "start_time": "2023-09-27T16:17:05.312Z"
   },
   {
    "duration": 136,
    "start_time": "2023-09-27T16:17:05.324Z"
   },
   {
    "duration": 388,
    "start_time": "2023-09-27T16:17:05.462Z"
   },
   {
    "duration": 85,
    "start_time": "2023-09-27T16:17:05.852Z"
   },
   {
    "duration": 128,
    "start_time": "2023-09-27T16:17:05.939Z"
   },
   {
    "duration": 98,
    "start_time": "2023-09-27T16:17:06.069Z"
   },
   {
    "duration": 208,
    "start_time": "2023-09-27T16:17:06.171Z"
   },
   {
    "duration": 92,
    "start_time": "2023-09-27T16:17:06.381Z"
   },
   {
    "duration": 97,
    "start_time": "2023-09-27T16:17:06.475Z"
   },
   {
    "duration": 97,
    "start_time": "2023-09-27T16:17:06.574Z"
   },
   {
    "duration": 109,
    "start_time": "2023-09-27T16:17:06.673Z"
   },
   {
    "duration": 9,
    "start_time": "2023-09-27T16:17:06.784Z"
   },
   {
    "duration": 139,
    "start_time": "2023-09-27T16:17:06.794Z"
   },
   {
    "duration": 198,
    "start_time": "2023-09-27T16:17:06.936Z"
   },
   {
    "duration": 21,
    "start_time": "2023-09-27T16:17:07.137Z"
   },
   {
    "duration": 129,
    "start_time": "2023-09-27T16:17:07.160Z"
   },
   {
    "duration": 181,
    "start_time": "2023-09-27T16:17:07.291Z"
   },
   {
    "duration": 87,
    "start_time": "2023-09-27T16:17:07.473Z"
   },
   {
    "duration": 74,
    "start_time": "2023-09-27T16:17:07.562Z"
   },
   {
    "duration": 98,
    "start_time": "2023-09-27T16:17:07.637Z"
   },
   {
    "duration": 108,
    "start_time": "2023-09-27T16:17:07.757Z"
   },
   {
    "duration": 465,
    "start_time": "2023-09-27T16:17:07.867Z"
   },
   {
    "duration": 5,
    "start_time": "2023-09-27T16:17:08.334Z"
   },
   {
    "duration": 343,
    "start_time": "2023-09-27T16:17:08.340Z"
   },
   {
    "duration": 5,
    "start_time": "2023-09-27T16:17:08.686Z"
   },
   {
    "duration": 460,
    "start_time": "2023-09-27T16:17:08.693Z"
   },
   {
    "duration": 6,
    "start_time": "2023-09-27T16:17:09.156Z"
   },
   {
    "duration": 353,
    "start_time": "2023-09-27T16:17:09.164Z"
   },
   {
    "duration": 339,
    "start_time": "2023-09-27T16:17:09.519Z"
   },
   {
    "duration": 69,
    "start_time": "2023-09-27T16:17:09.860Z"
   },
   {
    "duration": 362,
    "start_time": "2023-09-27T16:17:09.931Z"
   },
   {
    "duration": 420,
    "start_time": "2023-09-27T16:17:10.295Z"
   },
   {
    "duration": 329,
    "start_time": "2023-09-27T16:17:10.717Z"
   },
   {
    "duration": 186,
    "start_time": "2023-09-27T16:17:11.056Z"
   },
   {
    "duration": 202,
    "start_time": "2023-09-27T16:17:11.244Z"
   },
   {
    "duration": 191,
    "start_time": "2023-09-27T16:17:11.448Z"
   },
   {
    "duration": 178,
    "start_time": "2023-09-27T16:17:11.641Z"
   },
   {
    "duration": 169,
    "start_time": "2023-09-27T16:17:11.822Z"
   },
   {
    "duration": 164,
    "start_time": "2023-09-27T16:17:11.993Z"
   },
   {
    "duration": 203,
    "start_time": "2023-09-27T16:17:12.160Z"
   },
   {
    "duration": 222,
    "start_time": "2023-09-27T16:17:12.365Z"
   },
   {
    "duration": 293,
    "start_time": "2023-09-27T16:17:12.589Z"
   },
   {
    "duration": 164,
    "start_time": "2023-09-27T16:17:12.884Z"
   },
   {
    "duration": 138,
    "start_time": "2023-09-27T16:17:13.050Z"
   },
   {
    "duration": 158,
    "start_time": "2023-09-27T16:20:05.864Z"
   },
   {
    "duration": 26,
    "start_time": "2023-09-27T16:20:48.943Z"
   },
   {
    "duration": 164,
    "start_time": "2023-09-27T16:21:32.423Z"
   },
   {
    "duration": 1509,
    "start_time": "2023-09-27T16:23:37.154Z"
   },
   {
    "duration": 62,
    "start_time": "2023-09-27T16:23:38.666Z"
   },
   {
    "duration": 17,
    "start_time": "2023-09-27T16:23:38.730Z"
   },
   {
    "duration": 28,
    "start_time": "2023-09-27T16:23:38.750Z"
   },
   {
    "duration": 36,
    "start_time": "2023-09-27T16:23:38.780Z"
   },
   {
    "duration": 61,
    "start_time": "2023-09-27T16:23:38.818Z"
   },
   {
    "duration": 13,
    "start_time": "2023-09-27T16:23:38.883Z"
   },
   {
    "duration": 19,
    "start_time": "2023-09-27T16:23:38.899Z"
   },
   {
    "duration": 41,
    "start_time": "2023-09-27T16:23:38.920Z"
   },
   {
    "duration": 19,
    "start_time": "2023-09-27T16:23:38.965Z"
   },
   {
    "duration": 445,
    "start_time": "2023-09-27T16:23:38.987Z"
   },
   {
    "duration": 32,
    "start_time": "2023-09-27T16:23:39.435Z"
   },
   {
    "duration": 17,
    "start_time": "2023-09-27T16:23:39.469Z"
   },
   {
    "duration": 30,
    "start_time": "2023-09-27T16:23:39.488Z"
   },
   {
    "duration": 344,
    "start_time": "2023-09-27T16:23:39.520Z"
   },
   {
    "duration": 9,
    "start_time": "2023-09-27T16:23:39.866Z"
   },
   {
    "duration": 426,
    "start_time": "2023-09-27T16:23:39.877Z"
   },
   {
    "duration": 10,
    "start_time": "2023-09-27T16:23:40.305Z"
   },
   {
    "duration": 378,
    "start_time": "2023-09-27T16:23:40.317Z"
   },
   {
    "duration": 10,
    "start_time": "2023-09-27T16:23:40.697Z"
   },
   {
    "duration": 381,
    "start_time": "2023-09-27T16:23:40.708Z"
   },
   {
    "duration": 12,
    "start_time": "2023-09-27T16:23:41.091Z"
   },
   {
    "duration": 151,
    "start_time": "2023-09-27T16:23:41.105Z"
   },
   {
    "duration": 380,
    "start_time": "2023-09-27T16:23:41.258Z"
   },
   {
    "duration": 89,
    "start_time": "2023-09-27T16:23:41.641Z"
   },
   {
    "duration": 104,
    "start_time": "2023-09-27T16:23:41.732Z"
   },
   {
    "duration": 101,
    "start_time": "2023-09-27T16:23:41.839Z"
   },
   {
    "duration": 222,
    "start_time": "2023-09-27T16:23:41.955Z"
   },
   {
    "duration": 96,
    "start_time": "2023-09-27T16:23:42.180Z"
   },
   {
    "duration": 92,
    "start_time": "2023-09-27T16:23:42.278Z"
   },
   {
    "duration": 107,
    "start_time": "2023-09-27T16:23:42.372Z"
   },
   {
    "duration": 101,
    "start_time": "2023-09-27T16:23:42.480Z"
   },
   {
    "duration": 10,
    "start_time": "2023-09-27T16:23:42.583Z"
   },
   {
    "duration": 136,
    "start_time": "2023-09-27T16:23:42.595Z"
   },
   {
    "duration": 198,
    "start_time": "2023-09-27T16:23:42.733Z"
   },
   {
    "duration": 9,
    "start_time": "2023-09-27T16:23:42.933Z"
   },
   {
    "duration": 169,
    "start_time": "2023-09-27T16:23:42.944Z"
   },
   {
    "duration": 190,
    "start_time": "2023-09-27T16:23:43.115Z"
   },
   {
    "duration": 88,
    "start_time": "2023-09-27T16:23:43.307Z"
   },
   {
    "duration": 95,
    "start_time": "2023-09-27T16:23:43.397Z"
   },
   {
    "duration": 109,
    "start_time": "2023-09-27T16:23:43.495Z"
   },
   {
    "duration": 110,
    "start_time": "2023-09-27T16:23:43.606Z"
   },
   {
    "duration": 440,
    "start_time": "2023-09-27T16:23:43.718Z"
   },
   {
    "duration": 5,
    "start_time": "2023-09-27T16:23:44.161Z"
   },
   {
    "duration": 332,
    "start_time": "2023-09-27T16:23:44.169Z"
   },
   {
    "duration": 5,
    "start_time": "2023-09-27T16:23:44.504Z"
   },
   {
    "duration": 348,
    "start_time": "2023-09-27T16:23:44.511Z"
   },
   {
    "duration": 5,
    "start_time": "2023-09-27T16:23:44.862Z"
   },
   {
    "duration": 332,
    "start_time": "2023-09-27T16:23:44.870Z"
   },
   {
    "duration": 336,
    "start_time": "2023-09-27T16:23:45.204Z"
   },
   {
    "duration": 5,
    "start_time": "2023-09-27T16:23:45.541Z"
   },
   {
    "duration": 338,
    "start_time": "2023-09-27T16:23:45.548Z"
   },
   {
    "duration": 422,
    "start_time": "2023-09-27T16:23:45.889Z"
   },
   {
    "duration": 318,
    "start_time": "2023-09-27T16:23:46.313Z"
   },
   {
    "duration": 187,
    "start_time": "2023-09-27T16:23:46.634Z"
   },
   {
    "duration": 236,
    "start_time": "2023-09-27T16:23:46.823Z"
   },
   {
    "duration": 208,
    "start_time": "2023-09-27T16:23:47.061Z"
   },
   {
    "duration": 178,
    "start_time": "2023-09-27T16:23:47.271Z"
   },
   {
    "duration": 166,
    "start_time": "2023-09-27T16:23:47.456Z"
   },
   {
    "duration": 165,
    "start_time": "2023-09-27T16:23:47.624Z"
   },
   {
    "duration": 204,
    "start_time": "2023-09-27T16:23:47.791Z"
   },
   {
    "duration": 209,
    "start_time": "2023-09-27T16:23:47.997Z"
   },
   {
    "duration": 277,
    "start_time": "2023-09-27T16:23:48.208Z"
   },
   {
    "duration": 173,
    "start_time": "2023-09-27T16:23:48.487Z"
   },
   {
    "duration": 182,
    "start_time": "2023-09-27T16:23:48.662Z"
   },
   {
    "duration": 253,
    "start_time": "2023-09-27T16:23:48.847Z"
   },
   {
    "duration": 1525,
    "start_time": "2023-09-27T16:28:04.057Z"
   },
   {
    "duration": 62,
    "start_time": "2023-09-27T16:28:05.585Z"
   },
   {
    "duration": 15,
    "start_time": "2023-09-27T16:28:05.649Z"
   },
   {
    "duration": 78,
    "start_time": "2023-09-27T16:28:05.666Z"
   },
   {
    "duration": 46,
    "start_time": "2023-09-27T16:28:05.747Z"
   },
   {
    "duration": 27,
    "start_time": "2023-09-27T16:28:05.795Z"
   },
   {
    "duration": 90,
    "start_time": "2023-09-27T16:28:05.824Z"
   },
   {
    "duration": 53,
    "start_time": "2023-09-27T16:28:05.916Z"
   },
   {
    "duration": 36,
    "start_time": "2023-09-27T16:28:05.971Z"
   },
   {
    "duration": 26,
    "start_time": "2023-09-27T16:28:06.010Z"
   },
   {
    "duration": 392,
    "start_time": "2023-09-27T16:28:06.038Z"
   },
   {
    "duration": 24,
    "start_time": "2023-09-27T16:28:06.432Z"
   },
   {
    "duration": 19,
    "start_time": "2023-09-27T16:28:06.458Z"
   },
   {
    "duration": 23,
    "start_time": "2023-09-27T16:28:06.480Z"
   },
   {
    "duration": 316,
    "start_time": "2023-09-27T16:28:06.505Z"
   },
   {
    "duration": 11,
    "start_time": "2023-09-27T16:28:06.822Z"
   },
   {
    "duration": 440,
    "start_time": "2023-09-27T16:28:06.835Z"
   },
   {
    "duration": 8,
    "start_time": "2023-09-27T16:28:07.277Z"
   },
   {
    "duration": 369,
    "start_time": "2023-09-27T16:28:07.287Z"
   },
   {
    "duration": 12,
    "start_time": "2023-09-27T16:28:07.658Z"
   },
   {
    "duration": 389,
    "start_time": "2023-09-27T16:28:07.672Z"
   },
   {
    "duration": 12,
    "start_time": "2023-09-27T16:28:08.064Z"
   },
   {
    "duration": 135,
    "start_time": "2023-09-27T16:28:08.078Z"
   },
   {
    "duration": 364,
    "start_time": "2023-09-27T16:28:08.215Z"
   },
   {
    "duration": 95,
    "start_time": "2023-09-27T16:28:08.581Z"
   },
   {
    "duration": 105,
    "start_time": "2023-09-27T16:28:08.678Z"
   },
   {
    "duration": 115,
    "start_time": "2023-09-27T16:28:08.785Z"
   },
   {
    "duration": 247,
    "start_time": "2023-09-27T16:28:08.903Z"
   },
   {
    "duration": 80,
    "start_time": "2023-09-27T16:28:09.152Z"
   },
   {
    "duration": 95,
    "start_time": "2023-09-27T16:28:09.234Z"
   },
   {
    "duration": 104,
    "start_time": "2023-09-27T16:28:09.331Z"
   },
   {
    "duration": 104,
    "start_time": "2023-09-27T16:28:09.437Z"
   },
   {
    "duration": 18,
    "start_time": "2023-09-27T16:28:09.543Z"
   },
   {
    "duration": 124,
    "start_time": "2023-09-27T16:28:09.563Z"
   },
   {
    "duration": 170,
    "start_time": "2023-09-27T16:28:09.689Z"
   },
   {
    "duration": 9,
    "start_time": "2023-09-27T16:28:09.861Z"
   },
   {
    "duration": 120,
    "start_time": "2023-09-27T16:28:09.872Z"
   },
   {
    "duration": 183,
    "start_time": "2023-09-27T16:28:09.993Z"
   },
   {
    "duration": 88,
    "start_time": "2023-09-27T16:28:10.178Z"
   },
   {
    "duration": 91,
    "start_time": "2023-09-27T16:28:10.268Z"
   },
   {
    "duration": 80,
    "start_time": "2023-09-27T16:28:10.364Z"
   },
   {
    "duration": 108,
    "start_time": "2023-09-27T16:28:10.457Z"
   },
   {
    "duration": 432,
    "start_time": "2023-09-27T16:28:10.568Z"
   },
   {
    "duration": 6,
    "start_time": "2023-09-27T16:28:11.002Z"
   },
   {
    "duration": 321,
    "start_time": "2023-09-27T16:28:11.009Z"
   },
   {
    "duration": 4,
    "start_time": "2023-09-27T16:28:11.332Z"
   },
   {
    "duration": 307,
    "start_time": "2023-09-27T16:28:11.338Z"
   },
   {
    "duration": 11,
    "start_time": "2023-09-27T16:28:11.647Z"
   },
   {
    "duration": 314,
    "start_time": "2023-09-27T16:28:11.660Z"
   },
   {
    "duration": 323,
    "start_time": "2023-09-27T16:28:11.975Z"
   },
   {
    "duration": 5,
    "start_time": "2023-09-27T16:28:12.300Z"
   },
   {
    "duration": 451,
    "start_time": "2023-09-27T16:28:12.306Z"
   },
   {
    "duration": 338,
    "start_time": "2023-09-27T16:28:12.759Z"
   },
   {
    "duration": 325,
    "start_time": "2023-09-27T16:28:13.100Z"
   },
   {
    "duration": 193,
    "start_time": "2023-09-27T16:28:13.428Z"
   },
   {
    "duration": 200,
    "start_time": "2023-09-27T16:28:13.623Z"
   },
   {
    "duration": 202,
    "start_time": "2023-09-27T16:28:13.825Z"
   },
   {
    "duration": 163,
    "start_time": "2023-09-27T16:28:14.029Z"
   },
   {
    "duration": 163,
    "start_time": "2023-09-27T16:28:14.194Z"
   },
   {
    "duration": 157,
    "start_time": "2023-09-27T16:28:14.359Z"
   },
   {
    "duration": 196,
    "start_time": "2023-09-27T16:28:14.518Z"
   },
   {
    "duration": 288,
    "start_time": "2023-09-27T16:28:14.715Z"
   },
   {
    "duration": 153,
    "start_time": "2023-09-27T16:28:15.005Z"
   },
   {
    "duration": 161,
    "start_time": "2023-09-27T16:28:15.160Z"
   },
   {
    "duration": 176,
    "start_time": "2023-09-27T16:28:15.323Z"
   },
   {
    "duration": 156,
    "start_time": "2023-09-27T16:28:15.501Z"
   },
   {
    "duration": 161,
    "start_time": "2023-09-27T16:28:15.658Z"
   },
   {
    "duration": 114,
    "start_time": "2023-09-27T16:28:56.121Z"
   },
   {
    "duration": 1301,
    "start_time": "2023-09-27T16:29:32.880Z"
   },
   {
    "duration": 164,
    "start_time": "2023-09-27T16:30:02.973Z"
   },
   {
    "duration": 10,
    "start_time": "2023-09-27T16:41:29.485Z"
   },
   {
    "duration": 1552,
    "start_time": "2023-09-27T16:45:22.336Z"
   },
   {
    "duration": 60,
    "start_time": "2023-09-27T16:45:23.891Z"
   },
   {
    "duration": 16,
    "start_time": "2023-09-27T16:45:23.953Z"
   },
   {
    "duration": 37,
    "start_time": "2023-09-27T16:45:23.971Z"
   },
   {
    "duration": 29,
    "start_time": "2023-09-27T16:45:24.010Z"
   },
   {
    "duration": 27,
    "start_time": "2023-09-27T16:45:24.057Z"
   },
   {
    "duration": 10,
    "start_time": "2023-09-27T16:45:24.086Z"
   },
   {
    "duration": 12,
    "start_time": "2023-09-27T16:45:24.098Z"
   },
   {
    "duration": 43,
    "start_time": "2023-09-27T16:45:24.113Z"
   },
   {
    "duration": 15,
    "start_time": "2023-09-27T16:45:24.160Z"
   },
   {
    "duration": 385,
    "start_time": "2023-09-27T16:45:24.176Z"
   },
   {
    "duration": 19,
    "start_time": "2023-09-27T16:45:24.563Z"
   },
   {
    "duration": 24,
    "start_time": "2023-09-27T16:45:24.583Z"
   },
   {
    "duration": 34,
    "start_time": "2023-09-27T16:45:24.609Z"
   },
   {
    "duration": 311,
    "start_time": "2023-09-27T16:45:24.645Z"
   },
   {
    "duration": 8,
    "start_time": "2023-09-27T16:45:24.958Z"
   },
   {
    "duration": 424,
    "start_time": "2023-09-27T16:45:24.967Z"
   },
   {
    "duration": 10,
    "start_time": "2023-09-27T16:45:25.392Z"
   },
   {
    "duration": 365,
    "start_time": "2023-09-27T16:45:25.404Z"
   },
   {
    "duration": 9,
    "start_time": "2023-09-27T16:45:25.771Z"
   },
   {
    "duration": 410,
    "start_time": "2023-09-27T16:45:25.782Z"
   },
   {
    "duration": 9,
    "start_time": "2023-09-27T16:45:26.193Z"
   },
   {
    "duration": 128,
    "start_time": "2023-09-27T16:45:26.204Z"
   },
   {
    "duration": 365,
    "start_time": "2023-09-27T16:45:26.334Z"
   },
   {
    "duration": 90,
    "start_time": "2023-09-27T16:45:26.701Z"
   },
   {
    "duration": 99,
    "start_time": "2023-09-27T16:45:26.793Z"
   },
   {
    "duration": 94,
    "start_time": "2023-09-27T16:45:26.894Z"
   },
   {
    "duration": 219,
    "start_time": "2023-09-27T16:45:26.992Z"
   },
   {
    "duration": 92,
    "start_time": "2023-09-27T16:45:27.212Z"
   },
   {
    "duration": 91,
    "start_time": "2023-09-27T16:45:27.305Z"
   },
   {
    "duration": 100,
    "start_time": "2023-09-27T16:45:27.398Z"
   },
   {
    "duration": 108,
    "start_time": "2023-09-27T16:45:27.501Z"
   },
   {
    "duration": 9,
    "start_time": "2023-09-27T16:45:27.611Z"
   },
   {
    "duration": 139,
    "start_time": "2023-09-27T16:45:27.621Z"
   },
   {
    "duration": 169,
    "start_time": "2023-09-27T16:45:27.761Z"
   },
   {
    "duration": 8,
    "start_time": "2023-09-27T16:45:27.932Z"
   },
   {
    "duration": 151,
    "start_time": "2023-09-27T16:45:27.942Z"
   },
   {
    "duration": 170,
    "start_time": "2023-09-27T16:45:28.095Z"
   },
   {
    "duration": 74,
    "start_time": "2023-09-27T16:45:28.267Z"
   },
   {
    "duration": 72,
    "start_time": "2023-09-27T16:45:28.355Z"
   },
   {
    "duration": 96,
    "start_time": "2023-09-27T16:45:28.429Z"
   },
   {
    "duration": 101,
    "start_time": "2023-09-27T16:45:28.527Z"
   },
   {
    "duration": 503,
    "start_time": "2023-09-27T16:45:28.630Z"
   },
   {
    "duration": 6,
    "start_time": "2023-09-27T16:45:29.134Z"
   },
   {
    "duration": 341,
    "start_time": "2023-09-27T16:45:29.142Z"
   },
   {
    "duration": 5,
    "start_time": "2023-09-27T16:45:29.486Z"
   },
   {
    "duration": 327,
    "start_time": "2023-09-27T16:45:29.492Z"
   },
   {
    "duration": 5,
    "start_time": "2023-09-27T16:45:29.822Z"
   },
   {
    "duration": 331,
    "start_time": "2023-09-27T16:45:29.829Z"
   },
   {
    "duration": 344,
    "start_time": "2023-09-27T16:45:30.162Z"
   },
   {
    "duration": 6,
    "start_time": "2023-09-27T16:45:30.509Z"
   },
   {
    "duration": 370,
    "start_time": "2023-09-27T16:45:30.517Z"
   },
   {
    "duration": 432,
    "start_time": "2023-09-27T16:45:30.888Z"
   },
   {
    "duration": 329,
    "start_time": "2023-09-27T16:45:31.322Z"
   },
   {
    "duration": 210,
    "start_time": "2023-09-27T16:45:31.655Z"
   },
   {
    "duration": 197,
    "start_time": "2023-09-27T16:45:31.867Z"
   },
   {
    "duration": 193,
    "start_time": "2023-09-27T16:45:32.066Z"
   },
   {
    "duration": 167,
    "start_time": "2023-09-27T16:45:32.261Z"
   },
   {
    "duration": 187,
    "start_time": "2023-09-27T16:45:32.430Z"
   },
   {
    "duration": 158,
    "start_time": "2023-09-27T16:45:32.619Z"
   },
   {
    "duration": 205,
    "start_time": "2023-09-27T16:45:32.779Z"
   },
   {
    "duration": 192,
    "start_time": "2023-09-27T16:45:32.986Z"
   },
   {
    "duration": 281,
    "start_time": "2023-09-27T16:45:33.180Z"
   },
   {
    "duration": 162,
    "start_time": "2023-09-27T16:45:33.462Z"
   },
   {
    "duration": 182,
    "start_time": "2023-09-27T16:45:33.627Z"
   },
   {
    "duration": 167,
    "start_time": "2023-09-27T16:45:33.811Z"
   },
   {
    "duration": 171,
    "start_time": "2023-09-27T16:45:33.981Z"
   },
   {
    "duration": 10,
    "start_time": "2023-09-27T16:45:34.153Z"
   },
   {
    "duration": 370,
    "start_time": "2023-09-27T16:45:34.165Z"
   },
   {
    "duration": 1556,
    "start_time": "2023-09-27T16:48:05.200Z"
   },
   {
    "duration": 62,
    "start_time": "2023-09-27T16:48:06.758Z"
   },
   {
    "duration": 17,
    "start_time": "2023-09-27T16:48:06.823Z"
   },
   {
    "duration": 30,
    "start_time": "2023-09-27T16:48:06.842Z"
   },
   {
    "duration": 31,
    "start_time": "2023-09-27T16:48:06.874Z"
   },
   {
    "duration": 51,
    "start_time": "2023-09-27T16:48:06.907Z"
   },
   {
    "duration": 11,
    "start_time": "2023-09-27T16:48:06.961Z"
   },
   {
    "duration": 20,
    "start_time": "2023-09-27T16:48:06.975Z"
   },
   {
    "duration": 29,
    "start_time": "2023-09-27T16:48:06.998Z"
   },
   {
    "duration": 26,
    "start_time": "2023-09-27T16:48:07.030Z"
   },
   {
    "duration": 374,
    "start_time": "2023-09-27T16:48:07.059Z"
   },
   {
    "duration": 28,
    "start_time": "2023-09-27T16:48:07.435Z"
   },
   {
    "duration": 8,
    "start_time": "2023-09-27T16:48:07.465Z"
   },
   {
    "duration": 16,
    "start_time": "2023-09-27T16:48:07.475Z"
   },
   {
    "duration": 344,
    "start_time": "2023-09-27T16:48:07.494Z"
   },
   {
    "duration": 18,
    "start_time": "2023-09-27T16:48:07.840Z"
   },
   {
    "duration": 452,
    "start_time": "2023-09-27T16:48:07.859Z"
   },
   {
    "duration": 8,
    "start_time": "2023-09-27T16:48:08.314Z"
   },
   {
    "duration": 371,
    "start_time": "2023-09-27T16:48:08.324Z"
   },
   {
    "duration": 11,
    "start_time": "2023-09-27T16:48:08.696Z"
   },
   {
    "duration": 463,
    "start_time": "2023-09-27T16:48:08.709Z"
   },
   {
    "duration": 9,
    "start_time": "2023-09-27T16:48:09.174Z"
   },
   {
    "duration": 151,
    "start_time": "2023-09-27T16:48:09.185Z"
   },
   {
    "duration": 365,
    "start_time": "2023-09-27T16:48:09.338Z"
   },
   {
    "duration": 92,
    "start_time": "2023-09-27T16:48:09.705Z"
   },
   {
    "duration": 95,
    "start_time": "2023-09-27T16:48:09.799Z"
   },
   {
    "duration": 88,
    "start_time": "2023-09-27T16:48:09.896Z"
   },
   {
    "duration": 210,
    "start_time": "2023-09-27T16:48:09.988Z"
   },
   {
    "duration": 92,
    "start_time": "2023-09-27T16:48:10.200Z"
   },
   {
    "duration": 91,
    "start_time": "2023-09-27T16:48:10.294Z"
   },
   {
    "duration": 98,
    "start_time": "2023-09-27T16:48:10.387Z"
   },
   {
    "duration": 106,
    "start_time": "2023-09-27T16:48:10.487Z"
   },
   {
    "duration": 9,
    "start_time": "2023-09-27T16:48:10.595Z"
   },
   {
    "duration": 130,
    "start_time": "2023-09-27T16:48:10.606Z"
   },
   {
    "duration": 179,
    "start_time": "2023-09-27T16:48:10.738Z"
   },
   {
    "duration": 8,
    "start_time": "2023-09-27T16:48:10.919Z"
   },
   {
    "duration": 114,
    "start_time": "2023-09-27T16:48:10.930Z"
   },
   {
    "duration": 179,
    "start_time": "2023-09-27T16:48:11.046Z"
   },
   {
    "duration": 89,
    "start_time": "2023-09-27T16:48:11.228Z"
   },
   {
    "duration": 88,
    "start_time": "2023-09-27T16:48:11.320Z"
   },
   {
    "duration": 96,
    "start_time": "2023-09-27T16:48:11.410Z"
   },
   {
    "duration": 99,
    "start_time": "2023-09-27T16:48:11.508Z"
   },
   {
    "duration": 419,
    "start_time": "2023-09-27T16:48:11.608Z"
   },
   {
    "duration": 6,
    "start_time": "2023-09-27T16:48:12.029Z"
   },
   {
    "duration": 325,
    "start_time": "2023-09-27T16:48:12.037Z"
   },
   {
    "duration": 6,
    "start_time": "2023-09-27T16:48:12.364Z"
   },
   {
    "duration": 318,
    "start_time": "2023-09-27T16:48:12.372Z"
   },
   {
    "duration": 5,
    "start_time": "2023-09-27T16:48:12.692Z"
   },
   {
    "duration": 334,
    "start_time": "2023-09-27T16:48:12.700Z"
   },
   {
    "duration": 311,
    "start_time": "2023-09-27T16:48:13.036Z"
   },
   {
    "duration": 10,
    "start_time": "2023-09-27T16:48:13.349Z"
   },
   {
    "duration": 319,
    "start_time": "2023-09-27T16:48:13.362Z"
   },
   {
    "duration": 409,
    "start_time": "2023-09-27T16:48:13.683Z"
   },
   {
    "duration": 317,
    "start_time": "2023-09-27T16:48:14.094Z"
   },
   {
    "duration": 194,
    "start_time": "2023-09-27T16:48:14.413Z"
   },
   {
    "duration": 196,
    "start_time": "2023-09-27T16:48:14.608Z"
   },
   {
    "duration": 222,
    "start_time": "2023-09-27T16:48:14.805Z"
   },
   {
    "duration": 166,
    "start_time": "2023-09-27T16:48:15.029Z"
   },
   {
    "duration": 162,
    "start_time": "2023-09-27T16:48:15.197Z"
   },
   {
    "duration": 158,
    "start_time": "2023-09-27T16:48:15.361Z"
   },
   {
    "duration": 196,
    "start_time": "2023-09-27T16:48:15.521Z"
   },
   {
    "duration": 198,
    "start_time": "2023-09-27T16:48:15.719Z"
   },
   {
    "duration": 272,
    "start_time": "2023-09-27T16:48:15.919Z"
   },
   {
    "duration": 163,
    "start_time": "2023-09-27T16:48:16.193Z"
   },
   {
    "duration": 168,
    "start_time": "2023-09-27T16:48:16.359Z"
   },
   {
    "duration": 161,
    "start_time": "2023-09-27T16:48:16.529Z"
   },
   {
    "duration": 177,
    "start_time": "2023-09-27T16:48:16.691Z"
   },
   {
    "duration": 10,
    "start_time": "2023-09-27T16:48:16.873Z"
   },
   {
    "duration": 394,
    "start_time": "2023-09-27T16:48:16.885Z"
   },
   {
    "duration": 405,
    "start_time": "2023-09-27T16:52:58.964Z"
   },
   {
    "duration": 1534,
    "start_time": "2023-09-28T09:06:17.133Z"
   },
   {
    "duration": 196,
    "start_time": "2023-09-28T09:06:18.668Z"
   },
   {
    "duration": 14,
    "start_time": "2023-09-28T09:06:18.866Z"
   },
   {
    "duration": 26,
    "start_time": "2023-09-28T09:06:18.882Z"
   },
   {
    "duration": 40,
    "start_time": "2023-09-28T09:06:18.909Z"
   },
   {
    "duration": 42,
    "start_time": "2023-09-28T09:06:18.951Z"
   },
   {
    "duration": 9,
    "start_time": "2023-09-28T09:06:18.994Z"
   },
   {
    "duration": 12,
    "start_time": "2023-09-28T09:06:19.005Z"
   },
   {
    "duration": 13,
    "start_time": "2023-09-28T09:06:19.019Z"
   },
   {
    "duration": 12,
    "start_time": "2023-09-28T09:06:19.043Z"
   },
   {
    "duration": 358,
    "start_time": "2023-09-28T09:06:19.057Z"
   },
   {
    "duration": 29,
    "start_time": "2023-09-28T09:06:19.417Z"
   },
   {
    "duration": 9,
    "start_time": "2023-09-28T09:06:19.448Z"
   },
   {
    "duration": 9,
    "start_time": "2023-09-28T09:06:19.458Z"
   },
   {
    "duration": 306,
    "start_time": "2023-09-28T09:06:19.468Z"
   },
   {
    "duration": 8,
    "start_time": "2023-09-28T09:06:19.776Z"
   },
   {
    "duration": 340,
    "start_time": "2023-09-28T09:06:19.787Z"
   },
   {
    "duration": 18,
    "start_time": "2023-09-28T09:06:20.129Z"
   },
   {
    "duration": 298,
    "start_time": "2023-09-28T09:06:20.149Z"
   },
   {
    "duration": 8,
    "start_time": "2023-09-28T09:06:20.448Z"
   },
   {
    "duration": 301,
    "start_time": "2023-09-28T09:06:20.457Z"
   },
   {
    "duration": 8,
    "start_time": "2023-09-28T09:06:20.759Z"
   },
   {
    "duration": 105,
    "start_time": "2023-09-28T09:06:20.769Z"
   },
   {
    "duration": 309,
    "start_time": "2023-09-28T09:06:20.875Z"
   },
   {
    "duration": 73,
    "start_time": "2023-09-28T09:06:21.185Z"
   },
   {
    "duration": 86,
    "start_time": "2023-09-28T09:06:21.260Z"
   },
   {
    "duration": 68,
    "start_time": "2023-09-28T09:06:21.348Z"
   },
   {
    "duration": 175,
    "start_time": "2023-09-28T09:06:21.420Z"
   },
   {
    "duration": 72,
    "start_time": "2023-09-28T09:06:21.597Z"
   },
   {
    "duration": 79,
    "start_time": "2023-09-28T09:06:21.671Z"
   },
   {
    "duration": 73,
    "start_time": "2023-09-28T09:06:21.751Z"
   },
   {
    "duration": 92,
    "start_time": "2023-09-28T09:06:21.826Z"
   },
   {
    "duration": 8,
    "start_time": "2023-09-28T09:06:21.919Z"
   },
   {
    "duration": 153,
    "start_time": "2023-09-28T09:06:21.929Z"
   },
   {
    "duration": 152,
    "start_time": "2023-09-28T09:06:22.084Z"
   },
   {
    "duration": 10,
    "start_time": "2023-09-28T09:06:22.237Z"
   },
   {
    "duration": 106,
    "start_time": "2023-09-28T09:06:22.249Z"
   },
   {
    "duration": 151,
    "start_time": "2023-09-28T09:06:22.356Z"
   },
   {
    "duration": 77,
    "start_time": "2023-09-28T09:06:22.509Z"
   },
   {
    "duration": 72,
    "start_time": "2023-09-28T09:06:22.588Z"
   },
   {
    "duration": 68,
    "start_time": "2023-09-28T09:06:22.661Z"
   },
   {
    "duration": 77,
    "start_time": "2023-09-28T09:06:22.745Z"
   },
   {
    "duration": 373,
    "start_time": "2023-09-28T09:06:22.824Z"
   },
   {
    "duration": 4,
    "start_time": "2023-09-28T09:06:23.198Z"
   },
   {
    "duration": 269,
    "start_time": "2023-09-28T09:06:23.203Z"
   },
   {
    "duration": 4,
    "start_time": "2023-09-28T09:06:23.474Z"
   },
   {
    "duration": 275,
    "start_time": "2023-09-28T09:06:23.479Z"
   },
   {
    "duration": 4,
    "start_time": "2023-09-28T09:06:23.756Z"
   },
   {
    "duration": 301,
    "start_time": "2023-09-28T09:06:23.761Z"
   },
   {
    "duration": 343,
    "start_time": "2023-09-28T09:06:24.065Z"
   },
   {
    "duration": 5,
    "start_time": "2023-09-28T09:06:24.409Z"
   },
   {
    "duration": 278,
    "start_time": "2023-09-28T09:06:24.415Z"
   },
   {
    "duration": 350,
    "start_time": "2023-09-28T09:06:24.694Z"
   },
   {
    "duration": 273,
    "start_time": "2023-09-28T09:06:25.045Z"
   },
   {
    "duration": 154,
    "start_time": "2023-09-28T09:06:25.320Z"
   },
   {
    "duration": 158,
    "start_time": "2023-09-28T09:06:25.475Z"
   },
   {
    "duration": 159,
    "start_time": "2023-09-28T09:06:25.635Z"
   },
   {
    "duration": 144,
    "start_time": "2023-09-28T09:06:25.796Z"
   },
   {
    "duration": 128,
    "start_time": "2023-09-28T09:06:25.942Z"
   },
   {
    "duration": 142,
    "start_time": "2023-09-28T09:06:26.072Z"
   },
   {
    "duration": 184,
    "start_time": "2023-09-28T09:06:26.216Z"
   },
   {
    "duration": 162,
    "start_time": "2023-09-28T09:06:26.401Z"
   },
   {
    "duration": 210,
    "start_time": "2023-09-28T09:06:26.565Z"
   },
   {
    "duration": 139,
    "start_time": "2023-09-28T09:06:26.777Z"
   },
   {
    "duration": 143,
    "start_time": "2023-09-28T09:06:26.917Z"
   },
   {
    "duration": 139,
    "start_time": "2023-09-28T09:06:27.062Z"
   },
   {
    "duration": 145,
    "start_time": "2023-09-28T09:06:27.203Z"
   },
   {
    "duration": 9,
    "start_time": "2023-09-28T09:06:27.349Z"
   },
   {
    "duration": 367,
    "start_time": "2023-09-28T09:06:27.360Z"
   },
   {
    "duration": 356,
    "start_time": "2023-09-28T09:06:27.729Z"
   },
   {
    "duration": 1671,
    "start_time": "2023-09-28T09:21:10.877Z"
   },
   {
    "duration": 13,
    "start_time": "2023-09-28T09:21:32.996Z"
   },
   {
    "duration": 158,
    "start_time": "2023-09-28T09:24:59.534Z"
   },
   {
    "duration": 381,
    "start_time": "2023-09-28T09:28:24.530Z"
   },
   {
    "duration": 9,
    "start_time": "2023-09-28T09:29:33.869Z"
   },
   {
    "duration": 118,
    "start_time": "2023-09-28T09:31:36.636Z"
   },
   {
    "duration": 140,
    "start_time": "2023-09-28T09:33:07.864Z"
   },
   {
    "duration": 240,
    "start_time": "2023-09-28T09:33:56.070Z"
   },
   {
    "duration": 145,
    "start_time": "2023-09-28T09:34:20.042Z"
   },
   {
    "duration": 136,
    "start_time": "2023-09-28T09:35:39.236Z"
   },
   {
    "duration": 153,
    "start_time": "2023-09-28T09:39:21.463Z"
   },
   {
    "duration": 1365,
    "start_time": "2023-09-28T09:40:22.497Z"
   },
   {
    "duration": 54,
    "start_time": "2023-09-28T09:40:23.864Z"
   },
   {
    "duration": 12,
    "start_time": "2023-09-28T09:40:23.920Z"
   },
   {
    "duration": 38,
    "start_time": "2023-09-28T09:40:23.933Z"
   },
   {
    "duration": 23,
    "start_time": "2023-09-28T09:40:23.973Z"
   },
   {
    "duration": 24,
    "start_time": "2023-09-28T09:40:23.998Z"
   },
   {
    "duration": 30,
    "start_time": "2023-09-28T09:40:24.024Z"
   },
   {
    "duration": 22,
    "start_time": "2023-09-28T09:40:24.056Z"
   },
   {
    "duration": 14,
    "start_time": "2023-09-28T09:40:24.080Z"
   },
   {
    "duration": 12,
    "start_time": "2023-09-28T09:40:24.096Z"
   },
   {
    "duration": 449,
    "start_time": "2023-09-28T09:40:24.110Z"
   },
   {
    "duration": 17,
    "start_time": "2023-09-28T09:40:24.561Z"
   },
   {
    "duration": 7,
    "start_time": "2023-09-28T09:40:24.579Z"
   },
   {
    "duration": 20,
    "start_time": "2023-09-28T09:40:24.589Z"
   },
   {
    "duration": 301,
    "start_time": "2023-09-28T09:40:24.611Z"
   },
   {
    "duration": 9,
    "start_time": "2023-09-28T09:40:24.914Z"
   },
   {
    "duration": 403,
    "start_time": "2023-09-28T09:40:24.924Z"
   },
   {
    "duration": 19,
    "start_time": "2023-09-28T09:40:25.329Z"
   },
   {
    "duration": 317,
    "start_time": "2023-09-28T09:40:25.349Z"
   },
   {
    "duration": 8,
    "start_time": "2023-09-28T09:40:25.667Z"
   },
   {
    "duration": 318,
    "start_time": "2023-09-28T09:40:25.677Z"
   },
   {
    "duration": 8,
    "start_time": "2023-09-28T09:40:25.997Z"
   },
   {
    "duration": 141,
    "start_time": "2023-09-28T09:40:26.006Z"
   },
   {
    "duration": 335,
    "start_time": "2023-09-28T09:40:26.149Z"
   },
   {
    "duration": 77,
    "start_time": "2023-09-28T09:40:26.486Z"
   },
   {
    "duration": 90,
    "start_time": "2023-09-28T09:40:26.564Z"
   },
   {
    "duration": 69,
    "start_time": "2023-09-28T09:40:26.655Z"
   },
   {
    "duration": 186,
    "start_time": "2023-09-28T09:40:26.726Z"
   },
   {
    "duration": 79,
    "start_time": "2023-09-28T09:40:26.914Z"
   },
   {
    "duration": 79,
    "start_time": "2023-09-28T09:40:26.995Z"
   },
   {
    "duration": 83,
    "start_time": "2023-09-28T09:40:27.076Z"
   },
   {
    "duration": 89,
    "start_time": "2023-09-28T09:40:27.161Z"
   },
   {
    "duration": 7,
    "start_time": "2023-09-28T09:40:27.252Z"
   },
   {
    "duration": 111,
    "start_time": "2023-09-28T09:40:27.261Z"
   },
   {
    "duration": 155,
    "start_time": "2023-09-28T09:40:27.373Z"
   },
   {
    "duration": 13,
    "start_time": "2023-09-28T09:40:27.532Z"
   },
   {
    "duration": 86,
    "start_time": "2023-09-28T09:40:27.547Z"
   },
   {
    "duration": 151,
    "start_time": "2023-09-28T09:40:27.635Z"
   },
   {
    "duration": 74,
    "start_time": "2023-09-28T09:40:27.788Z"
   },
   {
    "duration": 62,
    "start_time": "2023-09-28T09:40:27.864Z"
   },
   {
    "duration": 82,
    "start_time": "2023-09-28T09:40:27.929Z"
   },
   {
    "duration": 96,
    "start_time": "2023-09-28T09:40:28.012Z"
   },
   {
    "duration": 429,
    "start_time": "2023-09-28T09:40:28.109Z"
   },
   {
    "duration": 7,
    "start_time": "2023-09-28T09:40:28.540Z"
   },
   {
    "duration": 328,
    "start_time": "2023-09-28T09:40:28.549Z"
   },
   {
    "duration": 6,
    "start_time": "2023-09-28T09:40:28.879Z"
   },
   {
    "duration": 300,
    "start_time": "2023-09-28T09:40:28.886Z"
   },
   {
    "duration": 5,
    "start_time": "2023-09-28T09:40:29.188Z"
   },
   {
    "duration": 285,
    "start_time": "2023-09-28T09:40:29.194Z"
   },
   {
    "duration": 289,
    "start_time": "2023-09-28T09:40:29.480Z"
   },
   {
    "duration": 5,
    "start_time": "2023-09-28T09:40:29.770Z"
   },
   {
    "duration": 379,
    "start_time": "2023-09-28T09:40:29.776Z"
   },
   {
    "duration": 272,
    "start_time": "2023-09-28T09:40:30.157Z"
   },
   {
    "duration": 306,
    "start_time": "2023-09-28T09:40:30.431Z"
   },
   {
    "duration": 162,
    "start_time": "2023-09-28T09:40:30.744Z"
   },
   {
    "duration": 193,
    "start_time": "2023-09-28T09:40:30.908Z"
   },
   {
    "duration": 174,
    "start_time": "2023-09-28T09:40:31.103Z"
   },
   {
    "duration": 163,
    "start_time": "2023-09-28T09:40:31.278Z"
   },
   {
    "duration": 160,
    "start_time": "2023-09-28T09:40:31.443Z"
   },
   {
    "duration": 255,
    "start_time": "2023-09-28T09:40:31.605Z"
   },
   {
    "duration": 0,
    "start_time": "2023-09-28T09:40:31.863Z"
   },
   {
    "duration": 0,
    "start_time": "2023-09-28T09:40:31.865Z"
   },
   {
    "duration": 0,
    "start_time": "2023-09-28T09:40:31.866Z"
   },
   {
    "duration": 0,
    "start_time": "2023-09-28T09:40:31.867Z"
   },
   {
    "duration": 0,
    "start_time": "2023-09-28T09:40:31.868Z"
   },
   {
    "duration": 0,
    "start_time": "2023-09-28T09:40:31.870Z"
   },
   {
    "duration": 0,
    "start_time": "2023-09-28T09:40:31.871Z"
   },
   {
    "duration": 0,
    "start_time": "2023-09-28T09:40:31.872Z"
   },
   {
    "duration": 0,
    "start_time": "2023-09-28T09:40:31.874Z"
   },
   {
    "duration": 1539,
    "start_time": "2023-09-28T09:40:52.913Z"
   },
   {
    "duration": 62,
    "start_time": "2023-09-28T09:40:54.455Z"
   },
   {
    "duration": 18,
    "start_time": "2023-09-28T09:40:54.520Z"
   },
   {
    "duration": 46,
    "start_time": "2023-09-28T09:40:54.542Z"
   },
   {
    "duration": 29,
    "start_time": "2023-09-28T09:40:54.591Z"
   },
   {
    "duration": 50,
    "start_time": "2023-09-28T09:40:54.622Z"
   },
   {
    "duration": 11,
    "start_time": "2023-09-28T09:40:54.674Z"
   },
   {
    "duration": 26,
    "start_time": "2023-09-28T09:40:54.687Z"
   },
   {
    "duration": 12,
    "start_time": "2023-09-28T09:40:54.715Z"
   },
   {
    "duration": 20,
    "start_time": "2023-09-28T09:40:54.730Z"
   },
   {
    "duration": 408,
    "start_time": "2023-09-28T09:40:54.752Z"
   },
   {
    "duration": 17,
    "start_time": "2023-09-28T09:40:55.162Z"
   },
   {
    "duration": 16,
    "start_time": "2023-09-28T09:40:55.181Z"
   },
   {
    "duration": 12,
    "start_time": "2023-09-28T09:40:55.199Z"
   },
   {
    "duration": 419,
    "start_time": "2023-09-28T09:40:55.214Z"
   },
   {
    "duration": 16,
    "start_time": "2023-09-28T09:40:55.635Z"
   },
   {
    "duration": 409,
    "start_time": "2023-09-28T09:40:55.654Z"
   },
   {
    "duration": 10,
    "start_time": "2023-09-28T09:40:56.065Z"
   },
   {
    "duration": 371,
    "start_time": "2023-09-28T09:40:56.077Z"
   },
   {
    "duration": 11,
    "start_time": "2023-09-28T09:40:56.451Z"
   },
   {
    "duration": 472,
    "start_time": "2023-09-28T09:40:56.464Z"
   },
   {
    "duration": 16,
    "start_time": "2023-09-28T09:40:56.938Z"
   },
   {
    "duration": 184,
    "start_time": "2023-09-28T09:40:56.956Z"
   },
   {
    "duration": 536,
    "start_time": "2023-09-28T09:40:57.145Z"
   },
   {
    "duration": 125,
    "start_time": "2023-09-28T09:40:57.684Z"
   },
   {
    "duration": 128,
    "start_time": "2023-09-28T09:40:57.811Z"
   },
   {
    "duration": 119,
    "start_time": "2023-09-28T09:40:57.948Z"
   },
   {
    "duration": 213,
    "start_time": "2023-09-28T09:40:58.074Z"
   },
   {
    "duration": 91,
    "start_time": "2023-09-28T09:40:58.290Z"
   },
   {
    "duration": 90,
    "start_time": "2023-09-28T09:40:58.382Z"
   },
   {
    "duration": 86,
    "start_time": "2023-09-28T09:40:58.473Z"
   },
   {
    "duration": 97,
    "start_time": "2023-09-28T09:40:58.561Z"
   },
   {
    "duration": 8,
    "start_time": "2023-09-28T09:40:58.660Z"
   },
   {
    "duration": 185,
    "start_time": "2023-09-28T09:40:58.670Z"
   },
   {
    "duration": 152,
    "start_time": "2023-09-28T09:40:58.857Z"
   },
   {
    "duration": 8,
    "start_time": "2023-09-28T09:40:59.010Z"
   },
   {
    "duration": 102,
    "start_time": "2023-09-28T09:40:59.020Z"
   },
   {
    "duration": 175,
    "start_time": "2023-09-28T09:40:59.124Z"
   },
   {
    "duration": 90,
    "start_time": "2023-09-28T09:40:59.300Z"
   },
   {
    "duration": 86,
    "start_time": "2023-09-28T09:40:59.392Z"
   },
   {
    "duration": 102,
    "start_time": "2023-09-28T09:40:59.480Z"
   },
   {
    "duration": 94,
    "start_time": "2023-09-28T09:40:59.584Z"
   },
   {
    "duration": 379,
    "start_time": "2023-09-28T09:40:59.680Z"
   },
   {
    "duration": 4,
    "start_time": "2023-09-28T09:41:00.061Z"
   },
   {
    "duration": 393,
    "start_time": "2023-09-28T09:41:00.067Z"
   },
   {
    "duration": 5,
    "start_time": "2023-09-28T09:41:00.462Z"
   },
   {
    "duration": 388,
    "start_time": "2023-09-28T09:41:00.469Z"
   },
   {
    "duration": 6,
    "start_time": "2023-09-28T09:41:00.860Z"
   },
   {
    "duration": 377,
    "start_time": "2023-09-28T09:41:00.868Z"
   },
   {
    "duration": 348,
    "start_time": "2023-09-28T09:41:01.247Z"
   },
   {
    "duration": 6,
    "start_time": "2023-09-28T09:41:01.598Z"
   },
   {
    "duration": 328,
    "start_time": "2023-09-28T09:41:01.606Z"
   },
   {
    "duration": 403,
    "start_time": "2023-09-28T09:41:01.935Z"
   },
   {
    "duration": 407,
    "start_time": "2023-09-28T09:41:02.343Z"
   },
   {
    "duration": 241,
    "start_time": "2023-09-28T09:41:02.752Z"
   },
   {
    "duration": 196,
    "start_time": "2023-09-28T09:41:02.995Z"
   },
   {
    "duration": 188,
    "start_time": "2023-09-28T09:41:03.193Z"
   },
   {
    "duration": 199,
    "start_time": "2023-09-28T09:41:03.383Z"
   },
   {
    "duration": 166,
    "start_time": "2023-09-28T09:41:03.583Z"
   },
   {
    "duration": 160,
    "start_time": "2023-09-28T09:41:03.751Z"
   },
   {
    "duration": 198,
    "start_time": "2023-09-28T09:41:03.913Z"
   },
   {
    "duration": 254,
    "start_time": "2023-09-28T09:41:04.114Z"
   },
   {
    "duration": 300,
    "start_time": "2023-09-28T09:41:04.371Z"
   },
   {
    "duration": 165,
    "start_time": "2023-09-28T09:41:04.673Z"
   },
   {
    "duration": 162,
    "start_time": "2023-09-28T09:41:04.840Z"
   },
   {
    "duration": 199,
    "start_time": "2023-09-28T09:41:05.004Z"
   },
   {
    "duration": 410,
    "start_time": "2023-09-28T09:41:05.205Z"
   },
   {
    "duration": 11,
    "start_time": "2023-09-28T09:41:05.618Z"
   },
   {
    "duration": 415,
    "start_time": "2023-09-28T09:41:05.631Z"
   },
   {
    "duration": 134,
    "start_time": "2023-09-28T09:44:29.775Z"
   },
   {
    "duration": 1384,
    "start_time": "2023-09-28T09:44:35.609Z"
   },
   {
    "duration": 67,
    "start_time": "2023-09-28T09:44:36.995Z"
   },
   {
    "duration": 13,
    "start_time": "2023-09-28T09:44:37.064Z"
   },
   {
    "duration": 24,
    "start_time": "2023-09-28T09:44:37.078Z"
   },
   {
    "duration": 26,
    "start_time": "2023-09-28T09:44:37.104Z"
   },
   {
    "duration": 41,
    "start_time": "2023-09-28T09:44:37.131Z"
   },
   {
    "duration": 28,
    "start_time": "2023-09-28T09:44:37.174Z"
   },
   {
    "duration": 9,
    "start_time": "2023-09-28T09:44:37.204Z"
   },
   {
    "duration": 23,
    "start_time": "2023-09-28T09:44:37.215Z"
   },
   {
    "duration": 10,
    "start_time": "2023-09-28T09:44:37.239Z"
   },
   {
    "duration": 355,
    "start_time": "2023-09-28T09:44:37.250Z"
   },
   {
    "duration": 17,
    "start_time": "2023-09-28T09:44:37.606Z"
   },
   {
    "duration": 21,
    "start_time": "2023-09-28T09:44:37.624Z"
   },
   {
    "duration": 9,
    "start_time": "2023-09-28T09:44:37.649Z"
   },
   {
    "duration": 288,
    "start_time": "2023-09-28T09:44:37.660Z"
   },
   {
    "duration": 8,
    "start_time": "2023-09-28T09:44:37.950Z"
   },
   {
    "duration": 348,
    "start_time": "2023-09-28T09:44:37.959Z"
   },
   {
    "duration": 9,
    "start_time": "2023-09-28T09:44:38.309Z"
   },
   {
    "duration": 316,
    "start_time": "2023-09-28T09:44:38.320Z"
   },
   {
    "duration": 13,
    "start_time": "2023-09-28T09:44:38.637Z"
   },
   {
    "duration": 331,
    "start_time": "2023-09-28T09:44:38.651Z"
   },
   {
    "duration": 7,
    "start_time": "2023-09-28T09:44:38.983Z"
   },
   {
    "duration": 123,
    "start_time": "2023-09-28T09:44:38.992Z"
   },
   {
    "duration": 328,
    "start_time": "2023-09-28T09:44:39.116Z"
   },
   {
    "duration": 68,
    "start_time": "2023-09-28T09:44:39.446Z"
   },
   {
    "duration": 87,
    "start_time": "2023-09-28T09:44:39.516Z"
   },
   {
    "duration": 83,
    "start_time": "2023-09-28T09:44:39.605Z"
   },
   {
    "duration": 168,
    "start_time": "2023-09-28T09:44:39.689Z"
   },
   {
    "duration": 64,
    "start_time": "2023-09-28T09:44:39.859Z"
   },
   {
    "duration": 81,
    "start_time": "2023-09-28T09:44:39.925Z"
   },
   {
    "duration": 92,
    "start_time": "2023-09-28T09:44:40.007Z"
   },
   {
    "duration": 96,
    "start_time": "2023-09-28T09:44:40.101Z"
   },
   {
    "duration": 8,
    "start_time": "2023-09-28T09:44:40.199Z"
   },
   {
    "duration": 114,
    "start_time": "2023-09-28T09:44:40.208Z"
   },
   {
    "duration": 146,
    "start_time": "2023-09-28T09:44:40.323Z"
   },
   {
    "duration": 7,
    "start_time": "2023-09-28T09:44:40.470Z"
   },
   {
    "duration": 100,
    "start_time": "2023-09-28T09:44:40.479Z"
   },
   {
    "duration": 154,
    "start_time": "2023-09-28T09:44:40.580Z"
   },
   {
    "duration": 71,
    "start_time": "2023-09-28T09:44:40.735Z"
   },
   {
    "duration": 88,
    "start_time": "2023-09-28T09:44:40.808Z"
   },
   {
    "duration": 75,
    "start_time": "2023-09-28T09:44:40.900Z"
   },
   {
    "duration": 96,
    "start_time": "2023-09-28T09:44:40.977Z"
   },
   {
    "duration": 358,
    "start_time": "2023-09-28T09:44:41.074Z"
   },
   {
    "duration": 5,
    "start_time": "2023-09-28T09:44:41.433Z"
   },
   {
    "duration": 294,
    "start_time": "2023-09-28T09:44:41.445Z"
   },
   {
    "duration": 8,
    "start_time": "2023-09-28T09:44:41.740Z"
   },
   {
    "duration": 289,
    "start_time": "2023-09-28T09:44:41.749Z"
   },
   {
    "duration": 7,
    "start_time": "2023-09-28T09:44:42.040Z"
   },
   {
    "duration": 296,
    "start_time": "2023-09-28T09:44:42.049Z"
   },
   {
    "duration": 278,
    "start_time": "2023-09-28T09:44:42.347Z"
   },
   {
    "duration": 5,
    "start_time": "2023-09-28T09:44:42.626Z"
   },
   {
    "duration": 419,
    "start_time": "2023-09-28T09:44:42.632Z"
   },
   {
    "duration": 250,
    "start_time": "2023-09-28T09:44:43.053Z"
   },
   {
    "duration": 277,
    "start_time": "2023-09-28T09:44:43.304Z"
   },
   {
    "duration": 167,
    "start_time": "2023-09-28T09:44:43.583Z"
   },
   {
    "duration": 175,
    "start_time": "2023-09-28T09:44:43.751Z"
   },
   {
    "duration": 202,
    "start_time": "2023-09-28T09:44:43.927Z"
   },
   {
    "duration": 201,
    "start_time": "2023-09-28T09:44:44.131Z"
   },
   {
    "duration": 161,
    "start_time": "2023-09-28T09:44:44.334Z"
   },
   {
    "duration": 160,
    "start_time": "2023-09-28T09:44:44.497Z"
   },
   {
    "duration": 167,
    "start_time": "2023-09-28T09:44:44.659Z"
   },
   {
    "duration": 266,
    "start_time": "2023-09-28T09:44:44.828Z"
   },
   {
    "duration": 171,
    "start_time": "2023-09-28T09:44:45.096Z"
   },
   {
    "duration": 163,
    "start_time": "2023-09-28T09:44:45.269Z"
   },
   {
    "duration": 145,
    "start_time": "2023-09-28T09:44:45.433Z"
   },
   {
    "duration": 136,
    "start_time": "2023-09-28T09:44:45.579Z"
   },
   {
    "duration": 157,
    "start_time": "2023-09-28T09:44:45.717Z"
   },
   {
    "duration": 352,
    "start_time": "2023-09-28T09:44:45.876Z"
   },
   {
    "duration": 19,
    "start_time": "2023-09-28T09:44:46.230Z"
   },
   {
    "duration": 374,
    "start_time": "2023-09-28T09:44:46.251Z"
   },
   {
    "duration": 150,
    "start_time": "2023-09-28T09:46:47.230Z"
   },
   {
    "duration": 154,
    "start_time": "2023-09-28T09:47:32.868Z"
   },
   {
    "duration": 138,
    "start_time": "2023-09-28T09:50:38.160Z"
   },
   {
    "duration": 222,
    "start_time": "2023-09-28T09:51:39.471Z"
   },
   {
    "duration": 143,
    "start_time": "2023-09-28T09:52:14.326Z"
   },
   {
    "duration": 1413,
    "start_time": "2023-09-28T10:12:14.560Z"
   },
   {
    "duration": 57,
    "start_time": "2023-09-28T10:12:15.975Z"
   },
   {
    "duration": 12,
    "start_time": "2023-09-28T10:12:16.034Z"
   },
   {
    "duration": 28,
    "start_time": "2023-09-28T10:12:16.047Z"
   },
   {
    "duration": 23,
    "start_time": "2023-09-28T10:12:16.077Z"
   },
   {
    "duration": 59,
    "start_time": "2023-09-28T10:12:16.102Z"
   },
   {
    "duration": 8,
    "start_time": "2023-09-28T10:12:16.163Z"
   },
   {
    "duration": 14,
    "start_time": "2023-09-28T10:12:16.172Z"
   },
   {
    "duration": 12,
    "start_time": "2023-09-28T10:12:16.188Z"
   },
   {
    "duration": 9,
    "start_time": "2023-09-28T10:12:16.201Z"
   },
   {
    "duration": 383,
    "start_time": "2023-09-28T10:12:16.212Z"
   },
   {
    "duration": 17,
    "start_time": "2023-09-28T10:12:16.597Z"
   },
   {
    "duration": 30,
    "start_time": "2023-09-28T10:12:16.615Z"
   },
   {
    "duration": 8,
    "start_time": "2023-09-28T10:12:16.647Z"
   },
   {
    "duration": 279,
    "start_time": "2023-09-28T10:12:16.657Z"
   },
   {
    "duration": 7,
    "start_time": "2023-09-28T10:12:16.943Z"
   },
   {
    "duration": 345,
    "start_time": "2023-09-28T10:12:16.952Z"
   },
   {
    "duration": 8,
    "start_time": "2023-09-28T10:12:17.299Z"
   },
   {
    "duration": 315,
    "start_time": "2023-09-28T10:12:17.308Z"
   },
   {
    "duration": 8,
    "start_time": "2023-09-28T10:12:17.624Z"
   },
   {
    "duration": 310,
    "start_time": "2023-09-28T10:12:17.645Z"
   },
   {
    "duration": 8,
    "start_time": "2023-09-28T10:12:17.956Z"
   },
   {
    "duration": 111,
    "start_time": "2023-09-28T10:12:17.965Z"
   },
   {
    "duration": 321,
    "start_time": "2023-09-28T10:12:18.077Z"
   },
   {
    "duration": 73,
    "start_time": "2023-09-28T10:12:18.400Z"
   },
   {
    "duration": 82,
    "start_time": "2023-09-28T10:12:18.475Z"
   },
   {
    "duration": 67,
    "start_time": "2023-09-28T10:12:18.559Z"
   },
   {
    "duration": 166,
    "start_time": "2023-09-28T10:12:18.627Z"
   },
   {
    "duration": 80,
    "start_time": "2023-09-28T10:12:18.795Z"
   },
   {
    "duration": 74,
    "start_time": "2023-09-28T10:12:18.876Z"
   },
   {
    "duration": 79,
    "start_time": "2023-09-28T10:12:18.952Z"
   },
   {
    "duration": 100,
    "start_time": "2023-09-28T10:12:19.044Z"
   },
   {
    "duration": 9,
    "start_time": "2023-09-28T10:12:19.146Z"
   },
   {
    "duration": 119,
    "start_time": "2023-09-28T10:12:19.156Z"
   },
   {
    "duration": 153,
    "start_time": "2023-09-28T10:12:19.277Z"
   },
   {
    "duration": 14,
    "start_time": "2023-09-28T10:12:19.431Z"
   },
   {
    "duration": 89,
    "start_time": "2023-09-28T10:12:19.446Z"
   },
   {
    "duration": 149,
    "start_time": "2023-09-28T10:12:19.543Z"
   },
   {
    "duration": 73,
    "start_time": "2023-09-28T10:12:19.694Z"
   },
   {
    "duration": 63,
    "start_time": "2023-09-28T10:12:19.768Z"
   },
   {
    "duration": 64,
    "start_time": "2023-09-28T10:12:19.843Z"
   },
   {
    "duration": 104,
    "start_time": "2023-09-28T10:12:19.908Z"
   },
   {
    "duration": 352,
    "start_time": "2023-09-28T10:12:20.013Z"
   },
   {
    "duration": 5,
    "start_time": "2023-09-28T10:12:20.366Z"
   },
   {
    "duration": 319,
    "start_time": "2023-09-28T10:12:20.372Z"
   },
   {
    "duration": 3,
    "start_time": "2023-09-28T10:12:20.693Z"
   },
   {
    "duration": 281,
    "start_time": "2023-09-28T10:12:20.698Z"
   },
   {
    "duration": 4,
    "start_time": "2023-09-28T10:12:20.980Z"
   },
   {
    "duration": 273,
    "start_time": "2023-09-28T10:12:20.985Z"
   },
   {
    "duration": 274,
    "start_time": "2023-09-28T10:12:21.260Z"
   },
   {
    "duration": 9,
    "start_time": "2023-09-28T10:12:21.535Z"
   },
   {
    "duration": 365,
    "start_time": "2023-09-28T10:12:21.545Z"
   },
   {
    "duration": 276,
    "start_time": "2023-09-28T10:12:21.911Z"
   },
   {
    "duration": 283,
    "start_time": "2023-09-28T10:12:22.189Z"
   },
   {
    "duration": 168,
    "start_time": "2023-09-28T10:12:22.474Z"
   },
   {
    "duration": 158,
    "start_time": "2023-09-28T10:12:22.645Z"
   },
   {
    "duration": 163,
    "start_time": "2023-09-28T10:12:22.805Z"
   },
   {
    "duration": 144,
    "start_time": "2023-09-28T10:12:22.969Z"
   },
   {
    "duration": 153,
    "start_time": "2023-09-28T10:12:23.114Z"
   },
   {
    "duration": 139,
    "start_time": "2023-09-28T10:12:23.269Z"
   },
   {
    "duration": 162,
    "start_time": "2023-09-28T10:12:23.409Z"
   },
   {
    "duration": 242,
    "start_time": "2023-09-28T10:12:23.572Z"
   },
   {
    "duration": 150,
    "start_time": "2023-09-28T10:12:23.815Z"
   },
   {
    "duration": 177,
    "start_time": "2023-09-28T10:12:23.967Z"
   },
   {
    "duration": 83,
    "start_time": "2023-09-28T10:12:24.146Z"
   },
   {
    "duration": 0,
    "start_time": "2023-09-28T10:12:24.231Z"
   },
   {
    "duration": 0,
    "start_time": "2023-09-28T10:12:24.233Z"
   },
   {
    "duration": 0,
    "start_time": "2023-09-28T10:12:24.234Z"
   },
   {
    "duration": 107,
    "start_time": "2023-09-28T10:14:18.104Z"
   },
   {
    "duration": 147,
    "start_time": "2023-09-28T10:14:46.163Z"
   },
   {
    "duration": 143,
    "start_time": "2023-09-28T10:17:42.253Z"
   },
   {
    "duration": 1349,
    "start_time": "2023-09-28T10:22:45.489Z"
   },
   {
    "duration": 55,
    "start_time": "2023-09-28T10:22:46.840Z"
   },
   {
    "duration": 13,
    "start_time": "2023-09-28T10:22:46.896Z"
   },
   {
    "duration": 28,
    "start_time": "2023-09-28T10:22:46.910Z"
   },
   {
    "duration": 25,
    "start_time": "2023-09-28T10:22:46.940Z"
   },
   {
    "duration": 32,
    "start_time": "2023-09-28T10:22:46.966Z"
   },
   {
    "duration": 13,
    "start_time": "2023-09-28T10:22:47.000Z"
   },
   {
    "duration": 12,
    "start_time": "2023-09-28T10:22:47.015Z"
   },
   {
    "duration": 28,
    "start_time": "2023-09-28T10:22:47.028Z"
   },
   {
    "duration": 9,
    "start_time": "2023-09-28T10:22:47.058Z"
   },
   {
    "duration": 352,
    "start_time": "2023-09-28T10:22:47.069Z"
   },
   {
    "duration": 29,
    "start_time": "2023-09-28T10:22:47.422Z"
   },
   {
    "duration": 8,
    "start_time": "2023-09-28T10:22:47.452Z"
   },
   {
    "duration": 11,
    "start_time": "2023-09-28T10:22:47.462Z"
   },
   {
    "duration": 284,
    "start_time": "2023-09-28T10:22:47.474Z"
   },
   {
    "duration": 7,
    "start_time": "2023-09-28T10:22:47.760Z"
   },
   {
    "duration": 347,
    "start_time": "2023-09-28T10:22:47.768Z"
   },
   {
    "duration": 10,
    "start_time": "2023-09-28T10:22:48.116Z"
   },
   {
    "duration": 332,
    "start_time": "2023-09-28T10:22:48.127Z"
   },
   {
    "duration": 9,
    "start_time": "2023-09-28T10:22:48.461Z"
   },
   {
    "duration": 337,
    "start_time": "2023-09-28T10:22:48.472Z"
   },
   {
    "duration": 8,
    "start_time": "2023-09-28T10:22:48.811Z"
   },
   {
    "duration": 133,
    "start_time": "2023-09-28T10:22:48.821Z"
   },
   {
    "duration": 335,
    "start_time": "2023-09-28T10:22:48.957Z"
   },
   {
    "duration": 82,
    "start_time": "2023-09-28T10:22:49.294Z"
   },
   {
    "duration": 100,
    "start_time": "2023-09-28T10:22:49.377Z"
   },
   {
    "duration": 91,
    "start_time": "2023-09-28T10:22:49.479Z"
   },
   {
    "duration": 181,
    "start_time": "2023-09-28T10:22:49.574Z"
   },
   {
    "duration": 88,
    "start_time": "2023-09-28T10:22:49.757Z"
   },
   {
    "duration": 78,
    "start_time": "2023-09-28T10:22:49.846Z"
   },
   {
    "duration": 101,
    "start_time": "2023-09-28T10:22:49.926Z"
   },
   {
    "duration": 117,
    "start_time": "2023-09-28T10:22:50.029Z"
   },
   {
    "duration": 7,
    "start_time": "2023-09-28T10:22:50.148Z"
   },
   {
    "duration": 134,
    "start_time": "2023-09-28T10:22:50.157Z"
   },
   {
    "duration": 174,
    "start_time": "2023-09-28T10:22:50.293Z"
   },
   {
    "duration": 8,
    "start_time": "2023-09-28T10:22:50.468Z"
   },
   {
    "duration": 125,
    "start_time": "2023-09-28T10:22:50.477Z"
   },
   {
    "duration": 171,
    "start_time": "2023-09-28T10:22:50.604Z"
   },
   {
    "duration": 76,
    "start_time": "2023-09-28T10:22:50.776Z"
   },
   {
    "duration": 62,
    "start_time": "2023-09-28T10:22:50.853Z"
   },
   {
    "duration": 83,
    "start_time": "2023-09-28T10:22:50.916Z"
   },
   {
    "duration": 102,
    "start_time": "2023-09-28T10:22:51.000Z"
   },
   {
    "duration": 359,
    "start_time": "2023-09-28T10:22:51.103Z"
   },
   {
    "duration": 4,
    "start_time": "2023-09-28T10:22:51.464Z"
   },
   {
    "duration": 311,
    "start_time": "2023-09-28T10:22:51.470Z"
   },
   {
    "duration": 5,
    "start_time": "2023-09-28T10:22:51.782Z"
   },
   {
    "duration": 330,
    "start_time": "2023-09-28T10:22:51.788Z"
   },
   {
    "duration": 4,
    "start_time": "2023-09-28T10:22:52.120Z"
   },
   {
    "duration": 326,
    "start_time": "2023-09-28T10:22:52.126Z"
   },
   {
    "duration": 273,
    "start_time": "2023-09-28T10:22:52.453Z"
   },
   {
    "duration": 4,
    "start_time": "2023-09-28T10:22:52.728Z"
   },
   {
    "duration": 380,
    "start_time": "2023-09-28T10:22:52.744Z"
   },
   {
    "duration": 345,
    "start_time": "2023-09-28T10:22:53.126Z"
   },
   {
    "duration": 276,
    "start_time": "2023-09-28T10:22:53.473Z"
   },
   {
    "duration": 163,
    "start_time": "2023-09-28T10:22:53.750Z"
   },
   {
    "duration": 200,
    "start_time": "2023-09-28T10:22:53.914Z"
   },
   {
    "duration": 211,
    "start_time": "2023-09-28T10:22:54.116Z"
   },
   {
    "duration": 153,
    "start_time": "2023-09-28T10:22:54.329Z"
   },
   {
    "duration": 153,
    "start_time": "2023-09-28T10:22:54.484Z"
   },
   {
    "duration": 153,
    "start_time": "2023-09-28T10:22:54.645Z"
   },
   {
    "duration": 179,
    "start_time": "2023-09-28T10:22:54.799Z"
   },
   {
    "duration": 179,
    "start_time": "2023-09-28T10:22:54.980Z"
   },
   {
    "duration": 263,
    "start_time": "2023-09-28T10:22:55.161Z"
   },
   {
    "duration": 4,
    "start_time": "2023-09-28T10:22:55.425Z"
   },
   {
    "duration": 45,
    "start_time": "2023-09-28T10:22:55.430Z"
   },
   {
    "duration": 238,
    "start_time": "2023-09-28T10:22:55.477Z"
   },
   {
    "duration": 170,
    "start_time": "2023-09-28T10:22:55.716Z"
   },
   {
    "duration": 360,
    "start_time": "2023-09-28T10:22:55.888Z"
   },
   {
    "duration": 11,
    "start_time": "2023-09-28T10:22:56.250Z"
   },
   {
    "duration": 453,
    "start_time": "2023-09-28T10:22:56.263Z"
   },
   {
    "duration": 1402,
    "start_time": "2023-09-28T10:26:08.470Z"
   },
   {
    "duration": 54,
    "start_time": "2023-09-28T10:26:09.874Z"
   },
   {
    "duration": 13,
    "start_time": "2023-09-28T10:26:09.930Z"
   },
   {
    "duration": 22,
    "start_time": "2023-09-28T10:26:09.944Z"
   },
   {
    "duration": 24,
    "start_time": "2023-09-28T10:26:09.968Z"
   },
   {
    "duration": 23,
    "start_time": "2023-09-28T10:26:09.994Z"
   },
   {
    "duration": 34,
    "start_time": "2023-09-28T10:26:10.018Z"
   },
   {
    "duration": 45,
    "start_time": "2023-09-28T10:26:10.053Z"
   },
   {
    "duration": 28,
    "start_time": "2023-09-28T10:26:10.100Z"
   },
   {
    "duration": 9,
    "start_time": "2023-09-28T10:26:10.130Z"
   },
   {
    "duration": 359,
    "start_time": "2023-09-28T10:26:10.140Z"
   },
   {
    "duration": 17,
    "start_time": "2023-09-28T10:26:10.501Z"
   },
   {
    "duration": 18,
    "start_time": "2023-09-28T10:26:10.519Z"
   },
   {
    "duration": 14,
    "start_time": "2023-09-28T10:26:10.543Z"
   },
   {
    "duration": 293,
    "start_time": "2023-09-28T10:26:10.559Z"
   },
   {
    "duration": 8,
    "start_time": "2023-09-28T10:26:10.854Z"
   },
   {
    "duration": 367,
    "start_time": "2023-09-28T10:26:10.863Z"
   },
   {
    "duration": 13,
    "start_time": "2023-09-28T10:26:11.232Z"
   },
   {
    "duration": 356,
    "start_time": "2023-09-28T10:26:11.247Z"
   },
   {
    "duration": 9,
    "start_time": "2023-09-28T10:26:11.606Z"
   },
   {
    "duration": 406,
    "start_time": "2023-09-28T10:26:11.617Z"
   },
   {
    "duration": 10,
    "start_time": "2023-09-28T10:26:12.025Z"
   },
   {
    "duration": 117,
    "start_time": "2023-09-28T10:26:12.044Z"
   },
   {
    "duration": 353,
    "start_time": "2023-09-28T10:26:12.163Z"
   },
   {
    "duration": 75,
    "start_time": "2023-09-28T10:26:12.518Z"
   },
   {
    "duration": 87,
    "start_time": "2023-09-28T10:26:12.595Z"
   },
   {
    "duration": 79,
    "start_time": "2023-09-28T10:26:12.684Z"
   },
   {
    "duration": 162,
    "start_time": "2023-09-28T10:26:12.765Z"
   },
   {
    "duration": 79,
    "start_time": "2023-09-28T10:26:12.928Z"
   },
   {
    "duration": 96,
    "start_time": "2023-09-28T10:26:13.008Z"
   },
   {
    "duration": 86,
    "start_time": "2023-09-28T10:26:13.106Z"
   },
   {
    "duration": 87,
    "start_time": "2023-09-28T10:26:13.194Z"
   },
   {
    "duration": 7,
    "start_time": "2023-09-28T10:26:13.283Z"
   },
   {
    "duration": 111,
    "start_time": "2023-09-28T10:26:13.291Z"
   },
   {
    "duration": 150,
    "start_time": "2023-09-28T10:26:13.404Z"
   },
   {
    "duration": 7,
    "start_time": "2023-09-28T10:26:13.556Z"
   },
   {
    "duration": 98,
    "start_time": "2023-09-28T10:26:13.564Z"
   },
   {
    "duration": 151,
    "start_time": "2023-09-28T10:26:13.663Z"
   },
   {
    "duration": 77,
    "start_time": "2023-09-28T10:26:13.816Z"
   },
   {
    "duration": 75,
    "start_time": "2023-09-28T10:26:13.894Z"
   },
   {
    "duration": 84,
    "start_time": "2023-09-28T10:26:13.974Z"
   },
   {
    "duration": 109,
    "start_time": "2023-09-28T10:26:14.060Z"
   },
   {
    "duration": 375,
    "start_time": "2023-09-28T10:26:14.171Z"
   },
   {
    "duration": 4,
    "start_time": "2023-09-28T10:26:14.547Z"
   },
   {
    "duration": 272,
    "start_time": "2023-09-28T10:26:14.553Z"
   },
   {
    "duration": 4,
    "start_time": "2023-09-28T10:26:14.827Z"
   },
   {
    "duration": 545,
    "start_time": "2023-09-28T10:26:14.833Z"
   },
   {
    "duration": 114,
    "start_time": "2023-09-28T10:26:15.379Z"
   },
   {
    "duration": 270,
    "start_time": "2023-09-28T10:26:15.495Z"
   },
   {
    "duration": 275,
    "start_time": "2023-09-28T10:26:15.767Z"
   },
   {
    "duration": 4,
    "start_time": "2023-09-28T10:26:16.044Z"
   },
   {
    "duration": 399,
    "start_time": "2023-09-28T10:26:16.049Z"
   },
   {
    "duration": 298,
    "start_time": "2023-09-28T10:26:16.450Z"
   },
   {
    "duration": 301,
    "start_time": "2023-09-28T10:26:16.749Z"
   },
   {
    "duration": 177,
    "start_time": "2023-09-28T10:26:17.053Z"
   },
   {
    "duration": 175,
    "start_time": "2023-09-28T10:26:17.231Z"
   },
   {
    "duration": 180,
    "start_time": "2023-09-28T10:26:17.408Z"
   },
   {
    "duration": 154,
    "start_time": "2023-09-28T10:26:17.590Z"
   },
   {
    "duration": 143,
    "start_time": "2023-09-28T10:26:17.746Z"
   },
   {
    "duration": 161,
    "start_time": "2023-09-28T10:26:17.891Z"
   },
   {
    "duration": 157,
    "start_time": "2023-09-28T10:26:18.053Z"
   },
   {
    "duration": 236,
    "start_time": "2023-09-28T10:26:18.212Z"
   },
   {
    "duration": 146,
    "start_time": "2023-09-28T10:26:18.449Z"
   },
   {
    "duration": 4,
    "start_time": "2023-09-28T10:26:18.596Z"
   },
   {
    "duration": 7,
    "start_time": "2023-09-28T10:26:18.602Z"
   },
   {
    "duration": 143,
    "start_time": "2023-09-28T10:26:18.610Z"
   },
   {
    "duration": 130,
    "start_time": "2023-09-28T10:26:18.755Z"
   },
   {
    "duration": 388,
    "start_time": "2023-09-28T10:26:18.887Z"
   },
   {
    "duration": 10,
    "start_time": "2023-09-28T10:26:19.277Z"
   },
   {
    "duration": 425,
    "start_time": "2023-09-28T10:26:19.289Z"
   },
   {
    "duration": 145,
    "start_time": "2023-09-28T10:34:29.403Z"
   },
   {
    "duration": 133,
    "start_time": "2023-09-28T10:36:01.358Z"
   },
   {
    "duration": 170,
    "start_time": "2023-09-28T10:38:45.100Z"
   },
   {
    "duration": 1385,
    "start_time": "2023-09-28T10:40:17.463Z"
   },
   {
    "duration": 54,
    "start_time": "2023-09-28T10:40:18.851Z"
   },
   {
    "duration": 14,
    "start_time": "2023-09-28T10:40:18.907Z"
   },
   {
    "duration": 33,
    "start_time": "2023-09-28T10:40:18.922Z"
   },
   {
    "duration": 27,
    "start_time": "2023-09-28T10:40:18.958Z"
   },
   {
    "duration": 35,
    "start_time": "2023-09-28T10:40:18.987Z"
   },
   {
    "duration": 8,
    "start_time": "2023-09-28T10:40:19.045Z"
   },
   {
    "duration": 34,
    "start_time": "2023-09-28T10:40:19.055Z"
   },
   {
    "duration": 31,
    "start_time": "2023-09-28T10:40:19.091Z"
   },
   {
    "duration": 16,
    "start_time": "2023-09-28T10:40:19.124Z"
   },
   {
    "duration": 386,
    "start_time": "2023-09-28T10:40:19.142Z"
   },
   {
    "duration": 27,
    "start_time": "2023-09-28T10:40:19.530Z"
   },
   {
    "duration": 9,
    "start_time": "2023-09-28T10:40:19.559Z"
   },
   {
    "duration": 8,
    "start_time": "2023-09-28T10:40:19.572Z"
   },
   {
    "duration": 308,
    "start_time": "2023-09-28T10:40:19.582Z"
   },
   {
    "duration": 9,
    "start_time": "2023-09-28T10:40:19.893Z"
   },
   {
    "duration": 363,
    "start_time": "2023-09-28T10:40:19.904Z"
   },
   {
    "duration": 9,
    "start_time": "2023-09-28T10:40:20.268Z"
   },
   {
    "duration": 329,
    "start_time": "2023-09-28T10:40:20.278Z"
   },
   {
    "duration": 8,
    "start_time": "2023-09-28T10:40:20.608Z"
   },
   {
    "duration": 315,
    "start_time": "2023-09-28T10:40:20.617Z"
   },
   {
    "duration": 12,
    "start_time": "2023-09-28T10:40:20.933Z"
   },
   {
    "duration": 129,
    "start_time": "2023-09-28T10:40:20.947Z"
   },
   {
    "duration": 296,
    "start_time": "2023-09-28T10:40:21.077Z"
   },
   {
    "duration": 75,
    "start_time": "2023-09-28T10:40:21.374Z"
   },
   {
    "duration": 74,
    "start_time": "2023-09-28T10:40:21.451Z"
   },
   {
    "duration": 85,
    "start_time": "2023-09-28T10:40:21.526Z"
   },
   {
    "duration": 169,
    "start_time": "2023-09-28T10:40:21.612Z"
   },
   {
    "duration": 78,
    "start_time": "2023-09-28T10:40:21.783Z"
   },
   {
    "duration": 68,
    "start_time": "2023-09-28T10:40:21.862Z"
   },
   {
    "duration": 76,
    "start_time": "2023-09-28T10:40:21.944Z"
   },
   {
    "duration": 97,
    "start_time": "2023-09-28T10:40:22.022Z"
   },
   {
    "duration": 7,
    "start_time": "2023-09-28T10:40:22.121Z"
   },
   {
    "duration": 108,
    "start_time": "2023-09-28T10:40:22.144Z"
   },
   {
    "duration": 158,
    "start_time": "2023-09-28T10:40:22.253Z"
   },
   {
    "duration": 7,
    "start_time": "2023-09-28T10:40:22.413Z"
   },
   {
    "duration": 105,
    "start_time": "2023-09-28T10:40:22.422Z"
   },
   {
    "duration": 160,
    "start_time": "2023-09-28T10:40:22.528Z"
   },
   {
    "duration": 75,
    "start_time": "2023-09-28T10:40:22.689Z"
   },
   {
    "duration": 66,
    "start_time": "2023-09-28T10:40:22.765Z"
   },
   {
    "duration": 80,
    "start_time": "2023-09-28T10:40:22.846Z"
   },
   {
    "duration": 116,
    "start_time": "2023-09-28T10:40:22.928Z"
   },
   {
    "duration": 365,
    "start_time": "2023-09-28T10:40:23.046Z"
   },
   {
    "duration": 4,
    "start_time": "2023-09-28T10:40:23.412Z"
   },
   {
    "duration": 264,
    "start_time": "2023-09-28T10:40:23.418Z"
   },
   {
    "duration": 4,
    "start_time": "2023-09-28T10:40:23.684Z"
   },
   {
    "duration": 259,
    "start_time": "2023-09-28T10:40:23.690Z"
   },
   {
    "duration": 4,
    "start_time": "2023-09-28T10:40:23.951Z"
   },
   {
    "duration": 359,
    "start_time": "2023-09-28T10:40:23.956Z"
   },
   {
    "duration": 269,
    "start_time": "2023-09-28T10:40:24.318Z"
   },
   {
    "duration": 4,
    "start_time": "2023-09-28T10:40:24.589Z"
   },
   {
    "duration": 351,
    "start_time": "2023-09-28T10:40:24.595Z"
   },
   {
    "duration": 254,
    "start_time": "2023-09-28T10:40:24.948Z"
   },
   {
    "duration": 256,
    "start_time": "2023-09-28T10:40:25.203Z"
   },
   {
    "duration": 159,
    "start_time": "2023-09-28T10:40:25.461Z"
   },
   {
    "duration": 166,
    "start_time": "2023-09-28T10:40:25.622Z"
   },
   {
    "duration": 161,
    "start_time": "2023-09-28T10:40:25.790Z"
   },
   {
    "duration": 474,
    "start_time": "2023-09-28T10:40:25.952Z"
   },
   {
    "duration": 0,
    "start_time": "2023-09-28T10:40:26.427Z"
   },
   {
    "duration": 0,
    "start_time": "2023-09-28T10:40:26.429Z"
   },
   {
    "duration": 0,
    "start_time": "2023-09-28T10:40:26.430Z"
   },
   {
    "duration": 0,
    "start_time": "2023-09-28T10:40:26.431Z"
   },
   {
    "duration": 0,
    "start_time": "2023-09-28T10:40:26.432Z"
   },
   {
    "duration": 0,
    "start_time": "2023-09-28T10:40:26.444Z"
   },
   {
    "duration": 0,
    "start_time": "2023-09-28T10:40:26.445Z"
   },
   {
    "duration": 0,
    "start_time": "2023-09-28T10:40:26.446Z"
   },
   {
    "duration": 0,
    "start_time": "2023-09-28T10:40:26.447Z"
   },
   {
    "duration": 0,
    "start_time": "2023-09-28T10:40:26.448Z"
   },
   {
    "duration": 0,
    "start_time": "2023-09-28T10:40:26.449Z"
   },
   {
    "duration": 0,
    "start_time": "2023-09-28T10:40:26.450Z"
   },
   {
    "duration": 1396,
    "start_time": "2023-09-28T10:41:57.418Z"
   },
   {
    "duration": 55,
    "start_time": "2023-09-28T10:41:58.816Z"
   },
   {
    "duration": 17,
    "start_time": "2023-09-28T10:41:58.873Z"
   },
   {
    "duration": 33,
    "start_time": "2023-09-28T10:41:58.891Z"
   },
   {
    "duration": 26,
    "start_time": "2023-09-28T10:41:58.927Z"
   },
   {
    "duration": 26,
    "start_time": "2023-09-28T10:41:58.955Z"
   },
   {
    "duration": 9,
    "start_time": "2023-09-28T10:41:58.982Z"
   },
   {
    "duration": 15,
    "start_time": "2023-09-28T10:41:58.992Z"
   },
   {
    "duration": 31,
    "start_time": "2023-09-28T10:41:59.009Z"
   },
   {
    "duration": 11,
    "start_time": "2023-09-28T10:41:59.041Z"
   },
   {
    "duration": 339,
    "start_time": "2023-09-28T10:41:59.054Z"
   },
   {
    "duration": 15,
    "start_time": "2023-09-28T10:41:59.395Z"
   },
   {
    "duration": 7,
    "start_time": "2023-09-28T10:41:59.412Z"
   },
   {
    "duration": 24,
    "start_time": "2023-09-28T10:41:59.422Z"
   },
   {
    "duration": 305,
    "start_time": "2023-09-28T10:41:59.448Z"
   },
   {
    "duration": 8,
    "start_time": "2023-09-28T10:41:59.754Z"
   },
   {
    "duration": 374,
    "start_time": "2023-09-28T10:41:59.763Z"
   },
   {
    "duration": 13,
    "start_time": "2023-09-28T10:42:00.138Z"
   },
   {
    "duration": 357,
    "start_time": "2023-09-28T10:42:00.153Z"
   },
   {
    "duration": 10,
    "start_time": "2023-09-28T10:42:00.512Z"
   },
   {
    "duration": 377,
    "start_time": "2023-09-28T10:42:00.524Z"
   },
   {
    "duration": 7,
    "start_time": "2023-09-28T10:42:00.904Z"
   },
   {
    "duration": 125,
    "start_time": "2023-09-28T10:42:00.913Z"
   },
   {
    "duration": 346,
    "start_time": "2023-09-28T10:42:01.039Z"
   },
   {
    "duration": 103,
    "start_time": "2023-09-28T10:42:01.387Z"
   },
   {
    "duration": 88,
    "start_time": "2023-09-28T10:42:01.491Z"
   },
   {
    "duration": 75,
    "start_time": "2023-09-28T10:42:01.581Z"
   },
   {
    "duration": 174,
    "start_time": "2023-09-28T10:42:01.658Z"
   },
   {
    "duration": 76,
    "start_time": "2023-09-28T10:42:01.834Z"
   },
   {
    "duration": 195,
    "start_time": "2023-09-28T10:42:01.912Z"
   },
   {
    "duration": 95,
    "start_time": "2023-09-28T10:42:02.109Z"
   },
   {
    "duration": 99,
    "start_time": "2023-09-28T10:42:02.206Z"
   },
   {
    "duration": 8,
    "start_time": "2023-09-28T10:42:02.307Z"
   },
   {
    "duration": 139,
    "start_time": "2023-09-28T10:42:02.323Z"
   },
   {
    "duration": 195,
    "start_time": "2023-09-28T10:42:02.464Z"
   },
   {
    "duration": 9,
    "start_time": "2023-09-28T10:42:02.661Z"
   },
   {
    "duration": 121,
    "start_time": "2023-09-28T10:42:02.672Z"
   },
   {
    "duration": 183,
    "start_time": "2023-09-28T10:42:02.795Z"
   },
   {
    "duration": 95,
    "start_time": "2023-09-28T10:42:02.980Z"
   },
   {
    "duration": 107,
    "start_time": "2023-09-28T10:42:03.077Z"
   },
   {
    "duration": 78,
    "start_time": "2023-09-28T10:42:03.189Z"
   },
   {
    "duration": 206,
    "start_time": "2023-09-28T10:42:03.268Z"
   },
   {
    "duration": 383,
    "start_time": "2023-09-28T10:42:03.476Z"
   },
   {
    "duration": 5,
    "start_time": "2023-09-28T10:42:03.861Z"
   },
   {
    "duration": 483,
    "start_time": "2023-09-28T10:42:03.867Z"
   },
   {
    "duration": 5,
    "start_time": "2023-09-28T10:42:04.352Z"
   },
   {
    "duration": 287,
    "start_time": "2023-09-28T10:42:04.359Z"
   },
   {
    "duration": 4,
    "start_time": "2023-09-28T10:42:04.648Z"
   },
   {
    "duration": 276,
    "start_time": "2023-09-28T10:42:04.654Z"
   },
   {
    "duration": 296,
    "start_time": "2023-09-28T10:42:04.932Z"
   },
   {
    "duration": 15,
    "start_time": "2023-09-28T10:42:05.230Z"
   },
   {
    "duration": 370,
    "start_time": "2023-09-28T10:42:05.246Z"
   },
   {
    "duration": 265,
    "start_time": "2023-09-28T10:42:05.618Z"
   },
   {
    "duration": 284,
    "start_time": "2023-09-28T10:42:05.885Z"
   },
   {
    "duration": 184,
    "start_time": "2023-09-28T10:42:06.171Z"
   },
   {
    "duration": 172,
    "start_time": "2023-09-28T10:42:06.356Z"
   },
   {
    "duration": 177,
    "start_time": "2023-09-28T10:42:06.530Z"
   },
   {
    "duration": 159,
    "start_time": "2023-09-28T10:42:06.709Z"
   },
   {
    "duration": 136,
    "start_time": "2023-09-28T10:42:06.870Z"
   },
   {
    "duration": 165,
    "start_time": "2023-09-28T10:42:07.008Z"
   },
   {
    "duration": 165,
    "start_time": "2023-09-28T10:42:07.174Z"
   },
   {
    "duration": 236,
    "start_time": "2023-09-28T10:42:07.344Z"
   },
   {
    "duration": 145,
    "start_time": "2023-09-28T10:42:07.581Z"
   },
   {
    "duration": 163,
    "start_time": "2023-09-28T10:42:07.727Z"
   },
   {
    "duration": 3,
    "start_time": "2023-09-28T10:42:07.892Z"
   },
   {
    "duration": 15,
    "start_time": "2023-09-28T10:42:07.896Z"
   },
   {
    "duration": 137,
    "start_time": "2023-09-28T10:42:07.912Z"
   },
   {
    "duration": 381,
    "start_time": "2023-09-28T10:42:08.051Z"
   },
   {
    "duration": 17,
    "start_time": "2023-09-28T10:42:08.434Z"
   },
   {
    "duration": 381,
    "start_time": "2023-09-28T10:42:08.452Z"
   },
   {
    "duration": 228,
    "start_time": "2023-09-28T10:47:20.393Z"
   },
   {
    "duration": 107,
    "start_time": "2023-09-28T10:48:31.987Z"
   },
   {
    "duration": 1356,
    "start_time": "2023-09-28T10:49:08.413Z"
   },
   {
    "duration": 55,
    "start_time": "2023-09-28T10:49:09.771Z"
   },
   {
    "duration": 16,
    "start_time": "2023-09-28T10:49:09.828Z"
   },
   {
    "duration": 45,
    "start_time": "2023-09-28T10:49:09.846Z"
   },
   {
    "duration": 23,
    "start_time": "2023-09-28T10:49:09.893Z"
   },
   {
    "duration": 29,
    "start_time": "2023-09-28T10:49:09.918Z"
   },
   {
    "duration": 8,
    "start_time": "2023-09-28T10:49:09.949Z"
   },
   {
    "duration": 36,
    "start_time": "2023-09-28T10:49:09.959Z"
   },
   {
    "duration": 37,
    "start_time": "2023-09-28T10:49:09.997Z"
   },
   {
    "duration": 36,
    "start_time": "2023-09-28T10:49:10.036Z"
   },
   {
    "duration": 362,
    "start_time": "2023-09-28T10:49:10.073Z"
   },
   {
    "duration": 21,
    "start_time": "2023-09-28T10:49:10.437Z"
   },
   {
    "duration": 31,
    "start_time": "2023-09-28T10:49:10.459Z"
   },
   {
    "duration": 27,
    "start_time": "2023-09-28T10:49:10.493Z"
   },
   {
    "duration": 278,
    "start_time": "2023-09-28T10:49:10.522Z"
   },
   {
    "duration": 8,
    "start_time": "2023-09-28T10:49:10.802Z"
   },
   {
    "duration": 366,
    "start_time": "2023-09-28T10:49:10.811Z"
   },
   {
    "duration": 11,
    "start_time": "2023-09-28T10:49:11.178Z"
   },
   {
    "duration": 309,
    "start_time": "2023-09-28T10:49:11.191Z"
   },
   {
    "duration": 8,
    "start_time": "2023-09-28T10:49:11.501Z"
   },
   {
    "duration": 335,
    "start_time": "2023-09-28T10:49:11.511Z"
   },
   {
    "duration": 9,
    "start_time": "2023-09-28T10:49:11.848Z"
   },
   {
    "duration": 134,
    "start_time": "2023-09-28T10:49:11.858Z"
   },
   {
    "duration": 317,
    "start_time": "2023-09-28T10:49:11.995Z"
   },
   {
    "duration": 81,
    "start_time": "2023-09-28T10:49:12.314Z"
   },
   {
    "duration": 90,
    "start_time": "2023-09-28T10:49:12.397Z"
   },
   {
    "duration": 78,
    "start_time": "2023-09-28T10:49:12.489Z"
   },
   {
    "duration": 165,
    "start_time": "2023-09-28T10:49:12.568Z"
   },
   {
    "duration": 74,
    "start_time": "2023-09-28T10:49:12.735Z"
   },
   {
    "duration": 99,
    "start_time": "2023-09-28T10:49:12.811Z"
   },
   {
    "duration": 114,
    "start_time": "2023-09-28T10:49:12.912Z"
   },
   {
    "duration": 89,
    "start_time": "2023-09-28T10:49:13.028Z"
   },
   {
    "duration": 8,
    "start_time": "2023-09-28T10:49:13.119Z"
   },
   {
    "duration": 120,
    "start_time": "2023-09-28T10:49:13.129Z"
   },
   {
    "duration": 157,
    "start_time": "2023-09-28T10:49:13.251Z"
   },
   {
    "duration": 15,
    "start_time": "2023-09-28T10:49:13.409Z"
   },
   {
    "duration": 97,
    "start_time": "2023-09-28T10:49:13.426Z"
   },
   {
    "duration": 164,
    "start_time": "2023-09-28T10:49:13.525Z"
   },
   {
    "duration": 79,
    "start_time": "2023-09-28T10:49:13.691Z"
   },
   {
    "duration": 74,
    "start_time": "2023-09-28T10:49:13.772Z"
   },
   {
    "duration": 65,
    "start_time": "2023-09-28T10:49:13.850Z"
   },
   {
    "duration": 96,
    "start_time": "2023-09-28T10:49:13.917Z"
   },
   {
    "duration": 430,
    "start_time": "2023-09-28T10:49:14.016Z"
   },
   {
    "duration": 5,
    "start_time": "2023-09-28T10:49:14.448Z"
   },
   {
    "duration": 281,
    "start_time": "2023-09-28T10:49:14.455Z"
   },
   {
    "duration": 8,
    "start_time": "2023-09-28T10:49:14.738Z"
   },
   {
    "duration": 280,
    "start_time": "2023-09-28T10:49:14.748Z"
   },
   {
    "duration": 6,
    "start_time": "2023-09-28T10:49:15.030Z"
   },
   {
    "duration": 301,
    "start_time": "2023-09-28T10:49:15.037Z"
   },
   {
    "duration": 291,
    "start_time": "2023-09-28T10:49:15.339Z"
   },
   {
    "duration": 13,
    "start_time": "2023-09-28T10:49:15.632Z"
   },
   {
    "duration": 370,
    "start_time": "2023-09-28T10:49:15.647Z"
   },
   {
    "duration": 272,
    "start_time": "2023-09-28T10:49:16.019Z"
   },
   {
    "duration": 316,
    "start_time": "2023-09-28T10:49:16.293Z"
   },
   {
    "duration": 167,
    "start_time": "2023-09-28T10:49:16.610Z"
   },
   {
    "duration": 174,
    "start_time": "2023-09-28T10:49:16.778Z"
   },
   {
    "duration": 179,
    "start_time": "2023-09-28T10:49:16.954Z"
   },
   {
    "duration": 151,
    "start_time": "2023-09-28T10:49:17.134Z"
   },
   {
    "duration": 148,
    "start_time": "2023-09-28T10:49:17.286Z"
   },
   {
    "duration": 168,
    "start_time": "2023-09-28T10:49:17.444Z"
   },
   {
    "duration": 181,
    "start_time": "2023-09-28T10:49:17.613Z"
   },
   {
    "duration": 260,
    "start_time": "2023-09-28T10:49:17.796Z"
   },
   {
    "duration": 161,
    "start_time": "2023-09-28T10:49:18.058Z"
   },
   {
    "duration": 278,
    "start_time": "2023-09-28T10:49:18.221Z"
   },
   {
    "duration": 0,
    "start_time": "2023-09-28T10:49:18.500Z"
   },
   {
    "duration": 0,
    "start_time": "2023-09-28T10:49:18.502Z"
   },
   {
    "duration": 0,
    "start_time": "2023-09-28T10:49:18.503Z"
   },
   {
    "duration": 0,
    "start_time": "2023-09-28T10:49:18.504Z"
   },
   {
    "duration": 0,
    "start_time": "2023-09-28T10:49:18.505Z"
   },
   {
    "duration": 0,
    "start_time": "2023-09-28T10:49:18.506Z"
   },
   {
    "duration": 0,
    "start_time": "2023-09-28T10:49:18.507Z"
   },
   {
    "duration": 198,
    "start_time": "2023-09-28T10:49:37.890Z"
   },
   {
    "duration": 1428,
    "start_time": "2023-09-28T10:51:19.175Z"
   },
   {
    "duration": 66,
    "start_time": "2023-09-28T10:51:20.606Z"
   },
   {
    "duration": 18,
    "start_time": "2023-09-28T10:51:20.675Z"
   },
   {
    "duration": 33,
    "start_time": "2023-09-28T10:51:20.695Z"
   },
   {
    "duration": 36,
    "start_time": "2023-09-28T10:51:20.730Z"
   },
   {
    "duration": 35,
    "start_time": "2023-09-28T10:51:20.768Z"
   },
   {
    "duration": 13,
    "start_time": "2023-09-28T10:51:20.805Z"
   },
   {
    "duration": 48,
    "start_time": "2023-09-28T10:51:20.820Z"
   },
   {
    "duration": 55,
    "start_time": "2023-09-28T10:51:20.869Z"
   },
   {
    "duration": 32,
    "start_time": "2023-09-28T10:51:20.926Z"
   },
   {
    "duration": 385,
    "start_time": "2023-09-28T10:51:20.961Z"
   },
   {
    "duration": 18,
    "start_time": "2023-09-28T10:51:21.348Z"
   },
   {
    "duration": 10,
    "start_time": "2023-09-28T10:51:21.367Z"
   },
   {
    "duration": 8,
    "start_time": "2023-09-28T10:51:21.381Z"
   },
   {
    "duration": 424,
    "start_time": "2023-09-28T10:51:21.391Z"
   },
   {
    "duration": 9,
    "start_time": "2023-09-28T10:51:21.816Z"
   },
   {
    "duration": 376,
    "start_time": "2023-09-28T10:51:21.827Z"
   },
   {
    "duration": 10,
    "start_time": "2023-09-28T10:51:22.205Z"
   },
   {
    "duration": 421,
    "start_time": "2023-09-28T10:51:22.218Z"
   },
   {
    "duration": 7,
    "start_time": "2023-09-28T10:51:22.644Z"
   },
   {
    "duration": 339,
    "start_time": "2023-09-28T10:51:22.652Z"
   },
   {
    "duration": 8,
    "start_time": "2023-09-28T10:51:22.993Z"
   },
   {
    "duration": 134,
    "start_time": "2023-09-28T10:51:23.003Z"
   },
   {
    "duration": 347,
    "start_time": "2023-09-28T10:51:23.139Z"
   },
   {
    "duration": 92,
    "start_time": "2023-09-28T10:51:23.488Z"
   },
   {
    "duration": 108,
    "start_time": "2023-09-28T10:51:23.582Z"
   },
   {
    "duration": 93,
    "start_time": "2023-09-28T10:51:23.692Z"
   },
   {
    "duration": 179,
    "start_time": "2023-09-28T10:51:23.787Z"
   },
   {
    "duration": 98,
    "start_time": "2023-09-28T10:51:23.968Z"
   },
   {
    "duration": 108,
    "start_time": "2023-09-28T10:51:24.068Z"
   },
   {
    "duration": 102,
    "start_time": "2023-09-28T10:51:24.178Z"
   },
   {
    "duration": 132,
    "start_time": "2023-09-28T10:51:24.282Z"
   },
   {
    "duration": 8,
    "start_time": "2023-09-28T10:51:24.416Z"
   },
   {
    "duration": 108,
    "start_time": "2023-09-28T10:51:24.426Z"
   },
   {
    "duration": 150,
    "start_time": "2023-09-28T10:51:24.536Z"
   },
   {
    "duration": 16,
    "start_time": "2023-09-28T10:51:24.687Z"
   },
   {
    "duration": 94,
    "start_time": "2023-09-28T10:51:24.705Z"
   },
   {
    "duration": 152,
    "start_time": "2023-09-28T10:51:24.801Z"
   },
   {
    "duration": 97,
    "start_time": "2023-09-28T10:51:24.955Z"
   },
   {
    "duration": 65,
    "start_time": "2023-09-28T10:51:25.053Z"
   },
   {
    "duration": 87,
    "start_time": "2023-09-28T10:51:25.122Z"
   },
   {
    "duration": 95,
    "start_time": "2023-09-28T10:51:25.211Z"
   },
   {
    "duration": 365,
    "start_time": "2023-09-28T10:51:25.308Z"
   },
   {
    "duration": 5,
    "start_time": "2023-09-28T10:51:25.674Z"
   },
   {
    "duration": 296,
    "start_time": "2023-09-28T10:51:25.680Z"
   },
   {
    "duration": 6,
    "start_time": "2023-09-28T10:51:25.978Z"
   },
   {
    "duration": 280,
    "start_time": "2023-09-28T10:51:25.986Z"
   },
   {
    "duration": 5,
    "start_time": "2023-09-28T10:51:26.268Z"
   },
   {
    "duration": 288,
    "start_time": "2023-09-28T10:51:26.275Z"
   },
   {
    "duration": 274,
    "start_time": "2023-09-28T10:51:26.564Z"
   },
   {
    "duration": 5,
    "start_time": "2023-09-28T10:51:26.843Z"
   },
   {
    "duration": 380,
    "start_time": "2023-09-28T10:51:26.849Z"
   },
   {
    "duration": 270,
    "start_time": "2023-09-28T10:51:27.230Z"
   },
   {
    "duration": 268,
    "start_time": "2023-09-28T10:51:27.501Z"
   },
   {
    "duration": 166,
    "start_time": "2023-09-28T10:51:27.771Z"
   },
   {
    "duration": 161,
    "start_time": "2023-09-28T10:51:27.944Z"
   },
   {
    "duration": 184,
    "start_time": "2023-09-28T10:51:28.107Z"
   },
   {
    "duration": 151,
    "start_time": "2023-09-28T10:51:28.293Z"
   },
   {
    "duration": 134,
    "start_time": "2023-09-28T10:51:28.446Z"
   },
   {
    "duration": 147,
    "start_time": "2023-09-28T10:51:28.581Z"
   },
   {
    "duration": 166,
    "start_time": "2023-09-28T10:51:28.729Z"
   },
   {
    "duration": 232,
    "start_time": "2023-09-28T10:51:28.897Z"
   },
   {
    "duration": 146,
    "start_time": "2023-09-28T10:51:29.131Z"
   },
   {
    "duration": 117,
    "start_time": "2023-09-28T10:51:29.279Z"
   },
   {
    "duration": 0,
    "start_time": "2023-09-28T10:51:29.398Z"
   },
   {
    "duration": 0,
    "start_time": "2023-09-28T10:51:29.400Z"
   },
   {
    "duration": 0,
    "start_time": "2023-09-28T10:51:29.402Z"
   },
   {
    "duration": 0,
    "start_time": "2023-09-28T10:51:29.404Z"
   },
   {
    "duration": 0,
    "start_time": "2023-09-28T10:51:29.405Z"
   },
   {
    "duration": 0,
    "start_time": "2023-09-28T10:51:29.407Z"
   },
   {
    "duration": 0,
    "start_time": "2023-09-28T10:51:29.408Z"
   },
   {
    "duration": 209,
    "start_time": "2023-09-28T10:53:39.268Z"
   },
   {
    "duration": 215,
    "start_time": "2023-09-28T10:55:46.849Z"
   },
   {
    "duration": 1356,
    "start_time": "2023-09-28T10:56:45.300Z"
   },
   {
    "duration": 55,
    "start_time": "2023-09-28T10:56:46.657Z"
   },
   {
    "duration": 13,
    "start_time": "2023-09-28T10:56:46.714Z"
   },
   {
    "duration": 22,
    "start_time": "2023-09-28T10:56:46.729Z"
   },
   {
    "duration": 31,
    "start_time": "2023-09-28T10:56:46.753Z"
   },
   {
    "duration": 33,
    "start_time": "2023-09-28T10:56:46.785Z"
   },
   {
    "duration": 8,
    "start_time": "2023-09-28T10:56:46.819Z"
   },
   {
    "duration": 18,
    "start_time": "2023-09-28T10:56:46.829Z"
   },
   {
    "duration": 12,
    "start_time": "2023-09-28T10:56:46.848Z"
   },
   {
    "duration": 11,
    "start_time": "2023-09-28T10:56:46.862Z"
   },
   {
    "duration": 386,
    "start_time": "2023-09-28T10:56:46.874Z"
   },
   {
    "duration": 17,
    "start_time": "2023-09-28T10:56:47.262Z"
   },
   {
    "duration": 33,
    "start_time": "2023-09-28T10:56:47.281Z"
   },
   {
    "duration": 33,
    "start_time": "2023-09-28T10:56:47.318Z"
   },
   {
    "duration": 306,
    "start_time": "2023-09-28T10:56:47.354Z"
   },
   {
    "duration": 8,
    "start_time": "2023-09-28T10:56:47.662Z"
   },
   {
    "duration": 376,
    "start_time": "2023-09-28T10:56:47.671Z"
   },
   {
    "duration": 9,
    "start_time": "2023-09-28T10:56:48.049Z"
   },
   {
    "duration": 330,
    "start_time": "2023-09-28T10:56:48.060Z"
   },
   {
    "duration": 7,
    "start_time": "2023-09-28T10:56:48.393Z"
   },
   {
    "duration": 332,
    "start_time": "2023-09-28T10:56:48.402Z"
   },
   {
    "duration": 10,
    "start_time": "2023-09-28T10:56:48.735Z"
   },
   {
    "duration": 124,
    "start_time": "2023-09-28T10:56:48.746Z"
   },
   {
    "duration": 355,
    "start_time": "2023-09-28T10:56:48.872Z"
   },
   {
    "duration": 78,
    "start_time": "2023-09-28T10:56:49.229Z"
   },
   {
    "duration": 92,
    "start_time": "2023-09-28T10:56:49.309Z"
   },
   {
    "duration": 89,
    "start_time": "2023-09-28T10:56:49.403Z"
   },
   {
    "duration": 175,
    "start_time": "2023-09-28T10:56:49.493Z"
   },
   {
    "duration": 78,
    "start_time": "2023-09-28T10:56:49.669Z"
   },
   {
    "duration": 68,
    "start_time": "2023-09-28T10:56:49.749Z"
   },
   {
    "duration": 96,
    "start_time": "2023-09-28T10:56:49.819Z"
   },
   {
    "duration": 99,
    "start_time": "2023-09-28T10:56:49.917Z"
   },
   {
    "duration": 8,
    "start_time": "2023-09-28T10:56:50.018Z"
   },
   {
    "duration": 126,
    "start_time": "2023-09-28T10:56:50.027Z"
   },
   {
    "duration": 162,
    "start_time": "2023-09-28T10:56:50.155Z"
   },
   {
    "duration": 8,
    "start_time": "2023-09-28T10:56:50.318Z"
   },
   {
    "duration": 99,
    "start_time": "2023-09-28T10:56:50.328Z"
   },
   {
    "duration": 164,
    "start_time": "2023-09-28T10:56:50.428Z"
   },
   {
    "duration": 81,
    "start_time": "2023-09-28T10:56:50.594Z"
   },
   {
    "duration": 86,
    "start_time": "2023-09-28T10:56:50.677Z"
   },
   {
    "duration": 88,
    "start_time": "2023-09-28T10:56:50.767Z"
   },
   {
    "duration": 99,
    "start_time": "2023-09-28T10:56:50.857Z"
   },
   {
    "duration": 403,
    "start_time": "2023-09-28T10:56:50.958Z"
   },
   {
    "duration": 5,
    "start_time": "2023-09-28T10:56:51.363Z"
   },
   {
    "duration": 326,
    "start_time": "2023-09-28T10:56:51.370Z"
   },
   {
    "duration": 6,
    "start_time": "2023-09-28T10:56:51.697Z"
   },
   {
    "duration": 328,
    "start_time": "2023-09-28T10:56:51.704Z"
   },
   {
    "duration": 10,
    "start_time": "2023-09-28T10:56:52.034Z"
   },
   {
    "duration": 303,
    "start_time": "2023-09-28T10:56:52.046Z"
   },
   {
    "duration": 290,
    "start_time": "2023-09-28T10:56:52.350Z"
   },
   {
    "duration": 12,
    "start_time": "2023-09-28T10:56:52.641Z"
   },
   {
    "duration": 483,
    "start_time": "2023-09-28T10:56:52.655Z"
   },
   {
    "duration": 272,
    "start_time": "2023-09-28T10:56:53.139Z"
   },
   {
    "duration": 289,
    "start_time": "2023-09-28T10:56:53.412Z"
   },
   {
    "duration": 169,
    "start_time": "2023-09-28T10:56:53.703Z"
   },
   {
    "duration": 189,
    "start_time": "2023-09-28T10:56:53.873Z"
   },
   {
    "duration": 224,
    "start_time": "2023-09-28T10:56:54.063Z"
   },
   {
    "duration": 167,
    "start_time": "2023-09-28T10:56:54.290Z"
   },
   {
    "duration": 139,
    "start_time": "2023-09-28T10:56:54.458Z"
   },
   {
    "duration": 159,
    "start_time": "2023-09-28T10:56:54.599Z"
   },
   {
    "duration": 159,
    "start_time": "2023-09-28T10:56:54.760Z"
   },
   {
    "duration": 253,
    "start_time": "2023-09-28T10:56:54.921Z"
   },
   {
    "duration": 149,
    "start_time": "2023-09-28T10:56:55.175Z"
   },
   {
    "duration": 211,
    "start_time": "2023-09-28T10:56:55.325Z"
   },
   {
    "duration": 161,
    "start_time": "2023-09-28T10:56:55.537Z"
   },
   {
    "duration": 4,
    "start_time": "2023-09-28T10:56:55.700Z"
   },
   {
    "duration": 72,
    "start_time": "2023-09-28T10:56:55.706Z"
   },
   {
    "duration": 148,
    "start_time": "2023-09-28T10:56:55.780Z"
   },
   {
    "duration": 434,
    "start_time": "2023-09-28T10:56:55.930Z"
   },
   {
    "duration": 10,
    "start_time": "2023-09-28T10:56:56.366Z"
   },
   {
    "duration": 389,
    "start_time": "2023-09-28T10:56:56.378Z"
   },
   {
    "duration": 3,
    "start_time": "2023-09-28T10:56:56.901Z"
   },
   {
    "duration": 55,
    "start_time": "2023-09-28T10:56:56.908Z"
   },
   {
    "duration": 12,
    "start_time": "2023-09-28T10:56:56.965Z"
   },
   {
    "duration": 45,
    "start_time": "2023-09-28T10:56:56.978Z"
   },
   {
    "duration": 35,
    "start_time": "2023-09-28T10:56:57.026Z"
   },
   {
    "duration": 23,
    "start_time": "2023-09-28T10:56:57.063Z"
   },
   {
    "duration": 8,
    "start_time": "2023-09-28T10:56:57.088Z"
   },
   {
    "duration": 14,
    "start_time": "2023-09-28T10:56:57.097Z"
   },
   {
    "duration": 44,
    "start_time": "2023-09-28T10:56:57.112Z"
   },
   {
    "duration": 6,
    "start_time": "2023-09-28T10:56:57.158Z"
   },
   {
    "duration": 359,
    "start_time": "2023-09-28T10:56:57.166Z"
   },
   {
    "duration": 23,
    "start_time": "2023-09-28T10:56:57.527Z"
   },
   {
    "duration": 16,
    "start_time": "2023-09-28T10:56:57.552Z"
   },
   {
    "duration": 12,
    "start_time": "2023-09-28T10:56:57.570Z"
   },
   {
    "duration": 276,
    "start_time": "2023-09-28T10:56:57.584Z"
   },
   {
    "duration": 7,
    "start_time": "2023-09-28T10:56:57.862Z"
   },
   {
    "duration": 385,
    "start_time": "2023-09-28T10:56:57.871Z"
   },
   {
    "duration": 10,
    "start_time": "2023-09-28T10:56:58.258Z"
   },
   {
    "duration": 387,
    "start_time": "2023-09-28T10:56:58.270Z"
   },
   {
    "duration": 9,
    "start_time": "2023-09-28T10:56:58.659Z"
   },
   {
    "duration": 322,
    "start_time": "2023-09-28T10:56:58.670Z"
   },
   {
    "duration": 9,
    "start_time": "2023-09-28T10:56:58.994Z"
   },
   {
    "duration": 137,
    "start_time": "2023-09-28T10:56:59.005Z"
   },
   {
    "duration": 335,
    "start_time": "2023-09-28T10:56:59.145Z"
   },
   {
    "duration": 78,
    "start_time": "2023-09-28T10:56:59.481Z"
   },
   {
    "duration": 189,
    "start_time": "2023-09-28T10:56:59.561Z"
   },
   {
    "duration": 164,
    "start_time": "2023-09-28T10:56:59.752Z"
   },
   {
    "duration": 185,
    "start_time": "2023-09-28T10:56:59.918Z"
   },
   {
    "duration": 101,
    "start_time": "2023-09-28T10:57:00.107Z"
   },
   {
    "duration": 75,
    "start_time": "2023-09-28T10:57:00.210Z"
   },
   {
    "duration": 121,
    "start_time": "2023-09-28T10:57:00.286Z"
   },
   {
    "duration": 104,
    "start_time": "2023-09-28T10:57:00.409Z"
   },
   {
    "duration": 7,
    "start_time": "2023-09-28T10:57:00.515Z"
   },
   {
    "duration": 181,
    "start_time": "2023-09-28T10:57:00.524Z"
   },
   {
    "duration": 148,
    "start_time": "2023-09-28T10:57:00.707Z"
   },
   {
    "duration": 8,
    "start_time": "2023-09-28T10:57:00.857Z"
   },
   {
    "duration": 113,
    "start_time": "2023-09-28T10:57:00.866Z"
   },
   {
    "duration": 150,
    "start_time": "2023-09-28T10:57:00.980Z"
   },
   {
    "duration": 73,
    "start_time": "2023-09-28T10:57:01.132Z"
   },
   {
    "duration": 81,
    "start_time": "2023-09-28T10:57:01.207Z"
   },
   {
    "duration": 82,
    "start_time": "2023-09-28T10:57:01.290Z"
   },
   {
    "duration": 94,
    "start_time": "2023-09-28T10:57:01.374Z"
   },
   {
    "duration": 389,
    "start_time": "2023-09-28T10:57:01.470Z"
   },
   {
    "duration": 5,
    "start_time": "2023-09-28T10:57:01.862Z"
   },
   {
    "duration": 321,
    "start_time": "2023-09-28T10:57:01.869Z"
   },
   {
    "duration": 5,
    "start_time": "2023-09-28T10:57:02.193Z"
   },
   {
    "duration": 335,
    "start_time": "2023-09-28T10:57:02.200Z"
   },
   {
    "duration": 5,
    "start_time": "2023-09-28T10:57:02.544Z"
   },
   {
    "duration": 317,
    "start_time": "2023-09-28T10:57:02.551Z"
   },
   {
    "duration": 333,
    "start_time": "2023-09-28T10:57:02.870Z"
   },
   {
    "duration": 5,
    "start_time": "2023-09-28T10:57:03.205Z"
   },
   {
    "duration": 418,
    "start_time": "2023-09-28T10:57:03.213Z"
   },
   {
    "duration": 263,
    "start_time": "2023-09-28T10:57:03.632Z"
   },
   {
    "duration": 331,
    "start_time": "2023-09-28T10:57:03.897Z"
   },
   {
    "duration": 196,
    "start_time": "2023-09-28T10:57:04.231Z"
   },
   {
    "duration": 165,
    "start_time": "2023-09-28T10:57:04.428Z"
   },
   {
    "duration": 162,
    "start_time": "2023-09-28T10:57:04.594Z"
   },
   {
    "duration": 156,
    "start_time": "2023-09-28T10:57:04.757Z"
   },
   {
    "duration": 144,
    "start_time": "2023-09-28T10:57:04.914Z"
   },
   {
    "duration": 146,
    "start_time": "2023-09-28T10:57:05.060Z"
   },
   {
    "duration": 162,
    "start_time": "2023-09-28T10:57:05.208Z"
   },
   {
    "duration": 231,
    "start_time": "2023-09-28T10:57:05.372Z"
   },
   {
    "duration": 153,
    "start_time": "2023-09-28T10:57:05.605Z"
   },
   {
    "duration": 216,
    "start_time": "2023-09-28T10:57:05.759Z"
   },
   {
    "duration": 148,
    "start_time": "2023-09-28T10:57:05.977Z"
   },
   {
    "duration": 3,
    "start_time": "2023-09-28T10:57:06.126Z"
   },
   {
    "duration": 34,
    "start_time": "2023-09-28T10:57:06.131Z"
   },
   {
    "duration": 138,
    "start_time": "2023-09-28T10:57:06.166Z"
   },
   {
    "duration": 406,
    "start_time": "2023-09-28T10:57:06.306Z"
   },
   {
    "duration": 11,
    "start_time": "2023-09-28T10:57:06.713Z"
   },
   {
    "duration": 414,
    "start_time": "2023-09-28T10:57:06.725Z"
   },
   {
    "duration": 226,
    "start_time": "2023-09-28T10:59:42.281Z"
   },
   {
    "duration": 216,
    "start_time": "2023-09-28T11:00:17.261Z"
   },
   {
    "duration": 192,
    "start_time": "2023-09-28T11:01:33.585Z"
   },
   {
    "duration": 1364,
    "start_time": "2023-09-28T11:01:36.897Z"
   },
   {
    "duration": 55,
    "start_time": "2023-09-28T11:01:38.263Z"
   },
   {
    "duration": 11,
    "start_time": "2023-09-28T11:01:38.320Z"
   },
   {
    "duration": 22,
    "start_time": "2023-09-28T11:01:38.333Z"
   },
   {
    "duration": 34,
    "start_time": "2023-09-28T11:01:38.357Z"
   },
   {
    "duration": 30,
    "start_time": "2023-09-28T11:01:38.393Z"
   },
   {
    "duration": 9,
    "start_time": "2023-09-28T11:01:38.445Z"
   },
   {
    "duration": 11,
    "start_time": "2023-09-28T11:01:38.455Z"
   },
   {
    "duration": 20,
    "start_time": "2023-09-28T11:01:38.467Z"
   },
   {
    "duration": 9,
    "start_time": "2023-09-28T11:01:38.489Z"
   },
   {
    "duration": 368,
    "start_time": "2023-09-28T11:01:38.500Z"
   },
   {
    "duration": 17,
    "start_time": "2023-09-28T11:01:38.869Z"
   },
   {
    "duration": 20,
    "start_time": "2023-09-28T11:01:38.887Z"
   },
   {
    "duration": 8,
    "start_time": "2023-09-28T11:01:38.910Z"
   },
   {
    "duration": 318,
    "start_time": "2023-09-28T11:01:38.920Z"
   },
   {
    "duration": 10,
    "start_time": "2023-09-28T11:01:39.243Z"
   },
   {
    "duration": 398,
    "start_time": "2023-09-28T11:01:39.255Z"
   },
   {
    "duration": 8,
    "start_time": "2023-09-28T11:01:39.654Z"
   },
   {
    "duration": 328,
    "start_time": "2023-09-28T11:01:39.664Z"
   },
   {
    "duration": 9,
    "start_time": "2023-09-28T11:01:39.994Z"
   },
   {
    "duration": 333,
    "start_time": "2023-09-28T11:01:40.005Z"
   },
   {
    "duration": 11,
    "start_time": "2023-09-28T11:01:40.339Z"
   },
   {
    "duration": 117,
    "start_time": "2023-09-28T11:01:40.352Z"
   },
   {
    "duration": 389,
    "start_time": "2023-09-28T11:01:40.470Z"
   },
   {
    "duration": 85,
    "start_time": "2023-09-28T11:01:40.861Z"
   },
   {
    "duration": 108,
    "start_time": "2023-09-28T11:01:40.948Z"
   },
   {
    "duration": 86,
    "start_time": "2023-09-28T11:01:41.058Z"
   },
   {
    "duration": 179,
    "start_time": "2023-09-28T11:01:41.146Z"
   },
   {
    "duration": 91,
    "start_time": "2023-09-28T11:01:41.327Z"
   },
   {
    "duration": 133,
    "start_time": "2023-09-28T11:01:41.420Z"
   },
   {
    "duration": 128,
    "start_time": "2023-09-28T11:01:41.555Z"
   },
   {
    "duration": 95,
    "start_time": "2023-09-28T11:01:41.685Z"
   },
   {
    "duration": 9,
    "start_time": "2023-09-28T11:01:41.782Z"
   },
   {
    "duration": 115,
    "start_time": "2023-09-28T11:01:41.793Z"
   },
   {
    "duration": 223,
    "start_time": "2023-09-28T11:01:41.909Z"
   },
   {
    "duration": 16,
    "start_time": "2023-09-28T11:01:42.135Z"
   },
   {
    "duration": 122,
    "start_time": "2023-09-28T11:01:42.152Z"
   },
   {
    "duration": 285,
    "start_time": "2023-09-28T11:01:42.276Z"
   },
   {
    "duration": 81,
    "start_time": "2023-09-28T11:01:42.564Z"
   },
   {
    "duration": 83,
    "start_time": "2023-09-28T11:01:42.647Z"
   },
   {
    "duration": 110,
    "start_time": "2023-09-28T11:01:42.748Z"
   },
   {
    "duration": 114,
    "start_time": "2023-09-28T11:01:42.861Z"
   },
   {
    "duration": 457,
    "start_time": "2023-09-28T11:01:42.978Z"
   },
   {
    "duration": 6,
    "start_time": "2023-09-28T11:01:43.444Z"
   },
   {
    "duration": 281,
    "start_time": "2023-09-28T11:01:43.452Z"
   },
   {
    "duration": 12,
    "start_time": "2023-09-28T11:01:43.735Z"
   },
   {
    "duration": 307,
    "start_time": "2023-09-28T11:01:43.749Z"
   },
   {
    "duration": 5,
    "start_time": "2023-09-28T11:01:44.058Z"
   },
   {
    "duration": 415,
    "start_time": "2023-09-28T11:01:44.065Z"
   },
   {
    "duration": 295,
    "start_time": "2023-09-28T11:01:44.482Z"
   },
   {
    "duration": 5,
    "start_time": "2023-09-28T11:01:44.779Z"
   },
   {
    "duration": 404,
    "start_time": "2023-09-28T11:01:44.786Z"
   },
   {
    "duration": 262,
    "start_time": "2023-09-28T11:01:45.192Z"
   },
   {
    "duration": 319,
    "start_time": "2023-09-28T11:01:45.456Z"
   },
   {
    "duration": 163,
    "start_time": "2023-09-28T11:01:45.777Z"
   },
   {
    "duration": 170,
    "start_time": "2023-09-28T11:01:45.945Z"
   },
   {
    "duration": 229,
    "start_time": "2023-09-28T11:01:46.117Z"
   },
   {
    "duration": 279,
    "start_time": "2023-09-28T11:01:46.348Z"
   },
   {
    "duration": 257,
    "start_time": "2023-09-28T11:01:46.629Z"
   },
   {
    "duration": 270,
    "start_time": "2023-09-28T11:01:46.888Z"
   },
   {
    "duration": 271,
    "start_time": "2023-09-28T11:01:47.160Z"
   },
   {
    "duration": 165,
    "start_time": "2023-09-28T11:01:47.433Z"
   },
   {
    "duration": 251,
    "start_time": "2023-09-28T11:01:47.600Z"
   },
   {
    "duration": 3,
    "start_time": "2023-09-28T11:01:47.852Z"
   },
   {
    "duration": 14,
    "start_time": "2023-09-28T11:01:47.857Z"
   },
   {
    "duration": 221,
    "start_time": "2023-09-28T11:01:47.873Z"
   },
   {
    "duration": 437,
    "start_time": "2023-09-28T11:01:48.096Z"
   },
   {
    "duration": 14,
    "start_time": "2023-09-28T11:01:48.535Z"
   },
   {
    "duration": 470,
    "start_time": "2023-09-28T11:01:48.551Z"
   },
   {
    "duration": 2032,
    "start_time": "2023-09-28T11:16:32.421Z"
   },
   {
    "duration": 14,
    "start_time": "2023-09-28T11:18:23.394Z"
   },
   {
    "duration": 1562,
    "start_time": "2023-09-28T11:18:31.440Z"
   },
   {
    "duration": 59,
    "start_time": "2023-09-28T11:18:33.004Z"
   },
   {
    "duration": 15,
    "start_time": "2023-09-28T11:18:33.065Z"
   },
   {
    "duration": 32,
    "start_time": "2023-09-28T11:18:33.082Z"
   },
   {
    "duration": 38,
    "start_time": "2023-09-28T11:18:33.116Z"
   },
   {
    "duration": 30,
    "start_time": "2023-09-28T11:18:33.156Z"
   },
   {
    "duration": 9,
    "start_time": "2023-09-28T11:18:33.188Z"
   },
   {
    "duration": 13,
    "start_time": "2023-09-28T11:18:33.199Z"
   },
   {
    "duration": 35,
    "start_time": "2023-09-28T11:18:33.213Z"
   },
   {
    "duration": 12,
    "start_time": "2023-09-28T11:18:33.250Z"
   },
   {
    "duration": 380,
    "start_time": "2023-09-28T11:18:33.264Z"
   },
   {
    "duration": 18,
    "start_time": "2023-09-28T11:18:33.646Z"
   },
   {
    "duration": 14,
    "start_time": "2023-09-28T11:18:33.666Z"
   },
   {
    "duration": 9,
    "start_time": "2023-09-28T11:18:33.685Z"
   },
   {
    "duration": 333,
    "start_time": "2023-09-28T11:18:33.696Z"
   },
   {
    "duration": 25,
    "start_time": "2023-09-28T11:18:34.031Z"
   },
   {
    "duration": 510,
    "start_time": "2023-09-28T11:18:34.060Z"
   },
   {
    "duration": 9,
    "start_time": "2023-09-28T11:18:34.572Z"
   },
   {
    "duration": 329,
    "start_time": "2023-09-28T11:18:34.582Z"
   },
   {
    "duration": 10,
    "start_time": "2023-09-28T11:18:34.913Z"
   },
   {
    "duration": 459,
    "start_time": "2023-09-28T11:18:34.925Z"
   },
   {
    "duration": 11,
    "start_time": "2023-09-28T11:18:35.387Z"
   },
   {
    "duration": 127,
    "start_time": "2023-09-28T11:18:35.400Z"
   },
   {
    "duration": 391,
    "start_time": "2023-09-28T11:18:35.529Z"
   },
   {
    "duration": 110,
    "start_time": "2023-09-28T11:18:35.922Z"
   },
   {
    "duration": 116,
    "start_time": "2023-09-28T11:18:36.034Z"
   },
   {
    "duration": 76,
    "start_time": "2023-09-28T11:18:36.152Z"
   },
   {
    "duration": 192,
    "start_time": "2023-09-28T11:18:36.230Z"
   },
   {
    "duration": 93,
    "start_time": "2023-09-28T11:18:36.424Z"
   },
   {
    "duration": 81,
    "start_time": "2023-09-28T11:18:36.519Z"
   },
   {
    "duration": 87,
    "start_time": "2023-09-28T11:18:36.602Z"
   },
   {
    "duration": 95,
    "start_time": "2023-09-28T11:18:36.691Z"
   },
   {
    "duration": 8,
    "start_time": "2023-09-28T11:18:36.788Z"
   },
   {
    "duration": 120,
    "start_time": "2023-09-28T11:18:36.798Z"
   },
   {
    "duration": 183,
    "start_time": "2023-09-28T11:18:36.920Z"
   },
   {
    "duration": 10,
    "start_time": "2023-09-28T11:18:37.105Z"
   },
   {
    "duration": 114,
    "start_time": "2023-09-28T11:18:37.117Z"
   },
   {
    "duration": 216,
    "start_time": "2023-09-28T11:18:37.233Z"
   },
   {
    "duration": 65,
    "start_time": "2023-09-28T11:18:37.451Z"
   },
   {
    "duration": 92,
    "start_time": "2023-09-28T11:18:37.518Z"
   },
   {
    "duration": 97,
    "start_time": "2023-09-28T11:18:37.616Z"
   },
   {
    "duration": 96,
    "start_time": "2023-09-28T11:18:37.715Z"
   },
   {
    "duration": 386,
    "start_time": "2023-09-28T11:18:37.812Z"
   },
   {
    "duration": 5,
    "start_time": "2023-09-28T11:18:38.199Z"
   },
   {
    "duration": 293,
    "start_time": "2023-09-28T11:18:38.206Z"
   },
   {
    "duration": 5,
    "start_time": "2023-09-28T11:18:38.500Z"
   },
   {
    "duration": 314,
    "start_time": "2023-09-28T11:18:38.507Z"
   },
   {
    "duration": 5,
    "start_time": "2023-09-28T11:18:38.823Z"
   },
   {
    "duration": 300,
    "start_time": "2023-09-28T11:18:38.844Z"
   },
   {
    "duration": 291,
    "start_time": "2023-09-28T11:18:39.146Z"
   },
   {
    "duration": 9,
    "start_time": "2023-09-28T11:18:39.438Z"
   },
   {
    "duration": 286,
    "start_time": "2023-09-28T11:18:39.448Z"
   },
   {
    "duration": 348,
    "start_time": "2023-09-28T11:18:39.736Z"
   },
   {
    "duration": 298,
    "start_time": "2023-09-28T11:18:40.086Z"
   },
   {
    "duration": 237,
    "start_time": "2023-09-28T11:18:40.385Z"
   },
   {
    "duration": 173,
    "start_time": "2023-09-28T11:18:40.624Z"
   },
   {
    "duration": 173,
    "start_time": "2023-09-28T11:18:40.800Z"
   },
   {
    "duration": 258,
    "start_time": "2023-09-28T11:18:40.974Z"
   },
   {
    "duration": 263,
    "start_time": "2023-09-28T11:18:41.245Z"
   },
   {
    "duration": 222,
    "start_time": "2023-09-28T11:18:41.510Z"
   },
   {
    "duration": 159,
    "start_time": "2023-09-28T11:18:41.735Z"
   },
   {
    "duration": 184,
    "start_time": "2023-09-28T11:18:41.896Z"
   },
   {
    "duration": 378,
    "start_time": "2023-09-28T11:18:42.082Z"
   },
   {
    "duration": 3,
    "start_time": "2023-09-28T11:18:42.462Z"
   },
   {
    "duration": 6,
    "start_time": "2023-09-28T11:18:42.467Z"
   },
   {
    "duration": 247,
    "start_time": "2023-09-28T11:18:42.475Z"
   },
   {
    "duration": 462,
    "start_time": "2023-09-28T11:18:42.725Z"
   },
   {
    "duration": 17,
    "start_time": "2023-09-28T11:18:43.189Z"
   },
   {
    "duration": 547,
    "start_time": "2023-09-28T11:18:43.208Z"
   },
   {
    "duration": 168,
    "start_time": "2023-09-28T11:18:43.757Z"
   },
   {
    "duration": 1420,
    "start_time": "2023-09-28T11:22:53.412Z"
   },
   {
    "duration": 65,
    "start_time": "2023-09-28T11:22:54.834Z"
   },
   {
    "duration": 14,
    "start_time": "2023-09-28T11:22:54.900Z"
   },
   {
    "duration": 24,
    "start_time": "2023-09-28T11:22:54.916Z"
   },
   {
    "duration": 29,
    "start_time": "2023-09-28T11:22:54.942Z"
   },
   {
    "duration": 23,
    "start_time": "2023-09-28T11:22:54.973Z"
   },
   {
    "duration": 9,
    "start_time": "2023-09-28T11:22:54.998Z"
   },
   {
    "duration": 38,
    "start_time": "2023-09-28T11:22:55.008Z"
   },
   {
    "duration": 20,
    "start_time": "2023-09-28T11:22:55.048Z"
   },
   {
    "duration": 10,
    "start_time": "2023-09-28T11:22:55.072Z"
   },
   {
    "duration": 351,
    "start_time": "2023-09-28T11:22:55.084Z"
   },
   {
    "duration": 24,
    "start_time": "2023-09-28T11:22:55.437Z"
   },
   {
    "duration": 14,
    "start_time": "2023-09-28T11:22:55.462Z"
   },
   {
    "duration": 24,
    "start_time": "2023-09-28T11:22:55.478Z"
   },
   {
    "duration": 267,
    "start_time": "2023-09-28T11:22:55.504Z"
   },
   {
    "duration": 6,
    "start_time": "2023-09-28T11:22:55.773Z"
   },
   {
    "duration": 346,
    "start_time": "2023-09-28T11:22:55.780Z"
   },
   {
    "duration": 7,
    "start_time": "2023-09-28T11:22:56.127Z"
   },
   {
    "duration": 337,
    "start_time": "2023-09-28T11:22:56.144Z"
   },
   {
    "duration": 8,
    "start_time": "2023-09-28T11:22:56.483Z"
   },
   {
    "duration": 369,
    "start_time": "2023-09-28T11:22:56.493Z"
   },
   {
    "duration": 8,
    "start_time": "2023-09-28T11:22:56.863Z"
   },
   {
    "duration": 117,
    "start_time": "2023-09-28T11:22:56.872Z"
   },
   {
    "duration": 338,
    "start_time": "2023-09-28T11:22:56.991Z"
   },
   {
    "duration": 76,
    "start_time": "2023-09-28T11:22:57.331Z"
   },
   {
    "duration": 94,
    "start_time": "2023-09-28T11:22:57.409Z"
   },
   {
    "duration": 82,
    "start_time": "2023-09-28T11:22:57.505Z"
   },
   {
    "duration": 171,
    "start_time": "2023-09-28T11:22:57.590Z"
   },
   {
    "duration": 67,
    "start_time": "2023-09-28T11:22:57.762Z"
   },
   {
    "duration": 82,
    "start_time": "2023-09-28T11:22:57.830Z"
   },
   {
    "duration": 81,
    "start_time": "2023-09-28T11:22:57.913Z"
   },
   {
    "duration": 91,
    "start_time": "2023-09-28T11:22:57.996Z"
   },
   {
    "duration": 7,
    "start_time": "2023-09-28T11:22:58.089Z"
   },
   {
    "duration": 112,
    "start_time": "2023-09-28T11:22:58.097Z"
   },
   {
    "duration": 150,
    "start_time": "2023-09-28T11:22:58.211Z"
   },
   {
    "duration": 7,
    "start_time": "2023-09-28T11:22:58.362Z"
   },
   {
    "duration": 111,
    "start_time": "2023-09-28T11:22:58.371Z"
   },
   {
    "duration": 145,
    "start_time": "2023-09-28T11:22:58.483Z"
   },
   {
    "duration": 80,
    "start_time": "2023-09-28T11:22:58.630Z"
   },
   {
    "duration": 69,
    "start_time": "2023-09-28T11:22:58.712Z"
   },
   {
    "duration": 77,
    "start_time": "2023-09-28T11:22:58.783Z"
   },
   {
    "duration": 94,
    "start_time": "2023-09-28T11:22:58.861Z"
   },
   {
    "duration": 357,
    "start_time": "2023-09-28T11:22:58.957Z"
   },
   {
    "duration": 4,
    "start_time": "2023-09-28T11:22:59.316Z"
   },
   {
    "duration": 273,
    "start_time": "2023-09-28T11:22:59.321Z"
   },
   {
    "duration": 4,
    "start_time": "2023-09-28T11:22:59.595Z"
   },
   {
    "duration": 281,
    "start_time": "2023-09-28T11:22:59.600Z"
   },
   {
    "duration": 3,
    "start_time": "2023-09-28T11:22:59.883Z"
   },
   {
    "duration": 312,
    "start_time": "2023-09-28T11:22:59.888Z"
   },
   {
    "duration": 286,
    "start_time": "2023-09-28T11:23:00.201Z"
   },
   {
    "duration": 4,
    "start_time": "2023-09-28T11:23:00.489Z"
   },
   {
    "duration": 336,
    "start_time": "2023-09-28T11:23:00.494Z"
   },
   {
    "duration": 359,
    "start_time": "2023-09-28T11:23:00.832Z"
   },
   {
    "duration": 281,
    "start_time": "2023-09-28T11:23:01.193Z"
   },
   {
    "duration": 164,
    "start_time": "2023-09-28T11:23:01.475Z"
   },
   {
    "duration": 176,
    "start_time": "2023-09-28T11:23:01.644Z"
   },
   {
    "duration": 163,
    "start_time": "2023-09-28T11:23:01.821Z"
   },
   {
    "duration": 223,
    "start_time": "2023-09-28T11:23:01.986Z"
   },
   {
    "duration": 241,
    "start_time": "2023-09-28T11:23:02.211Z"
   },
   {
    "duration": 243,
    "start_time": "2023-09-28T11:23:02.460Z"
   },
   {
    "duration": 157,
    "start_time": "2023-09-28T11:23:02.704Z"
   },
   {
    "duration": 159,
    "start_time": "2023-09-28T11:23:02.862Z"
   },
   {
    "duration": 336,
    "start_time": "2023-09-28T11:23:03.023Z"
   },
   {
    "duration": 3,
    "start_time": "2023-09-28T11:23:03.361Z"
   },
   {
    "duration": 7,
    "start_time": "2023-09-28T11:23:03.366Z"
   },
   {
    "duration": 212,
    "start_time": "2023-09-28T11:23:03.375Z"
   },
   {
    "duration": 391,
    "start_time": "2023-09-28T11:23:03.589Z"
   },
   {
    "duration": 10,
    "start_time": "2023-09-28T11:23:03.981Z"
   },
   {
    "duration": 435,
    "start_time": "2023-09-28T11:23:03.992Z"
   },
   {
    "duration": 16,
    "start_time": "2023-09-28T11:23:04.431Z"
   },
   {
    "duration": 116,
    "start_time": "2023-09-28T11:48:36.465Z"
   },
   {
    "duration": 1366,
    "start_time": "2023-09-28T11:48:44.839Z"
   },
   {
    "duration": 65,
    "start_time": "2023-09-28T11:48:46.206Z"
   },
   {
    "duration": 13,
    "start_time": "2023-09-28T11:48:46.273Z"
   },
   {
    "duration": 23,
    "start_time": "2023-09-28T11:48:46.288Z"
   },
   {
    "duration": 31,
    "start_time": "2023-09-28T11:48:46.312Z"
   },
   {
    "duration": 25,
    "start_time": "2023-09-28T11:48:46.355Z"
   },
   {
    "duration": 8,
    "start_time": "2023-09-28T11:48:46.382Z"
   },
   {
    "duration": 7,
    "start_time": "2023-09-28T11:48:46.391Z"
   },
   {
    "duration": 11,
    "start_time": "2023-09-28T11:48:46.399Z"
   },
   {
    "duration": 8,
    "start_time": "2023-09-28T11:48:46.412Z"
   },
   {
    "duration": 336,
    "start_time": "2023-09-28T11:48:46.444Z"
   },
   {
    "duration": 16,
    "start_time": "2023-09-28T11:48:46.782Z"
   },
   {
    "duration": 10,
    "start_time": "2023-09-28T11:48:46.799Z"
   },
   {
    "duration": 29,
    "start_time": "2023-09-28T11:48:46.811Z"
   },
   {
    "duration": 286,
    "start_time": "2023-09-28T11:48:46.842Z"
   },
   {
    "duration": 27,
    "start_time": "2023-09-28T11:48:47.130Z"
   },
   {
    "duration": 334,
    "start_time": "2023-09-28T11:48:47.159Z"
   },
   {
    "duration": 8,
    "start_time": "2023-09-28T11:48:47.495Z"
   },
   {
    "duration": 303,
    "start_time": "2023-09-28T11:48:47.504Z"
   },
   {
    "duration": 8,
    "start_time": "2023-09-28T11:48:47.809Z"
   },
   {
    "duration": 338,
    "start_time": "2023-09-28T11:48:47.819Z"
   },
   {
    "duration": 7,
    "start_time": "2023-09-28T11:48:48.159Z"
   },
   {
    "duration": 113,
    "start_time": "2023-09-28T11:48:48.168Z"
   },
   {
    "duration": 353,
    "start_time": "2023-09-28T11:48:48.282Z"
   },
   {
    "duration": 87,
    "start_time": "2023-09-28T11:48:48.637Z"
   },
   {
    "duration": 93,
    "start_time": "2023-09-28T11:48:48.725Z"
   },
   {
    "duration": 79,
    "start_time": "2023-09-28T11:48:48.819Z"
   },
   {
    "duration": 178,
    "start_time": "2023-09-28T11:48:48.901Z"
   },
   {
    "duration": 82,
    "start_time": "2023-09-28T11:48:49.080Z"
   },
   {
    "duration": 68,
    "start_time": "2023-09-28T11:48:49.163Z"
   },
   {
    "duration": 84,
    "start_time": "2023-09-28T11:48:49.248Z"
   },
   {
    "duration": 108,
    "start_time": "2023-09-28T11:48:49.334Z"
   },
   {
    "duration": 13,
    "start_time": "2023-09-28T11:48:49.447Z"
   },
   {
    "duration": 110,
    "start_time": "2023-09-28T11:48:49.462Z"
   },
   {
    "duration": 157,
    "start_time": "2023-09-28T11:48:49.574Z"
   },
   {
    "duration": 27,
    "start_time": "2023-09-28T11:48:49.733Z"
   },
   {
    "duration": 94,
    "start_time": "2023-09-28T11:48:49.763Z"
   },
   {
    "duration": 156,
    "start_time": "2023-09-28T11:48:49.860Z"
   },
   {
    "duration": 74,
    "start_time": "2023-09-28T11:48:50.018Z"
   },
   {
    "duration": 79,
    "start_time": "2023-09-28T11:48:50.094Z"
   },
   {
    "duration": 88,
    "start_time": "2023-09-28T11:48:50.174Z"
   },
   {
    "duration": 97,
    "start_time": "2023-09-28T11:48:50.264Z"
   },
   {
    "duration": 363,
    "start_time": "2023-09-28T11:48:50.363Z"
   },
   {
    "duration": 4,
    "start_time": "2023-09-28T11:48:50.727Z"
   },
   {
    "duration": 287,
    "start_time": "2023-09-28T11:48:50.732Z"
   },
   {
    "duration": 4,
    "start_time": "2023-09-28T11:48:51.021Z"
   },
   {
    "duration": 283,
    "start_time": "2023-09-28T11:48:51.026Z"
   },
   {
    "duration": 3,
    "start_time": "2023-09-28T11:48:51.311Z"
   },
   {
    "duration": 304,
    "start_time": "2023-09-28T11:48:51.316Z"
   },
   {
    "duration": 306,
    "start_time": "2023-09-28T11:48:51.621Z"
   },
   {
    "duration": 4,
    "start_time": "2023-09-28T11:48:51.929Z"
   },
   {
    "duration": 303,
    "start_time": "2023-09-28T11:48:51.934Z"
   },
   {
    "duration": 348,
    "start_time": "2023-09-28T11:48:52.244Z"
   },
   {
    "duration": 274,
    "start_time": "2023-09-28T11:48:52.594Z"
   },
   {
    "duration": 169,
    "start_time": "2023-09-28T11:48:52.869Z"
   },
   {
    "duration": 166,
    "start_time": "2023-09-28T11:48:53.044Z"
   },
   {
    "duration": 176,
    "start_time": "2023-09-28T11:48:53.212Z"
   },
   {
    "duration": 230,
    "start_time": "2023-09-28T11:48:53.389Z"
   },
   {
    "duration": 212,
    "start_time": "2023-09-28T11:48:53.620Z"
   },
   {
    "duration": 229,
    "start_time": "2023-09-28T11:48:53.834Z"
   },
   {
    "duration": 194,
    "start_time": "2023-09-28T11:48:54.065Z"
   },
   {
    "duration": 160,
    "start_time": "2023-09-28T11:48:54.261Z"
   },
   {
    "duration": 308,
    "start_time": "2023-09-28T11:48:54.423Z"
   },
   {
    "duration": 3,
    "start_time": "2023-09-28T11:48:54.733Z"
   },
   {
    "duration": 9,
    "start_time": "2023-09-28T11:48:54.751Z"
   },
   {
    "duration": 197,
    "start_time": "2023-09-28T11:48:54.762Z"
   },
   {
    "duration": 373,
    "start_time": "2023-09-28T11:48:54.961Z"
   },
   {
    "duration": 23,
    "start_time": "2023-09-28T11:48:55.336Z"
   },
   {
    "duration": 369,
    "start_time": "2023-09-28T11:48:55.361Z"
   },
   {
    "duration": 30,
    "start_time": "2023-09-28T11:48:55.732Z"
   },
   {
    "duration": 96,
    "start_time": "2023-09-28T11:59:08.994Z"
   },
   {
    "duration": 90,
    "start_time": "2023-09-28T11:59:22.834Z"
   },
   {
    "duration": 1398,
    "start_time": "2023-09-28T11:59:48.921Z"
   },
   {
    "duration": 55,
    "start_time": "2023-09-28T11:59:50.320Z"
   },
   {
    "duration": 12,
    "start_time": "2023-09-28T11:59:50.377Z"
   },
   {
    "duration": 25,
    "start_time": "2023-09-28T11:59:50.390Z"
   },
   {
    "duration": 25,
    "start_time": "2023-09-28T11:59:50.417Z"
   },
   {
    "duration": 40,
    "start_time": "2023-09-28T11:59:50.443Z"
   },
   {
    "duration": 8,
    "start_time": "2023-09-28T11:59:50.485Z"
   },
   {
    "duration": 8,
    "start_time": "2023-09-28T11:59:50.495Z"
   },
   {
    "duration": 15,
    "start_time": "2023-09-28T11:59:50.505Z"
   },
   {
    "duration": 9,
    "start_time": "2023-09-28T11:59:50.522Z"
   },
   {
    "duration": 333,
    "start_time": "2023-09-28T11:59:50.532Z"
   },
   {
    "duration": 16,
    "start_time": "2023-09-28T11:59:50.866Z"
   },
   {
    "duration": 16,
    "start_time": "2023-09-28T11:59:50.883Z"
   },
   {
    "duration": 10,
    "start_time": "2023-09-28T11:59:50.902Z"
   },
   {
    "duration": 290,
    "start_time": "2023-09-28T11:59:50.913Z"
   },
   {
    "duration": 7,
    "start_time": "2023-09-28T11:59:51.205Z"
   },
   {
    "duration": 364,
    "start_time": "2023-09-28T11:59:51.214Z"
   },
   {
    "duration": 8,
    "start_time": "2023-09-28T11:59:51.579Z"
   },
   {
    "duration": 330,
    "start_time": "2023-09-28T11:59:51.588Z"
   },
   {
    "duration": 8,
    "start_time": "2023-09-28T11:59:51.920Z"
   },
   {
    "duration": 334,
    "start_time": "2023-09-28T11:59:51.930Z"
   },
   {
    "duration": 8,
    "start_time": "2023-09-28T11:59:52.265Z"
   },
   {
    "duration": 138,
    "start_time": "2023-09-28T11:59:52.275Z"
   },
   {
    "duration": 348,
    "start_time": "2023-09-28T11:59:52.414Z"
   },
   {
    "duration": 70,
    "start_time": "2023-09-28T11:59:52.763Z"
   },
   {
    "duration": 77,
    "start_time": "2023-09-28T11:59:52.843Z"
   },
   {
    "duration": 81,
    "start_time": "2023-09-28T11:59:52.921Z"
   },
   {
    "duration": 173,
    "start_time": "2023-09-28T11:59:53.003Z"
   },
   {
    "duration": 78,
    "start_time": "2023-09-28T11:59:53.178Z"
   },
   {
    "duration": 67,
    "start_time": "2023-09-28T11:59:53.258Z"
   },
   {
    "duration": 88,
    "start_time": "2023-09-28T11:59:53.326Z"
   },
   {
    "duration": 95,
    "start_time": "2023-09-28T11:59:53.415Z"
   },
   {
    "duration": 8,
    "start_time": "2023-09-28T11:59:53.512Z"
   },
   {
    "duration": 114,
    "start_time": "2023-09-28T11:59:53.522Z"
   },
   {
    "duration": 154,
    "start_time": "2023-09-28T11:59:53.637Z"
   },
   {
    "duration": 7,
    "start_time": "2023-09-28T11:59:53.793Z"
   },
   {
    "duration": 115,
    "start_time": "2023-09-28T11:59:53.802Z"
   },
   {
    "duration": 178,
    "start_time": "2023-09-28T11:59:53.919Z"
   },
   {
    "duration": 91,
    "start_time": "2023-09-28T11:59:54.099Z"
   },
   {
    "duration": 96,
    "start_time": "2023-09-28T11:59:54.191Z"
   },
   {
    "duration": 90,
    "start_time": "2023-09-28T11:59:54.292Z"
   },
   {
    "duration": 93,
    "start_time": "2023-09-28T11:59:54.383Z"
   },
   {
    "duration": 356,
    "start_time": "2023-09-28T11:59:54.478Z"
   },
   {
    "duration": 4,
    "start_time": "2023-09-28T11:59:54.836Z"
   },
   {
    "duration": 290,
    "start_time": "2023-09-28T11:59:54.845Z"
   },
   {
    "duration": 10,
    "start_time": "2023-09-28T11:59:55.137Z"
   },
   {
    "duration": 274,
    "start_time": "2023-09-28T11:59:55.148Z"
   },
   {
    "duration": 4,
    "start_time": "2023-09-28T11:59:55.424Z"
   },
   {
    "duration": 294,
    "start_time": "2023-09-28T11:59:55.429Z"
   },
   {
    "duration": 281,
    "start_time": "2023-09-28T11:59:55.725Z"
   },
   {
    "duration": 4,
    "start_time": "2023-09-28T11:59:56.007Z"
   },
   {
    "duration": 348,
    "start_time": "2023-09-28T11:59:56.013Z"
   },
   {
    "duration": 364,
    "start_time": "2023-09-28T11:59:56.363Z"
   },
   {
    "duration": 282,
    "start_time": "2023-09-28T11:59:56.728Z"
   },
   {
    "duration": 177,
    "start_time": "2023-09-28T11:59:57.012Z"
   },
   {
    "duration": 168,
    "start_time": "2023-09-28T11:59:57.190Z"
   },
   {
    "duration": 171,
    "start_time": "2023-09-28T11:59:57.359Z"
   },
   {
    "duration": 225,
    "start_time": "2023-09-28T11:59:57.532Z"
   },
   {
    "duration": 208,
    "start_time": "2023-09-28T11:59:57.759Z"
   },
   {
    "duration": 215,
    "start_time": "2023-09-28T11:59:57.969Z"
   },
   {
    "duration": 145,
    "start_time": "2023-09-28T11:59:58.186Z"
   },
   {
    "duration": 150,
    "start_time": "2023-09-28T11:59:58.332Z"
   },
   {
    "duration": 311,
    "start_time": "2023-09-28T11:59:58.484Z"
   },
   {
    "duration": 4,
    "start_time": "2023-09-28T11:59:58.797Z"
   },
   {
    "duration": 14,
    "start_time": "2023-09-28T11:59:58.803Z"
   },
   {
    "duration": 203,
    "start_time": "2023-09-28T11:59:58.819Z"
   },
   {
    "duration": 413,
    "start_time": "2023-09-28T11:59:59.024Z"
   },
   {
    "duration": 12,
    "start_time": "2023-09-28T11:59:59.439Z"
   },
   {
    "duration": 387,
    "start_time": "2023-09-28T11:59:59.452Z"
   },
   {
    "duration": 120,
    "start_time": "2023-09-28T11:59:59.844Z"
   },
   {
    "duration": 41,
    "start_time": "2023-09-28T12:01:44.261Z"
   },
   {
    "duration": 35,
    "start_time": "2023-09-28T12:03:05.724Z"
   },
   {
    "duration": 31,
    "start_time": "2023-09-28T12:06:10.987Z"
   },
   {
    "duration": 1404,
    "start_time": "2023-09-28T12:07:02.297Z"
   },
   {
    "duration": 65,
    "start_time": "2023-09-28T12:07:03.703Z"
   },
   {
    "duration": 13,
    "start_time": "2023-09-28T12:07:03.769Z"
   },
   {
    "duration": 50,
    "start_time": "2023-09-28T12:07:03.784Z"
   },
   {
    "duration": 36,
    "start_time": "2023-09-28T12:07:03.836Z"
   },
   {
    "duration": 26,
    "start_time": "2023-09-28T12:07:03.874Z"
   },
   {
    "duration": 9,
    "start_time": "2023-09-28T12:07:03.902Z"
   },
   {
    "duration": 19,
    "start_time": "2023-09-28T12:07:03.914Z"
   },
   {
    "duration": 27,
    "start_time": "2023-09-28T12:07:03.944Z"
   },
   {
    "duration": 10,
    "start_time": "2023-09-28T12:07:03.972Z"
   },
   {
    "duration": 458,
    "start_time": "2023-09-28T12:07:03.983Z"
   },
   {
    "duration": 25,
    "start_time": "2023-09-28T12:07:04.445Z"
   },
   {
    "duration": 7,
    "start_time": "2023-09-28T12:07:04.472Z"
   },
   {
    "duration": 10,
    "start_time": "2023-09-28T12:07:04.482Z"
   },
   {
    "duration": 287,
    "start_time": "2023-09-28T12:07:04.493Z"
   },
   {
    "duration": 7,
    "start_time": "2023-09-28T12:07:04.782Z"
   },
   {
    "duration": 370,
    "start_time": "2023-09-28T12:07:04.790Z"
   },
   {
    "duration": 7,
    "start_time": "2023-09-28T12:07:05.162Z"
   },
   {
    "duration": 355,
    "start_time": "2023-09-28T12:07:05.171Z"
   },
   {
    "duration": 8,
    "start_time": "2023-09-28T12:07:05.527Z"
   },
   {
    "duration": 383,
    "start_time": "2023-09-28T12:07:05.536Z"
   },
   {
    "duration": 8,
    "start_time": "2023-09-28T12:07:05.920Z"
   },
   {
    "duration": 152,
    "start_time": "2023-09-28T12:07:05.929Z"
   },
   {
    "duration": 349,
    "start_time": "2023-09-28T12:07:06.083Z"
   },
   {
    "duration": 78,
    "start_time": "2023-09-28T12:07:06.433Z"
   },
   {
    "duration": 96,
    "start_time": "2023-09-28T12:07:06.512Z"
   },
   {
    "duration": 88,
    "start_time": "2023-09-28T12:07:06.609Z"
   },
   {
    "duration": 187,
    "start_time": "2023-09-28T12:07:06.699Z"
   },
   {
    "duration": 81,
    "start_time": "2023-09-28T12:07:06.887Z"
   },
   {
    "duration": 89,
    "start_time": "2023-09-28T12:07:06.970Z"
   },
   {
    "duration": 86,
    "start_time": "2023-09-28T12:07:07.062Z"
   },
   {
    "duration": 94,
    "start_time": "2023-09-28T12:07:07.150Z"
   },
   {
    "duration": 15,
    "start_time": "2023-09-28T12:07:07.247Z"
   },
   {
    "duration": 128,
    "start_time": "2023-09-28T12:07:07.264Z"
   },
   {
    "duration": 184,
    "start_time": "2023-09-28T12:07:07.394Z"
   },
   {
    "duration": 7,
    "start_time": "2023-09-28T12:07:07.580Z"
   },
   {
    "duration": 104,
    "start_time": "2023-09-28T12:07:07.588Z"
   },
   {
    "duration": 170,
    "start_time": "2023-09-28T12:07:07.693Z"
   },
   {
    "duration": 64,
    "start_time": "2023-09-28T12:07:07.865Z"
   },
   {
    "duration": 69,
    "start_time": "2023-09-28T12:07:07.943Z"
   },
   {
    "duration": 89,
    "start_time": "2023-09-28T12:07:08.017Z"
   },
   {
    "duration": 94,
    "start_time": "2023-09-28T12:07:08.108Z"
   },
   {
    "duration": 374,
    "start_time": "2023-09-28T12:07:08.204Z"
   },
   {
    "duration": 4,
    "start_time": "2023-09-28T12:07:08.580Z"
   },
   {
    "duration": 290,
    "start_time": "2023-09-28T12:07:08.586Z"
   },
   {
    "duration": 5,
    "start_time": "2023-09-28T12:07:08.877Z"
   },
   {
    "duration": 283,
    "start_time": "2023-09-28T12:07:08.883Z"
   },
   {
    "duration": 4,
    "start_time": "2023-09-28T12:07:09.168Z"
   },
   {
    "duration": 288,
    "start_time": "2023-09-28T12:07:09.174Z"
   },
   {
    "duration": 302,
    "start_time": "2023-09-28T12:07:09.464Z"
   },
   {
    "duration": 3,
    "start_time": "2023-09-28T12:07:09.768Z"
   },
   {
    "duration": 291,
    "start_time": "2023-09-28T12:07:09.773Z"
   },
   {
    "duration": 357,
    "start_time": "2023-09-28T12:07:10.066Z"
   },
   {
    "duration": 289,
    "start_time": "2023-09-28T12:07:10.424Z"
   },
   {
    "duration": 173,
    "start_time": "2023-09-28T12:07:10.714Z"
   },
   {
    "duration": 187,
    "start_time": "2023-09-28T12:07:10.889Z"
   },
   {
    "duration": 178,
    "start_time": "2023-09-28T12:07:11.078Z"
   },
   {
    "duration": 225,
    "start_time": "2023-09-28T12:07:11.258Z"
   },
   {
    "duration": 219,
    "start_time": "2023-09-28T12:07:11.484Z"
   },
   {
    "duration": 224,
    "start_time": "2023-09-28T12:07:11.704Z"
   },
   {
    "duration": 155,
    "start_time": "2023-09-28T12:07:11.930Z"
   },
   {
    "duration": 159,
    "start_time": "2023-09-28T12:07:12.086Z"
   },
   {
    "duration": 339,
    "start_time": "2023-09-28T12:07:12.247Z"
   },
   {
    "duration": 3,
    "start_time": "2023-09-28T12:07:12.587Z"
   },
   {
    "duration": 7,
    "start_time": "2023-09-28T12:07:12.592Z"
   },
   {
    "duration": 207,
    "start_time": "2023-09-28T12:07:12.600Z"
   },
   {
    "duration": 521,
    "start_time": "2023-09-28T12:07:12.809Z"
   },
   {
    "duration": 14,
    "start_time": "2023-09-28T12:07:13.332Z"
   },
   {
    "duration": 511,
    "start_time": "2023-09-28T12:07:13.347Z"
   },
   {
    "duration": 30,
    "start_time": "2023-09-28T12:07:13.863Z"
   },
   {
    "duration": 427,
    "start_time": "2023-09-28T12:10:43.884Z"
   },
   {
    "duration": 366,
    "start_time": "2023-09-28T12:11:03.256Z"
   },
   {
    "duration": 377,
    "start_time": "2023-09-28T12:11:15.086Z"
   },
   {
    "duration": 479,
    "start_time": "2023-09-28T12:11:37.784Z"
   },
   {
    "duration": 1373,
    "start_time": "2023-09-28T12:18:17.133Z"
   },
   {
    "duration": 55,
    "start_time": "2023-09-28T12:18:18.508Z"
   },
   {
    "duration": 13,
    "start_time": "2023-09-28T12:18:18.564Z"
   },
   {
    "duration": 35,
    "start_time": "2023-09-28T12:18:18.578Z"
   },
   {
    "duration": 24,
    "start_time": "2023-09-28T12:18:18.615Z"
   },
   {
    "duration": 22,
    "start_time": "2023-09-28T12:18:18.641Z"
   },
   {
    "duration": 8,
    "start_time": "2023-09-28T12:18:18.665Z"
   },
   {
    "duration": 12,
    "start_time": "2023-09-28T12:18:18.675Z"
   },
   {
    "duration": 12,
    "start_time": "2023-09-28T12:18:18.689Z"
   },
   {
    "duration": 9,
    "start_time": "2023-09-28T12:18:18.703Z"
   },
   {
    "duration": 342,
    "start_time": "2023-09-28T12:18:18.745Z"
   },
   {
    "duration": 17,
    "start_time": "2023-09-28T12:18:19.088Z"
   },
   {
    "duration": 7,
    "start_time": "2023-09-28T12:18:19.107Z"
   },
   {
    "duration": 31,
    "start_time": "2023-09-28T12:18:19.117Z"
   },
   {
    "duration": 312,
    "start_time": "2023-09-28T12:18:19.150Z"
   },
   {
    "duration": 10,
    "start_time": "2023-09-28T12:18:19.464Z"
   },
   {
    "duration": 364,
    "start_time": "2023-09-28T12:18:19.475Z"
   },
   {
    "duration": 8,
    "start_time": "2023-09-28T12:18:19.843Z"
   },
   {
    "duration": 329,
    "start_time": "2023-09-28T12:18:19.852Z"
   },
   {
    "duration": 9,
    "start_time": "2023-09-28T12:18:20.182Z"
   },
   {
    "duration": 358,
    "start_time": "2023-09-28T12:18:20.193Z"
   },
   {
    "duration": 8,
    "start_time": "2023-09-28T12:18:20.553Z"
   },
   {
    "duration": 115,
    "start_time": "2023-09-28T12:18:20.562Z"
   },
   {
    "duration": 322,
    "start_time": "2023-09-28T12:18:20.679Z"
   },
   {
    "duration": 88,
    "start_time": "2023-09-28T12:18:21.003Z"
   },
   {
    "duration": 83,
    "start_time": "2023-09-28T12:18:21.092Z"
   },
   {
    "duration": 155,
    "start_time": "2023-09-28T12:18:21.177Z"
   },
   {
    "duration": 80,
    "start_time": "2023-09-28T12:18:21.334Z"
   },
   {
    "duration": 80,
    "start_time": "2023-09-28T12:18:21.415Z"
   },
   {
    "duration": 79,
    "start_time": "2023-09-28T12:18:21.497Z"
   },
   {
    "duration": 84,
    "start_time": "2023-09-28T12:18:21.577Z"
   },
   {
    "duration": 86,
    "start_time": "2023-09-28T12:18:21.662Z"
   },
   {
    "duration": 7,
    "start_time": "2023-09-28T12:18:21.750Z"
   },
   {
    "duration": 115,
    "start_time": "2023-09-28T12:18:21.759Z"
   },
   {
    "duration": 154,
    "start_time": "2023-09-28T12:18:21.876Z"
   },
   {
    "duration": 16,
    "start_time": "2023-09-28T12:18:22.032Z"
   },
   {
    "duration": 100,
    "start_time": "2023-09-28T12:18:22.050Z"
   },
   {
    "duration": 158,
    "start_time": "2023-09-28T12:18:22.152Z"
   },
   {
    "duration": 79,
    "start_time": "2023-09-28T12:18:22.312Z"
   },
   {
    "duration": 71,
    "start_time": "2023-09-28T12:18:22.393Z"
   },
   {
    "duration": 79,
    "start_time": "2023-09-28T12:18:22.469Z"
   },
   {
    "duration": 94,
    "start_time": "2023-09-28T12:18:22.550Z"
   },
   {
    "duration": 348,
    "start_time": "2023-09-28T12:18:22.646Z"
   },
   {
    "duration": 4,
    "start_time": "2023-09-28T12:18:22.995Z"
   },
   {
    "duration": 311,
    "start_time": "2023-09-28T12:18:23.000Z"
   },
   {
    "duration": 3,
    "start_time": "2023-09-28T12:18:23.313Z"
   },
   {
    "duration": 282,
    "start_time": "2023-09-28T12:18:23.318Z"
   },
   {
    "duration": 6,
    "start_time": "2023-09-28T12:18:23.602Z"
   },
   {
    "duration": 324,
    "start_time": "2023-09-28T12:18:23.611Z"
   },
   {
    "duration": 402,
    "start_time": "2023-09-28T12:18:23.944Z"
   },
   {
    "duration": 6,
    "start_time": "2023-09-28T12:18:24.348Z"
   },
   {
    "duration": 409,
    "start_time": "2023-09-28T12:18:24.356Z"
   },
   {
    "duration": 270,
    "start_time": "2023-09-28T12:18:24.767Z"
   },
   {
    "duration": 261,
    "start_time": "2023-09-28T12:18:25.051Z"
   },
   {
    "duration": 163,
    "start_time": "2023-09-28T12:18:25.314Z"
   },
   {
    "duration": 157,
    "start_time": "2023-09-28T12:18:25.478Z"
   },
   {
    "duration": 176,
    "start_time": "2023-09-28T12:18:25.637Z"
   },
   {
    "duration": 203,
    "start_time": "2023-09-28T12:18:25.815Z"
   },
   {
    "duration": 205,
    "start_time": "2023-09-28T12:18:26.020Z"
   },
   {
    "duration": 223,
    "start_time": "2023-09-28T12:18:26.226Z"
   },
   {
    "duration": 141,
    "start_time": "2023-09-28T12:18:26.451Z"
   },
   {
    "duration": 230,
    "start_time": "2023-09-28T12:18:26.594Z"
   },
   {
    "duration": 220,
    "start_time": "2023-09-28T12:18:26.826Z"
   },
   {
    "duration": 3,
    "start_time": "2023-09-28T12:18:27.047Z"
   },
   {
    "duration": 13,
    "start_time": "2023-09-28T12:18:27.051Z"
   },
   {
    "duration": 188,
    "start_time": "2023-09-28T12:18:27.066Z"
   },
   {
    "duration": 373,
    "start_time": "2023-09-28T12:18:27.256Z"
   },
   {
    "duration": 18,
    "start_time": "2023-09-28T12:18:27.630Z"
   },
   {
    "duration": 366,
    "start_time": "2023-09-28T12:18:27.650Z"
   },
   {
    "duration": 38,
    "start_time": "2023-09-28T12:18:28.017Z"
   },
   {
    "duration": 354,
    "start_time": "2023-09-28T12:18:28.056Z"
   },
   {
    "duration": 113,
    "start_time": "2023-09-28T12:18:28.412Z"
   },
   {
    "duration": 12,
    "start_time": "2023-09-28T12:20:37.926Z"
   },
   {
    "duration": 4,
    "start_time": "2023-09-28T12:21:57.877Z"
   },
   {
    "duration": 1515,
    "start_time": "2023-09-28T12:22:57.169Z"
   },
   {
    "duration": 61,
    "start_time": "2023-09-28T12:22:58.687Z"
   },
   {
    "duration": 13,
    "start_time": "2023-09-28T12:22:58.750Z"
   },
   {
    "duration": 32,
    "start_time": "2023-09-28T12:22:58.764Z"
   },
   {
    "duration": 31,
    "start_time": "2023-09-28T12:22:58.798Z"
   },
   {
    "duration": 34,
    "start_time": "2023-09-28T12:22:58.830Z"
   },
   {
    "duration": 4,
    "start_time": "2023-09-28T12:22:58.866Z"
   },
   {
    "duration": 15,
    "start_time": "2023-09-28T12:22:58.872Z"
   },
   {
    "duration": 14,
    "start_time": "2023-09-28T12:22:58.889Z"
   },
   {
    "duration": 26,
    "start_time": "2023-09-28T12:22:58.905Z"
   },
   {
    "duration": 12,
    "start_time": "2023-09-28T12:22:58.943Z"
   },
   {
    "duration": 342,
    "start_time": "2023-09-28T12:22:58.957Z"
   },
   {
    "duration": 15,
    "start_time": "2023-09-28T12:22:59.301Z"
   },
   {
    "duration": 7,
    "start_time": "2023-09-28T12:22:59.319Z"
   },
   {
    "duration": 8,
    "start_time": "2023-09-28T12:22:59.344Z"
   },
   {
    "duration": 300,
    "start_time": "2023-09-28T12:22:59.353Z"
   },
   {
    "duration": 8,
    "start_time": "2023-09-28T12:22:59.655Z"
   },
   {
    "duration": 431,
    "start_time": "2023-09-28T12:22:59.664Z"
   },
   {
    "duration": 11,
    "start_time": "2023-09-28T12:23:00.097Z"
   },
   {
    "duration": 335,
    "start_time": "2023-09-28T12:23:00.111Z"
   },
   {
    "duration": 9,
    "start_time": "2023-09-28T12:23:00.448Z"
   },
   {
    "duration": 391,
    "start_time": "2023-09-28T12:23:00.459Z"
   },
   {
    "duration": 8,
    "start_time": "2023-09-28T12:23:00.852Z"
   },
   {
    "duration": 189,
    "start_time": "2023-09-28T12:23:00.862Z"
   },
   {
    "duration": 386,
    "start_time": "2023-09-28T12:23:01.053Z"
   },
   {
    "duration": 77,
    "start_time": "2023-09-28T12:23:01.440Z"
   },
   {
    "duration": 97,
    "start_time": "2023-09-28T12:23:01.518Z"
   },
   {
    "duration": 171,
    "start_time": "2023-09-28T12:23:01.617Z"
   },
   {
    "duration": 79,
    "start_time": "2023-09-28T12:23:01.790Z"
   },
   {
    "duration": 81,
    "start_time": "2023-09-28T12:23:01.870Z"
   },
   {
    "duration": 67,
    "start_time": "2023-09-28T12:23:01.953Z"
   },
   {
    "duration": 89,
    "start_time": "2023-09-28T12:23:02.022Z"
   },
   {
    "duration": 101,
    "start_time": "2023-09-28T12:23:02.113Z"
   },
   {
    "duration": 9,
    "start_time": "2023-09-28T12:23:02.216Z"
   },
   {
    "duration": 140,
    "start_time": "2023-09-28T12:23:02.228Z"
   },
   {
    "duration": 157,
    "start_time": "2023-09-28T12:23:02.370Z"
   },
   {
    "duration": 7,
    "start_time": "2023-09-28T12:23:02.529Z"
   },
   {
    "duration": 91,
    "start_time": "2023-09-28T12:23:02.544Z"
   },
   {
    "duration": 157,
    "start_time": "2023-09-28T12:23:02.636Z"
   },
   {
    "duration": 75,
    "start_time": "2023-09-28T12:23:02.794Z"
   },
   {
    "duration": 73,
    "start_time": "2023-09-28T12:23:02.873Z"
   },
   {
    "duration": 70,
    "start_time": "2023-09-28T12:23:02.948Z"
   },
   {
    "duration": 98,
    "start_time": "2023-09-28T12:23:03.019Z"
   },
   {
    "duration": 354,
    "start_time": "2023-09-28T12:23:03.118Z"
   },
   {
    "duration": 3,
    "start_time": "2023-09-28T12:23:03.474Z"
   },
   {
    "duration": 282,
    "start_time": "2023-09-28T12:23:03.479Z"
   },
   {
    "duration": 4,
    "start_time": "2023-09-28T12:23:03.763Z"
   },
   {
    "duration": 318,
    "start_time": "2023-09-28T12:23:03.768Z"
   },
   {
    "duration": 5,
    "start_time": "2023-09-28T12:23:04.088Z"
   },
   {
    "duration": 335,
    "start_time": "2023-09-28T12:23:04.097Z"
   },
   {
    "duration": 313,
    "start_time": "2023-09-28T12:23:04.434Z"
   },
   {
    "duration": 5,
    "start_time": "2023-09-28T12:23:04.749Z"
   },
   {
    "duration": 386,
    "start_time": "2023-09-28T12:23:04.756Z"
   },
   {
    "duration": 263,
    "start_time": "2023-09-28T12:23:05.144Z"
   },
   {
    "duration": 276,
    "start_time": "2023-09-28T12:23:05.409Z"
   },
   {
    "duration": 193,
    "start_time": "2023-09-28T12:23:05.687Z"
   },
   {
    "duration": 167,
    "start_time": "2023-09-28T12:23:05.882Z"
   },
   {
    "duration": 160,
    "start_time": "2023-09-28T12:23:06.050Z"
   },
   {
    "duration": 242,
    "start_time": "2023-09-28T12:23:06.212Z"
   },
   {
    "duration": 218,
    "start_time": "2023-09-28T12:23:06.456Z"
   },
   {
    "duration": 218,
    "start_time": "2023-09-28T12:23:06.676Z"
   },
   {
    "duration": 141,
    "start_time": "2023-09-28T12:23:06.895Z"
   },
   {
    "duration": 223,
    "start_time": "2023-09-28T12:23:07.043Z"
   },
   {
    "duration": 211,
    "start_time": "2023-09-28T12:23:07.268Z"
   },
   {
    "duration": 2,
    "start_time": "2023-09-28T12:23:07.481Z"
   },
   {
    "duration": 11,
    "start_time": "2023-09-28T12:23:07.485Z"
   },
   {
    "duration": 191,
    "start_time": "2023-09-28T12:23:07.497Z"
   },
   {
    "duration": 371,
    "start_time": "2023-09-28T12:23:07.690Z"
   },
   {
    "duration": 10,
    "start_time": "2023-09-28T12:23:08.063Z"
   },
   {
    "duration": 348,
    "start_time": "2023-09-28T12:23:08.074Z"
   },
   {
    "duration": 37,
    "start_time": "2023-09-28T12:23:08.424Z"
   },
   {
    "duration": 369,
    "start_time": "2023-09-28T12:23:08.462Z"
   },
   {
    "duration": 130,
    "start_time": "2023-09-28T12:23:08.833Z"
   },
   {
    "duration": 1414,
    "start_time": "2023-09-28T12:31:25.885Z"
   },
   {
    "duration": 57,
    "start_time": "2023-09-28T12:31:27.301Z"
   },
   {
    "duration": 12,
    "start_time": "2023-09-28T12:31:27.360Z"
   },
   {
    "duration": 35,
    "start_time": "2023-09-28T12:31:27.374Z"
   },
   {
    "duration": 23,
    "start_time": "2023-09-28T12:31:27.411Z"
   },
   {
    "duration": 35,
    "start_time": "2023-09-28T12:31:27.435Z"
   },
   {
    "duration": 8,
    "start_time": "2023-09-28T12:31:27.471Z"
   },
   {
    "duration": 14,
    "start_time": "2023-09-28T12:31:27.480Z"
   },
   {
    "duration": 15,
    "start_time": "2023-09-28T12:31:27.497Z"
   },
   {
    "duration": 10,
    "start_time": "2023-09-28T12:31:27.513Z"
   },
   {
    "duration": 345,
    "start_time": "2023-09-28T12:31:27.524Z"
   },
   {
    "duration": 16,
    "start_time": "2023-09-28T12:31:27.871Z"
   },
   {
    "duration": 16,
    "start_time": "2023-09-28T12:31:27.889Z"
   },
   {
    "duration": 21,
    "start_time": "2023-09-28T12:31:27.909Z"
   },
   {
    "duration": 270,
    "start_time": "2023-09-28T12:31:27.932Z"
   },
   {
    "duration": 7,
    "start_time": "2023-09-28T12:31:28.203Z"
   },
   {
    "duration": 398,
    "start_time": "2023-09-28T12:31:28.212Z"
   },
   {
    "duration": 9,
    "start_time": "2023-09-28T12:31:28.611Z"
   },
   {
    "duration": 356,
    "start_time": "2023-09-28T12:31:28.622Z"
   },
   {
    "duration": 7,
    "start_time": "2023-09-28T12:31:28.980Z"
   },
   {
    "duration": 414,
    "start_time": "2023-09-28T12:31:28.988Z"
   },
   {
    "duration": 9,
    "start_time": "2023-09-28T12:31:29.403Z"
   },
   {
    "duration": 120,
    "start_time": "2023-09-28T12:31:29.414Z"
   },
   {
    "duration": 357,
    "start_time": "2023-09-28T12:31:29.536Z"
   },
   {
    "duration": 91,
    "start_time": "2023-09-28T12:31:29.895Z"
   },
   {
    "duration": 100,
    "start_time": "2023-09-28T12:31:29.988Z"
   },
   {
    "duration": 186,
    "start_time": "2023-09-28T12:31:30.090Z"
   },
   {
    "duration": 185,
    "start_time": "2023-09-28T12:31:30.278Z"
   },
   {
    "duration": 83,
    "start_time": "2023-09-28T12:31:30.465Z"
   },
   {
    "duration": 90,
    "start_time": "2023-09-28T12:31:30.549Z"
   },
   {
    "duration": 86,
    "start_time": "2023-09-28T12:31:30.641Z"
   },
   {
    "duration": 93,
    "start_time": "2023-09-28T12:31:30.728Z"
   },
   {
    "duration": 8,
    "start_time": "2023-09-28T12:31:30.823Z"
   },
   {
    "duration": 123,
    "start_time": "2023-09-28T12:31:30.847Z"
   },
   {
    "duration": 163,
    "start_time": "2023-09-28T12:31:30.972Z"
   },
   {
    "duration": 21,
    "start_time": "2023-09-28T12:31:31.137Z"
   },
   {
    "duration": 111,
    "start_time": "2023-09-28T12:31:31.161Z"
   },
   {
    "duration": 154,
    "start_time": "2023-09-28T12:31:31.274Z"
   },
   {
    "duration": 82,
    "start_time": "2023-09-28T12:31:31.430Z"
   },
   {
    "duration": 87,
    "start_time": "2023-09-28T12:31:31.514Z"
   },
   {
    "duration": 92,
    "start_time": "2023-09-28T12:31:31.606Z"
   },
   {
    "duration": 111,
    "start_time": "2023-09-28T12:31:31.700Z"
   },
   {
    "duration": 385,
    "start_time": "2023-09-28T12:31:31.813Z"
   },
   {
    "duration": 5,
    "start_time": "2023-09-28T12:31:32.200Z"
   },
   {
    "duration": 373,
    "start_time": "2023-09-28T12:31:32.206Z"
   },
   {
    "duration": 5,
    "start_time": "2023-09-28T12:31:32.580Z"
   },
   {
    "duration": 321,
    "start_time": "2023-09-28T12:31:32.587Z"
   },
   {
    "duration": 5,
    "start_time": "2023-09-28T12:31:32.910Z"
   },
   {
    "duration": 361,
    "start_time": "2023-09-28T12:31:32.917Z"
   },
   {
    "duration": 299,
    "start_time": "2023-09-28T12:31:33.280Z"
   },
   {
    "duration": 7,
    "start_time": "2023-09-28T12:31:33.582Z"
   },
   {
    "duration": 464,
    "start_time": "2023-09-28T12:31:33.591Z"
   },
   {
    "duration": 310,
    "start_time": "2023-09-28T12:31:34.057Z"
   },
   {
    "duration": 313,
    "start_time": "2023-09-28T12:31:34.369Z"
   },
   {
    "duration": 175,
    "start_time": "2023-09-28T12:31:34.685Z"
   },
   {
    "duration": 280,
    "start_time": "2023-09-28T12:31:34.862Z"
   },
   {
    "duration": 174,
    "start_time": "2023-09-28T12:31:35.144Z"
   },
   {
    "duration": 240,
    "start_time": "2023-09-28T12:31:35.320Z"
   },
   {
    "duration": 203,
    "start_time": "2023-09-28T12:31:35.562Z"
   },
   {
    "duration": 216,
    "start_time": "2023-09-28T12:31:35.767Z"
   },
   {
    "duration": 146,
    "start_time": "2023-09-28T12:31:35.984Z"
   },
   {
    "duration": 255,
    "start_time": "2023-09-28T12:31:36.132Z"
   },
   {
    "duration": 289,
    "start_time": "2023-09-28T12:31:36.389Z"
   },
   {
    "duration": 4,
    "start_time": "2023-09-28T12:31:36.679Z"
   },
   {
    "duration": 6,
    "start_time": "2023-09-28T12:31:36.684Z"
   },
   {
    "duration": 225,
    "start_time": "2023-09-28T12:31:36.691Z"
   },
   {
    "duration": 428,
    "start_time": "2023-09-28T12:31:36.919Z"
   },
   {
    "duration": 13,
    "start_time": "2023-09-28T12:31:37.349Z"
   },
   {
    "duration": 366,
    "start_time": "2023-09-28T12:31:37.363Z"
   },
   {
    "duration": 89,
    "start_time": "2023-09-28T12:31:37.731Z"
   },
   {
    "duration": 0,
    "start_time": "2023-09-28T12:31:37.822Z"
   },
   {
    "duration": 0,
    "start_time": "2023-09-28T12:31:37.823Z"
   },
   {
    "duration": 94,
    "start_time": "2023-09-28T12:31:57.181Z"
   },
   {
    "duration": 49,
    "start_time": "2023-09-28T12:32:24.230Z"
   },
   {
    "duration": 347,
    "start_time": "2023-09-28T12:32:39.206Z"
   },
   {
    "duration": 93,
    "start_time": "2023-09-28T12:34:22.649Z"
   },
   {
    "duration": 30,
    "start_time": "2023-09-28T12:34:34.472Z"
   },
   {
    "duration": 26,
    "start_time": "2023-09-28T12:37:33.402Z"
   },
   {
    "duration": 29,
    "start_time": "2023-09-28T12:38:06.376Z"
   },
   {
    "duration": 28,
    "start_time": "2023-09-28T12:38:28.579Z"
   },
   {
    "duration": 134,
    "start_time": "2023-09-28T12:39:56.802Z"
   },
   {
    "duration": 10,
    "start_time": "2023-09-28T12:42:06.580Z"
   },
   {
    "duration": 1410,
    "start_time": "2023-09-28T12:43:06.218Z"
   },
   {
    "duration": 65,
    "start_time": "2023-09-28T12:43:07.630Z"
   },
   {
    "duration": 14,
    "start_time": "2023-09-28T12:43:07.697Z"
   },
   {
    "duration": 51,
    "start_time": "2023-09-28T12:43:07.713Z"
   },
   {
    "duration": 43,
    "start_time": "2023-09-28T12:43:07.768Z"
   },
   {
    "duration": 38,
    "start_time": "2023-09-28T12:43:07.813Z"
   },
   {
    "duration": 20,
    "start_time": "2023-09-28T12:43:07.853Z"
   },
   {
    "duration": 32,
    "start_time": "2023-09-28T12:43:07.875Z"
   },
   {
    "duration": 12,
    "start_time": "2023-09-28T12:43:07.908Z"
   },
   {
    "duration": 19,
    "start_time": "2023-09-28T12:43:07.922Z"
   },
   {
    "duration": 352,
    "start_time": "2023-09-28T12:43:07.943Z"
   },
   {
    "duration": 19,
    "start_time": "2023-09-28T12:43:08.297Z"
   },
   {
    "duration": 9,
    "start_time": "2023-09-28T12:43:08.318Z"
   },
   {
    "duration": 19,
    "start_time": "2023-09-28T12:43:08.348Z"
   },
   {
    "duration": 271,
    "start_time": "2023-09-28T12:43:08.369Z"
   },
   {
    "duration": 14,
    "start_time": "2023-09-28T12:43:08.644Z"
   },
   {
    "duration": 561,
    "start_time": "2023-09-28T12:43:08.660Z"
   },
   {
    "duration": 9,
    "start_time": "2023-09-28T12:43:09.223Z"
   },
   {
    "duration": 331,
    "start_time": "2023-09-28T12:43:09.233Z"
   },
   {
    "duration": 7,
    "start_time": "2023-09-28T12:43:09.566Z"
   },
   {
    "duration": 374,
    "start_time": "2023-09-28T12:43:09.575Z"
   },
   {
    "duration": 12,
    "start_time": "2023-09-28T12:43:09.955Z"
   },
   {
    "duration": 110,
    "start_time": "2023-09-28T12:43:09.968Z"
   },
   {
    "duration": 392,
    "start_time": "2023-09-28T12:43:10.080Z"
   },
   {
    "duration": 107,
    "start_time": "2023-09-28T12:43:10.474Z"
   },
   {
    "duration": 116,
    "start_time": "2023-09-28T12:43:10.583Z"
   },
   {
    "duration": 218,
    "start_time": "2023-09-28T12:43:10.701Z"
   },
   {
    "duration": 98,
    "start_time": "2023-09-28T12:43:10.921Z"
   },
   {
    "duration": 85,
    "start_time": "2023-09-28T12:43:11.021Z"
   },
   {
    "duration": 89,
    "start_time": "2023-09-28T12:43:11.108Z"
   },
   {
    "duration": 89,
    "start_time": "2023-09-28T12:43:11.199Z"
   },
   {
    "duration": 93,
    "start_time": "2023-09-28T12:43:11.290Z"
   },
   {
    "duration": 8,
    "start_time": "2023-09-28T12:43:11.385Z"
   },
   {
    "duration": 118,
    "start_time": "2023-09-28T12:43:11.395Z"
   },
   {
    "duration": 186,
    "start_time": "2023-09-28T12:43:11.515Z"
   },
   {
    "duration": 8,
    "start_time": "2023-09-28T12:43:11.703Z"
   },
   {
    "duration": 123,
    "start_time": "2023-09-28T12:43:11.713Z"
   },
   {
    "duration": 175,
    "start_time": "2023-09-28T12:43:11.838Z"
   },
   {
    "duration": 84,
    "start_time": "2023-09-28T12:43:12.015Z"
   },
   {
    "duration": 85,
    "start_time": "2023-09-28T12:43:12.101Z"
   },
   {
    "duration": 84,
    "start_time": "2023-09-28T12:43:12.191Z"
   },
   {
    "duration": 105,
    "start_time": "2023-09-28T12:43:12.277Z"
   },
   {
    "duration": 439,
    "start_time": "2023-09-28T12:43:12.383Z"
   },
   {
    "duration": 5,
    "start_time": "2023-09-28T12:43:12.824Z"
   },
   {
    "duration": 374,
    "start_time": "2023-09-28T12:43:12.831Z"
   },
   {
    "duration": 5,
    "start_time": "2023-09-28T12:43:13.207Z"
   },
   {
    "duration": 289,
    "start_time": "2023-09-28T12:43:13.214Z"
   },
   {
    "duration": 4,
    "start_time": "2023-09-28T12:43:13.505Z"
   },
   {
    "duration": 301,
    "start_time": "2023-09-28T12:43:13.511Z"
   },
   {
    "duration": 340,
    "start_time": "2023-09-28T12:43:13.814Z"
   },
   {
    "duration": 8,
    "start_time": "2023-09-28T12:43:14.156Z"
   },
   {
    "duration": 444,
    "start_time": "2023-09-28T12:43:14.166Z"
   },
   {
    "duration": 280,
    "start_time": "2023-09-28T12:43:14.612Z"
   },
   {
    "duration": 358,
    "start_time": "2023-09-28T12:43:14.894Z"
   },
   {
    "duration": 158,
    "start_time": "2023-09-28T12:43:15.260Z"
   },
   {
    "duration": 181,
    "start_time": "2023-09-28T12:43:15.420Z"
   },
   {
    "duration": 172,
    "start_time": "2023-09-28T12:43:15.603Z"
   },
   {
    "duration": 236,
    "start_time": "2023-09-28T12:43:15.776Z"
   },
   {
    "duration": 230,
    "start_time": "2023-09-28T12:43:16.014Z"
   },
   {
    "duration": 254,
    "start_time": "2023-09-28T12:43:16.245Z"
   },
   {
    "duration": 178,
    "start_time": "2023-09-28T12:43:16.501Z"
   },
   {
    "duration": 251,
    "start_time": "2023-09-28T12:43:16.682Z"
   },
   {
    "duration": 236,
    "start_time": "2023-09-28T12:43:16.935Z"
   },
   {
    "duration": 3,
    "start_time": "2023-09-28T12:43:17.173Z"
   },
   {
    "duration": 29,
    "start_time": "2023-09-28T12:43:17.178Z"
   },
   {
    "duration": 213,
    "start_time": "2023-09-28T12:43:17.209Z"
   },
   {
    "duration": 432,
    "start_time": "2023-09-28T12:43:17.424Z"
   },
   {
    "duration": 10,
    "start_time": "2023-09-28T12:43:17.862Z"
   },
   {
    "duration": 387,
    "start_time": "2023-09-28T12:43:17.873Z"
   },
   {
    "duration": 33,
    "start_time": "2023-09-28T12:43:18.262Z"
   },
   {
    "duration": 395,
    "start_time": "2023-09-28T12:43:18.297Z"
   },
   {
    "duration": 10,
    "start_time": "2023-09-28T12:43:18.694Z"
   },
   {
    "duration": 11,
    "start_time": "2023-09-28T12:43:18.705Z"
   },
   {
    "duration": 20,
    "start_time": "2023-09-28T12:43:18.717Z"
   },
   {
    "duration": 138,
    "start_time": "2023-09-28T12:43:18.744Z"
   },
   {
    "duration": 12,
    "start_time": "2023-09-28T12:45:31.300Z"
   },
   {
    "duration": 21,
    "start_time": "2023-09-28T12:45:50.258Z"
   },
   {
    "duration": 1433,
    "start_time": "2023-09-28T13:00:16.798Z"
   },
   {
    "duration": 71,
    "start_time": "2023-09-28T13:00:18.232Z"
   },
   {
    "duration": 12,
    "start_time": "2023-09-28T13:00:18.305Z"
   },
   {
    "duration": 23,
    "start_time": "2023-09-28T13:00:18.319Z"
   },
   {
    "duration": 29,
    "start_time": "2023-09-28T13:00:18.347Z"
   },
   {
    "duration": 29,
    "start_time": "2023-09-28T13:00:18.378Z"
   },
   {
    "duration": 8,
    "start_time": "2023-09-28T13:00:18.409Z"
   },
   {
    "duration": 8,
    "start_time": "2023-09-28T13:00:18.418Z"
   },
   {
    "duration": 20,
    "start_time": "2023-09-28T13:00:18.444Z"
   },
   {
    "duration": 10,
    "start_time": "2023-09-28T13:00:18.467Z"
   },
   {
    "duration": 379,
    "start_time": "2023-09-28T13:00:18.478Z"
   },
   {
    "duration": 19,
    "start_time": "2023-09-28T13:00:18.861Z"
   },
   {
    "duration": 9,
    "start_time": "2023-09-28T13:00:18.882Z"
   },
   {
    "duration": 11,
    "start_time": "2023-09-28T13:00:18.893Z"
   },
   {
    "duration": 329,
    "start_time": "2023-09-28T13:00:18.906Z"
   },
   {
    "duration": 20,
    "start_time": "2023-09-28T13:00:19.237Z"
   },
   {
    "duration": 359,
    "start_time": "2023-09-28T13:00:19.260Z"
   },
   {
    "duration": 8,
    "start_time": "2023-09-28T13:00:19.621Z"
   },
   {
    "duration": 330,
    "start_time": "2023-09-28T13:00:19.631Z"
   },
   {
    "duration": 7,
    "start_time": "2023-09-28T13:00:19.963Z"
   },
   {
    "duration": 343,
    "start_time": "2023-09-28T13:00:19.972Z"
   },
   {
    "duration": 9,
    "start_time": "2023-09-28T13:00:20.317Z"
   },
   {
    "duration": 123,
    "start_time": "2023-09-28T13:00:20.327Z"
   },
   {
    "duration": 329,
    "start_time": "2023-09-28T13:00:20.455Z"
   },
   {
    "duration": 81,
    "start_time": "2023-09-28T13:00:20.785Z"
   },
   {
    "duration": 86,
    "start_time": "2023-09-28T13:00:20.868Z"
   },
   {
    "duration": 160,
    "start_time": "2023-09-28T13:00:20.955Z"
   },
   {
    "duration": 113,
    "start_time": "2023-09-28T13:00:21.120Z"
   },
   {
    "duration": 75,
    "start_time": "2023-09-28T13:00:21.235Z"
   },
   {
    "duration": 78,
    "start_time": "2023-09-28T13:00:21.311Z"
   },
   {
    "duration": 90,
    "start_time": "2023-09-28T13:00:21.391Z"
   },
   {
    "duration": 92,
    "start_time": "2023-09-28T13:00:21.482Z"
   },
   {
    "duration": 8,
    "start_time": "2023-09-28T13:00:21.576Z"
   },
   {
    "duration": 117,
    "start_time": "2023-09-28T13:00:21.586Z"
   },
   {
    "duration": 155,
    "start_time": "2023-09-28T13:00:21.705Z"
   },
   {
    "duration": 8,
    "start_time": "2023-09-28T13:00:21.862Z"
   },
   {
    "duration": 98,
    "start_time": "2023-09-28T13:00:21.871Z"
   },
   {
    "duration": 151,
    "start_time": "2023-09-28T13:00:21.971Z"
   },
   {
    "duration": 75,
    "start_time": "2023-09-28T13:00:22.123Z"
   },
   {
    "duration": 81,
    "start_time": "2023-09-28T13:00:22.199Z"
   },
   {
    "duration": 77,
    "start_time": "2023-09-28T13:00:22.281Z"
   },
   {
    "duration": 91,
    "start_time": "2023-09-28T13:00:22.362Z"
   },
   {
    "duration": 360,
    "start_time": "2023-09-28T13:00:22.455Z"
   },
   {
    "duration": 5,
    "start_time": "2023-09-28T13:00:22.817Z"
   },
   {
    "duration": 291,
    "start_time": "2023-09-28T13:00:22.823Z"
   },
   {
    "duration": 4,
    "start_time": "2023-09-28T13:00:23.116Z"
   },
   {
    "duration": 283,
    "start_time": "2023-09-28T13:00:23.121Z"
   },
   {
    "duration": 4,
    "start_time": "2023-09-28T13:00:23.406Z"
   },
   {
    "duration": 310,
    "start_time": "2023-09-28T13:00:23.412Z"
   },
   {
    "duration": 331,
    "start_time": "2023-09-28T13:00:23.724Z"
   },
   {
    "duration": 9,
    "start_time": "2023-09-28T13:00:24.057Z"
   },
   {
    "duration": 463,
    "start_time": "2023-09-28T13:00:24.068Z"
   },
   {
    "duration": 262,
    "start_time": "2023-09-28T13:00:24.532Z"
   },
   {
    "duration": 304,
    "start_time": "2023-09-28T13:00:24.797Z"
   },
   {
    "duration": 177,
    "start_time": "2023-09-28T13:00:25.103Z"
   },
   {
    "duration": 172,
    "start_time": "2023-09-28T13:00:25.281Z"
   },
   {
    "duration": 153,
    "start_time": "2023-09-28T13:00:25.459Z"
   },
   {
    "duration": 225,
    "start_time": "2023-09-28T13:00:25.614Z"
   },
   {
    "duration": 220,
    "start_time": "2023-09-28T13:00:25.840Z"
   },
   {
    "duration": 234,
    "start_time": "2023-09-28T13:00:26.062Z"
   },
   {
    "duration": 162,
    "start_time": "2023-09-28T13:00:26.297Z"
   },
   {
    "duration": 242,
    "start_time": "2023-09-28T13:00:26.460Z"
   },
   {
    "duration": 221,
    "start_time": "2023-09-28T13:00:26.704Z"
   },
   {
    "duration": 3,
    "start_time": "2023-09-28T13:00:26.927Z"
   },
   {
    "duration": 41,
    "start_time": "2023-09-28T13:00:26.931Z"
   },
   {
    "duration": 213,
    "start_time": "2023-09-28T13:00:26.973Z"
   },
   {
    "duration": 386,
    "start_time": "2023-09-28T13:00:27.187Z"
   },
   {
    "duration": 12,
    "start_time": "2023-09-28T13:00:27.576Z"
   },
   {
    "duration": 432,
    "start_time": "2023-09-28T13:00:27.590Z"
   },
   {
    "duration": 7,
    "start_time": "2023-09-28T13:00:28.023Z"
   },
   {
    "duration": 19,
    "start_time": "2023-09-28T13:00:28.032Z"
   },
   {
    "duration": 32,
    "start_time": "2023-09-28T13:00:28.053Z"
   },
   {
    "duration": 18,
    "start_time": "2023-09-28T13:00:28.086Z"
   },
   {
    "duration": 384,
    "start_time": "2023-09-28T13:00:28.105Z"
   },
   {
    "duration": 10,
    "start_time": "2023-09-28T13:00:28.491Z"
   },
   {
    "duration": 10,
    "start_time": "2023-09-28T13:00:28.503Z"
   },
   {
    "duration": 37,
    "start_time": "2023-09-28T13:00:28.515Z"
   },
   {
    "duration": 12,
    "start_time": "2023-09-28T13:00:28.560Z"
   },
   {
    "duration": 118,
    "start_time": "2023-09-28T13:00:28.574Z"
   },
   {
    "duration": 15,
    "start_time": "2023-09-28T13:05:16.283Z"
   },
   {
    "duration": 9,
    "start_time": "2023-09-28T13:05:35.081Z"
   },
   {
    "duration": 1518,
    "start_time": "2023-09-28T13:08:17.762Z"
   },
   {
    "duration": 55,
    "start_time": "2023-09-28T13:08:19.282Z"
   },
   {
    "duration": 16,
    "start_time": "2023-09-28T13:08:19.338Z"
   },
   {
    "duration": 25,
    "start_time": "2023-09-28T13:08:19.358Z"
   },
   {
    "duration": 37,
    "start_time": "2023-09-28T13:08:19.384Z"
   },
   {
    "duration": 34,
    "start_time": "2023-09-28T13:08:19.422Z"
   },
   {
    "duration": 9,
    "start_time": "2023-09-28T13:08:19.458Z"
   },
   {
    "duration": 8,
    "start_time": "2023-09-28T13:08:19.469Z"
   },
   {
    "duration": 8,
    "start_time": "2023-09-28T13:08:19.479Z"
   },
   {
    "duration": 12,
    "start_time": "2023-09-28T13:08:19.491Z"
   },
   {
    "duration": 55,
    "start_time": "2023-09-28T13:08:19.505Z"
   },
   {
    "duration": 354,
    "start_time": "2023-09-28T13:08:19.562Z"
   },
   {
    "duration": 15,
    "start_time": "2023-09-28T13:08:19.918Z"
   },
   {
    "duration": 29,
    "start_time": "2023-09-28T13:08:19.935Z"
   },
   {
    "duration": 14,
    "start_time": "2023-09-28T13:08:19.965Z"
   },
   {
    "duration": 281,
    "start_time": "2023-09-28T13:08:19.981Z"
   },
   {
    "duration": 8,
    "start_time": "2023-09-28T13:08:20.264Z"
   },
   {
    "duration": 384,
    "start_time": "2023-09-28T13:08:20.273Z"
   },
   {
    "duration": 7,
    "start_time": "2023-09-28T13:08:20.660Z"
   },
   {
    "duration": 355,
    "start_time": "2023-09-28T13:08:20.669Z"
   },
   {
    "duration": 9,
    "start_time": "2023-09-28T13:08:21.026Z"
   },
   {
    "duration": 338,
    "start_time": "2023-09-28T13:08:21.037Z"
   },
   {
    "duration": 8,
    "start_time": "2023-09-28T13:08:21.377Z"
   },
   {
    "duration": 133,
    "start_time": "2023-09-28T13:08:21.386Z"
   },
   {
    "duration": 351,
    "start_time": "2023-09-28T13:08:21.521Z"
   },
   {
    "duration": 89,
    "start_time": "2023-09-28T13:08:21.874Z"
   },
   {
    "duration": 84,
    "start_time": "2023-09-28T13:08:21.965Z"
   },
   {
    "duration": 165,
    "start_time": "2023-09-28T13:08:22.058Z"
   },
   {
    "duration": 86,
    "start_time": "2023-09-28T13:08:22.225Z"
   },
   {
    "duration": 88,
    "start_time": "2023-09-28T13:08:22.312Z"
   },
   {
    "duration": 78,
    "start_time": "2023-09-28T13:08:22.402Z"
   },
   {
    "duration": 82,
    "start_time": "2023-09-28T13:08:22.482Z"
   },
   {
    "duration": 98,
    "start_time": "2023-09-28T13:08:22.566Z"
   },
   {
    "duration": 8,
    "start_time": "2023-09-28T13:08:22.665Z"
   },
   {
    "duration": 119,
    "start_time": "2023-09-28T13:08:22.674Z"
   },
   {
    "duration": 168,
    "start_time": "2023-09-28T13:08:22.794Z"
   },
   {
    "duration": 8,
    "start_time": "2023-09-28T13:08:22.963Z"
   },
   {
    "duration": 108,
    "start_time": "2023-09-28T13:08:22.972Z"
   },
   {
    "duration": 171,
    "start_time": "2023-09-28T13:08:23.082Z"
   },
   {
    "duration": 65,
    "start_time": "2023-09-28T13:08:23.257Z"
   },
   {
    "duration": 82,
    "start_time": "2023-09-28T13:08:23.324Z"
   },
   {
    "duration": 85,
    "start_time": "2023-09-28T13:08:23.407Z"
   },
   {
    "duration": 93,
    "start_time": "2023-09-28T13:08:23.494Z"
   },
   {
    "duration": 375,
    "start_time": "2023-09-28T13:08:23.588Z"
   },
   {
    "duration": 4,
    "start_time": "2023-09-28T13:08:23.964Z"
   },
   {
    "duration": 370,
    "start_time": "2023-09-28T13:08:23.970Z"
   },
   {
    "duration": 19,
    "start_time": "2023-09-28T13:08:24.344Z"
   },
   {
    "duration": 259,
    "start_time": "2023-09-28T13:08:24.365Z"
   },
   {
    "duration": 4,
    "start_time": "2023-09-28T13:08:24.626Z"
   },
   {
    "duration": 288,
    "start_time": "2023-09-28T13:08:24.631Z"
   },
   {
    "duration": 309,
    "start_time": "2023-09-28T13:08:24.920Z"
   },
   {
    "duration": 19,
    "start_time": "2023-09-28T13:08:25.231Z"
   },
   {
    "duration": 356,
    "start_time": "2023-09-28T13:08:25.252Z"
   },
   {
    "duration": 265,
    "start_time": "2023-09-28T13:08:25.610Z"
   },
   {
    "duration": 293,
    "start_time": "2023-09-28T13:08:25.877Z"
   },
   {
    "duration": 188,
    "start_time": "2023-09-28T13:08:26.171Z"
   },
   {
    "duration": 176,
    "start_time": "2023-09-28T13:08:26.361Z"
   },
   {
    "duration": 167,
    "start_time": "2023-09-28T13:08:26.539Z"
   },
   {
    "duration": 236,
    "start_time": "2023-09-28T13:08:26.708Z"
   },
   {
    "duration": 226,
    "start_time": "2023-09-28T13:08:26.946Z"
   },
   {
    "duration": 229,
    "start_time": "2023-09-28T13:08:27.174Z"
   },
   {
    "duration": 156,
    "start_time": "2023-09-28T13:08:27.405Z"
   },
   {
    "duration": 240,
    "start_time": "2023-09-28T13:08:27.563Z"
   },
   {
    "duration": 230,
    "start_time": "2023-09-28T13:08:27.805Z"
   },
   {
    "duration": 11,
    "start_time": "2023-09-28T13:08:28.045Z"
   },
   {
    "duration": 5,
    "start_time": "2023-09-28T13:08:28.059Z"
   },
   {
    "duration": 199,
    "start_time": "2023-09-28T13:08:28.065Z"
   },
   {
    "duration": 401,
    "start_time": "2023-09-28T13:08:28.266Z"
   },
   {
    "duration": 10,
    "start_time": "2023-09-28T13:08:28.668Z"
   },
   {
    "duration": 375,
    "start_time": "2023-09-28T13:08:28.679Z"
   },
   {
    "duration": 10,
    "start_time": "2023-09-28T13:08:29.056Z"
   },
   {
    "duration": 11,
    "start_time": "2023-09-28T13:08:29.067Z"
   },
   {
    "duration": 18,
    "start_time": "2023-09-28T13:08:29.080Z"
   },
   {
    "duration": 10,
    "start_time": "2023-09-28T13:08:29.100Z"
   },
   {
    "duration": 418,
    "start_time": "2023-09-28T13:08:29.111Z"
   },
   {
    "duration": 20,
    "start_time": "2023-09-28T13:08:29.530Z"
   },
   {
    "duration": 15,
    "start_time": "2023-09-28T13:08:29.556Z"
   },
   {
    "duration": 13,
    "start_time": "2023-09-28T13:08:29.573Z"
   },
   {
    "duration": 11,
    "start_time": "2023-09-28T13:08:29.588Z"
   },
   {
    "duration": 131,
    "start_time": "2023-09-28T13:08:29.601Z"
   },
   {
    "duration": 15,
    "start_time": "2023-09-28T13:11:55.752Z"
   },
   {
    "duration": 1521,
    "start_time": "2023-09-28T13:12:24.740Z"
   },
   {
    "duration": 58,
    "start_time": "2023-09-28T13:12:26.264Z"
   },
   {
    "duration": 15,
    "start_time": "2023-09-28T13:12:26.323Z"
   },
   {
    "duration": 30,
    "start_time": "2023-09-28T13:12:26.340Z"
   },
   {
    "duration": 25,
    "start_time": "2023-09-28T13:12:26.372Z"
   },
   {
    "duration": 24,
    "start_time": "2023-09-28T13:12:26.399Z"
   },
   {
    "duration": 35,
    "start_time": "2023-09-28T13:12:26.425Z"
   },
   {
    "duration": 10,
    "start_time": "2023-09-28T13:12:26.462Z"
   },
   {
    "duration": 8,
    "start_time": "2023-09-28T13:12:26.474Z"
   },
   {
    "duration": 13,
    "start_time": "2023-09-28T13:12:26.483Z"
   },
   {
    "duration": 9,
    "start_time": "2023-09-28T13:12:26.498Z"
   },
   {
    "duration": 402,
    "start_time": "2023-09-28T13:12:26.509Z"
   },
   {
    "duration": 16,
    "start_time": "2023-09-28T13:12:26.913Z"
   },
   {
    "duration": 17,
    "start_time": "2023-09-28T13:12:26.945Z"
   },
   {
    "duration": 12,
    "start_time": "2023-09-28T13:12:26.965Z"
   },
   {
    "duration": 318,
    "start_time": "2023-09-28T13:12:26.979Z"
   },
   {
    "duration": 8,
    "start_time": "2023-09-28T13:12:27.299Z"
   },
   {
    "duration": 395,
    "start_time": "2023-09-28T13:12:27.308Z"
   },
   {
    "duration": 8,
    "start_time": "2023-09-28T13:12:27.705Z"
   },
   {
    "duration": 344,
    "start_time": "2023-09-28T13:12:27.715Z"
   },
   {
    "duration": 8,
    "start_time": "2023-09-28T13:12:28.061Z"
   },
   {
    "duration": 373,
    "start_time": "2023-09-28T13:12:28.070Z"
   },
   {
    "duration": 17,
    "start_time": "2023-09-28T13:12:28.445Z"
   },
   {
    "duration": 105,
    "start_time": "2023-09-28T13:12:28.463Z"
   },
   {
    "duration": 331,
    "start_time": "2023-09-28T13:12:28.570Z"
   },
   {
    "duration": 81,
    "start_time": "2023-09-28T13:12:28.903Z"
   },
   {
    "duration": 91,
    "start_time": "2023-09-28T13:12:28.985Z"
   },
   {
    "duration": 155,
    "start_time": "2023-09-28T13:12:29.078Z"
   },
   {
    "duration": 81,
    "start_time": "2023-09-28T13:12:29.234Z"
   },
   {
    "duration": 80,
    "start_time": "2023-09-28T13:12:29.316Z"
   },
   {
    "duration": 75,
    "start_time": "2023-09-28T13:12:29.398Z"
   },
   {
    "duration": 83,
    "start_time": "2023-09-28T13:12:29.474Z"
   },
   {
    "duration": 101,
    "start_time": "2023-09-28T13:12:29.558Z"
   },
   {
    "duration": 7,
    "start_time": "2023-09-28T13:12:29.661Z"
   },
   {
    "duration": 97,
    "start_time": "2023-09-28T13:12:29.670Z"
   },
   {
    "duration": 145,
    "start_time": "2023-09-28T13:12:29.768Z"
   },
   {
    "duration": 7,
    "start_time": "2023-09-28T13:12:29.914Z"
   },
   {
    "duration": 109,
    "start_time": "2023-09-28T13:12:29.923Z"
   },
   {
    "duration": 158,
    "start_time": "2023-09-28T13:12:30.034Z"
   },
   {
    "duration": 76,
    "start_time": "2023-09-28T13:12:30.194Z"
   },
   {
    "duration": 85,
    "start_time": "2023-09-28T13:12:30.274Z"
   },
   {
    "duration": 66,
    "start_time": "2023-09-28T13:12:30.361Z"
   },
   {
    "duration": 87,
    "start_time": "2023-09-28T13:12:30.428Z"
   },
   {
    "duration": 381,
    "start_time": "2023-09-28T13:12:30.517Z"
   },
   {
    "duration": 4,
    "start_time": "2023-09-28T13:12:30.899Z"
   },
   {
    "duration": 319,
    "start_time": "2023-09-28T13:12:30.904Z"
   },
   {
    "duration": 3,
    "start_time": "2023-09-28T13:12:31.226Z"
   },
   {
    "duration": 317,
    "start_time": "2023-09-28T13:12:31.231Z"
   },
   {
    "duration": 11,
    "start_time": "2023-09-28T13:12:31.550Z"
   },
   {
    "duration": 299,
    "start_time": "2023-09-28T13:12:31.562Z"
   },
   {
    "duration": 301,
    "start_time": "2023-09-28T13:12:31.862Z"
   },
   {
    "duration": 4,
    "start_time": "2023-09-28T13:12:32.164Z"
   },
   {
    "duration": 666,
    "start_time": "2023-09-28T13:12:32.169Z"
   },
   {
    "duration": 267,
    "start_time": "2023-09-28T13:12:32.836Z"
   },
   {
    "duration": 279,
    "start_time": "2023-09-28T13:12:33.104Z"
   },
   {
    "duration": 173,
    "start_time": "2023-09-28T13:12:33.385Z"
   },
   {
    "duration": 161,
    "start_time": "2023-09-28T13:12:33.559Z"
   },
   {
    "duration": 187,
    "start_time": "2023-09-28T13:12:33.722Z"
   },
   {
    "duration": 271,
    "start_time": "2023-09-28T13:12:33.911Z"
   },
   {
    "duration": 241,
    "start_time": "2023-09-28T13:12:34.184Z"
   },
   {
    "duration": 233,
    "start_time": "2023-09-28T13:12:34.427Z"
   },
   {
    "duration": 150,
    "start_time": "2023-09-28T13:12:34.662Z"
   },
   {
    "duration": 249,
    "start_time": "2023-09-28T13:12:34.814Z"
   },
   {
    "duration": 233,
    "start_time": "2023-09-28T13:12:35.065Z"
   },
   {
    "duration": 3,
    "start_time": "2023-09-28T13:12:35.299Z"
   },
   {
    "duration": 24,
    "start_time": "2023-09-28T13:12:35.303Z"
   },
   {
    "duration": 194,
    "start_time": "2023-09-28T13:12:35.329Z"
   },
   {
    "duration": 407,
    "start_time": "2023-09-28T13:12:35.524Z"
   },
   {
    "duration": 25,
    "start_time": "2023-09-28T13:12:35.932Z"
   },
   {
    "duration": 403,
    "start_time": "2023-09-28T13:12:35.958Z"
   },
   {
    "duration": 9,
    "start_time": "2023-09-28T13:12:36.363Z"
   },
   {
    "duration": 14,
    "start_time": "2023-09-28T13:12:36.373Z"
   },
   {
    "duration": 18,
    "start_time": "2023-09-28T13:12:36.388Z"
   },
   {
    "duration": 11,
    "start_time": "2023-09-28T13:12:36.408Z"
   },
   {
    "duration": 398,
    "start_time": "2023-09-28T13:12:36.443Z"
   },
   {
    "duration": 20,
    "start_time": "2023-09-28T13:12:36.844Z"
   },
   {
    "duration": 11,
    "start_time": "2023-09-28T13:12:36.866Z"
   },
   {
    "duration": 11,
    "start_time": "2023-09-28T13:12:36.879Z"
   },
   {
    "duration": 13,
    "start_time": "2023-09-28T13:12:36.892Z"
   },
   {
    "duration": 143,
    "start_time": "2023-09-28T13:12:36.906Z"
   },
   {
    "duration": 1710,
    "start_time": "2023-09-28T13:14:21.391Z"
   },
   {
    "duration": 61,
    "start_time": "2023-09-28T13:14:23.103Z"
   },
   {
    "duration": 18,
    "start_time": "2023-09-28T13:14:23.166Z"
   },
   {
    "duration": 39,
    "start_time": "2023-09-28T13:14:23.187Z"
   },
   {
    "duration": 29,
    "start_time": "2023-09-28T13:14:23.227Z"
   },
   {
    "duration": 32,
    "start_time": "2023-09-28T13:14:23.257Z"
   },
   {
    "duration": 8,
    "start_time": "2023-09-28T13:14:23.291Z"
   },
   {
    "duration": 15,
    "start_time": "2023-09-28T13:14:23.301Z"
   },
   {
    "duration": 9,
    "start_time": "2023-09-28T13:14:23.317Z"
   },
   {
    "duration": 33,
    "start_time": "2023-09-28T13:14:23.329Z"
   },
   {
    "duration": 11,
    "start_time": "2023-09-28T13:14:23.364Z"
   },
   {
    "duration": 367,
    "start_time": "2023-09-28T13:14:23.377Z"
   },
   {
    "duration": 25,
    "start_time": "2023-09-28T13:14:23.748Z"
   },
   {
    "duration": 17,
    "start_time": "2023-09-28T13:14:23.774Z"
   },
   {
    "duration": 23,
    "start_time": "2023-09-28T13:14:23.793Z"
   },
   {
    "duration": 342,
    "start_time": "2023-09-28T13:14:23.818Z"
   },
   {
    "duration": 10,
    "start_time": "2023-09-28T13:14:24.162Z"
   },
   {
    "duration": 425,
    "start_time": "2023-09-28T13:14:24.174Z"
   },
   {
    "duration": 9,
    "start_time": "2023-09-28T13:14:24.600Z"
   },
   {
    "duration": 381,
    "start_time": "2023-09-28T13:14:24.611Z"
   },
   {
    "duration": 10,
    "start_time": "2023-09-28T13:14:24.994Z"
   },
   {
    "duration": 360,
    "start_time": "2023-09-28T13:14:25.006Z"
   },
   {
    "duration": 8,
    "start_time": "2023-09-28T13:14:25.367Z"
   },
   {
    "duration": 130,
    "start_time": "2023-09-28T13:14:25.377Z"
   },
   {
    "duration": 336,
    "start_time": "2023-09-28T13:14:25.508Z"
   },
   {
    "duration": 73,
    "start_time": "2023-09-28T13:14:25.849Z"
   },
   {
    "duration": 92,
    "start_time": "2023-09-28T13:14:25.924Z"
   },
   {
    "duration": 174,
    "start_time": "2023-09-28T13:14:26.020Z"
   },
   {
    "duration": 93,
    "start_time": "2023-09-28T13:14:26.195Z"
   },
   {
    "duration": 90,
    "start_time": "2023-09-28T13:14:26.290Z"
   },
   {
    "duration": 86,
    "start_time": "2023-09-28T13:14:26.381Z"
   },
   {
    "duration": 118,
    "start_time": "2023-09-28T13:14:26.470Z"
   },
   {
    "duration": 95,
    "start_time": "2023-09-28T13:14:26.590Z"
   },
   {
    "duration": 9,
    "start_time": "2023-09-28T13:14:26.687Z"
   },
   {
    "duration": 122,
    "start_time": "2023-09-28T13:14:26.698Z"
   },
   {
    "duration": 170,
    "start_time": "2023-09-28T13:14:26.822Z"
   },
   {
    "duration": 8,
    "start_time": "2023-09-28T13:14:26.994Z"
   },
   {
    "duration": 117,
    "start_time": "2023-09-28T13:14:27.003Z"
   },
   {
    "duration": 169,
    "start_time": "2023-09-28T13:14:27.122Z"
   },
   {
    "duration": 91,
    "start_time": "2023-09-28T13:14:27.293Z"
   },
   {
    "duration": 85,
    "start_time": "2023-09-28T13:14:27.386Z"
   },
   {
    "duration": 89,
    "start_time": "2023-09-28T13:14:27.472Z"
   },
   {
    "duration": 105,
    "start_time": "2023-09-28T13:14:27.562Z"
   },
   {
    "duration": 399,
    "start_time": "2023-09-28T13:14:27.668Z"
   },
   {
    "duration": 4,
    "start_time": "2023-09-28T13:14:28.069Z"
   },
   {
    "duration": 298,
    "start_time": "2023-09-28T13:14:28.075Z"
   },
   {
    "duration": 5,
    "start_time": "2023-09-28T13:14:28.374Z"
   },
   {
    "duration": 300,
    "start_time": "2023-09-28T13:14:28.381Z"
   },
   {
    "duration": 4,
    "start_time": "2023-09-28T13:14:28.682Z"
   },
   {
    "duration": 304,
    "start_time": "2023-09-28T13:14:28.688Z"
   },
   {
    "duration": 300,
    "start_time": "2023-09-28T13:14:28.995Z"
   },
   {
    "duration": 4,
    "start_time": "2023-09-28T13:14:29.297Z"
   },
   {
    "duration": 427,
    "start_time": "2023-09-28T13:14:29.302Z"
   },
   {
    "duration": 290,
    "start_time": "2023-09-28T13:14:29.731Z"
   },
   {
    "duration": 310,
    "start_time": "2023-09-28T13:14:30.022Z"
   },
   {
    "duration": 183,
    "start_time": "2023-09-28T13:14:30.334Z"
   },
   {
    "duration": 193,
    "start_time": "2023-09-28T13:14:30.519Z"
   },
   {
    "duration": 211,
    "start_time": "2023-09-28T13:14:30.713Z"
   },
   {
    "duration": 253,
    "start_time": "2023-09-28T13:14:30.925Z"
   },
   {
    "duration": 236,
    "start_time": "2023-09-28T13:14:31.180Z"
   },
   {
    "duration": 246,
    "start_time": "2023-09-28T13:14:31.418Z"
   },
   {
    "duration": 162,
    "start_time": "2023-09-28T13:14:31.666Z"
   },
   {
    "duration": 249,
    "start_time": "2023-09-28T13:14:31.829Z"
   },
   {
    "duration": 250,
    "start_time": "2023-09-28T13:14:32.080Z"
   },
   {
    "duration": 11,
    "start_time": "2023-09-28T13:14:32.332Z"
   },
   {
    "duration": 32,
    "start_time": "2023-09-28T13:14:32.350Z"
   },
   {
    "duration": 244,
    "start_time": "2023-09-28T13:14:32.385Z"
   },
   {
    "duration": 437,
    "start_time": "2023-09-28T13:14:32.630Z"
   },
   {
    "duration": 11,
    "start_time": "2023-09-28T13:14:33.068Z"
   },
   {
    "duration": 377,
    "start_time": "2023-09-28T13:14:33.081Z"
   },
   {
    "duration": 8,
    "start_time": "2023-09-28T13:14:33.460Z"
   },
   {
    "duration": 10,
    "start_time": "2023-09-28T13:14:33.470Z"
   },
   {
    "duration": 17,
    "start_time": "2023-09-28T13:14:33.481Z"
   },
   {
    "duration": 22,
    "start_time": "2023-09-28T13:14:33.499Z"
   },
   {
    "duration": 403,
    "start_time": "2023-09-28T13:14:33.522Z"
   },
   {
    "duration": 20,
    "start_time": "2023-09-28T13:14:33.926Z"
   },
   {
    "duration": 19,
    "start_time": "2023-09-28T13:14:33.948Z"
   },
   {
    "duration": 17,
    "start_time": "2023-09-28T13:14:33.969Z"
   },
   {
    "duration": 19,
    "start_time": "2023-09-28T13:14:33.988Z"
   },
   {
    "duration": 149,
    "start_time": "2023-09-28T13:14:34.010Z"
   },
   {
    "duration": 14,
    "start_time": "2023-09-28T13:19:41.386Z"
   },
   {
    "duration": 11,
    "start_time": "2023-09-28T13:19:52.927Z"
   },
   {
    "duration": 1460,
    "start_time": "2023-09-28T13:20:10.530Z"
   },
   {
    "duration": 56,
    "start_time": "2023-09-28T13:20:11.991Z"
   },
   {
    "duration": 16,
    "start_time": "2023-09-28T13:20:12.049Z"
   },
   {
    "duration": 31,
    "start_time": "2023-09-28T13:20:12.067Z"
   },
   {
    "duration": 25,
    "start_time": "2023-09-28T13:20:12.100Z"
   },
   {
    "duration": 49,
    "start_time": "2023-09-28T13:20:12.126Z"
   },
   {
    "duration": 15,
    "start_time": "2023-09-28T13:20:12.176Z"
   },
   {
    "duration": 24,
    "start_time": "2023-09-28T13:20:12.192Z"
   },
   {
    "duration": 9,
    "start_time": "2023-09-28T13:20:12.218Z"
   },
   {
    "duration": 14,
    "start_time": "2023-09-28T13:20:12.229Z"
   },
   {
    "duration": 16,
    "start_time": "2023-09-28T13:20:12.245Z"
   },
   {
    "duration": 343,
    "start_time": "2023-09-28T13:20:12.262Z"
   },
   {
    "duration": 15,
    "start_time": "2023-09-28T13:20:12.606Z"
   },
   {
    "duration": 7,
    "start_time": "2023-09-28T13:20:12.624Z"
   },
   {
    "duration": 11,
    "start_time": "2023-09-28T13:20:12.644Z"
   },
   {
    "duration": 296,
    "start_time": "2023-09-28T13:20:12.657Z"
   },
   {
    "duration": 10,
    "start_time": "2023-09-28T13:20:12.956Z"
   },
   {
    "duration": 369,
    "start_time": "2023-09-28T13:20:12.968Z"
   },
   {
    "duration": 14,
    "start_time": "2023-09-28T13:20:13.339Z"
   },
   {
    "duration": 329,
    "start_time": "2023-09-28T13:20:13.355Z"
   },
   {
    "duration": 8,
    "start_time": "2023-09-28T13:20:13.685Z"
   },
   {
    "duration": 350,
    "start_time": "2023-09-28T13:20:13.694Z"
   },
   {
    "duration": 11,
    "start_time": "2023-09-28T13:20:14.048Z"
   },
   {
    "duration": 139,
    "start_time": "2023-09-28T13:20:14.062Z"
   },
   {
    "duration": 374,
    "start_time": "2023-09-28T13:20:14.203Z"
   },
   {
    "duration": 78,
    "start_time": "2023-09-28T13:20:14.579Z"
   },
   {
    "duration": 98,
    "start_time": "2023-09-28T13:20:14.659Z"
   },
   {
    "duration": 153,
    "start_time": "2023-09-28T13:20:14.760Z"
   },
   {
    "duration": 87,
    "start_time": "2023-09-28T13:20:14.914Z"
   },
   {
    "duration": 88,
    "start_time": "2023-09-28T13:20:15.003Z"
   },
   {
    "duration": 78,
    "start_time": "2023-09-28T13:20:15.093Z"
   },
   {
    "duration": 84,
    "start_time": "2023-09-28T13:20:15.172Z"
   },
   {
    "duration": 89,
    "start_time": "2023-09-28T13:20:15.258Z"
   },
   {
    "duration": 11,
    "start_time": "2023-09-28T13:20:15.349Z"
   },
   {
    "duration": 119,
    "start_time": "2023-09-28T13:20:15.362Z"
   },
   {
    "duration": 154,
    "start_time": "2023-09-28T13:20:15.482Z"
   },
   {
    "duration": 8,
    "start_time": "2023-09-28T13:20:15.637Z"
   },
   {
    "duration": 124,
    "start_time": "2023-09-28T13:20:15.646Z"
   },
   {
    "duration": 164,
    "start_time": "2023-09-28T13:20:15.771Z"
   },
   {
    "duration": 73,
    "start_time": "2023-09-28T13:20:15.936Z"
   },
   {
    "duration": 80,
    "start_time": "2023-09-28T13:20:16.013Z"
   },
   {
    "duration": 77,
    "start_time": "2023-09-28T13:20:16.095Z"
   },
   {
    "duration": 92,
    "start_time": "2023-09-28T13:20:16.174Z"
   },
   {
    "duration": 432,
    "start_time": "2023-09-28T13:20:16.268Z"
   },
   {
    "duration": 5,
    "start_time": "2023-09-28T13:20:16.702Z"
   },
   {
    "duration": 304,
    "start_time": "2023-09-28T13:20:16.708Z"
   },
   {
    "duration": 5,
    "start_time": "2023-09-28T13:20:17.015Z"
   },
   {
    "duration": 317,
    "start_time": "2023-09-28T13:20:17.022Z"
   },
   {
    "duration": 13,
    "start_time": "2023-09-28T13:20:17.343Z"
   },
   {
    "duration": 317,
    "start_time": "2023-09-28T13:20:17.359Z"
   },
   {
    "duration": 301,
    "start_time": "2023-09-28T13:20:17.678Z"
   },
   {
    "duration": 4,
    "start_time": "2023-09-28T13:20:17.981Z"
   },
   {
    "duration": 387,
    "start_time": "2023-09-28T13:20:17.986Z"
   },
   {
    "duration": 260,
    "start_time": "2023-09-28T13:20:18.375Z"
   },
   {
    "duration": 299,
    "start_time": "2023-09-28T13:20:18.636Z"
   },
   {
    "duration": 175,
    "start_time": "2023-09-28T13:20:18.943Z"
   },
   {
    "duration": 171,
    "start_time": "2023-09-28T13:20:19.119Z"
   },
   {
    "duration": 183,
    "start_time": "2023-09-28T13:20:19.292Z"
   },
   {
    "duration": 230,
    "start_time": "2023-09-28T13:20:19.476Z"
   },
   {
    "duration": 223,
    "start_time": "2023-09-28T13:20:19.707Z"
   },
   {
    "duration": 236,
    "start_time": "2023-09-28T13:20:19.931Z"
   },
   {
    "duration": 151,
    "start_time": "2023-09-28T13:20:20.169Z"
   },
   {
    "duration": 238,
    "start_time": "2023-09-28T13:20:20.322Z"
   },
   {
    "duration": 226,
    "start_time": "2023-09-28T13:20:20.561Z"
   },
   {
    "duration": 3,
    "start_time": "2023-09-28T13:20:20.789Z"
   },
   {
    "duration": 14,
    "start_time": "2023-09-28T13:20:20.794Z"
   },
   {
    "duration": 210,
    "start_time": "2023-09-28T13:20:20.810Z"
   },
   {
    "duration": 411,
    "start_time": "2023-09-28T13:20:21.022Z"
   },
   {
    "duration": 17,
    "start_time": "2023-09-28T13:20:21.434Z"
   },
   {
    "duration": 381,
    "start_time": "2023-09-28T13:20:21.454Z"
   },
   {
    "duration": 8,
    "start_time": "2023-09-28T13:20:21.836Z"
   },
   {
    "duration": 12,
    "start_time": "2023-09-28T13:20:21.847Z"
   },
   {
    "duration": 21,
    "start_time": "2023-09-28T13:20:21.861Z"
   },
   {
    "duration": 14,
    "start_time": "2023-09-28T13:20:21.884Z"
   },
   {
    "duration": 394,
    "start_time": "2023-09-28T13:20:21.899Z"
   },
   {
    "duration": 10,
    "start_time": "2023-09-28T13:20:22.295Z"
   },
   {
    "duration": 18,
    "start_time": "2023-09-28T13:20:22.307Z"
   },
   {
    "duration": 24,
    "start_time": "2023-09-28T13:20:22.326Z"
   },
   {
    "duration": 14,
    "start_time": "2023-09-28T13:20:22.353Z"
   },
   {
    "duration": 125,
    "start_time": "2023-09-28T13:20:22.368Z"
   },
   {
    "duration": 17,
    "start_time": "2023-09-28T13:22:53.263Z"
   },
   {
    "duration": 1542,
    "start_time": "2023-09-28T13:23:12.834Z"
   },
   {
    "duration": 55,
    "start_time": "2023-09-28T13:23:14.378Z"
   },
   {
    "duration": 13,
    "start_time": "2023-09-28T13:23:14.434Z"
   },
   {
    "duration": 23,
    "start_time": "2023-09-28T13:23:14.448Z"
   },
   {
    "duration": 30,
    "start_time": "2023-09-28T13:23:14.473Z"
   },
   {
    "duration": 26,
    "start_time": "2023-09-28T13:23:14.505Z"
   },
   {
    "duration": 17,
    "start_time": "2023-09-28T13:23:14.533Z"
   },
   {
    "duration": 13,
    "start_time": "2023-09-28T13:23:14.551Z"
   },
   {
    "duration": 16,
    "start_time": "2023-09-28T13:23:14.566Z"
   },
   {
    "duration": 19,
    "start_time": "2023-09-28T13:23:14.584Z"
   },
   {
    "duration": 8,
    "start_time": "2023-09-28T13:23:14.604Z"
   },
   {
    "duration": 323,
    "start_time": "2023-09-28T13:23:14.613Z"
   },
   {
    "duration": 19,
    "start_time": "2023-09-28T13:23:14.937Z"
   },
   {
    "duration": 7,
    "start_time": "2023-09-28T13:23:14.959Z"
   },
   {
    "duration": 58,
    "start_time": "2023-09-28T13:23:14.968Z"
   },
   {
    "duration": 304,
    "start_time": "2023-09-28T13:23:15.028Z"
   },
   {
    "duration": 11,
    "start_time": "2023-09-28T13:23:15.334Z"
   },
   {
    "duration": 347,
    "start_time": "2023-09-28T13:23:15.347Z"
   },
   {
    "duration": 7,
    "start_time": "2023-09-28T13:23:15.695Z"
   },
   {
    "duration": 301,
    "start_time": "2023-09-28T13:23:15.703Z"
   },
   {
    "duration": 7,
    "start_time": "2023-09-28T13:23:16.006Z"
   },
   {
    "duration": 339,
    "start_time": "2023-09-28T13:23:16.015Z"
   },
   {
    "duration": 7,
    "start_time": "2023-09-28T13:23:16.356Z"
   },
   {
    "duration": 131,
    "start_time": "2023-09-28T13:23:16.364Z"
   },
   {
    "duration": 365,
    "start_time": "2023-09-28T13:23:16.497Z"
   },
   {
    "duration": 83,
    "start_time": "2023-09-28T13:23:16.864Z"
   },
   {
    "duration": 82,
    "start_time": "2023-09-28T13:23:16.949Z"
   },
   {
    "duration": 176,
    "start_time": "2023-09-28T13:23:17.033Z"
   },
   {
    "duration": 88,
    "start_time": "2023-09-28T13:23:17.211Z"
   },
   {
    "duration": 82,
    "start_time": "2023-09-28T13:23:17.301Z"
   },
   {
    "duration": 75,
    "start_time": "2023-09-28T13:23:17.385Z"
   },
   {
    "duration": 87,
    "start_time": "2023-09-28T13:23:17.462Z"
   },
   {
    "duration": 93,
    "start_time": "2023-09-28T13:23:17.551Z"
   },
   {
    "duration": 9,
    "start_time": "2023-09-28T13:23:17.646Z"
   },
   {
    "duration": 119,
    "start_time": "2023-09-28T13:23:17.656Z"
   },
   {
    "duration": 133,
    "start_time": "2023-09-28T13:23:17.777Z"
   },
   {
    "duration": 8,
    "start_time": "2023-09-28T13:23:17.912Z"
   },
   {
    "duration": 101,
    "start_time": "2023-09-28T13:23:17.921Z"
   },
   {
    "duration": 150,
    "start_time": "2023-09-28T13:23:18.024Z"
   },
   {
    "duration": 69,
    "start_time": "2023-09-28T13:23:18.175Z"
   },
   {
    "duration": 63,
    "start_time": "2023-09-28T13:23:18.249Z"
   },
   {
    "duration": 86,
    "start_time": "2023-09-28T13:23:18.314Z"
   },
   {
    "duration": 90,
    "start_time": "2023-09-28T13:23:18.402Z"
   },
   {
    "duration": 339,
    "start_time": "2023-09-28T13:23:18.493Z"
   },
   {
    "duration": 12,
    "start_time": "2023-09-28T13:23:18.833Z"
   },
   {
    "duration": 291,
    "start_time": "2023-09-28T13:23:18.846Z"
   },
   {
    "duration": 8,
    "start_time": "2023-09-28T13:23:19.139Z"
   },
   {
    "duration": 268,
    "start_time": "2023-09-28T13:23:19.148Z"
   },
   {
    "duration": 4,
    "start_time": "2023-09-28T13:23:19.417Z"
   },
   {
    "duration": 273,
    "start_time": "2023-09-28T13:23:19.423Z"
   },
   {
    "duration": 266,
    "start_time": "2023-09-28T13:23:19.698Z"
   },
   {
    "duration": 5,
    "start_time": "2023-09-28T13:23:19.965Z"
   },
   {
    "duration": 363,
    "start_time": "2023-09-28T13:23:19.971Z"
   },
   {
    "duration": 252,
    "start_time": "2023-09-28T13:23:20.335Z"
   },
   {
    "duration": 256,
    "start_time": "2023-09-28T13:23:20.588Z"
   },
   {
    "duration": 160,
    "start_time": "2023-09-28T13:23:20.845Z"
   },
   {
    "duration": 167,
    "start_time": "2023-09-28T13:23:21.007Z"
   },
   {
    "duration": 173,
    "start_time": "2023-09-28T13:23:21.176Z"
   },
   {
    "duration": 200,
    "start_time": "2023-09-28T13:23:21.350Z"
   },
   {
    "duration": 203,
    "start_time": "2023-09-28T13:23:21.552Z"
   },
   {
    "duration": 218,
    "start_time": "2023-09-28T13:23:21.756Z"
   },
   {
    "duration": 144,
    "start_time": "2023-09-28T13:23:21.976Z"
   },
   {
    "duration": 232,
    "start_time": "2023-09-28T13:23:22.121Z"
   },
   {
    "duration": 209,
    "start_time": "2023-09-28T13:23:22.354Z"
   },
   {
    "duration": 3,
    "start_time": "2023-09-28T13:23:22.565Z"
   },
   {
    "duration": 35,
    "start_time": "2023-09-28T13:23:22.569Z"
   },
   {
    "duration": 299,
    "start_time": "2023-09-28T13:23:22.606Z"
   },
   {
    "duration": 399,
    "start_time": "2023-09-28T13:23:22.906Z"
   },
   {
    "duration": 10,
    "start_time": "2023-09-28T13:23:23.307Z"
   },
   {
    "duration": 382,
    "start_time": "2023-09-28T13:23:23.318Z"
   },
   {
    "duration": 8,
    "start_time": "2023-09-28T13:23:23.701Z"
   },
   {
    "duration": 10,
    "start_time": "2023-09-28T13:23:23.710Z"
   },
   {
    "duration": 27,
    "start_time": "2023-09-28T13:23:23.721Z"
   },
   {
    "duration": 10,
    "start_time": "2023-09-28T13:23:23.750Z"
   },
   {
    "duration": 397,
    "start_time": "2023-09-28T13:23:23.761Z"
   },
   {
    "duration": 148,
    "start_time": "2023-09-28T13:23:24.160Z"
   },
   {
    "duration": 0,
    "start_time": "2023-09-28T13:23:24.310Z"
   },
   {
    "duration": 0,
    "start_time": "2023-09-28T13:23:24.312Z"
   },
   {
    "duration": 1387,
    "start_time": "2023-09-28T13:30:09.507Z"
   },
   {
    "duration": 57,
    "start_time": "2023-09-28T13:30:10.896Z"
   },
   {
    "duration": 58,
    "start_time": "2023-09-28T13:30:10.955Z"
   },
   {
    "duration": 30,
    "start_time": "2023-09-28T13:30:11.015Z"
   },
   {
    "duration": 26,
    "start_time": "2023-09-28T13:30:11.047Z"
   },
   {
    "duration": 21,
    "start_time": "2023-09-28T13:30:11.075Z"
   },
   {
    "duration": 7,
    "start_time": "2023-09-28T13:30:11.097Z"
   },
   {
    "duration": 21,
    "start_time": "2023-09-28T13:30:11.106Z"
   },
   {
    "duration": 7,
    "start_time": "2023-09-28T13:30:11.144Z"
   },
   {
    "duration": 29,
    "start_time": "2023-09-28T13:30:11.152Z"
   },
   {
    "duration": 51,
    "start_time": "2023-09-28T13:30:11.182Z"
   },
   {
    "duration": 304,
    "start_time": "2023-09-28T13:30:11.234Z"
   },
   {
    "duration": 19,
    "start_time": "2023-09-28T13:30:11.539Z"
   },
   {
    "duration": 7,
    "start_time": "2023-09-28T13:30:11.560Z"
   },
   {
    "duration": 13,
    "start_time": "2023-09-28T13:30:11.568Z"
   },
   {
    "duration": 268,
    "start_time": "2023-09-28T13:30:11.583Z"
   },
   {
    "duration": 7,
    "start_time": "2023-09-28T13:30:11.853Z"
   },
   {
    "duration": 331,
    "start_time": "2023-09-28T13:30:11.861Z"
   },
   {
    "duration": 7,
    "start_time": "2023-09-28T13:30:12.194Z"
   },
   {
    "duration": 305,
    "start_time": "2023-09-28T13:30:12.203Z"
   },
   {
    "duration": 7,
    "start_time": "2023-09-28T13:30:12.509Z"
   },
   {
    "duration": 305,
    "start_time": "2023-09-28T13:30:12.518Z"
   },
   {
    "duration": 8,
    "start_time": "2023-09-28T13:30:12.824Z"
   },
   {
    "duration": 101,
    "start_time": "2023-09-28T13:30:12.843Z"
   },
   {
    "duration": 320,
    "start_time": "2023-09-28T13:30:12.946Z"
   },
   {
    "duration": 77,
    "start_time": "2023-09-28T13:30:13.267Z"
   },
   {
    "duration": 75,
    "start_time": "2023-09-28T13:30:13.346Z"
   },
   {
    "duration": 172,
    "start_time": "2023-09-28T13:30:13.423Z"
   },
   {
    "duration": 105,
    "start_time": "2023-09-28T13:30:13.596Z"
   },
   {
    "duration": 77,
    "start_time": "2023-09-28T13:30:13.703Z"
   },
   {
    "duration": 95,
    "start_time": "2023-09-28T13:30:13.782Z"
   },
   {
    "duration": 90,
    "start_time": "2023-09-28T13:30:13.879Z"
   },
   {
    "duration": 106,
    "start_time": "2023-09-28T13:30:13.970Z"
   },
   {
    "duration": 10,
    "start_time": "2023-09-28T13:30:14.078Z"
   },
   {
    "duration": 149,
    "start_time": "2023-09-28T13:30:14.090Z"
   },
   {
    "duration": 185,
    "start_time": "2023-09-28T13:30:14.244Z"
   },
   {
    "duration": 7,
    "start_time": "2023-09-28T13:30:14.430Z"
   },
   {
    "duration": 88,
    "start_time": "2023-09-28T13:30:14.438Z"
   },
   {
    "duration": 177,
    "start_time": "2023-09-28T13:30:14.528Z"
   },
   {
    "duration": 68,
    "start_time": "2023-09-28T13:30:14.706Z"
   },
   {
    "duration": 79,
    "start_time": "2023-09-28T13:30:14.779Z"
   },
   {
    "duration": 84,
    "start_time": "2023-09-28T13:30:14.860Z"
   },
   {
    "duration": 115,
    "start_time": "2023-09-28T13:30:14.946Z"
   },
   {
    "duration": 391,
    "start_time": "2023-09-28T13:30:15.063Z"
   },
   {
    "duration": 5,
    "start_time": "2023-09-28T13:30:15.456Z"
   },
   {
    "duration": 303,
    "start_time": "2023-09-28T13:30:15.462Z"
   },
   {
    "duration": 5,
    "start_time": "2023-09-28T13:30:15.767Z"
   },
   {
    "duration": 269,
    "start_time": "2023-09-28T13:30:15.773Z"
   },
   {
    "duration": 4,
    "start_time": "2023-09-28T13:30:16.043Z"
   },
   {
    "duration": 294,
    "start_time": "2023-09-28T13:30:16.048Z"
   },
   {
    "duration": 309,
    "start_time": "2023-09-28T13:30:16.344Z"
   },
   {
    "duration": 5,
    "start_time": "2023-09-28T13:30:16.655Z"
   },
   {
    "duration": 386,
    "start_time": "2023-09-28T13:30:16.661Z"
   },
   {
    "duration": 255,
    "start_time": "2023-09-28T13:30:17.049Z"
   },
   {
    "duration": 278,
    "start_time": "2023-09-28T13:30:17.305Z"
   },
   {
    "duration": 161,
    "start_time": "2023-09-28T13:30:17.585Z"
   },
   {
    "duration": 160,
    "start_time": "2023-09-28T13:30:17.748Z"
   },
   {
    "duration": 154,
    "start_time": "2023-09-28T13:30:17.910Z"
   },
   {
    "duration": 213,
    "start_time": "2023-09-28T13:30:18.065Z"
   },
   {
    "duration": 200,
    "start_time": "2023-09-28T13:30:18.280Z"
   },
   {
    "duration": 237,
    "start_time": "2023-09-28T13:30:18.482Z"
   },
   {
    "duration": 149,
    "start_time": "2023-09-28T13:30:18.721Z"
   },
   {
    "duration": 279,
    "start_time": "2023-09-28T13:30:18.872Z"
   },
   {
    "duration": 260,
    "start_time": "2023-09-28T13:30:19.152Z"
   },
   {
    "duration": 4,
    "start_time": "2023-09-28T13:30:19.414Z"
   },
   {
    "duration": 17,
    "start_time": "2023-09-28T13:30:19.419Z"
   },
   {
    "duration": 194,
    "start_time": "2023-09-28T13:30:19.438Z"
   },
   {
    "duration": 422,
    "start_time": "2023-09-28T13:30:19.634Z"
   },
   {
    "duration": 12,
    "start_time": "2023-09-28T13:30:20.058Z"
   },
   {
    "duration": 411,
    "start_time": "2023-09-28T13:30:20.072Z"
   },
   {
    "duration": 8,
    "start_time": "2023-09-28T13:30:20.485Z"
   },
   {
    "duration": 9,
    "start_time": "2023-09-28T13:30:20.495Z"
   },
   {
    "duration": 18,
    "start_time": "2023-09-28T13:30:20.506Z"
   },
   {
    "duration": 54,
    "start_time": "2023-09-28T13:30:20.526Z"
   },
   {
    "duration": 364,
    "start_time": "2023-09-28T13:30:20.582Z"
   },
   {
    "duration": 119,
    "start_time": "2023-09-28T13:30:20.948Z"
   },
   {
    "duration": 0,
    "start_time": "2023-09-28T13:30:21.069Z"
   },
   {
    "duration": 0,
    "start_time": "2023-09-28T13:30:21.070Z"
   },
   {
    "duration": 1491,
    "start_time": "2023-09-28T13:31:46.170Z"
   },
   {
    "duration": 59,
    "start_time": "2023-09-28T13:31:47.663Z"
   },
   {
    "duration": 13,
    "start_time": "2023-09-28T13:31:47.724Z"
   },
   {
    "duration": 48,
    "start_time": "2023-09-28T13:31:47.739Z"
   },
   {
    "duration": 26,
    "start_time": "2023-09-28T13:31:47.790Z"
   },
   {
    "duration": 81,
    "start_time": "2023-09-28T13:31:47.817Z"
   },
   {
    "duration": 10,
    "start_time": "2023-09-28T13:31:47.900Z"
   },
   {
    "duration": 13,
    "start_time": "2023-09-28T13:31:47.912Z"
   },
   {
    "duration": 10,
    "start_time": "2023-09-28T13:31:47.927Z"
   },
   {
    "duration": 13,
    "start_time": "2023-09-28T13:31:47.938Z"
   },
   {
    "duration": 13,
    "start_time": "2023-09-28T13:31:47.952Z"
   },
   {
    "duration": 407,
    "start_time": "2023-09-28T13:31:47.967Z"
   },
   {
    "duration": 17,
    "start_time": "2023-09-28T13:31:48.375Z"
   },
   {
    "duration": 15,
    "start_time": "2023-09-28T13:31:48.395Z"
   },
   {
    "duration": 35,
    "start_time": "2023-09-28T13:31:48.411Z"
   },
   {
    "duration": 311,
    "start_time": "2023-09-28T13:31:48.448Z"
   },
   {
    "duration": 8,
    "start_time": "2023-09-28T13:31:48.761Z"
   },
   {
    "duration": 398,
    "start_time": "2023-09-28T13:31:48.771Z"
   },
   {
    "duration": 8,
    "start_time": "2023-09-28T13:31:49.171Z"
   },
   {
    "duration": 365,
    "start_time": "2023-09-28T13:31:49.181Z"
   },
   {
    "duration": 8,
    "start_time": "2023-09-28T13:31:49.548Z"
   },
   {
    "duration": 372,
    "start_time": "2023-09-28T13:31:49.558Z"
   },
   {
    "duration": 17,
    "start_time": "2023-09-28T13:31:49.931Z"
   },
   {
    "duration": 130,
    "start_time": "2023-09-28T13:31:49.950Z"
   },
   {
    "duration": 373,
    "start_time": "2023-09-28T13:31:50.082Z"
   },
   {
    "duration": 90,
    "start_time": "2023-09-28T13:31:50.458Z"
   },
   {
    "duration": 96,
    "start_time": "2023-09-28T13:31:50.550Z"
   },
   {
    "duration": 173,
    "start_time": "2023-09-28T13:31:50.648Z"
   },
   {
    "duration": 99,
    "start_time": "2023-09-28T13:31:50.823Z"
   },
   {
    "duration": 86,
    "start_time": "2023-09-28T13:31:50.923Z"
   },
   {
    "duration": 94,
    "start_time": "2023-09-28T13:31:51.011Z"
   },
   {
    "duration": 90,
    "start_time": "2023-09-28T13:31:51.106Z"
   },
   {
    "duration": 102,
    "start_time": "2023-09-28T13:31:51.197Z"
   },
   {
    "duration": 7,
    "start_time": "2023-09-28T13:31:51.301Z"
   },
   {
    "duration": 134,
    "start_time": "2023-09-28T13:31:51.310Z"
   },
   {
    "duration": 170,
    "start_time": "2023-09-28T13:31:51.446Z"
   },
   {
    "duration": 9,
    "start_time": "2023-09-28T13:31:51.618Z"
   },
   {
    "duration": 109,
    "start_time": "2023-09-28T13:31:51.629Z"
   },
   {
    "duration": 181,
    "start_time": "2023-09-28T13:31:51.740Z"
   },
   {
    "duration": 85,
    "start_time": "2023-09-28T13:31:51.923Z"
   },
   {
    "duration": 85,
    "start_time": "2023-09-28T13:31:52.014Z"
   },
   {
    "duration": 91,
    "start_time": "2023-09-28T13:31:52.101Z"
   },
   {
    "duration": 105,
    "start_time": "2023-09-28T13:31:52.194Z"
   },
   {
    "duration": 449,
    "start_time": "2023-09-28T13:31:52.302Z"
   },
   {
    "duration": 5,
    "start_time": "2023-09-28T13:31:52.753Z"
   },
   {
    "duration": 310,
    "start_time": "2023-09-28T13:31:52.759Z"
   },
   {
    "duration": 4,
    "start_time": "2023-09-28T13:31:53.070Z"
   },
   {
    "duration": 301,
    "start_time": "2023-09-28T13:31:53.076Z"
   },
   {
    "duration": 4,
    "start_time": "2023-09-28T13:31:53.379Z"
   },
   {
    "duration": 331,
    "start_time": "2023-09-28T13:31:53.384Z"
   },
   {
    "duration": 319,
    "start_time": "2023-09-28T13:31:53.717Z"
   },
   {
    "duration": 9,
    "start_time": "2023-09-28T13:31:54.039Z"
   },
   {
    "duration": 562,
    "start_time": "2023-09-28T13:31:54.050Z"
   },
   {
    "duration": 277,
    "start_time": "2023-09-28T13:31:54.613Z"
   },
   {
    "duration": 310,
    "start_time": "2023-09-28T13:31:54.891Z"
   },
   {
    "duration": 186,
    "start_time": "2023-09-28T13:31:55.202Z"
   },
   {
    "duration": 178,
    "start_time": "2023-09-28T13:31:55.390Z"
   },
   {
    "duration": 178,
    "start_time": "2023-09-28T13:31:55.570Z"
   },
   {
    "duration": 226,
    "start_time": "2023-09-28T13:31:55.750Z"
   },
   {
    "duration": 221,
    "start_time": "2023-09-28T13:31:55.977Z"
   },
   {
    "duration": 234,
    "start_time": "2023-09-28T13:31:56.200Z"
   },
   {
    "duration": 147,
    "start_time": "2023-09-28T13:31:56.436Z"
   },
   {
    "duration": 234,
    "start_time": "2023-09-28T13:31:56.585Z"
   },
   {
    "duration": 213,
    "start_time": "2023-09-28T13:31:56.821Z"
   },
   {
    "duration": 9,
    "start_time": "2023-09-28T13:31:57.035Z"
   },
   {
    "duration": 23,
    "start_time": "2023-09-28T13:31:57.046Z"
   },
   {
    "duration": 201,
    "start_time": "2023-09-28T13:31:57.070Z"
   },
   {
    "duration": 385,
    "start_time": "2023-09-28T13:31:57.272Z"
   },
   {
    "duration": 10,
    "start_time": "2023-09-28T13:31:57.658Z"
   },
   {
    "duration": 370,
    "start_time": "2023-09-28T13:31:57.670Z"
   },
   {
    "duration": 7,
    "start_time": "2023-09-28T13:31:58.045Z"
   },
   {
    "duration": 11,
    "start_time": "2023-09-28T13:31:58.053Z"
   },
   {
    "duration": 32,
    "start_time": "2023-09-28T13:31:58.065Z"
   },
   {
    "duration": 36,
    "start_time": "2023-09-28T13:31:58.100Z"
   },
   {
    "duration": 10,
    "start_time": "2023-09-28T13:31:58.138Z"
   },
   {
    "duration": 16,
    "start_time": "2023-09-28T13:31:58.149Z"
   },
   {
    "duration": 328,
    "start_time": "2023-09-28T13:31:58.167Z"
   },
   {
    "duration": 122,
    "start_time": "2023-09-28T13:31:58.497Z"
   },
   {
    "duration": 0,
    "start_time": "2023-09-28T13:31:58.621Z"
   },
   {
    "duration": 0,
    "start_time": "2023-09-28T13:31:58.622Z"
   },
   {
    "duration": 13,
    "start_time": "2023-09-28T13:32:36.337Z"
   },
   {
    "duration": 7,
    "start_time": "2023-09-28T13:32:45.857Z"
   },
   {
    "duration": 0,
    "start_time": "2023-09-28T13:33:29.447Z"
   },
   {
    "duration": 0,
    "start_time": "2023-09-28T13:33:29.448Z"
   },
   {
    "duration": 0,
    "start_time": "2023-09-28T13:33:29.449Z"
   },
   {
    "duration": 0,
    "start_time": "2023-09-28T13:33:29.450Z"
   },
   {
    "duration": 0,
    "start_time": "2023-09-28T13:33:29.451Z"
   },
   {
    "duration": 0,
    "start_time": "2023-09-28T13:33:29.452Z"
   },
   {
    "duration": 0,
    "start_time": "2023-09-28T13:33:29.453Z"
   },
   {
    "duration": 0,
    "start_time": "2023-09-28T13:33:29.453Z"
   },
   {
    "duration": 0,
    "start_time": "2023-09-28T13:33:29.455Z"
   },
   {
    "duration": 0,
    "start_time": "2023-09-28T13:33:29.455Z"
   },
   {
    "duration": 0,
    "start_time": "2023-09-28T13:33:29.456Z"
   },
   {
    "duration": 0,
    "start_time": "2023-09-28T13:33:29.457Z"
   },
   {
    "duration": 0,
    "start_time": "2023-09-28T13:33:29.458Z"
   },
   {
    "duration": 0,
    "start_time": "2023-09-28T13:33:29.459Z"
   },
   {
    "duration": 0,
    "start_time": "2023-09-28T13:33:29.460Z"
   },
   {
    "duration": 0,
    "start_time": "2023-09-28T13:33:29.461Z"
   },
   {
    "duration": 0,
    "start_time": "2023-09-28T13:33:29.462Z"
   },
   {
    "duration": 0,
    "start_time": "2023-09-28T13:33:29.464Z"
   },
   {
    "duration": 0,
    "start_time": "2023-09-28T13:33:29.465Z"
   },
   {
    "duration": 0,
    "start_time": "2023-09-28T13:33:29.466Z"
   },
   {
    "duration": 0,
    "start_time": "2023-09-28T13:33:29.468Z"
   },
   {
    "duration": 0,
    "start_time": "2023-09-28T13:33:29.469Z"
   },
   {
    "duration": 0,
    "start_time": "2023-09-28T13:33:29.470Z"
   },
   {
    "duration": 1,
    "start_time": "2023-09-28T13:33:29.471Z"
   },
   {
    "duration": 0,
    "start_time": "2023-09-28T13:33:29.473Z"
   },
   {
    "duration": 0,
    "start_time": "2023-09-28T13:33:29.474Z"
   },
   {
    "duration": 0,
    "start_time": "2023-09-28T13:33:29.475Z"
   },
   {
    "duration": 0,
    "start_time": "2023-09-28T13:33:29.476Z"
   },
   {
    "duration": 0,
    "start_time": "2023-09-28T13:33:29.477Z"
   },
   {
    "duration": 0,
    "start_time": "2023-09-28T13:33:29.478Z"
   },
   {
    "duration": 0,
    "start_time": "2023-09-28T13:33:29.479Z"
   },
   {
    "duration": 0,
    "start_time": "2023-09-28T13:33:29.481Z"
   },
   {
    "duration": 0,
    "start_time": "2023-09-28T13:33:29.481Z"
   },
   {
    "duration": 0,
    "start_time": "2023-09-28T13:33:29.482Z"
   },
   {
    "duration": 0,
    "start_time": "2023-09-28T13:33:29.483Z"
   },
   {
    "duration": 0,
    "start_time": "2023-09-28T13:33:29.545Z"
   },
   {
    "duration": 0,
    "start_time": "2023-09-28T13:33:29.546Z"
   },
   {
    "duration": 0,
    "start_time": "2023-09-28T13:33:29.547Z"
   },
   {
    "duration": 0,
    "start_time": "2023-09-28T13:33:29.548Z"
   },
   {
    "duration": 0,
    "start_time": "2023-09-28T13:33:29.550Z"
   },
   {
    "duration": 0,
    "start_time": "2023-09-28T13:33:29.551Z"
   },
   {
    "duration": 0,
    "start_time": "2023-09-28T13:33:29.551Z"
   },
   {
    "duration": 0,
    "start_time": "2023-09-28T13:33:29.552Z"
   },
   {
    "duration": 0,
    "start_time": "2023-09-28T13:33:29.553Z"
   },
   {
    "duration": 0,
    "start_time": "2023-09-28T13:33:29.555Z"
   },
   {
    "duration": 0,
    "start_time": "2023-09-28T13:33:29.556Z"
   },
   {
    "duration": 0,
    "start_time": "2023-09-28T13:33:29.556Z"
   },
   {
    "duration": 0,
    "start_time": "2023-09-28T13:33:29.557Z"
   },
   {
    "duration": 0,
    "start_time": "2023-09-28T13:33:29.558Z"
   },
   {
    "duration": 0,
    "start_time": "2023-09-28T13:33:29.559Z"
   },
   {
    "duration": 0,
    "start_time": "2023-09-28T13:33:29.561Z"
   },
   {
    "duration": 0,
    "start_time": "2023-09-28T13:33:29.562Z"
   },
   {
    "duration": 0,
    "start_time": "2023-09-28T13:33:29.563Z"
   },
   {
    "duration": 0,
    "start_time": "2023-09-28T13:33:29.564Z"
   },
   {
    "duration": 0,
    "start_time": "2023-09-28T13:33:29.565Z"
   },
   {
    "duration": 0,
    "start_time": "2023-09-28T13:33:29.566Z"
   },
   {
    "duration": 0,
    "start_time": "2023-09-28T13:33:29.566Z"
   },
   {
    "duration": 0,
    "start_time": "2023-09-28T13:33:29.567Z"
   },
   {
    "duration": 0,
    "start_time": "2023-09-28T13:33:29.568Z"
   },
   {
    "duration": 0,
    "start_time": "2023-09-28T13:33:29.569Z"
   },
   {
    "duration": 0,
    "start_time": "2023-09-28T13:33:29.570Z"
   },
   {
    "duration": 0,
    "start_time": "2023-09-28T13:33:29.571Z"
   },
   {
    "duration": 0,
    "start_time": "2023-09-28T13:33:29.572Z"
   },
   {
    "duration": 0,
    "start_time": "2023-09-28T13:33:29.573Z"
   },
   {
    "duration": 0,
    "start_time": "2023-09-28T13:33:29.574Z"
   },
   {
    "duration": 0,
    "start_time": "2023-09-28T13:33:29.575Z"
   },
   {
    "duration": 0,
    "start_time": "2023-09-28T13:33:29.576Z"
   },
   {
    "duration": 0,
    "start_time": "2023-09-28T13:33:29.577Z"
   },
   {
    "duration": 1,
    "start_time": "2023-09-28T13:33:29.578Z"
   },
   {
    "duration": 0,
    "start_time": "2023-09-28T13:33:29.580Z"
   },
   {
    "duration": 0,
    "start_time": "2023-09-28T13:33:29.581Z"
   },
   {
    "duration": 1,
    "start_time": "2023-09-28T13:33:29.643Z"
   },
   {
    "duration": 0,
    "start_time": "2023-09-28T13:33:29.645Z"
   },
   {
    "duration": 0,
    "start_time": "2023-09-28T13:33:29.647Z"
   },
   {
    "duration": 0,
    "start_time": "2023-09-28T13:33:29.648Z"
   },
   {
    "duration": 0,
    "start_time": "2023-09-28T13:33:29.649Z"
   },
   {
    "duration": 0,
    "start_time": "2023-09-28T13:33:29.650Z"
   },
   {
    "duration": 0,
    "start_time": "2023-09-28T13:33:29.652Z"
   },
   {
    "duration": 0,
    "start_time": "2023-09-28T13:33:29.653Z"
   },
   {
    "duration": 0,
    "start_time": "2023-09-28T13:33:29.654Z"
   },
   {
    "duration": 0,
    "start_time": "2023-09-28T13:33:29.655Z"
   },
   {
    "duration": 1434,
    "start_time": "2023-09-28T13:33:45.650Z"
   },
   {
    "duration": 55,
    "start_time": "2023-09-28T13:33:47.085Z"
   },
   {
    "duration": 13,
    "start_time": "2023-09-28T13:33:47.141Z"
   },
   {
    "duration": 29,
    "start_time": "2023-09-28T13:33:47.155Z"
   },
   {
    "duration": 22,
    "start_time": "2023-09-28T13:33:47.186Z"
   },
   {
    "duration": 40,
    "start_time": "2023-09-28T13:33:47.210Z"
   },
   {
    "duration": 8,
    "start_time": "2023-09-28T13:33:47.252Z"
   },
   {
    "duration": 8,
    "start_time": "2023-09-28T13:33:47.261Z"
   },
   {
    "duration": 10,
    "start_time": "2023-09-28T13:33:47.270Z"
   },
   {
    "duration": 14,
    "start_time": "2023-09-28T13:33:47.281Z"
   },
   {
    "duration": 8,
    "start_time": "2023-09-28T13:33:47.296Z"
   },
   {
    "duration": 343,
    "start_time": "2023-09-28T13:33:47.306Z"
   },
   {
    "duration": 16,
    "start_time": "2023-09-28T13:33:47.651Z"
   },
   {
    "duration": 7,
    "start_time": "2023-09-28T13:33:47.670Z"
   },
   {
    "duration": 20,
    "start_time": "2023-09-28T13:33:47.678Z"
   },
   {
    "duration": 273,
    "start_time": "2023-09-28T13:33:47.700Z"
   },
   {
    "duration": 8,
    "start_time": "2023-09-28T13:33:47.975Z"
   },
   {
    "duration": 366,
    "start_time": "2023-09-28T13:33:47.984Z"
   },
   {
    "duration": 8,
    "start_time": "2023-09-28T13:33:48.351Z"
   },
   {
    "duration": 329,
    "start_time": "2023-09-28T13:33:48.361Z"
   },
   {
    "duration": 9,
    "start_time": "2023-09-28T13:33:48.691Z"
   },
   {
    "duration": 331,
    "start_time": "2023-09-28T13:33:48.702Z"
   },
   {
    "duration": 13,
    "start_time": "2023-09-28T13:33:49.035Z"
   },
   {
    "duration": 166,
    "start_time": "2023-09-28T13:33:49.050Z"
   },
   {
    "duration": 295,
    "start_time": "2023-09-28T13:33:49.218Z"
   },
   {
    "duration": 73,
    "start_time": "2023-09-28T13:33:49.515Z"
   },
   {
    "duration": 85,
    "start_time": "2023-09-28T13:33:49.589Z"
   },
   {
    "duration": 158,
    "start_time": "2023-09-28T13:33:49.675Z"
   },
   {
    "duration": 78,
    "start_time": "2023-09-28T13:33:49.834Z"
   },
   {
    "duration": 76,
    "start_time": "2023-09-28T13:33:49.913Z"
   },
   {
    "duration": 89,
    "start_time": "2023-09-28T13:33:49.990Z"
   },
   {
    "duration": 79,
    "start_time": "2023-09-28T13:33:50.081Z"
   },
   {
    "duration": 104,
    "start_time": "2023-09-28T13:33:50.162Z"
   },
   {
    "duration": 8,
    "start_time": "2023-09-28T13:33:50.268Z"
   },
   {
    "duration": 126,
    "start_time": "2023-09-28T13:33:50.277Z"
   },
   {
    "duration": 155,
    "start_time": "2023-09-28T13:33:50.405Z"
   },
   {
    "duration": 7,
    "start_time": "2023-09-28T13:33:50.561Z"
   },
   {
    "duration": 99,
    "start_time": "2023-09-28T13:33:50.569Z"
   },
   {
    "duration": 158,
    "start_time": "2023-09-28T13:33:50.670Z"
   },
   {
    "duration": 71,
    "start_time": "2023-09-28T13:33:50.830Z"
   },
   {
    "duration": 72,
    "start_time": "2023-09-28T13:33:50.905Z"
   },
   {
    "duration": 85,
    "start_time": "2023-09-28T13:33:50.979Z"
   },
   {
    "duration": 95,
    "start_time": "2023-09-28T13:33:51.066Z"
   },
   {
    "duration": 362,
    "start_time": "2023-09-28T13:33:51.162Z"
   },
   {
    "duration": 4,
    "start_time": "2023-09-28T13:33:51.526Z"
   },
   {
    "duration": 349,
    "start_time": "2023-09-28T13:33:51.532Z"
   },
   {
    "duration": 5,
    "start_time": "2023-09-28T13:33:51.882Z"
   },
   {
    "duration": 302,
    "start_time": "2023-09-28T13:33:51.889Z"
   },
   {
    "duration": 5,
    "start_time": "2023-09-28T13:33:52.193Z"
   },
   {
    "duration": 334,
    "start_time": "2023-09-28T13:33:52.199Z"
   },
   {
    "duration": 314,
    "start_time": "2023-09-28T13:33:52.535Z"
   },
   {
    "duration": 5,
    "start_time": "2023-09-28T13:33:52.850Z"
   },
   {
    "duration": 400,
    "start_time": "2023-09-28T13:33:52.857Z"
   },
   {
    "duration": 266,
    "start_time": "2023-09-28T13:33:53.259Z"
   },
   {
    "duration": 281,
    "start_time": "2023-09-28T13:33:53.527Z"
   },
   {
    "duration": 159,
    "start_time": "2023-09-28T13:33:53.809Z"
   },
   {
    "duration": 205,
    "start_time": "2023-09-28T13:33:53.970Z"
   },
   {
    "duration": 231,
    "start_time": "2023-09-28T13:33:54.178Z"
   },
   {
    "duration": 203,
    "start_time": "2023-09-28T13:33:54.410Z"
   },
   {
    "duration": 205,
    "start_time": "2023-09-28T13:33:54.615Z"
   },
   {
    "duration": 210,
    "start_time": "2023-09-28T13:33:54.821Z"
   },
   {
    "duration": 140,
    "start_time": "2023-09-28T13:33:55.033Z"
   },
   {
    "duration": 239,
    "start_time": "2023-09-28T13:33:55.174Z"
   },
   {
    "duration": 202,
    "start_time": "2023-09-28T13:33:55.414Z"
   },
   {
    "duration": 3,
    "start_time": "2023-09-28T13:33:55.617Z"
   },
   {
    "duration": 18,
    "start_time": "2023-09-28T13:33:55.621Z"
   },
   {
    "duration": 181,
    "start_time": "2023-09-28T13:33:55.640Z"
   },
   {
    "duration": 382,
    "start_time": "2023-09-28T13:33:55.822Z"
   },
   {
    "duration": 10,
    "start_time": "2023-09-28T13:33:56.205Z"
   },
   {
    "duration": 406,
    "start_time": "2023-09-28T13:33:56.216Z"
   },
   {
    "duration": 7,
    "start_time": "2023-09-28T13:33:56.624Z"
   },
   {
    "duration": 7,
    "start_time": "2023-09-28T13:33:56.644Z"
   },
   {
    "duration": 15,
    "start_time": "2023-09-28T13:33:56.653Z"
   },
   {
    "duration": 12,
    "start_time": "2023-09-28T13:33:56.670Z"
   },
   {
    "duration": 7,
    "start_time": "2023-09-28T13:33:56.683Z"
   },
   {
    "duration": 12,
    "start_time": "2023-09-28T13:33:56.691Z"
   },
   {
    "duration": 15,
    "start_time": "2023-09-28T13:33:56.705Z"
   },
   {
    "duration": 360,
    "start_time": "2023-09-28T13:33:56.721Z"
   },
   {
    "duration": 112,
    "start_time": "2023-09-28T13:33:57.083Z"
   },
   {
    "duration": 0,
    "start_time": "2023-09-28T13:33:57.197Z"
   },
   {
    "duration": 0,
    "start_time": "2023-09-28T13:33:57.198Z"
   },
   {
    "duration": 8,
    "start_time": "2023-09-28T14:11:05.880Z"
   },
   {
    "duration": 10,
    "start_time": "2023-09-28T14:11:57.831Z"
   },
   {
    "duration": 11,
    "start_time": "2023-09-28T14:13:01.149Z"
   },
   {
    "duration": 10,
    "start_time": "2023-09-28T14:13:11.601Z"
   },
   {
    "duration": 15,
    "start_time": "2023-09-28T14:13:31.059Z"
   },
   {
    "duration": 8,
    "start_time": "2023-09-28T14:13:47.118Z"
   },
   {
    "duration": 6,
    "start_time": "2023-09-28T14:13:58.261Z"
   },
   {
    "duration": 7,
    "start_time": "2023-09-28T14:13:59.009Z"
   },
   {
    "duration": 350,
    "start_time": "2023-09-28T14:14:30.788Z"
   },
   {
    "duration": 16,
    "start_time": "2023-09-28T14:14:31.140Z"
   },
   {
    "duration": 5,
    "start_time": "2023-09-28T14:20:10.931Z"
   },
   {
    "duration": 1690,
    "start_time": "2023-09-28T14:31:04.509Z"
   },
   {
    "duration": 58,
    "start_time": "2023-09-28T14:31:06.201Z"
   },
   {
    "duration": 16,
    "start_time": "2023-09-28T14:31:06.261Z"
   },
   {
    "duration": 33,
    "start_time": "2023-09-28T14:31:06.279Z"
   },
   {
    "duration": 37,
    "start_time": "2023-09-28T14:31:06.314Z"
   },
   {
    "duration": 27,
    "start_time": "2023-09-28T14:31:06.353Z"
   },
   {
    "duration": 17,
    "start_time": "2023-09-28T14:31:06.382Z"
   },
   {
    "duration": 14,
    "start_time": "2023-09-28T14:31:06.400Z"
   },
   {
    "duration": 28,
    "start_time": "2023-09-28T14:31:06.416Z"
   },
   {
    "duration": 13,
    "start_time": "2023-09-28T14:31:06.447Z"
   },
   {
    "duration": 15,
    "start_time": "2023-09-28T14:31:06.461Z"
   },
   {
    "duration": 372,
    "start_time": "2023-09-28T14:31:06.478Z"
   },
   {
    "duration": 16,
    "start_time": "2023-09-28T14:31:06.852Z"
   },
   {
    "duration": 8,
    "start_time": "2023-09-28T14:31:06.870Z"
   },
   {
    "duration": 17,
    "start_time": "2023-09-28T14:31:06.880Z"
   },
   {
    "duration": 296,
    "start_time": "2023-09-28T14:31:06.899Z"
   },
   {
    "duration": 9,
    "start_time": "2023-09-28T14:31:07.197Z"
   },
   {
    "duration": 374,
    "start_time": "2023-09-28T14:31:07.207Z"
   },
   {
    "duration": 11,
    "start_time": "2023-09-28T14:31:07.583Z"
   },
   {
    "duration": 364,
    "start_time": "2023-09-28T14:31:07.596Z"
   },
   {
    "duration": 9,
    "start_time": "2023-09-28T14:31:07.962Z"
   },
   {
    "duration": 355,
    "start_time": "2023-09-28T14:31:07.973Z"
   },
   {
    "duration": 20,
    "start_time": "2023-09-28T14:31:08.331Z"
   },
   {
    "duration": 117,
    "start_time": "2023-09-28T14:31:08.353Z"
   },
   {
    "duration": 316,
    "start_time": "2023-09-28T14:31:08.472Z"
   },
   {
    "duration": 77,
    "start_time": "2023-09-28T14:31:08.790Z"
   },
   {
    "duration": 92,
    "start_time": "2023-09-28T14:31:08.869Z"
   },
   {
    "duration": 181,
    "start_time": "2023-09-28T14:31:08.965Z"
   },
   {
    "duration": 98,
    "start_time": "2023-09-28T14:31:09.148Z"
   },
   {
    "duration": 70,
    "start_time": "2023-09-28T14:31:09.247Z"
   },
   {
    "duration": 83,
    "start_time": "2023-09-28T14:31:09.319Z"
   },
   {
    "duration": 95,
    "start_time": "2023-09-28T14:31:09.404Z"
   },
   {
    "duration": 109,
    "start_time": "2023-09-28T14:31:09.500Z"
   },
   {
    "duration": 10,
    "start_time": "2023-09-28T14:31:09.611Z"
   },
   {
    "duration": 110,
    "start_time": "2023-09-28T14:31:09.623Z"
   },
   {
    "duration": 149,
    "start_time": "2023-09-28T14:31:09.744Z"
   },
   {
    "duration": 8,
    "start_time": "2023-09-28T14:31:09.895Z"
   },
   {
    "duration": 101,
    "start_time": "2023-09-28T14:31:09.905Z"
   },
   {
    "duration": 182,
    "start_time": "2023-09-28T14:31:10.008Z"
   },
   {
    "duration": 78,
    "start_time": "2023-09-28T14:31:10.191Z"
   },
   {
    "duration": 76,
    "start_time": "2023-09-28T14:31:10.270Z"
   },
   {
    "duration": 80,
    "start_time": "2023-09-28T14:31:10.348Z"
   },
   {
    "duration": 97,
    "start_time": "2023-09-28T14:31:10.429Z"
   },
   {
    "duration": 436,
    "start_time": "2023-09-28T14:31:10.527Z"
   },
   {
    "duration": 5,
    "start_time": "2023-09-28T14:31:10.965Z"
   },
   {
    "duration": 306,
    "start_time": "2023-09-28T14:31:10.971Z"
   },
   {
    "duration": 5,
    "start_time": "2023-09-28T14:31:11.279Z"
   },
   {
    "duration": 319,
    "start_time": "2023-09-28T14:31:11.286Z"
   },
   {
    "duration": 5,
    "start_time": "2023-09-28T14:31:11.607Z"
   },
   {
    "duration": 345,
    "start_time": "2023-09-28T14:31:11.613Z"
   },
   {
    "duration": 292,
    "start_time": "2023-09-28T14:31:11.960Z"
   },
   {
    "duration": 5,
    "start_time": "2023-09-28T14:31:12.253Z"
   },
   {
    "duration": 442,
    "start_time": "2023-09-28T14:31:12.260Z"
   },
   {
    "duration": 288,
    "start_time": "2023-09-28T14:31:12.704Z"
   },
   {
    "duration": 333,
    "start_time": "2023-09-28T14:31:12.994Z"
   },
   {
    "duration": 182,
    "start_time": "2023-09-28T14:31:13.329Z"
   },
   {
    "duration": 190,
    "start_time": "2023-09-28T14:31:13.513Z"
   },
   {
    "duration": 185,
    "start_time": "2023-09-28T14:31:13.705Z"
   },
   {
    "duration": 302,
    "start_time": "2023-09-28T14:31:13.892Z"
   },
   {
    "duration": 287,
    "start_time": "2023-09-28T14:31:14.195Z"
   },
   {
    "duration": 163,
    "start_time": "2023-09-28T14:31:14.484Z"
   },
   {
    "duration": 165,
    "start_time": "2023-09-28T14:31:14.649Z"
   },
   {
    "duration": 287,
    "start_time": "2023-09-28T14:31:14.816Z"
   },
   {
    "duration": 278,
    "start_time": "2023-09-28T14:31:15.106Z"
   },
   {
    "duration": 4,
    "start_time": "2023-09-28T14:31:15.386Z"
   },
   {
    "duration": 16,
    "start_time": "2023-09-28T14:31:15.392Z"
   },
   {
    "duration": 216,
    "start_time": "2023-09-28T14:31:15.410Z"
   },
   {
    "duration": 433,
    "start_time": "2023-09-28T14:31:15.628Z"
   },
   {
    "duration": 15,
    "start_time": "2023-09-28T14:31:16.063Z"
   },
   {
    "duration": 409,
    "start_time": "2023-09-28T14:31:16.080Z"
   },
   {
    "duration": 8,
    "start_time": "2023-09-28T14:31:16.491Z"
   },
   {
    "duration": 15,
    "start_time": "2023-09-28T14:31:16.500Z"
   },
   {
    "duration": 33,
    "start_time": "2023-09-28T14:31:16.517Z"
   },
   {
    "duration": 14,
    "start_time": "2023-09-28T14:31:16.552Z"
   },
   {
    "duration": 35,
    "start_time": "2023-09-28T14:31:16.568Z"
   },
   {
    "duration": 11,
    "start_time": "2023-09-28T14:31:16.607Z"
   },
   {
    "duration": 33,
    "start_time": "2023-09-28T14:31:16.620Z"
   },
   {
    "duration": 13,
    "start_time": "2023-09-28T14:31:16.656Z"
   },
   {
    "duration": 492,
    "start_time": "2023-09-28T14:31:16.671Z"
   },
   {
    "duration": 6,
    "start_time": "2023-09-28T14:31:17.165Z"
   },
   {
    "duration": 133,
    "start_time": "2023-09-28T14:31:17.173Z"
   },
   {
    "duration": 0,
    "start_time": "2023-09-28T14:31:17.308Z"
   },
   {
    "duration": 0,
    "start_time": "2023-09-28T14:31:17.310Z"
   },
   {
    "duration": 15,
    "start_time": "2023-09-28T14:32:21.595Z"
   },
   {
    "duration": 1706,
    "start_time": "2023-09-28T14:33:08.296Z"
   },
   {
    "duration": 57,
    "start_time": "2023-09-28T14:33:10.005Z"
   },
   {
    "duration": 55,
    "start_time": "2023-09-28T14:33:10.113Z"
   },
   {
    "duration": 35,
    "start_time": "2023-09-28T14:33:10.170Z"
   },
   {
    "duration": 16,
    "start_time": "2023-09-28T14:33:10.208Z"
   },
   {
    "duration": 39,
    "start_time": "2023-09-28T14:33:10.226Z"
   },
   {
    "duration": 20,
    "start_time": "2023-09-28T14:33:10.267Z"
   },
   {
    "duration": 17,
    "start_time": "2023-09-28T14:33:10.289Z"
   },
   {
    "duration": 12,
    "start_time": "2023-09-28T14:33:10.308Z"
   },
   {
    "duration": 357,
    "start_time": "2023-09-28T14:33:10.324Z"
   },
   {
    "duration": 23,
    "start_time": "2023-09-28T14:33:10.684Z"
   },
   {
    "duration": 10,
    "start_time": "2023-09-28T14:33:10.712Z"
   },
   {
    "duration": 10,
    "start_time": "2023-09-28T14:33:10.746Z"
   },
   {
    "duration": 408,
    "start_time": "2023-09-28T14:33:10.758Z"
   },
   {
    "duration": 9,
    "start_time": "2023-09-28T14:33:11.168Z"
   },
   {
    "duration": 499,
    "start_time": "2023-09-28T14:33:11.179Z"
   },
   {
    "duration": 11,
    "start_time": "2023-09-28T14:33:11.680Z"
   },
   {
    "duration": 406,
    "start_time": "2023-09-28T14:33:11.693Z"
   },
   {
    "duration": 9,
    "start_time": "2023-09-28T14:33:12.100Z"
   },
   {
    "duration": 396,
    "start_time": "2023-09-28T14:33:12.111Z"
   },
   {
    "duration": 9,
    "start_time": "2023-09-28T14:33:12.510Z"
   },
   {
    "duration": 145,
    "start_time": "2023-09-28T14:33:12.520Z"
   },
   {
    "duration": 490,
    "start_time": "2023-09-28T14:33:12.667Z"
   },
   {
    "duration": 114,
    "start_time": "2023-09-28T14:33:13.159Z"
   },
   {
    "duration": 135,
    "start_time": "2023-09-28T14:33:13.276Z"
   },
   {
    "duration": 189,
    "start_time": "2023-09-28T14:33:13.413Z"
   },
   {
    "duration": 119,
    "start_time": "2023-09-28T14:33:13.603Z"
   },
   {
    "duration": 88,
    "start_time": "2023-09-28T14:33:13.725Z"
   },
   {
    "duration": 86,
    "start_time": "2023-09-28T14:33:13.815Z"
   },
   {
    "duration": 138,
    "start_time": "2023-09-28T14:33:13.902Z"
   },
   {
    "duration": 126,
    "start_time": "2023-09-28T14:33:14.043Z"
   },
   {
    "duration": 11,
    "start_time": "2023-09-28T14:33:14.171Z"
   },
   {
    "duration": 166,
    "start_time": "2023-09-28T14:33:14.184Z"
   },
   {
    "duration": 175,
    "start_time": "2023-09-28T14:33:14.352Z"
   },
   {
    "duration": 16,
    "start_time": "2023-09-28T14:33:14.529Z"
   },
   {
    "duration": 104,
    "start_time": "2023-09-28T14:33:14.546Z"
   },
   {
    "duration": 155,
    "start_time": "2023-09-28T14:33:14.651Z"
   },
   {
    "duration": 78,
    "start_time": "2023-09-28T14:33:14.808Z"
   },
   {
    "duration": 77,
    "start_time": "2023-09-28T14:33:14.890Z"
   },
   {
    "duration": 83,
    "start_time": "2023-09-28T14:33:14.970Z"
   },
   {
    "duration": 101,
    "start_time": "2023-09-28T14:33:15.055Z"
   },
   {
    "duration": 444,
    "start_time": "2023-09-28T14:33:15.158Z"
   },
   {
    "duration": 5,
    "start_time": "2023-09-28T14:33:15.604Z"
   },
   {
    "duration": 309,
    "start_time": "2023-09-28T14:33:15.611Z"
   },
   {
    "duration": 4,
    "start_time": "2023-09-28T14:33:15.922Z"
   },
   {
    "duration": 288,
    "start_time": "2023-09-28T14:33:15.928Z"
   },
   {
    "duration": 4,
    "start_time": "2023-09-28T14:33:16.218Z"
   },
   {
    "duration": 444,
    "start_time": "2023-09-28T14:33:16.224Z"
   },
   {
    "duration": 389,
    "start_time": "2023-09-28T14:33:16.670Z"
   },
   {
    "duration": 8,
    "start_time": "2023-09-28T14:33:17.061Z"
   },
   {
    "duration": 418,
    "start_time": "2023-09-28T14:33:17.070Z"
   },
   {
    "duration": 381,
    "start_time": "2023-09-28T14:33:17.489Z"
   },
   {
    "duration": 288,
    "start_time": "2023-09-28T14:33:17.871Z"
   },
   {
    "duration": 234,
    "start_time": "2023-09-28T14:33:18.161Z"
   },
   {
    "duration": 212,
    "start_time": "2023-09-28T14:33:18.397Z"
   },
   {
    "duration": 185,
    "start_time": "2023-09-28T14:33:18.612Z"
   },
   {
    "duration": 283,
    "start_time": "2023-09-28T14:33:18.799Z"
   },
   {
    "duration": 226,
    "start_time": "2023-09-28T14:33:19.084Z"
   },
   {
    "duration": 153,
    "start_time": "2023-09-28T14:33:19.312Z"
   },
   {
    "duration": 182,
    "start_time": "2023-09-28T14:33:19.466Z"
   },
   {
    "duration": 259,
    "start_time": "2023-09-28T14:33:19.650Z"
   },
   {
    "duration": 216,
    "start_time": "2023-09-28T14:33:19.910Z"
   },
   {
    "duration": 4,
    "start_time": "2023-09-28T14:33:20.128Z"
   },
   {
    "duration": 9,
    "start_time": "2023-09-28T14:33:20.145Z"
   },
   {
    "duration": 211,
    "start_time": "2023-09-28T14:33:20.156Z"
   },
   {
    "duration": 409,
    "start_time": "2023-09-28T14:33:20.370Z"
   },
   {
    "duration": 10,
    "start_time": "2023-09-28T14:33:20.781Z"
   },
   {
    "duration": 432,
    "start_time": "2023-09-28T14:33:20.793Z"
   },
   {
    "duration": 18,
    "start_time": "2023-09-28T14:33:21.226Z"
   },
   {
    "duration": 12,
    "start_time": "2023-09-28T14:33:21.246Z"
   },
   {
    "duration": 11,
    "start_time": "2023-09-28T14:33:21.261Z"
   },
   {
    "duration": 14,
    "start_time": "2023-09-28T14:33:21.274Z"
   },
   {
    "duration": 26,
    "start_time": "2023-09-28T14:33:21.290Z"
   },
   {
    "duration": 11,
    "start_time": "2023-09-28T14:33:21.346Z"
   },
   {
    "duration": 15,
    "start_time": "2023-09-28T14:33:21.359Z"
   },
   {
    "duration": 12,
    "start_time": "2023-09-28T14:33:21.375Z"
   },
   {
    "duration": 19,
    "start_time": "2023-09-28T14:33:21.390Z"
   },
   {
    "duration": 427,
    "start_time": "2023-09-28T14:33:21.411Z"
   },
   {
    "duration": 9,
    "start_time": "2023-09-28T14:33:21.840Z"
   },
   {
    "duration": 154,
    "start_time": "2023-09-28T14:33:21.851Z"
   },
   {
    "duration": 1,
    "start_time": "2023-09-28T14:33:22.006Z"
   },
   {
    "duration": 0,
    "start_time": "2023-09-28T14:33:22.008Z"
   },
   {
    "duration": 6,
    "start_time": "2023-09-28T14:33:47.381Z"
   },
   {
    "duration": 1718,
    "start_time": "2023-09-28T14:34:14.091Z"
   },
   {
    "duration": 63,
    "start_time": "2023-09-28T14:34:15.812Z"
   },
   {
    "duration": 18,
    "start_time": "2023-09-28T14:34:15.877Z"
   },
   {
    "duration": 54,
    "start_time": "2023-09-28T14:34:15.898Z"
   },
   {
    "duration": 30,
    "start_time": "2023-09-28T14:34:15.955Z"
   },
   {
    "duration": 53,
    "start_time": "2023-09-28T14:34:15.987Z"
   },
   {
    "duration": 22,
    "start_time": "2023-09-28T14:34:16.041Z"
   },
   {
    "duration": 55,
    "start_time": "2023-09-28T14:34:16.066Z"
   },
   {
    "duration": 42,
    "start_time": "2023-09-28T14:34:16.123Z"
   },
   {
    "duration": 50,
    "start_time": "2023-09-28T14:34:16.167Z"
   },
   {
    "duration": 53,
    "start_time": "2023-09-28T14:34:16.219Z"
   },
   {
    "duration": 398,
    "start_time": "2023-09-28T14:34:16.274Z"
   },
   {
    "duration": 24,
    "start_time": "2023-09-28T14:34:16.674Z"
   },
   {
    "duration": 17,
    "start_time": "2023-09-28T14:34:16.702Z"
   },
   {
    "duration": 137,
    "start_time": "2023-09-28T14:34:16.721Z"
   },
   {
    "duration": 369,
    "start_time": "2023-09-28T14:34:16.860Z"
   },
   {
    "duration": 15,
    "start_time": "2023-09-28T14:34:17.231Z"
   },
   {
    "duration": 460,
    "start_time": "2023-09-28T14:34:17.248Z"
   },
   {
    "duration": 9,
    "start_time": "2023-09-28T14:34:17.710Z"
   },
   {
    "duration": 409,
    "start_time": "2023-09-28T14:34:17.720Z"
   },
   {
    "duration": 21,
    "start_time": "2023-09-28T14:34:18.131Z"
   },
   {
    "duration": 405,
    "start_time": "2023-09-28T14:34:18.154Z"
   },
   {
    "duration": 9,
    "start_time": "2023-09-28T14:34:18.561Z"
   },
   {
    "duration": 135,
    "start_time": "2023-09-28T14:34:18.572Z"
   },
   {
    "duration": 335,
    "start_time": "2023-09-28T14:34:18.709Z"
   },
   {
    "duration": 98,
    "start_time": "2023-09-28T14:34:19.046Z"
   },
   {
    "duration": 117,
    "start_time": "2023-09-28T14:34:19.146Z"
   },
   {
    "duration": 202,
    "start_time": "2023-09-28T14:34:19.265Z"
   },
   {
    "duration": 111,
    "start_time": "2023-09-28T14:34:19.470Z"
   },
   {
    "duration": 122,
    "start_time": "2023-09-28T14:34:19.583Z"
   },
   {
    "duration": 113,
    "start_time": "2023-09-28T14:34:19.706Z"
   },
   {
    "duration": 99,
    "start_time": "2023-09-28T14:34:19.820Z"
   },
   {
    "duration": 95,
    "start_time": "2023-09-28T14:34:19.921Z"
   },
   {
    "duration": 8,
    "start_time": "2023-09-28T14:34:20.018Z"
   },
   {
    "duration": 148,
    "start_time": "2023-09-28T14:34:20.027Z"
   },
   {
    "duration": 202,
    "start_time": "2023-09-28T14:34:20.177Z"
   },
   {
    "duration": 10,
    "start_time": "2023-09-28T14:34:20.381Z"
   },
   {
    "duration": 123,
    "start_time": "2023-09-28T14:34:20.393Z"
   },
   {
    "duration": 170,
    "start_time": "2023-09-28T14:34:20.518Z"
   },
   {
    "duration": 81,
    "start_time": "2023-09-28T14:34:20.690Z"
   },
   {
    "duration": 95,
    "start_time": "2023-09-28T14:34:20.775Z"
   },
   {
    "duration": 96,
    "start_time": "2023-09-28T14:34:20.872Z"
   },
   {
    "duration": 92,
    "start_time": "2023-09-28T14:34:20.969Z"
   },
   {
    "duration": 453,
    "start_time": "2023-09-28T14:34:21.063Z"
   },
   {
    "duration": 6,
    "start_time": "2023-09-28T14:34:21.518Z"
   },
   {
    "duration": 308,
    "start_time": "2023-09-28T14:34:21.525Z"
   },
   {
    "duration": 12,
    "start_time": "2023-09-28T14:34:21.835Z"
   },
   {
    "duration": 301,
    "start_time": "2023-09-28T14:34:21.852Z"
   },
   {
    "duration": 4,
    "start_time": "2023-09-28T14:34:22.155Z"
   },
   {
    "duration": 305,
    "start_time": "2023-09-28T14:34:22.161Z"
   },
   {
    "duration": 319,
    "start_time": "2023-09-28T14:34:22.467Z"
   },
   {
    "duration": 5,
    "start_time": "2023-09-28T14:34:22.788Z"
   },
   {
    "duration": 449,
    "start_time": "2023-09-28T14:34:22.795Z"
   },
   {
    "duration": 277,
    "start_time": "2023-09-28T14:34:23.246Z"
   },
   {
    "duration": 281,
    "start_time": "2023-09-28T14:34:23.525Z"
   },
   {
    "duration": 238,
    "start_time": "2023-09-28T14:34:23.808Z"
   },
   {
    "duration": 217,
    "start_time": "2023-09-28T14:34:24.048Z"
   },
   {
    "duration": 201,
    "start_time": "2023-09-28T14:34:24.267Z"
   },
   {
    "duration": 257,
    "start_time": "2023-09-28T14:34:24.470Z"
   },
   {
    "duration": 296,
    "start_time": "2023-09-28T14:34:24.729Z"
   },
   {
    "duration": 179,
    "start_time": "2023-09-28T14:34:25.026Z"
   },
   {
    "duration": 171,
    "start_time": "2023-09-28T14:34:25.207Z"
   },
   {
    "duration": 236,
    "start_time": "2023-09-28T14:34:25.379Z"
   },
   {
    "duration": 231,
    "start_time": "2023-09-28T14:34:25.617Z"
   },
   {
    "duration": 4,
    "start_time": "2023-09-28T14:34:25.849Z"
   },
   {
    "duration": 13,
    "start_time": "2023-09-28T14:34:25.854Z"
   },
   {
    "duration": 190,
    "start_time": "2023-09-28T14:34:25.869Z"
   },
   {
    "duration": 408,
    "start_time": "2023-09-28T14:34:26.061Z"
   },
   {
    "duration": 12,
    "start_time": "2023-09-28T14:34:26.471Z"
   },
   {
    "duration": 413,
    "start_time": "2023-09-28T14:34:26.484Z"
   },
   {
    "duration": 10,
    "start_time": "2023-09-28T14:34:26.899Z"
   },
   {
    "duration": 16,
    "start_time": "2023-09-28T14:34:26.910Z"
   },
   {
    "duration": 24,
    "start_time": "2023-09-28T14:34:26.928Z"
   },
   {
    "duration": 16,
    "start_time": "2023-09-28T14:34:26.954Z"
   },
   {
    "duration": 25,
    "start_time": "2023-09-28T14:34:26.972Z"
   },
   {
    "duration": 11,
    "start_time": "2023-09-28T14:34:26.999Z"
   },
   {
    "duration": 67,
    "start_time": "2023-09-28T14:34:27.012Z"
   },
   {
    "duration": 12,
    "start_time": "2023-09-28T14:34:27.081Z"
   },
   {
    "duration": 14,
    "start_time": "2023-09-28T14:34:27.095Z"
   },
   {
    "duration": 20,
    "start_time": "2023-09-28T14:34:27.111Z"
   },
   {
    "duration": 399,
    "start_time": "2023-09-28T14:34:27.133Z"
   },
   {
    "duration": 11,
    "start_time": "2023-09-28T14:34:27.534Z"
   },
   {
    "duration": 136,
    "start_time": "2023-09-28T14:34:27.546Z"
   },
   {
    "duration": 0,
    "start_time": "2023-09-28T14:34:27.684Z"
   },
   {
    "duration": 0,
    "start_time": "2023-09-28T14:34:27.685Z"
   },
   {
    "duration": 42,
    "start_time": "2023-09-28T14:36:34.145Z"
   },
   {
    "duration": 31,
    "start_time": "2023-09-28T14:37:12.297Z"
   },
   {
    "duration": 1549,
    "start_time": "2023-09-28T14:38:06.448Z"
   },
   {
    "duration": 56,
    "start_time": "2023-09-28T14:38:08.001Z"
   },
   {
    "duration": 14,
    "start_time": "2023-09-28T14:38:08.058Z"
   },
   {
    "duration": 30,
    "start_time": "2023-09-28T14:38:08.073Z"
   },
   {
    "duration": 31,
    "start_time": "2023-09-28T14:38:08.105Z"
   },
   {
    "duration": 33,
    "start_time": "2023-09-28T14:38:08.138Z"
   },
   {
    "duration": 9,
    "start_time": "2023-09-28T14:38:08.173Z"
   },
   {
    "duration": 17,
    "start_time": "2023-09-28T14:38:08.184Z"
   },
   {
    "duration": 16,
    "start_time": "2023-09-28T14:38:08.203Z"
   },
   {
    "duration": 35,
    "start_time": "2023-09-28T14:38:08.221Z"
   },
   {
    "duration": 9,
    "start_time": "2023-09-28T14:38:08.258Z"
   },
   {
    "duration": 331,
    "start_time": "2023-09-28T14:38:08.268Z"
   },
   {
    "duration": 15,
    "start_time": "2023-09-28T14:38:08.600Z"
   },
   {
    "duration": 46,
    "start_time": "2023-09-28T14:38:08.618Z"
   },
   {
    "duration": 22,
    "start_time": "2023-09-28T14:38:08.666Z"
   },
   {
    "duration": 256,
    "start_time": "2023-09-28T14:38:08.690Z"
   },
   {
    "duration": 8,
    "start_time": "2023-09-28T14:38:08.947Z"
   },
   {
    "duration": 337,
    "start_time": "2023-09-28T14:38:08.956Z"
   },
   {
    "duration": 8,
    "start_time": "2023-09-28T14:38:09.295Z"
   },
   {
    "duration": 305,
    "start_time": "2023-09-28T14:38:09.305Z"
   },
   {
    "duration": 8,
    "start_time": "2023-09-28T14:38:09.611Z"
   },
   {
    "duration": 313,
    "start_time": "2023-09-28T14:38:09.620Z"
   },
   {
    "duration": 14,
    "start_time": "2023-09-28T14:38:09.935Z"
   },
   {
    "duration": 115,
    "start_time": "2023-09-28T14:38:09.950Z"
   },
   {
    "duration": 327,
    "start_time": "2023-09-28T14:38:10.067Z"
   },
   {
    "duration": 71,
    "start_time": "2023-09-28T14:38:10.395Z"
   },
   {
    "duration": 89,
    "start_time": "2023-09-28T14:38:10.468Z"
   },
   {
    "duration": 158,
    "start_time": "2023-09-28T14:38:10.559Z"
   },
   {
    "duration": 76,
    "start_time": "2023-09-28T14:38:10.719Z"
   },
   {
    "duration": 79,
    "start_time": "2023-09-28T14:38:10.796Z"
   },
   {
    "duration": 76,
    "start_time": "2023-09-28T14:38:10.877Z"
   },
   {
    "duration": 70,
    "start_time": "2023-09-28T14:38:10.955Z"
   },
   {
    "duration": 103,
    "start_time": "2023-09-28T14:38:11.027Z"
   },
   {
    "duration": 19,
    "start_time": "2023-09-28T14:38:11.131Z"
   },
   {
    "duration": 111,
    "start_time": "2023-09-28T14:38:11.151Z"
   },
   {
    "duration": 146,
    "start_time": "2023-09-28T14:38:11.263Z"
   },
   {
    "duration": 7,
    "start_time": "2023-09-28T14:38:11.411Z"
   },
   {
    "duration": 95,
    "start_time": "2023-09-28T14:38:11.420Z"
   },
   {
    "duration": 154,
    "start_time": "2023-09-28T14:38:11.517Z"
   },
   {
    "duration": 75,
    "start_time": "2023-09-28T14:38:11.672Z"
   },
   {
    "duration": 63,
    "start_time": "2023-09-28T14:38:11.751Z"
   },
   {
    "duration": 82,
    "start_time": "2023-09-28T14:38:11.816Z"
   },
   {
    "duration": 90,
    "start_time": "2023-09-28T14:38:11.899Z"
   },
   {
    "duration": 436,
    "start_time": "2023-09-28T14:38:11.991Z"
   },
   {
    "duration": 15,
    "start_time": "2023-09-28T14:38:12.429Z"
   },
   {
    "duration": 291,
    "start_time": "2023-09-28T14:38:12.446Z"
   },
   {
    "duration": 8,
    "start_time": "2023-09-28T14:38:12.738Z"
   },
   {
    "duration": 266,
    "start_time": "2023-09-28T14:38:12.748Z"
   },
   {
    "duration": 4,
    "start_time": "2023-09-28T14:38:13.017Z"
   },
   {
    "duration": 336,
    "start_time": "2023-09-28T14:38:13.023Z"
   },
   {
    "duration": 276,
    "start_time": "2023-09-28T14:38:13.361Z"
   },
   {
    "duration": 8,
    "start_time": "2023-09-28T14:38:13.639Z"
   },
   {
    "duration": 399,
    "start_time": "2023-09-28T14:38:13.649Z"
   },
   {
    "duration": 395,
    "start_time": "2023-09-28T14:38:14.050Z"
   },
   {
    "duration": 287,
    "start_time": "2023-09-28T14:38:14.446Z"
   },
   {
    "duration": 174,
    "start_time": "2023-09-28T14:38:14.735Z"
   },
   {
    "duration": 189,
    "start_time": "2023-09-28T14:38:14.911Z"
   },
   {
    "duration": 175,
    "start_time": "2023-09-28T14:38:15.101Z"
   },
   {
    "duration": 232,
    "start_time": "2023-09-28T14:38:15.278Z"
   },
   {
    "duration": 230,
    "start_time": "2023-09-28T14:38:15.512Z"
   },
   {
    "duration": 155,
    "start_time": "2023-09-28T14:38:15.744Z"
   },
   {
    "duration": 150,
    "start_time": "2023-09-28T14:38:15.901Z"
   },
   {
    "duration": 256,
    "start_time": "2023-09-28T14:38:16.053Z"
   },
   {
    "duration": 241,
    "start_time": "2023-09-28T14:38:16.311Z"
   },
   {
    "duration": 4,
    "start_time": "2023-09-28T14:38:16.553Z"
   },
   {
    "duration": 30,
    "start_time": "2023-09-28T14:38:16.559Z"
   },
   {
    "duration": 256,
    "start_time": "2023-09-28T14:38:16.591Z"
   },
   {
    "duration": 406,
    "start_time": "2023-09-28T14:38:16.849Z"
   },
   {
    "duration": 10,
    "start_time": "2023-09-28T14:38:17.257Z"
   },
   {
    "duration": 387,
    "start_time": "2023-09-28T14:38:17.268Z"
   },
   {
    "duration": 8,
    "start_time": "2023-09-28T14:38:17.657Z"
   },
   {
    "duration": 49,
    "start_time": "2023-09-28T14:38:17.666Z"
   },
   {
    "duration": 9,
    "start_time": "2023-09-28T14:38:17.718Z"
   },
   {
    "duration": 19,
    "start_time": "2023-09-28T14:38:17.729Z"
   },
   {
    "duration": 20,
    "start_time": "2023-09-28T14:38:17.749Z"
   },
   {
    "duration": 39,
    "start_time": "2023-09-28T14:38:17.772Z"
   },
   {
    "duration": 20,
    "start_time": "2023-09-28T14:38:17.813Z"
   },
   {
    "duration": 15,
    "start_time": "2023-09-28T14:38:17.835Z"
   },
   {
    "duration": 25,
    "start_time": "2023-09-28T14:38:17.853Z"
   },
   {
    "duration": 10,
    "start_time": "2023-09-28T14:38:17.879Z"
   },
   {
    "duration": 17,
    "start_time": "2023-09-28T14:38:17.891Z"
   },
   {
    "duration": 11,
    "start_time": "2023-09-28T14:38:17.909Z"
   },
   {
    "duration": 35,
    "start_time": "2023-09-28T14:38:17.921Z"
   },
   {
    "duration": 353,
    "start_time": "2023-09-28T14:38:17.957Z"
   },
   {
    "duration": 4,
    "start_time": "2023-09-28T14:38:18.312Z"
   },
   {
    "duration": 125,
    "start_time": "2023-09-28T14:38:18.319Z"
   },
   {
    "duration": 0,
    "start_time": "2023-09-28T14:38:18.446Z"
   },
   {
    "duration": 0,
    "start_time": "2023-09-28T14:38:18.447Z"
   },
   {
    "duration": 34,
    "start_time": "2023-09-28T14:39:26.215Z"
   },
   {
    "duration": 22,
    "start_time": "2023-09-28T14:49:37.138Z"
   },
   {
    "duration": 26,
    "start_time": "2023-09-28T14:50:31.308Z"
   },
   {
    "duration": 9,
    "start_time": "2023-09-28T14:50:44.703Z"
   },
   {
    "duration": 15,
    "start_time": "2023-09-28T14:53:10.617Z"
   },
   {
    "duration": 1501,
    "start_time": "2023-09-28T14:54:40.592Z"
   },
   {
    "duration": 67,
    "start_time": "2023-09-28T14:54:42.096Z"
   },
   {
    "duration": 14,
    "start_time": "2023-09-28T14:54:42.165Z"
   },
   {
    "duration": 35,
    "start_time": "2023-09-28T14:54:42.182Z"
   },
   {
    "duration": 29,
    "start_time": "2023-09-28T14:54:42.219Z"
   },
   {
    "duration": 27,
    "start_time": "2023-09-28T14:54:42.253Z"
   },
   {
    "duration": 10,
    "start_time": "2023-09-28T14:54:42.282Z"
   },
   {
    "duration": 9,
    "start_time": "2023-09-28T14:54:42.294Z"
   },
   {
    "duration": 9,
    "start_time": "2023-09-28T14:54:42.304Z"
   },
   {
    "duration": 45,
    "start_time": "2023-09-28T14:54:42.315Z"
   },
   {
    "duration": 10,
    "start_time": "2023-09-28T14:54:42.362Z"
   },
   {
    "duration": 390,
    "start_time": "2023-09-28T14:54:42.374Z"
   },
   {
    "duration": 16,
    "start_time": "2023-09-28T14:54:42.766Z"
   },
   {
    "duration": 7,
    "start_time": "2023-09-28T14:54:42.783Z"
   },
   {
    "duration": 8,
    "start_time": "2023-09-28T14:54:42.792Z"
   },
   {
    "duration": 334,
    "start_time": "2023-09-28T14:54:42.801Z"
   },
   {
    "duration": 22,
    "start_time": "2023-09-28T14:54:43.137Z"
   },
   {
    "duration": 356,
    "start_time": "2023-09-28T14:54:43.166Z"
   },
   {
    "duration": 7,
    "start_time": "2023-09-28T14:54:43.524Z"
   },
   {
    "duration": 350,
    "start_time": "2023-09-28T14:54:43.533Z"
   },
   {
    "duration": 8,
    "start_time": "2023-09-28T14:54:43.885Z"
   },
   {
    "duration": 430,
    "start_time": "2023-09-28T14:54:43.894Z"
   },
   {
    "duration": 9,
    "start_time": "2023-09-28T14:54:44.326Z"
   },
   {
    "duration": 142,
    "start_time": "2023-09-28T14:54:44.337Z"
   },
   {
    "duration": 342,
    "start_time": "2023-09-28T14:54:44.481Z"
   },
   {
    "duration": 80,
    "start_time": "2023-09-28T14:54:44.825Z"
   },
   {
    "duration": 98,
    "start_time": "2023-09-28T14:54:44.906Z"
   },
   {
    "duration": 194,
    "start_time": "2023-09-28T14:54:45.009Z"
   },
   {
    "duration": 86,
    "start_time": "2023-09-28T14:54:45.204Z"
   },
   {
    "duration": 89,
    "start_time": "2023-09-28T14:54:45.292Z"
   },
   {
    "duration": 81,
    "start_time": "2023-09-28T14:54:45.383Z"
   },
   {
    "duration": 90,
    "start_time": "2023-09-28T14:54:45.466Z"
   },
   {
    "duration": 92,
    "start_time": "2023-09-28T14:54:45.557Z"
   },
   {
    "duration": 10,
    "start_time": "2023-09-28T14:54:45.650Z"
   },
   {
    "duration": 158,
    "start_time": "2023-09-28T14:54:45.664Z"
   },
   {
    "duration": 174,
    "start_time": "2023-09-28T14:54:45.825Z"
   },
   {
    "duration": 9,
    "start_time": "2023-09-28T14:54:46.001Z"
   },
   {
    "duration": 143,
    "start_time": "2023-09-28T14:54:46.012Z"
   },
   {
    "duration": 165,
    "start_time": "2023-09-28T14:54:46.162Z"
   },
   {
    "duration": 78,
    "start_time": "2023-09-28T14:54:46.329Z"
   },
   {
    "duration": 87,
    "start_time": "2023-09-28T14:54:46.409Z"
   },
   {
    "duration": 90,
    "start_time": "2023-09-28T14:54:46.498Z"
   },
   {
    "duration": 109,
    "start_time": "2023-09-28T14:54:46.590Z"
   },
   {
    "duration": 474,
    "start_time": "2023-09-28T14:54:46.701Z"
   },
   {
    "duration": 5,
    "start_time": "2023-09-28T14:54:47.177Z"
   },
   {
    "duration": 309,
    "start_time": "2023-09-28T14:54:47.184Z"
   },
   {
    "duration": 5,
    "start_time": "2023-09-28T14:54:47.495Z"
   },
   {
    "duration": 331,
    "start_time": "2023-09-28T14:54:47.501Z"
   },
   {
    "duration": 12,
    "start_time": "2023-09-28T14:54:47.834Z"
   },
   {
    "duration": 345,
    "start_time": "2023-09-28T14:54:47.850Z"
   },
   {
    "duration": 308,
    "start_time": "2023-09-28T14:54:48.197Z"
   },
   {
    "duration": 5,
    "start_time": "2023-09-28T14:54:48.506Z"
   },
   {
    "duration": 396,
    "start_time": "2023-09-28T14:54:48.512Z"
   },
   {
    "duration": 296,
    "start_time": "2023-09-28T14:54:48.909Z"
   },
   {
    "duration": 313,
    "start_time": "2023-09-28T14:54:49.207Z"
   },
   {
    "duration": 190,
    "start_time": "2023-09-28T14:54:49.522Z"
   },
   {
    "duration": 192,
    "start_time": "2023-09-28T14:54:49.713Z"
   },
   {
    "duration": 214,
    "start_time": "2023-09-28T14:54:49.907Z"
   },
   {
    "duration": 267,
    "start_time": "2023-09-28T14:54:50.123Z"
   },
   {
    "duration": 232,
    "start_time": "2023-09-28T14:54:50.392Z"
   },
   {
    "duration": 157,
    "start_time": "2023-09-28T14:54:50.634Z"
   },
   {
    "duration": 191,
    "start_time": "2023-09-28T14:54:50.793Z"
   },
   {
    "duration": 294,
    "start_time": "2023-09-28T14:54:50.986Z"
   },
   {
    "duration": 254,
    "start_time": "2023-09-28T14:54:51.282Z"
   },
   {
    "duration": 9,
    "start_time": "2023-09-28T14:54:51.544Z"
   },
   {
    "duration": 6,
    "start_time": "2023-09-28T14:54:51.556Z"
   },
   {
    "duration": 260,
    "start_time": "2023-09-28T14:54:51.564Z"
   },
   {
    "duration": 450,
    "start_time": "2023-09-28T14:54:51.826Z"
   },
   {
    "duration": 12,
    "start_time": "2023-09-28T14:54:52.278Z"
   },
   {
    "duration": 476,
    "start_time": "2023-09-28T14:54:52.292Z"
   },
   {
    "duration": 9,
    "start_time": "2023-09-28T14:54:52.770Z"
   },
   {
    "duration": 29,
    "start_time": "2023-09-28T14:54:52.781Z"
   },
   {
    "duration": 28,
    "start_time": "2023-09-28T14:54:52.812Z"
   },
   {
    "duration": 26,
    "start_time": "2023-09-28T14:54:52.844Z"
   },
   {
    "duration": 36,
    "start_time": "2023-09-28T14:54:52.872Z"
   },
   {
    "duration": 50,
    "start_time": "2023-09-28T14:54:52.910Z"
   },
   {
    "duration": 48,
    "start_time": "2023-09-28T14:54:52.962Z"
   },
   {
    "duration": 39,
    "start_time": "2023-09-28T14:54:53.012Z"
   },
   {
    "duration": 43,
    "start_time": "2023-09-28T14:54:53.057Z"
   },
   {
    "duration": 10,
    "start_time": "2023-09-28T14:54:53.102Z"
   },
   {
    "duration": 47,
    "start_time": "2023-09-28T14:54:53.114Z"
   },
   {
    "duration": 13,
    "start_time": "2023-09-28T14:54:53.168Z"
   },
   {
    "duration": 21,
    "start_time": "2023-09-28T14:54:53.182Z"
   },
   {
    "duration": 15,
    "start_time": "2023-09-28T14:54:53.205Z"
   },
   {
    "duration": 51,
    "start_time": "2023-09-28T14:54:53.222Z"
   },
   {
    "duration": 459,
    "start_time": "2023-09-28T14:54:53.275Z"
   },
   {
    "duration": 15,
    "start_time": "2023-09-28T14:54:53.736Z"
   },
   {
    "duration": 29,
    "start_time": "2023-09-28T14:54:53.753Z"
   },
   {
    "duration": 26,
    "start_time": "2023-09-28T14:54:53.784Z"
   },
   {
    "duration": 16,
    "start_time": "2023-09-28T14:54:53.812Z"
   },
   {
    "duration": 53,
    "start_time": "2023-09-28T14:54:53.830Z"
   },
   {
    "duration": 106,
    "start_time": "2023-09-28T14:58:17.558Z"
   },
   {
    "duration": 1489,
    "start_time": "2023-09-28T14:58:47.079Z"
   },
   {
    "duration": 56,
    "start_time": "2023-09-28T14:58:48.570Z"
   },
   {
    "duration": 12,
    "start_time": "2023-09-28T14:58:48.628Z"
   },
   {
    "duration": 31,
    "start_time": "2023-09-28T14:58:48.642Z"
   },
   {
    "duration": 26,
    "start_time": "2023-09-28T14:58:48.676Z"
   },
   {
    "duration": 24,
    "start_time": "2023-09-28T14:58:48.704Z"
   },
   {
    "duration": 24,
    "start_time": "2023-09-28T14:58:48.729Z"
   },
   {
    "duration": 12,
    "start_time": "2023-09-28T14:58:48.754Z"
   },
   {
    "duration": 19,
    "start_time": "2023-09-28T14:58:48.768Z"
   },
   {
    "duration": 13,
    "start_time": "2023-09-28T14:58:48.789Z"
   },
   {
    "duration": 10,
    "start_time": "2023-09-28T14:58:48.804Z"
   },
   {
    "duration": 405,
    "start_time": "2023-09-28T14:58:48.816Z"
   },
   {
    "duration": 25,
    "start_time": "2023-09-28T14:58:49.223Z"
   },
   {
    "duration": 11,
    "start_time": "2023-09-28T14:58:49.253Z"
   },
   {
    "duration": 10,
    "start_time": "2023-09-28T14:58:49.265Z"
   },
   {
    "duration": 319,
    "start_time": "2023-09-28T14:58:49.277Z"
   },
   {
    "duration": 8,
    "start_time": "2023-09-28T14:58:49.598Z"
   },
   {
    "duration": 374,
    "start_time": "2023-09-28T14:58:49.607Z"
   },
   {
    "duration": 9,
    "start_time": "2023-09-28T14:58:49.982Z"
   },
   {
    "duration": 329,
    "start_time": "2023-09-28T14:58:49.993Z"
   },
   {
    "duration": 7,
    "start_time": "2023-09-28T14:58:50.324Z"
   },
   {
    "duration": 332,
    "start_time": "2023-09-28T14:58:50.345Z"
   },
   {
    "duration": 7,
    "start_time": "2023-09-28T14:58:50.678Z"
   },
   {
    "duration": 113,
    "start_time": "2023-09-28T14:58:50.687Z"
   },
   {
    "duration": 356,
    "start_time": "2023-09-28T14:58:50.802Z"
   },
   {
    "duration": 70,
    "start_time": "2023-09-28T14:58:51.162Z"
   },
   {
    "duration": 91,
    "start_time": "2023-09-28T14:58:51.234Z"
   },
   {
    "duration": 176,
    "start_time": "2023-09-28T14:58:51.327Z"
   },
   {
    "duration": 95,
    "start_time": "2023-09-28T14:58:51.505Z"
   },
   {
    "duration": 96,
    "start_time": "2023-09-28T14:58:51.602Z"
   },
   {
    "duration": 98,
    "start_time": "2023-09-28T14:58:51.700Z"
   },
   {
    "duration": 107,
    "start_time": "2023-09-28T14:58:51.800Z"
   },
   {
    "duration": 96,
    "start_time": "2023-09-28T14:58:51.910Z"
   },
   {
    "duration": 8,
    "start_time": "2023-09-28T14:58:52.007Z"
   },
   {
    "duration": 128,
    "start_time": "2023-09-28T14:58:52.016Z"
   },
   {
    "duration": 161,
    "start_time": "2023-09-28T14:58:52.146Z"
   },
   {
    "duration": 7,
    "start_time": "2023-09-28T14:58:52.308Z"
   },
   {
    "duration": 109,
    "start_time": "2023-09-28T14:58:52.317Z"
   },
   {
    "duration": 163,
    "start_time": "2023-09-28T14:58:52.429Z"
   },
   {
    "duration": 86,
    "start_time": "2023-09-28T14:58:52.593Z"
   },
   {
    "duration": 76,
    "start_time": "2023-09-28T14:58:52.683Z"
   },
   {
    "duration": 101,
    "start_time": "2023-09-28T14:58:52.760Z"
   },
   {
    "duration": 95,
    "start_time": "2023-09-28T14:58:52.863Z"
   },
   {
    "duration": 389,
    "start_time": "2023-09-28T14:58:52.962Z"
   },
   {
    "duration": 7,
    "start_time": "2023-09-28T14:58:53.353Z"
   },
   {
    "duration": 289,
    "start_time": "2023-09-28T14:58:53.362Z"
   },
   {
    "duration": 5,
    "start_time": "2023-09-28T14:58:53.655Z"
   },
   {
    "duration": 302,
    "start_time": "2023-09-28T14:58:53.662Z"
   },
   {
    "duration": 7,
    "start_time": "2023-09-28T14:58:53.966Z"
   },
   {
    "duration": 402,
    "start_time": "2023-09-28T14:58:53.975Z"
   },
   {
    "duration": 297,
    "start_time": "2023-09-28T14:58:54.378Z"
   },
   {
    "duration": 4,
    "start_time": "2023-09-28T14:58:54.677Z"
   },
   {
    "duration": 407,
    "start_time": "2023-09-28T14:58:54.683Z"
   },
   {
    "duration": 261,
    "start_time": "2023-09-28T14:58:55.092Z"
   },
   {
    "duration": 272,
    "start_time": "2023-09-28T14:58:55.354Z"
   },
   {
    "duration": 179,
    "start_time": "2023-09-28T14:58:55.628Z"
   },
   {
    "duration": 168,
    "start_time": "2023-09-28T14:58:55.809Z"
   },
   {
    "duration": 176,
    "start_time": "2023-09-28T14:58:55.979Z"
   },
   {
    "duration": 240,
    "start_time": "2023-09-28T14:58:56.157Z"
   },
   {
    "duration": 222,
    "start_time": "2023-09-28T14:58:56.399Z"
   },
   {
    "duration": 159,
    "start_time": "2023-09-28T14:58:56.623Z"
   },
   {
    "duration": 138,
    "start_time": "2023-09-28T14:58:56.784Z"
   },
   {
    "duration": 255,
    "start_time": "2023-09-28T14:58:56.923Z"
   },
   {
    "duration": 227,
    "start_time": "2023-09-28T14:58:57.180Z"
   },
   {
    "duration": 3,
    "start_time": "2023-09-28T14:58:57.409Z"
   },
   {
    "duration": 6,
    "start_time": "2023-09-28T14:58:57.414Z"
   },
   {
    "duration": 203,
    "start_time": "2023-09-28T14:58:57.421Z"
   },
   {
    "duration": 401,
    "start_time": "2023-09-28T14:58:57.625Z"
   },
   {
    "duration": 21,
    "start_time": "2023-09-28T14:58:58.028Z"
   },
   {
    "duration": 377,
    "start_time": "2023-09-28T14:58:58.050Z"
   },
   {
    "duration": 7,
    "start_time": "2023-09-28T14:58:58.429Z"
   },
   {
    "duration": 40,
    "start_time": "2023-09-28T14:58:58.438Z"
   },
   {
    "duration": 10,
    "start_time": "2023-09-28T14:58:58.480Z"
   },
   {
    "duration": 16,
    "start_time": "2023-09-28T14:58:58.491Z"
   },
   {
    "duration": 13,
    "start_time": "2023-09-28T14:58:58.509Z"
   },
   {
    "duration": 9,
    "start_time": "2023-09-28T14:58:58.523Z"
   },
   {
    "duration": 32,
    "start_time": "2023-09-28T14:58:58.544Z"
   },
   {
    "duration": 15,
    "start_time": "2023-09-28T14:58:58.578Z"
   },
   {
    "duration": 29,
    "start_time": "2023-09-28T14:58:58.594Z"
   },
   {
    "duration": 22,
    "start_time": "2023-09-28T14:58:58.625Z"
   },
   {
    "duration": 34,
    "start_time": "2023-09-28T14:58:58.654Z"
   },
   {
    "duration": 15,
    "start_time": "2023-09-28T14:58:58.690Z"
   },
   {
    "duration": 34,
    "start_time": "2023-09-28T14:58:58.706Z"
   },
   {
    "duration": 13,
    "start_time": "2023-09-28T14:58:58.741Z"
   },
   {
    "duration": 12,
    "start_time": "2023-09-28T14:58:58.762Z"
   },
   {
    "duration": 403,
    "start_time": "2023-09-28T14:58:58.776Z"
   },
   {
    "duration": 5,
    "start_time": "2023-09-28T14:58:59.181Z"
   },
   {
    "duration": 40,
    "start_time": "2023-09-28T14:58:59.187Z"
   },
   {
    "duration": 29,
    "start_time": "2023-09-28T14:58:59.229Z"
   },
   {
    "duration": 14,
    "start_time": "2023-09-28T14:58:59.260Z"
   },
   {
    "duration": 26,
    "start_time": "2023-09-28T14:58:59.276Z"
   },
   {
    "duration": 19,
    "start_time": "2023-09-28T14:58:59.304Z"
   },
   {
    "duration": 1561,
    "start_time": "2023-09-28T15:00:34.970Z"
   },
   {
    "duration": 60,
    "start_time": "2023-09-28T15:00:36.533Z"
   },
   {
    "duration": 12,
    "start_time": "2023-09-28T15:00:36.595Z"
   },
   {
    "duration": 23,
    "start_time": "2023-09-28T15:00:36.609Z"
   },
   {
    "duration": 33,
    "start_time": "2023-09-28T15:00:36.635Z"
   },
   {
    "duration": 30,
    "start_time": "2023-09-28T15:00:36.669Z"
   },
   {
    "duration": 8,
    "start_time": "2023-09-28T15:00:36.701Z"
   },
   {
    "duration": 11,
    "start_time": "2023-09-28T15:00:36.710Z"
   },
   {
    "duration": 30,
    "start_time": "2023-09-28T15:00:36.722Z"
   },
   {
    "duration": 15,
    "start_time": "2023-09-28T15:00:36.753Z"
   },
   {
    "duration": 11,
    "start_time": "2023-09-28T15:00:36.770Z"
   },
   {
    "duration": 380,
    "start_time": "2023-09-28T15:00:36.783Z"
   },
   {
    "duration": 18,
    "start_time": "2023-09-28T15:00:37.165Z"
   },
   {
    "duration": 12,
    "start_time": "2023-09-28T15:00:37.186Z"
   },
   {
    "duration": 30,
    "start_time": "2023-09-28T15:00:37.200Z"
   },
   {
    "duration": 365,
    "start_time": "2023-09-28T15:00:37.231Z"
   },
   {
    "duration": 9,
    "start_time": "2023-09-28T15:00:37.597Z"
   },
   {
    "duration": 369,
    "start_time": "2023-09-28T15:00:37.608Z"
   },
   {
    "duration": 8,
    "start_time": "2023-09-28T15:00:37.979Z"
   },
   {
    "duration": 339,
    "start_time": "2023-09-28T15:00:37.989Z"
   },
   {
    "duration": 18,
    "start_time": "2023-09-28T15:00:38.330Z"
   },
   {
    "duration": 361,
    "start_time": "2023-09-28T15:00:38.351Z"
   },
   {
    "duration": 8,
    "start_time": "2023-09-28T15:00:38.714Z"
   },
   {
    "duration": 175,
    "start_time": "2023-09-28T15:00:38.724Z"
   },
   {
    "duration": 372,
    "start_time": "2023-09-28T15:00:38.901Z"
   },
   {
    "duration": 90,
    "start_time": "2023-09-28T15:00:39.275Z"
   },
   {
    "duration": 88,
    "start_time": "2023-09-28T15:00:39.367Z"
   },
   {
    "duration": 179,
    "start_time": "2023-09-28T15:00:39.456Z"
   },
   {
    "duration": 84,
    "start_time": "2023-09-28T15:00:39.636Z"
   },
   {
    "duration": 98,
    "start_time": "2023-09-28T15:00:39.722Z"
   },
   {
    "duration": 84,
    "start_time": "2023-09-28T15:00:39.822Z"
   },
   {
    "duration": 89,
    "start_time": "2023-09-28T15:00:39.909Z"
   },
   {
    "duration": 94,
    "start_time": "2023-09-28T15:00:40.000Z"
   },
   {
    "duration": 7,
    "start_time": "2023-09-28T15:00:40.096Z"
   },
   {
    "duration": 129,
    "start_time": "2023-09-28T15:00:40.105Z"
   },
   {
    "duration": 163,
    "start_time": "2023-09-28T15:00:40.236Z"
   },
   {
    "duration": 7,
    "start_time": "2023-09-28T15:00:40.401Z"
   },
   {
    "duration": 107,
    "start_time": "2023-09-28T15:00:40.410Z"
   },
   {
    "duration": 167,
    "start_time": "2023-09-28T15:00:40.518Z"
   },
   {
    "duration": 80,
    "start_time": "2023-09-28T15:00:40.687Z"
   },
   {
    "duration": 84,
    "start_time": "2023-09-28T15:00:40.771Z"
   },
   {
    "duration": 72,
    "start_time": "2023-09-28T15:00:40.858Z"
   },
   {
    "duration": 89,
    "start_time": "2023-09-28T15:00:40.932Z"
   },
   {
    "duration": 412,
    "start_time": "2023-09-28T15:00:41.023Z"
   },
   {
    "duration": 12,
    "start_time": "2023-09-28T15:00:41.451Z"
   },
   {
    "duration": 294,
    "start_time": "2023-09-28T15:00:41.465Z"
   },
   {
    "duration": 5,
    "start_time": "2023-09-28T15:00:41.762Z"
   },
   {
    "duration": 348,
    "start_time": "2023-09-28T15:00:41.769Z"
   },
   {
    "duration": 4,
    "start_time": "2023-09-28T15:00:42.118Z"
   },
   {
    "duration": 349,
    "start_time": "2023-09-28T15:00:42.124Z"
   },
   {
    "duration": 387,
    "start_time": "2023-09-28T15:00:42.475Z"
   },
   {
    "duration": 5,
    "start_time": "2023-09-28T15:00:42.864Z"
   },
   {
    "duration": 428,
    "start_time": "2023-09-28T15:00:42.871Z"
   },
   {
    "duration": 279,
    "start_time": "2023-09-28T15:00:43.300Z"
   },
   {
    "duration": 288,
    "start_time": "2023-09-28T15:00:43.581Z"
   },
   {
    "duration": 185,
    "start_time": "2023-09-28T15:00:43.871Z"
   },
   {
    "duration": 197,
    "start_time": "2023-09-28T15:00:44.058Z"
   },
   {
    "duration": 214,
    "start_time": "2023-09-28T15:00:44.257Z"
   },
   {
    "duration": 218,
    "start_time": "2023-09-28T15:00:44.472Z"
   },
   {
    "duration": 211,
    "start_time": "2023-09-28T15:00:44.692Z"
   },
   {
    "duration": 193,
    "start_time": "2023-09-28T15:00:44.905Z"
   },
   {
    "duration": 165,
    "start_time": "2023-09-28T15:00:45.100Z"
   },
   {
    "duration": 231,
    "start_time": "2023-09-28T15:00:45.267Z"
   },
   {
    "duration": 249,
    "start_time": "2023-09-28T15:00:45.500Z"
   },
   {
    "duration": 4,
    "start_time": "2023-09-28T15:00:45.754Z"
   },
   {
    "duration": 13,
    "start_time": "2023-09-28T15:00:45.759Z"
   },
   {
    "duration": 201,
    "start_time": "2023-09-28T15:00:45.774Z"
   },
   {
    "duration": 443,
    "start_time": "2023-09-28T15:00:45.977Z"
   },
   {
    "duration": 15,
    "start_time": "2023-09-28T15:00:46.422Z"
   },
   {
    "duration": 482,
    "start_time": "2023-09-28T15:00:46.443Z"
   },
   {
    "duration": 18,
    "start_time": "2023-09-28T15:00:46.926Z"
   },
   {
    "duration": 44,
    "start_time": "2023-09-28T15:00:46.946Z"
   },
   {
    "duration": 10,
    "start_time": "2023-09-28T15:00:46.992Z"
   },
   {
    "duration": 24,
    "start_time": "2023-09-28T15:00:47.003Z"
   },
   {
    "duration": 14,
    "start_time": "2023-09-28T15:00:47.028Z"
   },
   {
    "duration": 34,
    "start_time": "2023-09-28T15:00:47.043Z"
   },
   {
    "duration": 13,
    "start_time": "2023-09-28T15:00:47.079Z"
   },
   {
    "duration": 31,
    "start_time": "2023-09-28T15:00:47.094Z"
   },
   {
    "duration": 26,
    "start_time": "2023-09-28T15:00:47.127Z"
   },
   {
    "duration": 24,
    "start_time": "2023-09-28T15:00:47.154Z"
   },
   {
    "duration": 11,
    "start_time": "2023-09-28T15:00:47.180Z"
   },
   {
    "duration": 32,
    "start_time": "2023-09-28T15:00:47.192Z"
   },
   {
    "duration": 5,
    "start_time": "2023-09-28T15:00:47.226Z"
   },
   {
    "duration": 25,
    "start_time": "2023-09-28T15:00:47.233Z"
   },
   {
    "duration": 400,
    "start_time": "2023-09-28T15:00:47.261Z"
   },
   {
    "duration": 5,
    "start_time": "2023-09-28T15:00:47.666Z"
   },
   {
    "duration": 25,
    "start_time": "2023-09-28T15:00:47.673Z"
   },
   {
    "duration": 29,
    "start_time": "2023-09-28T15:00:47.701Z"
   },
   {
    "duration": 35,
    "start_time": "2023-09-28T15:00:47.732Z"
   },
   {
    "duration": 35,
    "start_time": "2023-09-28T15:00:47.769Z"
   },
   {
    "duration": 28,
    "start_time": "2023-09-28T15:00:47.806Z"
   },
   {
    "duration": 25,
    "start_time": "2023-09-28T15:04:21.687Z"
   },
   {
    "duration": 1550,
    "start_time": "2023-09-28T15:04:27.627Z"
   },
   {
    "duration": 56,
    "start_time": "2023-09-28T15:04:29.179Z"
   },
   {
    "duration": 15,
    "start_time": "2023-09-28T15:04:29.237Z"
   },
   {
    "duration": 25,
    "start_time": "2023-09-28T15:04:29.254Z"
   },
   {
    "duration": 27,
    "start_time": "2023-09-28T15:04:29.281Z"
   },
   {
    "duration": 50,
    "start_time": "2023-09-28T15:04:29.310Z"
   },
   {
    "duration": 10,
    "start_time": "2023-09-28T15:04:29.362Z"
   },
   {
    "duration": 10,
    "start_time": "2023-09-28T15:04:29.374Z"
   },
   {
    "duration": 8,
    "start_time": "2023-09-28T15:04:29.385Z"
   },
   {
    "duration": 12,
    "start_time": "2023-09-28T15:04:29.396Z"
   },
   {
    "duration": 52,
    "start_time": "2023-09-28T15:04:29.409Z"
   },
   {
    "duration": 361,
    "start_time": "2023-09-28T15:04:29.463Z"
   },
   {
    "duration": 29,
    "start_time": "2023-09-28T15:04:29.825Z"
   },
   {
    "duration": 10,
    "start_time": "2023-09-28T15:04:29.857Z"
   },
   {
    "duration": 15,
    "start_time": "2023-09-28T15:04:29.869Z"
   },
   {
    "duration": 292,
    "start_time": "2023-09-28T15:04:29.885Z"
   },
   {
    "duration": 8,
    "start_time": "2023-09-28T15:04:30.179Z"
   },
   {
    "duration": 462,
    "start_time": "2023-09-28T15:04:30.189Z"
   },
   {
    "duration": 13,
    "start_time": "2023-09-28T15:04:30.656Z"
   },
   {
    "duration": 407,
    "start_time": "2023-09-28T15:04:30.671Z"
   },
   {
    "duration": 9,
    "start_time": "2023-09-28T15:04:31.080Z"
   },
   {
    "duration": 424,
    "start_time": "2023-09-28T15:04:31.091Z"
   },
   {
    "duration": 10,
    "start_time": "2023-09-28T15:04:31.516Z"
   },
   {
    "duration": 143,
    "start_time": "2023-09-28T15:04:31.527Z"
   },
   {
    "duration": 354,
    "start_time": "2023-09-28T15:04:31.672Z"
   },
   {
    "duration": 83,
    "start_time": "2023-09-28T15:04:32.027Z"
   },
   {
    "duration": 95,
    "start_time": "2023-09-28T15:04:32.112Z"
   },
   {
    "duration": 215,
    "start_time": "2023-09-28T15:04:32.213Z"
   },
   {
    "duration": 103,
    "start_time": "2023-09-28T15:04:32.430Z"
   },
   {
    "duration": 121,
    "start_time": "2023-09-28T15:04:32.535Z"
   },
   {
    "duration": 105,
    "start_time": "2023-09-28T15:04:32.662Z"
   },
   {
    "duration": 97,
    "start_time": "2023-09-28T15:04:32.768Z"
   },
   {
    "duration": 105,
    "start_time": "2023-09-28T15:04:32.867Z"
   },
   {
    "duration": 7,
    "start_time": "2023-09-28T15:04:32.973Z"
   },
   {
    "duration": 178,
    "start_time": "2023-09-28T15:04:32.982Z"
   },
   {
    "duration": 177,
    "start_time": "2023-09-28T15:04:33.161Z"
   },
   {
    "duration": 26,
    "start_time": "2023-09-28T15:04:33.340Z"
   },
   {
    "duration": 106,
    "start_time": "2023-09-28T15:04:33.372Z"
   },
   {
    "duration": 157,
    "start_time": "2023-09-28T15:04:33.479Z"
   },
   {
    "duration": 124,
    "start_time": "2023-09-28T15:04:33.638Z"
   },
   {
    "duration": 75,
    "start_time": "2023-09-28T15:04:33.763Z"
   },
   {
    "duration": 82,
    "start_time": "2023-09-28T15:04:33.843Z"
   },
   {
    "duration": 143,
    "start_time": "2023-09-28T15:04:33.927Z"
   },
   {
    "duration": 475,
    "start_time": "2023-09-28T15:04:34.086Z"
   },
   {
    "duration": 5,
    "start_time": "2023-09-28T15:04:34.563Z"
   },
   {
    "duration": 277,
    "start_time": "2023-09-28T15:04:34.571Z"
   },
   {
    "duration": 5,
    "start_time": "2023-09-28T15:04:34.852Z"
   },
   {
    "duration": 291,
    "start_time": "2023-09-28T15:04:34.860Z"
   },
   {
    "duration": 7,
    "start_time": "2023-09-28T15:04:35.153Z"
   },
   {
    "duration": 283,
    "start_time": "2023-09-28T15:04:35.162Z"
   },
   {
    "duration": 283,
    "start_time": "2023-09-28T15:04:35.446Z"
   },
   {
    "duration": 4,
    "start_time": "2023-09-28T15:04:35.731Z"
   },
   {
    "duration": 362,
    "start_time": "2023-09-28T15:04:35.744Z"
   },
   {
    "duration": 311,
    "start_time": "2023-09-28T15:04:36.108Z"
   },
   {
    "duration": 290,
    "start_time": "2023-09-28T15:04:36.421Z"
   },
   {
    "duration": 181,
    "start_time": "2023-09-28T15:04:36.713Z"
   },
   {
    "duration": 183,
    "start_time": "2023-09-28T15:04:36.895Z"
   },
   {
    "duration": 184,
    "start_time": "2023-09-28T15:04:37.080Z"
   },
   {
    "duration": 214,
    "start_time": "2023-09-28T15:04:37.266Z"
   },
   {
    "duration": 224,
    "start_time": "2023-09-28T15:04:37.481Z"
   },
   {
    "duration": 164,
    "start_time": "2023-09-28T15:04:37.707Z"
   },
   {
    "duration": 159,
    "start_time": "2023-09-28T15:04:37.873Z"
   },
   {
    "duration": 244,
    "start_time": "2023-09-28T15:04:38.033Z"
   },
   {
    "duration": 221,
    "start_time": "2023-09-28T15:04:38.279Z"
   },
   {
    "duration": 4,
    "start_time": "2023-09-28T15:04:38.502Z"
   },
   {
    "duration": 13,
    "start_time": "2023-09-28T15:04:38.507Z"
   },
   {
    "duration": 216,
    "start_time": "2023-09-28T15:04:38.521Z"
   },
   {
    "duration": 424,
    "start_time": "2023-09-28T15:04:38.739Z"
   },
   {
    "duration": 10,
    "start_time": "2023-09-28T15:04:39.165Z"
   },
   {
    "duration": 421,
    "start_time": "2023-09-28T15:04:39.177Z"
   },
   {
    "duration": 9,
    "start_time": "2023-09-28T15:04:39.600Z"
   },
   {
    "duration": 47,
    "start_time": "2023-09-28T15:04:39.611Z"
   },
   {
    "duration": 9,
    "start_time": "2023-09-28T15:04:39.659Z"
   },
   {
    "duration": 17,
    "start_time": "2023-09-28T15:04:39.669Z"
   },
   {
    "duration": 17,
    "start_time": "2023-09-28T15:04:39.689Z"
   },
   {
    "duration": 43,
    "start_time": "2023-09-28T15:04:39.707Z"
   },
   {
    "duration": 16,
    "start_time": "2023-09-28T15:04:39.754Z"
   },
   {
    "duration": 28,
    "start_time": "2023-09-28T15:04:39.772Z"
   },
   {
    "duration": 7,
    "start_time": "2023-09-28T15:04:39.802Z"
   },
   {
    "duration": 24,
    "start_time": "2023-09-28T15:04:39.811Z"
   },
   {
    "duration": 13,
    "start_time": "2023-09-28T15:04:39.845Z"
   },
   {
    "duration": 34,
    "start_time": "2023-09-28T15:04:39.864Z"
   },
   {
    "duration": 19,
    "start_time": "2023-09-28T15:04:39.899Z"
   },
   {
    "duration": 132,
    "start_time": "2023-09-28T15:04:39.920Z"
   },
   {
    "duration": 33,
    "start_time": "2023-09-28T15:04:40.055Z"
   },
   {
    "duration": 37,
    "start_time": "2023-09-28T15:04:40.090Z"
   },
   {
    "duration": 403,
    "start_time": "2023-09-28T15:04:40.129Z"
   },
   {
    "duration": 16,
    "start_time": "2023-09-28T15:04:40.534Z"
   },
   {
    "duration": 33,
    "start_time": "2023-09-28T15:04:40.555Z"
   },
   {
    "duration": 43,
    "start_time": "2023-09-28T15:04:40.590Z"
   },
   {
    "duration": 21,
    "start_time": "2023-09-28T15:04:40.635Z"
   },
   {
    "duration": 22,
    "start_time": "2023-09-28T15:04:40.660Z"
   },
   {
    "duration": 20,
    "start_time": "2023-09-28T15:04:40.684Z"
   },
   {
    "duration": 1433,
    "start_time": "2023-09-28T15:05:20.262Z"
   },
   {
    "duration": 65,
    "start_time": "2023-09-28T15:05:21.697Z"
   },
   {
    "duration": 13,
    "start_time": "2023-09-28T15:05:21.764Z"
   },
   {
    "duration": 22,
    "start_time": "2023-09-28T15:05:21.779Z"
   },
   {
    "duration": 23,
    "start_time": "2023-09-28T15:05:21.803Z"
   },
   {
    "duration": 37,
    "start_time": "2023-09-28T15:05:21.828Z"
   },
   {
    "duration": 15,
    "start_time": "2023-09-28T15:05:21.868Z"
   },
   {
    "duration": 9,
    "start_time": "2023-09-28T15:05:21.885Z"
   },
   {
    "duration": 8,
    "start_time": "2023-09-28T15:05:21.896Z"
   },
   {
    "duration": 45,
    "start_time": "2023-09-28T15:05:21.907Z"
   },
   {
    "duration": 10,
    "start_time": "2023-09-28T15:05:21.956Z"
   },
   {
    "duration": 377,
    "start_time": "2023-09-28T15:05:21.968Z"
   },
   {
    "duration": 21,
    "start_time": "2023-09-28T15:05:22.349Z"
   },
   {
    "duration": 26,
    "start_time": "2023-09-28T15:05:22.372Z"
   },
   {
    "duration": 16,
    "start_time": "2023-09-28T15:05:22.399Z"
   },
   {
    "duration": 288,
    "start_time": "2023-09-28T15:05:22.416Z"
   },
   {
    "duration": 8,
    "start_time": "2023-09-28T15:05:22.706Z"
   },
   {
    "duration": 385,
    "start_time": "2023-09-28T15:05:22.715Z"
   },
   {
    "duration": 8,
    "start_time": "2023-09-28T15:05:23.102Z"
   },
   {
    "duration": 336,
    "start_time": "2023-09-28T15:05:23.112Z"
   },
   {
    "duration": 12,
    "start_time": "2023-09-28T15:05:23.453Z"
   },
   {
    "duration": 332,
    "start_time": "2023-09-28T15:05:23.466Z"
   },
   {
    "duration": 15,
    "start_time": "2023-09-28T15:05:23.800Z"
   },
   {
    "duration": 109,
    "start_time": "2023-09-28T15:05:23.817Z"
   },
   {
    "duration": 410,
    "start_time": "2023-09-28T15:05:23.928Z"
   },
   {
    "duration": 111,
    "start_time": "2023-09-28T15:05:24.340Z"
   },
   {
    "duration": 82,
    "start_time": "2023-09-28T15:05:24.453Z"
   },
   {
    "duration": 177,
    "start_time": "2023-09-28T15:05:24.545Z"
   },
   {
    "duration": 84,
    "start_time": "2023-09-28T15:05:24.723Z"
   },
   {
    "duration": 85,
    "start_time": "2023-09-28T15:05:24.809Z"
   },
   {
    "duration": 84,
    "start_time": "2023-09-28T15:05:24.895Z"
   },
   {
    "duration": 87,
    "start_time": "2023-09-28T15:05:24.981Z"
   },
   {
    "duration": 102,
    "start_time": "2023-09-28T15:05:25.070Z"
   },
   {
    "duration": 8,
    "start_time": "2023-09-28T15:05:25.174Z"
   },
   {
    "duration": 113,
    "start_time": "2023-09-28T15:05:25.183Z"
   },
   {
    "duration": 152,
    "start_time": "2023-09-28T15:05:25.298Z"
   },
   {
    "duration": 9,
    "start_time": "2023-09-28T15:05:25.452Z"
   },
   {
    "duration": 100,
    "start_time": "2023-09-28T15:05:25.463Z"
   },
   {
    "duration": 168,
    "start_time": "2023-09-28T15:05:25.565Z"
   },
   {
    "duration": 78,
    "start_time": "2023-09-28T15:05:25.735Z"
   },
   {
    "duration": 84,
    "start_time": "2023-09-28T15:05:25.814Z"
   },
   {
    "duration": 79,
    "start_time": "2023-09-28T15:05:25.899Z"
   },
   {
    "duration": 92,
    "start_time": "2023-09-28T15:05:25.979Z"
   },
   {
    "duration": 385,
    "start_time": "2023-09-28T15:05:26.072Z"
   },
   {
    "duration": 4,
    "start_time": "2023-09-28T15:05:26.459Z"
   },
   {
    "duration": 311,
    "start_time": "2023-09-28T15:05:26.465Z"
   },
   {
    "duration": 6,
    "start_time": "2023-09-28T15:05:26.778Z"
   },
   {
    "duration": 344,
    "start_time": "2023-09-28T15:05:26.786Z"
   },
   {
    "duration": 18,
    "start_time": "2023-09-28T15:05:27.132Z"
   },
   {
    "duration": 275,
    "start_time": "2023-09-28T15:05:27.152Z"
   },
   {
    "duration": 299,
    "start_time": "2023-09-28T15:05:27.428Z"
   },
   {
    "duration": 15,
    "start_time": "2023-09-28T15:05:27.729Z"
   },
   {
    "duration": 378,
    "start_time": "2023-09-28T15:05:27.753Z"
   },
   {
    "duration": 270,
    "start_time": "2023-09-28T15:05:28.132Z"
   },
   {
    "duration": 288,
    "start_time": "2023-09-28T15:05:28.404Z"
   },
   {
    "duration": 175,
    "start_time": "2023-09-28T15:05:28.694Z"
   },
   {
    "duration": 178,
    "start_time": "2023-09-28T15:05:28.871Z"
   },
   {
    "duration": 157,
    "start_time": "2023-09-28T15:05:29.057Z"
   },
   {
    "duration": 239,
    "start_time": "2023-09-28T15:05:29.216Z"
   },
   {
    "duration": 224,
    "start_time": "2023-09-28T15:05:29.459Z"
   },
   {
    "duration": 152,
    "start_time": "2023-09-28T15:05:29.685Z"
   },
   {
    "duration": 152,
    "start_time": "2023-09-28T15:05:29.838Z"
   },
   {
    "duration": 270,
    "start_time": "2023-09-28T15:05:29.992Z"
   },
   {
    "duration": 223,
    "start_time": "2023-09-28T15:05:30.264Z"
   },
   {
    "duration": 3,
    "start_time": "2023-09-28T15:05:30.488Z"
   },
   {
    "duration": 77,
    "start_time": "2023-09-28T15:05:30.493Z"
   },
   {
    "duration": 288,
    "start_time": "2023-09-28T15:05:30.572Z"
   },
   {
    "duration": 382,
    "start_time": "2023-09-28T15:05:30.862Z"
   },
   {
    "duration": 16,
    "start_time": "2023-09-28T15:05:31.248Z"
   },
   {
    "duration": 373,
    "start_time": "2023-09-28T15:05:31.267Z"
   },
   {
    "duration": 8,
    "start_time": "2023-09-28T15:05:31.645Z"
   },
   {
    "duration": 48,
    "start_time": "2023-09-28T15:05:31.655Z"
   },
   {
    "duration": 22,
    "start_time": "2023-09-28T15:05:31.704Z"
   },
   {
    "duration": 25,
    "start_time": "2023-09-28T15:05:31.728Z"
   },
   {
    "duration": 22,
    "start_time": "2023-09-28T15:05:31.755Z"
   },
   {
    "duration": 47,
    "start_time": "2023-09-28T15:05:31.778Z"
   },
   {
    "duration": 12,
    "start_time": "2023-09-28T15:05:31.827Z"
   },
   {
    "duration": 34,
    "start_time": "2023-09-28T15:05:31.840Z"
   },
   {
    "duration": 6,
    "start_time": "2023-09-28T15:05:31.876Z"
   },
   {
    "duration": 39,
    "start_time": "2023-09-28T15:05:31.884Z"
   },
   {
    "duration": 4,
    "start_time": "2023-09-28T15:05:31.925Z"
   },
   {
    "duration": 29,
    "start_time": "2023-09-28T15:05:31.935Z"
   },
   {
    "duration": 9,
    "start_time": "2023-09-28T15:05:31.966Z"
   },
   {
    "duration": 29,
    "start_time": "2023-09-28T15:05:31.977Z"
   },
   {
    "duration": 8,
    "start_time": "2023-09-28T15:05:32.007Z"
   },
   {
    "duration": 31,
    "start_time": "2023-09-28T15:05:32.017Z"
   },
   {
    "duration": 13,
    "start_time": "2023-09-28T15:05:32.049Z"
   },
   {
    "duration": 13,
    "start_time": "2023-09-28T15:05:32.063Z"
   },
   {
    "duration": 438,
    "start_time": "2023-09-28T15:05:32.078Z"
   },
   {
    "duration": 6,
    "start_time": "2023-09-28T15:05:32.518Z"
   },
   {
    "duration": 27,
    "start_time": "2023-09-28T15:05:32.526Z"
   },
   {
    "duration": 12,
    "start_time": "2023-09-28T15:05:32.555Z"
   },
   {
    "duration": 20,
    "start_time": "2023-09-28T15:05:32.568Z"
   },
   {
    "duration": 73,
    "start_time": "2023-09-28T15:05:32.589Z"
   },
   {
    "duration": 49,
    "start_time": "2023-09-28T15:05:32.664Z"
   },
   {
    "duration": 1514,
    "start_time": "2023-09-28T15:10:05.862Z"
   },
   {
    "duration": 56,
    "start_time": "2023-09-28T15:10:07.379Z"
   },
   {
    "duration": 21,
    "start_time": "2023-09-28T15:10:07.436Z"
   },
   {
    "duration": 29,
    "start_time": "2023-09-28T15:10:07.460Z"
   },
   {
    "duration": 29,
    "start_time": "2023-09-28T15:10:07.491Z"
   },
   {
    "duration": 43,
    "start_time": "2023-09-28T15:10:07.522Z"
   },
   {
    "duration": 14,
    "start_time": "2023-09-28T15:10:07.566Z"
   },
   {
    "duration": 8,
    "start_time": "2023-09-28T15:10:07.581Z"
   },
   {
    "duration": 12,
    "start_time": "2023-09-28T15:10:07.590Z"
   },
   {
    "duration": 12,
    "start_time": "2023-09-28T15:10:07.603Z"
   },
   {
    "duration": 8,
    "start_time": "2023-09-28T15:10:07.617Z"
   },
   {
    "duration": 337,
    "start_time": "2023-09-28T15:10:07.644Z"
   },
   {
    "duration": 16,
    "start_time": "2023-09-28T15:10:07.982Z"
   },
   {
    "duration": 8,
    "start_time": "2023-09-28T15:10:08.000Z"
   },
   {
    "duration": 16,
    "start_time": "2023-09-28T15:10:08.009Z"
   },
   {
    "duration": 279,
    "start_time": "2023-09-28T15:10:08.026Z"
   },
   {
    "duration": 8,
    "start_time": "2023-09-28T15:10:08.306Z"
   },
   {
    "duration": 369,
    "start_time": "2023-09-28T15:10:08.315Z"
   },
   {
    "duration": 9,
    "start_time": "2023-09-28T15:10:08.685Z"
   },
   {
    "duration": 335,
    "start_time": "2023-09-28T15:10:08.695Z"
   },
   {
    "duration": 24,
    "start_time": "2023-09-28T15:10:09.032Z"
   },
   {
    "duration": 344,
    "start_time": "2023-09-28T15:10:09.060Z"
   },
   {
    "duration": 8,
    "start_time": "2023-09-28T15:10:09.406Z"
   },
   {
    "duration": 123,
    "start_time": "2023-09-28T15:10:09.415Z"
   },
   {
    "duration": 345,
    "start_time": "2023-09-28T15:10:09.540Z"
   },
   {
    "duration": 83,
    "start_time": "2023-09-28T15:10:09.887Z"
   },
   {
    "duration": 98,
    "start_time": "2023-09-28T15:10:09.972Z"
   },
   {
    "duration": 182,
    "start_time": "2023-09-28T15:10:10.071Z"
   },
   {
    "duration": 73,
    "start_time": "2023-09-28T15:10:10.254Z"
   },
   {
    "duration": 78,
    "start_time": "2023-09-28T15:10:10.328Z"
   },
   {
    "duration": 83,
    "start_time": "2023-09-28T15:10:10.408Z"
   },
   {
    "duration": 82,
    "start_time": "2023-09-28T15:10:10.493Z"
   },
   {
    "duration": 102,
    "start_time": "2023-09-28T15:10:10.577Z"
   },
   {
    "duration": 7,
    "start_time": "2023-09-28T15:10:10.680Z"
   },
   {
    "duration": 135,
    "start_time": "2023-09-28T15:10:10.689Z"
   },
   {
    "duration": 155,
    "start_time": "2023-09-28T15:10:10.825Z"
   },
   {
    "duration": 7,
    "start_time": "2023-09-28T15:10:10.982Z"
   },
   {
    "duration": 118,
    "start_time": "2023-09-28T15:10:10.990Z"
   },
   {
    "duration": 164,
    "start_time": "2023-09-28T15:10:11.109Z"
   },
   {
    "duration": 81,
    "start_time": "2023-09-28T15:10:11.274Z"
   },
   {
    "duration": 62,
    "start_time": "2023-09-28T15:10:11.360Z"
   },
   {
    "duration": 80,
    "start_time": "2023-09-28T15:10:11.424Z"
   },
   {
    "duration": 84,
    "start_time": "2023-09-28T15:10:11.506Z"
   },
   {
    "duration": 369,
    "start_time": "2023-09-28T15:10:11.591Z"
   },
   {
    "duration": 4,
    "start_time": "2023-09-28T15:10:11.961Z"
   },
   {
    "duration": 267,
    "start_time": "2023-09-28T15:10:11.966Z"
   },
   {
    "duration": 4,
    "start_time": "2023-09-28T15:10:12.234Z"
   },
   {
    "duration": 287,
    "start_time": "2023-09-28T15:10:12.245Z"
   },
   {
    "duration": 4,
    "start_time": "2023-09-28T15:10:12.534Z"
   },
   {
    "duration": 289,
    "start_time": "2023-09-28T15:10:12.544Z"
   },
   {
    "duration": 303,
    "start_time": "2023-09-28T15:10:12.835Z"
   },
   {
    "duration": 18,
    "start_time": "2023-09-28T15:10:13.140Z"
   },
   {
    "duration": 418,
    "start_time": "2023-09-28T15:10:13.160Z"
   },
   {
    "duration": 283,
    "start_time": "2023-09-28T15:10:13.581Z"
   },
   {
    "duration": 348,
    "start_time": "2023-09-28T15:10:13.866Z"
   },
   {
    "duration": 198,
    "start_time": "2023-09-28T15:10:14.216Z"
   },
   {
    "duration": 182,
    "start_time": "2023-09-28T15:10:14.416Z"
   },
   {
    "duration": 175,
    "start_time": "2023-09-28T15:10:14.600Z"
   },
   {
    "duration": 252,
    "start_time": "2023-09-28T15:10:14.777Z"
   },
   {
    "duration": 233,
    "start_time": "2023-09-28T15:10:15.031Z"
   },
   {
    "duration": 166,
    "start_time": "2023-09-28T15:10:15.266Z"
   },
   {
    "duration": 155,
    "start_time": "2023-09-28T15:10:15.433Z"
   },
   {
    "duration": 263,
    "start_time": "2023-09-28T15:10:15.589Z"
   },
   {
    "duration": 259,
    "start_time": "2023-09-28T15:10:15.853Z"
   },
   {
    "duration": 3,
    "start_time": "2023-09-28T15:10:16.114Z"
   },
   {
    "duration": 20,
    "start_time": "2023-09-28T15:10:16.119Z"
   },
   {
    "duration": 224,
    "start_time": "2023-09-28T15:10:16.140Z"
   },
   {
    "duration": 405,
    "start_time": "2023-09-28T15:10:16.367Z"
   },
   {
    "duration": 12,
    "start_time": "2023-09-28T15:10:16.774Z"
   },
   {
    "duration": 472,
    "start_time": "2023-09-28T15:10:16.788Z"
   },
   {
    "duration": 8,
    "start_time": "2023-09-28T15:10:17.262Z"
   },
   {
    "duration": 33,
    "start_time": "2023-09-28T15:10:17.271Z"
   },
   {
    "duration": 9,
    "start_time": "2023-09-28T15:10:17.305Z"
   },
   {
    "duration": 25,
    "start_time": "2023-09-28T15:10:17.316Z"
   },
   {
    "duration": 28,
    "start_time": "2023-09-28T15:10:17.343Z"
   },
   {
    "duration": 39,
    "start_time": "2023-09-28T15:10:17.373Z"
   },
   {
    "duration": 17,
    "start_time": "2023-09-28T15:10:17.413Z"
   },
   {
    "duration": 41,
    "start_time": "2023-09-28T15:10:17.432Z"
   },
   {
    "duration": 19,
    "start_time": "2023-09-28T15:10:17.474Z"
   },
   {
    "duration": 36,
    "start_time": "2023-09-28T15:10:17.495Z"
   },
   {
    "duration": 38,
    "start_time": "2023-09-28T15:10:17.533Z"
   },
   {
    "duration": 27,
    "start_time": "2023-09-28T15:10:17.573Z"
   },
   {
    "duration": 9,
    "start_time": "2023-09-28T15:10:17.602Z"
   },
   {
    "duration": 67,
    "start_time": "2023-09-28T15:10:17.612Z"
   },
   {
    "duration": 14,
    "start_time": "2023-09-28T15:10:17.681Z"
   },
   {
    "duration": 31,
    "start_time": "2023-09-28T15:10:17.696Z"
   },
   {
    "duration": 4,
    "start_time": "2023-09-28T15:10:17.729Z"
   },
   {
    "duration": 13,
    "start_time": "2023-09-28T15:10:17.734Z"
   },
   {
    "duration": 400,
    "start_time": "2023-09-28T15:10:17.748Z"
   },
   {
    "duration": 6,
    "start_time": "2023-09-28T15:10:18.153Z"
   },
   {
    "duration": 17,
    "start_time": "2023-09-28T15:10:18.161Z"
   },
   {
    "duration": 12,
    "start_time": "2023-09-28T15:10:18.180Z"
   },
   {
    "duration": 11,
    "start_time": "2023-09-28T15:10:18.194Z"
   },
   {
    "duration": 39,
    "start_time": "2023-09-28T15:10:18.208Z"
   },
   {
    "duration": 33,
    "start_time": "2023-09-28T15:10:18.248Z"
   },
   {
    "duration": 1438,
    "start_time": "2023-09-28T15:11:10.856Z"
   },
   {
    "duration": 62,
    "start_time": "2023-09-28T15:11:12.296Z"
   },
   {
    "duration": 14,
    "start_time": "2023-09-28T15:11:12.359Z"
   },
   {
    "duration": 21,
    "start_time": "2023-09-28T15:11:12.376Z"
   },
   {
    "duration": 23,
    "start_time": "2023-09-28T15:11:12.399Z"
   },
   {
    "duration": 50,
    "start_time": "2023-09-28T15:11:12.424Z"
   },
   {
    "duration": 8,
    "start_time": "2023-09-28T15:11:12.476Z"
   },
   {
    "duration": 8,
    "start_time": "2023-09-28T15:11:12.487Z"
   },
   {
    "duration": 9,
    "start_time": "2023-09-28T15:11:12.497Z"
   },
   {
    "duration": 47,
    "start_time": "2023-09-28T15:11:12.508Z"
   },
   {
    "duration": 10,
    "start_time": "2023-09-28T15:11:12.563Z"
   },
   {
    "duration": 335,
    "start_time": "2023-09-28T15:11:12.576Z"
   },
   {
    "duration": 17,
    "start_time": "2023-09-28T15:11:12.913Z"
   },
   {
    "duration": 26,
    "start_time": "2023-09-28T15:11:12.931Z"
   },
   {
    "duration": 11,
    "start_time": "2023-09-28T15:11:12.960Z"
   },
   {
    "duration": 286,
    "start_time": "2023-09-28T15:11:12.973Z"
   },
   {
    "duration": 9,
    "start_time": "2023-09-28T15:11:13.261Z"
   },
   {
    "duration": 365,
    "start_time": "2023-09-28T15:11:13.271Z"
   },
   {
    "duration": 21,
    "start_time": "2023-09-28T15:11:13.638Z"
   },
   {
    "duration": 342,
    "start_time": "2023-09-28T15:11:13.660Z"
   },
   {
    "duration": 11,
    "start_time": "2023-09-28T15:11:14.004Z"
   },
   {
    "duration": 488,
    "start_time": "2023-09-28T15:11:14.017Z"
   },
   {
    "duration": 8,
    "start_time": "2023-09-28T15:11:14.506Z"
   },
   {
    "duration": 163,
    "start_time": "2023-09-28T15:11:14.516Z"
   },
   {
    "duration": 375,
    "start_time": "2023-09-28T15:11:14.681Z"
   },
   {
    "duration": 92,
    "start_time": "2023-09-28T15:11:15.062Z"
   },
   {
    "duration": 100,
    "start_time": "2023-09-28T15:11:15.163Z"
   },
   {
    "duration": 159,
    "start_time": "2023-09-28T15:11:15.264Z"
   },
   {
    "duration": 85,
    "start_time": "2023-09-28T15:11:15.425Z"
   },
   {
    "duration": 84,
    "start_time": "2023-09-28T15:11:15.512Z"
   },
   {
    "duration": 78,
    "start_time": "2023-09-28T15:11:15.597Z"
   },
   {
    "duration": 93,
    "start_time": "2023-09-28T15:11:15.676Z"
   },
   {
    "duration": 98,
    "start_time": "2023-09-28T15:11:15.771Z"
   },
   {
    "duration": 8,
    "start_time": "2023-09-28T15:11:15.871Z"
   },
   {
    "duration": 125,
    "start_time": "2023-09-28T15:11:15.881Z"
   },
   {
    "duration": 162,
    "start_time": "2023-09-28T15:11:16.010Z"
   },
   {
    "duration": 9,
    "start_time": "2023-09-28T15:11:16.173Z"
   },
   {
    "duration": 110,
    "start_time": "2023-09-28T15:11:16.184Z"
   },
   {
    "duration": 174,
    "start_time": "2023-09-28T15:11:16.296Z"
   },
   {
    "duration": 87,
    "start_time": "2023-09-28T15:11:16.472Z"
   },
   {
    "duration": 69,
    "start_time": "2023-09-28T15:11:16.561Z"
   },
   {
    "duration": 93,
    "start_time": "2023-09-28T15:11:16.632Z"
   },
   {
    "duration": 99,
    "start_time": "2023-09-28T15:11:16.727Z"
   },
   {
    "duration": 391,
    "start_time": "2023-09-28T15:11:16.828Z"
   },
   {
    "duration": 5,
    "start_time": "2023-09-28T15:11:17.221Z"
   },
   {
    "duration": 308,
    "start_time": "2023-09-28T15:11:17.227Z"
   },
   {
    "duration": 24,
    "start_time": "2023-09-28T15:11:17.537Z"
   },
   {
    "duration": 290,
    "start_time": "2023-09-28T15:11:17.562Z"
   },
   {
    "duration": 8,
    "start_time": "2023-09-28T15:11:17.854Z"
   },
   {
    "duration": 327,
    "start_time": "2023-09-28T15:11:17.866Z"
   },
   {
    "duration": 305,
    "start_time": "2023-09-28T15:11:18.195Z"
   },
   {
    "duration": 5,
    "start_time": "2023-09-28T15:11:18.502Z"
   },
   {
    "duration": 409,
    "start_time": "2023-09-28T15:11:18.508Z"
   },
   {
    "duration": 308,
    "start_time": "2023-09-28T15:11:18.918Z"
   },
   {
    "duration": 332,
    "start_time": "2023-09-28T15:11:19.228Z"
   },
   {
    "duration": 176,
    "start_time": "2023-09-28T15:11:19.561Z"
   },
   {
    "duration": 194,
    "start_time": "2023-09-28T15:11:19.746Z"
   },
   {
    "duration": 180,
    "start_time": "2023-09-28T15:11:19.947Z"
   },
   {
    "duration": 238,
    "start_time": "2023-09-28T15:11:20.129Z"
   },
   {
    "duration": 226,
    "start_time": "2023-09-28T15:11:20.369Z"
   },
   {
    "duration": 167,
    "start_time": "2023-09-28T15:11:20.597Z"
   },
   {
    "duration": 155,
    "start_time": "2023-09-28T15:11:20.767Z"
   },
   {
    "duration": 259,
    "start_time": "2023-09-28T15:11:20.924Z"
   },
   {
    "duration": 229,
    "start_time": "2023-09-28T15:11:21.185Z"
   },
   {
    "duration": 3,
    "start_time": "2023-09-28T15:11:21.416Z"
   },
   {
    "duration": 8,
    "start_time": "2023-09-28T15:11:21.420Z"
   },
   {
    "duration": 192,
    "start_time": "2023-09-28T15:11:21.444Z"
   },
   {
    "duration": 427,
    "start_time": "2023-09-28T15:11:21.638Z"
   },
   {
    "duration": 11,
    "start_time": "2023-09-28T15:11:22.067Z"
   },
   {
    "duration": 384,
    "start_time": "2023-09-28T15:11:22.079Z"
   },
   {
    "duration": 9,
    "start_time": "2023-09-28T15:11:22.464Z"
   },
   {
    "duration": 28,
    "start_time": "2023-09-28T15:11:22.474Z"
   },
   {
    "duration": 9,
    "start_time": "2023-09-28T15:11:22.504Z"
   },
   {
    "duration": 41,
    "start_time": "2023-09-28T15:11:22.515Z"
   },
   {
    "duration": 29,
    "start_time": "2023-09-28T15:11:22.558Z"
   },
   {
    "duration": 52,
    "start_time": "2023-09-28T15:11:22.589Z"
   },
   {
    "duration": 23,
    "start_time": "2023-09-28T15:11:22.642Z"
   },
   {
    "duration": 27,
    "start_time": "2023-09-28T15:11:22.666Z"
   },
   {
    "duration": 3,
    "start_time": "2023-09-28T15:11:22.695Z"
   },
   {
    "duration": 35,
    "start_time": "2023-09-28T15:11:22.700Z"
   },
   {
    "duration": 9,
    "start_time": "2023-09-28T15:11:22.744Z"
   },
   {
    "duration": 46,
    "start_time": "2023-09-28T15:11:22.754Z"
   },
   {
    "duration": 10,
    "start_time": "2023-09-28T15:11:22.802Z"
   },
   {
    "duration": 26,
    "start_time": "2023-09-28T15:11:22.814Z"
   },
   {
    "duration": 17,
    "start_time": "2023-09-28T15:11:22.844Z"
   },
   {
    "duration": 27,
    "start_time": "2023-09-28T15:11:22.863Z"
   },
   {
    "duration": 28,
    "start_time": "2023-09-28T15:11:22.892Z"
   },
   {
    "duration": 11,
    "start_time": "2023-09-28T15:11:22.923Z"
   },
   {
    "duration": 402,
    "start_time": "2023-09-28T15:11:22.936Z"
   },
   {
    "duration": 15,
    "start_time": "2023-09-28T15:11:23.339Z"
   },
   {
    "duration": 37,
    "start_time": "2023-09-28T15:11:23.358Z"
   },
   {
    "duration": 22,
    "start_time": "2023-09-28T15:11:23.397Z"
   },
   {
    "duration": 12,
    "start_time": "2023-09-28T15:11:23.421Z"
   },
   {
    "duration": 34,
    "start_time": "2023-09-28T15:11:23.434Z"
   },
   {
    "duration": 24,
    "start_time": "2023-09-28T15:11:23.470Z"
   },
   {
    "duration": 1469,
    "start_time": "2023-09-28T15:35:09.036Z"
   },
   {
    "duration": 63,
    "start_time": "2023-09-28T15:35:10.507Z"
   },
   {
    "duration": 13,
    "start_time": "2023-09-28T15:35:10.572Z"
   },
   {
    "duration": 35,
    "start_time": "2023-09-28T15:35:10.588Z"
   },
   {
    "duration": 32,
    "start_time": "2023-09-28T15:35:10.625Z"
   },
   {
    "duration": 22,
    "start_time": "2023-09-28T15:35:10.662Z"
   },
   {
    "duration": 8,
    "start_time": "2023-09-28T15:35:10.686Z"
   },
   {
    "duration": 26,
    "start_time": "2023-09-28T15:35:10.695Z"
   },
   {
    "duration": 17,
    "start_time": "2023-09-28T15:35:10.722Z"
   },
   {
    "duration": 16,
    "start_time": "2023-09-28T15:35:10.741Z"
   },
   {
    "duration": 11,
    "start_time": "2023-09-28T15:35:10.760Z"
   },
   {
    "duration": 359,
    "start_time": "2023-09-28T15:35:10.773Z"
   },
   {
    "duration": 32,
    "start_time": "2023-09-28T15:35:11.134Z"
   },
   {
    "duration": 11,
    "start_time": "2023-09-28T15:35:11.168Z"
   },
   {
    "duration": 10,
    "start_time": "2023-09-28T15:35:11.181Z"
   },
   {
    "duration": 323,
    "start_time": "2023-09-28T15:35:11.193Z"
   },
   {
    "duration": 10,
    "start_time": "2023-09-28T15:35:11.518Z"
   },
   {
    "duration": 373,
    "start_time": "2023-09-28T15:35:11.530Z"
   },
   {
    "duration": 8,
    "start_time": "2023-09-28T15:35:11.904Z"
   },
   {
    "duration": 349,
    "start_time": "2023-09-28T15:35:11.914Z"
   },
   {
    "duration": 8,
    "start_time": "2023-09-28T15:35:12.265Z"
   },
   {
    "duration": 365,
    "start_time": "2023-09-28T15:35:12.274Z"
   },
   {
    "duration": 22,
    "start_time": "2023-09-28T15:35:12.644Z"
   },
   {
    "duration": 143,
    "start_time": "2023-09-28T15:35:12.668Z"
   },
   {
    "duration": 353,
    "start_time": "2023-09-28T15:35:12.813Z"
   },
   {
    "duration": 80,
    "start_time": "2023-09-28T15:35:13.169Z"
   },
   {
    "duration": 81,
    "start_time": "2023-09-28T15:35:13.251Z"
   },
   {
    "duration": 173,
    "start_time": "2023-09-28T15:35:13.335Z"
   },
   {
    "duration": 92,
    "start_time": "2023-09-28T15:35:13.510Z"
   },
   {
    "duration": 82,
    "start_time": "2023-09-28T15:35:13.603Z"
   },
   {
    "duration": 86,
    "start_time": "2023-09-28T15:35:13.687Z"
   },
   {
    "duration": 88,
    "start_time": "2023-09-28T15:35:13.774Z"
   },
   {
    "duration": 101,
    "start_time": "2023-09-28T15:35:13.864Z"
   },
   {
    "duration": 9,
    "start_time": "2023-09-28T15:35:13.967Z"
   },
   {
    "duration": 160,
    "start_time": "2023-09-28T15:35:13.977Z"
   },
   {
    "duration": 204,
    "start_time": "2023-09-28T15:35:14.143Z"
   },
   {
    "duration": 13,
    "start_time": "2023-09-28T15:35:14.349Z"
   },
   {
    "duration": 105,
    "start_time": "2023-09-28T15:35:14.366Z"
   },
   {
    "duration": 179,
    "start_time": "2023-09-28T15:35:14.472Z"
   },
   {
    "duration": 93,
    "start_time": "2023-09-28T15:35:14.666Z"
   },
   {
    "duration": 94,
    "start_time": "2023-09-28T15:35:14.761Z"
   },
   {
    "duration": 70,
    "start_time": "2023-09-28T15:35:14.858Z"
   },
   {
    "duration": 98,
    "start_time": "2023-09-28T15:35:14.930Z"
   },
   {
    "duration": 388,
    "start_time": "2023-09-28T15:35:15.029Z"
   },
   {
    "duration": 4,
    "start_time": "2023-09-28T15:35:15.419Z"
   },
   {
    "duration": 279,
    "start_time": "2023-09-28T15:35:15.425Z"
   },
   {
    "duration": 5,
    "start_time": "2023-09-28T15:35:15.705Z"
   },
   {
    "duration": 304,
    "start_time": "2023-09-28T15:35:15.712Z"
   },
   {
    "duration": 5,
    "start_time": "2023-09-28T15:35:16.018Z"
   },
   {
    "duration": 346,
    "start_time": "2023-09-28T15:35:16.024Z"
   },
   {
    "duration": 312,
    "start_time": "2023-09-28T15:35:16.371Z"
   },
   {
    "duration": 5,
    "start_time": "2023-09-28T15:35:16.685Z"
   },
   {
    "duration": 404,
    "start_time": "2023-09-28T15:35:16.691Z"
   },
   {
    "duration": 274,
    "start_time": "2023-09-28T15:35:17.096Z"
   },
   {
    "duration": 298,
    "start_time": "2023-09-28T15:35:17.372Z"
   },
   {
    "duration": 164,
    "start_time": "2023-09-28T15:35:17.671Z"
   },
   {
    "duration": 167,
    "start_time": "2023-09-28T15:35:17.845Z"
   },
   {
    "duration": 169,
    "start_time": "2023-09-28T15:35:18.014Z"
   },
   {
    "duration": 223,
    "start_time": "2023-09-28T15:35:18.185Z"
   },
   {
    "duration": 219,
    "start_time": "2023-09-28T15:35:18.409Z"
   },
   {
    "duration": 161,
    "start_time": "2023-09-28T15:35:18.630Z"
   },
   {
    "duration": 171,
    "start_time": "2023-09-28T15:35:18.793Z"
   },
   {
    "duration": 270,
    "start_time": "2023-09-28T15:35:18.966Z"
   },
   {
    "duration": 254,
    "start_time": "2023-09-28T15:35:19.238Z"
   },
   {
    "duration": 3,
    "start_time": "2023-09-28T15:35:19.494Z"
   },
   {
    "duration": 6,
    "start_time": "2023-09-28T15:35:19.499Z"
   },
   {
    "duration": 278,
    "start_time": "2023-09-28T15:35:19.506Z"
   },
   {
    "duration": 427,
    "start_time": "2023-09-28T15:35:19.786Z"
   },
   {
    "duration": 10,
    "start_time": "2023-09-28T15:35:20.214Z"
   },
   {
    "duration": 412,
    "start_time": "2023-09-28T15:35:20.226Z"
   },
   {
    "duration": 13,
    "start_time": "2023-09-28T15:35:20.641Z"
   },
   {
    "duration": 28,
    "start_time": "2023-09-28T15:35:20.659Z"
   },
   {
    "duration": 18,
    "start_time": "2023-09-28T15:35:20.689Z"
   },
   {
    "duration": 15,
    "start_time": "2023-09-28T15:35:20.708Z"
   },
   {
    "duration": 17,
    "start_time": "2023-09-28T15:35:20.724Z"
   },
   {
    "duration": 36,
    "start_time": "2023-09-28T15:35:20.744Z"
   },
   {
    "duration": 17,
    "start_time": "2023-09-28T15:35:20.782Z"
   },
   {
    "duration": 27,
    "start_time": "2023-09-28T15:35:20.800Z"
   },
   {
    "duration": 3,
    "start_time": "2023-09-28T15:35:20.828Z"
   },
   {
    "duration": 38,
    "start_time": "2023-09-28T15:35:20.833Z"
   },
   {
    "duration": 3,
    "start_time": "2023-09-28T15:35:20.873Z"
   },
   {
    "duration": 22,
    "start_time": "2023-09-28T15:35:20.881Z"
   },
   {
    "duration": 8,
    "start_time": "2023-09-28T15:35:20.905Z"
   },
   {
    "duration": 52,
    "start_time": "2023-09-28T15:35:20.914Z"
   },
   {
    "duration": 11,
    "start_time": "2023-09-28T15:35:20.967Z"
   },
   {
    "duration": 16,
    "start_time": "2023-09-28T15:35:20.980Z"
   },
   {
    "duration": 4,
    "start_time": "2023-09-28T15:35:20.998Z"
   },
   {
    "duration": 11,
    "start_time": "2023-09-28T15:35:21.004Z"
   },
   {
    "duration": 423,
    "start_time": "2023-09-28T15:35:21.017Z"
   },
   {
    "duration": 11,
    "start_time": "2023-09-28T15:35:21.447Z"
   },
   {
    "duration": 11,
    "start_time": "2023-09-28T15:35:21.462Z"
   },
   {
    "duration": 25,
    "start_time": "2023-09-28T15:35:21.474Z"
   },
   {
    "duration": 9,
    "start_time": "2023-09-28T15:35:21.501Z"
   },
   {
    "duration": 40,
    "start_time": "2023-09-28T15:35:21.512Z"
   },
   {
    "duration": 27,
    "start_time": "2023-09-28T15:35:21.553Z"
   },
   {
    "duration": 1419,
    "start_time": "2023-09-28T15:37:38.384Z"
   },
   {
    "duration": 67,
    "start_time": "2023-09-28T15:37:39.805Z"
   },
   {
    "duration": 11,
    "start_time": "2023-09-28T15:37:39.874Z"
   },
   {
    "duration": 24,
    "start_time": "2023-09-28T15:37:39.887Z"
   },
   {
    "duration": 26,
    "start_time": "2023-09-28T15:37:39.912Z"
   },
   {
    "duration": 55,
    "start_time": "2023-09-28T15:37:39.939Z"
   },
   {
    "duration": 14,
    "start_time": "2023-09-28T15:37:39.995Z"
   },
   {
    "duration": 8,
    "start_time": "2023-09-28T15:37:40.010Z"
   },
   {
    "duration": 22,
    "start_time": "2023-09-28T15:37:40.019Z"
   },
   {
    "duration": 20,
    "start_time": "2023-09-28T15:37:40.044Z"
   },
   {
    "duration": 14,
    "start_time": "2023-09-28T15:37:40.065Z"
   },
   {
    "duration": 379,
    "start_time": "2023-09-28T15:37:40.081Z"
   },
   {
    "duration": 16,
    "start_time": "2023-09-28T15:37:40.462Z"
   },
   {
    "duration": 7,
    "start_time": "2023-09-28T15:37:40.479Z"
   },
   {
    "duration": 7,
    "start_time": "2023-09-28T15:37:40.488Z"
   },
   {
    "duration": 314,
    "start_time": "2023-09-28T15:37:40.497Z"
   },
   {
    "duration": 8,
    "start_time": "2023-09-28T15:37:40.813Z"
   },
   {
    "duration": 374,
    "start_time": "2023-09-28T15:37:40.823Z"
   },
   {
    "duration": 8,
    "start_time": "2023-09-28T15:37:41.199Z"
   },
   {
    "duration": 323,
    "start_time": "2023-09-28T15:37:41.208Z"
   },
   {
    "duration": 24,
    "start_time": "2023-09-28T15:37:41.533Z"
   },
   {
    "duration": 325,
    "start_time": "2023-09-28T15:37:41.559Z"
   },
   {
    "duration": 7,
    "start_time": "2023-09-28T15:37:41.886Z"
   },
   {
    "duration": 114,
    "start_time": "2023-09-28T15:37:41.895Z"
   },
   {
    "duration": 344,
    "start_time": "2023-09-28T15:37:42.011Z"
   },
   {
    "duration": 70,
    "start_time": "2023-09-28T15:37:42.358Z"
   },
   {
    "duration": 90,
    "start_time": "2023-09-28T15:37:42.430Z"
   },
   {
    "duration": 176,
    "start_time": "2023-09-28T15:37:42.524Z"
   },
   {
    "duration": 83,
    "start_time": "2023-09-28T15:37:42.702Z"
   },
   {
    "duration": 81,
    "start_time": "2023-09-28T15:37:42.787Z"
   },
   {
    "duration": 65,
    "start_time": "2023-09-28T15:37:42.869Z"
   },
   {
    "duration": 97,
    "start_time": "2023-09-28T15:37:42.936Z"
   },
   {
    "duration": 94,
    "start_time": "2023-09-28T15:37:43.035Z"
   },
   {
    "duration": 14,
    "start_time": "2023-09-28T15:37:43.131Z"
   },
   {
    "duration": 114,
    "start_time": "2023-09-28T15:37:43.151Z"
   },
   {
    "duration": 149,
    "start_time": "2023-09-28T15:37:43.267Z"
   },
   {
    "duration": 7,
    "start_time": "2023-09-28T15:37:43.417Z"
   },
   {
    "duration": 111,
    "start_time": "2023-09-28T15:37:43.426Z"
   },
   {
    "duration": 152,
    "start_time": "2023-09-28T15:37:43.539Z"
   },
   {
    "duration": 79,
    "start_time": "2023-09-28T15:37:43.692Z"
   },
   {
    "duration": 74,
    "start_time": "2023-09-28T15:37:43.773Z"
   },
   {
    "duration": 71,
    "start_time": "2023-09-28T15:37:43.857Z"
   },
   {
    "duration": 139,
    "start_time": "2023-09-28T15:37:43.930Z"
   },
   {
    "duration": 439,
    "start_time": "2023-09-28T15:37:44.071Z"
   },
   {
    "duration": 5,
    "start_time": "2023-09-28T15:37:44.512Z"
   },
   {
    "duration": 303,
    "start_time": "2023-09-28T15:37:44.518Z"
   },
   {
    "duration": 4,
    "start_time": "2023-09-28T15:37:44.823Z"
   },
   {
    "duration": 320,
    "start_time": "2023-09-28T15:37:44.829Z"
   },
   {
    "duration": 8,
    "start_time": "2023-09-28T15:37:45.154Z"
   },
   {
    "duration": 338,
    "start_time": "2023-09-28T15:37:45.164Z"
   },
   {
    "duration": 294,
    "start_time": "2023-09-28T15:37:45.504Z"
   },
   {
    "duration": 4,
    "start_time": "2023-09-28T15:37:45.800Z"
   },
   {
    "duration": 381,
    "start_time": "2023-09-28T15:37:45.806Z"
   },
   {
    "duration": 279,
    "start_time": "2023-09-28T15:37:46.189Z"
   },
   {
    "duration": 293,
    "start_time": "2023-09-28T15:37:46.469Z"
   },
   {
    "duration": 169,
    "start_time": "2023-09-28T15:37:46.764Z"
   },
   {
    "duration": 174,
    "start_time": "2023-09-28T15:37:46.935Z"
   },
   {
    "duration": 178,
    "start_time": "2023-09-28T15:37:47.111Z"
   },
   {
    "duration": 276,
    "start_time": "2023-09-28T15:37:47.291Z"
   },
   {
    "duration": 230,
    "start_time": "2023-09-28T15:37:47.569Z"
   },
   {
    "duration": 164,
    "start_time": "2023-09-28T15:37:47.801Z"
   },
   {
    "duration": 149,
    "start_time": "2023-09-28T15:37:47.967Z"
   },
   {
    "duration": 249,
    "start_time": "2023-09-28T15:37:48.117Z"
   },
   {
    "duration": 248,
    "start_time": "2023-09-28T15:37:48.368Z"
   },
   {
    "duration": 3,
    "start_time": "2023-09-28T15:37:48.618Z"
   },
   {
    "duration": 34,
    "start_time": "2023-09-28T15:37:48.623Z"
   },
   {
    "duration": 211,
    "start_time": "2023-09-28T15:37:48.659Z"
   },
   {
    "duration": 419,
    "start_time": "2023-09-28T15:37:48.872Z"
   },
   {
    "duration": 10,
    "start_time": "2023-09-28T15:37:49.293Z"
   },
   {
    "duration": 455,
    "start_time": "2023-09-28T15:37:49.305Z"
   },
   {
    "duration": 8,
    "start_time": "2023-09-28T15:37:49.762Z"
   },
   {
    "duration": 28,
    "start_time": "2023-09-28T15:37:49.771Z"
   },
   {
    "duration": 10,
    "start_time": "2023-09-28T15:37:49.801Z"
   },
   {
    "duration": 27,
    "start_time": "2023-09-28T15:37:49.812Z"
   },
   {
    "duration": 27,
    "start_time": "2023-09-28T15:37:49.840Z"
   },
   {
    "duration": 30,
    "start_time": "2023-09-28T15:37:49.869Z"
   },
   {
    "duration": 10,
    "start_time": "2023-09-28T15:37:49.902Z"
   },
   {
    "duration": 32,
    "start_time": "2023-09-28T15:37:49.914Z"
   },
   {
    "duration": 5,
    "start_time": "2023-09-28T15:37:49.950Z"
   },
   {
    "duration": 31,
    "start_time": "2023-09-28T15:37:49.961Z"
   },
   {
    "duration": 8,
    "start_time": "2023-09-28T15:37:49.993Z"
   },
   {
    "duration": 48,
    "start_time": "2023-09-28T15:37:50.006Z"
   },
   {
    "duration": 21,
    "start_time": "2023-09-28T15:37:50.061Z"
   },
   {
    "duration": 58,
    "start_time": "2023-09-28T15:37:50.083Z"
   },
   {
    "duration": 22,
    "start_time": "2023-09-28T15:37:50.143Z"
   },
   {
    "duration": 14,
    "start_time": "2023-09-28T15:37:50.167Z"
   },
   {
    "duration": 22,
    "start_time": "2023-09-28T15:37:50.182Z"
   },
   {
    "duration": 27,
    "start_time": "2023-09-28T15:37:50.206Z"
   },
   {
    "duration": 431,
    "start_time": "2023-09-28T15:37:50.235Z"
   },
   {
    "duration": 4,
    "start_time": "2023-09-28T15:37:50.668Z"
   },
   {
    "duration": 13,
    "start_time": "2023-09-28T15:37:50.674Z"
   },
   {
    "duration": 12,
    "start_time": "2023-09-28T15:37:50.689Z"
   },
   {
    "duration": 9,
    "start_time": "2023-09-28T15:37:50.703Z"
   },
   {
    "duration": 54,
    "start_time": "2023-09-28T15:37:50.714Z"
   },
   {
    "duration": 22,
    "start_time": "2023-09-28T15:37:50.771Z"
   },
   {
    "duration": 3,
    "start_time": "2023-09-28T15:44:38.969Z"
   },
   {
    "duration": 9,
    "start_time": "2023-09-28T15:44:48.711Z"
   },
   {
    "duration": 12,
    "start_time": "2023-09-28T15:51:11.004Z"
   },
   {
    "duration": 287,
    "start_time": "2023-09-28T15:53:04.476Z"
   },
   {
    "duration": 138,
    "start_time": "2023-09-28T16:10:22.909Z"
   },
   {
    "duration": 1397,
    "start_time": "2023-09-28T16:34:03.304Z"
   },
   {
    "duration": 57,
    "start_time": "2023-09-28T16:34:04.703Z"
   },
   {
    "duration": 15,
    "start_time": "2023-09-28T16:34:04.762Z"
   },
   {
    "duration": 42,
    "start_time": "2023-09-28T16:34:04.779Z"
   },
   {
    "duration": 29,
    "start_time": "2023-09-28T16:34:04.823Z"
   },
   {
    "duration": 25,
    "start_time": "2023-09-28T16:34:04.853Z"
   },
   {
    "duration": 13,
    "start_time": "2023-09-28T16:34:04.879Z"
   },
   {
    "duration": 11,
    "start_time": "2023-09-28T16:34:04.893Z"
   },
   {
    "duration": 15,
    "start_time": "2023-09-28T16:34:04.906Z"
   },
   {
    "duration": 50,
    "start_time": "2023-09-28T16:34:04.923Z"
   },
   {
    "duration": 8,
    "start_time": "2023-09-28T16:34:04.975Z"
   },
   {
    "duration": 365,
    "start_time": "2023-09-28T16:34:04.985Z"
   },
   {
    "duration": 19,
    "start_time": "2023-09-28T16:34:05.353Z"
   },
   {
    "duration": 33,
    "start_time": "2023-09-28T16:34:05.375Z"
   },
   {
    "duration": 48,
    "start_time": "2023-09-28T16:34:05.409Z"
   },
   {
    "duration": 305,
    "start_time": "2023-09-28T16:34:05.459Z"
   },
   {
    "duration": 8,
    "start_time": "2023-09-28T16:34:05.766Z"
   },
   {
    "duration": 353,
    "start_time": "2023-09-28T16:34:05.776Z"
   },
   {
    "duration": 15,
    "start_time": "2023-09-28T16:34:06.131Z"
   },
   {
    "duration": 327,
    "start_time": "2023-09-28T16:34:06.147Z"
   },
   {
    "duration": 8,
    "start_time": "2023-09-28T16:34:06.476Z"
   },
   {
    "duration": 331,
    "start_time": "2023-09-28T16:34:06.485Z"
   },
   {
    "duration": 7,
    "start_time": "2023-09-28T16:34:06.817Z"
   },
   {
    "duration": 114,
    "start_time": "2023-09-28T16:34:06.826Z"
   },
   {
    "duration": 316,
    "start_time": "2023-09-28T16:34:06.944Z"
   },
   {
    "duration": 66,
    "start_time": "2023-09-28T16:34:07.262Z"
   },
   {
    "duration": 81,
    "start_time": "2023-09-28T16:34:07.345Z"
   },
   {
    "duration": 170,
    "start_time": "2023-09-28T16:34:07.428Z"
   },
   {
    "duration": 71,
    "start_time": "2023-09-28T16:34:07.600Z"
   },
   {
    "duration": 77,
    "start_time": "2023-09-28T16:34:07.672Z"
   },
   {
    "duration": 76,
    "start_time": "2023-09-28T16:34:07.751Z"
   },
   {
    "duration": 74,
    "start_time": "2023-09-28T16:34:07.828Z"
   },
   {
    "duration": 94,
    "start_time": "2023-09-28T16:34:07.904Z"
   },
   {
    "duration": 8,
    "start_time": "2023-09-28T16:34:08.000Z"
   },
   {
    "duration": 103,
    "start_time": "2023-09-28T16:34:08.009Z"
   },
   {
    "duration": 145,
    "start_time": "2023-09-28T16:34:08.114Z"
   },
   {
    "duration": 8,
    "start_time": "2023-09-28T16:34:08.261Z"
   },
   {
    "duration": 102,
    "start_time": "2023-09-28T16:34:08.270Z"
   },
   {
    "duration": 159,
    "start_time": "2023-09-28T16:34:08.373Z"
   },
   {
    "duration": 76,
    "start_time": "2023-09-28T16:34:08.533Z"
   },
   {
    "duration": 78,
    "start_time": "2023-09-28T16:34:08.613Z"
   },
   {
    "duration": 84,
    "start_time": "2023-09-28T16:34:08.692Z"
   },
   {
    "duration": 89,
    "start_time": "2023-09-28T16:34:08.777Z"
   },
   {
    "duration": 349,
    "start_time": "2023-09-28T16:34:08.867Z"
   },
   {
    "duration": 4,
    "start_time": "2023-09-28T16:34:09.217Z"
   },
   {
    "duration": 256,
    "start_time": "2023-09-28T16:34:09.222Z"
   },
   {
    "duration": 4,
    "start_time": "2023-09-28T16:34:09.480Z"
   },
   {
    "duration": 275,
    "start_time": "2023-09-28T16:34:09.486Z"
   },
   {
    "duration": 4,
    "start_time": "2023-09-28T16:34:09.763Z"
   },
   {
    "duration": 293,
    "start_time": "2023-09-28T16:34:09.769Z"
   },
   {
    "duration": 270,
    "start_time": "2023-09-28T16:34:10.063Z"
   },
   {
    "duration": 13,
    "start_time": "2023-09-28T16:34:10.335Z"
   },
   {
    "duration": 354,
    "start_time": "2023-09-28T16:34:10.350Z"
   },
   {
    "duration": 270,
    "start_time": "2023-09-28T16:34:10.706Z"
   },
   {
    "duration": 260,
    "start_time": "2023-09-28T16:34:10.978Z"
   },
   {
    "duration": 176,
    "start_time": "2023-09-28T16:34:11.239Z"
   },
   {
    "duration": 178,
    "start_time": "2023-09-28T16:34:11.417Z"
   },
   {
    "duration": 175,
    "start_time": "2023-09-28T16:34:11.597Z"
   },
   {
    "duration": 223,
    "start_time": "2023-09-28T16:34:11.773Z"
   },
   {
    "duration": 217,
    "start_time": "2023-09-28T16:34:11.997Z"
   },
   {
    "duration": 165,
    "start_time": "2023-09-28T16:34:12.216Z"
   },
   {
    "duration": 143,
    "start_time": "2023-09-28T16:34:12.382Z"
   },
   {
    "duration": 242,
    "start_time": "2023-09-28T16:34:12.526Z"
   },
   {
    "duration": 238,
    "start_time": "2023-09-28T16:34:12.770Z"
   },
   {
    "duration": 3,
    "start_time": "2023-09-28T16:34:13.009Z"
   },
   {
    "duration": 45,
    "start_time": "2023-09-28T16:34:13.014Z"
   },
   {
    "duration": 235,
    "start_time": "2023-09-28T16:34:13.064Z"
   },
   {
    "duration": 392,
    "start_time": "2023-09-28T16:34:13.300Z"
   },
   {
    "duration": 10,
    "start_time": "2023-09-28T16:34:13.694Z"
   },
   {
    "duration": 472,
    "start_time": "2023-09-28T16:34:13.705Z"
   },
   {
    "duration": 9,
    "start_time": "2023-09-28T16:34:14.179Z"
   },
   {
    "duration": 32,
    "start_time": "2023-09-28T16:34:14.190Z"
   },
   {
    "duration": 30,
    "start_time": "2023-09-28T16:34:14.224Z"
   },
   {
    "duration": 15,
    "start_time": "2023-09-28T16:34:14.256Z"
   },
   {
    "duration": 9,
    "start_time": "2023-09-28T16:34:14.274Z"
   },
   {
    "duration": 30,
    "start_time": "2023-09-28T16:34:14.286Z"
   },
   {
    "duration": 13,
    "start_time": "2023-09-28T16:34:14.344Z"
   },
   {
    "duration": 29,
    "start_time": "2023-09-28T16:34:14.359Z"
   },
   {
    "duration": 3,
    "start_time": "2023-09-28T16:34:14.390Z"
   },
   {
    "duration": 29,
    "start_time": "2023-09-28T16:34:14.395Z"
   },
   {
    "duration": 20,
    "start_time": "2023-09-28T16:34:14.426Z"
   },
   {
    "duration": 31,
    "start_time": "2023-09-28T16:34:14.448Z"
   },
   {
    "duration": 10,
    "start_time": "2023-09-28T16:34:14.480Z"
   },
   {
    "duration": 39,
    "start_time": "2023-09-28T16:34:14.491Z"
   },
   {
    "duration": 15,
    "start_time": "2023-09-28T16:34:14.531Z"
   },
   {
    "duration": 15,
    "start_time": "2023-09-28T16:34:14.548Z"
   },
   {
    "duration": 5,
    "start_time": "2023-09-28T16:34:14.564Z"
   },
   {
    "duration": 10,
    "start_time": "2023-09-28T16:34:14.570Z"
   },
   {
    "duration": 402,
    "start_time": "2023-09-28T16:34:14.581Z"
   },
   {
    "duration": 5,
    "start_time": "2023-09-28T16:34:14.985Z"
   },
   {
    "duration": 72,
    "start_time": "2023-09-28T16:34:14.992Z"
   },
   {
    "duration": 52,
    "start_time": "2023-09-28T16:34:15.066Z"
   },
   {
    "duration": 17,
    "start_time": "2023-09-28T16:34:15.120Z"
   },
   {
    "duration": 32,
    "start_time": "2023-09-28T16:34:15.139Z"
   },
   {
    "duration": 16,
    "start_time": "2023-09-28T16:34:15.173Z"
   },
   {
    "duration": 277,
    "start_time": "2023-09-28T16:34:15.191Z"
   },
   {
    "duration": 112,
    "start_time": "2023-09-28T16:34:15.469Z"
   },
   {
    "duration": 0,
    "start_time": "2023-09-28T16:34:15.583Z"
   },
   {
    "duration": 0,
    "start_time": "2023-09-28T16:34:15.584Z"
   },
   {
    "duration": 0,
    "start_time": "2023-09-28T16:34:15.585Z"
   },
   {
    "duration": 14,
    "start_time": "2023-09-28T16:35:05.677Z"
   },
   {
    "duration": 7,
    "start_time": "2023-09-28T16:37:14.497Z"
   },
   {
    "duration": 8,
    "start_time": "2023-09-28T16:40:01.509Z"
   },
   {
    "duration": 4,
    "start_time": "2023-09-28T16:40:48.090Z"
   },
   {
    "duration": 4,
    "start_time": "2023-09-28T16:42:25.931Z"
   },
   {
    "duration": 4,
    "start_time": "2023-09-28T16:42:27.113Z"
   },
   {
    "duration": 306,
    "start_time": "2023-09-28T16:43:54.501Z"
   },
   {
    "duration": 1421,
    "start_time": "2023-09-28T16:44:27.959Z"
   },
   {
    "duration": 55,
    "start_time": "2023-09-28T16:44:29.381Z"
   },
   {
    "duration": 12,
    "start_time": "2023-09-28T16:44:29.437Z"
   },
   {
    "duration": 24,
    "start_time": "2023-09-28T16:44:29.450Z"
   },
   {
    "duration": 23,
    "start_time": "2023-09-28T16:44:29.476Z"
   },
   {
    "duration": 20,
    "start_time": "2023-09-28T16:44:29.500Z"
   },
   {
    "duration": 28,
    "start_time": "2023-09-28T16:44:29.521Z"
   },
   {
    "duration": 20,
    "start_time": "2023-09-28T16:44:29.550Z"
   },
   {
    "duration": 8,
    "start_time": "2023-09-28T16:44:29.571Z"
   },
   {
    "duration": 16,
    "start_time": "2023-09-28T16:44:29.580Z"
   },
   {
    "duration": 20,
    "start_time": "2023-09-28T16:44:29.597Z"
   },
   {
    "duration": 299,
    "start_time": "2023-09-28T16:44:29.618Z"
   },
   {
    "duration": 15,
    "start_time": "2023-09-28T16:44:29.918Z"
   },
   {
    "duration": 7,
    "start_time": "2023-09-28T16:44:29.944Z"
   },
   {
    "duration": 8,
    "start_time": "2023-09-28T16:44:29.953Z"
   },
   {
    "duration": 284,
    "start_time": "2023-09-28T16:44:29.962Z"
   },
   {
    "duration": 8,
    "start_time": "2023-09-28T16:44:30.247Z"
   },
   {
    "duration": 365,
    "start_time": "2023-09-28T16:44:30.256Z"
   },
   {
    "duration": 9,
    "start_time": "2023-09-28T16:44:30.623Z"
   },
   {
    "duration": 322,
    "start_time": "2023-09-28T16:44:30.645Z"
   },
   {
    "duration": 8,
    "start_time": "2023-09-28T16:44:30.969Z"
   },
   {
    "duration": 326,
    "start_time": "2023-09-28T16:44:30.978Z"
   },
   {
    "duration": 8,
    "start_time": "2023-09-28T16:44:31.306Z"
   },
   {
    "duration": 120,
    "start_time": "2023-09-28T16:44:31.315Z"
   },
   {
    "duration": 304,
    "start_time": "2023-09-28T16:44:31.437Z"
   },
   {
    "duration": 64,
    "start_time": "2023-09-28T16:44:31.743Z"
   },
   {
    "duration": 83,
    "start_time": "2023-09-28T16:44:31.809Z"
   },
   {
    "duration": 158,
    "start_time": "2023-09-28T16:44:31.893Z"
   },
   {
    "duration": 68,
    "start_time": "2023-09-28T16:44:32.052Z"
   },
   {
    "duration": 77,
    "start_time": "2023-09-28T16:44:32.121Z"
   },
   {
    "duration": 76,
    "start_time": "2023-09-28T16:44:32.201Z"
   },
   {
    "duration": 80,
    "start_time": "2023-09-28T16:44:32.279Z"
   },
   {
    "duration": 97,
    "start_time": "2023-09-28T16:44:32.361Z"
   },
   {
    "duration": 7,
    "start_time": "2023-09-28T16:44:32.460Z"
   },
   {
    "duration": 113,
    "start_time": "2023-09-28T16:44:32.469Z"
   },
   {
    "duration": 137,
    "start_time": "2023-09-28T16:44:32.583Z"
   },
   {
    "duration": 7,
    "start_time": "2023-09-28T16:44:32.722Z"
   },
   {
    "duration": 92,
    "start_time": "2023-09-28T16:44:32.730Z"
   },
   {
    "duration": 155,
    "start_time": "2023-09-28T16:44:32.824Z"
   },
   {
    "duration": 75,
    "start_time": "2023-09-28T16:44:32.981Z"
   },
   {
    "duration": 60,
    "start_time": "2023-09-28T16:44:33.062Z"
   },
   {
    "duration": 78,
    "start_time": "2023-09-28T16:44:33.123Z"
   },
   {
    "duration": 88,
    "start_time": "2023-09-28T16:44:33.202Z"
   },
   {
    "duration": 337,
    "start_time": "2023-09-28T16:44:33.291Z"
   },
   {
    "duration": 4,
    "start_time": "2023-09-28T16:44:33.630Z"
   },
   {
    "duration": 261,
    "start_time": "2023-09-28T16:44:33.636Z"
   },
   {
    "duration": 4,
    "start_time": "2023-09-28T16:44:33.899Z"
   },
   {
    "duration": 339,
    "start_time": "2023-09-28T16:44:33.905Z"
   },
   {
    "duration": 5,
    "start_time": "2023-09-28T16:44:34.246Z"
   },
   {
    "duration": 307,
    "start_time": "2023-09-28T16:44:34.254Z"
   },
   {
    "duration": 291,
    "start_time": "2023-09-28T16:44:34.563Z"
   },
   {
    "duration": 4,
    "start_time": "2023-09-28T16:44:34.856Z"
   },
   {
    "duration": 376,
    "start_time": "2023-09-28T16:44:34.861Z"
   },
   {
    "duration": 259,
    "start_time": "2023-09-28T16:44:35.239Z"
   },
   {
    "duration": 254,
    "start_time": "2023-09-28T16:44:35.500Z"
   },
   {
    "duration": 153,
    "start_time": "2023-09-28T16:44:35.755Z"
   },
   {
    "duration": 160,
    "start_time": "2023-09-28T16:44:35.909Z"
   },
   {
    "duration": 163,
    "start_time": "2023-09-28T16:44:36.070Z"
   },
   {
    "duration": 221,
    "start_time": "2023-09-28T16:44:36.235Z"
   },
   {
    "duration": 191,
    "start_time": "2023-09-28T16:44:36.458Z"
   },
   {
    "duration": 145,
    "start_time": "2023-09-28T16:44:36.650Z"
   },
   {
    "duration": 135,
    "start_time": "2023-09-28T16:44:36.797Z"
   },
   {
    "duration": 233,
    "start_time": "2023-09-28T16:44:36.934Z"
   },
   {
    "duration": 204,
    "start_time": "2023-09-28T16:44:37.169Z"
   },
   {
    "duration": 3,
    "start_time": "2023-09-28T16:44:37.374Z"
   },
   {
    "duration": 6,
    "start_time": "2023-09-28T16:44:37.378Z"
   },
   {
    "duration": 191,
    "start_time": "2023-09-28T16:44:37.385Z"
   },
   {
    "duration": 347,
    "start_time": "2023-09-28T16:44:37.578Z"
   },
   {
    "duration": 20,
    "start_time": "2023-09-28T16:44:37.927Z"
   },
   {
    "duration": 377,
    "start_time": "2023-09-28T16:44:37.949Z"
   },
   {
    "duration": 17,
    "start_time": "2023-09-28T16:44:38.327Z"
   },
   {
    "duration": 23,
    "start_time": "2023-09-28T16:44:38.345Z"
   },
   {
    "duration": 18,
    "start_time": "2023-09-28T16:44:38.369Z"
   },
   {
    "duration": 9,
    "start_time": "2023-09-28T16:44:38.388Z"
   },
   {
    "duration": 11,
    "start_time": "2023-09-28T16:44:38.398Z"
   },
   {
    "duration": 38,
    "start_time": "2023-09-28T16:44:38.411Z"
   },
   {
    "duration": 10,
    "start_time": "2023-09-28T16:44:38.451Z"
   },
   {
    "duration": 23,
    "start_time": "2023-09-28T16:44:38.462Z"
   },
   {
    "duration": 3,
    "start_time": "2023-09-28T16:44:38.486Z"
   },
   {
    "duration": 39,
    "start_time": "2023-09-28T16:44:38.491Z"
   },
   {
    "duration": 15,
    "start_time": "2023-09-28T16:44:38.531Z"
   },
   {
    "duration": 33,
    "start_time": "2023-09-28T16:44:38.547Z"
   },
   {
    "duration": 10,
    "start_time": "2023-09-28T16:44:38.582Z"
   },
   {
    "duration": 33,
    "start_time": "2023-09-28T16:44:38.593Z"
   },
   {
    "duration": 7,
    "start_time": "2023-09-28T16:44:38.628Z"
   },
   {
    "duration": 11,
    "start_time": "2023-09-28T16:44:38.636Z"
   },
   {
    "duration": 4,
    "start_time": "2023-09-28T16:44:38.649Z"
   },
   {
    "duration": 10,
    "start_time": "2023-09-28T16:44:38.655Z"
   },
   {
    "duration": 359,
    "start_time": "2023-09-28T16:44:38.667Z"
   },
   {
    "duration": 17,
    "start_time": "2023-09-28T16:44:39.028Z"
   },
   {
    "duration": 16,
    "start_time": "2023-09-28T16:44:39.047Z"
   },
   {
    "duration": 11,
    "start_time": "2023-09-28T16:44:39.065Z"
   },
   {
    "duration": 9,
    "start_time": "2023-09-28T16:44:39.078Z"
   },
   {
    "duration": 25,
    "start_time": "2023-09-28T16:44:39.088Z"
   },
   {
    "duration": 10,
    "start_time": "2023-09-28T16:44:39.114Z"
   },
   {
    "duration": 253,
    "start_time": "2023-09-28T16:44:39.144Z"
   },
   {
    "duration": 9,
    "start_time": "2023-09-28T16:44:39.399Z"
   },
   {
    "duration": 13,
    "start_time": "2023-09-28T16:44:39.409Z"
   },
   {
    "duration": 7,
    "start_time": "2023-09-28T16:44:39.423Z"
   },
   {
    "duration": 6,
    "start_time": "2023-09-28T16:44:39.444Z"
   },
   {
    "duration": 310,
    "start_time": "2023-09-28T16:44:39.452Z"
   },
   {
    "duration": 11,
    "start_time": "2023-09-28T16:44:39.763Z"
   },
   {
    "duration": 17,
    "start_time": "2023-09-28T16:44:39.775Z"
   },
   {
    "duration": 214,
    "start_time": "2023-09-28T16:44:39.794Z"
   },
   {
    "duration": 109,
    "start_time": "2023-09-28T16:44:40.010Z"
   },
   {
    "duration": 0,
    "start_time": "2023-09-28T16:44:40.121Z"
   },
   {
    "duration": 262,
    "start_time": "2023-09-28T16:45:20.942Z"
   },
   {
    "duration": 1637,
    "start_time": "2023-09-28T17:01:05.238Z"
   },
   {
    "duration": 59,
    "start_time": "2023-09-28T17:01:06.877Z"
   },
   {
    "duration": 13,
    "start_time": "2023-09-28T17:01:06.938Z"
   },
   {
    "duration": 27,
    "start_time": "2023-09-28T17:01:06.953Z"
   },
   {
    "duration": 27,
    "start_time": "2023-09-28T17:01:06.983Z"
   },
   {
    "duration": 48,
    "start_time": "2023-09-28T17:01:07.012Z"
   },
   {
    "duration": 9,
    "start_time": "2023-09-28T17:01:07.062Z"
   },
   {
    "duration": 11,
    "start_time": "2023-09-28T17:01:07.073Z"
   },
   {
    "duration": 9,
    "start_time": "2023-09-28T17:01:07.085Z"
   },
   {
    "duration": 13,
    "start_time": "2023-09-28T17:01:07.096Z"
   },
   {
    "duration": 9,
    "start_time": "2023-09-28T17:01:07.144Z"
   },
   {
    "duration": 344,
    "start_time": "2023-09-28T17:01:07.155Z"
   },
   {
    "duration": 16,
    "start_time": "2023-09-28T17:01:07.501Z"
   },
   {
    "duration": 12,
    "start_time": "2023-09-28T17:01:07.519Z"
   },
   {
    "duration": 22,
    "start_time": "2023-09-28T17:01:07.543Z"
   },
   {
    "duration": 302,
    "start_time": "2023-09-28T17:01:07.567Z"
   },
   {
    "duration": 8,
    "start_time": "2023-09-28T17:01:07.870Z"
   },
   {
    "duration": 362,
    "start_time": "2023-09-28T17:01:07.880Z"
   },
   {
    "duration": 8,
    "start_time": "2023-09-28T17:01:08.244Z"
   },
   {
    "duration": 322,
    "start_time": "2023-09-28T17:01:08.254Z"
   },
   {
    "duration": 8,
    "start_time": "2023-09-28T17:01:08.577Z"
   },
   {
    "duration": 336,
    "start_time": "2023-09-28T17:01:08.586Z"
   },
   {
    "duration": 8,
    "start_time": "2023-09-28T17:01:08.923Z"
   },
   {
    "duration": 124,
    "start_time": "2023-09-28T17:01:08.932Z"
   },
   {
    "duration": 335,
    "start_time": "2023-09-28T17:01:09.057Z"
   },
   {
    "duration": 81,
    "start_time": "2023-09-28T17:01:09.394Z"
   },
   {
    "duration": 87,
    "start_time": "2023-09-28T17:01:09.477Z"
   },
   {
    "duration": 170,
    "start_time": "2023-09-28T17:01:09.566Z"
   },
   {
    "duration": 76,
    "start_time": "2023-09-28T17:01:09.738Z"
   },
   {
    "duration": 83,
    "start_time": "2023-09-28T17:01:09.816Z"
   },
   {
    "duration": 81,
    "start_time": "2023-09-28T17:01:09.901Z"
   },
   {
    "duration": 86,
    "start_time": "2023-09-28T17:01:09.984Z"
   },
   {
    "duration": 100,
    "start_time": "2023-09-28T17:01:10.072Z"
   },
   {
    "duration": 8,
    "start_time": "2023-09-28T17:01:10.173Z"
   },
   {
    "duration": 112,
    "start_time": "2023-09-28T17:01:10.182Z"
   },
   {
    "duration": 154,
    "start_time": "2023-09-28T17:01:10.296Z"
   },
   {
    "duration": 7,
    "start_time": "2023-09-28T17:01:10.452Z"
   },
   {
    "duration": 104,
    "start_time": "2023-09-28T17:01:10.461Z"
   },
   {
    "duration": 184,
    "start_time": "2023-09-28T17:01:10.566Z"
   },
   {
    "duration": 68,
    "start_time": "2023-09-28T17:01:10.752Z"
   },
   {
    "duration": 82,
    "start_time": "2023-09-28T17:01:10.824Z"
   },
   {
    "duration": 80,
    "start_time": "2023-09-28T17:01:10.907Z"
   },
   {
    "duration": 99,
    "start_time": "2023-09-28T17:01:10.988Z"
   },
   {
    "duration": 353,
    "start_time": "2023-09-28T17:01:11.088Z"
   },
   {
    "duration": 4,
    "start_time": "2023-09-28T17:01:11.443Z"
   },
   {
    "duration": 274,
    "start_time": "2023-09-28T17:01:11.449Z"
   },
   {
    "duration": 4,
    "start_time": "2023-09-28T17:01:11.725Z"
   },
   {
    "duration": 292,
    "start_time": "2023-09-28T17:01:11.731Z"
   },
   {
    "duration": 5,
    "start_time": "2023-09-28T17:01:12.024Z"
   },
   {
    "duration": 301,
    "start_time": "2023-09-28T17:01:12.031Z"
   },
   {
    "duration": 271,
    "start_time": "2023-09-28T17:01:12.333Z"
   },
   {
    "duration": 4,
    "start_time": "2023-09-28T17:01:12.606Z"
   },
   {
    "duration": 381,
    "start_time": "2023-09-28T17:01:12.611Z"
   },
   {
    "duration": 266,
    "start_time": "2023-09-28T17:01:12.994Z"
   },
   {
    "duration": 275,
    "start_time": "2023-09-28T17:01:13.261Z"
   },
   {
    "duration": 175,
    "start_time": "2023-09-28T17:01:13.537Z"
   },
   {
    "duration": 174,
    "start_time": "2023-09-28T17:01:13.714Z"
   },
   {
    "duration": 196,
    "start_time": "2023-09-28T17:01:13.890Z"
   },
   {
    "duration": 307,
    "start_time": "2023-09-28T17:01:14.088Z"
   },
   {
    "duration": 238,
    "start_time": "2023-09-28T17:01:14.397Z"
   },
   {
    "duration": 179,
    "start_time": "2023-09-28T17:01:14.643Z"
   },
   {
    "duration": 164,
    "start_time": "2023-09-28T17:01:14.824Z"
   },
   {
    "duration": 268,
    "start_time": "2023-09-28T17:01:14.990Z"
   },
   {
    "duration": 253,
    "start_time": "2023-09-28T17:01:15.260Z"
   },
   {
    "duration": 4,
    "start_time": "2023-09-28T17:01:15.515Z"
   },
   {
    "duration": 11,
    "start_time": "2023-09-28T17:01:15.521Z"
   },
   {
    "duration": 226,
    "start_time": "2023-09-28T17:01:15.533Z"
   },
   {
    "duration": 406,
    "start_time": "2023-09-28T17:01:15.761Z"
   },
   {
    "duration": 11,
    "start_time": "2023-09-28T17:01:16.169Z"
   },
   {
    "duration": 401,
    "start_time": "2023-09-28T17:01:16.182Z"
   },
   {
    "duration": 9,
    "start_time": "2023-09-28T17:01:16.584Z"
   },
   {
    "duration": 16,
    "start_time": "2023-09-28T17:01:16.594Z"
   },
   {
    "duration": 15,
    "start_time": "2023-09-28T17:01:16.612Z"
   },
   {
    "duration": 15,
    "start_time": "2023-09-28T17:01:16.629Z"
   },
   {
    "duration": 14,
    "start_time": "2023-09-28T17:01:16.646Z"
   },
   {
    "duration": 12,
    "start_time": "2023-09-28T17:01:16.662Z"
   },
   {
    "duration": 9,
    "start_time": "2023-09-28T17:01:16.676Z"
   },
   {
    "duration": 26,
    "start_time": "2023-09-28T17:01:16.687Z"
   },
   {
    "duration": 413,
    "start_time": "2023-09-28T17:01:16.715Z"
   },
   {
    "duration": 5,
    "start_time": "2023-09-28T17:01:17.129Z"
   },
   {
    "duration": 20,
    "start_time": "2023-09-28T17:01:17.135Z"
   },
   {
    "duration": 20,
    "start_time": "2023-09-28T17:01:17.157Z"
   },
   {
    "duration": 12,
    "start_time": "2023-09-28T17:01:17.179Z"
   },
   {
    "duration": 297,
    "start_time": "2023-09-28T17:01:17.193Z"
   },
   {
    "duration": 8,
    "start_time": "2023-09-28T17:01:17.491Z"
   },
   {
    "duration": 41,
    "start_time": "2023-09-28T17:01:17.500Z"
   },
   {
    "duration": 18,
    "start_time": "2023-09-28T17:01:17.542Z"
   },
   {
    "duration": 11,
    "start_time": "2023-09-28T17:01:17.562Z"
   },
   {
    "duration": 328,
    "start_time": "2023-09-28T17:01:17.575Z"
   },
   {
    "duration": 12,
    "start_time": "2023-09-28T17:01:17.904Z"
   },
   {
    "duration": 26,
    "start_time": "2023-09-28T17:01:17.919Z"
   },
   {
    "duration": 415,
    "start_time": "2023-09-28T17:01:17.947Z"
   },
   {
    "duration": 121,
    "start_time": "2023-09-28T17:01:18.364Z"
   },
   {
    "duration": 2083,
    "start_time": "2023-09-29T06:12:17.003Z"
   },
   {
    "duration": 176,
    "start_time": "2023-09-29T06:12:19.088Z"
   },
   {
    "duration": 20,
    "start_time": "2023-09-29T06:12:19.266Z"
   },
   {
    "duration": 44,
    "start_time": "2023-09-29T06:12:19.289Z"
   },
   {
    "duration": 36,
    "start_time": "2023-09-29T06:12:19.335Z"
   },
   {
    "duration": 29,
    "start_time": "2023-09-29T06:12:19.372Z"
   },
   {
    "duration": 29,
    "start_time": "2023-09-29T06:12:19.403Z"
   },
   {
    "duration": 26,
    "start_time": "2023-09-29T06:12:19.434Z"
   },
   {
    "duration": 46,
    "start_time": "2023-09-29T06:12:19.462Z"
   },
   {
    "duration": 41,
    "start_time": "2023-09-29T06:12:19.511Z"
   },
   {
    "duration": 41,
    "start_time": "2023-09-29T06:12:19.553Z"
   },
   {
    "duration": 441,
    "start_time": "2023-09-29T06:12:19.596Z"
   },
   {
    "duration": 26,
    "start_time": "2023-09-29T06:12:20.039Z"
   },
   {
    "duration": 47,
    "start_time": "2023-09-29T06:12:20.067Z"
   },
   {
    "duration": 77,
    "start_time": "2023-09-29T06:12:20.118Z"
   },
   {
    "duration": 456,
    "start_time": "2023-09-29T06:12:20.197Z"
   },
   {
    "duration": 10,
    "start_time": "2023-09-29T06:12:20.655Z"
   },
   {
    "duration": 528,
    "start_time": "2023-09-29T06:12:20.667Z"
   },
   {
    "duration": 9,
    "start_time": "2023-09-29T06:12:21.197Z"
   },
   {
    "duration": 396,
    "start_time": "2023-09-29T06:12:21.208Z"
   },
   {
    "duration": 9,
    "start_time": "2023-09-29T06:12:21.607Z"
   },
   {
    "duration": 384,
    "start_time": "2023-09-29T06:12:21.618Z"
   },
   {
    "duration": 11,
    "start_time": "2023-09-29T06:12:22.004Z"
   },
   {
    "duration": 197,
    "start_time": "2023-09-29T06:12:22.017Z"
   },
   {
    "duration": 396,
    "start_time": "2023-09-29T06:12:22.216Z"
   },
   {
    "duration": 95,
    "start_time": "2023-09-29T06:12:22.614Z"
   },
   {
    "duration": 207,
    "start_time": "2023-09-29T06:12:22.711Z"
   },
   {
    "duration": 92,
    "start_time": "2023-09-29T06:12:22.924Z"
   },
   {
    "duration": 97,
    "start_time": "2023-09-29T06:12:23.018Z"
   },
   {
    "duration": 90,
    "start_time": "2023-09-29T06:12:23.118Z"
   },
   {
    "duration": 88,
    "start_time": "2023-09-29T06:12:23.210Z"
   },
   {
    "duration": 103,
    "start_time": "2023-09-29T06:12:23.301Z"
   },
   {
    "duration": 107,
    "start_time": "2023-09-29T06:12:23.406Z"
   },
   {
    "duration": 9,
    "start_time": "2023-09-29T06:12:23.515Z"
   },
   {
    "duration": 131,
    "start_time": "2023-09-29T06:12:23.526Z"
   },
   {
    "duration": 181,
    "start_time": "2023-09-29T06:12:23.659Z"
   },
   {
    "duration": 9,
    "start_time": "2023-09-29T06:12:23.847Z"
   },
   {
    "duration": 145,
    "start_time": "2023-09-29T06:12:23.858Z"
   },
   {
    "duration": 184,
    "start_time": "2023-09-29T06:12:24.005Z"
   },
   {
    "duration": 97,
    "start_time": "2023-09-29T06:12:24.190Z"
   },
   {
    "duration": 84,
    "start_time": "2023-09-29T06:12:24.289Z"
   },
   {
    "duration": 90,
    "start_time": "2023-09-29T06:12:24.375Z"
   },
   {
    "duration": 200,
    "start_time": "2023-09-29T06:12:24.466Z"
   },
   {
    "duration": 326,
    "start_time": "2023-09-29T06:12:24.668Z"
   },
   {
    "duration": 6,
    "start_time": "2023-09-29T06:12:24.997Z"
   },
   {
    "duration": 403,
    "start_time": "2023-09-29T06:12:25.005Z"
   },
   {
    "duration": 6,
    "start_time": "2023-09-29T06:12:25.409Z"
   },
   {
    "duration": 344,
    "start_time": "2023-09-29T06:12:25.417Z"
   },
   {
    "duration": 5,
    "start_time": "2023-09-29T06:12:25.763Z"
   },
   {
    "duration": 338,
    "start_time": "2023-09-29T06:12:25.770Z"
   },
   {
    "duration": 321,
    "start_time": "2023-09-29T06:12:26.110Z"
   },
   {
    "duration": 16,
    "start_time": "2023-09-29T06:12:26.433Z"
   },
   {
    "duration": 428,
    "start_time": "2023-09-29T06:12:26.451Z"
   },
   {
    "duration": 304,
    "start_time": "2023-09-29T06:12:26.881Z"
   },
   {
    "duration": 344,
    "start_time": "2023-09-29T06:12:27.187Z"
   },
   {
    "duration": 246,
    "start_time": "2023-09-29T06:12:27.533Z"
   },
   {
    "duration": 199,
    "start_time": "2023-09-29T06:12:27.780Z"
   },
   {
    "duration": 213,
    "start_time": "2023-09-29T06:12:27.981Z"
   },
   {
    "duration": 253,
    "start_time": "2023-09-29T06:12:28.196Z"
   },
   {
    "duration": 245,
    "start_time": "2023-09-29T06:12:28.451Z"
   },
   {
    "duration": 264,
    "start_time": "2023-09-29T06:12:28.698Z"
   },
   {
    "duration": 186,
    "start_time": "2023-09-29T06:12:28.965Z"
   },
   {
    "duration": 164,
    "start_time": "2023-09-29T06:12:29.153Z"
   },
   {
    "duration": 258,
    "start_time": "2023-09-29T06:12:29.319Z"
   },
   {
    "duration": 3,
    "start_time": "2023-09-29T06:12:29.579Z"
   },
   {
    "duration": 8,
    "start_time": "2023-09-29T06:12:29.584Z"
   },
   {
    "duration": 230,
    "start_time": "2023-09-29T06:12:29.593Z"
   },
   {
    "duration": 472,
    "start_time": "2023-09-29T06:12:29.825Z"
   },
   {
    "duration": 16,
    "start_time": "2023-09-29T06:12:30.298Z"
   },
   {
    "duration": 475,
    "start_time": "2023-09-29T06:12:30.316Z"
   },
   {
    "duration": 8,
    "start_time": "2023-09-29T06:12:30.793Z"
   },
   {
    "duration": 42,
    "start_time": "2023-09-29T06:12:30.803Z"
   },
   {
    "duration": 53,
    "start_time": "2023-09-29T06:12:30.847Z"
   },
   {
    "duration": 69,
    "start_time": "2023-09-29T06:12:30.902Z"
   },
   {
    "duration": 223,
    "start_time": "2023-09-29T06:12:30.973Z"
   },
   {
    "duration": 100,
    "start_time": "2023-09-29T06:12:31.198Z"
   },
   {
    "duration": 154,
    "start_time": "2023-09-29T06:12:31.300Z"
   },
   {
    "duration": 362,
    "start_time": "2023-09-29T06:12:31.457Z"
   },
   {
    "duration": 511,
    "start_time": "2023-09-29T06:12:31.820Z"
   },
   {
    "duration": 13,
    "start_time": "2023-09-29T06:12:32.333Z"
   },
   {
    "duration": 105,
    "start_time": "2023-09-29T06:12:32.349Z"
   },
   {
    "duration": 188,
    "start_time": "2023-09-29T06:12:32.462Z"
   },
   {
    "duration": 62,
    "start_time": "2023-09-29T06:12:32.652Z"
   },
   {
    "duration": 333,
    "start_time": "2023-09-29T06:12:32.716Z"
   },
   {
    "duration": 9,
    "start_time": "2023-09-29T06:12:33.051Z"
   },
   {
    "duration": 87,
    "start_time": "2023-09-29T06:12:33.061Z"
   },
   {
    "duration": 20,
    "start_time": "2023-09-29T06:12:33.150Z"
   },
   {
    "duration": 22,
    "start_time": "2023-09-29T06:12:33.172Z"
   },
   {
    "duration": 492,
    "start_time": "2023-09-29T06:12:33.195Z"
   },
   {
    "duration": 12,
    "start_time": "2023-09-29T06:12:33.689Z"
   },
   {
    "duration": 15,
    "start_time": "2023-09-29T06:12:33.703Z"
   },
   {
    "duration": 346,
    "start_time": "2023-09-29T06:12:33.720Z"
   },
   {
    "duration": 136,
    "start_time": "2023-09-29T06:12:34.067Z"
   },
   {
    "duration": 20,
    "start_time": "2023-09-29T06:17:14.119Z"
   },
   {
    "duration": 1560,
    "start_time": "2023-09-29T06:18:28.433Z"
   },
   {
    "duration": 58,
    "start_time": "2023-09-29T06:18:29.995Z"
   },
   {
    "duration": 14,
    "start_time": "2023-09-29T06:18:30.055Z"
   },
   {
    "duration": 58,
    "start_time": "2023-09-29T06:18:30.072Z"
   },
   {
    "duration": 55,
    "start_time": "2023-09-29T06:18:30.132Z"
   },
   {
    "duration": 50,
    "start_time": "2023-09-29T06:18:30.189Z"
   },
   {
    "duration": 26,
    "start_time": "2023-09-29T06:18:30.241Z"
   },
   {
    "duration": 16,
    "start_time": "2023-09-29T06:18:30.270Z"
   },
   {
    "duration": 61,
    "start_time": "2023-09-29T06:18:30.288Z"
   },
   {
    "duration": 71,
    "start_time": "2023-09-29T06:18:30.352Z"
   },
   {
    "duration": 135,
    "start_time": "2023-09-29T06:18:30.425Z"
   },
   {
    "duration": 411,
    "start_time": "2023-09-29T06:18:30.563Z"
   },
   {
    "duration": 19,
    "start_time": "2023-09-29T06:18:30.975Z"
   },
   {
    "duration": 196,
    "start_time": "2023-09-29T06:18:30.996Z"
   },
   {
    "duration": 35,
    "start_time": "2023-09-29T06:18:31.194Z"
   },
   {
    "duration": 383,
    "start_time": "2023-09-29T06:18:31.231Z"
   },
   {
    "duration": 9,
    "start_time": "2023-09-29T06:18:31.616Z"
   },
   {
    "duration": 449,
    "start_time": "2023-09-29T06:18:31.627Z"
   },
   {
    "duration": 10,
    "start_time": "2023-09-29T06:18:32.078Z"
   },
   {
    "duration": 476,
    "start_time": "2023-09-29T06:18:32.090Z"
   },
   {
    "duration": 11,
    "start_time": "2023-09-29T06:18:32.568Z"
   },
   {
    "duration": 530,
    "start_time": "2023-09-29T06:18:32.582Z"
   },
   {
    "duration": 9,
    "start_time": "2023-09-29T06:18:33.115Z"
   },
   {
    "duration": 151,
    "start_time": "2023-09-29T06:18:33.126Z"
   },
   {
    "duration": 365,
    "start_time": "2023-09-29T06:18:33.278Z"
   },
   {
    "duration": 84,
    "start_time": "2023-09-29T06:18:33.647Z"
   },
   {
    "duration": 110,
    "start_time": "2023-09-29T06:18:33.747Z"
   },
   {
    "duration": 189,
    "start_time": "2023-09-29T06:18:33.861Z"
   },
   {
    "duration": 109,
    "start_time": "2023-09-29T06:18:34.052Z"
   },
   {
    "duration": 92,
    "start_time": "2023-09-29T06:18:34.163Z"
   },
   {
    "duration": 90,
    "start_time": "2023-09-29T06:18:34.257Z"
   },
   {
    "duration": 85,
    "start_time": "2023-09-29T06:18:34.348Z"
   },
   {
    "duration": 106,
    "start_time": "2023-09-29T06:18:34.447Z"
   },
   {
    "duration": 10,
    "start_time": "2023-09-29T06:18:34.555Z"
   },
   {
    "duration": 130,
    "start_time": "2023-09-29T06:18:34.566Z"
   },
   {
    "duration": 173,
    "start_time": "2023-09-29T06:18:34.698Z"
   },
   {
    "duration": 11,
    "start_time": "2023-09-29T06:18:34.873Z"
   },
   {
    "duration": 118,
    "start_time": "2023-09-29T06:18:34.885Z"
   },
   {
    "duration": 195,
    "start_time": "2023-09-29T06:18:35.004Z"
   },
   {
    "duration": 119,
    "start_time": "2023-09-29T06:18:35.202Z"
   },
   {
    "duration": 101,
    "start_time": "2023-09-29T06:18:35.323Z"
   },
   {
    "duration": 96,
    "start_time": "2023-09-29T06:18:35.426Z"
   },
   {
    "duration": 111,
    "start_time": "2023-09-29T06:18:35.523Z"
   },
   {
    "duration": 440,
    "start_time": "2023-09-29T06:18:35.647Z"
   },
   {
    "duration": 6,
    "start_time": "2023-09-29T06:18:36.089Z"
   },
   {
    "duration": 334,
    "start_time": "2023-09-29T06:18:36.096Z"
   },
   {
    "duration": 5,
    "start_time": "2023-09-29T06:18:36.432Z"
   },
   {
    "duration": 313,
    "start_time": "2023-09-29T06:18:36.447Z"
   },
   {
    "duration": 5,
    "start_time": "2023-09-29T06:18:36.761Z"
   },
   {
    "duration": 342,
    "start_time": "2023-09-29T06:18:36.768Z"
   },
   {
    "duration": 353,
    "start_time": "2023-09-29T06:18:37.112Z"
   },
   {
    "duration": 6,
    "start_time": "2023-09-29T06:18:37.467Z"
   },
   {
    "duration": 432,
    "start_time": "2023-09-29T06:18:37.475Z"
   },
   {
    "duration": 327,
    "start_time": "2023-09-29T06:18:37.909Z"
   },
   {
    "duration": 321,
    "start_time": "2023-09-29T06:18:38.238Z"
   },
   {
    "duration": 195,
    "start_time": "2023-09-29T06:18:38.561Z"
   },
   {
    "duration": 202,
    "start_time": "2023-09-29T06:18:38.757Z"
   },
   {
    "duration": 238,
    "start_time": "2023-09-29T06:18:38.961Z"
   },
   {
    "duration": 258,
    "start_time": "2023-09-29T06:18:39.201Z"
   },
   {
    "duration": 248,
    "start_time": "2023-09-29T06:18:39.461Z"
   },
   {
    "duration": 181,
    "start_time": "2023-09-29T06:18:39.710Z"
   },
   {
    "duration": 173,
    "start_time": "2023-09-29T06:18:39.893Z"
   },
   {
    "duration": 287,
    "start_time": "2023-09-29T06:18:40.068Z"
   },
   {
    "duration": 265,
    "start_time": "2023-09-29T06:18:40.357Z"
   },
   {
    "duration": 4,
    "start_time": "2023-09-29T06:18:40.624Z"
   },
   {
    "duration": 33,
    "start_time": "2023-09-29T06:18:40.630Z"
   },
   {
    "duration": 220,
    "start_time": "2023-09-29T06:18:40.665Z"
   },
   {
    "duration": 438,
    "start_time": "2023-09-29T06:18:40.887Z"
   },
   {
    "duration": 23,
    "start_time": "2023-09-29T06:18:41.328Z"
   },
   {
    "duration": 433,
    "start_time": "2023-09-29T06:18:41.353Z"
   },
   {
    "duration": 10,
    "start_time": "2023-09-29T06:18:41.789Z"
   },
   {
    "duration": 17,
    "start_time": "2023-09-29T06:18:41.801Z"
   },
   {
    "duration": 29,
    "start_time": "2023-09-29T06:18:41.820Z"
   },
   {
    "duration": 9,
    "start_time": "2023-09-29T06:18:41.851Z"
   },
   {
    "duration": 22,
    "start_time": "2023-09-29T06:18:41.863Z"
   },
   {
    "duration": 23,
    "start_time": "2023-09-29T06:18:41.888Z"
   },
   {
    "duration": 16,
    "start_time": "2023-09-29T06:18:41.913Z"
   },
   {
    "duration": 19,
    "start_time": "2023-09-29T06:18:41.932Z"
   },
   {
    "duration": 468,
    "start_time": "2023-09-29T06:18:41.953Z"
   },
   {
    "duration": 5,
    "start_time": "2023-09-29T06:18:42.423Z"
   },
   {
    "duration": 38,
    "start_time": "2023-09-29T06:18:42.430Z"
   },
   {
    "duration": 11,
    "start_time": "2023-09-29T06:18:42.474Z"
   },
   {
    "duration": 25,
    "start_time": "2023-09-29T06:18:42.486Z"
   },
   {
    "duration": 332,
    "start_time": "2023-09-29T06:18:42.513Z"
   },
   {
    "duration": 10,
    "start_time": "2023-09-29T06:18:42.847Z"
   },
   {
    "duration": 53,
    "start_time": "2023-09-29T06:18:42.858Z"
   },
   {
    "duration": 55,
    "start_time": "2023-09-29T06:18:42.913Z"
   },
   {
    "duration": 63,
    "start_time": "2023-09-29T06:18:42.970Z"
   },
   {
    "duration": 393,
    "start_time": "2023-09-29T06:18:43.034Z"
   },
   {
    "duration": 21,
    "start_time": "2023-09-29T06:18:43.428Z"
   },
   {
    "duration": 46,
    "start_time": "2023-09-29T06:18:43.451Z"
   },
   {
    "duration": 469,
    "start_time": "2023-09-29T06:18:43.499Z"
   },
   {
    "duration": 164,
    "start_time": "2023-09-29T06:18:43.969Z"
   },
   {
    "duration": 0,
    "start_time": "2023-09-29T06:18:44.135Z"
   },
   {
    "duration": 0,
    "start_time": "2023-09-29T06:18:44.136Z"
   },
   {
    "duration": 0,
    "start_time": "2023-09-29T06:18:44.151Z"
   },
   {
    "duration": 0,
    "start_time": "2023-09-29T06:18:44.152Z"
   },
   {
    "duration": 0,
    "start_time": "2023-09-29T06:18:44.154Z"
   },
   {
    "duration": 0,
    "start_time": "2023-09-29T06:18:44.155Z"
   },
   {
    "duration": 0,
    "start_time": "2023-09-29T06:18:44.157Z"
   },
   {
    "duration": 0,
    "start_time": "2023-09-29T06:18:44.159Z"
   },
   {
    "duration": 12,
    "start_time": "2023-09-29T06:19:52.449Z"
   },
   {
    "duration": 16,
    "start_time": "2023-09-29T06:20:29.000Z"
   },
   {
    "duration": 1568,
    "start_time": "2023-09-29T06:20:43.076Z"
   },
   {
    "duration": 57,
    "start_time": "2023-09-29T06:20:44.646Z"
   },
   {
    "duration": 13,
    "start_time": "2023-09-29T06:20:44.705Z"
   },
   {
    "duration": 52,
    "start_time": "2023-09-29T06:20:44.721Z"
   },
   {
    "duration": 53,
    "start_time": "2023-09-29T06:20:44.774Z"
   },
   {
    "duration": 61,
    "start_time": "2023-09-29T06:20:44.829Z"
   },
   {
    "duration": 10,
    "start_time": "2023-09-29T06:20:44.892Z"
   },
   {
    "duration": 40,
    "start_time": "2023-09-29T06:20:44.904Z"
   },
   {
    "duration": 39,
    "start_time": "2023-09-29T06:20:44.946Z"
   },
   {
    "duration": 181,
    "start_time": "2023-09-29T06:20:44.988Z"
   },
   {
    "duration": 90,
    "start_time": "2023-09-29T06:20:45.171Z"
   },
   {
    "duration": 461,
    "start_time": "2023-09-29T06:20:45.264Z"
   },
   {
    "duration": 24,
    "start_time": "2023-09-29T06:20:45.727Z"
   },
   {
    "duration": 21,
    "start_time": "2023-09-29T06:20:45.753Z"
   },
   {
    "duration": 14,
    "start_time": "2023-09-29T06:20:45.776Z"
   },
   {
    "duration": 353,
    "start_time": "2023-09-29T06:20:45.791Z"
   },
   {
    "duration": 9,
    "start_time": "2023-09-29T06:20:46.147Z"
   },
   {
    "duration": 399,
    "start_time": "2023-09-29T06:20:46.158Z"
   },
   {
    "duration": 9,
    "start_time": "2023-09-29T06:20:46.559Z"
   },
   {
    "duration": 369,
    "start_time": "2023-09-29T06:20:46.570Z"
   },
   {
    "duration": 11,
    "start_time": "2023-09-29T06:20:46.942Z"
   },
   {
    "duration": 403,
    "start_time": "2023-09-29T06:20:46.956Z"
   },
   {
    "duration": 9,
    "start_time": "2023-09-29T06:20:47.361Z"
   },
   {
    "duration": 134,
    "start_time": "2023-09-29T06:20:47.372Z"
   },
   {
    "duration": 372,
    "start_time": "2023-09-29T06:20:47.507Z"
   },
   {
    "duration": 118,
    "start_time": "2023-09-29T06:20:47.881Z"
   },
   {
    "duration": 103,
    "start_time": "2023-09-29T06:20:48.001Z"
   },
   {
    "duration": 201,
    "start_time": "2023-09-29T06:20:48.110Z"
   },
   {
    "duration": 98,
    "start_time": "2023-09-29T06:20:48.314Z"
   },
   {
    "duration": 95,
    "start_time": "2023-09-29T06:20:48.414Z"
   },
   {
    "duration": 91,
    "start_time": "2023-09-29T06:20:48.511Z"
   },
   {
    "duration": 98,
    "start_time": "2023-09-29T06:20:48.604Z"
   },
   {
    "duration": 106,
    "start_time": "2023-09-29T06:20:48.703Z"
   },
   {
    "duration": 8,
    "start_time": "2023-09-29T06:20:48.811Z"
   },
   {
    "duration": 129,
    "start_time": "2023-09-29T06:20:48.821Z"
   },
   {
    "duration": 195,
    "start_time": "2023-09-29T06:20:48.952Z"
   },
   {
    "duration": 8,
    "start_time": "2023-09-29T06:20:49.150Z"
   },
   {
    "duration": 120,
    "start_time": "2023-09-29T06:20:49.159Z"
   },
   {
    "duration": 182,
    "start_time": "2023-09-29T06:20:49.281Z"
   },
   {
    "duration": 83,
    "start_time": "2023-09-29T06:20:49.465Z"
   },
   {
    "duration": 70,
    "start_time": "2023-09-29T06:20:49.550Z"
   },
   {
    "duration": 94,
    "start_time": "2023-09-29T06:20:49.621Z"
   },
   {
    "duration": 141,
    "start_time": "2023-09-29T06:20:49.718Z"
   },
   {
    "duration": 430,
    "start_time": "2023-09-29T06:20:49.861Z"
   },
   {
    "duration": 5,
    "start_time": "2023-09-29T06:20:50.293Z"
   },
   {
    "duration": 360,
    "start_time": "2023-09-29T06:20:50.299Z"
   },
   {
    "duration": 5,
    "start_time": "2023-09-29T06:20:50.660Z"
   },
   {
    "duration": 350,
    "start_time": "2023-09-29T06:20:50.666Z"
   },
   {
    "duration": 5,
    "start_time": "2023-09-29T06:20:51.018Z"
   },
   {
    "duration": 338,
    "start_time": "2023-09-29T06:20:51.024Z"
   },
   {
    "duration": 319,
    "start_time": "2023-09-29T06:20:51.364Z"
   },
   {
    "duration": 5,
    "start_time": "2023-09-29T06:20:51.684Z"
   },
   {
    "duration": 432,
    "start_time": "2023-09-29T06:20:51.691Z"
   },
   {
    "duration": 321,
    "start_time": "2023-09-29T06:20:52.125Z"
   },
   {
    "duration": 323,
    "start_time": "2023-09-29T06:20:52.448Z"
   },
   {
    "duration": 192,
    "start_time": "2023-09-29T06:20:52.772Z"
   },
   {
    "duration": 205,
    "start_time": "2023-09-29T06:20:52.966Z"
   },
   {
    "duration": 204,
    "start_time": "2023-09-29T06:20:53.173Z"
   },
   {
    "duration": 256,
    "start_time": "2023-09-29T06:20:53.378Z"
   },
   {
    "duration": 262,
    "start_time": "2023-09-29T06:20:53.635Z"
   },
   {
    "duration": 181,
    "start_time": "2023-09-29T06:20:53.899Z"
   },
   {
    "duration": 191,
    "start_time": "2023-09-29T06:20:54.081Z"
   },
   {
    "duration": 270,
    "start_time": "2023-09-29T06:20:54.273Z"
   },
   {
    "duration": 252,
    "start_time": "2023-09-29T06:20:54.546Z"
   },
   {
    "duration": 4,
    "start_time": "2023-09-29T06:20:54.800Z"
   },
   {
    "duration": 21,
    "start_time": "2023-09-29T06:20:54.806Z"
   },
   {
    "duration": 232,
    "start_time": "2023-09-29T06:20:54.829Z"
   },
   {
    "duration": 468,
    "start_time": "2023-09-29T06:20:55.063Z"
   },
   {
    "duration": 18,
    "start_time": "2023-09-29T06:20:55.534Z"
   },
   {
    "duration": 421,
    "start_time": "2023-09-29T06:20:55.554Z"
   },
   {
    "duration": 8,
    "start_time": "2023-09-29T06:20:55.977Z"
   },
   {
    "duration": 12,
    "start_time": "2023-09-29T06:20:55.986Z"
   },
   {
    "duration": 14,
    "start_time": "2023-09-29T06:20:55.999Z"
   },
   {
    "duration": 15,
    "start_time": "2023-09-29T06:20:56.014Z"
   },
   {
    "duration": 4,
    "start_time": "2023-09-29T06:20:56.046Z"
   },
   {
    "duration": 6,
    "start_time": "2023-09-29T06:20:56.052Z"
   },
   {
    "duration": 10,
    "start_time": "2023-09-29T06:20:56.060Z"
   },
   {
    "duration": 15,
    "start_time": "2023-09-29T06:20:56.072Z"
   },
   {
    "duration": 16,
    "start_time": "2023-09-29T06:20:56.088Z"
   },
   {
    "duration": 21,
    "start_time": "2023-09-29T06:20:56.105Z"
   },
   {
    "duration": 449,
    "start_time": "2023-09-29T06:20:56.128Z"
   },
   {
    "duration": 4,
    "start_time": "2023-09-29T06:20:56.583Z"
   },
   {
    "duration": 24,
    "start_time": "2023-09-29T06:20:56.589Z"
   },
   {
    "duration": 22,
    "start_time": "2023-09-29T06:20:56.615Z"
   },
   {
    "duration": 14,
    "start_time": "2023-09-29T06:20:56.639Z"
   },
   {
    "duration": 325,
    "start_time": "2023-09-29T06:20:56.654Z"
   },
   {
    "duration": 11,
    "start_time": "2023-09-29T06:20:56.982Z"
   },
   {
    "duration": 17,
    "start_time": "2023-09-29T06:20:56.995Z"
   },
   {
    "duration": 10,
    "start_time": "2023-09-29T06:20:57.014Z"
   },
   {
    "duration": 20,
    "start_time": "2023-09-29T06:20:57.026Z"
   },
   {
    "duration": 377,
    "start_time": "2023-09-29T06:20:57.048Z"
   },
   {
    "duration": 22,
    "start_time": "2023-09-29T06:20:57.427Z"
   },
   {
    "duration": 12,
    "start_time": "2023-09-29T06:20:57.450Z"
   },
   {
    "duration": 439,
    "start_time": "2023-09-29T06:20:57.464Z"
   },
   {
    "duration": 130,
    "start_time": "2023-09-29T06:20:57.905Z"
   },
   {
    "duration": 0,
    "start_time": "2023-09-29T06:20:58.037Z"
   },
   {
    "duration": 0,
    "start_time": "2023-09-29T06:20:58.038Z"
   },
   {
    "duration": 0,
    "start_time": "2023-09-29T06:20:58.047Z"
   },
   {
    "duration": 0,
    "start_time": "2023-09-29T06:20:58.048Z"
   },
   {
    "duration": 0,
    "start_time": "2023-09-29T06:20:58.049Z"
   },
   {
    "duration": 0,
    "start_time": "2023-09-29T06:20:58.051Z"
   },
   {
    "duration": 0,
    "start_time": "2023-09-29T06:20:58.052Z"
   },
   {
    "duration": 0,
    "start_time": "2023-09-29T06:20:58.054Z"
   },
   {
    "duration": 1639,
    "start_time": "2023-09-29T06:22:04.507Z"
   },
   {
    "duration": 57,
    "start_time": "2023-09-29T06:22:06.148Z"
   },
   {
    "duration": 13,
    "start_time": "2023-09-29T06:22:06.207Z"
   },
   {
    "duration": 26,
    "start_time": "2023-09-29T06:22:06.222Z"
   },
   {
    "duration": 31,
    "start_time": "2023-09-29T06:22:06.250Z"
   },
   {
    "duration": 32,
    "start_time": "2023-09-29T06:22:06.284Z"
   },
   {
    "duration": 18,
    "start_time": "2023-09-29T06:22:06.318Z"
   },
   {
    "duration": 32,
    "start_time": "2023-09-29T06:22:06.338Z"
   },
   {
    "duration": 20,
    "start_time": "2023-09-29T06:22:06.372Z"
   },
   {
    "duration": 23,
    "start_time": "2023-09-29T06:22:06.396Z"
   },
   {
    "duration": 13,
    "start_time": "2023-09-29T06:22:06.422Z"
   },
   {
    "duration": 425,
    "start_time": "2023-09-29T06:22:06.437Z"
   },
   {
    "duration": 17,
    "start_time": "2023-09-29T06:22:06.864Z"
   },
   {
    "duration": 35,
    "start_time": "2023-09-29T06:22:06.883Z"
   },
   {
    "duration": 34,
    "start_time": "2023-09-29T06:22:06.920Z"
   },
   {
    "duration": 330,
    "start_time": "2023-09-29T06:22:06.956Z"
   },
   {
    "duration": 9,
    "start_time": "2023-09-29T06:22:07.288Z"
   },
   {
    "duration": 425,
    "start_time": "2023-09-29T06:22:07.299Z"
   },
   {
    "duration": 10,
    "start_time": "2023-09-29T06:22:07.726Z"
   },
   {
    "duration": 364,
    "start_time": "2023-09-29T06:22:07.747Z"
   },
   {
    "duration": 10,
    "start_time": "2023-09-29T06:22:08.113Z"
   },
   {
    "duration": 389,
    "start_time": "2023-09-29T06:22:08.125Z"
   },
   {
    "duration": 10,
    "start_time": "2023-09-29T06:22:08.516Z"
   },
   {
    "duration": 132,
    "start_time": "2023-09-29T06:22:08.527Z"
   },
   {
    "duration": 388,
    "start_time": "2023-09-29T06:22:08.661Z"
   },
   {
    "duration": 97,
    "start_time": "2023-09-29T06:22:09.050Z"
   },
   {
    "duration": 99,
    "start_time": "2023-09-29T06:22:09.149Z"
   },
   {
    "duration": 194,
    "start_time": "2023-09-29T06:22:09.253Z"
   },
   {
    "duration": 99,
    "start_time": "2023-09-29T06:22:09.449Z"
   },
   {
    "duration": 83,
    "start_time": "2023-09-29T06:22:09.550Z"
   },
   {
    "duration": 76,
    "start_time": "2023-09-29T06:22:09.646Z"
   },
   {
    "duration": 203,
    "start_time": "2023-09-29T06:22:09.724Z"
   },
   {
    "duration": 201,
    "start_time": "2023-09-29T06:22:09.930Z"
   },
   {
    "duration": 16,
    "start_time": "2023-09-29T06:22:10.134Z"
   },
   {
    "duration": 131,
    "start_time": "2023-09-29T06:22:10.152Z"
   },
   {
    "duration": 196,
    "start_time": "2023-09-29T06:22:10.285Z"
   },
   {
    "duration": 9,
    "start_time": "2023-09-29T06:22:10.483Z"
   },
   {
    "duration": 137,
    "start_time": "2023-09-29T06:22:10.494Z"
   },
   {
    "duration": 179,
    "start_time": "2023-09-29T06:22:10.633Z"
   },
   {
    "duration": 93,
    "start_time": "2023-09-29T06:22:10.814Z"
   },
   {
    "duration": 97,
    "start_time": "2023-09-29T06:22:10.909Z"
   },
   {
    "duration": 94,
    "start_time": "2023-09-29T06:22:11.009Z"
   },
   {
    "duration": 125,
    "start_time": "2023-09-29T06:22:11.106Z"
   },
   {
    "duration": 413,
    "start_time": "2023-09-29T06:22:11.233Z"
   },
   {
    "duration": 6,
    "start_time": "2023-09-29T06:22:11.649Z"
   },
   {
    "duration": 322,
    "start_time": "2023-09-29T06:22:11.657Z"
   },
   {
    "duration": 6,
    "start_time": "2023-09-29T06:22:11.981Z"
   },
   {
    "duration": 327,
    "start_time": "2023-09-29T06:22:11.988Z"
   },
   {
    "duration": 4,
    "start_time": "2023-09-29T06:22:12.317Z"
   },
   {
    "duration": 328,
    "start_time": "2023-09-29T06:22:12.324Z"
   },
   {
    "duration": 331,
    "start_time": "2023-09-29T06:22:12.654Z"
   },
   {
    "duration": 5,
    "start_time": "2023-09-29T06:22:12.987Z"
   },
   {
    "duration": 452,
    "start_time": "2023-09-29T06:22:12.994Z"
   },
   {
    "duration": 303,
    "start_time": "2023-09-29T06:22:13.448Z"
   },
   {
    "duration": 322,
    "start_time": "2023-09-29T06:22:13.753Z"
   },
   {
    "duration": 204,
    "start_time": "2023-09-29T06:22:14.077Z"
   },
   {
    "duration": 201,
    "start_time": "2023-09-29T06:22:14.283Z"
   },
   {
    "duration": 193,
    "start_time": "2023-09-29T06:22:14.486Z"
   },
   {
    "duration": 256,
    "start_time": "2023-09-29T06:22:14.681Z"
   },
   {
    "duration": 259,
    "start_time": "2023-09-29T06:22:14.939Z"
   },
   {
    "duration": 257,
    "start_time": "2023-09-29T06:22:15.200Z"
   },
   {
    "duration": 173,
    "start_time": "2023-09-29T06:22:15.459Z"
   },
   {
    "duration": 288,
    "start_time": "2023-09-29T06:22:15.634Z"
   },
   {
    "duration": 267,
    "start_time": "2023-09-29T06:22:15.924Z"
   },
   {
    "duration": 4,
    "start_time": "2023-09-29T06:22:16.193Z"
   },
   {
    "duration": 12,
    "start_time": "2023-09-29T06:22:16.199Z"
   },
   {
    "duration": 259,
    "start_time": "2023-09-29T06:22:16.213Z"
   },
   {
    "duration": 448,
    "start_time": "2023-09-29T06:22:16.473Z"
   },
   {
    "duration": 12,
    "start_time": "2023-09-29T06:22:16.922Z"
   },
   {
    "duration": 441,
    "start_time": "2023-09-29T06:22:16.935Z"
   },
   {
    "duration": 8,
    "start_time": "2023-09-29T06:22:17.379Z"
   },
   {
    "duration": 18,
    "start_time": "2023-09-29T06:22:17.389Z"
   },
   {
    "duration": 18,
    "start_time": "2023-09-29T06:22:17.409Z"
   },
   {
    "duration": 43,
    "start_time": "2023-09-29T06:22:17.429Z"
   },
   {
    "duration": 24,
    "start_time": "2023-09-29T06:22:17.475Z"
   },
   {
    "duration": 34,
    "start_time": "2023-09-29T06:22:17.501Z"
   },
   {
    "duration": 25,
    "start_time": "2023-09-29T06:22:17.537Z"
   },
   {
    "duration": 40,
    "start_time": "2023-09-29T06:22:17.564Z"
   },
   {
    "duration": 33,
    "start_time": "2023-09-29T06:22:17.605Z"
   },
   {
    "duration": 43,
    "start_time": "2023-09-29T06:22:17.639Z"
   },
   {
    "duration": 29,
    "start_time": "2023-09-29T06:22:17.684Z"
   },
   {
    "duration": 463,
    "start_time": "2023-09-29T06:22:17.719Z"
   },
   {
    "duration": 5,
    "start_time": "2023-09-29T06:22:18.185Z"
   },
   {
    "duration": 30,
    "start_time": "2023-09-29T06:22:18.192Z"
   },
   {
    "duration": 27,
    "start_time": "2023-09-29T06:22:18.224Z"
   },
   {
    "duration": 49,
    "start_time": "2023-09-29T06:22:18.253Z"
   },
   {
    "duration": 345,
    "start_time": "2023-09-29T06:22:18.304Z"
   },
   {
    "duration": 9,
    "start_time": "2023-09-29T06:22:18.651Z"
   },
   {
    "duration": 30,
    "start_time": "2023-09-29T06:22:18.662Z"
   },
   {
    "duration": 13,
    "start_time": "2023-09-29T06:22:18.694Z"
   },
   {
    "duration": 17,
    "start_time": "2023-09-29T06:22:18.709Z"
   },
   {
    "duration": 424,
    "start_time": "2023-09-29T06:22:18.728Z"
   },
   {
    "duration": 14,
    "start_time": "2023-09-29T06:22:19.154Z"
   },
   {
    "duration": 51,
    "start_time": "2023-09-29T06:22:19.170Z"
   },
   {
    "duration": 483,
    "start_time": "2023-09-29T06:22:19.223Z"
   },
   {
    "duration": 136,
    "start_time": "2023-09-29T06:22:19.708Z"
   },
   {
    "duration": 0,
    "start_time": "2023-09-29T06:22:19.847Z"
   },
   {
    "duration": 0,
    "start_time": "2023-09-29T06:22:19.849Z"
   },
   {
    "duration": 0,
    "start_time": "2023-09-29T06:22:19.850Z"
   },
   {
    "duration": 0,
    "start_time": "2023-09-29T06:22:19.851Z"
   },
   {
    "duration": 0,
    "start_time": "2023-09-29T06:22:19.853Z"
   },
   {
    "duration": 0,
    "start_time": "2023-09-29T06:22:19.854Z"
   },
   {
    "duration": 0,
    "start_time": "2023-09-29T06:22:19.855Z"
   },
   {
    "duration": 0,
    "start_time": "2023-09-29T06:22:19.857Z"
   },
   {
    "duration": 1714,
    "start_time": "2023-09-30T16:12:42.146Z"
   },
   {
    "duration": 175,
    "start_time": "2023-09-30T16:12:43.862Z"
   },
   {
    "duration": 15,
    "start_time": "2023-09-30T16:12:44.038Z"
   },
   {
    "duration": 64,
    "start_time": "2023-09-30T16:12:44.055Z"
   },
   {
    "duration": 28,
    "start_time": "2023-09-30T16:12:44.121Z"
   },
   {
    "duration": 33,
    "start_time": "2023-09-30T16:12:44.151Z"
   },
   {
    "duration": 14,
    "start_time": "2023-09-30T16:12:44.201Z"
   },
   {
    "duration": 38,
    "start_time": "2023-09-30T16:12:44.217Z"
   },
   {
    "duration": 25,
    "start_time": "2023-09-30T16:12:44.257Z"
   },
   {
    "duration": 21,
    "start_time": "2023-09-30T16:12:44.283Z"
   },
   {
    "duration": 14,
    "start_time": "2023-09-30T16:12:44.306Z"
   },
   {
    "duration": 422,
    "start_time": "2023-09-30T16:12:44.322Z"
   },
   {
    "duration": 17,
    "start_time": "2023-09-30T16:12:44.746Z"
   },
   {
    "duration": 7,
    "start_time": "2023-09-30T16:12:44.767Z"
   },
   {
    "duration": 31,
    "start_time": "2023-09-30T16:12:44.776Z"
   },
   {
    "duration": 313,
    "start_time": "2023-09-30T16:12:44.809Z"
   },
   {
    "duration": 9,
    "start_time": "2023-09-30T16:12:45.124Z"
   },
   {
    "duration": 500,
    "start_time": "2023-09-30T16:12:45.134Z"
   },
   {
    "duration": 8,
    "start_time": "2023-09-30T16:12:45.636Z"
   },
   {
    "duration": 350,
    "start_time": "2023-09-30T16:12:45.646Z"
   },
   {
    "duration": 9,
    "start_time": "2023-09-30T16:12:46.002Z"
   },
   {
    "duration": 356,
    "start_time": "2023-09-30T16:12:46.013Z"
   },
   {
    "duration": 9,
    "start_time": "2023-09-30T16:12:46.371Z"
   },
   {
    "duration": 130,
    "start_time": "2023-09-30T16:12:46.382Z"
   },
   {
    "duration": 350,
    "start_time": "2023-09-30T16:12:46.513Z"
   },
   {
    "duration": 80,
    "start_time": "2023-09-30T16:12:46.865Z"
   },
   {
    "duration": 92,
    "start_time": "2023-09-30T16:12:46.946Z"
   },
   {
    "duration": 186,
    "start_time": "2023-09-30T16:12:47.040Z"
   },
   {
    "duration": 146,
    "start_time": "2023-09-30T16:12:47.229Z"
   },
   {
    "duration": 86,
    "start_time": "2023-09-30T16:12:47.377Z"
   },
   {
    "duration": 77,
    "start_time": "2023-09-30T16:12:47.465Z"
   },
   {
    "duration": 92,
    "start_time": "2023-09-30T16:12:47.543Z"
   },
   {
    "duration": 95,
    "start_time": "2023-09-30T16:12:47.636Z"
   },
   {
    "duration": 8,
    "start_time": "2023-09-30T16:12:47.733Z"
   },
   {
    "duration": 134,
    "start_time": "2023-09-30T16:12:47.742Z"
   },
   {
    "duration": 169,
    "start_time": "2023-09-30T16:12:47.878Z"
   },
   {
    "duration": 9,
    "start_time": "2023-09-30T16:12:48.049Z"
   },
   {
    "duration": 119,
    "start_time": "2023-09-30T16:12:48.059Z"
   },
   {
    "duration": 176,
    "start_time": "2023-09-30T16:12:48.180Z"
   },
   {
    "duration": 86,
    "start_time": "2023-09-30T16:12:48.358Z"
   },
   {
    "duration": 81,
    "start_time": "2023-09-30T16:12:48.451Z"
   },
   {
    "duration": 93,
    "start_time": "2023-09-30T16:12:48.533Z"
   },
   {
    "duration": 101,
    "start_time": "2023-09-30T16:12:48.628Z"
   },
   {
    "duration": 428,
    "start_time": "2023-09-30T16:12:48.731Z"
   },
   {
    "duration": 5,
    "start_time": "2023-09-30T16:12:49.162Z"
   },
   {
    "duration": 313,
    "start_time": "2023-09-30T16:12:49.169Z"
   },
   {
    "duration": 5,
    "start_time": "2023-09-30T16:12:49.484Z"
   },
   {
    "duration": 301,
    "start_time": "2023-09-30T16:12:49.502Z"
   },
   {
    "duration": 6,
    "start_time": "2023-09-30T16:12:49.805Z"
   },
   {
    "duration": 334,
    "start_time": "2023-09-30T16:12:49.813Z"
   },
   {
    "duration": 322,
    "start_time": "2023-09-30T16:12:50.149Z"
   },
   {
    "duration": 5,
    "start_time": "2023-09-30T16:12:50.473Z"
   },
   {
    "duration": 422,
    "start_time": "2023-09-30T16:12:50.479Z"
   },
   {
    "duration": 306,
    "start_time": "2023-09-30T16:12:50.904Z"
   },
   {
    "duration": 309,
    "start_time": "2023-09-30T16:12:51.212Z"
   },
   {
    "duration": 189,
    "start_time": "2023-09-30T16:12:51.522Z"
   },
   {
    "duration": 188,
    "start_time": "2023-09-30T16:12:51.713Z"
   },
   {
    "duration": 200,
    "start_time": "2023-09-30T16:12:51.903Z"
   },
   {
    "duration": 258,
    "start_time": "2023-09-30T16:12:52.105Z"
   },
   {
    "duration": 250,
    "start_time": "2023-09-30T16:12:52.365Z"
   },
   {
    "duration": 170,
    "start_time": "2023-09-30T16:12:52.617Z"
   },
   {
    "duration": 171,
    "start_time": "2023-09-30T16:12:52.789Z"
   },
   {
    "duration": 275,
    "start_time": "2023-09-30T16:12:52.962Z"
   },
   {
    "duration": 274,
    "start_time": "2023-09-30T16:12:53.239Z"
   },
   {
    "duration": 4,
    "start_time": "2023-09-30T16:12:53.516Z"
   },
   {
    "duration": 52,
    "start_time": "2023-09-30T16:12:53.522Z"
   },
   {
    "duration": 225,
    "start_time": "2023-09-30T16:12:53.576Z"
   },
   {
    "duration": 496,
    "start_time": "2023-09-30T16:12:53.803Z"
   },
   {
    "duration": 16,
    "start_time": "2023-09-30T16:12:54.301Z"
   },
   {
    "duration": 473,
    "start_time": "2023-09-30T16:12:54.320Z"
   },
   {
    "duration": 13,
    "start_time": "2023-09-30T16:12:54.794Z"
   },
   {
    "duration": 28,
    "start_time": "2023-09-30T16:12:54.808Z"
   },
   {
    "duration": 49,
    "start_time": "2023-09-30T16:12:54.838Z"
   },
   {
    "duration": 89,
    "start_time": "2023-09-30T16:12:54.889Z"
   },
   {
    "duration": 43,
    "start_time": "2023-09-30T16:12:54.980Z"
   },
   {
    "duration": 28,
    "start_time": "2023-09-30T16:12:55.025Z"
   },
   {
    "duration": 25,
    "start_time": "2023-09-30T16:12:55.055Z"
   },
   {
    "duration": 29,
    "start_time": "2023-09-30T16:12:55.082Z"
   },
   {
    "duration": 40,
    "start_time": "2023-09-30T16:12:55.113Z"
   },
   {
    "duration": 42,
    "start_time": "2023-09-30T16:12:55.154Z"
   },
   {
    "duration": 28,
    "start_time": "2023-09-30T16:12:55.198Z"
   },
   {
    "duration": 429,
    "start_time": "2023-09-30T16:12:55.228Z"
   },
   {
    "duration": 4,
    "start_time": "2023-09-30T16:12:55.659Z"
   },
   {
    "duration": 46,
    "start_time": "2023-09-30T16:12:55.665Z"
   },
   {
    "duration": 18,
    "start_time": "2023-09-30T16:12:55.712Z"
   },
   {
    "duration": 61,
    "start_time": "2023-09-30T16:12:55.731Z"
   },
   {
    "duration": 308,
    "start_time": "2023-09-30T16:12:55.793Z"
   },
   {
    "duration": 9,
    "start_time": "2023-09-30T16:12:56.103Z"
   },
   {
    "duration": 75,
    "start_time": "2023-09-30T16:12:56.114Z"
   },
   {
    "duration": 32,
    "start_time": "2023-09-30T16:12:56.191Z"
   },
   {
    "duration": 18,
    "start_time": "2023-09-30T16:12:56.225Z"
   },
   {
    "duration": 356,
    "start_time": "2023-09-30T16:12:56.245Z"
   },
   {
    "duration": 11,
    "start_time": "2023-09-30T16:12:56.603Z"
   },
   {
    "duration": 67,
    "start_time": "2023-09-30T16:12:56.615Z"
   },
   {
    "duration": 438,
    "start_time": "2023-09-30T16:12:56.684Z"
   },
   {
    "duration": 123,
    "start_time": "2023-09-30T16:12:57.123Z"
   },
   {
    "duration": 0,
    "start_time": "2023-09-30T16:12:57.248Z"
   },
   {
    "duration": 0,
    "start_time": "2023-09-30T16:12:57.250Z"
   },
   {
    "duration": 0,
    "start_time": "2023-09-30T16:12:57.252Z"
   },
   {
    "duration": 0,
    "start_time": "2023-09-30T16:12:57.253Z"
   },
   {
    "duration": 0,
    "start_time": "2023-09-30T16:12:57.254Z"
   },
   {
    "duration": 0,
    "start_time": "2023-09-30T16:12:57.255Z"
   },
   {
    "duration": 0,
    "start_time": "2023-09-30T16:12:57.257Z"
   },
   {
    "duration": 0,
    "start_time": "2023-09-30T16:12:57.258Z"
   },
   {
    "duration": 1530,
    "start_time": "2023-09-30T16:14:33.321Z"
   },
   {
    "duration": 61,
    "start_time": "2023-09-30T16:14:34.854Z"
   },
   {
    "duration": 13,
    "start_time": "2023-09-30T16:14:34.917Z"
   },
   {
    "duration": 114,
    "start_time": "2023-09-30T16:14:34.931Z"
   },
   {
    "duration": 31,
    "start_time": "2023-09-30T16:14:35.047Z"
   },
   {
    "duration": 68,
    "start_time": "2023-09-30T16:14:35.080Z"
   },
   {
    "duration": 20,
    "start_time": "2023-09-30T16:14:35.149Z"
   },
   {
    "duration": 24,
    "start_time": "2023-09-30T16:14:35.172Z"
   },
   {
    "duration": 16,
    "start_time": "2023-09-30T16:14:35.198Z"
   },
   {
    "duration": 22,
    "start_time": "2023-09-30T16:14:35.215Z"
   },
   {
    "duration": 25,
    "start_time": "2023-09-30T16:14:35.239Z"
   },
   {
    "duration": 388,
    "start_time": "2023-09-30T16:14:35.265Z"
   },
   {
    "duration": 18,
    "start_time": "2023-09-30T16:14:35.654Z"
   },
   {
    "duration": 69,
    "start_time": "2023-09-30T16:14:35.675Z"
   },
   {
    "duration": 161,
    "start_time": "2023-09-30T16:14:35.746Z"
   },
   {
    "duration": 683,
    "start_time": "2023-09-30T16:14:35.908Z"
   },
   {
    "duration": 14,
    "start_time": "2023-09-30T16:14:36.592Z"
   },
   {
    "duration": 467,
    "start_time": "2023-09-30T16:14:36.608Z"
   },
   {
    "duration": 9,
    "start_time": "2023-09-30T16:14:37.077Z"
   },
   {
    "duration": 352,
    "start_time": "2023-09-30T16:14:37.087Z"
   },
   {
    "duration": 8,
    "start_time": "2023-09-30T16:14:37.441Z"
   },
   {
    "duration": 483,
    "start_time": "2023-09-30T16:14:37.451Z"
   },
   {
    "duration": 8,
    "start_time": "2023-09-30T16:14:37.936Z"
   },
   {
    "duration": 150,
    "start_time": "2023-09-30T16:14:37.946Z"
   },
   {
    "duration": 377,
    "start_time": "2023-09-30T16:14:38.101Z"
   },
   {
    "duration": 96,
    "start_time": "2023-09-30T16:14:38.479Z"
   },
   {
    "duration": 105,
    "start_time": "2023-09-30T16:14:38.577Z"
   },
   {
    "duration": 188,
    "start_time": "2023-09-30T16:14:38.683Z"
   },
   {
    "duration": 90,
    "start_time": "2023-09-30T16:14:38.873Z"
   },
   {
    "duration": 88,
    "start_time": "2023-09-30T16:14:38.966Z"
   },
   {
    "duration": 91,
    "start_time": "2023-09-30T16:14:39.056Z"
   },
   {
    "duration": 98,
    "start_time": "2023-09-30T16:14:39.149Z"
   },
   {
    "duration": 99,
    "start_time": "2023-09-30T16:14:39.249Z"
   },
   {
    "duration": 8,
    "start_time": "2023-09-30T16:14:39.350Z"
   },
   {
    "duration": 144,
    "start_time": "2023-09-30T16:14:39.360Z"
   },
   {
    "duration": 178,
    "start_time": "2023-09-30T16:14:39.506Z"
   },
   {
    "duration": 17,
    "start_time": "2023-09-30T16:14:39.685Z"
   },
   {
    "duration": 114,
    "start_time": "2023-09-30T16:14:39.704Z"
   },
   {
    "duration": 169,
    "start_time": "2023-09-30T16:14:39.820Z"
   },
   {
    "duration": 70,
    "start_time": "2023-09-30T16:14:39.991Z"
   },
   {
    "duration": 82,
    "start_time": "2023-09-30T16:14:40.066Z"
   },
   {
    "duration": 87,
    "start_time": "2023-09-30T16:14:40.149Z"
   },
   {
    "duration": 106,
    "start_time": "2023-09-30T16:14:40.237Z"
   },
   {
    "duration": 405,
    "start_time": "2023-09-30T16:14:40.344Z"
   },
   {
    "duration": 5,
    "start_time": "2023-09-30T16:14:40.751Z"
   },
   {
    "duration": 318,
    "start_time": "2023-09-30T16:14:40.758Z"
   },
   {
    "duration": 5,
    "start_time": "2023-09-30T16:14:41.078Z"
   },
   {
    "duration": 325,
    "start_time": "2023-09-30T16:14:41.085Z"
   },
   {
    "duration": 4,
    "start_time": "2023-09-30T16:14:41.412Z"
   },
   {
    "duration": 331,
    "start_time": "2023-09-30T16:14:41.418Z"
   },
   {
    "duration": 315,
    "start_time": "2023-09-30T16:14:41.751Z"
   },
   {
    "duration": 5,
    "start_time": "2023-09-30T16:14:42.068Z"
   },
   {
    "duration": 448,
    "start_time": "2023-09-30T16:14:42.075Z"
   },
   {
    "duration": 322,
    "start_time": "2023-09-30T16:14:42.525Z"
   },
   {
    "duration": 301,
    "start_time": "2023-09-30T16:14:42.849Z"
   },
   {
    "duration": 193,
    "start_time": "2023-09-30T16:14:43.152Z"
   },
   {
    "duration": 192,
    "start_time": "2023-09-30T16:14:43.347Z"
   },
   {
    "duration": 183,
    "start_time": "2023-09-30T16:14:43.541Z"
   },
   {
    "duration": 232,
    "start_time": "2023-09-30T16:14:43.725Z"
   },
   {
    "duration": 246,
    "start_time": "2023-09-30T16:14:43.958Z"
   },
   {
    "duration": 195,
    "start_time": "2023-09-30T16:14:44.206Z"
   },
   {
    "duration": 183,
    "start_time": "2023-09-30T16:14:44.403Z"
   },
   {
    "duration": 283,
    "start_time": "2023-09-30T16:14:44.589Z"
   },
   {
    "duration": 244,
    "start_time": "2023-09-30T16:14:44.874Z"
   },
   {
    "duration": 3,
    "start_time": "2023-09-30T16:14:45.120Z"
   },
   {
    "duration": 22,
    "start_time": "2023-09-30T16:14:45.124Z"
   },
   {
    "duration": 255,
    "start_time": "2023-09-30T16:14:45.147Z"
   },
   {
    "duration": 418,
    "start_time": "2023-09-30T16:14:45.403Z"
   },
   {
    "duration": 11,
    "start_time": "2023-09-30T16:14:45.823Z"
   },
   {
    "duration": 382,
    "start_time": "2023-09-30T16:14:45.836Z"
   },
   {
    "duration": 7,
    "start_time": "2023-09-30T16:14:46.220Z"
   },
   {
    "duration": 13,
    "start_time": "2023-09-30T16:14:46.229Z"
   },
   {
    "duration": 129,
    "start_time": "2023-09-30T16:14:46.244Z"
   },
   {
    "duration": 0,
    "start_time": "2023-09-30T16:14:46.375Z"
   },
   {
    "duration": 0,
    "start_time": "2023-09-30T16:14:46.376Z"
   },
   {
    "duration": 0,
    "start_time": "2023-09-30T16:14:46.377Z"
   },
   {
    "duration": 0,
    "start_time": "2023-09-30T16:14:46.379Z"
   },
   {
    "duration": 0,
    "start_time": "2023-09-30T16:14:46.380Z"
   },
   {
    "duration": 0,
    "start_time": "2023-09-30T16:14:46.381Z"
   },
   {
    "duration": 0,
    "start_time": "2023-09-30T16:14:46.382Z"
   },
   {
    "duration": 0,
    "start_time": "2023-09-30T16:14:46.401Z"
   },
   {
    "duration": 0,
    "start_time": "2023-09-30T16:14:46.402Z"
   },
   {
    "duration": 0,
    "start_time": "2023-09-30T16:14:46.403Z"
   },
   {
    "duration": 0,
    "start_time": "2023-09-30T16:14:46.405Z"
   },
   {
    "duration": 0,
    "start_time": "2023-09-30T16:14:46.406Z"
   },
   {
    "duration": 0,
    "start_time": "2023-09-30T16:14:46.407Z"
   },
   {
    "duration": 0,
    "start_time": "2023-09-30T16:14:46.408Z"
   },
   {
    "duration": 0,
    "start_time": "2023-09-30T16:14:46.408Z"
   },
   {
    "duration": 0,
    "start_time": "2023-09-30T16:14:46.410Z"
   },
   {
    "duration": 0,
    "start_time": "2023-09-30T16:14:46.410Z"
   },
   {
    "duration": 0,
    "start_time": "2023-09-30T16:14:46.411Z"
   },
   {
    "duration": 0,
    "start_time": "2023-09-30T16:14:46.413Z"
   },
   {
    "duration": 0,
    "start_time": "2023-09-30T16:14:46.413Z"
   },
   {
    "duration": 0,
    "start_time": "2023-09-30T16:14:46.414Z"
   },
   {
    "duration": 0,
    "start_time": "2023-09-30T16:14:46.415Z"
   },
   {
    "duration": 0,
    "start_time": "2023-09-30T16:14:46.416Z"
   },
   {
    "duration": 0,
    "start_time": "2023-09-30T16:14:46.417Z"
   },
   {
    "duration": 0,
    "start_time": "2023-09-30T16:14:46.418Z"
   },
   {
    "duration": 0,
    "start_time": "2023-09-30T16:14:46.419Z"
   },
   {
    "duration": 0,
    "start_time": "2023-09-30T16:14:46.420Z"
   },
   {
    "duration": 0,
    "start_time": "2023-09-30T16:14:46.420Z"
   },
   {
    "duration": 0,
    "start_time": "2023-09-30T16:14:46.422Z"
   },
   {
    "duration": 0,
    "start_time": "2023-09-30T16:14:46.422Z"
   },
   {
    "duration": 0,
    "start_time": "2023-09-30T16:14:46.423Z"
   },
   {
    "duration": 15,
    "start_time": "2023-09-30T16:15:35.401Z"
   },
   {
    "duration": 1526,
    "start_time": "2023-09-30T16:18:45.967Z"
   },
   {
    "duration": 0,
    "start_time": "2023-09-30T16:18:47.498Z"
   },
   {
    "duration": 0,
    "start_time": "2023-09-30T16:18:47.502Z"
   },
   {
    "duration": 0,
    "start_time": "2023-09-30T16:18:47.503Z"
   },
   {
    "duration": 0,
    "start_time": "2023-09-30T16:18:47.503Z"
   },
   {
    "duration": 0,
    "start_time": "2023-09-30T16:18:47.505Z"
   },
   {
    "duration": 0,
    "start_time": "2023-09-30T16:18:47.505Z"
   },
   {
    "duration": 0,
    "start_time": "2023-09-30T16:18:47.506Z"
   },
   {
    "duration": 0,
    "start_time": "2023-09-30T16:18:47.507Z"
   },
   {
    "duration": 0,
    "start_time": "2023-09-30T16:18:47.508Z"
   },
   {
    "duration": 0,
    "start_time": "2023-09-30T16:18:47.509Z"
   },
   {
    "duration": 0,
    "start_time": "2023-09-30T16:18:47.510Z"
   },
   {
    "duration": 0,
    "start_time": "2023-09-30T16:18:47.511Z"
   },
   {
    "duration": 0,
    "start_time": "2023-09-30T16:18:47.512Z"
   },
   {
    "duration": 0,
    "start_time": "2023-09-30T16:18:47.513Z"
   },
   {
    "duration": 0,
    "start_time": "2023-09-30T16:18:47.514Z"
   },
   {
    "duration": 0,
    "start_time": "2023-09-30T16:18:47.515Z"
   },
   {
    "duration": 0,
    "start_time": "2023-09-30T16:18:47.515Z"
   },
   {
    "duration": 0,
    "start_time": "2023-09-30T16:18:47.516Z"
   },
   {
    "duration": 0,
    "start_time": "2023-09-30T16:18:47.517Z"
   },
   {
    "duration": 0,
    "start_time": "2023-09-30T16:18:47.518Z"
   },
   {
    "duration": 0,
    "start_time": "2023-09-30T16:18:47.519Z"
   },
   {
    "duration": 0,
    "start_time": "2023-09-30T16:18:47.521Z"
   },
   {
    "duration": 0,
    "start_time": "2023-09-30T16:18:47.522Z"
   },
   {
    "duration": 0,
    "start_time": "2023-09-30T16:18:47.523Z"
   },
   {
    "duration": 0,
    "start_time": "2023-09-30T16:18:47.524Z"
   },
   {
    "duration": 0,
    "start_time": "2023-09-30T16:18:47.525Z"
   },
   {
    "duration": 0,
    "start_time": "2023-09-30T16:18:47.526Z"
   },
   {
    "duration": 0,
    "start_time": "2023-09-30T16:18:47.527Z"
   },
   {
    "duration": 0,
    "start_time": "2023-09-30T16:18:47.527Z"
   },
   {
    "duration": 0,
    "start_time": "2023-09-30T16:18:47.529Z"
   },
   {
    "duration": 0,
    "start_time": "2023-09-30T16:18:47.530Z"
   },
   {
    "duration": 0,
    "start_time": "2023-09-30T16:18:47.531Z"
   },
   {
    "duration": 0,
    "start_time": "2023-09-30T16:18:47.532Z"
   },
   {
    "duration": 0,
    "start_time": "2023-09-30T16:18:47.533Z"
   },
   {
    "duration": 0,
    "start_time": "2023-09-30T16:18:47.534Z"
   },
   {
    "duration": 0,
    "start_time": "2023-09-30T16:18:47.535Z"
   },
   {
    "duration": 0,
    "start_time": "2023-09-30T16:18:47.536Z"
   },
   {
    "duration": 0,
    "start_time": "2023-09-30T16:18:47.537Z"
   },
   {
    "duration": 0,
    "start_time": "2023-09-30T16:18:47.539Z"
   },
   {
    "duration": 0,
    "start_time": "2023-09-30T16:18:47.601Z"
   },
   {
    "duration": 0,
    "start_time": "2023-09-30T16:18:47.603Z"
   },
   {
    "duration": 0,
    "start_time": "2023-09-30T16:18:47.604Z"
   },
   {
    "duration": 0,
    "start_time": "2023-09-30T16:18:47.605Z"
   },
   {
    "duration": 0,
    "start_time": "2023-09-30T16:18:47.606Z"
   },
   {
    "duration": 0,
    "start_time": "2023-09-30T16:18:47.607Z"
   },
   {
    "duration": 0,
    "start_time": "2023-09-30T16:18:47.609Z"
   },
   {
    "duration": 0,
    "start_time": "2023-09-30T16:18:47.610Z"
   },
   {
    "duration": 0,
    "start_time": "2023-09-30T16:18:47.611Z"
   },
   {
    "duration": 0,
    "start_time": "2023-09-30T16:18:47.612Z"
   },
   {
    "duration": 0,
    "start_time": "2023-09-30T16:18:47.613Z"
   },
   {
    "duration": 0,
    "start_time": "2023-09-30T16:18:47.614Z"
   },
   {
    "duration": 0,
    "start_time": "2023-09-30T16:18:47.615Z"
   },
   {
    "duration": 0,
    "start_time": "2023-09-30T16:18:47.616Z"
   },
   {
    "duration": 0,
    "start_time": "2023-09-30T16:18:47.617Z"
   },
   {
    "duration": 0,
    "start_time": "2023-09-30T16:18:47.618Z"
   },
   {
    "duration": 0,
    "start_time": "2023-09-30T16:18:47.619Z"
   },
   {
    "duration": 0,
    "start_time": "2023-09-30T16:18:47.620Z"
   },
   {
    "duration": 0,
    "start_time": "2023-09-30T16:18:47.621Z"
   },
   {
    "duration": 0,
    "start_time": "2023-09-30T16:18:47.622Z"
   },
   {
    "duration": 0,
    "start_time": "2023-09-30T16:18:47.622Z"
   },
   {
    "duration": 0,
    "start_time": "2023-09-30T16:18:47.623Z"
   },
   {
    "duration": 0,
    "start_time": "2023-09-30T16:18:47.624Z"
   },
   {
    "duration": 0,
    "start_time": "2023-09-30T16:18:47.626Z"
   },
   {
    "duration": 0,
    "start_time": "2023-09-30T16:18:47.626Z"
   },
   {
    "duration": 0,
    "start_time": "2023-09-30T16:18:47.628Z"
   },
   {
    "duration": 0,
    "start_time": "2023-09-30T16:18:47.629Z"
   },
   {
    "duration": 0,
    "start_time": "2023-09-30T16:18:47.630Z"
   },
   {
    "duration": 0,
    "start_time": "2023-09-30T16:18:47.630Z"
   },
   {
    "duration": 0,
    "start_time": "2023-09-30T16:18:47.631Z"
   },
   {
    "duration": 0,
    "start_time": "2023-09-30T16:18:47.632Z"
   },
   {
    "duration": 0,
    "start_time": "2023-09-30T16:18:47.633Z"
   },
   {
    "duration": 0,
    "start_time": "2023-09-30T16:18:47.634Z"
   },
   {
    "duration": 0,
    "start_time": "2023-09-30T16:18:47.635Z"
   },
   {
    "duration": 0,
    "start_time": "2023-09-30T16:18:47.636Z"
   },
   {
    "duration": 0,
    "start_time": "2023-09-30T16:18:47.701Z"
   },
   {
    "duration": 0,
    "start_time": "2023-09-30T16:18:47.702Z"
   },
   {
    "duration": 0,
    "start_time": "2023-09-30T16:18:47.703Z"
   },
   {
    "duration": 0,
    "start_time": "2023-09-30T16:18:47.704Z"
   },
   {
    "duration": 0,
    "start_time": "2023-09-30T16:18:47.705Z"
   },
   {
    "duration": 0,
    "start_time": "2023-09-30T16:18:47.706Z"
   },
   {
    "duration": 0,
    "start_time": "2023-09-30T16:18:47.707Z"
   },
   {
    "duration": 0,
    "start_time": "2023-09-30T16:18:47.708Z"
   },
   {
    "duration": 0,
    "start_time": "2023-09-30T16:18:47.709Z"
   },
   {
    "duration": 0,
    "start_time": "2023-09-30T16:18:47.709Z"
   },
   {
    "duration": 0,
    "start_time": "2023-09-30T16:18:47.710Z"
   },
   {
    "duration": 0,
    "start_time": "2023-09-30T16:18:47.712Z"
   },
   {
    "duration": 0,
    "start_time": "2023-09-30T16:18:47.713Z"
   },
   {
    "duration": 0,
    "start_time": "2023-09-30T16:18:47.714Z"
   },
   {
    "duration": 0,
    "start_time": "2023-09-30T16:18:47.715Z"
   },
   {
    "duration": 0,
    "start_time": "2023-09-30T16:18:47.716Z"
   },
   {
    "duration": 0,
    "start_time": "2023-09-30T16:18:47.717Z"
   },
   {
    "duration": 0,
    "start_time": "2023-09-30T16:18:47.717Z"
   },
   {
    "duration": 0,
    "start_time": "2023-09-30T16:18:47.719Z"
   },
   {
    "duration": 0,
    "start_time": "2023-09-30T16:18:47.720Z"
   },
   {
    "duration": 0,
    "start_time": "2023-09-30T16:18:47.720Z"
   },
   {
    "duration": 0,
    "start_time": "2023-09-30T16:18:47.721Z"
   },
   {
    "duration": 0,
    "start_time": "2023-09-30T16:18:47.722Z"
   },
   {
    "duration": 0,
    "start_time": "2023-09-30T16:18:47.723Z"
   },
   {
    "duration": 0,
    "start_time": "2023-09-30T16:18:47.724Z"
   },
   {
    "duration": 0,
    "start_time": "2023-09-30T16:18:47.725Z"
   },
   {
    "duration": 0,
    "start_time": "2023-09-30T16:18:47.726Z"
   },
   {
    "duration": 0,
    "start_time": "2023-09-30T16:18:47.727Z"
   },
   {
    "duration": 0,
    "start_time": "2023-09-30T16:18:47.728Z"
   },
   {
    "duration": 54,
    "start_time": "2023-09-30T16:20:01.152Z"
   },
   {
    "duration": 0,
    "start_time": "2023-09-30T16:20:01.208Z"
   },
   {
    "duration": 0,
    "start_time": "2023-09-30T16:20:01.209Z"
   },
   {
    "duration": 0,
    "start_time": "2023-09-30T16:20:01.211Z"
   },
   {
    "duration": 172,
    "start_time": "2023-09-30T16:20:01.260Z"
   },
   {
    "duration": 0,
    "start_time": "2023-09-30T16:20:01.434Z"
   },
   {
    "duration": 0,
    "start_time": "2023-09-30T16:20:01.435Z"
   },
   {
    "duration": 0,
    "start_time": "2023-09-30T16:20:01.436Z"
   },
   {
    "duration": 0,
    "start_time": "2023-09-30T16:20:01.437Z"
   },
   {
    "duration": 0,
    "start_time": "2023-09-30T16:20:01.439Z"
   },
   {
    "duration": 0,
    "start_time": "2023-09-30T16:20:01.440Z"
   },
   {
    "duration": 0,
    "start_time": "2023-09-30T16:20:01.441Z"
   },
   {
    "duration": 0,
    "start_time": "2023-09-30T16:20:01.442Z"
   },
   {
    "duration": 0,
    "start_time": "2023-09-30T16:20:01.444Z"
   },
   {
    "duration": 0,
    "start_time": "2023-09-30T16:20:01.445Z"
   },
   {
    "duration": 0,
    "start_time": "2023-09-30T16:20:01.447Z"
   },
   {
    "duration": 0,
    "start_time": "2023-09-30T16:20:01.448Z"
   },
   {
    "duration": 0,
    "start_time": "2023-09-30T16:20:01.450Z"
   },
   {
    "duration": 0,
    "start_time": "2023-09-30T16:20:01.451Z"
   },
   {
    "duration": 0,
    "start_time": "2023-09-30T16:20:01.452Z"
   },
   {
    "duration": 0,
    "start_time": "2023-09-30T16:20:01.453Z"
   },
   {
    "duration": 0,
    "start_time": "2023-09-30T16:20:01.454Z"
   },
   {
    "duration": 0,
    "start_time": "2023-09-30T16:20:01.455Z"
   },
   {
    "duration": 0,
    "start_time": "2023-09-30T16:20:01.456Z"
   },
   {
    "duration": 0,
    "start_time": "2023-09-30T16:20:01.458Z"
   },
   {
    "duration": 0,
    "start_time": "2023-09-30T16:20:01.459Z"
   },
   {
    "duration": 170,
    "start_time": "2023-09-30T16:20:01.462Z"
   },
   {
    "duration": 0,
    "start_time": "2023-09-30T16:20:01.634Z"
   },
   {
    "duration": 0,
    "start_time": "2023-09-30T16:20:01.635Z"
   },
   {
    "duration": 0,
    "start_time": "2023-09-30T16:20:01.636Z"
   },
   {
    "duration": 0,
    "start_time": "2023-09-30T16:20:01.637Z"
   },
   {
    "duration": 0,
    "start_time": "2023-09-30T16:20:01.638Z"
   },
   {
    "duration": 0,
    "start_time": "2023-09-30T16:20:01.638Z"
   },
   {
    "duration": 0,
    "start_time": "2023-09-30T16:20:01.639Z"
   },
   {
    "duration": 0,
    "start_time": "2023-09-30T16:20:01.641Z"
   },
   {
    "duration": 0,
    "start_time": "2023-09-30T16:20:01.641Z"
   },
   {
    "duration": 0,
    "start_time": "2023-09-30T16:20:01.643Z"
   },
   {
    "duration": 0,
    "start_time": "2023-09-30T16:20:01.643Z"
   },
   {
    "duration": 0,
    "start_time": "2023-09-30T16:20:01.644Z"
   },
   {
    "duration": 0,
    "start_time": "2023-09-30T16:20:01.645Z"
   },
   {
    "duration": 0,
    "start_time": "2023-09-30T16:20:01.646Z"
   },
   {
    "duration": 0,
    "start_time": "2023-09-30T16:20:01.647Z"
   },
   {
    "duration": 0,
    "start_time": "2023-09-30T16:20:01.648Z"
   },
   {
    "duration": 0,
    "start_time": "2023-09-30T16:20:01.649Z"
   },
   {
    "duration": 0,
    "start_time": "2023-09-30T16:20:01.650Z"
   },
   {
    "duration": 0,
    "start_time": "2023-09-30T16:20:01.651Z"
   },
   {
    "duration": 0,
    "start_time": "2023-09-30T16:20:01.652Z"
   },
   {
    "duration": 0,
    "start_time": "2023-09-30T16:20:01.653Z"
   },
   {
    "duration": 0,
    "start_time": "2023-09-30T16:20:01.653Z"
   },
   {
    "duration": 345,
    "start_time": "2023-09-30T16:20:01.655Z"
   },
   {
    "duration": 0,
    "start_time": "2023-09-30T16:20:02.003Z"
   },
   {
    "duration": 0,
    "start_time": "2023-09-30T16:20:02.004Z"
   },
   {
    "duration": 0,
    "start_time": "2023-09-30T16:20:02.005Z"
   },
   {
    "duration": 0,
    "start_time": "2023-09-30T16:20:02.006Z"
   },
   {
    "duration": 0,
    "start_time": "2023-09-30T16:20:02.007Z"
   },
   {
    "duration": 0,
    "start_time": "2023-09-30T16:20:02.008Z"
   },
   {
    "duration": 0,
    "start_time": "2023-09-30T16:20:02.009Z"
   },
   {
    "duration": 0,
    "start_time": "2023-09-30T16:20:02.010Z"
   },
   {
    "duration": 0,
    "start_time": "2023-09-30T16:20:02.011Z"
   },
   {
    "duration": 0,
    "start_time": "2023-09-30T16:20:02.012Z"
   },
   {
    "duration": 0,
    "start_time": "2023-09-30T16:20:02.014Z"
   },
   {
    "duration": 0,
    "start_time": "2023-09-30T16:20:02.015Z"
   },
   {
    "duration": 0,
    "start_time": "2023-09-30T16:20:02.016Z"
   },
   {
    "duration": 0,
    "start_time": "2023-09-30T16:20:02.017Z"
   },
   {
    "duration": 0,
    "start_time": "2023-09-30T16:20:02.018Z"
   },
   {
    "duration": 0,
    "start_time": "2023-09-30T16:20:02.019Z"
   },
   {
    "duration": 0,
    "start_time": "2023-09-30T16:20:02.021Z"
   },
   {
    "duration": 0,
    "start_time": "2023-09-30T16:20:02.022Z"
   },
   {
    "duration": 0,
    "start_time": "2023-09-30T16:20:02.022Z"
   },
   {
    "duration": 0,
    "start_time": "2023-09-30T16:20:02.023Z"
   },
   {
    "duration": 0,
    "start_time": "2023-09-30T16:20:02.024Z"
   },
   {
    "duration": 0,
    "start_time": "2023-09-30T16:20:02.026Z"
   },
   {
    "duration": 0,
    "start_time": "2023-09-30T16:20:02.027Z"
   },
   {
    "duration": 0,
    "start_time": "2023-09-30T16:20:02.028Z"
   },
   {
    "duration": 0,
    "start_time": "2023-09-30T16:20:02.029Z"
   },
   {
    "duration": 0,
    "start_time": "2023-09-30T16:20:02.030Z"
   },
   {
    "duration": 0,
    "start_time": "2023-09-30T16:20:02.032Z"
   },
   {
    "duration": 466,
    "start_time": "2023-09-30T16:20:02.035Z"
   },
   {
    "duration": 0,
    "start_time": "2023-09-30T16:20:02.503Z"
   },
   {
    "duration": 0,
    "start_time": "2023-09-30T16:20:02.504Z"
   },
   {
    "duration": 0,
    "start_time": "2023-09-30T16:20:02.505Z"
   },
   {
    "duration": 0,
    "start_time": "2023-09-30T16:20:02.506Z"
   },
   {
    "duration": 0,
    "start_time": "2023-09-30T16:20:02.507Z"
   },
   {
    "duration": 0,
    "start_time": "2023-09-30T16:20:02.508Z"
   },
   {
    "duration": 0,
    "start_time": "2023-09-30T16:20:02.510Z"
   },
   {
    "duration": 0,
    "start_time": "2023-09-30T16:20:02.511Z"
   },
   {
    "duration": 0,
    "start_time": "2023-09-30T16:20:02.511Z"
   },
   {
    "duration": 0,
    "start_time": "2023-09-30T16:20:02.513Z"
   },
   {
    "duration": 0,
    "start_time": "2023-09-30T16:20:02.514Z"
   },
   {
    "duration": 0,
    "start_time": "2023-09-30T16:20:02.515Z"
   },
   {
    "duration": 0,
    "start_time": "2023-09-30T16:20:02.516Z"
   },
   {
    "duration": 0,
    "start_time": "2023-09-30T16:20:02.517Z"
   },
   {
    "duration": 0,
    "start_time": "2023-09-30T16:20:02.519Z"
   },
   {
    "duration": 0,
    "start_time": "2023-09-30T16:20:02.520Z"
   },
   {
    "duration": 0,
    "start_time": "2023-09-30T16:20:02.521Z"
   },
   {
    "duration": 0,
    "start_time": "2023-09-30T16:20:02.522Z"
   },
   {
    "duration": 0,
    "start_time": "2023-09-30T16:20:02.524Z"
   },
   {
    "duration": 0,
    "start_time": "2023-09-30T16:20:02.525Z"
   },
   {
    "duration": 0,
    "start_time": "2023-09-30T16:20:02.526Z"
   },
   {
    "duration": 0,
    "start_time": "2023-09-30T16:20:02.527Z"
   },
   {
    "duration": 0,
    "start_time": "2023-09-30T16:20:02.529Z"
   },
   {
    "duration": 0,
    "start_time": "2023-09-30T16:20:02.530Z"
   },
   {
    "duration": 8,
    "start_time": "2023-09-30T16:20:02.692Z"
   },
   {
    "duration": 0,
    "start_time": "2023-09-30T16:20:02.702Z"
   },
   {
    "duration": 1564,
    "start_time": "2023-09-30T16:20:29.171Z"
   },
   {
    "duration": 59,
    "start_time": "2023-09-30T16:20:30.737Z"
   },
   {
    "duration": 33,
    "start_time": "2023-09-30T16:20:30.798Z"
   },
   {
    "duration": 74,
    "start_time": "2023-09-30T16:20:30.833Z"
   },
   {
    "duration": 92,
    "start_time": "2023-09-30T16:20:30.910Z"
   },
   {
    "duration": 92,
    "start_time": "2023-09-30T16:20:31.004Z"
   },
   {
    "duration": 59,
    "start_time": "2023-09-30T16:20:31.099Z"
   },
   {
    "duration": 33,
    "start_time": "2023-09-30T16:20:31.159Z"
   },
   {
    "duration": 75,
    "start_time": "2023-09-30T16:20:31.194Z"
   },
   {
    "duration": 46,
    "start_time": "2023-09-30T16:20:31.271Z"
   },
   {
    "duration": 63,
    "start_time": "2023-09-30T16:20:31.319Z"
   },
   {
    "duration": 388,
    "start_time": "2023-09-30T16:20:31.383Z"
   },
   {
    "duration": 18,
    "start_time": "2023-09-30T16:20:31.772Z"
   },
   {
    "duration": 39,
    "start_time": "2023-09-30T16:20:31.801Z"
   },
   {
    "duration": 54,
    "start_time": "2023-09-30T16:20:31.842Z"
   },
   {
    "duration": 313,
    "start_time": "2023-09-30T16:20:31.898Z"
   },
   {
    "duration": 9,
    "start_time": "2023-09-30T16:20:32.212Z"
   },
   {
    "duration": 435,
    "start_time": "2023-09-30T16:20:32.223Z"
   },
   {
    "duration": 8,
    "start_time": "2023-09-30T16:20:32.659Z"
   },
   {
    "duration": 359,
    "start_time": "2023-09-30T16:20:32.669Z"
   },
   {
    "duration": 10,
    "start_time": "2023-09-30T16:20:33.030Z"
   },
   {
    "duration": 416,
    "start_time": "2023-09-30T16:20:33.042Z"
   },
   {
    "duration": 10,
    "start_time": "2023-09-30T16:20:33.460Z"
   },
   {
    "duration": 165,
    "start_time": "2023-09-30T16:20:33.471Z"
   },
   {
    "duration": 386,
    "start_time": "2023-09-30T16:20:33.638Z"
   },
   {
    "duration": 86,
    "start_time": "2023-09-30T16:20:34.026Z"
   },
   {
    "duration": 101,
    "start_time": "2023-09-30T16:20:34.113Z"
   },
   {
    "duration": 191,
    "start_time": "2023-09-30T16:20:34.216Z"
   },
   {
    "duration": 79,
    "start_time": "2023-09-30T16:20:34.409Z"
   },
   {
    "duration": 128,
    "start_time": "2023-09-30T16:20:34.489Z"
   },
   {
    "duration": 114,
    "start_time": "2023-09-30T16:20:34.619Z"
   },
   {
    "duration": 123,
    "start_time": "2023-09-30T16:20:34.734Z"
   },
   {
    "duration": 97,
    "start_time": "2023-09-30T16:20:34.858Z"
   },
   {
    "duration": 9,
    "start_time": "2023-09-30T16:20:34.957Z"
   },
   {
    "duration": 140,
    "start_time": "2023-09-30T16:20:34.968Z"
   },
   {
    "duration": 179,
    "start_time": "2023-09-30T16:20:35.109Z"
   },
   {
    "duration": 175,
    "start_time": "2023-09-30T16:20:35.290Z"
   },
   {
    "duration": 431,
    "start_time": "2023-09-30T16:20:35.467Z"
   },
   {
    "duration": 364,
    "start_time": "2023-09-30T16:20:35.900Z"
   },
   {
    "duration": 79,
    "start_time": "2023-09-30T16:20:36.266Z"
   },
   {
    "duration": 80,
    "start_time": "2023-09-30T16:20:36.349Z"
   },
   {
    "duration": 73,
    "start_time": "2023-09-30T16:20:36.430Z"
   },
   {
    "duration": 98,
    "start_time": "2023-09-30T16:20:36.505Z"
   },
   {
    "duration": 391,
    "start_time": "2023-09-30T16:20:36.605Z"
   },
   {
    "duration": 5,
    "start_time": "2023-09-30T16:20:37.000Z"
   },
   {
    "duration": 426,
    "start_time": "2023-09-30T16:20:37.006Z"
   },
   {
    "duration": 5,
    "start_time": "2023-09-30T16:20:37.434Z"
   },
   {
    "duration": 331,
    "start_time": "2023-09-30T16:20:37.441Z"
   },
   {
    "duration": 5,
    "start_time": "2023-09-30T16:20:37.774Z"
   },
   {
    "duration": 330,
    "start_time": "2023-09-30T16:20:37.781Z"
   },
   {
    "duration": 319,
    "start_time": "2023-09-30T16:20:38.113Z"
   },
   {
    "duration": 6,
    "start_time": "2023-09-30T16:20:38.434Z"
   },
   {
    "duration": 510,
    "start_time": "2023-09-30T16:20:38.442Z"
   },
   {
    "duration": 302,
    "start_time": "2023-09-30T16:20:38.955Z"
   },
   {
    "duration": 312,
    "start_time": "2023-09-30T16:20:39.259Z"
   },
   {
    "duration": 202,
    "start_time": "2023-09-30T16:20:39.572Z"
   },
   {
    "duration": 192,
    "start_time": "2023-09-30T16:20:39.775Z"
   },
   {
    "duration": 189,
    "start_time": "2023-09-30T16:20:39.969Z"
   },
   {
    "duration": 243,
    "start_time": "2023-09-30T16:20:40.160Z"
   },
   {
    "duration": 239,
    "start_time": "2023-09-30T16:20:40.405Z"
   },
   {
    "duration": 165,
    "start_time": "2023-09-30T16:20:40.646Z"
   },
   {
    "duration": 161,
    "start_time": "2023-09-30T16:20:40.813Z"
   },
   {
    "duration": 266,
    "start_time": "2023-09-30T16:20:40.975Z"
   },
   {
    "duration": 237,
    "start_time": "2023-09-30T16:20:41.243Z"
   },
   {
    "duration": 4,
    "start_time": "2023-09-30T16:20:41.482Z"
   },
   {
    "duration": 16,
    "start_time": "2023-09-30T16:20:41.488Z"
   },
   {
    "duration": 223,
    "start_time": "2023-09-30T16:20:41.506Z"
   },
   {
    "duration": 395,
    "start_time": "2023-09-30T16:20:41.731Z"
   },
   {
    "duration": 12,
    "start_time": "2023-09-30T16:20:42.127Z"
   },
   {
    "duration": 400,
    "start_time": "2023-09-30T16:20:42.141Z"
   },
   {
    "duration": 9,
    "start_time": "2023-09-30T16:20:42.543Z"
   },
   {
    "duration": 28,
    "start_time": "2023-09-30T16:20:42.553Z"
   },
   {
    "duration": 127,
    "start_time": "2023-09-30T16:20:42.583Z"
   },
   {
    "duration": 0,
    "start_time": "2023-09-30T16:20:42.712Z"
   },
   {
    "duration": 0,
    "start_time": "2023-09-30T16:20:42.714Z"
   },
   {
    "duration": 0,
    "start_time": "2023-09-30T16:20:42.715Z"
   },
   {
    "duration": 0,
    "start_time": "2023-09-30T16:20:42.716Z"
   },
   {
    "duration": 0,
    "start_time": "2023-09-30T16:20:42.717Z"
   },
   {
    "duration": 0,
    "start_time": "2023-09-30T16:20:42.718Z"
   },
   {
    "duration": 0,
    "start_time": "2023-09-30T16:20:42.720Z"
   },
   {
    "duration": 0,
    "start_time": "2023-09-30T16:20:42.721Z"
   },
   {
    "duration": 0,
    "start_time": "2023-09-30T16:20:42.723Z"
   },
   {
    "duration": 0,
    "start_time": "2023-09-30T16:20:42.725Z"
   },
   {
    "duration": 0,
    "start_time": "2023-09-30T16:20:42.726Z"
   },
   {
    "duration": 0,
    "start_time": "2023-09-30T16:20:42.727Z"
   },
   {
    "duration": 0,
    "start_time": "2023-09-30T16:20:42.728Z"
   },
   {
    "duration": 0,
    "start_time": "2023-09-30T16:20:42.729Z"
   },
   {
    "duration": 0,
    "start_time": "2023-09-30T16:20:42.730Z"
   },
   {
    "duration": 0,
    "start_time": "2023-09-30T16:20:42.731Z"
   },
   {
    "duration": 0,
    "start_time": "2023-09-30T16:20:42.733Z"
   },
   {
    "duration": 0,
    "start_time": "2023-09-30T16:20:42.734Z"
   },
   {
    "duration": 0,
    "start_time": "2023-09-30T16:20:42.735Z"
   },
   {
    "duration": 0,
    "start_time": "2023-09-30T16:20:42.736Z"
   },
   {
    "duration": 0,
    "start_time": "2023-09-30T16:20:42.737Z"
   },
   {
    "duration": 0,
    "start_time": "2023-09-30T16:20:42.738Z"
   },
   {
    "duration": 0,
    "start_time": "2023-09-30T16:20:42.739Z"
   },
   {
    "duration": 0,
    "start_time": "2023-09-30T16:20:42.740Z"
   },
   {
    "duration": 0,
    "start_time": "2023-09-30T16:20:42.742Z"
   },
   {
    "duration": 0,
    "start_time": "2023-09-30T16:20:42.743Z"
   },
   {
    "duration": 0,
    "start_time": "2023-09-30T16:20:42.745Z"
   },
   {
    "duration": 0,
    "start_time": "2023-09-30T16:20:42.803Z"
   },
   {
    "duration": 0,
    "start_time": "2023-09-30T16:20:42.805Z"
   },
   {
    "duration": 0,
    "start_time": "2023-09-30T16:20:42.806Z"
   },
   {
    "duration": 0,
    "start_time": "2023-09-30T16:20:42.808Z"
   },
   {
    "duration": 12,
    "start_time": "2023-09-30T16:49:39.203Z"
   },
   {
    "duration": 1492,
    "start_time": "2023-09-30T16:50:05.803Z"
   },
   {
    "duration": 57,
    "start_time": "2023-09-30T16:50:07.297Z"
   },
   {
    "duration": 14,
    "start_time": "2023-09-30T16:50:07.356Z"
   },
   {
    "duration": 59,
    "start_time": "2023-09-30T16:50:07.371Z"
   },
   {
    "duration": 32,
    "start_time": "2023-09-30T16:50:07.432Z"
   },
   {
    "duration": 62,
    "start_time": "2023-09-30T16:50:07.465Z"
   },
   {
    "duration": 10,
    "start_time": "2023-09-30T16:50:07.530Z"
   },
   {
    "duration": 36,
    "start_time": "2023-09-30T16:50:07.541Z"
   },
   {
    "duration": 43,
    "start_time": "2023-09-30T16:50:07.579Z"
   },
   {
    "duration": 21,
    "start_time": "2023-09-30T16:50:07.624Z"
   },
   {
    "duration": 24,
    "start_time": "2023-09-30T16:50:07.646Z"
   },
   {
    "duration": 410,
    "start_time": "2023-09-30T16:50:07.672Z"
   },
   {
    "duration": 28,
    "start_time": "2023-09-30T16:50:08.085Z"
   },
   {
    "duration": 11,
    "start_time": "2023-09-30T16:50:08.117Z"
   },
   {
    "duration": 15,
    "start_time": "2023-09-30T16:50:08.130Z"
   },
   {
    "duration": 317,
    "start_time": "2023-09-30T16:50:08.146Z"
   },
   {
    "duration": 8,
    "start_time": "2023-09-30T16:50:08.464Z"
   },
   {
    "duration": 416,
    "start_time": "2023-09-30T16:50:08.474Z"
   },
   {
    "duration": 14,
    "start_time": "2023-09-30T16:50:08.892Z"
   },
   {
    "duration": 458,
    "start_time": "2023-09-30T16:50:08.908Z"
   },
   {
    "duration": 9,
    "start_time": "2023-09-30T16:50:09.367Z"
   },
   {
    "duration": 370,
    "start_time": "2023-09-30T16:50:09.377Z"
   },
   {
    "duration": 9,
    "start_time": "2023-09-30T16:50:09.749Z"
   },
   {
    "duration": 183,
    "start_time": "2023-09-30T16:50:09.766Z"
   },
   {
    "duration": 370,
    "start_time": "2023-09-30T16:50:09.951Z"
   },
   {
    "duration": 85,
    "start_time": "2023-09-30T16:50:10.322Z"
   },
   {
    "duration": 99,
    "start_time": "2023-09-30T16:50:10.409Z"
   },
   {
    "duration": 187,
    "start_time": "2023-09-30T16:50:10.510Z"
   },
   {
    "duration": 84,
    "start_time": "2023-09-30T16:50:10.700Z"
   },
   {
    "duration": 74,
    "start_time": "2023-09-30T16:50:10.801Z"
   },
   {
    "duration": 87,
    "start_time": "2023-09-30T16:50:10.877Z"
   },
   {
    "duration": 95,
    "start_time": "2023-09-30T16:50:10.966Z"
   },
   {
    "duration": 109,
    "start_time": "2023-09-30T16:50:11.063Z"
   },
   {
    "duration": 8,
    "start_time": "2023-09-30T16:50:11.174Z"
   },
   {
    "duration": 132,
    "start_time": "2023-09-30T16:50:11.184Z"
   },
   {
    "duration": 169,
    "start_time": "2023-09-30T16:50:11.318Z"
   },
   {
    "duration": 14,
    "start_time": "2023-09-30T16:50:11.488Z"
   },
   {
    "duration": 117,
    "start_time": "2023-09-30T16:50:11.503Z"
   },
   {
    "duration": 181,
    "start_time": "2023-09-30T16:50:11.622Z"
   },
   {
    "duration": 70,
    "start_time": "2023-09-30T16:50:11.805Z"
   },
   {
    "duration": 86,
    "start_time": "2023-09-30T16:50:11.880Z"
   },
   {
    "duration": 94,
    "start_time": "2023-09-30T16:50:11.967Z"
   },
   {
    "duration": 114,
    "start_time": "2023-09-30T16:50:12.063Z"
   },
   {
    "duration": 416,
    "start_time": "2023-09-30T16:50:12.179Z"
   },
   {
    "duration": 7,
    "start_time": "2023-09-30T16:50:12.596Z"
   },
   {
    "duration": 321,
    "start_time": "2023-09-30T16:50:12.605Z"
   },
   {
    "duration": 4,
    "start_time": "2023-09-30T16:50:12.928Z"
   },
   {
    "duration": 322,
    "start_time": "2023-09-30T16:50:12.934Z"
   },
   {
    "duration": 5,
    "start_time": "2023-09-30T16:50:13.257Z"
   },
   {
    "duration": 319,
    "start_time": "2023-09-30T16:50:13.264Z"
   },
   {
    "duration": 323,
    "start_time": "2023-09-30T16:50:13.585Z"
   },
   {
    "duration": 5,
    "start_time": "2023-09-30T16:50:13.910Z"
   },
   {
    "duration": 451,
    "start_time": "2023-09-30T16:50:13.917Z"
   },
   {
    "duration": 342,
    "start_time": "2023-09-30T16:50:14.370Z"
   },
   {
    "duration": 331,
    "start_time": "2023-09-30T16:50:14.717Z"
   },
   {
    "duration": 194,
    "start_time": "2023-09-30T16:50:15.050Z"
   },
   {
    "duration": 190,
    "start_time": "2023-09-30T16:50:15.247Z"
   },
   {
    "duration": 184,
    "start_time": "2023-09-30T16:50:15.438Z"
   },
   {
    "duration": 248,
    "start_time": "2023-09-30T16:50:15.624Z"
   },
   {
    "duration": 229,
    "start_time": "2023-09-30T16:50:15.874Z"
   },
   {
    "duration": 170,
    "start_time": "2023-09-30T16:50:16.105Z"
   },
   {
    "duration": 165,
    "start_time": "2023-09-30T16:50:16.277Z"
   },
   {
    "duration": 263,
    "start_time": "2023-09-30T16:50:16.444Z"
   },
   {
    "duration": 235,
    "start_time": "2023-09-30T16:50:16.708Z"
   },
   {
    "duration": 3,
    "start_time": "2023-09-30T16:50:16.945Z"
   },
   {
    "duration": 28,
    "start_time": "2023-09-30T16:50:16.949Z"
   },
   {
    "duration": 263,
    "start_time": "2023-09-30T16:50:16.979Z"
   },
   {
    "duration": 410,
    "start_time": "2023-09-30T16:50:17.243Z"
   },
   {
    "duration": 11,
    "start_time": "2023-09-30T16:50:17.655Z"
   },
   {
    "duration": 474,
    "start_time": "2023-09-30T16:50:17.668Z"
   },
   {
    "duration": 8,
    "start_time": "2023-09-30T16:50:18.144Z"
   },
   {
    "duration": 20,
    "start_time": "2023-09-30T16:50:18.153Z"
   },
   {
    "duration": 25,
    "start_time": "2023-09-30T16:50:18.176Z"
   },
   {
    "duration": 13,
    "start_time": "2023-09-30T16:50:18.203Z"
   },
   {
    "duration": 13,
    "start_time": "2023-09-30T16:50:18.218Z"
   },
   {
    "duration": 27,
    "start_time": "2023-09-30T16:50:18.233Z"
   },
   {
    "duration": 38,
    "start_time": "2023-09-30T16:50:18.262Z"
   },
   {
    "duration": 12,
    "start_time": "2023-09-30T16:50:18.301Z"
   },
   {
    "duration": 24,
    "start_time": "2023-09-30T16:50:18.315Z"
   },
   {
    "duration": 7,
    "start_time": "2023-09-30T16:50:18.341Z"
   },
   {
    "duration": 27,
    "start_time": "2023-09-30T16:50:18.350Z"
   },
   {
    "duration": 534,
    "start_time": "2023-09-30T16:50:18.379Z"
   },
   {
    "duration": 5,
    "start_time": "2023-09-30T16:50:18.914Z"
   },
   {
    "duration": 142,
    "start_time": "2023-09-30T16:50:18.920Z"
   },
   {
    "duration": 0,
    "start_time": "2023-09-30T16:50:19.063Z"
   },
   {
    "duration": 0,
    "start_time": "2023-09-30T16:50:19.065Z"
   },
   {
    "duration": 0,
    "start_time": "2023-09-30T16:50:19.066Z"
   },
   {
    "duration": 0,
    "start_time": "2023-09-30T16:50:19.067Z"
   },
   {
    "duration": 0,
    "start_time": "2023-09-30T16:50:19.068Z"
   },
   {
    "duration": 0,
    "start_time": "2023-09-30T16:50:19.069Z"
   },
   {
    "duration": 0,
    "start_time": "2023-09-30T16:50:19.070Z"
   },
   {
    "duration": 0,
    "start_time": "2023-09-30T16:50:19.071Z"
   },
   {
    "duration": 0,
    "start_time": "2023-09-30T16:50:19.071Z"
   },
   {
    "duration": 0,
    "start_time": "2023-09-30T16:50:19.072Z"
   },
   {
    "duration": 0,
    "start_time": "2023-09-30T16:50:19.073Z"
   },
   {
    "duration": 0,
    "start_time": "2023-09-30T16:50:19.074Z"
   },
   {
    "duration": 0,
    "start_time": "2023-09-30T16:50:19.075Z"
   },
   {
    "duration": 0,
    "start_time": "2023-09-30T16:50:19.076Z"
   },
   {
    "duration": 0,
    "start_time": "2023-09-30T16:50:19.076Z"
   },
   {
    "duration": 0,
    "start_time": "2023-09-30T16:50:19.077Z"
   },
   {
    "duration": 0,
    "start_time": "2023-09-30T16:50:19.101Z"
   },
   {
    "duration": 0,
    "start_time": "2023-09-30T16:50:19.102Z"
   },
   {
    "duration": 0,
    "start_time": "2023-09-30T16:50:19.104Z"
   },
   {
    "duration": 0,
    "start_time": "2023-09-30T16:50:19.105Z"
   },
   {
    "duration": 0,
    "start_time": "2023-09-30T16:50:19.106Z"
   },
   {
    "duration": 12,
    "start_time": "2023-09-30T16:51:28.069Z"
   },
   {
    "duration": 1460,
    "start_time": "2023-09-30T17:00:32.158Z"
   },
   {
    "duration": 56,
    "start_time": "2023-09-30T17:00:33.620Z"
   },
   {
    "duration": 14,
    "start_time": "2023-09-30T17:00:33.678Z"
   },
   {
    "duration": 39,
    "start_time": "2023-09-30T17:00:33.694Z"
   },
   {
    "duration": 52,
    "start_time": "2023-09-30T17:00:33.736Z"
   },
   {
    "duration": 74,
    "start_time": "2023-09-30T17:00:33.790Z"
   },
   {
    "duration": 14,
    "start_time": "2023-09-30T17:00:33.866Z"
   },
   {
    "duration": 19,
    "start_time": "2023-09-30T17:00:33.882Z"
   },
   {
    "duration": 15,
    "start_time": "2023-09-30T17:00:33.903Z"
   },
   {
    "duration": 47,
    "start_time": "2023-09-30T17:00:33.920Z"
   },
   {
    "duration": 15,
    "start_time": "2023-09-30T17:00:33.968Z"
   },
   {
    "duration": 376,
    "start_time": "2023-09-30T17:00:33.985Z"
   },
   {
    "duration": 19,
    "start_time": "2023-09-30T17:00:34.363Z"
   },
   {
    "duration": 20,
    "start_time": "2023-09-30T17:00:34.385Z"
   },
   {
    "duration": 44,
    "start_time": "2023-09-30T17:00:34.407Z"
   },
   {
    "duration": 352,
    "start_time": "2023-09-30T17:00:34.454Z"
   },
   {
    "duration": 9,
    "start_time": "2023-09-30T17:00:34.809Z"
   },
   {
    "duration": 402,
    "start_time": "2023-09-30T17:00:34.819Z"
   },
   {
    "duration": 9,
    "start_time": "2023-09-30T17:00:35.223Z"
   },
   {
    "duration": 363,
    "start_time": "2023-09-30T17:00:35.234Z"
   },
   {
    "duration": 9,
    "start_time": "2023-09-30T17:00:35.601Z"
   },
   {
    "duration": 381,
    "start_time": "2023-09-30T17:00:35.612Z"
   },
   {
    "duration": 13,
    "start_time": "2023-09-30T17:00:35.995Z"
   },
   {
    "duration": 643,
    "start_time": "2023-09-30T17:00:36.009Z"
   },
   {
    "duration": 354,
    "start_time": "2023-09-30T17:00:36.654Z"
   },
   {
    "duration": 75,
    "start_time": "2023-09-30T17:00:37.010Z"
   },
   {
    "duration": 234,
    "start_time": "2023-09-30T17:00:37.086Z"
   },
   {
    "duration": 190,
    "start_time": "2023-09-30T17:00:37.322Z"
   },
   {
    "duration": 359,
    "start_time": "2023-09-30T17:00:37.514Z"
   },
   {
    "duration": 419,
    "start_time": "2023-09-30T17:00:37.875Z"
   },
   {
    "duration": 422,
    "start_time": "2023-09-30T17:00:38.296Z"
   },
   {
    "duration": 92,
    "start_time": "2023-09-30T17:00:38.720Z"
   },
   {
    "duration": 124,
    "start_time": "2023-09-30T17:00:38.814Z"
   },
   {
    "duration": 9,
    "start_time": "2023-09-30T17:00:38.940Z"
   },
   {
    "duration": 175,
    "start_time": "2023-09-30T17:00:38.951Z"
   },
   {
    "duration": 172,
    "start_time": "2023-09-30T17:00:39.128Z"
   },
   {
    "duration": 10,
    "start_time": "2023-09-30T17:00:39.302Z"
   },
   {
    "duration": 118,
    "start_time": "2023-09-30T17:00:39.314Z"
   },
   {
    "duration": 169,
    "start_time": "2023-09-30T17:00:39.434Z"
   },
   {
    "duration": 73,
    "start_time": "2023-09-30T17:00:39.606Z"
   },
   {
    "duration": 84,
    "start_time": "2023-09-30T17:00:39.685Z"
   },
   {
    "duration": 88,
    "start_time": "2023-09-30T17:00:39.771Z"
   },
   {
    "duration": 99,
    "start_time": "2023-09-30T17:00:39.861Z"
   },
   {
    "duration": 404,
    "start_time": "2023-09-30T17:00:39.963Z"
   },
   {
    "duration": 6,
    "start_time": "2023-09-30T17:00:40.369Z"
   },
   {
    "duration": 314,
    "start_time": "2023-09-30T17:00:40.377Z"
   },
   {
    "duration": 9,
    "start_time": "2023-09-30T17:00:40.693Z"
   },
   {
    "duration": 343,
    "start_time": "2023-09-30T17:00:40.703Z"
   },
   {
    "duration": 4,
    "start_time": "2023-09-30T17:00:41.048Z"
   },
   {
    "duration": 314,
    "start_time": "2023-09-30T17:00:41.053Z"
   },
   {
    "duration": 315,
    "start_time": "2023-09-30T17:00:41.368Z"
   },
   {
    "duration": 4,
    "start_time": "2023-09-30T17:00:41.684Z"
   },
   {
    "duration": 484,
    "start_time": "2023-09-30T17:00:41.700Z"
   },
   {
    "duration": 306,
    "start_time": "2023-09-30T17:00:42.186Z"
   },
   {
    "duration": 306,
    "start_time": "2023-09-30T17:00:42.501Z"
   },
   {
    "duration": 179,
    "start_time": "2023-09-30T17:00:42.808Z"
   },
   {
    "duration": 184,
    "start_time": "2023-09-30T17:00:42.989Z"
   },
   {
    "duration": 187,
    "start_time": "2023-09-30T17:00:43.174Z"
   },
   {
    "duration": 248,
    "start_time": "2023-09-30T17:00:43.363Z"
   },
   {
    "duration": 220,
    "start_time": "2023-09-30T17:00:43.613Z"
   },
   {
    "duration": 163,
    "start_time": "2023-09-30T17:00:43.834Z"
   },
   {
    "duration": 156,
    "start_time": "2023-09-30T17:00:44.002Z"
   },
   {
    "duration": 284,
    "start_time": "2023-09-30T17:00:44.160Z"
   },
   {
    "duration": 312,
    "start_time": "2023-09-30T17:00:44.446Z"
   },
   {
    "duration": 3,
    "start_time": "2023-09-30T17:00:44.761Z"
   },
   {
    "duration": 153,
    "start_time": "2023-09-30T17:00:44.766Z"
   },
   {
    "duration": 239,
    "start_time": "2023-09-30T17:00:44.922Z"
   },
   {
    "duration": 461,
    "start_time": "2023-09-30T17:00:45.163Z"
   },
   {
    "duration": 10,
    "start_time": "2023-09-30T17:00:45.626Z"
   },
   {
    "duration": 415,
    "start_time": "2023-09-30T17:00:45.638Z"
   },
   {
    "duration": 8,
    "start_time": "2023-09-30T17:00:46.054Z"
   },
   {
    "duration": 12,
    "start_time": "2023-09-30T17:00:46.063Z"
   },
   {
    "duration": 39,
    "start_time": "2023-09-30T17:00:46.076Z"
   },
   {
    "duration": 40,
    "start_time": "2023-09-30T17:00:46.117Z"
   },
   {
    "duration": 27,
    "start_time": "2023-09-30T17:00:46.158Z"
   },
   {
    "duration": 20,
    "start_time": "2023-09-30T17:00:46.187Z"
   },
   {
    "duration": 39,
    "start_time": "2023-09-30T17:00:46.209Z"
   },
   {
    "duration": 37,
    "start_time": "2023-09-30T17:00:46.250Z"
   },
   {
    "duration": 18,
    "start_time": "2023-09-30T17:00:46.289Z"
   },
   {
    "duration": 5,
    "start_time": "2023-09-30T17:00:46.309Z"
   },
   {
    "duration": 16,
    "start_time": "2023-09-30T17:00:46.316Z"
   },
   {
    "duration": 33,
    "start_time": "2023-09-30T17:00:46.334Z"
   },
   {
    "duration": 492,
    "start_time": "2023-09-30T17:00:46.369Z"
   },
   {
    "duration": 4,
    "start_time": "2023-09-30T17:00:46.862Z"
   },
   {
    "duration": 165,
    "start_time": "2023-09-30T17:00:46.868Z"
   },
   {
    "duration": 0,
    "start_time": "2023-09-30T17:00:47.034Z"
   },
   {
    "duration": 0,
    "start_time": "2023-09-30T17:00:47.035Z"
   },
   {
    "duration": 0,
    "start_time": "2023-09-30T17:00:47.036Z"
   },
   {
    "duration": 0,
    "start_time": "2023-09-30T17:00:47.037Z"
   },
   {
    "duration": 0,
    "start_time": "2023-09-30T17:00:47.038Z"
   },
   {
    "duration": 0,
    "start_time": "2023-09-30T17:00:47.039Z"
   },
   {
    "duration": 0,
    "start_time": "2023-09-30T17:00:47.040Z"
   },
   {
    "duration": 0,
    "start_time": "2023-09-30T17:00:47.041Z"
   },
   {
    "duration": 0,
    "start_time": "2023-09-30T17:00:47.042Z"
   },
   {
    "duration": 0,
    "start_time": "2023-09-30T17:00:47.043Z"
   },
   {
    "duration": 0,
    "start_time": "2023-09-30T17:00:47.044Z"
   },
   {
    "duration": 0,
    "start_time": "2023-09-30T17:00:47.045Z"
   },
   {
    "duration": 0,
    "start_time": "2023-09-30T17:00:47.046Z"
   },
   {
    "duration": 0,
    "start_time": "2023-09-30T17:00:47.047Z"
   },
   {
    "duration": 0,
    "start_time": "2023-09-30T17:00:47.048Z"
   },
   {
    "duration": 0,
    "start_time": "2023-09-30T17:00:47.049Z"
   },
   {
    "duration": 0,
    "start_time": "2023-09-30T17:00:47.049Z"
   },
   {
    "duration": 0,
    "start_time": "2023-09-30T17:00:47.050Z"
   },
   {
    "duration": 0,
    "start_time": "2023-09-30T17:00:47.052Z"
   },
   {
    "duration": 0,
    "start_time": "2023-09-30T17:00:47.053Z"
   },
   {
    "duration": 0,
    "start_time": "2023-09-30T17:00:47.054Z"
   },
   {
    "duration": 1512,
    "start_time": "2023-09-30T17:04:23.919Z"
   },
   {
    "duration": 57,
    "start_time": "2023-09-30T17:04:25.433Z"
   },
   {
    "duration": 20,
    "start_time": "2023-09-30T17:04:25.492Z"
   },
   {
    "duration": 40,
    "start_time": "2023-09-30T17:04:25.513Z"
   },
   {
    "duration": 55,
    "start_time": "2023-09-30T17:04:25.555Z"
   },
   {
    "duration": 40,
    "start_time": "2023-09-30T17:04:25.612Z"
   },
   {
    "duration": 25,
    "start_time": "2023-09-30T17:04:25.654Z"
   },
   {
    "duration": 28,
    "start_time": "2023-09-30T17:04:25.681Z"
   },
   {
    "duration": 24,
    "start_time": "2023-09-30T17:04:25.710Z"
   },
   {
    "duration": 48,
    "start_time": "2023-09-30T17:04:25.736Z"
   },
   {
    "duration": 42,
    "start_time": "2023-09-30T17:04:25.786Z"
   },
   {
    "duration": 385,
    "start_time": "2023-09-30T17:04:25.830Z"
   },
   {
    "duration": 18,
    "start_time": "2023-09-30T17:04:26.217Z"
   },
   {
    "duration": 76,
    "start_time": "2023-09-30T17:04:26.239Z"
   },
   {
    "duration": 48,
    "start_time": "2023-09-30T17:04:26.317Z"
   },
   {
    "duration": 313,
    "start_time": "2023-09-30T17:04:26.367Z"
   },
   {
    "duration": 19,
    "start_time": "2023-09-30T17:04:26.682Z"
   },
   {
    "duration": 398,
    "start_time": "2023-09-30T17:04:26.703Z"
   },
   {
    "duration": 9,
    "start_time": "2023-09-30T17:04:27.103Z"
   },
   {
    "duration": 356,
    "start_time": "2023-09-30T17:04:27.114Z"
   },
   {
    "duration": 8,
    "start_time": "2023-09-30T17:04:27.472Z"
   },
   {
    "duration": 377,
    "start_time": "2023-09-30T17:04:27.482Z"
   },
   {
    "duration": 8,
    "start_time": "2023-09-30T17:04:27.861Z"
   },
   {
    "duration": 120,
    "start_time": "2023-09-30T17:04:27.871Z"
   },
   {
    "duration": 401,
    "start_time": "2023-09-30T17:04:27.992Z"
   },
   {
    "duration": 86,
    "start_time": "2023-09-30T17:04:28.395Z"
   },
   {
    "duration": 106,
    "start_time": "2023-09-30T17:04:28.483Z"
   },
   {
    "duration": 196,
    "start_time": "2023-09-30T17:04:28.590Z"
   },
   {
    "duration": 86,
    "start_time": "2023-09-30T17:04:28.788Z"
   },
   {
    "duration": 94,
    "start_time": "2023-09-30T17:04:28.876Z"
   },
   {
    "duration": 83,
    "start_time": "2023-09-30T17:04:28.972Z"
   },
   {
    "duration": 95,
    "start_time": "2023-09-30T17:04:29.058Z"
   },
   {
    "duration": 94,
    "start_time": "2023-09-30T17:04:29.155Z"
   },
   {
    "duration": 8,
    "start_time": "2023-09-30T17:04:29.250Z"
   },
   {
    "duration": 143,
    "start_time": "2023-09-30T17:04:29.260Z"
   },
   {
    "duration": 163,
    "start_time": "2023-09-30T17:04:29.405Z"
   },
   {
    "duration": 8,
    "start_time": "2023-09-30T17:04:29.570Z"
   },
   {
    "duration": 118,
    "start_time": "2023-09-30T17:04:29.580Z"
   },
   {
    "duration": 180,
    "start_time": "2023-09-30T17:04:29.699Z"
   },
   {
    "duration": 75,
    "start_time": "2023-09-30T17:04:29.881Z"
   },
   {
    "duration": 92,
    "start_time": "2023-09-30T17:04:29.961Z"
   },
   {
    "duration": 86,
    "start_time": "2023-09-30T17:04:30.055Z"
   },
   {
    "duration": 110,
    "start_time": "2023-09-30T17:04:30.143Z"
   },
   {
    "duration": 390,
    "start_time": "2023-09-30T17:04:30.255Z"
   },
   {
    "duration": 5,
    "start_time": "2023-09-30T17:04:30.646Z"
   },
   {
    "duration": 334,
    "start_time": "2023-09-30T17:04:30.653Z"
   },
   {
    "duration": 14,
    "start_time": "2023-09-30T17:04:30.990Z"
   },
   {
    "duration": 337,
    "start_time": "2023-09-30T17:04:31.006Z"
   },
   {
    "duration": 5,
    "start_time": "2023-09-30T17:04:31.346Z"
   },
   {
    "duration": 391,
    "start_time": "2023-09-30T17:04:31.353Z"
   },
   {
    "duration": 337,
    "start_time": "2023-09-30T17:04:31.746Z"
   },
   {
    "duration": 976,
    "start_time": "2023-09-30T17:04:32.085Z"
   },
   {
    "duration": 667,
    "start_time": "2023-09-30T17:04:33.065Z"
   },
   {
    "duration": 309,
    "start_time": "2023-09-30T17:04:33.734Z"
   },
   {
    "duration": 343,
    "start_time": "2023-09-30T17:04:34.045Z"
   },
   {
    "duration": 201,
    "start_time": "2023-09-30T17:04:34.401Z"
   },
   {
    "duration": 218,
    "start_time": "2023-09-30T17:04:34.604Z"
   },
   {
    "duration": 202,
    "start_time": "2023-09-30T17:04:34.825Z"
   },
   {
    "duration": 250,
    "start_time": "2023-09-30T17:04:35.029Z"
   },
   {
    "duration": 229,
    "start_time": "2023-09-30T17:04:35.281Z"
   },
   {
    "duration": 171,
    "start_time": "2023-09-30T17:04:35.512Z"
   },
   {
    "duration": 298,
    "start_time": "2023-09-30T17:04:35.685Z"
   },
   {
    "duration": 261,
    "start_time": "2023-09-30T17:04:35.985Z"
   },
   {
    "duration": 236,
    "start_time": "2023-09-30T17:04:36.248Z"
   },
   {
    "duration": 3,
    "start_time": "2023-09-30T17:04:36.486Z"
   },
   {
    "duration": 29,
    "start_time": "2023-09-30T17:04:36.491Z"
   },
   {
    "duration": 615,
    "start_time": "2023-09-30T17:04:36.522Z"
   },
   {
    "duration": 399,
    "start_time": "2023-09-30T17:04:37.139Z"
   },
   {
    "duration": 11,
    "start_time": "2023-09-30T17:04:37.540Z"
   },
   {
    "duration": 449,
    "start_time": "2023-09-30T17:04:37.552Z"
   },
   {
    "duration": 8,
    "start_time": "2023-09-30T17:04:38.003Z"
   },
   {
    "duration": 96,
    "start_time": "2023-09-30T17:04:38.012Z"
   },
   {
    "duration": 313,
    "start_time": "2023-09-30T17:04:38.110Z"
   },
   {
    "duration": 32,
    "start_time": "2023-09-30T17:04:38.425Z"
   },
   {
    "duration": 41,
    "start_time": "2023-09-30T17:04:38.459Z"
   },
   {
    "duration": 14,
    "start_time": "2023-09-30T17:04:38.502Z"
   },
   {
    "duration": 38,
    "start_time": "2023-09-30T17:04:38.518Z"
   },
   {
    "duration": 42,
    "start_time": "2023-09-30T17:04:38.558Z"
   },
   {
    "duration": 16,
    "start_time": "2023-09-30T17:04:38.602Z"
   },
   {
    "duration": 4,
    "start_time": "2023-09-30T17:04:38.620Z"
   },
   {
    "duration": 46,
    "start_time": "2023-09-30T17:04:38.626Z"
   },
   {
    "duration": 28,
    "start_time": "2023-09-30T17:04:38.673Z"
   },
   {
    "duration": 519,
    "start_time": "2023-09-30T17:04:38.704Z"
   },
   {
    "duration": 4,
    "start_time": "2023-09-30T17:04:39.225Z"
   },
   {
    "duration": 127,
    "start_time": "2023-09-30T17:04:39.231Z"
   },
   {
    "duration": 0,
    "start_time": "2023-09-30T17:04:39.360Z"
   },
   {
    "duration": 0,
    "start_time": "2023-09-30T17:04:39.361Z"
   },
   {
    "duration": 0,
    "start_time": "2023-09-30T17:04:39.362Z"
   },
   {
    "duration": 0,
    "start_time": "2023-09-30T17:04:39.363Z"
   },
   {
    "duration": 0,
    "start_time": "2023-09-30T17:04:39.364Z"
   },
   {
    "duration": 0,
    "start_time": "2023-09-30T17:04:39.365Z"
   },
   {
    "duration": 0,
    "start_time": "2023-09-30T17:04:39.366Z"
   },
   {
    "duration": 0,
    "start_time": "2023-09-30T17:04:39.367Z"
   },
   {
    "duration": 0,
    "start_time": "2023-09-30T17:04:39.368Z"
   },
   {
    "duration": 0,
    "start_time": "2023-09-30T17:04:39.369Z"
   },
   {
    "duration": 0,
    "start_time": "2023-09-30T17:04:39.370Z"
   },
   {
    "duration": 0,
    "start_time": "2023-09-30T17:04:39.370Z"
   },
   {
    "duration": 0,
    "start_time": "2023-09-30T17:04:39.371Z"
   },
   {
    "duration": 0,
    "start_time": "2023-09-30T17:04:39.372Z"
   },
   {
    "duration": 0,
    "start_time": "2023-09-30T17:04:39.373Z"
   },
   {
    "duration": 0,
    "start_time": "2023-09-30T17:04:39.402Z"
   },
   {
    "duration": 0,
    "start_time": "2023-09-30T17:04:39.403Z"
   },
   {
    "duration": 0,
    "start_time": "2023-09-30T17:04:39.404Z"
   },
   {
    "duration": 0,
    "start_time": "2023-09-30T17:04:39.405Z"
   },
   {
    "duration": 0,
    "start_time": "2023-09-30T17:04:39.406Z"
   },
   {
    "duration": 0,
    "start_time": "2023-09-30T17:04:39.407Z"
   },
   {
    "duration": 1666,
    "start_time": "2023-09-30T17:07:44.391Z"
   },
   {
    "duration": 60,
    "start_time": "2023-09-30T17:07:46.059Z"
   },
   {
    "duration": 14,
    "start_time": "2023-09-30T17:07:46.121Z"
   },
   {
    "duration": 30,
    "start_time": "2023-09-30T17:07:46.137Z"
   },
   {
    "duration": 26,
    "start_time": "2023-09-30T17:07:46.170Z"
   },
   {
    "duration": 57,
    "start_time": "2023-09-30T17:07:46.202Z"
   },
   {
    "duration": 17,
    "start_time": "2023-09-30T17:07:46.261Z"
   },
   {
    "duration": 38,
    "start_time": "2023-09-30T17:07:46.279Z"
   },
   {
    "duration": 40,
    "start_time": "2023-09-30T17:07:46.319Z"
   },
   {
    "duration": 23,
    "start_time": "2023-09-30T17:07:46.360Z"
   },
   {
    "duration": 9,
    "start_time": "2023-09-30T17:07:46.385Z"
   },
   {
    "duration": 417,
    "start_time": "2023-09-30T17:07:46.396Z"
   },
   {
    "duration": 19,
    "start_time": "2023-09-30T17:07:46.815Z"
   },
   {
    "duration": 12,
    "start_time": "2023-09-30T17:07:46.838Z"
   },
   {
    "duration": 10,
    "start_time": "2023-09-30T17:07:46.851Z"
   },
   {
    "duration": 336,
    "start_time": "2023-09-30T17:07:46.863Z"
   },
   {
    "duration": 11,
    "start_time": "2023-09-30T17:07:47.201Z"
   },
   {
    "duration": 423,
    "start_time": "2023-09-30T17:07:47.214Z"
   },
   {
    "duration": 9,
    "start_time": "2023-09-30T17:07:47.639Z"
   },
   {
    "duration": 388,
    "start_time": "2023-09-30T17:07:47.650Z"
   },
   {
    "duration": 11,
    "start_time": "2023-09-30T17:07:48.040Z"
   },
   {
    "duration": 431,
    "start_time": "2023-09-30T17:07:48.053Z"
   },
   {
    "duration": 18,
    "start_time": "2023-09-30T17:07:48.486Z"
   },
   {
    "duration": 156,
    "start_time": "2023-09-30T17:07:48.507Z"
   },
   {
    "duration": 376,
    "start_time": "2023-09-30T17:07:48.664Z"
   },
   {
    "duration": 87,
    "start_time": "2023-09-30T17:07:49.042Z"
   },
   {
    "duration": 112,
    "start_time": "2023-09-30T17:07:49.131Z"
   },
   {
    "duration": 182,
    "start_time": "2023-09-30T17:07:49.245Z"
   },
   {
    "duration": 101,
    "start_time": "2023-09-30T17:07:49.429Z"
   },
   {
    "duration": 92,
    "start_time": "2023-09-30T17:07:49.531Z"
   },
   {
    "duration": 91,
    "start_time": "2023-09-30T17:07:49.625Z"
   },
   {
    "duration": 111,
    "start_time": "2023-09-30T17:07:49.718Z"
   },
   {
    "duration": 97,
    "start_time": "2023-09-30T17:07:49.831Z"
   },
   {
    "duration": 9,
    "start_time": "2023-09-30T17:07:49.930Z"
   },
   {
    "duration": 130,
    "start_time": "2023-09-30T17:07:49.941Z"
   },
   {
    "duration": 166,
    "start_time": "2023-09-30T17:07:50.073Z"
   },
   {
    "duration": 10,
    "start_time": "2023-09-30T17:07:50.241Z"
   },
   {
    "duration": 117,
    "start_time": "2023-09-30T17:07:50.253Z"
   },
   {
    "duration": 191,
    "start_time": "2023-09-30T17:07:50.371Z"
   },
   {
    "duration": 80,
    "start_time": "2023-09-30T17:07:50.564Z"
   },
   {
    "duration": 90,
    "start_time": "2023-09-30T17:07:50.649Z"
   },
   {
    "duration": 86,
    "start_time": "2023-09-30T17:07:50.742Z"
   },
   {
    "duration": 101,
    "start_time": "2023-09-30T17:07:50.830Z"
   },
   {
    "duration": 457,
    "start_time": "2023-09-30T17:07:50.933Z"
   },
   {
    "duration": 10,
    "start_time": "2023-09-30T17:07:51.393Z"
   },
   {
    "duration": 320,
    "start_time": "2023-09-30T17:07:51.405Z"
   },
   {
    "duration": 5,
    "start_time": "2023-09-30T17:07:51.726Z"
   },
   {
    "duration": 328,
    "start_time": "2023-09-30T17:07:51.732Z"
   },
   {
    "duration": 5,
    "start_time": "2023-09-30T17:07:52.062Z"
   },
   {
    "duration": 325,
    "start_time": "2023-09-30T17:07:52.068Z"
   },
   {
    "duration": 306,
    "start_time": "2023-09-30T17:07:52.401Z"
   },
   {
    "duration": 77,
    "start_time": "2023-09-30T17:07:52.709Z"
   },
   {
    "duration": 443,
    "start_time": "2023-09-30T17:07:52.788Z"
   },
   {
    "duration": 323,
    "start_time": "2023-09-30T17:07:53.233Z"
   },
   {
    "duration": 308,
    "start_time": "2023-09-30T17:07:53.558Z"
   },
   {
    "duration": 182,
    "start_time": "2023-09-30T17:07:53.867Z"
   },
   {
    "duration": 201,
    "start_time": "2023-09-30T17:07:54.051Z"
   },
   {
    "duration": 183,
    "start_time": "2023-09-30T17:07:54.254Z"
   },
   {
    "duration": 267,
    "start_time": "2023-09-30T17:07:54.439Z"
   },
   {
    "duration": 269,
    "start_time": "2023-09-30T17:07:54.708Z"
   },
   {
    "duration": 177,
    "start_time": "2023-09-30T17:07:54.978Z"
   },
   {
    "duration": 163,
    "start_time": "2023-09-30T17:07:55.157Z"
   },
   {
    "duration": 249,
    "start_time": "2023-09-30T17:07:55.322Z"
   },
   {
    "duration": 238,
    "start_time": "2023-09-30T17:07:55.573Z"
   },
   {
    "duration": 3,
    "start_time": "2023-09-30T17:07:55.813Z"
   },
   {
    "duration": 26,
    "start_time": "2023-09-30T17:07:55.818Z"
   },
   {
    "duration": 214,
    "start_time": "2023-09-30T17:07:55.846Z"
   },
   {
    "duration": 443,
    "start_time": "2023-09-30T17:07:56.061Z"
   },
   {
    "duration": 10,
    "start_time": "2023-09-30T17:07:56.506Z"
   },
   {
    "duration": 390,
    "start_time": "2023-09-30T17:07:56.517Z"
   },
   {
    "duration": 8,
    "start_time": "2023-09-30T17:07:56.909Z"
   },
   {
    "duration": 24,
    "start_time": "2023-09-30T17:07:56.919Z"
   },
   {
    "duration": 32,
    "start_time": "2023-09-30T17:07:56.945Z"
   },
   {
    "duration": 16,
    "start_time": "2023-09-30T17:07:56.979Z"
   },
   {
    "duration": 23,
    "start_time": "2023-09-30T17:07:56.997Z"
   },
   {
    "duration": 19,
    "start_time": "2023-09-30T17:07:57.022Z"
   },
   {
    "duration": 16,
    "start_time": "2023-09-30T17:07:57.043Z"
   },
   {
    "duration": 17,
    "start_time": "2023-09-30T17:07:57.061Z"
   },
   {
    "duration": 22,
    "start_time": "2023-09-30T17:07:57.080Z"
   },
   {
    "duration": 5,
    "start_time": "2023-09-30T17:07:57.104Z"
   },
   {
    "duration": 40,
    "start_time": "2023-09-30T17:07:57.111Z"
   },
   {
    "duration": 13,
    "start_time": "2023-09-30T17:07:57.153Z"
   },
   {
    "duration": 516,
    "start_time": "2023-09-30T17:07:57.168Z"
   },
   {
    "duration": 16,
    "start_time": "2023-09-30T17:07:57.686Z"
   },
   {
    "duration": 356,
    "start_time": "2023-09-30T17:07:57.704Z"
   },
   {
    "duration": 0,
    "start_time": "2023-09-30T17:07:58.062Z"
   },
   {
    "duration": 0,
    "start_time": "2023-09-30T17:07:58.064Z"
   },
   {
    "duration": 0,
    "start_time": "2023-09-30T17:07:58.065Z"
   },
   {
    "duration": 0,
    "start_time": "2023-09-30T17:07:58.067Z"
   },
   {
    "duration": 0,
    "start_time": "2023-09-30T17:07:58.069Z"
   },
   {
    "duration": 0,
    "start_time": "2023-09-30T17:07:58.070Z"
   },
   {
    "duration": 0,
    "start_time": "2023-09-30T17:07:58.072Z"
   },
   {
    "duration": 0,
    "start_time": "2023-09-30T17:07:58.073Z"
   },
   {
    "duration": 0,
    "start_time": "2023-09-30T17:07:58.075Z"
   },
   {
    "duration": 0,
    "start_time": "2023-09-30T17:07:58.076Z"
   },
   {
    "duration": 0,
    "start_time": "2023-09-30T17:07:58.101Z"
   },
   {
    "duration": 0,
    "start_time": "2023-09-30T17:07:58.102Z"
   },
   {
    "duration": 0,
    "start_time": "2023-09-30T17:07:58.104Z"
   },
   {
    "duration": 0,
    "start_time": "2023-09-30T17:07:58.105Z"
   },
   {
    "duration": 0,
    "start_time": "2023-09-30T17:07:58.106Z"
   },
   {
    "duration": 0,
    "start_time": "2023-09-30T17:07:58.107Z"
   },
   {
    "duration": 0,
    "start_time": "2023-09-30T17:07:58.108Z"
   },
   {
    "duration": 0,
    "start_time": "2023-09-30T17:07:58.110Z"
   },
   {
    "duration": 0,
    "start_time": "2023-09-30T17:07:58.110Z"
   },
   {
    "duration": 0,
    "start_time": "2023-09-30T17:07:58.111Z"
   },
   {
    "duration": 0,
    "start_time": "2023-09-30T17:07:58.113Z"
   },
   {
    "duration": 1550,
    "start_time": "2023-09-30T17:11:16.794Z"
   },
   {
    "duration": 57,
    "start_time": "2023-09-30T17:11:18.346Z"
   },
   {
    "duration": 15,
    "start_time": "2023-09-30T17:11:18.405Z"
   },
   {
    "duration": 41,
    "start_time": "2023-09-30T17:11:18.422Z"
   },
   {
    "duration": 50,
    "start_time": "2023-09-30T17:11:18.467Z"
   },
   {
    "duration": 52,
    "start_time": "2023-09-30T17:11:18.519Z"
   },
   {
    "duration": 21,
    "start_time": "2023-09-30T17:11:18.573Z"
   },
   {
    "duration": 126,
    "start_time": "2023-09-30T17:11:18.597Z"
   },
   {
    "duration": 50,
    "start_time": "2023-09-30T17:11:18.726Z"
   },
   {
    "duration": 49,
    "start_time": "2023-09-30T17:11:18.778Z"
   },
   {
    "duration": 21,
    "start_time": "2023-09-30T17:11:18.830Z"
   },
   {
    "duration": 378,
    "start_time": "2023-09-30T17:11:18.853Z"
   },
   {
    "duration": 17,
    "start_time": "2023-09-30T17:11:19.233Z"
   },
   {
    "duration": 14,
    "start_time": "2023-09-30T17:11:19.253Z"
   },
   {
    "duration": 26,
    "start_time": "2023-09-30T17:11:19.269Z"
   },
   {
    "duration": 301,
    "start_time": "2023-09-30T17:11:19.300Z"
   },
   {
    "duration": 9,
    "start_time": "2023-09-30T17:11:19.603Z"
   },
   {
    "duration": 392,
    "start_time": "2023-09-30T17:11:19.613Z"
   },
   {
    "duration": 9,
    "start_time": "2023-09-30T17:11:20.007Z"
   },
   {
    "duration": 415,
    "start_time": "2023-09-30T17:11:20.018Z"
   },
   {
    "duration": 9,
    "start_time": "2023-09-30T17:11:20.435Z"
   },
   {
    "duration": 404,
    "start_time": "2023-09-30T17:11:20.446Z"
   },
   {
    "duration": 9,
    "start_time": "2023-09-30T17:11:20.853Z"
   },
   {
    "duration": 147,
    "start_time": "2023-09-30T17:11:20.864Z"
   },
   {
    "duration": 370,
    "start_time": "2023-09-30T17:11:21.013Z"
   },
   {
    "duration": 85,
    "start_time": "2023-09-30T17:11:21.385Z"
   },
   {
    "duration": 167,
    "start_time": "2023-09-30T17:11:21.472Z"
   },
   {
    "duration": 197,
    "start_time": "2023-09-30T17:11:21.641Z"
   },
   {
    "duration": 94,
    "start_time": "2023-09-30T17:11:21.840Z"
   },
   {
    "duration": 94,
    "start_time": "2023-09-30T17:11:21.936Z"
   },
   {
    "duration": 86,
    "start_time": "2023-09-30T17:11:22.032Z"
   },
   {
    "duration": 86,
    "start_time": "2023-09-30T17:11:22.120Z"
   },
   {
    "duration": 103,
    "start_time": "2023-09-30T17:11:22.208Z"
   },
   {
    "duration": 8,
    "start_time": "2023-09-30T17:11:22.312Z"
   },
   {
    "duration": 116,
    "start_time": "2023-09-30T17:11:22.322Z"
   },
   {
    "duration": 163,
    "start_time": "2023-09-30T17:11:22.440Z"
   },
   {
    "duration": 7,
    "start_time": "2023-09-30T17:11:22.605Z"
   },
   {
    "duration": 108,
    "start_time": "2023-09-30T17:11:22.613Z"
   },
   {
    "duration": 165,
    "start_time": "2023-09-30T17:11:22.723Z"
   },
   {
    "duration": 71,
    "start_time": "2023-09-30T17:11:22.890Z"
   },
   {
    "duration": 82,
    "start_time": "2023-09-30T17:11:22.966Z"
   },
   {
    "duration": 85,
    "start_time": "2023-09-30T17:11:23.050Z"
   },
   {
    "duration": 100,
    "start_time": "2023-09-30T17:11:23.137Z"
   },
   {
    "duration": 405,
    "start_time": "2023-09-30T17:11:23.240Z"
   },
   {
    "duration": 5,
    "start_time": "2023-09-30T17:11:23.646Z"
   },
   {
    "duration": 329,
    "start_time": "2023-09-30T17:11:23.653Z"
   },
   {
    "duration": 4,
    "start_time": "2023-09-30T17:11:23.984Z"
   },
   {
    "duration": 305,
    "start_time": "2023-09-30T17:11:24.000Z"
   },
   {
    "duration": 5,
    "start_time": "2023-09-30T17:11:24.307Z"
   },
   {
    "duration": 347,
    "start_time": "2023-09-30T17:11:24.314Z"
   },
   {
    "duration": 335,
    "start_time": "2023-09-30T17:11:24.663Z"
   },
   {
    "duration": 5,
    "start_time": "2023-09-30T17:11:25.001Z"
   },
   {
    "duration": 396,
    "start_time": "2023-09-30T17:11:25.008Z"
   },
   {
    "duration": 288,
    "start_time": "2023-09-30T17:11:25.406Z"
   },
   {
    "duration": 291,
    "start_time": "2023-09-30T17:11:25.696Z"
   },
   {
    "duration": 180,
    "start_time": "2023-09-30T17:11:25.989Z"
   },
   {
    "duration": 184,
    "start_time": "2023-09-30T17:11:26.171Z"
   },
   {
    "duration": 183,
    "start_time": "2023-09-30T17:11:26.356Z"
   },
   {
    "duration": 243,
    "start_time": "2023-09-30T17:11:26.540Z"
   },
   {
    "duration": 241,
    "start_time": "2023-09-30T17:11:26.785Z"
   },
   {
    "duration": 168,
    "start_time": "2023-09-30T17:11:27.028Z"
   },
   {
    "duration": 164,
    "start_time": "2023-09-30T17:11:27.201Z"
   },
   {
    "duration": 263,
    "start_time": "2023-09-30T17:11:27.367Z"
   },
   {
    "duration": 243,
    "start_time": "2023-09-30T17:11:27.632Z"
   },
   {
    "duration": 3,
    "start_time": "2023-09-30T17:11:27.877Z"
   },
   {
    "duration": 20,
    "start_time": "2023-09-30T17:11:27.882Z"
   },
   {
    "duration": 221,
    "start_time": "2023-09-30T17:11:27.904Z"
   },
   {
    "duration": 392,
    "start_time": "2023-09-30T17:11:28.127Z"
   },
   {
    "duration": 14,
    "start_time": "2023-09-30T17:11:28.521Z"
   },
   {
    "duration": 445,
    "start_time": "2023-09-30T17:11:28.537Z"
   },
   {
    "duration": 17,
    "start_time": "2023-09-30T17:11:28.984Z"
   },
   {
    "duration": 15,
    "start_time": "2023-09-30T17:11:29.003Z"
   },
   {
    "duration": 32,
    "start_time": "2023-09-30T17:11:29.020Z"
   },
   {
    "duration": 30,
    "start_time": "2023-09-30T17:11:29.054Z"
   },
   {
    "duration": 24,
    "start_time": "2023-09-30T17:11:29.086Z"
   },
   {
    "duration": 41,
    "start_time": "2023-09-30T17:11:29.112Z"
   },
   {
    "duration": 14,
    "start_time": "2023-09-30T17:11:29.155Z"
   },
   {
    "duration": 20,
    "start_time": "2023-09-30T17:11:29.171Z"
   },
   {
    "duration": 24,
    "start_time": "2023-09-30T17:11:29.192Z"
   },
   {
    "duration": 4,
    "start_time": "2023-09-30T17:11:29.218Z"
   },
   {
    "duration": 5,
    "start_time": "2023-09-30T17:11:29.224Z"
   },
   {
    "duration": 12,
    "start_time": "2023-09-30T17:11:29.231Z"
   },
   {
    "duration": 497,
    "start_time": "2023-09-30T17:11:29.244Z"
   },
   {
    "duration": 4,
    "start_time": "2023-09-30T17:11:29.742Z"
   },
   {
    "duration": 139,
    "start_time": "2023-09-30T17:11:29.748Z"
   },
   {
    "duration": 0,
    "start_time": "2023-09-30T17:11:29.889Z"
   },
   {
    "duration": 0,
    "start_time": "2023-09-30T17:11:29.890Z"
   },
   {
    "duration": 0,
    "start_time": "2023-09-30T17:11:29.891Z"
   },
   {
    "duration": 0,
    "start_time": "2023-09-30T17:11:29.892Z"
   },
   {
    "duration": 0,
    "start_time": "2023-09-30T17:11:29.901Z"
   },
   {
    "duration": 1,
    "start_time": "2023-09-30T17:11:29.902Z"
   },
   {
    "duration": 0,
    "start_time": "2023-09-30T17:11:29.904Z"
   },
   {
    "duration": 0,
    "start_time": "2023-09-30T17:11:29.905Z"
   },
   {
    "duration": 0,
    "start_time": "2023-09-30T17:11:29.906Z"
   },
   {
    "duration": 0,
    "start_time": "2023-09-30T17:11:29.908Z"
   },
   {
    "duration": 0,
    "start_time": "2023-09-30T17:11:29.909Z"
   },
   {
    "duration": 0,
    "start_time": "2023-09-30T17:11:29.910Z"
   },
   {
    "duration": 0,
    "start_time": "2023-09-30T17:11:29.911Z"
   },
   {
    "duration": 0,
    "start_time": "2023-09-30T17:11:29.912Z"
   },
   {
    "duration": 0,
    "start_time": "2023-09-30T17:11:29.914Z"
   },
   {
    "duration": 0,
    "start_time": "2023-09-30T17:11:29.915Z"
   },
   {
    "duration": 0,
    "start_time": "2023-09-30T17:11:29.916Z"
   },
   {
    "duration": 0,
    "start_time": "2023-09-30T17:11:29.917Z"
   },
   {
    "duration": 0,
    "start_time": "2023-09-30T17:11:29.918Z"
   },
   {
    "duration": 0,
    "start_time": "2023-09-30T17:11:29.919Z"
   },
   {
    "duration": 0,
    "start_time": "2023-09-30T17:11:29.920Z"
   },
   {
    "duration": 1495,
    "start_time": "2023-09-30T17:13:18.317Z"
   },
   {
    "duration": 57,
    "start_time": "2023-09-30T17:13:19.814Z"
   },
   {
    "duration": 13,
    "start_time": "2023-09-30T17:13:19.873Z"
   },
   {
    "duration": 33,
    "start_time": "2023-09-30T17:13:19.888Z"
   },
   {
    "duration": 43,
    "start_time": "2023-09-30T17:13:19.924Z"
   },
   {
    "duration": 50,
    "start_time": "2023-09-30T17:13:19.969Z"
   },
   {
    "duration": 67,
    "start_time": "2023-09-30T17:13:20.022Z"
   },
   {
    "duration": 33,
    "start_time": "2023-09-30T17:13:20.091Z"
   },
   {
    "duration": 32,
    "start_time": "2023-09-30T17:13:20.126Z"
   },
   {
    "duration": 29,
    "start_time": "2023-09-30T17:13:20.160Z"
   },
   {
    "duration": 14,
    "start_time": "2023-09-30T17:13:20.191Z"
   },
   {
    "duration": 396,
    "start_time": "2023-09-30T17:13:20.207Z"
   },
   {
    "duration": 18,
    "start_time": "2023-09-30T17:13:20.605Z"
   },
   {
    "duration": 34,
    "start_time": "2023-09-30T17:13:20.626Z"
   },
   {
    "duration": 60,
    "start_time": "2023-09-30T17:13:20.662Z"
   },
   {
    "duration": 311,
    "start_time": "2023-09-30T17:13:20.724Z"
   },
   {
    "duration": 8,
    "start_time": "2023-09-30T17:13:21.037Z"
   },
   {
    "duration": 436,
    "start_time": "2023-09-30T17:13:21.047Z"
   },
   {
    "duration": 8,
    "start_time": "2023-09-30T17:13:21.484Z"
   },
   {
    "duration": 415,
    "start_time": "2023-09-30T17:13:21.493Z"
   },
   {
    "duration": 9,
    "start_time": "2023-09-30T17:13:21.910Z"
   },
   {
    "duration": 566,
    "start_time": "2023-09-30T17:13:21.921Z"
   },
   {
    "duration": 18,
    "start_time": "2023-09-30T17:13:22.489Z"
   },
   {
    "duration": 126,
    "start_time": "2023-09-30T17:13:22.509Z"
   },
   {
    "duration": 363,
    "start_time": "2023-09-30T17:13:22.636Z"
   },
   {
    "duration": 75,
    "start_time": "2023-09-30T17:13:23.001Z"
   },
   {
    "duration": 95,
    "start_time": "2023-09-30T17:13:23.078Z"
   },
   {
    "duration": 186,
    "start_time": "2023-09-30T17:13:23.175Z"
   },
   {
    "duration": 94,
    "start_time": "2023-09-30T17:13:23.362Z"
   },
   {
    "duration": 89,
    "start_time": "2023-09-30T17:13:23.458Z"
   },
   {
    "duration": 80,
    "start_time": "2023-09-30T17:13:23.549Z"
   },
   {
    "duration": 89,
    "start_time": "2023-09-30T17:13:23.630Z"
   },
   {
    "duration": 112,
    "start_time": "2023-09-30T17:13:23.721Z"
   },
   {
    "duration": 9,
    "start_time": "2023-09-30T17:13:23.834Z"
   },
   {
    "duration": 135,
    "start_time": "2023-09-30T17:13:23.845Z"
   },
   {
    "duration": 160,
    "start_time": "2023-09-30T17:13:23.982Z"
   },
   {
    "duration": 8,
    "start_time": "2023-09-30T17:13:24.144Z"
   },
   {
    "duration": 124,
    "start_time": "2023-09-30T17:13:24.153Z"
   },
   {
    "duration": 179,
    "start_time": "2023-09-30T17:13:24.279Z"
   },
   {
    "duration": 97,
    "start_time": "2023-09-30T17:13:24.460Z"
   },
   {
    "duration": 92,
    "start_time": "2023-09-30T17:13:24.563Z"
   },
   {
    "duration": 108,
    "start_time": "2023-09-30T17:13:24.657Z"
   },
   {
    "duration": 101,
    "start_time": "2023-09-30T17:13:24.767Z"
   },
   {
    "duration": 386,
    "start_time": "2023-09-30T17:13:24.870Z"
   },
   {
    "duration": 5,
    "start_time": "2023-09-30T17:13:25.259Z"
   },
   {
    "duration": 327,
    "start_time": "2023-09-30T17:13:25.265Z"
   },
   {
    "duration": 9,
    "start_time": "2023-09-30T17:13:25.594Z"
   },
   {
    "duration": 398,
    "start_time": "2023-09-30T17:13:25.605Z"
   },
   {
    "duration": 5,
    "start_time": "2023-09-30T17:13:26.005Z"
   },
   {
    "duration": 295,
    "start_time": "2023-09-30T17:13:26.011Z"
   },
   {
    "duration": 315,
    "start_time": "2023-09-30T17:13:26.307Z"
   },
   {
    "duration": 5,
    "start_time": "2023-09-30T17:13:26.623Z"
   },
   {
    "duration": 416,
    "start_time": "2023-09-30T17:13:26.629Z"
   },
   {
    "duration": 285,
    "start_time": "2023-09-30T17:13:27.047Z"
   },
   {
    "duration": 307,
    "start_time": "2023-09-30T17:13:27.335Z"
   },
   {
    "duration": 185,
    "start_time": "2023-09-30T17:13:27.645Z"
   },
   {
    "duration": 183,
    "start_time": "2023-09-30T17:13:27.832Z"
   },
   {
    "duration": 180,
    "start_time": "2023-09-30T17:13:28.017Z"
   },
   {
    "duration": 241,
    "start_time": "2023-09-30T17:13:28.202Z"
   },
   {
    "duration": 264,
    "start_time": "2023-09-30T17:13:28.444Z"
   },
   {
    "duration": 169,
    "start_time": "2023-09-30T17:13:28.710Z"
   },
   {
    "duration": 159,
    "start_time": "2023-09-30T17:13:28.881Z"
   },
   {
    "duration": 250,
    "start_time": "2023-09-30T17:13:29.042Z"
   },
   {
    "duration": 248,
    "start_time": "2023-09-30T17:13:29.301Z"
   },
   {
    "duration": 3,
    "start_time": "2023-09-30T17:13:29.551Z"
   },
   {
    "duration": 17,
    "start_time": "2023-09-30T17:13:29.556Z"
   },
   {
    "duration": 228,
    "start_time": "2023-09-30T17:13:29.575Z"
   },
   {
    "duration": 413,
    "start_time": "2023-09-30T17:13:29.805Z"
   },
   {
    "duration": 11,
    "start_time": "2023-09-30T17:13:30.220Z"
   },
   {
    "duration": 479,
    "start_time": "2023-09-30T17:13:30.233Z"
   },
   {
    "duration": 13,
    "start_time": "2023-09-30T17:13:30.714Z"
   },
   {
    "duration": 245,
    "start_time": "2023-09-30T17:13:30.730Z"
   },
   {
    "duration": 48,
    "start_time": "2023-09-30T17:13:30.977Z"
   },
   {
    "duration": 54,
    "start_time": "2023-09-30T17:13:31.026Z"
   },
   {
    "duration": 60,
    "start_time": "2023-09-30T17:13:31.082Z"
   },
   {
    "duration": 54,
    "start_time": "2023-09-30T17:13:31.144Z"
   },
   {
    "duration": 36,
    "start_time": "2023-09-30T17:13:31.200Z"
   },
   {
    "duration": 81,
    "start_time": "2023-09-30T17:13:31.238Z"
   },
   {
    "duration": 96,
    "start_time": "2023-09-30T17:13:31.321Z"
   },
   {
    "duration": 307,
    "start_time": "2023-09-30T17:13:31.419Z"
   },
   {
    "duration": 335,
    "start_time": "2023-09-30T17:13:31.728Z"
   },
   {
    "duration": 0,
    "start_time": "2023-09-30T17:13:32.064Z"
   },
   {
    "duration": 0,
    "start_time": "2023-09-30T17:13:32.065Z"
   },
   {
    "duration": 0,
    "start_time": "2023-09-30T17:13:32.066Z"
   },
   {
    "duration": 0,
    "start_time": "2023-09-30T17:13:32.067Z"
   },
   {
    "duration": 0,
    "start_time": "2023-09-30T17:13:32.068Z"
   },
   {
    "duration": 0,
    "start_time": "2023-09-30T17:13:32.070Z"
   },
   {
    "duration": 0,
    "start_time": "2023-09-30T17:13:32.071Z"
   },
   {
    "duration": 0,
    "start_time": "2023-09-30T17:13:32.072Z"
   },
   {
    "duration": 0,
    "start_time": "2023-09-30T17:13:32.073Z"
   },
   {
    "duration": 0,
    "start_time": "2023-09-30T17:13:32.074Z"
   },
   {
    "duration": 0,
    "start_time": "2023-09-30T17:13:32.075Z"
   },
   {
    "duration": 0,
    "start_time": "2023-09-30T17:13:32.076Z"
   },
   {
    "duration": 0,
    "start_time": "2023-09-30T17:13:32.077Z"
   },
   {
    "duration": 0,
    "start_time": "2023-09-30T17:13:32.102Z"
   },
   {
    "duration": 0,
    "start_time": "2023-09-30T17:13:32.102Z"
   },
   {
    "duration": 0,
    "start_time": "2023-09-30T17:13:32.103Z"
   },
   {
    "duration": 0,
    "start_time": "2023-09-30T17:13:32.104Z"
   },
   {
    "duration": 0,
    "start_time": "2023-09-30T17:13:32.105Z"
   },
   {
    "duration": 0,
    "start_time": "2023-09-30T17:13:32.106Z"
   },
   {
    "duration": 0,
    "start_time": "2023-09-30T17:13:32.108Z"
   },
   {
    "duration": 0,
    "start_time": "2023-09-30T17:13:32.109Z"
   },
   {
    "duration": 0,
    "start_time": "2023-09-30T17:13:32.110Z"
   },
   {
    "duration": 0,
    "start_time": "2023-09-30T17:13:32.111Z"
   },
   {
    "duration": 0,
    "start_time": "2023-09-30T17:13:32.113Z"
   },
   {
    "duration": 0,
    "start_time": "2023-09-30T17:13:32.114Z"
   },
   {
    "duration": 1491,
    "start_time": "2023-09-30T17:15:55.490Z"
   },
   {
    "duration": 56,
    "start_time": "2023-09-30T17:15:56.983Z"
   },
   {
    "duration": 12,
    "start_time": "2023-09-30T17:15:57.041Z"
   },
   {
    "duration": 40,
    "start_time": "2023-09-30T17:15:57.055Z"
   },
   {
    "duration": 42,
    "start_time": "2023-09-30T17:15:57.097Z"
   },
   {
    "duration": 44,
    "start_time": "2023-09-30T17:15:57.141Z"
   },
   {
    "duration": 9,
    "start_time": "2023-09-30T17:15:57.187Z"
   },
   {
    "duration": 25,
    "start_time": "2023-09-30T17:15:57.198Z"
   },
   {
    "duration": 21,
    "start_time": "2023-09-30T17:15:57.225Z"
   },
   {
    "duration": 21,
    "start_time": "2023-09-30T17:15:57.247Z"
   },
   {
    "duration": 14,
    "start_time": "2023-09-30T17:15:57.270Z"
   },
   {
    "duration": 357,
    "start_time": "2023-09-30T17:15:57.286Z"
   },
   {
    "duration": 19,
    "start_time": "2023-09-30T17:15:57.646Z"
   },
   {
    "duration": 17,
    "start_time": "2023-09-30T17:15:57.669Z"
   },
   {
    "duration": 28,
    "start_time": "2023-09-30T17:15:57.700Z"
   },
   {
    "duration": 308,
    "start_time": "2023-09-30T17:15:57.730Z"
   },
   {
    "duration": 10,
    "start_time": "2023-09-30T17:15:58.040Z"
   },
   {
    "duration": 395,
    "start_time": "2023-09-30T17:15:58.052Z"
   },
   {
    "duration": 9,
    "start_time": "2023-09-30T17:15:58.448Z"
   },
   {
    "duration": 443,
    "start_time": "2023-09-30T17:15:58.458Z"
   },
   {
    "duration": 8,
    "start_time": "2023-09-30T17:15:58.903Z"
   },
   {
    "duration": 372,
    "start_time": "2023-09-30T17:15:58.913Z"
   },
   {
    "duration": 8,
    "start_time": "2023-09-30T17:15:59.287Z"
   },
   {
    "duration": 119,
    "start_time": "2023-09-30T17:15:59.300Z"
   },
   {
    "duration": 365,
    "start_time": "2023-09-30T17:15:59.420Z"
   },
   {
    "duration": 87,
    "start_time": "2023-09-30T17:15:59.787Z"
   },
   {
    "duration": 100,
    "start_time": "2023-09-30T17:15:59.877Z"
   },
   {
    "duration": 185,
    "start_time": "2023-09-30T17:15:59.979Z"
   },
   {
    "duration": 330,
    "start_time": "2023-09-30T17:16:00.165Z"
   },
   {
    "duration": 320,
    "start_time": "2023-09-30T17:16:00.497Z"
   },
   {
    "duration": 251,
    "start_time": "2023-09-30T17:16:00.819Z"
   },
   {
    "duration": 93,
    "start_time": "2023-09-30T17:16:01.071Z"
   },
   {
    "duration": 95,
    "start_time": "2023-09-30T17:16:01.166Z"
   },
   {
    "duration": 8,
    "start_time": "2023-09-30T17:16:01.263Z"
   },
   {
    "duration": 138,
    "start_time": "2023-09-30T17:16:01.273Z"
   },
   {
    "duration": 163,
    "start_time": "2023-09-30T17:16:01.413Z"
   },
   {
    "duration": 8,
    "start_time": "2023-09-30T17:16:01.578Z"
   },
   {
    "duration": 133,
    "start_time": "2023-09-30T17:16:01.588Z"
   },
   {
    "duration": 161,
    "start_time": "2023-09-30T17:16:01.723Z"
   },
   {
    "duration": 82,
    "start_time": "2023-09-30T17:16:01.886Z"
   },
   {
    "duration": 84,
    "start_time": "2023-09-30T17:16:01.975Z"
   },
   {
    "duration": 85,
    "start_time": "2023-09-30T17:16:02.060Z"
   },
   {
    "duration": 120,
    "start_time": "2023-09-30T17:16:02.146Z"
   },
   {
    "duration": 405,
    "start_time": "2023-09-30T17:16:02.268Z"
   },
   {
    "duration": 6,
    "start_time": "2023-09-30T17:16:02.674Z"
   },
   {
    "duration": 314,
    "start_time": "2023-09-30T17:16:02.682Z"
   },
   {
    "duration": 5,
    "start_time": "2023-09-30T17:16:03.000Z"
   },
   {
    "duration": 312,
    "start_time": "2023-09-30T17:16:03.007Z"
   },
   {
    "duration": 5,
    "start_time": "2023-09-30T17:16:03.321Z"
   },
   {
    "duration": 403,
    "start_time": "2023-09-30T17:16:03.327Z"
   },
   {
    "duration": 307,
    "start_time": "2023-09-30T17:16:03.732Z"
   },
   {
    "duration": 4,
    "start_time": "2023-09-30T17:16:04.041Z"
   },
   {
    "duration": 418,
    "start_time": "2023-09-30T17:16:04.046Z"
   },
   {
    "duration": 342,
    "start_time": "2023-09-30T17:16:04.466Z"
   },
   {
    "duration": 319,
    "start_time": "2023-09-30T17:16:04.810Z"
   },
   {
    "duration": 176,
    "start_time": "2023-09-30T17:16:05.131Z"
   },
   {
    "duration": 194,
    "start_time": "2023-09-30T17:16:05.309Z"
   },
   {
    "duration": 177,
    "start_time": "2023-09-30T17:16:05.505Z"
   },
   {
    "duration": 250,
    "start_time": "2023-09-30T17:16:05.684Z"
   },
   {
    "duration": 231,
    "start_time": "2023-09-30T17:16:05.936Z"
   },
   {
    "duration": 166,
    "start_time": "2023-09-30T17:16:06.169Z"
   },
   {
    "duration": 168,
    "start_time": "2023-09-30T17:16:06.337Z"
   },
   {
    "duration": 252,
    "start_time": "2023-09-30T17:16:06.506Z"
   },
   {
    "duration": 251,
    "start_time": "2023-09-30T17:16:06.760Z"
   },
   {
    "duration": 3,
    "start_time": "2023-09-30T17:16:07.013Z"
   },
   {
    "duration": 10,
    "start_time": "2023-09-30T17:16:07.018Z"
   },
   {
    "duration": 221,
    "start_time": "2023-09-30T17:16:07.030Z"
   },
   {
    "duration": 440,
    "start_time": "2023-09-30T17:16:07.252Z"
   },
   {
    "duration": 15,
    "start_time": "2023-09-30T17:16:07.694Z"
   },
   {
    "duration": 397,
    "start_time": "2023-09-30T17:16:07.711Z"
   },
   {
    "duration": 8,
    "start_time": "2023-09-30T17:16:08.109Z"
   },
   {
    "duration": 29,
    "start_time": "2023-09-30T17:16:08.119Z"
   },
   {
    "duration": 44,
    "start_time": "2023-09-30T17:16:08.150Z"
   },
   {
    "duration": 28,
    "start_time": "2023-09-30T17:16:08.196Z"
   },
   {
    "duration": 72,
    "start_time": "2023-09-30T17:16:08.226Z"
   },
   {
    "duration": 83,
    "start_time": "2023-09-30T17:16:08.300Z"
   },
   {
    "duration": 56,
    "start_time": "2023-09-30T17:16:08.386Z"
   },
   {
    "duration": 194,
    "start_time": "2023-09-30T17:16:08.444Z"
   },
   {
    "duration": 66,
    "start_time": "2023-09-30T17:16:08.642Z"
   },
   {
    "duration": 11,
    "start_time": "2023-09-30T17:16:08.710Z"
   },
   {
    "duration": 27,
    "start_time": "2023-09-30T17:16:08.723Z"
   },
   {
    "duration": 32,
    "start_time": "2023-09-30T17:16:08.752Z"
   },
   {
    "duration": 670,
    "start_time": "2023-09-30T17:16:08.786Z"
   },
   {
    "duration": 5,
    "start_time": "2023-09-30T17:16:09.457Z"
   },
   {
    "duration": 132,
    "start_time": "2023-09-30T17:16:09.464Z"
   },
   {
    "duration": 0,
    "start_time": "2023-09-30T17:16:09.601Z"
   },
   {
    "duration": 0,
    "start_time": "2023-09-30T17:16:09.602Z"
   },
   {
    "duration": 0,
    "start_time": "2023-09-30T17:16:09.604Z"
   },
   {
    "duration": 0,
    "start_time": "2023-09-30T17:16:09.605Z"
   },
   {
    "duration": 0,
    "start_time": "2023-09-30T17:16:09.606Z"
   },
   {
    "duration": 0,
    "start_time": "2023-09-30T17:16:09.607Z"
   },
   {
    "duration": 0,
    "start_time": "2023-09-30T17:16:09.608Z"
   },
   {
    "duration": 0,
    "start_time": "2023-09-30T17:16:09.609Z"
   },
   {
    "duration": 0,
    "start_time": "2023-09-30T17:16:09.611Z"
   },
   {
    "duration": 0,
    "start_time": "2023-09-30T17:16:09.612Z"
   },
   {
    "duration": 0,
    "start_time": "2023-09-30T17:16:09.614Z"
   },
   {
    "duration": 0,
    "start_time": "2023-09-30T17:16:09.615Z"
   },
   {
    "duration": 0,
    "start_time": "2023-09-30T17:16:09.617Z"
   },
   {
    "duration": 0,
    "start_time": "2023-09-30T17:16:09.618Z"
   },
   {
    "duration": 0,
    "start_time": "2023-09-30T17:16:09.620Z"
   },
   {
    "duration": 0,
    "start_time": "2023-09-30T17:16:09.622Z"
   },
   {
    "duration": 0,
    "start_time": "2023-09-30T17:16:09.623Z"
   },
   {
    "duration": 0,
    "start_time": "2023-09-30T17:16:09.624Z"
   },
   {
    "duration": 0,
    "start_time": "2023-09-30T17:16:09.624Z"
   },
   {
    "duration": 0,
    "start_time": "2023-09-30T17:16:09.626Z"
   },
   {
    "duration": 0,
    "start_time": "2023-09-30T17:16:09.627Z"
   },
   {
    "duration": 1476,
    "start_time": "2023-09-30T17:26:35.722Z"
   },
   {
    "duration": 56,
    "start_time": "2023-09-30T17:26:37.200Z"
   },
   {
    "duration": 101,
    "start_time": "2023-09-30T17:26:37.258Z"
   },
   {
    "duration": 63,
    "start_time": "2023-09-30T17:26:37.362Z"
   },
   {
    "duration": 33,
    "start_time": "2023-09-30T17:26:37.427Z"
   },
   {
    "duration": 38,
    "start_time": "2023-09-30T17:26:37.462Z"
   },
   {
    "duration": 9,
    "start_time": "2023-09-30T17:26:37.502Z"
   },
   {
    "duration": 35,
    "start_time": "2023-09-30T17:26:37.513Z"
   },
   {
    "duration": 20,
    "start_time": "2023-09-30T17:26:37.549Z"
   },
   {
    "duration": 19,
    "start_time": "2023-09-30T17:26:37.572Z"
   },
   {
    "duration": 25,
    "start_time": "2023-09-30T17:26:37.593Z"
   },
   {
    "duration": 383,
    "start_time": "2023-09-30T17:26:37.620Z"
   },
   {
    "duration": 17,
    "start_time": "2023-09-30T17:26:38.005Z"
   },
   {
    "duration": 16,
    "start_time": "2023-09-30T17:26:38.024Z"
   },
   {
    "duration": 31,
    "start_time": "2023-09-30T17:26:38.042Z"
   },
   {
    "duration": 352,
    "start_time": "2023-09-30T17:26:38.075Z"
   },
   {
    "duration": 9,
    "start_time": "2023-09-30T17:26:38.429Z"
   },
   {
    "duration": 528,
    "start_time": "2023-09-30T17:26:38.439Z"
   },
   {
    "duration": 8,
    "start_time": "2023-09-30T17:26:38.969Z"
   },
   {
    "duration": 354,
    "start_time": "2023-09-30T17:26:38.978Z"
   },
   {
    "duration": 9,
    "start_time": "2023-09-30T17:26:39.334Z"
   },
   {
    "duration": 370,
    "start_time": "2023-09-30T17:26:39.344Z"
   },
   {
    "duration": 8,
    "start_time": "2023-09-30T17:26:39.716Z"
   },
   {
    "duration": 134,
    "start_time": "2023-09-30T17:26:39.726Z"
   },
   {
    "duration": 355,
    "start_time": "2023-09-30T17:26:39.861Z"
   },
   {
    "duration": 88,
    "start_time": "2023-09-30T17:26:40.218Z"
   },
   {
    "duration": 95,
    "start_time": "2023-09-30T17:26:40.308Z"
   },
   {
    "duration": 179,
    "start_time": "2023-09-30T17:26:40.407Z"
   },
   {
    "duration": 91,
    "start_time": "2023-09-30T17:26:40.587Z"
   },
   {
    "duration": 84,
    "start_time": "2023-09-30T17:26:40.680Z"
   },
   {
    "duration": 86,
    "start_time": "2023-09-30T17:26:40.765Z"
   },
   {
    "duration": 86,
    "start_time": "2023-09-30T17:26:40.852Z"
   },
   {
    "duration": 107,
    "start_time": "2023-09-30T17:26:40.940Z"
   },
   {
    "duration": 9,
    "start_time": "2023-09-30T17:26:41.049Z"
   },
   {
    "duration": 130,
    "start_time": "2023-09-30T17:26:41.060Z"
   },
   {
    "duration": 162,
    "start_time": "2023-09-30T17:26:41.192Z"
   },
   {
    "duration": 9,
    "start_time": "2023-09-30T17:26:41.356Z"
   },
   {
    "duration": 110,
    "start_time": "2023-09-30T17:26:41.367Z"
   },
   {
    "duration": 166,
    "start_time": "2023-09-30T17:26:41.479Z"
   },
   {
    "duration": 82,
    "start_time": "2023-09-30T17:26:41.647Z"
   },
   {
    "duration": 74,
    "start_time": "2023-09-30T17:26:41.731Z"
   },
   {
    "duration": 74,
    "start_time": "2023-09-30T17:26:41.807Z"
   },
   {
    "duration": 106,
    "start_time": "2023-09-30T17:26:41.882Z"
   },
   {
    "duration": 387,
    "start_time": "2023-09-30T17:26:42.002Z"
   },
   {
    "duration": 12,
    "start_time": "2023-09-30T17:26:42.391Z"
   },
   {
    "duration": 297,
    "start_time": "2023-09-30T17:26:42.404Z"
   },
   {
    "duration": 4,
    "start_time": "2023-09-30T17:26:42.703Z"
   },
   {
    "duration": 308,
    "start_time": "2023-09-30T17:26:42.709Z"
   },
   {
    "duration": 5,
    "start_time": "2023-09-30T17:26:43.018Z"
   },
   {
    "duration": 317,
    "start_time": "2023-09-30T17:26:43.024Z"
   },
   {
    "duration": 306,
    "start_time": "2023-09-30T17:26:43.343Z"
   },
   {
    "duration": 6,
    "start_time": "2023-09-30T17:26:43.651Z"
   },
   {
    "duration": 428,
    "start_time": "2023-09-30T17:26:43.659Z"
   },
   {
    "duration": 314,
    "start_time": "2023-09-30T17:26:44.089Z"
   },
   {
    "duration": 354,
    "start_time": "2023-09-30T17:26:44.405Z"
   },
   {
    "duration": 192,
    "start_time": "2023-09-30T17:26:44.761Z"
   },
   {
    "duration": 201,
    "start_time": "2023-09-30T17:26:44.955Z"
   },
   {
    "duration": 184,
    "start_time": "2023-09-30T17:26:45.158Z"
   },
   {
    "duration": 258,
    "start_time": "2023-09-30T17:26:45.343Z"
   },
   {
    "duration": 238,
    "start_time": "2023-09-30T17:26:45.603Z"
   },
   {
    "duration": 175,
    "start_time": "2023-09-30T17:26:45.843Z"
   },
   {
    "duration": 152,
    "start_time": "2023-09-30T17:26:46.020Z"
   },
   {
    "duration": 260,
    "start_time": "2023-09-30T17:26:46.173Z"
   },
   {
    "duration": 247,
    "start_time": "2023-09-30T17:26:46.435Z"
   },
   {
    "duration": 3,
    "start_time": "2023-09-30T17:26:46.685Z"
   },
   {
    "duration": 6,
    "start_time": "2023-09-30T17:26:46.700Z"
   },
   {
    "duration": 233,
    "start_time": "2023-09-30T17:26:46.708Z"
   },
   {
    "duration": 398,
    "start_time": "2023-09-30T17:26:46.943Z"
   },
   {
    "duration": 10,
    "start_time": "2023-09-30T17:26:47.343Z"
   },
   {
    "duration": 427,
    "start_time": "2023-09-30T17:26:47.355Z"
   },
   {
    "duration": 7,
    "start_time": "2023-09-30T17:26:47.784Z"
   },
   {
    "duration": 44,
    "start_time": "2023-09-30T17:26:47.793Z"
   },
   {
    "duration": 40,
    "start_time": "2023-09-30T17:26:47.838Z"
   },
   {
    "duration": 19,
    "start_time": "2023-09-30T17:26:47.879Z"
   },
   {
    "duration": 16,
    "start_time": "2023-09-30T17:26:47.900Z"
   },
   {
    "duration": 9,
    "start_time": "2023-09-30T17:26:47.918Z"
   },
   {
    "duration": 16,
    "start_time": "2023-09-30T17:26:47.928Z"
   },
   {
    "duration": 23,
    "start_time": "2023-09-30T17:26:47.946Z"
   },
   {
    "duration": 36,
    "start_time": "2023-09-30T17:26:47.970Z"
   },
   {
    "duration": 5,
    "start_time": "2023-09-30T17:26:48.008Z"
   },
   {
    "duration": 25,
    "start_time": "2023-09-30T17:26:48.014Z"
   },
   {
    "duration": 51,
    "start_time": "2023-09-30T17:26:48.045Z"
   },
   {
    "duration": 505,
    "start_time": "2023-09-30T17:26:48.098Z"
   },
   {
    "duration": 4,
    "start_time": "2023-09-30T17:26:48.605Z"
   },
   {
    "duration": 166,
    "start_time": "2023-09-30T17:26:48.611Z"
   },
   {
    "duration": 0,
    "start_time": "2023-09-30T17:26:48.778Z"
   },
   {
    "duration": 0,
    "start_time": "2023-09-30T17:26:48.780Z"
   },
   {
    "duration": 0,
    "start_time": "2023-09-30T17:26:48.781Z"
   },
   {
    "duration": 0,
    "start_time": "2023-09-30T17:26:48.782Z"
   },
   {
    "duration": 0,
    "start_time": "2023-09-30T17:26:48.783Z"
   },
   {
    "duration": 0,
    "start_time": "2023-09-30T17:26:48.784Z"
   },
   {
    "duration": 0,
    "start_time": "2023-09-30T17:26:48.785Z"
   },
   {
    "duration": 0,
    "start_time": "2023-09-30T17:26:48.786Z"
   },
   {
    "duration": 0,
    "start_time": "2023-09-30T17:26:48.801Z"
   },
   {
    "duration": 0,
    "start_time": "2023-09-30T17:26:48.803Z"
   },
   {
    "duration": 0,
    "start_time": "2023-09-30T17:26:48.803Z"
   },
   {
    "duration": 0,
    "start_time": "2023-09-30T17:26:48.804Z"
   },
   {
    "duration": 0,
    "start_time": "2023-09-30T17:26:48.805Z"
   },
   {
    "duration": 0,
    "start_time": "2023-09-30T17:26:48.806Z"
   },
   {
    "duration": 0,
    "start_time": "2023-09-30T17:26:48.808Z"
   },
   {
    "duration": 0,
    "start_time": "2023-09-30T17:26:48.808Z"
   },
   {
    "duration": 0,
    "start_time": "2023-09-30T17:26:48.809Z"
   },
   {
    "duration": 0,
    "start_time": "2023-09-30T17:26:48.810Z"
   },
   {
    "duration": 0,
    "start_time": "2023-09-30T17:26:48.812Z"
   },
   {
    "duration": 0,
    "start_time": "2023-09-30T17:26:48.813Z"
   },
   {
    "duration": 0,
    "start_time": "2023-09-30T17:26:48.814Z"
   },
   {
    "duration": 1712,
    "start_time": "2023-10-01T10:36:54.596Z"
   },
   {
    "duration": 223,
    "start_time": "2023-10-01T10:36:56.311Z"
   },
   {
    "duration": 23,
    "start_time": "2023-10-01T10:36:56.536Z"
   },
   {
    "duration": 30,
    "start_time": "2023-10-01T10:36:56.561Z"
   },
   {
    "duration": 54,
    "start_time": "2023-10-01T10:36:56.594Z"
   },
   {
    "duration": 36,
    "start_time": "2023-10-01T10:36:56.650Z"
   },
   {
    "duration": 10,
    "start_time": "2023-10-01T10:36:56.688Z"
   },
   {
    "duration": 8,
    "start_time": "2023-10-01T10:36:56.699Z"
   },
   {
    "duration": 7,
    "start_time": "2023-10-01T10:36:56.708Z"
   },
   {
    "duration": 45,
    "start_time": "2023-10-01T10:36:56.716Z"
   },
   {
    "duration": 9,
    "start_time": "2023-10-01T10:36:56.763Z"
   },
   {
    "duration": 371,
    "start_time": "2023-10-01T10:36:56.773Z"
   },
   {
    "duration": 23,
    "start_time": "2023-10-01T10:36:57.147Z"
   },
   {
    "duration": 7,
    "start_time": "2023-10-01T10:36:57.173Z"
   },
   {
    "duration": 8,
    "start_time": "2023-10-01T10:36:57.181Z"
   },
   {
    "duration": 344,
    "start_time": "2023-10-01T10:36:57.190Z"
   },
   {
    "duration": 12,
    "start_time": "2023-10-01T10:36:57.537Z"
   },
   {
    "duration": 412,
    "start_time": "2023-10-01T10:36:57.553Z"
   },
   {
    "duration": 9,
    "start_time": "2023-10-01T10:36:57.967Z"
   },
   {
    "duration": 362,
    "start_time": "2023-10-01T10:36:57.977Z"
   },
   {
    "duration": 11,
    "start_time": "2023-10-01T10:36:58.341Z"
   },
   {
    "duration": 380,
    "start_time": "2023-10-01T10:36:58.355Z"
   },
   {
    "duration": 18,
    "start_time": "2023-10-01T10:36:58.737Z"
   },
   {
    "duration": 122,
    "start_time": "2023-10-01T10:36:58.757Z"
   },
   {
    "duration": 360,
    "start_time": "2023-10-01T10:36:58.881Z"
   },
   {
    "duration": 80,
    "start_time": "2023-10-01T10:36:59.242Z"
   },
   {
    "duration": 104,
    "start_time": "2023-10-01T10:36:59.323Z"
   },
   {
    "duration": 174,
    "start_time": "2023-10-01T10:36:59.429Z"
   },
   {
    "duration": 88,
    "start_time": "2023-10-01T10:36:59.605Z"
   },
   {
    "duration": 90,
    "start_time": "2023-10-01T10:36:59.696Z"
   },
   {
    "duration": 75,
    "start_time": "2023-10-01T10:36:59.787Z"
   },
   {
    "duration": 86,
    "start_time": "2023-10-01T10:36:59.864Z"
   },
   {
    "duration": 81,
    "start_time": "2023-10-01T10:36:59.954Z"
   },
   {
    "duration": 22,
    "start_time": "2023-10-01T10:37:00.036Z"
   },
   {
    "duration": 131,
    "start_time": "2023-10-01T10:37:00.061Z"
   },
   {
    "duration": 148,
    "start_time": "2023-10-01T10:37:00.193Z"
   },
   {
    "duration": 16,
    "start_time": "2023-10-01T10:37:00.344Z"
   },
   {
    "duration": 123,
    "start_time": "2023-10-01T10:37:00.362Z"
   },
   {
    "duration": 164,
    "start_time": "2023-10-01T10:37:00.487Z"
   },
   {
    "duration": 63,
    "start_time": "2023-10-01T10:37:00.655Z"
   },
   {
    "duration": 84,
    "start_time": "2023-10-01T10:37:00.723Z"
   },
   {
    "duration": 78,
    "start_time": "2023-10-01T10:37:00.809Z"
   },
   {
    "duration": 89,
    "start_time": "2023-10-01T10:37:00.889Z"
   },
   {
    "duration": 361,
    "start_time": "2023-10-01T10:37:00.979Z"
   },
   {
    "duration": 9,
    "start_time": "2023-10-01T10:37:01.341Z"
   },
   {
    "duration": 296,
    "start_time": "2023-10-01T10:37:01.352Z"
   },
   {
    "duration": 4,
    "start_time": "2023-10-01T10:37:01.657Z"
   },
   {
    "duration": 296,
    "start_time": "2023-10-01T10:37:01.663Z"
   },
   {
    "duration": 5,
    "start_time": "2023-10-01T10:37:01.961Z"
   },
   {
    "duration": 286,
    "start_time": "2023-10-01T10:37:01.967Z"
   },
   {
    "duration": 328,
    "start_time": "2023-10-01T10:37:02.255Z"
   },
   {
    "duration": 5,
    "start_time": "2023-10-01T10:37:02.586Z"
   },
   {
    "duration": 401,
    "start_time": "2023-10-01T10:37:02.592Z"
   },
   {
    "duration": 288,
    "start_time": "2023-10-01T10:37:02.994Z"
   },
   {
    "duration": 278,
    "start_time": "2023-10-01T10:37:03.284Z"
   },
   {
    "duration": 166,
    "start_time": "2023-10-01T10:37:03.563Z"
   },
   {
    "duration": 188,
    "start_time": "2023-10-01T10:37:03.730Z"
   },
   {
    "duration": 199,
    "start_time": "2023-10-01T10:37:03.920Z"
   },
   {
    "duration": 288,
    "start_time": "2023-10-01T10:37:04.120Z"
   },
   {
    "duration": 228,
    "start_time": "2023-10-01T10:37:04.410Z"
   },
   {
    "duration": 181,
    "start_time": "2023-10-01T10:37:04.640Z"
   },
   {
    "duration": 156,
    "start_time": "2023-10-01T10:37:04.823Z"
   },
   {
    "duration": 272,
    "start_time": "2023-10-01T10:37:04.981Z"
   },
   {
    "duration": 221,
    "start_time": "2023-10-01T10:37:05.258Z"
   },
   {
    "duration": 3,
    "start_time": "2023-10-01T10:37:05.481Z"
   },
   {
    "duration": 32,
    "start_time": "2023-10-01T10:37:05.486Z"
   },
   {
    "duration": 216,
    "start_time": "2023-10-01T10:37:05.519Z"
   },
   {
    "duration": 442,
    "start_time": "2023-10-01T10:37:05.737Z"
   },
   {
    "duration": 10,
    "start_time": "2023-10-01T10:37:06.181Z"
   },
   {
    "duration": 367,
    "start_time": "2023-10-01T10:37:06.193Z"
   },
   {
    "duration": 8,
    "start_time": "2023-10-01T10:37:06.562Z"
   },
   {
    "duration": 12,
    "start_time": "2023-10-01T10:37:06.571Z"
   },
   {
    "duration": 11,
    "start_time": "2023-10-01T10:37:06.584Z"
   },
   {
    "duration": 11,
    "start_time": "2023-10-01T10:37:06.597Z"
   },
   {
    "duration": 13,
    "start_time": "2023-10-01T10:37:06.609Z"
   },
   {
    "duration": 16,
    "start_time": "2023-10-01T10:37:06.645Z"
   },
   {
    "duration": 11,
    "start_time": "2023-10-01T10:37:06.663Z"
   },
   {
    "duration": 12,
    "start_time": "2023-10-01T10:37:06.675Z"
   },
   {
    "duration": 16,
    "start_time": "2023-10-01T10:37:06.689Z"
   },
   {
    "duration": 4,
    "start_time": "2023-10-01T10:37:06.707Z"
   },
   {
    "duration": 6,
    "start_time": "2023-10-01T10:37:06.713Z"
   },
   {
    "duration": 17,
    "start_time": "2023-10-01T10:37:06.744Z"
   },
   {
    "duration": 504,
    "start_time": "2023-10-01T10:37:06.763Z"
   },
   {
    "duration": 5,
    "start_time": "2023-10-01T10:37:07.268Z"
   },
   {
    "duration": 130,
    "start_time": "2023-10-01T10:37:07.274Z"
   },
   {
    "duration": 0,
    "start_time": "2023-10-01T10:37:07.405Z"
   },
   {
    "duration": 0,
    "start_time": "2023-10-01T10:37:07.407Z"
   },
   {
    "duration": 0,
    "start_time": "2023-10-01T10:37:07.407Z"
   },
   {
    "duration": 0,
    "start_time": "2023-10-01T10:37:07.408Z"
   },
   {
    "duration": 0,
    "start_time": "2023-10-01T10:37:07.409Z"
   },
   {
    "duration": 0,
    "start_time": "2023-10-01T10:37:07.410Z"
   },
   {
    "duration": 0,
    "start_time": "2023-10-01T10:37:07.411Z"
   },
   {
    "duration": 0,
    "start_time": "2023-10-01T10:37:07.412Z"
   },
   {
    "duration": 0,
    "start_time": "2023-10-01T10:37:07.413Z"
   },
   {
    "duration": 0,
    "start_time": "2023-10-01T10:37:07.414Z"
   },
   {
    "duration": 0,
    "start_time": "2023-10-01T10:37:07.415Z"
   },
   {
    "duration": 0,
    "start_time": "2023-10-01T10:37:07.416Z"
   },
   {
    "duration": 1,
    "start_time": "2023-10-01T10:37:07.416Z"
   },
   {
    "duration": 0,
    "start_time": "2023-10-01T10:37:07.417Z"
   },
   {
    "duration": 0,
    "start_time": "2023-10-01T10:37:07.418Z"
   },
   {
    "duration": 0,
    "start_time": "2023-10-01T10:37:07.419Z"
   },
   {
    "duration": 0,
    "start_time": "2023-10-01T10:37:07.446Z"
   },
   {
    "duration": 0,
    "start_time": "2023-10-01T10:37:07.448Z"
   },
   {
    "duration": 0,
    "start_time": "2023-10-01T10:37:07.449Z"
   },
   {
    "duration": 0,
    "start_time": "2023-10-01T10:37:07.450Z"
   },
   {
    "duration": 0,
    "start_time": "2023-10-01T10:37:07.452Z"
   },
   {
    "duration": 1486,
    "start_time": "2023-10-01T10:50:03.483Z"
   },
   {
    "duration": 57,
    "start_time": "2023-10-01T10:50:04.971Z"
   },
   {
    "duration": 17,
    "start_time": "2023-10-01T10:50:05.029Z"
   },
   {
    "duration": 36,
    "start_time": "2023-10-01T10:50:05.049Z"
   },
   {
    "duration": 32,
    "start_time": "2023-10-01T10:50:05.086Z"
   },
   {
    "duration": 26,
    "start_time": "2023-10-01T10:50:05.120Z"
   },
   {
    "duration": 17,
    "start_time": "2023-10-01T10:50:05.148Z"
   },
   {
    "duration": 11,
    "start_time": "2023-10-01T10:50:05.167Z"
   },
   {
    "duration": 18,
    "start_time": "2023-10-01T10:50:05.179Z"
   },
   {
    "duration": 11,
    "start_time": "2023-10-01T10:50:05.199Z"
   },
   {
    "duration": 9,
    "start_time": "2023-10-01T10:50:05.212Z"
   },
   {
    "duration": 357,
    "start_time": "2023-10-01T10:50:05.222Z"
   },
   {
    "duration": 14,
    "start_time": "2023-10-01T10:50:05.581Z"
   },
   {
    "duration": 80,
    "start_time": "2023-10-01T10:50:05.598Z"
   },
   {
    "duration": 28,
    "start_time": "2023-10-01T10:50:05.679Z"
   },
   {
    "duration": 322,
    "start_time": "2023-10-01T10:50:05.708Z"
   },
   {
    "duration": 21,
    "start_time": "2023-10-01T10:50:06.031Z"
   },
   {
    "duration": 366,
    "start_time": "2023-10-01T10:50:06.054Z"
   },
   {
    "duration": 8,
    "start_time": "2023-10-01T10:50:06.421Z"
   },
   {
    "duration": 335,
    "start_time": "2023-10-01T10:50:06.431Z"
   },
   {
    "duration": 8,
    "start_time": "2023-10-01T10:50:06.767Z"
   },
   {
    "duration": 357,
    "start_time": "2023-10-01T10:50:06.776Z"
   },
   {
    "duration": 18,
    "start_time": "2023-10-01T10:50:07.134Z"
   },
   {
    "duration": 116,
    "start_time": "2023-10-01T10:50:07.155Z"
   },
   {
    "duration": 337,
    "start_time": "2023-10-01T10:50:07.273Z"
   },
   {
    "duration": 80,
    "start_time": "2023-10-01T10:50:07.611Z"
   },
   {
    "duration": 90,
    "start_time": "2023-10-01T10:50:07.692Z"
   },
   {
    "duration": 164,
    "start_time": "2023-10-01T10:50:07.783Z"
   },
   {
    "duration": 79,
    "start_time": "2023-10-01T10:50:07.949Z"
   },
   {
    "duration": 85,
    "start_time": "2023-10-01T10:50:08.029Z"
   },
   {
    "duration": 81,
    "start_time": "2023-10-01T10:50:08.116Z"
   },
   {
    "duration": 98,
    "start_time": "2023-10-01T10:50:08.198Z"
   },
   {
    "duration": 99,
    "start_time": "2023-10-01T10:50:08.299Z"
   },
   {
    "duration": 8,
    "start_time": "2023-10-01T10:50:08.400Z"
   },
   {
    "duration": 119,
    "start_time": "2023-10-01T10:50:08.409Z"
   },
   {
    "duration": 155,
    "start_time": "2023-10-01T10:50:08.530Z"
   },
   {
    "duration": 7,
    "start_time": "2023-10-01T10:50:08.687Z"
   },
   {
    "duration": 100,
    "start_time": "2023-10-01T10:50:08.696Z"
   },
   {
    "duration": 150,
    "start_time": "2023-10-01T10:50:08.798Z"
   },
   {
    "duration": 71,
    "start_time": "2023-10-01T10:50:08.950Z"
   },
   {
    "duration": 88,
    "start_time": "2023-10-01T10:50:09.027Z"
   },
   {
    "duration": 88,
    "start_time": "2023-10-01T10:50:09.117Z"
   },
   {
    "duration": 97,
    "start_time": "2023-10-01T10:50:09.206Z"
   },
   {
    "duration": 404,
    "start_time": "2023-10-01T10:50:09.304Z"
   },
   {
    "duration": 4,
    "start_time": "2023-10-01T10:50:09.710Z"
   },
   {
    "duration": 303,
    "start_time": "2023-10-01T10:50:09.715Z"
   },
   {
    "duration": 4,
    "start_time": "2023-10-01T10:50:10.020Z"
   },
   {
    "duration": 342,
    "start_time": "2023-10-01T10:50:10.025Z"
   },
   {
    "duration": 5,
    "start_time": "2023-10-01T10:50:10.368Z"
   },
   {
    "duration": 292,
    "start_time": "2023-10-01T10:50:10.375Z"
   },
   {
    "duration": 296,
    "start_time": "2023-10-01T10:50:10.669Z"
   },
   {
    "duration": 4,
    "start_time": "2023-10-01T10:50:10.967Z"
   },
   {
    "duration": 411,
    "start_time": "2023-10-01T10:50:10.972Z"
   },
   {
    "duration": 284,
    "start_time": "2023-10-01T10:50:11.384Z"
   },
   {
    "duration": 284,
    "start_time": "2023-10-01T10:50:11.670Z"
   },
   {
    "duration": 166,
    "start_time": "2023-10-01T10:50:11.956Z"
   },
   {
    "duration": 173,
    "start_time": "2023-10-01T10:50:12.124Z"
   },
   {
    "duration": 179,
    "start_time": "2023-10-01T10:50:12.299Z"
   },
   {
    "duration": 220,
    "start_time": "2023-10-01T10:50:12.480Z"
   },
   {
    "duration": 217,
    "start_time": "2023-10-01T10:50:12.702Z"
   },
   {
    "duration": 173,
    "start_time": "2023-10-01T10:50:12.920Z"
   },
   {
    "duration": 151,
    "start_time": "2023-10-01T10:50:13.094Z"
   },
   {
    "duration": 249,
    "start_time": "2023-10-01T10:50:13.249Z"
   },
   {
    "duration": 235,
    "start_time": "2023-10-01T10:50:13.499Z"
   },
   {
    "duration": 3,
    "start_time": "2023-10-01T10:50:13.735Z"
   },
   {
    "duration": 8,
    "start_time": "2023-10-01T10:50:13.745Z"
   },
   {
    "duration": 212,
    "start_time": "2023-10-01T10:50:13.755Z"
   },
   {
    "duration": 466,
    "start_time": "2023-10-01T10:50:13.969Z"
   },
   {
    "duration": 17,
    "start_time": "2023-10-01T10:50:14.438Z"
   },
   {
    "duration": 417,
    "start_time": "2023-10-01T10:50:14.458Z"
   },
   {
    "duration": 8,
    "start_time": "2023-10-01T10:50:14.876Z"
   },
   {
    "duration": 18,
    "start_time": "2023-10-01T10:50:14.885Z"
   },
   {
    "duration": 15,
    "start_time": "2023-10-01T10:50:14.905Z"
   },
   {
    "duration": 26,
    "start_time": "2023-10-01T10:50:14.922Z"
   },
   {
    "duration": 20,
    "start_time": "2023-10-01T10:50:14.950Z"
   },
   {
    "duration": 7,
    "start_time": "2023-10-01T10:50:14.972Z"
   },
   {
    "duration": 10,
    "start_time": "2023-10-01T10:50:14.981Z"
   },
   {
    "duration": 27,
    "start_time": "2023-10-01T10:50:14.993Z"
   },
   {
    "duration": 42,
    "start_time": "2023-10-01T10:50:15.023Z"
   },
   {
    "duration": 6,
    "start_time": "2023-10-01T10:50:15.067Z"
   },
   {
    "duration": 21,
    "start_time": "2023-10-01T10:50:15.074Z"
   },
   {
    "duration": 12,
    "start_time": "2023-10-01T10:50:15.097Z"
   },
   {
    "duration": 497,
    "start_time": "2023-10-01T10:50:15.110Z"
   },
   {
    "duration": 5,
    "start_time": "2023-10-01T10:50:15.609Z"
   },
   {
    "duration": 139,
    "start_time": "2023-10-01T10:50:15.615Z"
   },
   {
    "duration": 0,
    "start_time": "2023-10-01T10:50:15.759Z"
   },
   {
    "duration": 0,
    "start_time": "2023-10-01T10:50:15.760Z"
   },
   {
    "duration": 0,
    "start_time": "2023-10-01T10:50:15.761Z"
   },
   {
    "duration": 0,
    "start_time": "2023-10-01T10:50:15.762Z"
   },
   {
    "duration": 0,
    "start_time": "2023-10-01T10:50:15.764Z"
   },
   {
    "duration": 0,
    "start_time": "2023-10-01T10:50:15.765Z"
   },
   {
    "duration": 0,
    "start_time": "2023-10-01T10:50:15.766Z"
   },
   {
    "duration": 0,
    "start_time": "2023-10-01T10:50:15.767Z"
   },
   {
    "duration": 0,
    "start_time": "2023-10-01T10:50:15.767Z"
   },
   {
    "duration": 0,
    "start_time": "2023-10-01T10:50:15.768Z"
   },
   {
    "duration": 0,
    "start_time": "2023-10-01T10:50:15.769Z"
   },
   {
    "duration": 0,
    "start_time": "2023-10-01T10:50:15.770Z"
   },
   {
    "duration": 0,
    "start_time": "2023-10-01T10:50:15.770Z"
   },
   {
    "duration": 0,
    "start_time": "2023-10-01T10:50:15.772Z"
   },
   {
    "duration": 0,
    "start_time": "2023-10-01T10:50:15.773Z"
   },
   {
    "duration": 0,
    "start_time": "2023-10-01T10:50:15.774Z"
   },
   {
    "duration": 0,
    "start_time": "2023-10-01T10:50:15.774Z"
   },
   {
    "duration": 0,
    "start_time": "2023-10-01T10:50:15.775Z"
   },
   {
    "duration": 0,
    "start_time": "2023-10-01T10:50:15.776Z"
   },
   {
    "duration": 0,
    "start_time": "2023-10-01T10:50:15.777Z"
   },
   {
    "duration": 0,
    "start_time": "2023-10-01T10:50:15.778Z"
   },
   {
    "duration": 1772,
    "start_time": "2023-10-02T15:19:59.822Z"
   },
   {
    "duration": 177,
    "start_time": "2023-10-02T15:20:01.597Z"
   },
   {
    "duration": 23,
    "start_time": "2023-10-02T15:20:01.775Z"
   },
   {
    "duration": 69,
    "start_time": "2023-10-02T15:20:01.800Z"
   },
   {
    "duration": 48,
    "start_time": "2023-10-02T15:20:01.872Z"
   },
   {
    "duration": 89,
    "start_time": "2023-10-02T15:20:01.922Z"
   },
   {
    "duration": 19,
    "start_time": "2023-10-02T15:20:02.013Z"
   },
   {
    "duration": 82,
    "start_time": "2023-10-02T15:20:02.034Z"
   },
   {
    "duration": 32,
    "start_time": "2023-10-02T15:20:02.118Z"
   },
   {
    "duration": 20,
    "start_time": "2023-10-02T15:20:02.154Z"
   },
   {
    "duration": 136,
    "start_time": "2023-10-02T15:20:02.176Z"
   },
   {
    "duration": 462,
    "start_time": "2023-10-02T15:20:02.314Z"
   },
   {
    "duration": 16,
    "start_time": "2023-10-02T15:20:02.778Z"
   },
   {
    "duration": 259,
    "start_time": "2023-10-02T15:20:02.796Z"
   },
   {
    "duration": 133,
    "start_time": "2023-10-02T15:20:03.056Z"
   },
   {
    "duration": 432,
    "start_time": "2023-10-02T15:20:03.191Z"
   },
   {
    "duration": 152,
    "start_time": "2023-10-02T15:20:03.625Z"
   },
   {
    "duration": 500,
    "start_time": "2023-10-02T15:20:03.779Z"
   },
   {
    "duration": 8,
    "start_time": "2023-10-02T15:20:04.281Z"
   },
   {
    "duration": 453,
    "start_time": "2023-10-02T15:20:04.290Z"
   },
   {
    "duration": 9,
    "start_time": "2023-10-02T15:20:04.745Z"
   },
   {
    "duration": 378,
    "start_time": "2023-10-02T15:20:04.756Z"
   },
   {
    "duration": 9,
    "start_time": "2023-10-02T15:20:05.135Z"
   },
   {
    "duration": 458,
    "start_time": "2023-10-02T15:20:05.145Z"
   },
   {
    "duration": 439,
    "start_time": "2023-10-02T15:20:05.605Z"
   },
   {
    "duration": 102,
    "start_time": "2023-10-02T15:20:06.045Z"
   },
   {
    "duration": 97,
    "start_time": "2023-10-02T15:20:06.149Z"
   },
   {
    "duration": 184,
    "start_time": "2023-10-02T15:20:06.250Z"
   },
   {
    "duration": 120,
    "start_time": "2023-10-02T15:20:06.436Z"
   },
   {
    "duration": 106,
    "start_time": "2023-10-02T15:20:06.558Z"
   },
   {
    "duration": 180,
    "start_time": "2023-10-02T15:20:06.666Z"
   },
   {
    "duration": 90,
    "start_time": "2023-10-02T15:20:06.848Z"
   },
   {
    "duration": 98,
    "start_time": "2023-10-02T15:20:06.940Z"
   },
   {
    "duration": 9,
    "start_time": "2023-10-02T15:20:07.040Z"
   },
   {
    "duration": 240,
    "start_time": "2023-10-02T15:20:07.050Z"
   },
   {
    "duration": 166,
    "start_time": "2023-10-02T15:20:07.291Z"
   },
   {
    "duration": 9,
    "start_time": "2023-10-02T15:20:07.458Z"
   },
   {
    "duration": 159,
    "start_time": "2023-10-02T15:20:07.468Z"
   },
   {
    "duration": 175,
    "start_time": "2023-10-02T15:20:07.629Z"
   },
   {
    "duration": 79,
    "start_time": "2023-10-02T15:20:07.806Z"
   },
   {
    "duration": 80,
    "start_time": "2023-10-02T15:20:07.886Z"
   },
   {
    "duration": 83,
    "start_time": "2023-10-02T15:20:07.968Z"
   },
   {
    "duration": 101,
    "start_time": "2023-10-02T15:20:08.053Z"
   },
   {
    "duration": 441,
    "start_time": "2023-10-02T15:20:08.156Z"
   },
   {
    "duration": 4,
    "start_time": "2023-10-02T15:20:08.599Z"
   },
   {
    "duration": 321,
    "start_time": "2023-10-02T15:20:08.605Z"
   },
   {
    "duration": 5,
    "start_time": "2023-10-02T15:20:08.928Z"
   },
   {
    "duration": 318,
    "start_time": "2023-10-02T15:20:08.935Z"
   },
   {
    "duration": 5,
    "start_time": "2023-10-02T15:20:09.255Z"
   },
   {
    "duration": 321,
    "start_time": "2023-10-02T15:20:09.262Z"
   },
   {
    "duration": 315,
    "start_time": "2023-10-02T15:20:09.585Z"
   },
   {
    "duration": 5,
    "start_time": "2023-10-02T15:20:09.901Z"
   },
   {
    "duration": 453,
    "start_time": "2023-10-02T15:20:09.907Z"
   },
   {
    "duration": 322,
    "start_time": "2023-10-02T15:20:10.363Z"
   },
   {
    "duration": 341,
    "start_time": "2023-10-02T15:20:10.687Z"
   },
   {
    "duration": 189,
    "start_time": "2023-10-02T15:20:11.030Z"
   },
   {
    "duration": 183,
    "start_time": "2023-10-02T15:20:11.224Z"
   },
   {
    "duration": 245,
    "start_time": "2023-10-02T15:20:11.408Z"
   },
   {
    "duration": 253,
    "start_time": "2023-10-02T15:20:11.655Z"
   },
   {
    "duration": 248,
    "start_time": "2023-10-02T15:20:11.910Z"
   },
   {
    "duration": 183,
    "start_time": "2023-10-02T15:20:12.160Z"
   },
   {
    "duration": 159,
    "start_time": "2023-10-02T15:20:12.345Z"
   },
   {
    "duration": 267,
    "start_time": "2023-10-02T15:20:12.506Z"
   },
   {
    "duration": 398,
    "start_time": "2023-10-02T15:20:12.775Z"
   },
   {
    "duration": 3,
    "start_time": "2023-10-02T15:20:13.175Z"
   },
   {
    "duration": 38,
    "start_time": "2023-10-02T15:20:13.180Z"
   },
   {
    "duration": 259,
    "start_time": "2023-10-02T15:20:13.220Z"
   },
   {
    "duration": 488,
    "start_time": "2023-10-02T15:20:13.482Z"
   },
   {
    "duration": 11,
    "start_time": "2023-10-02T15:20:13.972Z"
   },
   {
    "duration": 444,
    "start_time": "2023-10-02T15:20:13.985Z"
   },
   {
    "duration": 7,
    "start_time": "2023-10-02T15:20:14.432Z"
   },
   {
    "duration": 87,
    "start_time": "2023-10-02T15:20:14.440Z"
   },
   {
    "duration": 24,
    "start_time": "2023-10-02T15:20:14.529Z"
   },
   {
    "duration": 219,
    "start_time": "2023-10-02T15:20:14.555Z"
   },
   {
    "duration": 102,
    "start_time": "2023-10-02T15:20:14.776Z"
   },
   {
    "duration": 34,
    "start_time": "2023-10-02T15:20:14.879Z"
   },
   {
    "duration": 45,
    "start_time": "2023-10-02T15:20:14.915Z"
   },
   {
    "duration": 44,
    "start_time": "2023-10-02T15:20:14.962Z"
   },
   {
    "duration": 76,
    "start_time": "2023-10-02T15:20:15.009Z"
   },
   {
    "duration": 42,
    "start_time": "2023-10-02T15:20:15.087Z"
   },
   {
    "duration": 112,
    "start_time": "2023-10-02T15:20:15.131Z"
   },
   {
    "duration": 88,
    "start_time": "2023-10-02T15:20:15.248Z"
   },
   {
    "duration": 562,
    "start_time": "2023-10-02T15:20:15.339Z"
   },
   {
    "duration": 21,
    "start_time": "2023-10-02T15:20:15.903Z"
   },
   {
    "duration": 383,
    "start_time": "2023-10-02T15:20:15.926Z"
   },
   {
    "duration": 0,
    "start_time": "2023-10-02T15:20:16.311Z"
   },
   {
    "duration": 0,
    "start_time": "2023-10-02T15:20:16.312Z"
   },
   {
    "duration": 0,
    "start_time": "2023-10-02T15:20:16.313Z"
   },
   {
    "duration": 0,
    "start_time": "2023-10-02T15:20:16.314Z"
   },
   {
    "duration": 0,
    "start_time": "2023-10-02T15:20:16.316Z"
   },
   {
    "duration": 0,
    "start_time": "2023-10-02T15:20:16.324Z"
   },
   {
    "duration": 0,
    "start_time": "2023-10-02T15:20:16.325Z"
   },
   {
    "duration": 0,
    "start_time": "2023-10-02T15:20:16.326Z"
   },
   {
    "duration": 0,
    "start_time": "2023-10-02T15:20:16.327Z"
   },
   {
    "duration": 0,
    "start_time": "2023-10-02T15:20:16.328Z"
   },
   {
    "duration": 0,
    "start_time": "2023-10-02T15:20:16.329Z"
   },
   {
    "duration": 0,
    "start_time": "2023-10-02T15:20:16.330Z"
   },
   {
    "duration": 0,
    "start_time": "2023-10-02T15:20:16.331Z"
   },
   {
    "duration": 0,
    "start_time": "2023-10-02T15:20:16.332Z"
   },
   {
    "duration": 0,
    "start_time": "2023-10-02T15:20:16.334Z"
   },
   {
    "duration": 0,
    "start_time": "2023-10-02T15:20:16.335Z"
   },
   {
    "duration": 0,
    "start_time": "2023-10-02T15:20:16.336Z"
   },
   {
    "duration": 0,
    "start_time": "2023-10-02T15:20:16.337Z"
   },
   {
    "duration": 0,
    "start_time": "2023-10-02T15:20:16.338Z"
   },
   {
    "duration": 0,
    "start_time": "2023-10-02T15:20:16.339Z"
   },
   {
    "duration": 0,
    "start_time": "2023-10-02T15:20:16.340Z"
   },
   {
    "duration": 1586,
    "start_time": "2023-10-02T15:22:14.271Z"
   },
   {
    "duration": 61,
    "start_time": "2023-10-02T15:22:15.860Z"
   },
   {
    "duration": 16,
    "start_time": "2023-10-02T15:22:15.924Z"
   },
   {
    "duration": 42,
    "start_time": "2023-10-02T15:22:15.942Z"
   },
   {
    "duration": 47,
    "start_time": "2023-10-02T15:22:15.987Z"
   },
   {
    "duration": 30,
    "start_time": "2023-10-02T15:22:16.036Z"
   },
   {
    "duration": 41,
    "start_time": "2023-10-02T15:22:16.068Z"
   },
   {
    "duration": 95,
    "start_time": "2023-10-02T15:22:16.110Z"
   },
   {
    "duration": 37,
    "start_time": "2023-10-02T15:22:16.207Z"
   },
   {
    "duration": 26,
    "start_time": "2023-10-02T15:22:16.246Z"
   },
   {
    "duration": 38,
    "start_time": "2023-10-02T15:22:16.275Z"
   },
   {
    "duration": 350,
    "start_time": "2023-10-02T15:22:16.315Z"
   },
   {
    "duration": 18,
    "start_time": "2023-10-02T15:22:16.666Z"
   },
   {
    "duration": 91,
    "start_time": "2023-10-02T15:22:16.687Z"
   },
   {
    "duration": 187,
    "start_time": "2023-10-02T15:22:16.780Z"
   },
   {
    "duration": 399,
    "start_time": "2023-10-02T15:22:16.969Z"
   },
   {
    "duration": 11,
    "start_time": "2023-10-02T15:22:17.371Z"
   },
   {
    "duration": 443,
    "start_time": "2023-10-02T15:22:17.383Z"
   },
   {
    "duration": 9,
    "start_time": "2023-10-02T15:22:17.827Z"
   },
   {
    "duration": 361,
    "start_time": "2023-10-02T15:22:17.837Z"
   },
   {
    "duration": 8,
    "start_time": "2023-10-02T15:22:18.200Z"
   },
   {
    "duration": 409,
    "start_time": "2023-10-02T15:22:18.224Z"
   },
   {
    "duration": 8,
    "start_time": "2023-10-02T15:22:18.635Z"
   },
   {
    "duration": 257,
    "start_time": "2023-10-02T15:22:18.645Z"
   },
   {
    "duration": 462,
    "start_time": "2023-10-02T15:22:18.904Z"
   },
   {
    "duration": 83,
    "start_time": "2023-10-02T15:22:19.368Z"
   },
   {
    "duration": 137,
    "start_time": "2023-10-02T15:22:19.454Z"
   },
   {
    "duration": 187,
    "start_time": "2023-10-02T15:22:19.593Z"
   },
   {
    "duration": 87,
    "start_time": "2023-10-02T15:22:19.782Z"
   },
   {
    "duration": 111,
    "start_time": "2023-10-02T15:22:19.871Z"
   },
   {
    "duration": 87,
    "start_time": "2023-10-02T15:22:19.984Z"
   },
   {
    "duration": 89,
    "start_time": "2023-10-02T15:22:20.072Z"
   },
   {
    "duration": 245,
    "start_time": "2023-10-02T15:22:20.163Z"
   },
   {
    "duration": 49,
    "start_time": "2023-10-02T15:22:20.411Z"
   },
   {
    "duration": 160,
    "start_time": "2023-10-02T15:22:20.462Z"
   },
   {
    "duration": 197,
    "start_time": "2023-10-02T15:22:20.624Z"
   },
   {
    "duration": 9,
    "start_time": "2023-10-02T15:22:20.822Z"
   },
   {
    "duration": 169,
    "start_time": "2023-10-02T15:22:20.832Z"
   },
   {
    "duration": 170,
    "start_time": "2023-10-02T15:22:21.004Z"
   },
   {
    "duration": 85,
    "start_time": "2023-10-02T15:22:21.176Z"
   },
   {
    "duration": 82,
    "start_time": "2023-10-02T15:22:21.266Z"
   },
   {
    "duration": 97,
    "start_time": "2023-10-02T15:22:21.349Z"
   },
   {
    "duration": 193,
    "start_time": "2023-10-02T15:22:21.447Z"
   },
   {
    "duration": 436,
    "start_time": "2023-10-02T15:22:21.642Z"
   },
   {
    "duration": 5,
    "start_time": "2023-10-02T15:22:22.080Z"
   },
   {
    "duration": 341,
    "start_time": "2023-10-02T15:22:22.086Z"
   },
   {
    "duration": 5,
    "start_time": "2023-10-02T15:22:22.429Z"
   },
   {
    "duration": 319,
    "start_time": "2023-10-02T15:22:22.436Z"
   },
   {
    "duration": 5,
    "start_time": "2023-10-02T15:22:22.756Z"
   },
   {
    "duration": 373,
    "start_time": "2023-10-02T15:22:22.763Z"
   },
   {
    "duration": 315,
    "start_time": "2023-10-02T15:22:23.138Z"
   },
   {
    "duration": 4,
    "start_time": "2023-10-02T15:22:23.455Z"
   },
   {
    "duration": 438,
    "start_time": "2023-10-02T15:22:23.461Z"
   },
   {
    "duration": 279,
    "start_time": "2023-10-02T15:22:23.901Z"
   },
   {
    "duration": 306,
    "start_time": "2023-10-02T15:22:24.182Z"
   },
   {
    "duration": 181,
    "start_time": "2023-10-02T15:22:24.489Z"
   },
   {
    "duration": 179,
    "start_time": "2023-10-02T15:22:24.672Z"
   },
   {
    "duration": 188,
    "start_time": "2023-10-02T15:22:24.853Z"
   },
   {
    "duration": 243,
    "start_time": "2023-10-02T15:22:25.043Z"
   },
   {
    "duration": 241,
    "start_time": "2023-10-02T15:22:25.287Z"
   },
   {
    "duration": 172,
    "start_time": "2023-10-02T15:22:25.530Z"
   },
   {
    "duration": 191,
    "start_time": "2023-10-02T15:22:25.704Z"
   },
   {
    "duration": 288,
    "start_time": "2023-10-02T15:22:25.897Z"
   },
   {
    "duration": 233,
    "start_time": "2023-10-02T15:22:26.186Z"
   },
   {
    "duration": 3,
    "start_time": "2023-10-02T15:22:26.424Z"
   },
   {
    "duration": 11,
    "start_time": "2023-10-02T15:22:26.429Z"
   },
   {
    "duration": 216,
    "start_time": "2023-10-02T15:22:26.442Z"
   },
   {
    "duration": 405,
    "start_time": "2023-10-02T15:22:26.660Z"
   },
   {
    "duration": 11,
    "start_time": "2023-10-02T15:22:27.067Z"
   },
   {
    "duration": 423,
    "start_time": "2023-10-02T15:22:27.079Z"
   },
   {
    "duration": 8,
    "start_time": "2023-10-02T15:22:27.503Z"
   },
   {
    "duration": 39,
    "start_time": "2023-10-02T15:22:27.513Z"
   },
   {
    "duration": 43,
    "start_time": "2023-10-02T15:22:27.554Z"
   },
   {
    "duration": 32,
    "start_time": "2023-10-02T15:22:27.599Z"
   },
   {
    "duration": 38,
    "start_time": "2023-10-02T15:22:27.632Z"
   },
   {
    "duration": 19,
    "start_time": "2023-10-02T15:22:27.672Z"
   },
   {
    "duration": 32,
    "start_time": "2023-10-02T15:22:27.692Z"
   },
   {
    "duration": 75,
    "start_time": "2023-10-02T15:22:27.726Z"
   },
   {
    "duration": 41,
    "start_time": "2023-10-02T15:22:27.803Z"
   },
   {
    "duration": 32,
    "start_time": "2023-10-02T15:22:27.846Z"
   },
   {
    "duration": 20,
    "start_time": "2023-10-02T15:22:27.881Z"
   },
   {
    "duration": 20,
    "start_time": "2023-10-02T15:22:27.903Z"
   },
   {
    "duration": 533,
    "start_time": "2023-10-02T15:22:27.925Z"
   },
   {
    "duration": 5,
    "start_time": "2023-10-02T15:22:28.459Z"
   },
   {
    "duration": 125,
    "start_time": "2023-10-02T15:22:28.465Z"
   },
   {
    "duration": 0,
    "start_time": "2023-10-02T15:22:28.591Z"
   },
   {
    "duration": 0,
    "start_time": "2023-10-02T15:22:28.593Z"
   },
   {
    "duration": 0,
    "start_time": "2023-10-02T15:22:28.594Z"
   },
   {
    "duration": 0,
    "start_time": "2023-10-02T15:22:28.595Z"
   },
   {
    "duration": 0,
    "start_time": "2023-10-02T15:22:28.597Z"
   },
   {
    "duration": 0,
    "start_time": "2023-10-02T15:22:28.599Z"
   },
   {
    "duration": 0,
    "start_time": "2023-10-02T15:22:28.600Z"
   },
   {
    "duration": 0,
    "start_time": "2023-10-02T15:22:28.601Z"
   },
   {
    "duration": 0,
    "start_time": "2023-10-02T15:22:28.624Z"
   },
   {
    "duration": 0,
    "start_time": "2023-10-02T15:22:28.625Z"
   },
   {
    "duration": 0,
    "start_time": "2023-10-02T15:22:28.626Z"
   },
   {
    "duration": 0,
    "start_time": "2023-10-02T15:22:28.628Z"
   },
   {
    "duration": 0,
    "start_time": "2023-10-02T15:22:28.629Z"
   },
   {
    "duration": 0,
    "start_time": "2023-10-02T15:22:28.630Z"
   },
   {
    "duration": 0,
    "start_time": "2023-10-02T15:22:28.631Z"
   },
   {
    "duration": 0,
    "start_time": "2023-10-02T15:22:28.632Z"
   },
   {
    "duration": 0,
    "start_time": "2023-10-02T15:22:28.633Z"
   },
   {
    "duration": 0,
    "start_time": "2023-10-02T15:22:28.634Z"
   },
   {
    "duration": 0,
    "start_time": "2023-10-02T15:22:28.635Z"
   },
   {
    "duration": 0,
    "start_time": "2023-10-02T15:22:28.637Z"
   },
   {
    "duration": 0,
    "start_time": "2023-10-02T15:22:28.638Z"
   },
   {
    "duration": 1545,
    "start_time": "2023-10-02T15:23:12.599Z"
   },
   {
    "duration": 57,
    "start_time": "2023-10-02T15:23:14.147Z"
   },
   {
    "duration": 44,
    "start_time": "2023-10-02T15:23:14.206Z"
   },
   {
    "duration": 74,
    "start_time": "2023-10-02T15:23:14.253Z"
   },
   {
    "duration": 100,
    "start_time": "2023-10-02T15:23:14.329Z"
   },
   {
    "duration": 44,
    "start_time": "2023-10-02T15:23:14.432Z"
   },
   {
    "duration": 58,
    "start_time": "2023-10-02T15:23:14.478Z"
   },
   {
    "duration": 42,
    "start_time": "2023-10-02T15:23:14.538Z"
   },
   {
    "duration": 85,
    "start_time": "2023-10-02T15:23:14.582Z"
   },
   {
    "duration": 62,
    "start_time": "2023-10-02T15:23:14.672Z"
   },
   {
    "duration": 109,
    "start_time": "2023-10-02T15:23:14.736Z"
   },
   {
    "duration": 499,
    "start_time": "2023-10-02T15:23:14.847Z"
   },
   {
    "duration": 17,
    "start_time": "2023-10-02T15:23:15.348Z"
   },
   {
    "duration": 86,
    "start_time": "2023-10-02T15:23:15.366Z"
   },
   {
    "duration": 117,
    "start_time": "2023-10-02T15:23:15.453Z"
   },
   {
    "duration": 443,
    "start_time": "2023-10-02T15:23:15.572Z"
   },
   {
    "duration": 11,
    "start_time": "2023-10-02T15:23:16.026Z"
   },
   {
    "duration": 420,
    "start_time": "2023-10-02T15:23:16.040Z"
   },
   {
    "duration": 8,
    "start_time": "2023-10-02T15:23:16.462Z"
   },
   {
    "duration": 369,
    "start_time": "2023-10-02T15:23:16.472Z"
   },
   {
    "duration": 9,
    "start_time": "2023-10-02T15:23:16.843Z"
   },
   {
    "duration": 458,
    "start_time": "2023-10-02T15:23:16.854Z"
   },
   {
    "duration": 13,
    "start_time": "2023-10-02T15:23:17.314Z"
   },
   {
    "duration": 159,
    "start_time": "2023-10-02T15:23:17.329Z"
   },
   {
    "duration": 351,
    "start_time": "2023-10-02T15:23:17.490Z"
   },
   {
    "duration": 83,
    "start_time": "2023-10-02T15:23:17.843Z"
   },
   {
    "duration": 84,
    "start_time": "2023-10-02T15:23:17.928Z"
   },
   {
    "duration": 175,
    "start_time": "2023-10-02T15:23:18.027Z"
   },
   {
    "duration": 183,
    "start_time": "2023-10-02T15:23:18.203Z"
   },
   {
    "duration": 119,
    "start_time": "2023-10-02T15:23:18.388Z"
   },
   {
    "duration": 107,
    "start_time": "2023-10-02T15:23:18.509Z"
   },
   {
    "duration": 155,
    "start_time": "2023-10-02T15:23:18.617Z"
   },
   {
    "duration": 118,
    "start_time": "2023-10-02T15:23:18.774Z"
   },
   {
    "duration": 17,
    "start_time": "2023-10-02T15:23:18.894Z"
   },
   {
    "duration": 182,
    "start_time": "2023-10-02T15:23:18.913Z"
   },
   {
    "duration": 210,
    "start_time": "2023-10-02T15:23:19.096Z"
   },
   {
    "duration": 27,
    "start_time": "2023-10-02T15:23:19.308Z"
   },
   {
    "duration": 374,
    "start_time": "2023-10-02T15:23:19.337Z"
   },
   {
    "duration": 287,
    "start_time": "2023-10-02T15:23:19.712Z"
   },
   {
    "duration": 85,
    "start_time": "2023-10-02T15:23:20.001Z"
   },
   {
    "duration": 80,
    "start_time": "2023-10-02T15:23:20.088Z"
   },
   {
    "duration": 82,
    "start_time": "2023-10-02T15:23:20.170Z"
   },
   {
    "duration": 118,
    "start_time": "2023-10-02T15:23:20.254Z"
   },
   {
    "duration": 390,
    "start_time": "2023-10-02T15:23:20.374Z"
   },
   {
    "duration": 4,
    "start_time": "2023-10-02T15:23:20.766Z"
   },
   {
    "duration": 323,
    "start_time": "2023-10-02T15:23:20.772Z"
   },
   {
    "duration": 6,
    "start_time": "2023-10-02T15:23:21.097Z"
   },
   {
    "duration": 310,
    "start_time": "2023-10-02T15:23:21.104Z"
   },
   {
    "duration": 10,
    "start_time": "2023-10-02T15:23:21.416Z"
   },
   {
    "duration": 316,
    "start_time": "2023-10-02T15:23:21.427Z"
   },
   {
    "duration": 319,
    "start_time": "2023-10-02T15:23:21.745Z"
   },
   {
    "duration": 5,
    "start_time": "2023-10-02T15:23:22.066Z"
   },
   {
    "duration": 543,
    "start_time": "2023-10-02T15:23:22.072Z"
   },
   {
    "duration": 313,
    "start_time": "2023-10-02T15:23:22.624Z"
   },
   {
    "duration": 357,
    "start_time": "2023-10-02T15:23:22.939Z"
   },
   {
    "duration": 193,
    "start_time": "2023-10-02T15:23:23.298Z"
   },
   {
    "duration": 178,
    "start_time": "2023-10-02T15:23:23.492Z"
   },
   {
    "duration": 179,
    "start_time": "2023-10-02T15:23:23.672Z"
   },
   {
    "duration": 265,
    "start_time": "2023-10-02T15:23:23.853Z"
   },
   {
    "duration": 232,
    "start_time": "2023-10-02T15:23:24.121Z"
   },
   {
    "duration": 169,
    "start_time": "2023-10-02T15:23:24.355Z"
   },
   {
    "duration": 159,
    "start_time": "2023-10-02T15:23:24.526Z"
   },
   {
    "duration": 2077,
    "start_time": "2023-10-03T08:12:33.131Z"
   },
   {
    "duration": 3,
    "start_time": "2023-10-03T08:12:35.211Z"
   },
   {
    "duration": 231,
    "start_time": "2023-10-03T08:12:35.216Z"
   },
   {
    "duration": 19,
    "start_time": "2023-10-03T08:12:35.450Z"
   },
   {
    "duration": 61,
    "start_time": "2023-10-03T08:12:35.471Z"
   },
   {
    "duration": 36,
    "start_time": "2023-10-03T08:12:35.537Z"
   },
   {
    "duration": 38,
    "start_time": "2023-10-03T08:12:35.575Z"
   },
   {
    "duration": 14,
    "start_time": "2023-10-03T08:12:35.615Z"
   },
   {
    "duration": 26,
    "start_time": "2023-10-03T08:12:35.631Z"
   },
   {
    "duration": 52,
    "start_time": "2023-10-03T08:12:35.661Z"
   },
   {
    "duration": 35,
    "start_time": "2023-10-03T08:12:35.716Z"
   },
   {
    "duration": 16,
    "start_time": "2023-10-03T08:12:35.754Z"
   },
   {
    "duration": 528,
    "start_time": "2023-10-03T08:12:35.773Z"
   },
   {
    "duration": 34,
    "start_time": "2023-10-03T08:12:36.311Z"
   },
   {
    "duration": 47,
    "start_time": "2023-10-03T08:12:36.349Z"
   },
   {
    "duration": 42,
    "start_time": "2023-10-03T08:12:36.397Z"
   },
   {
    "duration": 492,
    "start_time": "2023-10-03T08:12:36.440Z"
   },
   {
    "duration": 11,
    "start_time": "2023-10-03T08:12:36.935Z"
   },
   {
    "duration": 410,
    "start_time": "2023-10-03T08:12:36.949Z"
   },
   {
    "duration": 10,
    "start_time": "2023-10-03T08:12:37.361Z"
   },
   {
    "duration": 446,
    "start_time": "2023-10-03T08:12:37.373Z"
   },
   {
    "duration": 13,
    "start_time": "2023-10-03T08:12:37.823Z"
   },
   {
    "duration": 487,
    "start_time": "2023-10-03T08:12:37.839Z"
   },
   {
    "duration": 11,
    "start_time": "2023-10-03T08:12:38.332Z"
   },
   {
    "duration": 220,
    "start_time": "2023-10-03T08:12:38.345Z"
   },
   {
    "duration": 466,
    "start_time": "2023-10-03T08:12:38.567Z"
   },
   {
    "duration": 115,
    "start_time": "2023-10-03T08:12:39.036Z"
   },
   {
    "duration": 227,
    "start_time": "2023-10-03T08:12:39.156Z"
   },
   {
    "duration": 107,
    "start_time": "2023-10-03T08:12:39.385Z"
   },
   {
    "duration": 108,
    "start_time": "2023-10-03T08:12:39.494Z"
   },
   {
    "duration": 110,
    "start_time": "2023-10-03T08:12:39.604Z"
   },
   {
    "duration": 100,
    "start_time": "2023-10-03T08:12:39.724Z"
   },
   {
    "duration": 105,
    "start_time": "2023-10-03T08:12:39.826Z"
   },
   {
    "duration": 125,
    "start_time": "2023-10-03T08:12:39.934Z"
   },
   {
    "duration": 9,
    "start_time": "2023-10-03T08:12:40.060Z"
   },
   {
    "duration": 165,
    "start_time": "2023-10-03T08:12:40.071Z"
   },
   {
    "duration": 186,
    "start_time": "2023-10-03T08:12:40.238Z"
   },
   {
    "duration": 10,
    "start_time": "2023-10-03T08:12:40.425Z"
   },
   {
    "duration": 141,
    "start_time": "2023-10-03T08:12:40.437Z"
   },
   {
    "duration": 219,
    "start_time": "2023-10-03T08:12:40.580Z"
   },
   {
    "duration": 98,
    "start_time": "2023-10-03T08:12:40.801Z"
   },
   {
    "duration": 96,
    "start_time": "2023-10-03T08:12:40.901Z"
   },
   {
    "duration": 93,
    "start_time": "2023-10-03T08:12:40.999Z"
   },
   {
    "duration": 228,
    "start_time": "2023-10-03T08:12:41.094Z"
   },
   {
    "duration": 361,
    "start_time": "2023-10-03T08:12:41.324Z"
   },
   {
    "duration": 5,
    "start_time": "2023-10-03T08:12:41.687Z"
   },
   {
    "duration": 332,
    "start_time": "2023-10-03T08:12:41.717Z"
   },
   {
    "duration": 6,
    "start_time": "2023-10-03T08:12:42.052Z"
   },
   {
    "duration": 359,
    "start_time": "2023-10-03T08:12:42.060Z"
   },
   {
    "duration": 8,
    "start_time": "2023-10-03T08:12:42.421Z"
   },
   {
    "duration": 450,
    "start_time": "2023-10-03T08:12:42.437Z"
   },
   {
    "duration": 383,
    "start_time": "2023-10-03T08:12:42.889Z"
   },
   {
    "duration": 5,
    "start_time": "2023-10-03T08:12:43.274Z"
   },
   {
    "duration": 466,
    "start_time": "2023-10-03T08:12:43.280Z"
   },
   {
    "duration": 341,
    "start_time": "2023-10-03T08:12:43.748Z"
   },
   {
    "duration": 361,
    "start_time": "2023-10-03T08:12:44.091Z"
   },
   {
    "duration": 211,
    "start_time": "2023-10-03T08:12:44.454Z"
   },
   {
    "duration": 211,
    "start_time": "2023-10-03T08:12:44.666Z"
   },
   {
    "duration": 220,
    "start_time": "2023-10-03T08:12:44.878Z"
   },
   {
    "duration": 305,
    "start_time": "2023-10-03T08:12:45.112Z"
   },
   {
    "duration": 271,
    "start_time": "2023-10-03T08:12:45.425Z"
   },
   {
    "duration": 313,
    "start_time": "2023-10-03T08:12:45.698Z"
   },
   {
    "duration": 206,
    "start_time": "2023-10-03T08:12:46.015Z"
   },
   {
    "duration": 219,
    "start_time": "2023-10-03T08:12:46.223Z"
   },
   {
    "duration": 318,
    "start_time": "2023-10-03T08:12:46.444Z"
   },
   {
    "duration": 4,
    "start_time": "2023-10-03T08:12:46.764Z"
   },
   {
    "duration": 30,
    "start_time": "2023-10-03T08:12:46.769Z"
   },
   {
    "duration": 266,
    "start_time": "2023-10-03T08:12:46.801Z"
   },
   {
    "duration": 534,
    "start_time": "2023-10-03T08:12:47.069Z"
   },
   {
    "duration": 22,
    "start_time": "2023-10-03T08:12:47.604Z"
   },
   {
    "duration": 465,
    "start_time": "2023-10-03T08:12:47.629Z"
   },
   {
    "duration": 22,
    "start_time": "2023-10-03T08:12:48.096Z"
   },
   {
    "duration": 31,
    "start_time": "2023-10-03T08:12:48.130Z"
   },
   {
    "duration": 14,
    "start_time": "2023-10-03T08:12:48.163Z"
   },
   {
    "duration": 37,
    "start_time": "2023-10-03T08:12:48.180Z"
   },
   {
    "duration": 40,
    "start_time": "2023-10-03T08:12:48.221Z"
   },
   {
    "duration": 28,
    "start_time": "2023-10-03T08:12:48.263Z"
   },
   {
    "duration": 76,
    "start_time": "2023-10-03T08:12:48.293Z"
   },
   {
    "duration": 66,
    "start_time": "2023-10-03T08:12:48.371Z"
   },
   {
    "duration": 47,
    "start_time": "2023-10-03T08:12:48.438Z"
   },
   {
    "duration": 54,
    "start_time": "2023-10-03T08:12:48.487Z"
   },
   {
    "duration": 69,
    "start_time": "2023-10-03T08:12:48.548Z"
   },
   {
    "duration": 27,
    "start_time": "2023-10-03T08:12:48.619Z"
   },
   {
    "duration": 628,
    "start_time": "2023-10-03T08:12:48.649Z"
   },
   {
    "duration": 5,
    "start_time": "2023-10-03T08:12:49.279Z"
   },
   {
    "duration": 166,
    "start_time": "2023-10-03T08:12:49.286Z"
   },
   {
    "duration": 0,
    "start_time": "2023-10-03T08:12:49.454Z"
   },
   {
    "duration": 0,
    "start_time": "2023-10-03T08:12:49.455Z"
   },
   {
    "duration": 0,
    "start_time": "2023-10-03T08:12:49.457Z"
   },
   {
    "duration": 0,
    "start_time": "2023-10-03T08:12:49.459Z"
   },
   {
    "duration": 0,
    "start_time": "2023-10-03T08:12:49.460Z"
   },
   {
    "duration": 0,
    "start_time": "2023-10-03T08:12:49.462Z"
   },
   {
    "duration": 0,
    "start_time": "2023-10-03T08:12:49.464Z"
   },
   {
    "duration": 0,
    "start_time": "2023-10-03T08:12:49.465Z"
   },
   {
    "duration": 0,
    "start_time": "2023-10-03T08:12:49.467Z"
   },
   {
    "duration": 0,
    "start_time": "2023-10-03T08:12:49.468Z"
   },
   {
    "duration": 0,
    "start_time": "2023-10-03T08:12:49.469Z"
   },
   {
    "duration": 0,
    "start_time": "2023-10-03T08:12:49.470Z"
   },
   {
    "duration": 0,
    "start_time": "2023-10-03T08:12:49.472Z"
   },
   {
    "duration": 0,
    "start_time": "2023-10-03T08:12:49.473Z"
   },
   {
    "duration": 0,
    "start_time": "2023-10-03T08:12:49.475Z"
   },
   {
    "duration": 0,
    "start_time": "2023-10-03T08:12:49.513Z"
   },
   {
    "duration": 0,
    "start_time": "2023-10-03T08:12:49.514Z"
   },
   {
    "duration": 0,
    "start_time": "2023-10-03T08:12:49.515Z"
   },
   {
    "duration": 0,
    "start_time": "2023-10-03T08:12:49.516Z"
   },
   {
    "duration": 0,
    "start_time": "2023-10-03T08:12:49.517Z"
   },
   {
    "duration": 0,
    "start_time": "2023-10-03T08:12:49.519Z"
   },
   {
    "duration": 1846,
    "start_time": "2023-10-03T08:17:04.458Z"
   },
   {
    "duration": 6,
    "start_time": "2023-10-03T08:17:06.307Z"
   },
   {
    "duration": 128,
    "start_time": "2023-10-03T08:17:06.327Z"
   },
   {
    "duration": 31,
    "start_time": "2023-10-03T08:17:06.457Z"
   },
   {
    "duration": 55,
    "start_time": "2023-10-03T08:17:06.491Z"
   },
   {
    "duration": 42,
    "start_time": "2023-10-03T08:17:06.549Z"
   },
   {
    "duration": 44,
    "start_time": "2023-10-03T08:17:06.593Z"
   },
   {
    "duration": 13,
    "start_time": "2023-10-03T08:17:06.639Z"
   },
   {
    "duration": 33,
    "start_time": "2023-10-03T08:17:06.654Z"
   },
   {
    "duration": 63,
    "start_time": "2023-10-03T08:17:06.689Z"
   },
   {
    "duration": 33,
    "start_time": "2023-10-03T08:17:06.754Z"
   },
   {
    "duration": 31,
    "start_time": "2023-10-03T08:17:06.790Z"
   },
   {
    "duration": 441,
    "start_time": "2023-10-03T08:17:06.823Z"
   },
   {
    "duration": 26,
    "start_time": "2023-10-03T08:17:07.268Z"
   },
   {
    "duration": 32,
    "start_time": "2023-10-03T08:17:07.296Z"
   },
   {
    "duration": 10,
    "start_time": "2023-10-03T08:17:07.330Z"
   },
   {
    "duration": 361,
    "start_time": "2023-10-03T08:17:07.342Z"
   },
   {
    "duration": 19,
    "start_time": "2023-10-03T08:17:07.705Z"
   },
   {
    "duration": 431,
    "start_time": "2023-10-03T08:17:07.729Z"
   },
   {
    "duration": 11,
    "start_time": "2023-10-03T08:17:08.162Z"
   },
   {
    "duration": 441,
    "start_time": "2023-10-03T08:17:08.176Z"
   },
   {
    "duration": 12,
    "start_time": "2023-10-03T08:17:08.621Z"
   },
   {
    "duration": 433,
    "start_time": "2023-10-03T08:17:08.636Z"
   },
   {
    "duration": 10,
    "start_time": "2023-10-03T08:17:09.071Z"
   },
   {
    "duration": 154,
    "start_time": "2023-10-03T08:17:09.082Z"
   },
   {
    "duration": 418,
    "start_time": "2023-10-03T08:17:09.238Z"
   },
   {
    "duration": 100,
    "start_time": "2023-10-03T08:17:09.657Z"
   },
   {
    "duration": 129,
    "start_time": "2023-10-03T08:17:09.760Z"
   },
   {
    "duration": 205,
    "start_time": "2023-10-03T08:17:09.891Z"
   },
   {
    "duration": 103,
    "start_time": "2023-10-03T08:17:10.098Z"
   },
   {
    "duration": 96,
    "start_time": "2023-10-03T08:17:10.203Z"
   },
   {
    "duration": 87,
    "start_time": "2023-10-03T08:17:10.301Z"
   },
   {
    "duration": 109,
    "start_time": "2023-10-03T08:17:10.391Z"
   },
   {
    "duration": 126,
    "start_time": "2023-10-03T08:17:10.502Z"
   },
   {
    "duration": 12,
    "start_time": "2023-10-03T08:17:10.632Z"
   },
   {
    "duration": 125,
    "start_time": "2023-10-03T08:17:10.646Z"
   },
   {
    "duration": 224,
    "start_time": "2023-10-03T08:17:10.773Z"
   },
   {
    "duration": 27,
    "start_time": "2023-10-03T08:17:10.999Z"
   },
   {
    "duration": 122,
    "start_time": "2023-10-03T08:17:11.028Z"
   },
   {
    "duration": 194,
    "start_time": "2023-10-03T08:17:11.152Z"
   },
   {
    "duration": 95,
    "start_time": "2023-10-03T08:17:11.352Z"
   },
   {
    "duration": 95,
    "start_time": "2023-10-03T08:17:11.449Z"
   },
   {
    "duration": 100,
    "start_time": "2023-10-03T08:17:11.546Z"
   },
   {
    "duration": 109,
    "start_time": "2023-10-03T08:17:11.649Z"
   },
   {
    "duration": 449,
    "start_time": "2023-10-03T08:17:11.760Z"
   },
   {
    "duration": 12,
    "start_time": "2023-10-03T08:17:12.217Z"
   },
   {
    "duration": 419,
    "start_time": "2023-10-03T08:17:12.232Z"
   },
   {
    "duration": 6,
    "start_time": "2023-10-03T08:17:12.653Z"
   },
   {
    "duration": 416,
    "start_time": "2023-10-03T08:17:12.661Z"
   },
   {
    "duration": 5,
    "start_time": "2023-10-03T08:17:13.079Z"
   },
   {
    "duration": 372,
    "start_time": "2023-10-03T08:17:13.086Z"
   },
   {
    "duration": 360,
    "start_time": "2023-10-03T08:17:13.460Z"
   },
   {
    "duration": 7,
    "start_time": "2023-10-03T08:17:13.823Z"
   },
   {
    "duration": 464,
    "start_time": "2023-10-03T08:17:13.832Z"
   },
   {
    "duration": 344,
    "start_time": "2023-10-03T08:17:14.298Z"
   },
   {
    "duration": 345,
    "start_time": "2023-10-03T08:17:14.644Z"
   },
   {
    "duration": 219,
    "start_time": "2023-10-03T08:17:14.991Z"
   },
   {
    "duration": 241,
    "start_time": "2023-10-03T08:17:15.212Z"
   },
   {
    "duration": 237,
    "start_time": "2023-10-03T08:17:15.456Z"
   },
   {
    "duration": 279,
    "start_time": "2023-10-03T08:17:15.694Z"
   },
   {
    "duration": 282,
    "start_time": "2023-10-03T08:17:15.975Z"
   },
   {
    "duration": 196,
    "start_time": "2023-10-03T08:17:16.259Z"
   },
   {
    "duration": 195,
    "start_time": "2023-10-03T08:17:16.457Z"
   },
   {
    "duration": 304,
    "start_time": "2023-10-03T08:17:16.654Z"
   },
   {
    "duration": 318,
    "start_time": "2023-10-03T08:17:16.960Z"
   },
   {
    "duration": 5,
    "start_time": "2023-10-03T08:17:17.280Z"
   },
   {
    "duration": 35,
    "start_time": "2023-10-03T08:17:17.288Z"
   },
   {
    "duration": 265,
    "start_time": "2023-10-03T08:17:17.330Z"
   },
   {
    "duration": 468,
    "start_time": "2023-10-03T08:17:17.597Z"
   },
   {
    "duration": 12,
    "start_time": "2023-10-03T08:17:18.067Z"
   },
   {
    "duration": 491,
    "start_time": "2023-10-03T08:17:18.081Z"
   },
   {
    "duration": 8,
    "start_time": "2023-10-03T08:17:18.575Z"
   },
   {
    "duration": 35,
    "start_time": "2023-10-03T08:17:18.585Z"
   },
   {
    "duration": 10,
    "start_time": "2023-10-03T08:17:18.622Z"
   },
   {
    "duration": 140,
    "start_time": "2023-10-03T08:17:18.634Z"
   },
   {
    "duration": 0,
    "start_time": "2023-10-03T08:17:18.776Z"
   },
   {
    "duration": 0,
    "start_time": "2023-10-03T08:17:18.778Z"
   },
   {
    "duration": 0,
    "start_time": "2023-10-03T08:17:18.779Z"
   },
   {
    "duration": 0,
    "start_time": "2023-10-03T08:17:18.780Z"
   },
   {
    "duration": 0,
    "start_time": "2023-10-03T08:17:18.781Z"
   },
   {
    "duration": 0,
    "start_time": "2023-10-03T08:17:18.783Z"
   },
   {
    "duration": 0,
    "start_time": "2023-10-03T08:17:18.784Z"
   },
   {
    "duration": 0,
    "start_time": "2023-10-03T08:17:18.785Z"
   },
   {
    "duration": 0,
    "start_time": "2023-10-03T08:17:18.786Z"
   },
   {
    "duration": 0,
    "start_time": "2023-10-03T08:17:18.809Z"
   },
   {
    "duration": 0,
    "start_time": "2023-10-03T08:17:18.811Z"
   },
   {
    "duration": 0,
    "start_time": "2023-10-03T08:17:18.817Z"
   },
   {
    "duration": 0,
    "start_time": "2023-10-03T08:17:18.818Z"
   },
   {
    "duration": 0,
    "start_time": "2023-10-03T08:17:18.819Z"
   },
   {
    "duration": 0,
    "start_time": "2023-10-03T08:17:18.822Z"
   },
   {
    "duration": 0,
    "start_time": "2023-10-03T08:17:18.827Z"
   },
   {
    "duration": 0,
    "start_time": "2023-10-03T08:17:18.828Z"
   },
   {
    "duration": 0,
    "start_time": "2023-10-03T08:17:18.829Z"
   },
   {
    "duration": 0,
    "start_time": "2023-10-03T08:17:18.832Z"
   },
   {
    "duration": 0,
    "start_time": "2023-10-03T08:17:18.833Z"
   },
   {
    "duration": 0,
    "start_time": "2023-10-03T08:17:18.834Z"
   },
   {
    "duration": 0,
    "start_time": "2023-10-03T08:17:18.835Z"
   },
   {
    "duration": 0,
    "start_time": "2023-10-03T08:17:18.837Z"
   },
   {
    "duration": 0,
    "start_time": "2023-10-03T08:17:18.838Z"
   },
   {
    "duration": 0,
    "start_time": "2023-10-03T08:17:18.839Z"
   },
   {
    "duration": 0,
    "start_time": "2023-10-03T08:17:18.840Z"
   },
   {
    "duration": 0,
    "start_time": "2023-10-03T08:17:18.841Z"
   },
   {
    "duration": 0,
    "start_time": "2023-10-03T08:17:18.843Z"
   },
   {
    "duration": 0,
    "start_time": "2023-10-03T08:17:18.844Z"
   },
   {
    "duration": 0,
    "start_time": "2023-10-03T08:17:18.846Z"
   },
   {
    "duration": 0,
    "start_time": "2023-10-03T08:17:18.847Z"
   },
   {
    "duration": 0,
    "start_time": "2023-10-03T08:17:18.848Z"
   },
   {
    "duration": 0,
    "start_time": "2023-10-03T08:17:18.849Z"
   },
   {
    "duration": 1825,
    "start_time": "2023-10-03T08:18:09.481Z"
   },
   {
    "duration": 8,
    "start_time": "2023-10-03T08:18:11.309Z"
   },
   {
    "duration": 90,
    "start_time": "2023-10-03T08:18:11.320Z"
   },
   {
    "duration": 23,
    "start_time": "2023-10-03T08:18:11.415Z"
   },
   {
    "duration": 29,
    "start_time": "2023-10-03T08:18:11.442Z"
   },
   {
    "duration": 65,
    "start_time": "2023-10-03T08:18:11.473Z"
   },
   {
    "duration": 36,
    "start_time": "2023-10-03T08:18:11.540Z"
   },
   {
    "duration": 12,
    "start_time": "2023-10-03T08:18:11.578Z"
   },
   {
    "duration": 50,
    "start_time": "2023-10-03T08:18:11.592Z"
   },
   {
    "duration": 27,
    "start_time": "2023-10-03T08:18:11.644Z"
   },
   {
    "duration": 21,
    "start_time": "2023-10-03T08:18:11.673Z"
   },
   {
    "duration": 19,
    "start_time": "2023-10-03T08:18:11.697Z"
   },
   {
    "duration": 514,
    "start_time": "2023-10-03T08:18:11.722Z"
   },
   {
    "duration": 20,
    "start_time": "2023-10-03T08:18:12.241Z"
   },
   {
    "duration": 10,
    "start_time": "2023-10-03T08:18:12.263Z"
   },
   {
    "duration": 39,
    "start_time": "2023-10-03T08:18:12.276Z"
   },
   {
    "duration": 433,
    "start_time": "2023-10-03T08:18:12.316Z"
   },
   {
    "duration": 11,
    "start_time": "2023-10-03T08:18:12.753Z"
   },
   {
    "duration": 517,
    "start_time": "2023-10-03T08:18:12.766Z"
   },
   {
    "duration": 9,
    "start_time": "2023-10-03T08:18:13.285Z"
   },
   {
    "duration": 437,
    "start_time": "2023-10-03T08:18:13.312Z"
   },
   {
    "duration": 10,
    "start_time": "2023-10-03T08:18:13.750Z"
   },
   {
    "duration": 433,
    "start_time": "2023-10-03T08:18:13.762Z"
   },
   {
    "duration": 20,
    "start_time": "2023-10-03T08:18:14.197Z"
   },
   {
    "duration": 143,
    "start_time": "2023-10-03T08:18:14.221Z"
   },
   {
    "duration": 501,
    "start_time": "2023-10-03T08:18:14.366Z"
   },
   {
    "duration": 107,
    "start_time": "2023-10-03T08:18:14.869Z"
   },
   {
    "duration": 118,
    "start_time": "2023-10-03T08:18:14.979Z"
   },
   {
    "duration": 278,
    "start_time": "2023-10-03T08:18:15.100Z"
   },
   {
    "duration": 123,
    "start_time": "2023-10-03T08:18:15.381Z"
   },
   {
    "duration": 109,
    "start_time": "2023-10-03T08:18:15.508Z"
   },
   {
    "duration": 123,
    "start_time": "2023-10-03T08:18:15.625Z"
   },
   {
    "duration": 124,
    "start_time": "2023-10-03T08:18:15.752Z"
   },
   {
    "duration": 125,
    "start_time": "2023-10-03T08:18:15.877Z"
   },
   {
    "duration": 12,
    "start_time": "2023-10-03T08:18:16.010Z"
   },
   {
    "duration": 145,
    "start_time": "2023-10-03T08:18:16.026Z"
   },
   {
    "duration": 221,
    "start_time": "2023-10-03T08:18:16.173Z"
   },
   {
    "duration": 22,
    "start_time": "2023-10-03T08:18:16.396Z"
   },
   {
    "duration": 155,
    "start_time": "2023-10-03T08:18:16.425Z"
   },
   {
    "duration": 223,
    "start_time": "2023-10-03T08:18:16.583Z"
   },
   {
    "duration": 108,
    "start_time": "2023-10-03T08:18:16.815Z"
   },
   {
    "duration": 103,
    "start_time": "2023-10-03T08:18:16.924Z"
   },
   {
    "duration": 98,
    "start_time": "2023-10-03T08:18:17.029Z"
   },
   {
    "duration": 110,
    "start_time": "2023-10-03T08:18:17.131Z"
   },
   {
    "duration": 496,
    "start_time": "2023-10-03T08:18:17.243Z"
   },
   {
    "duration": 6,
    "start_time": "2023-10-03T08:18:17.742Z"
   },
   {
    "duration": 374,
    "start_time": "2023-10-03T08:18:17.751Z"
   },
   {
    "duration": 6,
    "start_time": "2023-10-03T08:18:18.127Z"
   },
   {
    "duration": 360,
    "start_time": "2023-10-03T08:18:18.135Z"
   },
   {
    "duration": 24,
    "start_time": "2023-10-03T08:18:18.498Z"
   },
   {
    "duration": 508,
    "start_time": "2023-10-03T08:18:18.527Z"
   },
   {
    "duration": 377,
    "start_time": "2023-10-03T08:18:19.038Z"
   },
   {
    "duration": 9,
    "start_time": "2023-10-03T08:18:19.417Z"
   },
   {
    "duration": 502,
    "start_time": "2023-10-03T08:18:19.428Z"
   },
   {
    "duration": 368,
    "start_time": "2023-10-03T08:18:19.935Z"
   },
   {
    "duration": 368,
    "start_time": "2023-10-03T08:18:20.305Z"
   },
   {
    "duration": 278,
    "start_time": "2023-10-03T08:18:20.675Z"
   },
   {
    "duration": 284,
    "start_time": "2023-10-03T08:18:20.955Z"
   },
   {
    "duration": 271,
    "start_time": "2023-10-03T08:18:21.241Z"
   },
   {
    "duration": 301,
    "start_time": "2023-10-03T08:18:21.514Z"
   },
   {
    "duration": 304,
    "start_time": "2023-10-03T08:18:21.817Z"
   },
   {
    "duration": 221,
    "start_time": "2023-10-03T08:18:22.122Z"
   },
   {
    "duration": 224,
    "start_time": "2023-10-03T08:18:22.345Z"
   },
   {
    "duration": 387,
    "start_time": "2023-10-03T08:18:22.571Z"
   },
   {
    "duration": 328,
    "start_time": "2023-10-03T08:18:22.960Z"
   },
   {
    "duration": 3,
    "start_time": "2023-10-03T08:18:23.290Z"
   },
   {
    "duration": 17,
    "start_time": "2023-10-03T08:18:23.295Z"
   },
   {
    "duration": 271,
    "start_time": "2023-10-03T08:18:23.313Z"
   },
   {
    "duration": 506,
    "start_time": "2023-10-03T08:18:23.588Z"
   },
   {
    "duration": 31,
    "start_time": "2023-10-03T08:18:24.095Z"
   },
   {
    "duration": 448,
    "start_time": "2023-10-03T08:18:24.134Z"
   },
   {
    "duration": 11,
    "start_time": "2023-10-03T08:18:24.584Z"
   },
   {
    "duration": 20,
    "start_time": "2023-10-03T08:18:24.609Z"
   },
   {
    "duration": 5,
    "start_time": "2023-10-03T08:18:24.632Z"
   },
   {
    "duration": 30,
    "start_time": "2023-10-03T08:18:24.640Z"
   },
   {
    "duration": 17,
    "start_time": "2023-10-03T08:18:24.672Z"
   },
   {
    "duration": 33,
    "start_time": "2023-10-03T08:18:24.691Z"
   },
   {
    "duration": 26,
    "start_time": "2023-10-03T08:18:24.726Z"
   },
   {
    "duration": 6,
    "start_time": "2023-10-03T08:18:24.755Z"
   },
   {
    "duration": 19,
    "start_time": "2023-10-03T08:18:24.763Z"
   },
   {
    "duration": 42,
    "start_time": "2023-10-03T08:18:24.783Z"
   },
   {
    "duration": 17,
    "start_time": "2023-10-03T08:18:24.826Z"
   },
   {
    "duration": 10,
    "start_time": "2023-10-03T08:18:24.844Z"
   },
   {
    "duration": 11,
    "start_time": "2023-10-03T08:18:24.857Z"
   },
   {
    "duration": 533,
    "start_time": "2023-10-03T08:18:24.870Z"
   },
   {
    "duration": 13,
    "start_time": "2023-10-03T08:18:25.405Z"
   },
   {
    "duration": 24,
    "start_time": "2023-10-03T08:18:25.421Z"
   },
   {
    "duration": 17,
    "start_time": "2023-10-03T08:18:25.448Z"
   },
   {
    "duration": 15,
    "start_time": "2023-10-03T08:18:25.467Z"
   },
   {
    "duration": 314,
    "start_time": "2023-10-03T08:18:25.485Z"
   },
   {
    "duration": 166,
    "start_time": "2023-10-03T08:18:25.801Z"
   },
   {
    "duration": 0,
    "start_time": "2023-10-03T08:18:25.970Z"
   },
   {
    "duration": 0,
    "start_time": "2023-10-03T08:18:25.971Z"
   },
   {
    "duration": 0,
    "start_time": "2023-10-03T08:18:25.973Z"
   },
   {
    "duration": 0,
    "start_time": "2023-10-03T08:18:25.975Z"
   },
   {
    "duration": 0,
    "start_time": "2023-10-03T08:18:25.976Z"
   },
   {
    "duration": 0,
    "start_time": "2023-10-03T08:18:25.977Z"
   },
   {
    "duration": 0,
    "start_time": "2023-10-03T08:18:25.979Z"
   },
   {
    "duration": 0,
    "start_time": "2023-10-03T08:18:25.980Z"
   },
   {
    "duration": 0,
    "start_time": "2023-10-03T08:18:25.982Z"
   },
   {
    "duration": 0,
    "start_time": "2023-10-03T08:18:25.983Z"
   },
   {
    "duration": 0,
    "start_time": "2023-10-03T08:18:26.013Z"
   },
   {
    "duration": 0,
    "start_time": "2023-10-03T08:18:26.014Z"
   },
   {
    "duration": 0,
    "start_time": "2023-10-03T08:18:26.016Z"
   },
   {
    "duration": 0,
    "start_time": "2023-10-03T08:18:26.017Z"
   },
   {
    "duration": 0,
    "start_time": "2023-10-03T08:18:26.019Z"
   },
   {
    "duration": 0,
    "start_time": "2023-10-03T08:18:26.020Z"
   },
   {
    "duration": 0,
    "start_time": "2023-10-03T08:18:26.027Z"
   },
   {
    "duration": 1742,
    "start_time": "2023-10-03T08:20:48.934Z"
   },
   {
    "duration": 3,
    "start_time": "2023-10-03T08:20:50.678Z"
   },
   {
    "duration": 82,
    "start_time": "2023-10-03T08:20:50.683Z"
   },
   {
    "duration": 21,
    "start_time": "2023-10-03T08:20:50.768Z"
   },
   {
    "duration": 54,
    "start_time": "2023-10-03T08:20:50.792Z"
   },
   {
    "duration": 33,
    "start_time": "2023-10-03T08:20:50.848Z"
   },
   {
    "duration": 58,
    "start_time": "2023-10-03T08:20:50.883Z"
   },
   {
    "duration": 20,
    "start_time": "2023-10-03T08:20:50.943Z"
   },
   {
    "duration": 13,
    "start_time": "2023-10-03T08:20:50.966Z"
   },
   {
    "duration": 34,
    "start_time": "2023-10-03T08:20:50.983Z"
   },
   {
    "duration": 16,
    "start_time": "2023-10-03T08:20:51.025Z"
   },
   {
    "duration": 17,
    "start_time": "2023-10-03T08:20:51.043Z"
   },
   {
    "duration": 434,
    "start_time": "2023-10-03T08:20:51.062Z"
   },
   {
    "duration": 37,
    "start_time": "2023-10-03T08:20:51.498Z"
   },
   {
    "duration": 44,
    "start_time": "2023-10-03T08:20:51.537Z"
   },
   {
    "duration": 28,
    "start_time": "2023-10-03T08:20:51.583Z"
   },
   {
    "duration": 361,
    "start_time": "2023-10-03T08:20:51.620Z"
   },
   {
    "duration": 9,
    "start_time": "2023-10-03T08:20:51.983Z"
   },
   {
    "duration": 499,
    "start_time": "2023-10-03T08:20:51.994Z"
   },
   {
    "duration": 21,
    "start_time": "2023-10-03T08:20:52.495Z"
   },
   {
    "duration": 534,
    "start_time": "2023-10-03T08:20:52.519Z"
   },
   {
    "duration": 15,
    "start_time": "2023-10-03T08:20:53.055Z"
   },
   {
    "duration": 456,
    "start_time": "2023-10-03T08:20:53.073Z"
   },
   {
    "duration": 9,
    "start_time": "2023-10-03T08:20:53.532Z"
   },
   {
    "duration": 144,
    "start_time": "2023-10-03T08:20:53.543Z"
   },
   {
    "duration": 461,
    "start_time": "2023-10-03T08:20:53.688Z"
   },
   {
    "duration": 100,
    "start_time": "2023-10-03T08:20:54.151Z"
   },
   {
    "duration": 124,
    "start_time": "2023-10-03T08:20:54.256Z"
   },
   {
    "duration": 238,
    "start_time": "2023-10-03T08:20:54.382Z"
   },
   {
    "duration": 122,
    "start_time": "2023-10-03T08:20:54.626Z"
   },
   {
    "duration": 290,
    "start_time": "2023-10-03T08:20:54.751Z"
   },
   {
    "duration": 106,
    "start_time": "2023-10-03T08:20:55.043Z"
   },
   {
    "duration": 112,
    "start_time": "2023-10-03T08:20:55.152Z"
   },
   {
    "duration": 137,
    "start_time": "2023-10-03T08:20:55.267Z"
   },
   {
    "duration": 10,
    "start_time": "2023-10-03T08:20:55.414Z"
   },
   {
    "duration": 155,
    "start_time": "2023-10-03T08:20:55.429Z"
   },
   {
    "duration": 210,
    "start_time": "2023-10-03T08:20:55.586Z"
   },
   {
    "duration": 19,
    "start_time": "2023-10-03T08:20:55.798Z"
   },
   {
    "duration": 128,
    "start_time": "2023-10-03T08:20:55.822Z"
   },
   {
    "duration": 199,
    "start_time": "2023-10-03T08:20:55.953Z"
   },
   {
    "duration": 109,
    "start_time": "2023-10-03T08:20:56.154Z"
   },
   {
    "duration": 98,
    "start_time": "2023-10-03T08:20:56.265Z"
   },
   {
    "duration": 101,
    "start_time": "2023-10-03T08:20:56.365Z"
   },
   {
    "duration": 135,
    "start_time": "2023-10-03T08:20:56.469Z"
   },
   {
    "duration": 474,
    "start_time": "2023-10-03T08:20:56.610Z"
   },
   {
    "duration": 5,
    "start_time": "2023-10-03T08:20:57.087Z"
   },
   {
    "duration": 464,
    "start_time": "2023-10-03T08:20:57.094Z"
   },
   {
    "duration": 8,
    "start_time": "2023-10-03T08:20:57.561Z"
   },
   {
    "duration": 422,
    "start_time": "2023-10-03T08:20:57.571Z"
   },
   {
    "duration": 6,
    "start_time": "2023-10-03T08:20:57.995Z"
   },
   {
    "duration": 423,
    "start_time": "2023-10-03T08:20:58.011Z"
   },
   {
    "duration": 357,
    "start_time": "2023-10-03T08:20:58.436Z"
   },
   {
    "duration": 5,
    "start_time": "2023-10-03T08:20:58.795Z"
   },
   {
    "duration": 470,
    "start_time": "2023-10-03T08:20:58.809Z"
   },
   {
    "duration": 381,
    "start_time": "2023-10-03T08:20:59.281Z"
   },
   {
    "duration": 382,
    "start_time": "2023-10-03T08:20:59.665Z"
   },
   {
    "duration": 213,
    "start_time": "2023-10-03T08:21:00.049Z"
   },
   {
    "duration": 837,
    "start_time": "2023-10-03T08:21:00.264Z"
   },
   {
    "duration": 848,
    "start_time": "2023-10-03T08:21:01.112Z"
   },
   {
    "duration": 295,
    "start_time": "2023-10-03T08:21:01.962Z"
   },
   {
    "duration": 373,
    "start_time": "2023-10-03T08:21:02.260Z"
   },
   {
    "duration": 258,
    "start_time": "2023-10-03T08:21:02.636Z"
   },
   {
    "duration": 355,
    "start_time": "2023-10-03T08:21:02.896Z"
   },
   {
    "duration": 301,
    "start_time": "2023-10-03T08:21:03.253Z"
   },
   {
    "duration": 306,
    "start_time": "2023-10-03T08:21:03.556Z"
   },
   {
    "duration": 4,
    "start_time": "2023-10-03T08:21:03.864Z"
   },
   {
    "duration": 36,
    "start_time": "2023-10-03T08:21:03.870Z"
   },
   {
    "duration": 303,
    "start_time": "2023-10-03T08:21:03.910Z"
   },
   {
    "duration": 505,
    "start_time": "2023-10-03T08:21:04.222Z"
   },
   {
    "duration": 13,
    "start_time": "2023-10-03T08:21:04.729Z"
   },
   {
    "duration": 559,
    "start_time": "2023-10-03T08:21:04.745Z"
   },
   {
    "duration": 14,
    "start_time": "2023-10-03T08:21:05.306Z"
   },
   {
    "duration": 34,
    "start_time": "2023-10-03T08:21:05.322Z"
   },
   {
    "duration": 17,
    "start_time": "2023-10-03T08:21:05.358Z"
   },
   {
    "duration": 40,
    "start_time": "2023-10-03T08:21:05.378Z"
   },
   {
    "duration": 16,
    "start_time": "2023-10-03T08:21:05.427Z"
   },
   {
    "duration": 59,
    "start_time": "2023-10-03T08:21:05.446Z"
   },
   {
    "duration": 25,
    "start_time": "2023-10-03T08:21:05.507Z"
   },
   {
    "duration": 21,
    "start_time": "2023-10-03T08:21:05.535Z"
   },
   {
    "duration": 36,
    "start_time": "2023-10-03T08:21:05.558Z"
   },
   {
    "duration": 39,
    "start_time": "2023-10-03T08:21:05.595Z"
   },
   {
    "duration": 18,
    "start_time": "2023-10-03T08:21:05.641Z"
   },
   {
    "duration": 20,
    "start_time": "2023-10-03T08:21:05.661Z"
   },
   {
    "duration": 35,
    "start_time": "2023-10-03T08:21:05.684Z"
   },
   {
    "duration": 511,
    "start_time": "2023-10-03T08:21:05.721Z"
   },
   {
    "duration": 5,
    "start_time": "2023-10-03T08:21:06.234Z"
   },
   {
    "duration": 64,
    "start_time": "2023-10-03T08:21:06.241Z"
   },
   {
    "duration": 59,
    "start_time": "2023-10-03T08:21:06.308Z"
   },
   {
    "duration": 63,
    "start_time": "2023-10-03T08:21:06.370Z"
   },
   {
    "duration": 345,
    "start_time": "2023-10-03T08:21:06.436Z"
   },
   {
    "duration": 169,
    "start_time": "2023-10-03T08:21:06.784Z"
   },
   {
    "duration": 0,
    "start_time": "2023-10-03T08:21:06.955Z"
   },
   {
    "duration": 0,
    "start_time": "2023-10-03T08:21:06.957Z"
   },
   {
    "duration": 0,
    "start_time": "2023-10-03T08:21:06.959Z"
   },
   {
    "duration": 0,
    "start_time": "2023-10-03T08:21:06.961Z"
   },
   {
    "duration": 0,
    "start_time": "2023-10-03T08:21:06.962Z"
   },
   {
    "duration": 1,
    "start_time": "2023-10-03T08:21:06.963Z"
   },
   {
    "duration": 0,
    "start_time": "2023-10-03T08:21:06.964Z"
   },
   {
    "duration": 0,
    "start_time": "2023-10-03T08:21:06.966Z"
   },
   {
    "duration": 0,
    "start_time": "2023-10-03T08:21:06.967Z"
   },
   {
    "duration": 0,
    "start_time": "2023-10-03T08:21:06.968Z"
   },
   {
    "duration": 0,
    "start_time": "2023-10-03T08:21:06.969Z"
   },
   {
    "duration": 0,
    "start_time": "2023-10-03T08:21:06.971Z"
   },
   {
    "duration": 0,
    "start_time": "2023-10-03T08:21:06.972Z"
   },
   {
    "duration": 0,
    "start_time": "2023-10-03T08:21:06.974Z"
   },
   {
    "duration": 0,
    "start_time": "2023-10-03T08:21:07.013Z"
   },
   {
    "duration": 0,
    "start_time": "2023-10-03T08:21:07.016Z"
   },
   {
    "duration": 0,
    "start_time": "2023-10-03T08:21:07.017Z"
   },
   {
    "duration": 2196,
    "start_time": "2023-10-03T08:32:17.944Z"
   },
   {
    "duration": 4,
    "start_time": "2023-10-03T08:32:20.143Z"
   },
   {
    "duration": 126,
    "start_time": "2023-10-03T08:32:20.149Z"
   },
   {
    "duration": 22,
    "start_time": "2023-10-03T08:32:20.278Z"
   },
   {
    "duration": 49,
    "start_time": "2023-10-03T08:32:20.307Z"
   },
   {
    "duration": 57,
    "start_time": "2023-10-03T08:32:20.359Z"
   },
   {
    "duration": 51,
    "start_time": "2023-10-03T08:32:20.418Z"
   },
   {
    "duration": 13,
    "start_time": "2023-10-03T08:32:20.471Z"
   },
   {
    "duration": 15,
    "start_time": "2023-10-03T08:32:20.486Z"
   },
   {
    "duration": 18,
    "start_time": "2023-10-03T08:32:20.509Z"
   },
   {
    "duration": 23,
    "start_time": "2023-10-03T08:32:20.534Z"
   },
   {
    "duration": 51,
    "start_time": "2023-10-03T08:32:20.565Z"
   },
   {
    "duration": 647,
    "start_time": "2023-10-03T08:32:20.627Z"
   },
   {
    "duration": 31,
    "start_time": "2023-10-03T08:32:21.284Z"
   },
   {
    "duration": 14,
    "start_time": "2023-10-03T08:32:21.324Z"
   },
   {
    "duration": 36,
    "start_time": "2023-10-03T08:32:21.346Z"
   },
   {
    "duration": 572,
    "start_time": "2023-10-03T08:32:21.385Z"
   },
   {
    "duration": 18,
    "start_time": "2023-10-03T08:32:21.962Z"
   },
   {
    "duration": 651,
    "start_time": "2023-10-03T08:32:21.985Z"
   },
   {
    "duration": 18,
    "start_time": "2023-10-03T08:32:22.640Z"
   },
   {
    "duration": 654,
    "start_time": "2023-10-03T08:32:22.666Z"
   },
   {
    "duration": 16,
    "start_time": "2023-10-03T08:32:23.322Z"
   },
   {
    "duration": 659,
    "start_time": "2023-10-03T08:32:23.341Z"
   },
   {
    "duration": 23,
    "start_time": "2023-10-03T08:32:24.003Z"
   },
   {
    "duration": 218,
    "start_time": "2023-10-03T08:32:24.036Z"
   },
   {
    "duration": 526,
    "start_time": "2023-10-03T08:32:24.257Z"
   },
   {
    "duration": 111,
    "start_time": "2023-10-03T08:32:24.785Z"
   },
   {
    "duration": 145,
    "start_time": "2023-10-03T08:32:24.899Z"
   },
   {
    "duration": 257,
    "start_time": "2023-10-03T08:32:25.046Z"
   },
   {
    "duration": 144,
    "start_time": "2023-10-03T08:32:25.305Z"
   },
   {
    "duration": 129,
    "start_time": "2023-10-03T08:32:25.451Z"
   },
   {
    "duration": 124,
    "start_time": "2023-10-03T08:32:25.585Z"
   },
   {
    "duration": 138,
    "start_time": "2023-10-03T08:32:25.711Z"
   },
   {
    "duration": 163,
    "start_time": "2023-10-03T08:32:25.851Z"
   },
   {
    "duration": 24,
    "start_time": "2023-10-03T08:32:26.017Z"
   },
   {
    "duration": 227,
    "start_time": "2023-10-03T08:32:26.042Z"
   },
   {
    "duration": 275,
    "start_time": "2023-10-03T08:32:26.272Z"
   },
   {
    "duration": 12,
    "start_time": "2023-10-03T08:32:26.550Z"
   },
   {
    "duration": 185,
    "start_time": "2023-10-03T08:32:26.564Z"
   },
   {
    "duration": 287,
    "start_time": "2023-10-03T08:32:26.752Z"
   },
   {
    "duration": 115,
    "start_time": "2023-10-03T08:32:27.047Z"
   },
   {
    "duration": 251,
    "start_time": "2023-10-03T08:32:27.165Z"
   },
   {
    "duration": 126,
    "start_time": "2023-10-03T08:32:27.419Z"
   },
   {
    "duration": 126,
    "start_time": "2023-10-03T08:32:27.547Z"
   },
   {
    "duration": 558,
    "start_time": "2023-10-03T08:32:27.676Z"
   },
   {
    "duration": 7,
    "start_time": "2023-10-03T08:32:28.237Z"
   },
   {
    "duration": 382,
    "start_time": "2023-10-03T08:32:28.246Z"
   },
   {
    "duration": 6,
    "start_time": "2023-10-03T08:32:28.639Z"
   },
   {
    "duration": 470,
    "start_time": "2023-10-03T08:32:28.647Z"
   },
   {
    "duration": 5,
    "start_time": "2023-10-03T08:32:29.119Z"
   },
   {
    "duration": 419,
    "start_time": "2023-10-03T08:32:29.126Z"
   },
   {
    "duration": 532,
    "start_time": "2023-10-03T08:32:29.547Z"
   },
   {
    "duration": 7,
    "start_time": "2023-10-03T08:32:30.081Z"
   },
   {
    "duration": 1303,
    "start_time": "2023-10-03T08:32:30.091Z"
   },
   {
    "duration": 487,
    "start_time": "2023-10-03T08:32:31.396Z"
   },
   {
    "duration": 462,
    "start_time": "2023-10-03T08:32:31.886Z"
   },
   {
    "duration": 386,
    "start_time": "2023-10-03T08:32:32.350Z"
   },
   {
    "duration": 291,
    "start_time": "2023-10-03T08:32:32.738Z"
   },
   {
    "duration": 283,
    "start_time": "2023-10-03T08:32:33.038Z"
   },
   {
    "duration": 335,
    "start_time": "2023-10-03T08:32:33.334Z"
   },
   {
    "duration": 397,
    "start_time": "2023-10-03T08:32:33.672Z"
   },
   {
    "duration": 194,
    "start_time": "2023-10-03T08:32:34.072Z"
   },
   {
    "duration": 258,
    "start_time": "2023-10-03T08:32:34.268Z"
   },
   {
    "duration": 386,
    "start_time": "2023-10-03T08:32:34.532Z"
   },
   {
    "duration": 402,
    "start_time": "2023-10-03T08:32:34.926Z"
   },
   {
    "duration": 7,
    "start_time": "2023-10-03T08:32:35.331Z"
   },
   {
    "duration": 78,
    "start_time": "2023-10-03T08:32:35.366Z"
   },
   {
    "duration": 301,
    "start_time": "2023-10-03T08:32:35.447Z"
   },
   {
    "duration": 477,
    "start_time": "2023-10-03T08:32:35.750Z"
   },
   {
    "duration": 17,
    "start_time": "2023-10-03T08:32:36.229Z"
   },
   {
    "duration": 584,
    "start_time": "2023-10-03T08:32:36.248Z"
   },
   {
    "duration": 11,
    "start_time": "2023-10-03T08:32:36.834Z"
   },
   {
    "duration": 17,
    "start_time": "2023-10-03T08:32:36.848Z"
   },
   {
    "duration": 41,
    "start_time": "2023-10-03T08:32:36.868Z"
   },
   {
    "duration": 19,
    "start_time": "2023-10-03T08:32:36.915Z"
   },
   {
    "duration": 23,
    "start_time": "2023-10-03T08:32:36.937Z"
   },
   {
    "duration": 20,
    "start_time": "2023-10-03T08:32:36.963Z"
   },
   {
    "duration": 29,
    "start_time": "2023-10-03T08:32:36.986Z"
   },
   {
    "duration": 8,
    "start_time": "2023-10-03T08:32:37.017Z"
   },
   {
    "duration": 47,
    "start_time": "2023-10-03T08:32:37.027Z"
   },
   {
    "duration": 27,
    "start_time": "2023-10-03T08:32:37.076Z"
   },
   {
    "duration": 12,
    "start_time": "2023-10-03T08:32:37.106Z"
   },
   {
    "duration": 23,
    "start_time": "2023-10-03T08:32:37.120Z"
   },
   {
    "duration": 37,
    "start_time": "2023-10-03T08:32:37.145Z"
   },
   {
    "duration": 581,
    "start_time": "2023-10-03T08:32:37.185Z"
   },
   {
    "duration": 6,
    "start_time": "2023-10-03T08:32:37.768Z"
   },
   {
    "duration": 30,
    "start_time": "2023-10-03T08:32:37.777Z"
   },
   {
    "duration": 35,
    "start_time": "2023-10-03T08:32:37.809Z"
   },
   {
    "duration": 41,
    "start_time": "2023-10-03T08:32:37.847Z"
   },
   {
    "duration": 333,
    "start_time": "2023-10-03T08:32:37.891Z"
   },
   {
    "duration": 176,
    "start_time": "2023-10-03T08:32:38.226Z"
   },
   {
    "duration": 0,
    "start_time": "2023-10-03T08:32:38.404Z"
   },
   {
    "duration": 0,
    "start_time": "2023-10-03T08:32:38.405Z"
   },
   {
    "duration": 0,
    "start_time": "2023-10-03T08:32:38.409Z"
   },
   {
    "duration": 0,
    "start_time": "2023-10-03T08:32:38.410Z"
   },
   {
    "duration": 0,
    "start_time": "2023-10-03T08:32:38.410Z"
   },
   {
    "duration": 0,
    "start_time": "2023-10-03T08:32:38.411Z"
   },
   {
    "duration": 0,
    "start_time": "2023-10-03T08:32:38.412Z"
   },
   {
    "duration": 0,
    "start_time": "2023-10-03T08:32:38.412Z"
   },
   {
    "duration": 0,
    "start_time": "2023-10-03T08:32:38.413Z"
   },
   {
    "duration": 0,
    "start_time": "2023-10-03T08:32:38.418Z"
   },
   {
    "duration": 0,
    "start_time": "2023-10-03T08:32:38.420Z"
   },
   {
    "duration": 0,
    "start_time": "2023-10-03T08:32:38.421Z"
   },
   {
    "duration": 0,
    "start_time": "2023-10-03T08:32:38.422Z"
   },
   {
    "duration": 0,
    "start_time": "2023-10-03T08:32:38.424Z"
   },
   {
    "duration": 0,
    "start_time": "2023-10-03T08:32:38.425Z"
   },
   {
    "duration": 0,
    "start_time": "2023-10-03T08:32:38.433Z"
   },
   {
    "duration": 0,
    "start_time": "2023-10-03T08:32:38.439Z"
   },
   {
    "duration": 1711,
    "start_time": "2023-10-03T09:30:51.051Z"
   },
   {
    "duration": 3,
    "start_time": "2023-10-03T09:30:52.764Z"
   },
   {
    "duration": 103,
    "start_time": "2023-10-03T09:30:52.769Z"
   },
   {
    "duration": 15,
    "start_time": "2023-10-03T09:30:52.874Z"
   },
   {
    "duration": 51,
    "start_time": "2023-10-03T09:30:52.891Z"
   },
   {
    "duration": 30,
    "start_time": "2023-10-03T09:30:52.944Z"
   },
   {
    "duration": 49,
    "start_time": "2023-10-03T09:30:52.976Z"
   },
   {
    "duration": 11,
    "start_time": "2023-10-03T09:30:53.027Z"
   },
   {
    "duration": 13,
    "start_time": "2023-10-03T09:30:53.040Z"
   },
   {
    "duration": 10,
    "start_time": "2023-10-03T09:30:53.055Z"
   },
   {
    "duration": 52,
    "start_time": "2023-10-03T09:30:53.067Z"
   },
   {
    "duration": 11,
    "start_time": "2023-10-03T09:30:53.121Z"
   },
   {
    "duration": 452,
    "start_time": "2023-10-03T09:30:53.135Z"
   },
   {
    "duration": 29,
    "start_time": "2023-10-03T09:30:53.592Z"
   },
   {
    "duration": 31,
    "start_time": "2023-10-03T09:30:53.623Z"
   },
   {
    "duration": 16,
    "start_time": "2023-10-03T09:30:53.656Z"
   },
   {
    "duration": 326,
    "start_time": "2023-10-03T09:30:53.674Z"
   },
   {
    "duration": 15,
    "start_time": "2023-10-03T09:30:54.002Z"
   },
   {
    "duration": 432,
    "start_time": "2023-10-03T09:30:54.020Z"
   },
   {
    "duration": 12,
    "start_time": "2023-10-03T09:30:54.454Z"
   },
   {
    "duration": 391,
    "start_time": "2023-10-03T09:30:54.468Z"
   },
   {
    "duration": 10,
    "start_time": "2023-10-03T09:30:54.861Z"
   },
   {
    "duration": 401,
    "start_time": "2023-10-03T09:30:54.874Z"
   },
   {
    "duration": 12,
    "start_time": "2023-10-03T09:30:55.277Z"
   },
   {
    "duration": 155,
    "start_time": "2023-10-03T09:30:55.291Z"
   },
   {
    "duration": 397,
    "start_time": "2023-10-03T09:30:55.448Z"
   },
   {
    "duration": 90,
    "start_time": "2023-10-03T09:30:55.848Z"
   },
   {
    "duration": 110,
    "start_time": "2023-10-03T09:30:55.940Z"
   },
   {
    "duration": 204,
    "start_time": "2023-10-03T09:30:56.053Z"
   },
   {
    "duration": 123,
    "start_time": "2023-10-03T09:30:56.260Z"
   },
   {
    "duration": 92,
    "start_time": "2023-10-03T09:30:56.386Z"
   },
   {
    "duration": 95,
    "start_time": "2023-10-03T09:30:56.480Z"
   },
   {
    "duration": 106,
    "start_time": "2023-10-03T09:30:56.577Z"
   },
   {
    "duration": 108,
    "start_time": "2023-10-03T09:30:56.685Z"
   },
   {
    "duration": 21,
    "start_time": "2023-10-03T09:30:56.796Z"
   },
   {
    "duration": 270,
    "start_time": "2023-10-03T09:30:56.819Z"
   },
   {
    "duration": 208,
    "start_time": "2023-10-03T09:30:57.092Z"
   },
   {
    "duration": 15,
    "start_time": "2023-10-03T09:30:57.302Z"
   },
   {
    "duration": 119,
    "start_time": "2023-10-03T09:30:57.319Z"
   },
   {
    "duration": 193,
    "start_time": "2023-10-03T09:30:57.440Z"
   },
   {
    "duration": 103,
    "start_time": "2023-10-03T09:30:57.640Z"
   },
   {
    "duration": 93,
    "start_time": "2023-10-03T09:30:57.746Z"
   },
   {
    "duration": 98,
    "start_time": "2023-10-03T09:30:57.841Z"
   },
   {
    "duration": 111,
    "start_time": "2023-10-03T09:30:57.941Z"
   },
   {
    "duration": 493,
    "start_time": "2023-10-03T09:30:58.055Z"
   },
   {
    "duration": 6,
    "start_time": "2023-10-03T09:30:58.550Z"
   },
   {
    "duration": 341,
    "start_time": "2023-10-03T09:30:58.558Z"
   },
   {
    "duration": 11,
    "start_time": "2023-10-03T09:30:58.901Z"
   },
   {
    "duration": 340,
    "start_time": "2023-10-03T09:30:58.914Z"
   },
   {
    "duration": 7,
    "start_time": "2023-10-03T09:30:59.256Z"
   },
   {
    "duration": 350,
    "start_time": "2023-10-03T09:30:59.265Z"
   },
   {
    "duration": 336,
    "start_time": "2023-10-03T09:30:59.617Z"
   },
   {
    "duration": 5,
    "start_time": "2023-10-03T09:30:59.955Z"
   },
   {
    "duration": 468,
    "start_time": "2023-10-03T09:30:59.962Z"
   },
   {
    "duration": 317,
    "start_time": "2023-10-03T09:31:00.432Z"
   },
   {
    "duration": 335,
    "start_time": "2023-10-03T09:31:00.752Z"
   },
   {
    "duration": 201,
    "start_time": "2023-10-03T09:31:01.089Z"
   },
   {
    "duration": 216,
    "start_time": "2023-10-03T09:31:01.294Z"
   },
   {
    "duration": 205,
    "start_time": "2023-10-03T09:31:01.513Z"
   },
   {
    "duration": 290,
    "start_time": "2023-10-03T09:31:01.719Z"
   },
   {
    "duration": 270,
    "start_time": "2023-10-03T09:31:02.012Z"
   },
   {
    "duration": 259,
    "start_time": "2023-10-03T09:31:02.284Z"
   },
   {
    "duration": 234,
    "start_time": "2023-10-03T09:31:02.546Z"
   },
   {
    "duration": 291,
    "start_time": "2023-10-03T09:31:02.782Z"
   },
   {
    "duration": 278,
    "start_time": "2023-10-03T09:31:03.074Z"
   },
   {
    "duration": 5,
    "start_time": "2023-10-03T09:31:03.355Z"
   },
   {
    "duration": 9,
    "start_time": "2023-10-03T09:31:03.362Z"
   },
   {
    "duration": 259,
    "start_time": "2023-10-03T09:31:03.374Z"
   },
   {
    "duration": 460,
    "start_time": "2023-10-03T09:31:03.635Z"
   },
   {
    "duration": 21,
    "start_time": "2023-10-03T09:31:04.098Z"
   },
   {
    "duration": 436,
    "start_time": "2023-10-03T09:31:04.122Z"
   },
   {
    "duration": 9,
    "start_time": "2023-10-03T09:31:04.560Z"
   },
   {
    "duration": 15,
    "start_time": "2023-10-03T09:31:04.572Z"
   },
   {
    "duration": 26,
    "start_time": "2023-10-03T09:31:04.589Z"
   },
   {
    "duration": 22,
    "start_time": "2023-10-03T09:31:04.617Z"
   },
   {
    "duration": 14,
    "start_time": "2023-10-03T09:31:04.641Z"
   },
   {
    "duration": 24,
    "start_time": "2023-10-03T09:31:04.657Z"
   },
   {
    "duration": 26,
    "start_time": "2023-10-03T09:31:04.683Z"
   },
   {
    "duration": 5,
    "start_time": "2023-10-03T09:31:04.711Z"
   },
   {
    "duration": 24,
    "start_time": "2023-10-03T09:31:04.718Z"
   },
   {
    "duration": 19,
    "start_time": "2023-10-03T09:31:04.744Z"
   },
   {
    "duration": 9,
    "start_time": "2023-10-03T09:31:04.765Z"
   },
   {
    "duration": 14,
    "start_time": "2023-10-03T09:31:04.775Z"
   },
   {
    "duration": 23,
    "start_time": "2023-10-03T09:31:04.791Z"
   },
   {
    "duration": 438,
    "start_time": "2023-10-03T09:31:04.816Z"
   },
   {
    "duration": 5,
    "start_time": "2023-10-03T09:31:05.257Z"
   },
   {
    "duration": 23,
    "start_time": "2023-10-03T09:31:05.264Z"
   },
   {
    "duration": 42,
    "start_time": "2023-10-03T09:31:05.290Z"
   },
   {
    "duration": 14,
    "start_time": "2023-10-03T09:31:05.335Z"
   },
   {
    "duration": 326,
    "start_time": "2023-10-03T09:31:05.351Z"
   },
   {
    "duration": 164,
    "start_time": "2023-10-03T09:31:05.679Z"
   },
   {
    "duration": 0,
    "start_time": "2023-10-03T09:31:05.845Z"
   },
   {
    "duration": 0,
    "start_time": "2023-10-03T09:31:05.847Z"
   },
   {
    "duration": 0,
    "start_time": "2023-10-03T09:31:05.848Z"
   },
   {
    "duration": 0,
    "start_time": "2023-10-03T09:31:05.849Z"
   },
   {
    "duration": 0,
    "start_time": "2023-10-03T09:31:05.850Z"
   },
   {
    "duration": 0,
    "start_time": "2023-10-03T09:31:05.851Z"
   },
   {
    "duration": 0,
    "start_time": "2023-10-03T09:31:05.853Z"
   },
   {
    "duration": 0,
    "start_time": "2023-10-03T09:31:05.854Z"
   },
   {
    "duration": 0,
    "start_time": "2023-10-03T09:31:05.855Z"
   },
   {
    "duration": 0,
    "start_time": "2023-10-03T09:31:05.856Z"
   },
   {
    "duration": 0,
    "start_time": "2023-10-03T09:31:05.858Z"
   },
   {
    "duration": 0,
    "start_time": "2023-10-03T09:31:05.859Z"
   },
   {
    "duration": 0,
    "start_time": "2023-10-03T09:31:05.860Z"
   },
   {
    "duration": 0,
    "start_time": "2023-10-03T09:31:05.862Z"
   },
   {
    "duration": 1,
    "start_time": "2023-10-03T09:31:05.862Z"
   },
   {
    "duration": 0,
    "start_time": "2023-10-03T09:31:05.863Z"
   },
   {
    "duration": 0,
    "start_time": "2023-10-03T09:31:05.865Z"
   },
   {
    "duration": 0,
    "start_time": "2023-10-03T09:31:05.866Z"
   },
   {
    "duration": 0,
    "start_time": "2023-10-03T09:31:05.867Z"
   },
   {
    "duration": 0,
    "start_time": "2023-10-03T09:31:05.868Z"
   },
   {
    "duration": 2096,
    "start_time": "2023-10-03T09:32:51.538Z"
   },
   {
    "duration": 4,
    "start_time": "2023-10-03T09:32:53.636Z"
   },
   {
    "duration": 105,
    "start_time": "2023-10-03T09:32:53.642Z"
   },
   {
    "duration": 61,
    "start_time": "2023-10-03T09:32:53.750Z"
   },
   {
    "duration": 116,
    "start_time": "2023-10-03T09:32:53.813Z"
   },
   {
    "duration": 192,
    "start_time": "2023-10-03T09:32:53.932Z"
   },
   {
    "duration": 97,
    "start_time": "2023-10-03T09:32:54.126Z"
   },
   {
    "duration": 76,
    "start_time": "2023-10-03T09:32:54.225Z"
   },
   {
    "duration": 39,
    "start_time": "2023-10-03T09:32:54.303Z"
   },
   {
    "duration": 38,
    "start_time": "2023-10-03T09:32:54.344Z"
   },
   {
    "duration": 51,
    "start_time": "2023-10-03T09:32:54.384Z"
   },
   {
    "duration": 55,
    "start_time": "2023-10-03T09:32:54.437Z"
   },
   {
    "duration": 449,
    "start_time": "2023-10-03T09:32:54.494Z"
   },
   {
    "duration": 20,
    "start_time": "2023-10-03T09:32:54.945Z"
   },
   {
    "duration": 74,
    "start_time": "2023-10-03T09:32:54.967Z"
   },
   {
    "duration": 51,
    "start_time": "2023-10-03T09:32:55.042Z"
   },
   {
    "duration": 412,
    "start_time": "2023-10-03T09:32:55.094Z"
   },
   {
    "duration": 10,
    "start_time": "2023-10-03T09:32:55.507Z"
   },
   {
    "duration": 495,
    "start_time": "2023-10-03T09:32:55.519Z"
   },
   {
    "duration": 12,
    "start_time": "2023-10-03T09:32:56.016Z"
   },
   {
    "duration": 403,
    "start_time": "2023-10-03T09:32:56.031Z"
   },
   {
    "duration": 12,
    "start_time": "2023-10-03T09:32:56.436Z"
   },
   {
    "duration": 436,
    "start_time": "2023-10-03T09:32:56.450Z"
   },
   {
    "duration": 10,
    "start_time": "2023-10-03T09:32:56.889Z"
   },
   {
    "duration": 172,
    "start_time": "2023-10-03T09:32:56.911Z"
   },
   {
    "duration": 403,
    "start_time": "2023-10-03T09:32:57.085Z"
   },
   {
    "duration": 92,
    "start_time": "2023-10-03T09:32:57.490Z"
   },
   {
    "duration": 108,
    "start_time": "2023-10-03T09:32:57.588Z"
   },
   {
    "duration": 190,
    "start_time": "2023-10-03T09:32:57.709Z"
   },
   {
    "duration": 108,
    "start_time": "2023-10-03T09:32:57.901Z"
   },
   {
    "duration": 82,
    "start_time": "2023-10-03T09:32:58.012Z"
   },
   {
    "duration": 79,
    "start_time": "2023-10-03T09:32:58.109Z"
   },
   {
    "duration": 102,
    "start_time": "2023-10-03T09:32:58.190Z"
   },
   {
    "duration": 123,
    "start_time": "2023-10-03T09:32:58.294Z"
   },
   {
    "duration": 9,
    "start_time": "2023-10-03T09:32:58.418Z"
   },
   {
    "duration": 184,
    "start_time": "2023-10-03T09:32:58.429Z"
   },
   {
    "duration": 180,
    "start_time": "2023-10-03T09:32:58.616Z"
   },
   {
    "duration": 17,
    "start_time": "2023-10-03T09:32:58.798Z"
   },
   {
    "duration": 132,
    "start_time": "2023-10-03T09:32:58.816Z"
   },
   {
    "duration": 195,
    "start_time": "2023-10-03T09:32:58.950Z"
   },
   {
    "duration": 88,
    "start_time": "2023-10-03T09:32:59.147Z"
   },
   {
    "duration": 90,
    "start_time": "2023-10-03T09:32:59.237Z"
   },
   {
    "duration": 91,
    "start_time": "2023-10-03T09:32:59.328Z"
   },
   {
    "duration": 102,
    "start_time": "2023-10-03T09:32:59.421Z"
   },
   {
    "duration": 419,
    "start_time": "2023-10-03T09:32:59.524Z"
   },
   {
    "duration": 5,
    "start_time": "2023-10-03T09:32:59.944Z"
   },
   {
    "duration": 346,
    "start_time": "2023-10-03T09:32:59.951Z"
   },
   {
    "duration": 5,
    "start_time": "2023-10-03T09:33:00.299Z"
   },
   {
    "duration": 612,
    "start_time": "2023-10-03T09:33:00.310Z"
   },
   {
    "duration": 5,
    "start_time": "2023-10-03T09:33:00.924Z"
   },
   {
    "duration": 432,
    "start_time": "2023-10-03T09:33:00.931Z"
   },
   {
    "duration": 338,
    "start_time": "2023-10-03T09:33:01.366Z"
   },
   {
    "duration": 5,
    "start_time": "2023-10-03T09:33:01.709Z"
   },
   {
    "duration": 466,
    "start_time": "2023-10-03T09:33:01.716Z"
   },
   {
    "duration": 381,
    "start_time": "2023-10-03T09:33:02.185Z"
   },
   {
    "duration": 371,
    "start_time": "2023-10-03T09:33:02.569Z"
   },
   {
    "duration": 213,
    "start_time": "2023-10-03T09:33:02.943Z"
   },
   {
    "duration": 206,
    "start_time": "2023-10-03T09:33:03.159Z"
   },
   {
    "duration": 216,
    "start_time": "2023-10-03T09:33:03.368Z"
   },
   {
    "duration": 300,
    "start_time": "2023-10-03T09:33:03.585Z"
   },
   {
    "duration": 272,
    "start_time": "2023-10-03T09:33:03.888Z"
   },
   {
    "duration": 191,
    "start_time": "2023-10-03T09:33:04.162Z"
   },
   {
    "duration": 181,
    "start_time": "2023-10-03T09:33:04.355Z"
   },
   {
    "duration": 289,
    "start_time": "2023-10-03T09:33:04.538Z"
   },
   {
    "duration": 285,
    "start_time": "2023-10-03T09:33:04.829Z"
   },
   {
    "duration": 4,
    "start_time": "2023-10-03T09:33:05.116Z"
   },
   {
    "duration": 45,
    "start_time": "2023-10-03T09:33:05.122Z"
   },
   {
    "duration": 287,
    "start_time": "2023-10-03T09:33:05.169Z"
   },
   {
    "duration": 469,
    "start_time": "2023-10-03T09:33:05.457Z"
   },
   {
    "duration": 12,
    "start_time": "2023-10-03T09:33:05.928Z"
   },
   {
    "duration": 463,
    "start_time": "2023-10-03T09:33:05.942Z"
   },
   {
    "duration": 8,
    "start_time": "2023-10-03T09:33:06.410Z"
   },
   {
    "duration": 186,
    "start_time": "2023-10-03T09:33:06.420Z"
   },
   {
    "duration": 44,
    "start_time": "2023-10-03T09:33:06.609Z"
   },
   {
    "duration": 63,
    "start_time": "2023-10-03T09:33:06.655Z"
   },
   {
    "duration": 45,
    "start_time": "2023-10-03T09:33:06.720Z"
   },
   {
    "duration": 69,
    "start_time": "2023-10-03T09:33:06.766Z"
   },
   {
    "duration": 49,
    "start_time": "2023-10-03T09:33:06.837Z"
   },
   {
    "duration": 44,
    "start_time": "2023-10-03T09:33:06.887Z"
   },
   {
    "duration": 50,
    "start_time": "2023-10-03T09:33:06.933Z"
   },
   {
    "duration": 78,
    "start_time": "2023-10-03T09:33:06.986Z"
   },
   {
    "duration": 53,
    "start_time": "2023-10-03T09:33:07.070Z"
   },
   {
    "duration": 53,
    "start_time": "2023-10-03T09:33:07.124Z"
   },
   {
    "duration": 58,
    "start_time": "2023-10-03T09:33:07.179Z"
   },
   {
    "duration": 455,
    "start_time": "2023-10-03T09:33:07.239Z"
   },
   {
    "duration": 6,
    "start_time": "2023-10-03T09:33:07.695Z"
   },
   {
    "duration": 19,
    "start_time": "2023-10-03T09:33:07.710Z"
   },
   {
    "duration": 92,
    "start_time": "2023-10-03T09:33:07.731Z"
   },
   {
    "duration": 49,
    "start_time": "2023-10-03T09:33:07.825Z"
   },
   {
    "duration": 64,
    "start_time": "2023-10-03T09:33:07.876Z"
   },
   {
    "duration": 79,
    "start_time": "2023-10-03T09:33:07.942Z"
   },
   {
    "duration": 35,
    "start_time": "2023-10-03T09:33:08.023Z"
   },
   {
    "duration": 64,
    "start_time": "2023-10-03T09:33:08.060Z"
   },
   {
    "duration": 331,
    "start_time": "2023-10-03T09:33:08.125Z"
   },
   {
    "duration": 131,
    "start_time": "2023-10-03T09:33:08.458Z"
   },
   {
    "duration": 0,
    "start_time": "2023-10-03T09:33:08.591Z"
   },
   {
    "duration": 0,
    "start_time": "2023-10-03T09:33:08.593Z"
   },
   {
    "duration": 0,
    "start_time": "2023-10-03T09:33:08.610Z"
   },
   {
    "duration": 0,
    "start_time": "2023-10-03T09:33:08.613Z"
   },
   {
    "duration": 1,
    "start_time": "2023-10-03T09:33:08.614Z"
   },
   {
    "duration": 0,
    "start_time": "2023-10-03T09:33:08.616Z"
   },
   {
    "duration": 0,
    "start_time": "2023-10-03T09:33:08.617Z"
   },
   {
    "duration": 0,
    "start_time": "2023-10-03T09:33:08.619Z"
   },
   {
    "duration": 0,
    "start_time": "2023-10-03T09:33:08.620Z"
   },
   {
    "duration": 0,
    "start_time": "2023-10-03T09:33:08.621Z"
   },
   {
    "duration": 0,
    "start_time": "2023-10-03T09:33:08.623Z"
   },
   {
    "duration": 0,
    "start_time": "2023-10-03T09:33:08.624Z"
   },
   {
    "duration": 0,
    "start_time": "2023-10-03T09:33:08.626Z"
   },
   {
    "duration": 0,
    "start_time": "2023-10-03T09:33:08.627Z"
   },
   {
    "duration": 0,
    "start_time": "2023-10-03T09:33:08.628Z"
   },
   {
    "duration": 0,
    "start_time": "2023-10-03T09:33:08.629Z"
   },
   {
    "duration": 1,
    "start_time": "2023-10-03T09:33:08.630Z"
   },
   {
    "duration": 0,
    "start_time": "2023-10-03T09:33:08.632Z"
   },
   {
    "duration": 0,
    "start_time": "2023-10-03T09:33:08.634Z"
   },
   {
    "duration": 0,
    "start_time": "2023-10-03T09:33:08.635Z"
   }
  ],
  "kernelspec": {
   "display_name": "Python 3",
   "language": "python",
   "name": "python3"
  },
  "language_info": {
   "codemirror_mode": {
    "name": "ipython",
    "version": 3
   },
   "file_extension": ".py",
   "mimetype": "text/x-python",
   "name": "python",
   "nbconvert_exporter": "python",
   "pygments_lexer": "ipython3",
   "version": "3.8.8"
  },
  "toc": {
   "base_numbering": 1,
   "nav_menu": {},
   "number_sections": false,
   "sideBar": true,
   "skip_h1_title": false,
   "title_cell": "Table of Contents",
   "title_sidebar": "Contents",
   "toc_cell": false,
   "toc_position": {},
   "toc_section_display": true,
   "toc_window_display": false
  },
  "varInspector": {
   "cols": {
    "lenName": 16,
    "lenType": 16,
    "lenVar": 40
   },
   "kernels_config": {
    "python": {
     "delete_cmd_postfix": "",
     "delete_cmd_prefix": "del ",
     "library": "var_list.py",
     "varRefreshCmd": "print(var_dic_list())"
    },
    "r": {
     "delete_cmd_postfix": ") ",
     "delete_cmd_prefix": "rm(",
     "library": "var_list.r",
     "varRefreshCmd": "cat(var_dic_list()) "
    }
   },
   "types_to_exclude": [
    "module",
    "function",
    "builtin_function_or_method",
    "instance",
    "_Feature"
   ],
   "window_display": false
  }
 },
 "nbformat": 4,
 "nbformat_minor": 5
}
